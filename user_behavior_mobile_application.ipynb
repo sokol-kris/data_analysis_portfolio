{
 "cells": [
  {
   "cell_type": "markdown",
   "metadata": {},
   "source": [
    "# Анализ поведения пользователей в мобильном приложении \"Ненужные вещи\""
   ]
  },
  {
   "cell_type": "markdown",
   "metadata": {},
   "source": [
    "## Введение"
   ]
  },
  {
   "cell_type": "markdown",
   "metadata": {},
   "source": [
    "**Цель исследования:**\n",
    "\n",
    "Предоставить product-менеджеру анализ поведения пользователей на основе выделения основных сценариев использования приложения с целью дальнейшей сегментации пользователей. Дальнейшая работа заказчика будет заключаться в проверке гипотез для увеличения вовлеченности пользователей, улучшения функционала приложения и повышения конверсии в целевое действие - *просмотр контактов*."
   ]
  },
  {
   "cell_type": "markdown",
   "metadata": {},
   "source": [
    "**Данные:**\n",
    "\n",
    "Датасет содержит данные о событиях, совершенных в мобильном приложении \"Ненужные вещи\". В нем пользователи продают свои ненужные вещи, размещая их на доске объявлений.\n",
    "В датасете содержатся данные пользователей, впервые совершивших действия в приложении после 7 октября 2019 года.\n",
    "\n",
    "Колонки в `/datasets/mobile_sources.csv`:\n",
    "- *userId* — идентификатор пользователя,\n",
    "- *source* — источник, с которого пользователь установил приложение.\n",
    "\n",
    "Колонки в `/datasets/mobile_dataset.csv`:\n",
    "- *event.time* — время совершения,\n",
    "- *user.id* — идентификатор пользователя,\n",
    "- *event.name* — действие пользователя.\n",
    "\n",
    "Виды действий:\n",
    "- *advert_open* — открыл карточки объявления,\n",
    "- *photos_show* — просмотрел фотографий в объявлении,\n",
    "- *tips_show* — увидел рекомендованные объявления,\n",
    "- *tips_click* — кликнул по рекомендованному объявлению,\n",
    "- *contacts_show* и *show_contacts* — посмотрел номер телефона,\n",
    "- *contacts_call* — позвонил по номеру из объявления,\n",
    "- *map* — открыл карту объявлений,\n",
    "- *search_1 — search_7* — разные действия, связанные с поиском по сайту,\n",
    "- *favorites_add* — добавил объявление в избранное."
   ]
  },
  {
   "cell_type": "markdown",
   "metadata": {},
   "source": [
    "**Для выполнения проекта будут проведены следующие этапы работы:**\n",
    "\n",
    "1. Введение в проект\n",
    "2. Загрузка данных\n",
    "3. Предобработка данных\n",
    "    - проверка на корректность наименований колонок\n",
    "    - преобразование типов данных\n",
    "    - проверка на дубликаты\n",
    "    - проверка на пропуски в данных    \n",
    "4. Исследовательский анализ данных\n",
    "    - профили пользователей\n",
    "    - анализ популярности источников установки приложения\n",
    "    - соотношение пользователей хоть раз выполнявших целевое действие к тем, кто его ни разу не выполнял\n",
    "    - связь источников установки и выполнения целевого действия\n",
    "    - пользовательские сессии\n",
    "    - конверсия пользователей с разбивкой по выполнению целевого действия\n",
    "    - удержание пользователей с разбивкой по выполнению целевого действия\n",
    "5. Основные вопросы исследования\n",
    "    - анализ связи целевого события — просмотра контактов — и других действий пользователей:    \n",
    "        - отбор сценариев, которые приводят к просмотру контактов\n",
    "        - воронки по основным сценариям в разрезе уникальных пользователей                \n",
    "    - оценка действий пользователей, выполняющий целевое действие:\n",
    "        - относительная частота событий в разрезе двух групп пользователей: смотревших и несмотревших контакты `contacts_show`\n",
    "    - проверка гипотез:\n",
    "        - конверсия в просмотры контактов различается у групп пользователей, совершивших действия `tips_show` и `tips_click` , и совершивших только `tips_show`\n",
    "        - конверсия в просмотры контактов одинакова у пользователей, совершивших действия `photos_show` и `favorites_add` и у пользователей совершивших только `photos_show`\n",
    "6. Общий вывод и рекомендации по результатам исследования    "
   ]
  },
  {
   "cell_type": "markdown",
   "metadata": {},
   "source": [
    "## Загрузка данных"
   ]
  },
  {
   "cell_type": "code",
   "execution_count": 7,
   "metadata": {},
   "outputs": [],
   "source": [
    "# импорт библиотек\n",
    "\n",
    "import pandas as pd\n",
    "import matplotlib.pyplot as plt\n",
    "import plotly.express as px\n",
    "import numpy as np\n",
    "from datetime import datetime, timedelta\n",
    "from tqdm import tqdm\n",
    "from plotly import graph_objects as go\n",
    "import math as mth\n",
    "import scipy.stats as st\n",
    "import warnings\n",
    "warnings.simplefilter(\"ignore\")"
   ]
  },
  {
   "cell_type": "markdown",
   "metadata": {},
   "source": [
    "Запишем данные о пользователях и источниках установки приложения в датафрейм `dt_sources`, а данные с действиями пользователей в датафрейм `dt_events` и подготовим их к анализу:"
   ]
  },
  {
   "cell_type": "code",
   "execution_count": 9,
   "metadata": {},
   "outputs": [],
   "source": [
    "dt_sources = pd.read_csv('https://code.s3.yandex.net/datasets/mobile_sources.csv')\n",
    "dt_events = pd.read_csv('https://code.s3.yandex.net/datasets/mobile_dataset.csv')"
   ]
  },
  {
   "cell_type": "code",
   "execution_count": 10,
   "metadata": {},
   "outputs": [],
   "source": [
    "# создадим функцию для первичной обработки данных (вывод общей информации)\n",
    "\n",
    "def research(data):\n",
    "    display(data.head(10))                                       # вывод первых строк датафрейма\n",
    "    print('*' * 50)                                              # разделитель\n",
    "    data.info()                                                  # вывод общей информации о датафрейме\n",
    "    print('*' * 50, '\\n\\033[1m Количество полных дублей: \\033[0m', \n",
    "            data.duplicated().sum())                             # проверка на полные дубликаты\n",
    "    print('*' * 50)\n",
    "    display(data.describe())                                     # описание распределения численных значений\n",
    "    print('*' * 50)\n",
    "    \n",
    "    for x in data.columns:\n",
    "        display(data[x].value_counts().to_frame())               # распределение значений в каждом столбце"
   ]
  },
  {
   "cell_type": "markdown",
   "metadata": {},
   "source": [
    "Обратимся к функции и изучим общую информацию о датафреймах:"
   ]
  },
  {
   "cell_type": "code",
   "execution_count": 12,
   "metadata": {},
   "outputs": [
    {
     "data": {
      "text/html": [
       "<div>\n",
       "<style scoped>\n",
       "    .dataframe tbody tr th:only-of-type {\n",
       "        vertical-align: middle;\n",
       "    }\n",
       "\n",
       "    .dataframe tbody tr th {\n",
       "        vertical-align: top;\n",
       "    }\n",
       "\n",
       "    .dataframe thead th {\n",
       "        text-align: right;\n",
       "    }\n",
       "</style>\n",
       "<table border=\"1\" class=\"dataframe\">\n",
       "  <thead>\n",
       "    <tr style=\"text-align: right;\">\n",
       "      <th></th>\n",
       "      <th>userId</th>\n",
       "      <th>source</th>\n",
       "    </tr>\n",
       "  </thead>\n",
       "  <tbody>\n",
       "    <tr>\n",
       "      <th>0</th>\n",
       "      <td>020292ab-89bc-4156-9acf-68bc2783f894</td>\n",
       "      <td>other</td>\n",
       "    </tr>\n",
       "    <tr>\n",
       "      <th>1</th>\n",
       "      <td>cf7eda61-9349-469f-ac27-e5b6f5ec475c</td>\n",
       "      <td>yandex</td>\n",
       "    </tr>\n",
       "    <tr>\n",
       "      <th>2</th>\n",
       "      <td>8c356c42-3ba9-4cb6-80b8-3f868d0192c3</td>\n",
       "      <td>yandex</td>\n",
       "    </tr>\n",
       "    <tr>\n",
       "      <th>3</th>\n",
       "      <td>d9b06b47-0f36-419b-bbb0-3533e582a6cb</td>\n",
       "      <td>other</td>\n",
       "    </tr>\n",
       "    <tr>\n",
       "      <th>4</th>\n",
       "      <td>f32e1e2a-3027-4693-b793-b7b3ff274439</td>\n",
       "      <td>google</td>\n",
       "    </tr>\n",
       "    <tr>\n",
       "      <th>5</th>\n",
       "      <td>17f6b2db-2964-4d11-89d8-7e38d2cb4750</td>\n",
       "      <td>yandex</td>\n",
       "    </tr>\n",
       "    <tr>\n",
       "      <th>6</th>\n",
       "      <td>62aa104f-592d-4ccb-8226-2ba0e719ded5</td>\n",
       "      <td>yandex</td>\n",
       "    </tr>\n",
       "    <tr>\n",
       "      <th>7</th>\n",
       "      <td>57321726-5d66-4d51-84f4-c797c35dcf2b</td>\n",
       "      <td>google</td>\n",
       "    </tr>\n",
       "    <tr>\n",
       "      <th>8</th>\n",
       "      <td>c2cf55c0-95f7-4269-896c-931d14deaab5</td>\n",
       "      <td>google</td>\n",
       "    </tr>\n",
       "    <tr>\n",
       "      <th>9</th>\n",
       "      <td>48e614d6-fe03-40f7-bf9e-4c4f61c19f64</td>\n",
       "      <td>yandex</td>\n",
       "    </tr>\n",
       "  </tbody>\n",
       "</table>\n",
       "</div>"
      ],
      "text/plain": [
       "                                 userId  source\n",
       "0  020292ab-89bc-4156-9acf-68bc2783f894   other\n",
       "1  cf7eda61-9349-469f-ac27-e5b6f5ec475c  yandex\n",
       "2  8c356c42-3ba9-4cb6-80b8-3f868d0192c3  yandex\n",
       "3  d9b06b47-0f36-419b-bbb0-3533e582a6cb   other\n",
       "4  f32e1e2a-3027-4693-b793-b7b3ff274439  google\n",
       "5  17f6b2db-2964-4d11-89d8-7e38d2cb4750  yandex\n",
       "6  62aa104f-592d-4ccb-8226-2ba0e719ded5  yandex\n",
       "7  57321726-5d66-4d51-84f4-c797c35dcf2b  google\n",
       "8  c2cf55c0-95f7-4269-896c-931d14deaab5  google\n",
       "9  48e614d6-fe03-40f7-bf9e-4c4f61c19f64  yandex"
      ]
     },
     "metadata": {},
     "output_type": "display_data"
    },
    {
     "name": "stdout",
     "output_type": "stream",
     "text": [
      "**************************************************\n",
      "<class 'pandas.core.frame.DataFrame'>\n",
      "RangeIndex: 4293 entries, 0 to 4292\n",
      "Data columns (total 2 columns):\n",
      " #   Column  Non-Null Count  Dtype \n",
      "---  ------  --------------  ----- \n",
      " 0   userId  4293 non-null   object\n",
      " 1   source  4293 non-null   object\n",
      "dtypes: object(2)\n",
      "memory usage: 67.2+ KB\n",
      "************************************************** \n",
      "\u001b[1m Количество полных дублей: \u001b[0m 0\n",
      "**************************************************\n"
     ]
    },
    {
     "data": {
      "text/html": [
       "<div>\n",
       "<style scoped>\n",
       "    .dataframe tbody tr th:only-of-type {\n",
       "        vertical-align: middle;\n",
       "    }\n",
       "\n",
       "    .dataframe tbody tr th {\n",
       "        vertical-align: top;\n",
       "    }\n",
       "\n",
       "    .dataframe thead th {\n",
       "        text-align: right;\n",
       "    }\n",
       "</style>\n",
       "<table border=\"1\" class=\"dataframe\">\n",
       "  <thead>\n",
       "    <tr style=\"text-align: right;\">\n",
       "      <th></th>\n",
       "      <th>userId</th>\n",
       "      <th>source</th>\n",
       "    </tr>\n",
       "  </thead>\n",
       "  <tbody>\n",
       "    <tr>\n",
       "      <th>count</th>\n",
       "      <td>4293</td>\n",
       "      <td>4293</td>\n",
       "    </tr>\n",
       "    <tr>\n",
       "      <th>unique</th>\n",
       "      <td>4293</td>\n",
       "      <td>3</td>\n",
       "    </tr>\n",
       "    <tr>\n",
       "      <th>top</th>\n",
       "      <td>020292ab-89bc-4156-9acf-68bc2783f894</td>\n",
       "      <td>yandex</td>\n",
       "    </tr>\n",
       "    <tr>\n",
       "      <th>freq</th>\n",
       "      <td>1</td>\n",
       "      <td>1934</td>\n",
       "    </tr>\n",
       "  </tbody>\n",
       "</table>\n",
       "</div>"
      ],
      "text/plain": [
       "                                      userId  source\n",
       "count                                   4293    4293\n",
       "unique                                  4293       3\n",
       "top     020292ab-89bc-4156-9acf-68bc2783f894  yandex\n",
       "freq                                       1    1934"
      ]
     },
     "metadata": {},
     "output_type": "display_data"
    },
    {
     "name": "stdout",
     "output_type": "stream",
     "text": [
      "**************************************************\n"
     ]
    },
    {
     "data": {
      "text/html": [
       "<div>\n",
       "<style scoped>\n",
       "    .dataframe tbody tr th:only-of-type {\n",
       "        vertical-align: middle;\n",
       "    }\n",
       "\n",
       "    .dataframe tbody tr th {\n",
       "        vertical-align: top;\n",
       "    }\n",
       "\n",
       "    .dataframe thead th {\n",
       "        text-align: right;\n",
       "    }\n",
       "</style>\n",
       "<table border=\"1\" class=\"dataframe\">\n",
       "  <thead>\n",
       "    <tr style=\"text-align: right;\">\n",
       "      <th></th>\n",
       "      <th>count</th>\n",
       "    </tr>\n",
       "    <tr>\n",
       "      <th>userId</th>\n",
       "      <th></th>\n",
       "    </tr>\n",
       "  </thead>\n",
       "  <tbody>\n",
       "    <tr>\n",
       "      <th>020292ab-89bc-4156-9acf-68bc2783f894</th>\n",
       "      <td>1</td>\n",
       "    </tr>\n",
       "    <tr>\n",
       "      <th>269e6d1d-5300-4966-8289-77274c30bd9c</th>\n",
       "      <td>1</td>\n",
       "    </tr>\n",
       "    <tr>\n",
       "      <th>9b4a420e-70f3-4330-a753-bd7d09d5eb5f</th>\n",
       "      <td>1</td>\n",
       "    </tr>\n",
       "    <tr>\n",
       "      <th>b378870a-606b-4b7b-a98e-29becfe330ea</th>\n",
       "      <td>1</td>\n",
       "    </tr>\n",
       "    <tr>\n",
       "      <th>ca8b6f37-479a-4943-9670-e5357cc406c8</th>\n",
       "      <td>1</td>\n",
       "    </tr>\n",
       "    <tr>\n",
       "      <th>...</th>\n",
       "      <td>...</td>\n",
       "    </tr>\n",
       "    <tr>\n",
       "      <th>e5f5b486-b655-40e8-9b3a-ead066e829b6</th>\n",
       "      <td>1</td>\n",
       "    </tr>\n",
       "    <tr>\n",
       "      <th>7281558e-9f74-48d5-bc28-b2d0ed80ae8e</th>\n",
       "      <td>1</td>\n",
       "    </tr>\n",
       "    <tr>\n",
       "      <th>e8b97fc1-b65d-4c2d-bed0-46910bc2ca8e</th>\n",
       "      <td>1</td>\n",
       "    </tr>\n",
       "    <tr>\n",
       "      <th>082fdad3-ec9a-48f6-89c8-ecd28bbc09e0</th>\n",
       "      <td>1</td>\n",
       "    </tr>\n",
       "    <tr>\n",
       "      <th>d157bffc-264d-4464-8220-1cc0c42f43a9</th>\n",
       "      <td>1</td>\n",
       "    </tr>\n",
       "  </tbody>\n",
       "</table>\n",
       "<p>4293 rows × 1 columns</p>\n",
       "</div>"
      ],
      "text/plain": [
       "                                      count\n",
       "userId                                     \n",
       "020292ab-89bc-4156-9acf-68bc2783f894      1\n",
       "269e6d1d-5300-4966-8289-77274c30bd9c      1\n",
       "9b4a420e-70f3-4330-a753-bd7d09d5eb5f      1\n",
       "b378870a-606b-4b7b-a98e-29becfe330ea      1\n",
       "ca8b6f37-479a-4943-9670-e5357cc406c8      1\n",
       "...                                     ...\n",
       "e5f5b486-b655-40e8-9b3a-ead066e829b6      1\n",
       "7281558e-9f74-48d5-bc28-b2d0ed80ae8e      1\n",
       "e8b97fc1-b65d-4c2d-bed0-46910bc2ca8e      1\n",
       "082fdad3-ec9a-48f6-89c8-ecd28bbc09e0      1\n",
       "d157bffc-264d-4464-8220-1cc0c42f43a9      1\n",
       "\n",
       "[4293 rows x 1 columns]"
      ]
     },
     "metadata": {},
     "output_type": "display_data"
    },
    {
     "data": {
      "text/html": [
       "<div>\n",
       "<style scoped>\n",
       "    .dataframe tbody tr th:only-of-type {\n",
       "        vertical-align: middle;\n",
       "    }\n",
       "\n",
       "    .dataframe tbody tr th {\n",
       "        vertical-align: top;\n",
       "    }\n",
       "\n",
       "    .dataframe thead th {\n",
       "        text-align: right;\n",
       "    }\n",
       "</style>\n",
       "<table border=\"1\" class=\"dataframe\">\n",
       "  <thead>\n",
       "    <tr style=\"text-align: right;\">\n",
       "      <th></th>\n",
       "      <th>count</th>\n",
       "    </tr>\n",
       "    <tr>\n",
       "      <th>source</th>\n",
       "      <th></th>\n",
       "    </tr>\n",
       "  </thead>\n",
       "  <tbody>\n",
       "    <tr>\n",
       "      <th>yandex</th>\n",
       "      <td>1934</td>\n",
       "    </tr>\n",
       "    <tr>\n",
       "      <th>other</th>\n",
       "      <td>1230</td>\n",
       "    </tr>\n",
       "    <tr>\n",
       "      <th>google</th>\n",
       "      <td>1129</td>\n",
       "    </tr>\n",
       "  </tbody>\n",
       "</table>\n",
       "</div>"
      ],
      "text/plain": [
       "        count\n",
       "source       \n",
       "yandex   1934\n",
       "other    1230\n",
       "google   1129"
      ]
     },
     "metadata": {},
     "output_type": "display_data"
    }
   ],
   "source": [
    "research(dt_sources)"
   ]
  },
  {
   "cell_type": "markdown",
   "metadata": {},
   "source": [
    "В датафрейме с источником установки приложений пользователями нет полных дубликатов и пропусков. Наиболее популярным источником привлечения пользователей является `yandex`."
   ]
  },
  {
   "cell_type": "code",
   "execution_count": 14,
   "metadata": {
    "scrolled": true
   },
   "outputs": [
    {
     "data": {
      "text/html": [
       "<div>\n",
       "<style scoped>\n",
       "    .dataframe tbody tr th:only-of-type {\n",
       "        vertical-align: middle;\n",
       "    }\n",
       "\n",
       "    .dataframe tbody tr th {\n",
       "        vertical-align: top;\n",
       "    }\n",
       "\n",
       "    .dataframe thead th {\n",
       "        text-align: right;\n",
       "    }\n",
       "</style>\n",
       "<table border=\"1\" class=\"dataframe\">\n",
       "  <thead>\n",
       "    <tr style=\"text-align: right;\">\n",
       "      <th></th>\n",
       "      <th>event.time</th>\n",
       "      <th>event.name</th>\n",
       "      <th>user.id</th>\n",
       "    </tr>\n",
       "  </thead>\n",
       "  <tbody>\n",
       "    <tr>\n",
       "      <th>0</th>\n",
       "      <td>2019-10-07 00:00:00.431357</td>\n",
       "      <td>advert_open</td>\n",
       "      <td>020292ab-89bc-4156-9acf-68bc2783f894</td>\n",
       "    </tr>\n",
       "    <tr>\n",
       "      <th>1</th>\n",
       "      <td>2019-10-07 00:00:01.236320</td>\n",
       "      <td>tips_show</td>\n",
       "      <td>020292ab-89bc-4156-9acf-68bc2783f894</td>\n",
       "    </tr>\n",
       "    <tr>\n",
       "      <th>2</th>\n",
       "      <td>2019-10-07 00:00:02.245341</td>\n",
       "      <td>tips_show</td>\n",
       "      <td>cf7eda61-9349-469f-ac27-e5b6f5ec475c</td>\n",
       "    </tr>\n",
       "    <tr>\n",
       "      <th>3</th>\n",
       "      <td>2019-10-07 00:00:07.039334</td>\n",
       "      <td>tips_show</td>\n",
       "      <td>020292ab-89bc-4156-9acf-68bc2783f894</td>\n",
       "    </tr>\n",
       "    <tr>\n",
       "      <th>4</th>\n",
       "      <td>2019-10-07 00:00:56.319813</td>\n",
       "      <td>advert_open</td>\n",
       "      <td>cf7eda61-9349-469f-ac27-e5b6f5ec475c</td>\n",
       "    </tr>\n",
       "    <tr>\n",
       "      <th>5</th>\n",
       "      <td>2019-10-07 00:01:19.993624</td>\n",
       "      <td>tips_show</td>\n",
       "      <td>cf7eda61-9349-469f-ac27-e5b6f5ec475c</td>\n",
       "    </tr>\n",
       "    <tr>\n",
       "      <th>6</th>\n",
       "      <td>2019-10-07 00:01:27.770232</td>\n",
       "      <td>advert_open</td>\n",
       "      <td>020292ab-89bc-4156-9acf-68bc2783f894</td>\n",
       "    </tr>\n",
       "    <tr>\n",
       "      <th>7</th>\n",
       "      <td>2019-10-07 00:01:34.804591</td>\n",
       "      <td>tips_show</td>\n",
       "      <td>020292ab-89bc-4156-9acf-68bc2783f894</td>\n",
       "    </tr>\n",
       "    <tr>\n",
       "      <th>8</th>\n",
       "      <td>2019-10-07 00:01:49.732803</td>\n",
       "      <td>advert_open</td>\n",
       "      <td>cf7eda61-9349-469f-ac27-e5b6f5ec475c</td>\n",
       "    </tr>\n",
       "    <tr>\n",
       "      <th>9</th>\n",
       "      <td>2019-10-07 00:01:54.958298</td>\n",
       "      <td>advert_open</td>\n",
       "      <td>020292ab-89bc-4156-9acf-68bc2783f894</td>\n",
       "    </tr>\n",
       "  </tbody>\n",
       "</table>\n",
       "</div>"
      ],
      "text/plain": [
       "                   event.time   event.name  \\\n",
       "0  2019-10-07 00:00:00.431357  advert_open   \n",
       "1  2019-10-07 00:00:01.236320    tips_show   \n",
       "2  2019-10-07 00:00:02.245341    tips_show   \n",
       "3  2019-10-07 00:00:07.039334    tips_show   \n",
       "4  2019-10-07 00:00:56.319813  advert_open   \n",
       "5  2019-10-07 00:01:19.993624    tips_show   \n",
       "6  2019-10-07 00:01:27.770232  advert_open   \n",
       "7  2019-10-07 00:01:34.804591    tips_show   \n",
       "8  2019-10-07 00:01:49.732803  advert_open   \n",
       "9  2019-10-07 00:01:54.958298  advert_open   \n",
       "\n",
       "                                user.id  \n",
       "0  020292ab-89bc-4156-9acf-68bc2783f894  \n",
       "1  020292ab-89bc-4156-9acf-68bc2783f894  \n",
       "2  cf7eda61-9349-469f-ac27-e5b6f5ec475c  \n",
       "3  020292ab-89bc-4156-9acf-68bc2783f894  \n",
       "4  cf7eda61-9349-469f-ac27-e5b6f5ec475c  \n",
       "5  cf7eda61-9349-469f-ac27-e5b6f5ec475c  \n",
       "6  020292ab-89bc-4156-9acf-68bc2783f894  \n",
       "7  020292ab-89bc-4156-9acf-68bc2783f894  \n",
       "8  cf7eda61-9349-469f-ac27-e5b6f5ec475c  \n",
       "9  020292ab-89bc-4156-9acf-68bc2783f894  "
      ]
     },
     "metadata": {},
     "output_type": "display_data"
    },
    {
     "name": "stdout",
     "output_type": "stream",
     "text": [
      "**************************************************\n",
      "<class 'pandas.core.frame.DataFrame'>\n",
      "RangeIndex: 74197 entries, 0 to 74196\n",
      "Data columns (total 3 columns):\n",
      " #   Column      Non-Null Count  Dtype \n",
      "---  ------      --------------  ----- \n",
      " 0   event.time  74197 non-null  object\n",
      " 1   event.name  74197 non-null  object\n",
      " 2   user.id     74197 non-null  object\n",
      "dtypes: object(3)\n",
      "memory usage: 1.7+ MB\n",
      "************************************************** \n",
      "\u001b[1m Количество полных дублей: \u001b[0m 0\n",
      "**************************************************\n"
     ]
    },
    {
     "data": {
      "text/html": [
       "<div>\n",
       "<style scoped>\n",
       "    .dataframe tbody tr th:only-of-type {\n",
       "        vertical-align: middle;\n",
       "    }\n",
       "\n",
       "    .dataframe tbody tr th {\n",
       "        vertical-align: top;\n",
       "    }\n",
       "\n",
       "    .dataframe thead th {\n",
       "        text-align: right;\n",
       "    }\n",
       "</style>\n",
       "<table border=\"1\" class=\"dataframe\">\n",
       "  <thead>\n",
       "    <tr style=\"text-align: right;\">\n",
       "      <th></th>\n",
       "      <th>event.time</th>\n",
       "      <th>event.name</th>\n",
       "      <th>user.id</th>\n",
       "    </tr>\n",
       "  </thead>\n",
       "  <tbody>\n",
       "    <tr>\n",
       "      <th>count</th>\n",
       "      <td>74197</td>\n",
       "      <td>74197</td>\n",
       "      <td>74197</td>\n",
       "    </tr>\n",
       "    <tr>\n",
       "      <th>unique</th>\n",
       "      <td>74197</td>\n",
       "      <td>16</td>\n",
       "      <td>4293</td>\n",
       "    </tr>\n",
       "    <tr>\n",
       "      <th>top</th>\n",
       "      <td>2019-10-07 00:00:00.431357</td>\n",
       "      <td>tips_show</td>\n",
       "      <td>cb36854f-570a-41f4-baa8-36680b396370</td>\n",
       "    </tr>\n",
       "    <tr>\n",
       "      <th>freq</th>\n",
       "      <td>1</td>\n",
       "      <td>40055</td>\n",
       "      <td>478</td>\n",
       "    </tr>\n",
       "  </tbody>\n",
       "</table>\n",
       "</div>"
      ],
      "text/plain": [
       "                        event.time event.name  \\\n",
       "count                        74197      74197   \n",
       "unique                       74197         16   \n",
       "top     2019-10-07 00:00:00.431357  tips_show   \n",
       "freq                             1      40055   \n",
       "\n",
       "                                     user.id  \n",
       "count                                  74197  \n",
       "unique                                  4293  \n",
       "top     cb36854f-570a-41f4-baa8-36680b396370  \n",
       "freq                                     478  "
      ]
     },
     "metadata": {},
     "output_type": "display_data"
    },
    {
     "name": "stdout",
     "output_type": "stream",
     "text": [
      "**************************************************\n"
     ]
    },
    {
     "data": {
      "text/html": [
       "<div>\n",
       "<style scoped>\n",
       "    .dataframe tbody tr th:only-of-type {\n",
       "        vertical-align: middle;\n",
       "    }\n",
       "\n",
       "    .dataframe tbody tr th {\n",
       "        vertical-align: top;\n",
       "    }\n",
       "\n",
       "    .dataframe thead th {\n",
       "        text-align: right;\n",
       "    }\n",
       "</style>\n",
       "<table border=\"1\" class=\"dataframe\">\n",
       "  <thead>\n",
       "    <tr style=\"text-align: right;\">\n",
       "      <th></th>\n",
       "      <th>count</th>\n",
       "    </tr>\n",
       "    <tr>\n",
       "      <th>event.time</th>\n",
       "      <th></th>\n",
       "    </tr>\n",
       "  </thead>\n",
       "  <tbody>\n",
       "    <tr>\n",
       "      <th>2019-10-07 00:00:00.431357</th>\n",
       "      <td>1</td>\n",
       "    </tr>\n",
       "    <tr>\n",
       "      <th>2019-10-26 11:50:24.060074</th>\n",
       "      <td>1</td>\n",
       "    </tr>\n",
       "    <tr>\n",
       "      <th>2019-10-26 12:04:05.811590</th>\n",
       "      <td>1</td>\n",
       "    </tr>\n",
       "    <tr>\n",
       "      <th>2019-10-26 12:03:25.793526</th>\n",
       "      <td>1</td>\n",
       "    </tr>\n",
       "    <tr>\n",
       "      <th>2019-10-26 12:03:12.294597</th>\n",
       "      <td>1</td>\n",
       "    </tr>\n",
       "    <tr>\n",
       "      <th>...</th>\n",
       "      <td>...</td>\n",
       "    </tr>\n",
       "    <tr>\n",
       "      <th>2019-10-17 09:55:09.185712</th>\n",
       "      <td>1</td>\n",
       "    </tr>\n",
       "    <tr>\n",
       "      <th>2019-10-17 09:55:06.121108</th>\n",
       "      <td>1</td>\n",
       "    </tr>\n",
       "    <tr>\n",
       "      <th>2019-10-17 09:55:03.447186</th>\n",
       "      <td>1</td>\n",
       "    </tr>\n",
       "    <tr>\n",
       "      <th>2019-10-17 09:54:59.477736</th>\n",
       "      <td>1</td>\n",
       "    </tr>\n",
       "    <tr>\n",
       "      <th>2019-11-03 23:58:12.532487</th>\n",
       "      <td>1</td>\n",
       "    </tr>\n",
       "  </tbody>\n",
       "</table>\n",
       "<p>74197 rows × 1 columns</p>\n",
       "</div>"
      ],
      "text/plain": [
       "                            count\n",
       "event.time                       \n",
       "2019-10-07 00:00:00.431357      1\n",
       "2019-10-26 11:50:24.060074      1\n",
       "2019-10-26 12:04:05.811590      1\n",
       "2019-10-26 12:03:25.793526      1\n",
       "2019-10-26 12:03:12.294597      1\n",
       "...                           ...\n",
       "2019-10-17 09:55:09.185712      1\n",
       "2019-10-17 09:55:06.121108      1\n",
       "2019-10-17 09:55:03.447186      1\n",
       "2019-10-17 09:54:59.477736      1\n",
       "2019-11-03 23:58:12.532487      1\n",
       "\n",
       "[74197 rows x 1 columns]"
      ]
     },
     "metadata": {},
     "output_type": "display_data"
    },
    {
     "data": {
      "text/html": [
       "<div>\n",
       "<style scoped>\n",
       "    .dataframe tbody tr th:only-of-type {\n",
       "        vertical-align: middle;\n",
       "    }\n",
       "\n",
       "    .dataframe tbody tr th {\n",
       "        vertical-align: top;\n",
       "    }\n",
       "\n",
       "    .dataframe thead th {\n",
       "        text-align: right;\n",
       "    }\n",
       "</style>\n",
       "<table border=\"1\" class=\"dataframe\">\n",
       "  <thead>\n",
       "    <tr style=\"text-align: right;\">\n",
       "      <th></th>\n",
       "      <th>count</th>\n",
       "    </tr>\n",
       "    <tr>\n",
       "      <th>event.name</th>\n",
       "      <th></th>\n",
       "    </tr>\n",
       "  </thead>\n",
       "  <tbody>\n",
       "    <tr>\n",
       "      <th>tips_show</th>\n",
       "      <td>40055</td>\n",
       "    </tr>\n",
       "    <tr>\n",
       "      <th>photos_show</th>\n",
       "      <td>10012</td>\n",
       "    </tr>\n",
       "    <tr>\n",
       "      <th>advert_open</th>\n",
       "      <td>6164</td>\n",
       "    </tr>\n",
       "    <tr>\n",
       "      <th>contacts_show</th>\n",
       "      <td>4450</td>\n",
       "    </tr>\n",
       "    <tr>\n",
       "      <th>map</th>\n",
       "      <td>3881</td>\n",
       "    </tr>\n",
       "    <tr>\n",
       "      <th>search_1</th>\n",
       "      <td>3506</td>\n",
       "    </tr>\n",
       "    <tr>\n",
       "      <th>favorites_add</th>\n",
       "      <td>1417</td>\n",
       "    </tr>\n",
       "    <tr>\n",
       "      <th>search_5</th>\n",
       "      <td>1049</td>\n",
       "    </tr>\n",
       "    <tr>\n",
       "      <th>tips_click</th>\n",
       "      <td>814</td>\n",
       "    </tr>\n",
       "    <tr>\n",
       "      <th>search_4</th>\n",
       "      <td>701</td>\n",
       "    </tr>\n",
       "    <tr>\n",
       "      <th>contacts_call</th>\n",
       "      <td>541</td>\n",
       "    </tr>\n",
       "    <tr>\n",
       "      <th>search_3</th>\n",
       "      <td>522</td>\n",
       "    </tr>\n",
       "    <tr>\n",
       "      <th>search_6</th>\n",
       "      <td>460</td>\n",
       "    </tr>\n",
       "    <tr>\n",
       "      <th>search_2</th>\n",
       "      <td>324</td>\n",
       "    </tr>\n",
       "    <tr>\n",
       "      <th>search_7</th>\n",
       "      <td>222</td>\n",
       "    </tr>\n",
       "    <tr>\n",
       "      <th>show_contacts</th>\n",
       "      <td>79</td>\n",
       "    </tr>\n",
       "  </tbody>\n",
       "</table>\n",
       "</div>"
      ],
      "text/plain": [
       "               count\n",
       "event.name          \n",
       "tips_show      40055\n",
       "photos_show    10012\n",
       "advert_open     6164\n",
       "contacts_show   4450\n",
       "map             3881\n",
       "search_1        3506\n",
       "favorites_add   1417\n",
       "search_5        1049\n",
       "tips_click       814\n",
       "search_4         701\n",
       "contacts_call    541\n",
       "search_3         522\n",
       "search_6         460\n",
       "search_2         324\n",
       "search_7         222\n",
       "show_contacts     79"
      ]
     },
     "metadata": {},
     "output_type": "display_data"
    },
    {
     "data": {
      "text/html": [
       "<div>\n",
       "<style scoped>\n",
       "    .dataframe tbody tr th:only-of-type {\n",
       "        vertical-align: middle;\n",
       "    }\n",
       "\n",
       "    .dataframe tbody tr th {\n",
       "        vertical-align: top;\n",
       "    }\n",
       "\n",
       "    .dataframe thead th {\n",
       "        text-align: right;\n",
       "    }\n",
       "</style>\n",
       "<table border=\"1\" class=\"dataframe\">\n",
       "  <thead>\n",
       "    <tr style=\"text-align: right;\">\n",
       "      <th></th>\n",
       "      <th>count</th>\n",
       "    </tr>\n",
       "    <tr>\n",
       "      <th>user.id</th>\n",
       "      <th></th>\n",
       "    </tr>\n",
       "  </thead>\n",
       "  <tbody>\n",
       "    <tr>\n",
       "      <th>cb36854f-570a-41f4-baa8-36680b396370</th>\n",
       "      <td>478</td>\n",
       "    </tr>\n",
       "    <tr>\n",
       "      <th>e13f9f32-7ae3-4204-8d60-898db040bcfc</th>\n",
       "      <td>465</td>\n",
       "    </tr>\n",
       "    <tr>\n",
       "      <th>9ce63488-758a-481a-bcb5-a02b467e1d84</th>\n",
       "      <td>407</td>\n",
       "    </tr>\n",
       "    <tr>\n",
       "      <th>21230dd9-2f7f-4b77-a436-43d4d10388e0</th>\n",
       "      <td>400</td>\n",
       "    </tr>\n",
       "    <tr>\n",
       "      <th>be1449f6-ca45-4f94-93a7-ea4b079b8f0f</th>\n",
       "      <td>397</td>\n",
       "    </tr>\n",
       "    <tr>\n",
       "      <th>...</th>\n",
       "      <td>...</td>\n",
       "    </tr>\n",
       "    <tr>\n",
       "      <th>a328c7d1-ff5b-41df-822a-bccb105fb408</th>\n",
       "      <td>1</td>\n",
       "    </tr>\n",
       "    <tr>\n",
       "      <th>6a2e7783-a775-4c7d-adf0-22d1983ce9bd</th>\n",
       "      <td>1</td>\n",
       "    </tr>\n",
       "    <tr>\n",
       "      <th>8bc67b38-7e6d-4084-b354-58b30d8f1e6d</th>\n",
       "      <td>1</td>\n",
       "    </tr>\n",
       "    <tr>\n",
       "      <th>715d38f6-0e2c-4ae6-b3e9-6e52f5634ae5</th>\n",
       "      <td>1</td>\n",
       "    </tr>\n",
       "    <tr>\n",
       "      <th>0729a0c7-9e58-4ea9-92bf-33830024ee68</th>\n",
       "      <td>1</td>\n",
       "    </tr>\n",
       "  </tbody>\n",
       "</table>\n",
       "<p>4293 rows × 1 columns</p>\n",
       "</div>"
      ],
      "text/plain": [
       "                                      count\n",
       "user.id                                    \n",
       "cb36854f-570a-41f4-baa8-36680b396370    478\n",
       "e13f9f32-7ae3-4204-8d60-898db040bcfc    465\n",
       "9ce63488-758a-481a-bcb5-a02b467e1d84    407\n",
       "21230dd9-2f7f-4b77-a436-43d4d10388e0    400\n",
       "be1449f6-ca45-4f94-93a7-ea4b079b8f0f    397\n",
       "...                                     ...\n",
       "a328c7d1-ff5b-41df-822a-bccb105fb408      1\n",
       "6a2e7783-a775-4c7d-adf0-22d1983ce9bd      1\n",
       "8bc67b38-7e6d-4084-b354-58b30d8f1e6d      1\n",
       "715d38f6-0e2c-4ae6-b3e9-6e52f5634ae5      1\n",
       "0729a0c7-9e58-4ea9-92bf-33830024ee68      1\n",
       "\n",
       "[4293 rows x 1 columns]"
      ]
     },
     "metadata": {},
     "output_type": "display_data"
    }
   ],
   "source": [
    "research(dt_events)"
   ]
  },
  {
   "cell_type": "markdown",
   "metadata": {},
   "source": [
    "В датафрейме `dt_events` так же нет полных дубликатов и пропусков. Наиболее популярным действием пользователей является `tips_show` - просмотр рекомендованных объявлений."
   ]
  },
  {
   "cell_type": "markdown",
   "metadata": {},
   "source": [
    "**Вывод**\n",
    "\n",
    "- данные записаны в 2 датафрейма: `dt_sources` - данные о пользователях и источниках установки приложения, `dt_events` - данные о действиях пользователей;\n",
    "- все данные представлены типом `object`, столбец `event.time` необходимо перевести в формат *datetime*;\n",
    "- в датафреймах нет полных дубликатов и пропусков;\n",
    "- в названиях столбцов необходимо поправить стиль с учётом \"змеиного регистра\"."
   ]
  },
  {
   "cell_type": "markdown",
   "metadata": {},
   "source": [
    "## Предобработка данных"
   ]
  },
  {
   "cell_type": "markdown",
   "metadata": {},
   "source": [
    "### Приведение наименования столбцов к корректному стилю "
   ]
  },
  {
   "cell_type": "markdown",
   "metadata": {},
   "source": [
    "В датафрейме `dt_sources` необходимо изменить наименования столбца `userId`:"
   ]
  },
  {
   "cell_type": "code",
   "execution_count": 20,
   "metadata": {},
   "outputs": [
    {
     "data": {
      "text/plain": [
       "Index(['user_id', 'source'], dtype='object')"
      ]
     },
     "execution_count": 20,
     "metadata": {},
     "output_type": "execute_result"
    }
   ],
   "source": [
    "dt_sources = dt_sources.rename(columns={'userId':'user_id'})\n",
    "dt_sources.columns # проверка"
   ]
  },
  {
   "cell_type": "markdown",
   "metadata": {},
   "source": [
    "В датафрейме `dt_events` необходимо заменить все точки в наименовании столбцов на нижнее подчеркивание:"
   ]
  },
  {
   "cell_type": "code",
   "execution_count": 22,
   "metadata": {},
   "outputs": [
    {
     "data": {
      "text/plain": [
       "Index(['event_time', 'event_name', 'user_id'], dtype='object')"
      ]
     },
     "execution_count": 22,
     "metadata": {},
     "output_type": "execute_result"
    }
   ],
   "source": [
    "dt_events.columns = [x.replace('.', '_') for x in dt_events.columns]\n",
    "dt_events.columns # проверка"
   ]
  },
  {
   "cell_type": "markdown",
   "metadata": {},
   "source": [
    "### Преобразование типов данных"
   ]
  },
  {
   "cell_type": "markdown",
   "metadata": {},
   "source": [
    "Преобразуем столбец `event_time` датафрейма `dt_events` в формат datetime:"
   ]
  },
  {
   "cell_type": "code",
   "execution_count": 25,
   "metadata": {
    "scrolled": true
   },
   "outputs": [
    {
     "name": "stdout",
     "output_type": "stream",
     "text": [
      "<class 'pandas.core.frame.DataFrame'>\n",
      "RangeIndex: 74197 entries, 0 to 74196\n",
      "Data columns (total 3 columns):\n",
      " #   Column      Non-Null Count  Dtype         \n",
      "---  ------      --------------  -----         \n",
      " 0   event_time  74197 non-null  datetime64[ns]\n",
      " 1   event_name  74197 non-null  object        \n",
      " 2   user_id     74197 non-null  object        \n",
      "dtypes: datetime64[ns](1), object(2)\n",
      "memory usage: 1.7+ MB\n"
     ]
    }
   ],
   "source": [
    "dt_events['event_time'] = pd.to_datetime(dt_events['event_time'])\n",
    "dt_events.info() # проверка"
   ]
  },
  {
   "cell_type": "markdown",
   "metadata": {},
   "source": [
    "Также можно преобразовать столбец `source` датафрейма `dt_sources` в категориальный тип данных для сокращения использования памяти, так как он содержит небольшое количество уникальных значений:"
   ]
  },
  {
   "cell_type": "code",
   "execution_count": 27,
   "metadata": {
    "scrolled": true
   },
   "outputs": [
    {
     "name": "stdout",
     "output_type": "stream",
     "text": [
      "<class 'pandas.core.frame.DataFrame'>\n",
      "RangeIndex: 4293 entries, 0 to 4292\n",
      "Data columns (total 2 columns):\n",
      " #   Column   Non-Null Count  Dtype   \n",
      "---  ------   --------------  -----   \n",
      " 0   user_id  4293 non-null   object  \n",
      " 1   source   4293 non-null   category\n",
      "dtypes: category(1), object(1)\n",
      "memory usage: 38.0+ KB\n"
     ]
    }
   ],
   "source": [
    "dt_sources['source'] = dt_sources['source'].astype('category')\n",
    "dt_sources.info() # проверка"
   ]
  },
  {
   "cell_type": "markdown",
   "metadata": {},
   "source": [
    "### Проверка на дубликаты"
   ]
  },
  {
   "cell_type": "markdown",
   "metadata": {},
   "source": [
    "Помимо проверки на полные дубликаты, можно сделать проверку на дубликаты по столбцам `event_time` и `user_id` датафрейма `dt_events`:"
   ]
  },
  {
   "cell_type": "code",
   "execution_count": 30,
   "metadata": {
    "scrolled": true
   },
   "outputs": [
    {
     "data": {
      "text/plain": [
       "event_time    0\n",
       "event_name    0\n",
       "user_id       0\n",
       "dtype: int64"
      ]
     },
     "execution_count": 30,
     "metadata": {},
     "output_type": "execute_result"
    }
   ],
   "source": [
    "dt_events[dt_events[['event_time', 'user_id']].duplicated()].count()"
   ]
  },
  {
   "cell_type": "markdown",
   "metadata": {},
   "source": [
    "Дубликатов нет."
   ]
  },
  {
   "cell_type": "markdown",
   "metadata": {},
   "source": [
    "**Вывод**\n",
    "\n",
    "Была выполнена предобработка данных:\n",
    "\n",
    "- названия столбцов изменены в соответствии с змеиным регистром;\n",
    "- преобразован тип данных в столбцах `event_time` и `source`;\n",
    "- в датафреймах нет полных дубликатов и пропусков."
   ]
  },
  {
   "cell_type": "markdown",
   "metadata": {},
   "source": [
    "## Исследовательский анализ данных"
   ]
  },
  {
   "cell_type": "markdown",
   "metadata": {},
   "source": [
    "### Профили пользователей"
   ]
  },
  {
   "cell_type": "markdown",
   "metadata": {},
   "source": [
    "Объединим датафреймы с источниками установки приложения и событиями пользователей:"
   ]
  },
  {
   "cell_type": "code",
   "execution_count": 36,
   "metadata": {
    "scrolled": true
   },
   "outputs": [],
   "source": [
    "# объединение датафремов по столбцу user_id\n",
    "\n",
    "dt_merged = dt_events.merge(dt_sources, on='user_id')"
   ]
  },
  {
   "cell_type": "markdown",
   "metadata": {},
   "source": [
    "Добавим в таблицу столбец `target_action` с булевым признаком, который будет равен `True` для пользователей, которые хоть раз просмотривали контакты:"
   ]
  },
  {
   "cell_type": "code",
   "execution_count": 38,
   "metadata": {},
   "outputs": [],
   "source": [
    "user_contacts = (\n",
    "    dt_merged.loc[(dt_merged['event_name']=='contacts_show')|(dt_merged['event_name']=='show_contacts')]['user_id']\n",
    "    .unique()\n",
    ")\n",
    "dt_merged['target_action'] = dt_merged['user_id'].isin(user_contacts)"
   ]
  },
  {
   "cell_type": "code",
   "execution_count": 39,
   "metadata": {},
   "outputs": [],
   "source": [
    "# находим профили пользователей\n",
    "\n",
    "profiles = (\n",
    "        dt_merged.sort_values(by=['user_id', 'event_time'])\n",
    "        .groupby('user_id')\n",
    "        .agg(\n",
    "            {\n",
    "                'source':'first',\n",
    "                'event_time':'first'\n",
    "            }\n",
    "        )\n",
    "        .rename(columns={'event_time': 'first_ts'})\n",
    "        .reset_index()\n",
    "    )"
   ]
  },
  {
   "cell_type": "code",
   "execution_count": 40,
   "metadata": {},
   "outputs": [],
   "source": [
    "# добавляем в профили признак: просматривал ли пользователь контакты хоть раз\n",
    "\n",
    "profiles['target_action'] = profiles['user_id'].isin(dt_merged.query('target_action == True')['user_id'].unique())"
   ]
  },
  {
   "cell_type": "code",
   "execution_count": 41,
   "metadata": {},
   "outputs": [
    {
     "data": {
      "text/html": [
       "<div>\n",
       "<style scoped>\n",
       "    .dataframe tbody tr th:only-of-type {\n",
       "        vertical-align: middle;\n",
       "    }\n",
       "\n",
       "    .dataframe tbody tr th {\n",
       "        vertical-align: top;\n",
       "    }\n",
       "\n",
       "    .dataframe thead th {\n",
       "        text-align: right;\n",
       "    }\n",
       "</style>\n",
       "<table border=\"1\" class=\"dataframe\">\n",
       "  <thead>\n",
       "    <tr style=\"text-align: right;\">\n",
       "      <th></th>\n",
       "      <th>user_id</th>\n",
       "      <th>source</th>\n",
       "      <th>first_ts</th>\n",
       "      <th>target_action</th>\n",
       "      <th>dt</th>\n",
       "    </tr>\n",
       "  </thead>\n",
       "  <tbody>\n",
       "    <tr>\n",
       "      <th>0</th>\n",
       "      <td>0001b1d5-b74a-4cbf-aeb0-7df5947bf349</td>\n",
       "      <td>other</td>\n",
       "      <td>2019-10-07 13:39:45.989359</td>\n",
       "      <td>False</td>\n",
       "      <td>2019-10-07</td>\n",
       "    </tr>\n",
       "    <tr>\n",
       "      <th>1</th>\n",
       "      <td>00157779-810c-4498-9e05-a1e9e3cedf93</td>\n",
       "      <td>yandex</td>\n",
       "      <td>2019-10-19 21:34:33.849769</td>\n",
       "      <td>True</td>\n",
       "      <td>2019-10-19</td>\n",
       "    </tr>\n",
       "    <tr>\n",
       "      <th>2</th>\n",
       "      <td>00463033-5717-4bf1-91b4-09183923b9df</td>\n",
       "      <td>yandex</td>\n",
       "      <td>2019-11-01 13:54:35.385028</td>\n",
       "      <td>False</td>\n",
       "      <td>2019-11-01</td>\n",
       "    </tr>\n",
       "    <tr>\n",
       "      <th>3</th>\n",
       "      <td>004690c3-5a84-4bb7-a8af-e0c8f8fca64e</td>\n",
       "      <td>google</td>\n",
       "      <td>2019-10-18 22:14:05.555052</td>\n",
       "      <td>False</td>\n",
       "      <td>2019-10-18</td>\n",
       "    </tr>\n",
       "    <tr>\n",
       "      <th>4</th>\n",
       "      <td>00551e79-152e-4441-9cf7-565d7eb04090</td>\n",
       "      <td>yandex</td>\n",
       "      <td>2019-10-25 16:44:41.263364</td>\n",
       "      <td>True</td>\n",
       "      <td>2019-10-25</td>\n",
       "    </tr>\n",
       "  </tbody>\n",
       "</table>\n",
       "</div>"
      ],
      "text/plain": [
       "                                user_id  source                   first_ts  \\\n",
       "0  0001b1d5-b74a-4cbf-aeb0-7df5947bf349   other 2019-10-07 13:39:45.989359   \n",
       "1  00157779-810c-4498-9e05-a1e9e3cedf93  yandex 2019-10-19 21:34:33.849769   \n",
       "2  00463033-5717-4bf1-91b4-09183923b9df  yandex 2019-11-01 13:54:35.385028   \n",
       "3  004690c3-5a84-4bb7-a8af-e0c8f8fca64e  google 2019-10-18 22:14:05.555052   \n",
       "4  00551e79-152e-4441-9cf7-565d7eb04090  yandex 2019-10-25 16:44:41.263364   \n",
       "\n",
       "   target_action          dt  \n",
       "0          False  2019-10-07  \n",
       "1           True  2019-10-19  \n",
       "2          False  2019-11-01  \n",
       "3          False  2019-10-18  \n",
       "4           True  2019-10-25  "
      ]
     },
     "execution_count": 41,
     "metadata": {},
     "output_type": "execute_result"
    }
   ],
   "source": [
    "# добавляем столбец с date (без времени)\n",
    "\n",
    "profiles['dt'] = pd.to_datetime(profiles['first_ts']).dt.date\n",
    "\n",
    "# вывод первых строк датафрейма\n",
    "\n",
    "profiles.head()"
   ]
  },
  {
   "cell_type": "markdown",
   "metadata": {},
   "source": [
    "Найдём минимальную и максимальную дату регистрации пользователей в имеющихся данных:"
   ]
  },
  {
   "cell_type": "code",
   "execution_count": 43,
   "metadata": {
    "scrolled": true
   },
   "outputs": [
    {
     "data": {
      "text/plain": [
       "datetime.date(2019, 10, 7)"
      ]
     },
     "metadata": {},
     "output_type": "display_data"
    },
    {
     "data": {
      "text/plain": [
       "datetime.date(2019, 11, 3)"
      ]
     },
     "execution_count": 43,
     "metadata": {},
     "output_type": "execute_result"
    }
   ],
   "source": [
    "display(profiles['dt'].min())\n",
    "profiles['dt'].max()"
   ]
  },
  {
   "cell_type": "markdown",
   "metadata": {},
   "source": [
    "Таким образом, представлены данные за 4 недели."
   ]
  },
  {
   "cell_type": "markdown",
   "metadata": {},
   "source": [
    "### Источники установки приложения"
   ]
  },
  {
   "cell_type": "markdown",
   "metadata": {},
   "source": [
    "Ниже проверим сколько пользователей устанавливали приложении из разных источников:"
   ]
  },
  {
   "cell_type": "code",
   "execution_count": 47,
   "metadata": {},
   "outputs": [
    {
     "data": {
      "text/html": [
       "<div>\n",
       "<style scoped>\n",
       "    .dataframe tbody tr th:only-of-type {\n",
       "        vertical-align: middle;\n",
       "    }\n",
       "\n",
       "    .dataframe tbody tr th {\n",
       "        vertical-align: top;\n",
       "    }\n",
       "\n",
       "    .dataframe thead th {\n",
       "        text-align: right;\n",
       "    }\n",
       "</style>\n",
       "<table border=\"1\" class=\"dataframe\">\n",
       "  <thead>\n",
       "    <tr style=\"text-align: right;\">\n",
       "      <th></th>\n",
       "      <th>source</th>\n",
       "      <th>count</th>\n",
       "    </tr>\n",
       "  </thead>\n",
       "  <tbody>\n",
       "    <tr>\n",
       "      <th>0</th>\n",
       "      <td>yandex</td>\n",
       "      <td>1934</td>\n",
       "    </tr>\n",
       "    <tr>\n",
       "      <th>1</th>\n",
       "      <td>other</td>\n",
       "      <td>1230</td>\n",
       "    </tr>\n",
       "    <tr>\n",
       "      <th>2</th>\n",
       "      <td>google</td>\n",
       "      <td>1129</td>\n",
       "    </tr>\n",
       "  </tbody>\n",
       "</table>\n",
       "</div>"
      ],
      "text/plain": [
       "   source  count\n",
       "0  yandex   1934\n",
       "1   other   1230\n",
       "2  google   1129"
      ]
     },
     "execution_count": 47,
     "metadata": {},
     "output_type": "execute_result"
    }
   ],
   "source": [
    "df = profiles.groupby('source')['user_id'].count().sort_values(ascending=False).reset_index()\n",
    "df.columns = ['source', 'count']\n",
    "df"
   ]
  },
  {
   "cell_type": "markdown",
   "metadata": {},
   "source": [
    "Построим круговую диаграмму для визуализации доли каждого источника:"
   ]
  },
  {
   "cell_type": "code",
   "execution_count": null,
   "metadata": {},
   "outputs": [],
   "source": [
    "fig = px.pie(df,\n",
    "             values='count',\n",
    "             names='source',\n",
    "             title='Доля источников в установке приложения',\n",
    "             color_discrete_sequence = [\"#69b3a2\", \"#4374B3\", \"#78DBE2\"])\n",
    "fig.show(\"png\")"
   ]
  },
  {
   "cell_type": "markdown",
   "metadata": {},
   "source": [
    "Таким образом, чаще всего приложение устанавливают через `yandex` - в 45% случаев, реже всего - через `google` - в 26% случаев."
   ]
  },
  {
   "cell_type": "markdown",
   "metadata": {},
   "source": [
    "### Соотношение пользователей выполнявших и не выполнявших целевое действие"
   ]
  },
  {
   "cell_type": "markdown",
   "metadata": {},
   "source": [
    "Для того, чтобы рассмотреть соотношение пользователей выполнявших и не выполнявших целевое действие выведем значения суммарного количества каждого вида пользователей, а затем построим круговую диаграмму с соотношением:"
   ]
  },
  {
   "cell_type": "code",
   "execution_count": null,
   "metadata": {
    "scrolled": true
   },
   "outputs": [],
   "source": [
    "df = profiles.groupby('target_action')['user_id'].nunique().sort_values(ascending=False).reset_index()\n",
    "df.columns = ['target_action', 'count']\n",
    "df"
   ]
  },
  {
   "cell_type": "markdown",
   "metadata": {},
   "source": [
    "Строим круговую диаграмму:"
   ]
  },
  {
   "cell_type": "code",
   "execution_count": null,
   "metadata": {},
   "outputs": [],
   "source": [
    "fig = px.pie(df,\n",
    "             values='count',\n",
    "             names='target_action',\n",
    "             title='Доли пользователей выполнявших и не выполнявших целевое действие',\n",
    "             color_discrete_sequence = [\"#69b3a2\", \"#4374B3\"])\n",
    "fig.show(\"png\")"
   ]
  },
  {
   "cell_type": "markdown",
   "metadata": {},
   "source": [
    "Таким образом, общая конверсия в целевое действие около 23%. Большинство пользователей ни разу не просматривали контакты покупателей. Скорее всего, они не находят в приложении того, что искали, либо осуществляют только продажу товаров и их не интересует покупка."
   ]
  },
  {
   "cell_type": "markdown",
   "metadata": {},
   "source": [
    "### Источники установки приложения и просмотр контактов"
   ]
  },
  {
   "cell_type": "markdown",
   "metadata": {},
   "source": [
    "Для того, чтобы определить пользователи, пришедшие из каких источников чаще просматривают контакты, используем объединенные таблицы `dt_sources` и `dt_events`."
   ]
  },
  {
   "cell_type": "code",
   "execution_count": null,
   "metadata": {},
   "outputs": [],
   "source": [
    "df = (\n",
    "    dt_merged.query('event_name == \"contacts_show\" | event_name == \"show_contacts\"')[['user_id', 'source']]\n",
    "    .drop_duplicates()       # удаляем дубликаты, чтобы оставить только уникальных пользователей\n",
    "    .reset_index(drop=True)\n",
    ")\n",
    "\n",
    "# строим круговую диаграмму\n",
    "\n",
    "fig = px.pie(df.groupby('source')['user_id'].count().reset_index(),\n",
    "             values='user_id',\n",
    "             names='source',\n",
    "             title='Соотношение источников установки приложения для пользователей, выполняющих целевое действие',\n",
    "             color_discrete_sequence = [\"#69b3a2\", \"#4374B3\", \"#78DBE2\"])\n",
    "fig.show(\"png\")"
   ]
  },
  {
   "cell_type": "markdown",
   "metadata": {},
   "source": [
    "Просматривающие контакты пользователи в большинстве пришли в приложении из `yandex`, реже - из `google`. Доли приблизительно равны общим долям пользователей по скачиванию приложения, значит, скорее всего, зависимости между источниками установки и выполнением целевого действия нет."
   ]
  },
  {
   "cell_type": "markdown",
   "metadata": {},
   "source": [
    "### Выделение пользовательских сессий"
   ]
  },
  {
   "cell_type": "markdown",
   "metadata": {},
   "source": [
    "Для выделения пользовательских сессий, нужно выбрать тайм-аут.\n",
    "\n",
    "Добавим в таблицу с действиями пользователей столбец с датой действия (без времени), затем рассчитаем разницу во времени между действиями пользователя, сгруппировав данные по пользователю и дате:"
   ]
  },
  {
   "cell_type": "code",
   "execution_count": null,
   "metadata": {},
   "outputs": [],
   "source": [
    "dt_merged['dt'] = pd.to_datetime(dt_merged['event_time']).dt.date # добавляем дату\n",
    "dt_merged = dt_merged.sort_values(['user_id', 'event_time']) # сортируем датафрейм\n",
    "dt_merged['time_diff'] = dt_merged.groupby(['user_id', 'dt'])['event_time'].diff() # находим разницу во времени\n",
    "dt_merged['time_diff'] = [round(x.total_seconds()/60, 1) for x in dt_merged['time_diff']] # отображаем разницу в минутах"
   ]
  },
  {
   "cell_type": "markdown",
   "metadata": {},
   "source": [
    "Теперь у нас есть столбец со временем в минутах между действиями пользователя за каждый активный день:"
   ]
  },
  {
   "cell_type": "code",
   "execution_count": null,
   "metadata": {
    "scrolled": true
   },
   "outputs": [],
   "source": [
    "dt_merged.head(10)"
   ]
  },
  {
   "cell_type": "markdown",
   "metadata": {},
   "source": [
    "Чтобы отобрать время тайм-аута, найдём 95-ый, 97-ой и 99-ый процентили по столбцу `time_diff`:"
   ]
  },
  {
   "cell_type": "code",
   "execution_count": null,
   "metadata": {
    "scrolled": true
   },
   "outputs": [],
   "source": [
    "dt_merged['time_diff'].quantile([.95, .97, .99])"
   ]
  },
  {
   "cell_type": "markdown",
   "metadata": {},
   "source": [
    "В 97% случаев между действиями пользователя в рамках одного календарного дня проходит менее 51,8 минуты. Округлим значение до целого и будем считать тайм-аутом для сессии пользователя 52 минуты."
   ]
  },
  {
   "cell_type": "code",
   "execution_count": null,
   "metadata": {},
   "outputs": [],
   "source": [
    "quantile97 = round(dt_merged['time_diff'].quantile( .97),0)"
   ]
  },
  {
   "cell_type": "markdown",
   "metadata": {},
   "source": [
    "Выделим пользовательские сессии:"
   ]
  },
  {
   "cell_type": "code",
   "execution_count": null,
   "metadata": {
    "scrolled": true
   },
   "outputs": [],
   "source": [
    "# определяем тайм-аут сессии 52 минуты и присваем каждой номер\n",
    "g = (dt_merged.groupby('user_id')['event_time'].diff() > pd.Timedelta(minutes=quantile97)).cumsum()\n",
    "# создаем счётчик сессий\n",
    "dt_merged['session_id'] = dt_merged.groupby(['user_id', g]).ngroup() + 1\n",
    "dt_merged.head(15)"
   ]
  },
  {
   "cell_type": "markdown",
   "metadata": {},
   "source": [
    "### Конверсия пользователей с разбивкой по выполнению целевого действия"
   ]
  },
  {
   "cell_type": "markdown",
   "metadata": {},
   "source": [
    "#### Функция для расчёта конверсии пользователей"
   ]
  },
  {
   "cell_type": "markdown",
   "metadata": {},
   "source": [
    "Создадим функцию `get_conversion` для расчёта конверсии пользователей:"
   ]
  },
  {
   "cell_type": "code",
   "execution_count": null,
   "metadata": {},
   "outputs": [],
   "source": [
    "def get_conversion(\n",
    "    profiles,\n",
    "    purchases,\n",
    "    observation_date,\n",
    "    horizon_days,\n",
    "    dimensions=[],\n",
    "    ignore_horizon=False,\n",
    "):\n",
    "\n",
    "    # исключаем пользователей, не «доживших» до горизонта анализа\n",
    "    last_suitable_acquisition_date = observation_date\n",
    "    if not ignore_horizon:\n",
    "        last_suitable_acquisition_date = observation_date - timedelta(\n",
    "            days=horizon_days - 1\n",
    "        )\n",
    "    result_raw = profiles.query('dt <= @last_suitable_acquisition_date')\n",
    "\n",
    "    # определяем дату и время первого совершения целевого действия для каждого пользователя\n",
    "    first_purchases = (\n",
    "        purchases.sort_values(by=['user_id', 'event_time'])\n",
    "        .groupby('user_id')\n",
    "        .agg({'event_time': 'first'})\n",
    "        .reset_index()\n",
    "    )\n",
    "\n",
    "    # добавляем данные о совершении целевого действия в профили\n",
    "    result_raw = result_raw.merge(\n",
    "        first_purchases[['user_id', 'event_time']], on='user_id', how='left'\n",
    "    )\n",
    "\n",
    "    # рассчитываем лайфтайм для каждого совершения целевого действия\n",
    "    result_raw['lifetime'] = (\n",
    "        result_raw['event_time'] - result_raw['first_ts']\n",
    "    ).dt.days\n",
    "\n",
    "    # группируем по cohort, если в dimensions ничего нет\n",
    "    if len(dimensions) == 0:\n",
    "        result_raw['cohort'] = 'All users' \n",
    "        dimensions = dimensions + ['cohort']\n",
    "\n",
    "    # функция для группировки таблицы по желаемым признакам\n",
    "    def group_by_dimensions(df, dims, horizon_days):\n",
    "        result = df.pivot_table(\n",
    "            index=dims, columns='lifetime', values='user_id', aggfunc='nunique'\n",
    "        )\n",
    "        result = result.fillna(0).cumsum(axis = 1)\n",
    "        cohort_sizes = (\n",
    "            df.groupby(dims)\n",
    "            .agg({'user_id': 'nunique'})\n",
    "            .rename(columns={'user_id': 'cohort_size'})\n",
    "        )\n",
    "        result = cohort_sizes.merge(result, on=dims, how='left').fillna(0)\n",
    "        # делим каждую «ячейку» в строке на размер когорты\n",
    "        # и получаем conversion rate\n",
    "        result = result.div(result['cohort_size'], axis=0)\n",
    "        result = result[['cohort_size'] + list(range(horizon_days))]\n",
    "        result['cohort_size'] = cohort_sizes\n",
    "        return result\n",
    "\n",
    "    # получаем таблицу конверсии\n",
    "    result_grouped = group_by_dimensions(result_raw, dimensions, horizon_days)\n",
    "\n",
    "    # для таблицы динамики конверсии убираем 'cohort' из dimensions\n",
    "    if 'cohort' in dimensions: \n",
    "        dimensions = []\n",
    "\n",
    "    # получаем таблицу динамики конверсии\n",
    "    result_in_time = group_by_dimensions(\n",
    "        result_raw, dimensions + ['dt'], horizon_days\n",
    "    )\n",
    "\n",
    "    # возвращаем обе таблицы и сырые данные\n",
    "    return result_raw, result_grouped, result_in_time"
   ]
  },
  {
   "cell_type": "markdown",
   "metadata": {},
   "source": [
    "#### Функция для сглаживания данных"
   ]
  },
  {
   "cell_type": "markdown",
   "metadata": {},
   "source": [
    "Создадим функцию `filter_data` для сглаживания данных:"
   ]
  },
  {
   "cell_type": "code",
   "execution_count": null,
   "metadata": {},
   "outputs": [],
   "source": [
    "def filter_data(df, window):\n",
    "    # для каждого столбца применяем скользящее среднее\n",
    "    for column in df.columns.values:\n",
    "        df[column] = df[column].rolling(window).mean() \n",
    "    return df "
   ]
  },
  {
   "cell_type": "markdown",
   "metadata": {},
   "source": [
    "#### Функция для визуализации конверсии пользователей"
   ]
  },
  {
   "cell_type": "markdown",
   "metadata": {},
   "source": [
    "Создадим функцию `plot_conversion` для визуализации конверсии:"
   ]
  },
  {
   "cell_type": "code",
   "execution_count": null,
   "metadata": {},
   "outputs": [],
   "source": [
    "def plot_conversion(conversion, conversion_history, horizon, window=7):\n",
    "\n",
    "    # задаём размер сетки для графиков\n",
    "    plt.figure(figsize=(15, 5))\n",
    "\n",
    "    # исключаем размеры когорт\n",
    "    conversion = conversion.drop(columns=['cohort_size'])\n",
    "    # в таблице динамики оставляем только нужный лайфтайм\n",
    "    conversion_history = conversion_history.drop(columns=['cohort_size'])[\n",
    "        [horizon - 1]\n",
    "    ]\n",
    "\n",
    "    # первый график — кривые конверсии\n",
    "    ax1 = plt.subplot(1, 2, 1)\n",
    "    conversion.T.plot(grid=True, ax=ax1)\n",
    "    plt.legend().set_visible(False)\n",
    "    plt.xlabel('Лайфтайм')\n",
    "    plt.title('Конверсия пользователей')\n",
    "\n",
    "    # второй график — динамика конверсии\n",
    "    ax2 = plt.subplot(1, 2, 2, sharey=ax1)\n",
    "    columns = [\n",
    "        # столбцами сводной таблицы станут все столбцы индекса, кроме даты\n",
    "        name for name in conversion_history.index.names if name not in ['dt']\n",
    "    ]\n",
    "    filtered_data = conversion_history.pivot_table(\n",
    "        index='dt', columns=columns, values=horizon - 1, aggfunc='mean'\n",
    "    )\n",
    "    filter_data(filtered_data, window).plot(grid=True, ax=ax2)\n",
    "    plt.xlabel('Дата привлечения')\n",
    "    plt.title('Динамика конверсии пользователей на {}-й день'.format(horizon))\n",
    "    plt.xticks(rotation=45)\n",
    "    plt.legend().set_visible(False)\n",
    "    plt.tight_layout()\n",
    "    plt.show()\n",
    "    "
   ]
  },
  {
   "cell_type": "markdown",
   "metadata": {},
   "source": [
    "#### Расчёт и визуализация конверсии пользователей по выполнению целевого события"
   ]
  },
  {
   "cell_type": "markdown",
   "metadata": {},
   "source": [
    "Зададим момент анализа и его горизонт:"
   ]
  },
  {
   "cell_type": "code",
   "execution_count": null,
   "metadata": {},
   "outputs": [],
   "source": [
    "observation_date = datetime(2019, 11, 4).date()  # момент анализа\n",
    "horizon_days = 14 # горизонт анализа"
   ]
  },
  {
   "cell_type": "markdown",
   "metadata": {},
   "source": [
    "Посчитаем конверсию без дополнительных разбивок и построим графики конверсии и динамики конверсии:"
   ]
  },
  {
   "cell_type": "code",
   "execution_count": null,
   "metadata": {},
   "outputs": [],
   "source": [
    "# считаем конверсию без доп разбивки\n",
    "\n",
    "conversion_raw, conversion_grouped, conversion_history = get_conversion(\n",
    "    profiles, \n",
    "    dt_merged.query('event_name == \"contacts_show\" | event_name == \"show_contacts\"'),\n",
    "    observation_date,\n",
    "    horizon_days)\n",
    "\n",
    "\n",
    "# строим графики\n",
    "\n",
    "plot_conversion(conversion_grouped, conversion_history, horizon_days) "
   ]
  },
  {
   "cell_type": "markdown",
   "metadata": {},
   "source": [
    "Общая конверсия показывает, что в целом пользователи приложения на 14-й день конвертируются с показателем ~ 22,5%. Конверсия 14-го дня волатильная, это может быть связано с небольшим количеством наблюдений, которые сильно влияют на результат."
   ]
  },
  {
   "cell_type": "markdown",
   "metadata": {},
   "source": [
    "### Удержание пользователей с разбивкой по выполнению целевого действия"
   ]
  },
  {
   "cell_type": "markdown",
   "metadata": {},
   "source": [
    "Создадим датафейм `session` с указанием id пользователя, номером сессии и датой начала сессии:"
   ]
  },
  {
   "cell_type": "code",
   "execution_count": null,
   "metadata": {},
   "outputs": [],
   "source": [
    "sessions = (\n",
    "    dt_merged.groupby(['user_id','session_id'])['event_time']\n",
    "    .first()\n",
    "    .reset_index()\n",
    "    .rename(columns={'event_time':'session_start'})\n",
    ")"
   ]
  },
  {
   "cell_type": "markdown",
   "metadata": {},
   "source": [
    "#### Функция для расчёта удержания пользователей"
   ]
  },
  {
   "cell_type": "markdown",
   "metadata": {},
   "source": [
    "Создадим функцию `get_retention` для расчёта коэффициентов удержания пользователей:"
   ]
  },
  {
   "cell_type": "code",
   "execution_count": null,
   "metadata": {},
   "outputs": [],
   "source": [
    "def get_retention(\n",
    "    profiles,\n",
    "    sessions,\n",
    "    observation_date,\n",
    "    horizon_days,\n",
    "    dimensions=[],\n",
    "    ignore_horizon=False,\n",
    "):\n",
    "\n",
    "    # добавляем столбец target_action в передаваемый dimensions список\n",
    "    dimensions = ['target_action'] + dimensions\n",
    "\n",
    "    # исключаем пользователей, не «доживших» до горизонта анализа\n",
    "    last_suitable_acquisition_date = observation_date\n",
    "    if not ignore_horizon:\n",
    "        last_suitable_acquisition_date = observation_date - timedelta(\n",
    "            days=horizon_days - 1\n",
    "        )\n",
    "    result_raw = profiles.query('dt <= @last_suitable_acquisition_date')\n",
    "\n",
    "    # собираем «сырые» данные для расчёта удержания\n",
    "    result_raw = result_raw.merge(\n",
    "        sessions[['user_id', 'session_start']], on='user_id', how='left'\n",
    "    )\n",
    "    result_raw['lifetime'] = (\n",
    "        result_raw['session_start'] - result_raw['first_ts']\n",
    "    ).dt.days\n",
    "\n",
    "    # функция для группировки таблицы по желаемым признакам\n",
    "    def group_by_dimensions(df, dims, horizon_days):\n",
    "        result = df.pivot_table(\n",
    "            index=dims, columns='lifetime', values='user_id', aggfunc='nunique'\n",
    "        )\n",
    "        cohort_sizes = (\n",
    "            df.groupby(dims)\n",
    "            .agg({'user_id': 'nunique'})\n",
    "            .rename(columns={'user_id': 'cohort_size'})\n",
    "        )\n",
    "        result = cohort_sizes.merge(result, on=dims, how='left').fillna(0)\n",
    "        result = result.div(result['cohort_size'], axis=0)\n",
    "        result = result[['cohort_size'] + list(range(horizon_days))]\n",
    "        result['cohort_size'] = cohort_sizes\n",
    "        return result\n",
    "\n",
    "    # получаем таблицу удержания\n",
    "    result_grouped = group_by_dimensions(result_raw, dimensions, horizon_days)\n",
    "\n",
    "    # получаем таблицу динамики удержания\n",
    "    result_in_time = group_by_dimensions(\n",
    "        result_raw, dimensions + ['dt'], horizon_days\n",
    "    )\n",
    "\n",
    "    # возвращаем обе таблицы и сырые данные\n",
    "    return result_raw, result_grouped, result_in_time "
   ]
  },
  {
   "cell_type": "markdown",
   "metadata": {},
   "source": [
    "#### Функция для визуализации удержания пользователей"
   ]
  },
  {
   "cell_type": "markdown",
   "metadata": {},
   "source": [
    "Создадим функцию `plot_retention` для визуализации удержания:"
   ]
  },
  {
   "cell_type": "code",
   "execution_count": null,
   "metadata": {},
   "outputs": [],
   "source": [
    "def plot_retention(retention, retention_history, horizon, window=7):\n",
    "\n",
    "    # задаём размер сетки для графиков\n",
    "    plt.figure(figsize=(15, 10))\n",
    "\n",
    "    # исключаем размеры когорт и удержание первого дня\n",
    "    retention = retention.drop(columns=['cohort_size', 0])\n",
    "    # в таблице динамики оставляем только нужный лайфтайм\n",
    "    retention_history = retention_history.drop(columns=['cohort_size'])[\n",
    "        [horizon - 1]\n",
    "    ]\n",
    "\n",
    "    # если в индексах таблицы удержания только target_action,\n",
    "    # добавляем второй признак — cohort\n",
    "    if retention.index.nlevels == 1:\n",
    "        retention['cohort'] = 'All users'\n",
    "        retention = retention.reset_index().set_index(['cohort', 'target_action'])\n",
    "\n",
    "    # в таблице графиков — два столбца и две строки, четыре ячейки\n",
    "    # в первой строим кривые удержания пользователей хоть раз выполнявших целевое действие\n",
    "    ax1 = plt.subplot(2, 2, 1)\n",
    "    retention.query('target_action == True').droplevel('target_action').T.plot(\n",
    "        grid=True, ax=ax1\n",
    "    )\n",
    "    plt.legend().set_visible(False)\n",
    "    plt.xlabel('Лайфтайм')\n",
    "    plt.title('Удержание пользователей хоть раз выполнявших целевое действие')\n",
    "\n",
    "    # во второй ячейке строим кривые удержания пользователей ни разу не выполнявших целевое действие\n",
    "    # вертикальная ось — от графика из первой ячейки\n",
    "    ax2 = plt.subplot(2, 2, 2, sharey=ax1)\n",
    "    retention.query('target_action == False').droplevel('target_action').T.plot(\n",
    "        grid=True, ax=ax2\n",
    "    )\n",
    "    plt.legend().set_visible(False)\n",
    "    plt.xlabel('Лайфтайм')\n",
    "    plt.title('Удержание пользователей ни разу не выполнявших целевое действие')\n",
    "\n",
    "    # в третьей ячейке — динамика удержания платящих\n",
    "    ax3 = plt.subplot(2, 2, 3)\n",
    "    # получаем названия столбцов для сводной таблицы\n",
    "    columns = [\n",
    "        name\n",
    "        for name in retention_history.index.names\n",
    "        if name not in ['dt', 'target_action']\n",
    "    ]\n",
    "    # фильтруем данные и строим график\n",
    "    filtered_data = retention_history.query('target_action == True').pivot_table(\n",
    "        index='dt', columns=columns, values=horizon - 1, aggfunc='mean'\n",
    "    )\n",
    "    filter_data(filtered_data, window).plot(grid=True, ax=ax3)\n",
    "    plt.legend().set_visible(False)\n",
    "    plt.xticks(rotation=45)\n",
    "    plt.xlabel('Дата привлечения')\n",
    "    plt.title(\n",
    "        'Динамика удержания пользователей выполнявших цел действие на {}-й день'.format(\n",
    "            horizon\n",
    "        )\n",
    "    )\n",
    "\n",
    "    # в чётвертой ячейке — динамика удержания неплатящих\n",
    "    ax4 = plt.subplot(2, 2, 4, sharey=ax3)\n",
    "    # фильтруем данные и строим график\n",
    "    filtered_data = retention_history.query('target_action == False').pivot_table(\n",
    "        index='dt', columns=columns, values=horizon - 1, aggfunc='mean'\n",
    "    )\n",
    "    filter_data(filtered_data, window).plot(grid=True, ax=ax4)\n",
    "    plt.xlabel('Дата привлечения')\n",
    "    plt.title(\n",
    "        'Динамика удержания пользователей не выполнявших цел действие на {}-й день'.format(\n",
    "            horizon\n",
    "        )\n",
    "    )\n",
    "    plt.legend().set_visible(False)\n",
    "    plt.xticks(rotation=45)\n",
    "    plt.tight_layout()\n",
    "    plt.show() "
   ]
  },
  {
   "cell_type": "markdown",
   "metadata": {},
   "source": [
    "#### Расчёт и визуализация удержания пользователей по выполнению целевого события"
   ]
  },
  {
   "cell_type": "markdown",
   "metadata": {},
   "source": [
    "Посчитаем удержание без дополнительных разбивок и построим графики удержания и динамики удержания:"
   ]
  },
  {
   "cell_type": "code",
   "execution_count": null,
   "metadata": {},
   "outputs": [],
   "source": [
    "# считаем удержание без доп разбивки\n",
    "\n",
    "retention_raw, retention_grouped, retention_history = get_retention(\n",
    "    profiles, sessions, observation_date, horizon_days)\n",
    "\n",
    "# строим графики\n",
    "\n",
    "plot_retention(retention_grouped, retention_history, horizon_days) "
   ]
  },
  {
   "cell_type": "markdown",
   "metadata": {},
   "source": [
    "Удержание пользователей, просматривающих контакты выше, чем непросматривавших. У обеих групп пользователей удержание постепенно снижается, однако есть резкий скачок на 7 день среди пользователей, выполняющих целевое действие - на это может влиять необходимость обновления объявления через неделю после размещения, что может привлекать пользователей для повторного возвращения в приложение и просмотра интересных объявлений. При этом динамика удержания пользователей на 14-й день падает в отношении пользователей привлеченных с конца октября."
   ]
  },
  {
   "cell_type": "markdown",
   "metadata": {},
   "source": [
    "## Основные вопросы исследования"
   ]
  },
  {
   "cell_type": "markdown",
   "metadata": {},
   "source": [
    "### Анализ связи целевого события и других действий пользователей"
   ]
  },
  {
   "cell_type": "markdown",
   "metadata": {},
   "source": [
    "#### Построение диаграммы Санкея"
   ]
  },
  {
   "cell_type": "markdown",
   "metadata": {},
   "source": [
    "Для нахождения сценариев с целевым событием построим Диаграмму Санкея, демонстрирующую потоки от одного целевого действия пользователя к другому.\n",
    "\n",
    "Построение такой визуализации требует отфильтровать только те сессии, в которых есть действие \"просмотр контактов\". Также для построения сценариев предлагается объединить действия `contacts_show` и `show_contacts` и все значения поиска по сайту `search_1-search_7` к одному виду - `search`."
   ]
  },
  {
   "cell_type": "code",
   "execution_count": null,
   "metadata": {
    "scrolled": true
   },
   "outputs": [],
   "source": [
    "dt_merged['event_name'] = dt_merged['event_name'].replace({'show_contacts':'contacts_show'})\n",
    "dt_merged['event_name'] = dt_merged['event_name'].replace(to_replace=r'^search_.$', value='search', regex=True)"
   ]
  },
  {
   "cell_type": "code",
   "execution_count": null,
   "metadata": {},
   "outputs": [],
   "source": [
    "# проверка\n",
    "dt_merged['event_name'].unique()"
   ]
  },
  {
   "cell_type": "code",
   "execution_count": null,
   "metadata": {},
   "outputs": [],
   "source": [
    "# фильтруем только те сессии, в которых есть просмотр контактов\n",
    "patterns = dt_merged.query('event_name == \"contacts_show\"')['session_id'].unique()"
   ]
  },
  {
   "cell_type": "markdown",
   "metadata": {},
   "source": [
    "Оставляем в датафрейме информацию только о подходящих нам сессиях, добавляем шаги и целевые узлы событий:"
   ]
  },
  {
   "cell_type": "code",
   "execution_count": null,
   "metadata": {
    "scrolled": true
   },
   "outputs": [],
   "source": [
    "# удаляем повторяющиеся события в рамках сессии\n",
    "filtered_df = dt_merged.drop_duplicates(subset=['event_name', 'session_id']).reset_index(drop=True)\n",
    "# фильтруем сессии с целевым действием\n",
    "filtered_df = filtered_df[filtered_df['session_id'].isin(patterns)]\n",
    "# сортируем по id сессии и времени\n",
    "filtered_df = filtered_df.sort_values(by=['session_id', 'event_time'])\n",
    "# добавляем шаги событий\n",
    "filtered_df['step'] = filtered_df.groupby('session_id').cumcount() + 1    \n",
    "# добавляем целевые узлы\n",
    "filtered_df['target'] = filtered_df.groupby('session_id')['event_name'].shift(-1)"
   ]
  },
  {
   "cell_type": "code",
   "execution_count": null,
   "metadata": {},
   "outputs": [],
   "source": [
    "filtered_df.head(10) # проверка"
   ]
  },
  {
   "cell_type": "markdown",
   "metadata": {},
   "source": [
    "Далее создадим индексы для событий в функции `get_event_index`. На каждом следующем шаге `target` становится событием `event_name`, и чтобы диаграмма коррректно генерировалась нужна правильная индексация `event_name` на каждом шаге. Для каждого шага объединяем имена и индексы в еще один вложенный словарь. Все вложенные списки и словари потребуются в дальнейшем для генерации меток, подписей и размера каналов между `event_name` и `target`."
   ]
  },
  {
   "cell_type": "code",
   "execution_count": null,
   "metadata": {},
   "outputs": [],
   "source": [
    "def get_event_index(df):\n",
    "    \n",
    "    \"\"\"Функция генерации индексов событий\n",
    "\n",
    "    Args:\n",
    "        df (pd.DataFrame): исходная таблица с признаками step, event_name, target.\n",
    "    Returns:\n",
    "        dict: словарь с индексами, именами и соответствиями индексов именам событий.\n",
    "    \"\"\"\n",
    "    \n",
    "    res_dict = {}\n",
    "    \n",
    "    count = 0\n",
    "    # получаем индексы источников\n",
    "    for no, step in enumerate(df['step'].unique().tolist()):\n",
    "        # получаем уникальные наименования для шага\n",
    "        res_dict[no+1] = {}\n",
    "        res_dict[no+1]['event_name'] = df[df['step'] == step]['event_name'].unique().tolist()\n",
    "        res_dict[no+1]['event_index'] = []\n",
    "        for i in range(len(res_dict[no+1]['event_name'])):\n",
    "            res_dict[no+1]['event_index'].append(count)\n",
    "            count += 1\n",
    "            \n",
    "    # соединим списки\n",
    "    for key in res_dict:\n",
    "        res_dict[key]['event_dict'] = {}\n",
    "        for name, no in zip(res_dict[key]['event_name'], res_dict[key]['event_index']):\n",
    "            res_dict[key]['event_dict'][name] = no\n",
    "    return res_dict\n",
    "  "
   ]
  },
  {
   "cell_type": "code",
   "execution_count": null,
   "metadata": {},
   "outputs": [],
   "source": [
    "# создаем словарь\n",
    "event_indexes = get_event_index(filtered_df)"
   ]
  },
  {
   "cell_type": "markdown",
   "metadata": {},
   "source": [
    "Далее создадим функцию случайной генерации цветов для раскраски потоков `generate_random_color`. Цвета выберем в цветовой модели RGBA, чтобы сделать каналы более прозрачными по отношению к блокам для лучшей читаемости схемы."
   ]
  },
  {
   "cell_type": "code",
   "execution_count": null,
   "metadata": {},
   "outputs": [],
   "source": [
    "def generate_random_color():\n",
    "    \n",
    "    # словарь, в который сложим цвета в соответствии с индексом\n",
    "    colors_dict = {}\n",
    "    \n",
    "    for label in filtered_df['event_name'].unique():\n",
    "            r, g, b = np.random.randint(255, size=3)            \n",
    "            colors_dict[label] = f'rgba({r}, {g}, {b}, 1)'\n",
    "            \n",
    "    return colors_dict    "
   ]
  },
  {
   "cell_type": "code",
   "execution_count": null,
   "metadata": {},
   "outputs": [],
   "source": [
    "# создаём словарь цветов\n",
    "colors_dict = generate_random_color()"
   ]
  },
  {
   "cell_type": "markdown",
   "metadata": {},
   "source": [
    "Для отображения уникальных id сессий в процентах на диаграмме строим функцию `percent_users`:"
   ]
  },
  {
   "cell_type": "code",
   "execution_count": null,
   "metadata": {},
   "outputs": [],
   "source": [
    "def percent_users(event_names, targets, values):\n",
    "    \n",
    "    \"\"\"\n",
    "    Расчет уникальных id в процентах (для вывода в hover text каждого узла)\n",
    "    \n",
    "    Args:\n",
    "        event_names (list): список с индексами событий.\n",
    "        targets (list): список с индексами target.\n",
    "        values (list): список с \"объемами\" потоков.\n",
    "        \n",
    "    Returns:\n",
    "        list: список с \"объемами\" потоков в процентах\n",
    "    \"\"\"\n",
    "    \n",
    "    # объединим источники и метки и найдем пары\n",
    "    zip_lists = list(zip(event_names, targets, values))\n",
    "    \n",
    "    new_list = []\n",
    "    \n",
    "    # подготовим список словарь с общим объемом трафика в узлах\n",
    "    unique_dict = {}\n",
    "    \n",
    "    # проходим по каждому узлу\n",
    "    for event_name, target, value in zip_lists:\n",
    "        if event_name not in unique_dict:\n",
    "            # находим все источники и считаем общий трафик\n",
    "            unique_dict[event_name] = 0\n",
    "            for sr, tg, vl in zip_lists:\n",
    "                if sr == event_name:\n",
    "                    unique_dict[event_name] += vl\n",
    "                    \n",
    "    # считаем проценты\n",
    "    for event_name, target, value in zip_lists:\n",
    "        new_list.append(round(100 * value / unique_dict[event_name], 1))\n",
    "    \n",
    "    return new_list"
   ]
  },
  {
   "cell_type": "markdown",
   "metadata": {},
   "source": [
    "Создаем необходимые для отрисовки диаграммы переменные списков и возвращаем их в виде словаря в функции `lists_for_plot`:"
   ]
  },
  {
   "cell_type": "code",
   "execution_count": null,
   "metadata": {},
   "outputs": [],
   "source": [
    "def lists_for_plot(event_indexes=event_indexes, colors=colors_dict, frac=10):\n",
    "    \n",
    "    \"\"\"\n",
    "    Создаем необходимые для отрисовки диаграммы переменные списков и возвращаем\n",
    "    их в виде словаря\n",
    "    \n",
    "    Args:\n",
    "        event_indexes (dict): словарь с именами и индексами source.\n",
    "        colors (dict): словарь с цветами событий.\n",
    "        frac (int): ограничение на минимальный \"объем\" между узлами.\n",
    "        \n",
    "    Returns:\n",
    "        dict: словарь со списками, необходимыми для диаграммы.\n",
    "    \"\"\"\n",
    "    \n",
    "    event_names = []\n",
    "    targets = []\n",
    "    values = []\n",
    "    labels = []\n",
    "    link_color = []\n",
    "    link_text = []\n",
    "\n",
    "    # проходим по каждому шагу\n",
    "    for step in tqdm(sorted(filtered_df['step'].unique()), desc='Шаг'):\n",
    "        if step + 1 not in event_indexes:\n",
    "            continue\n",
    "\n",
    "        # получаем индекс источника\n",
    "        temp_dict_source = event_indexes[step]['event_dict']\n",
    "\n",
    "        # получаем индексы цели\n",
    "        temp_dict_target = event_indexes[step+1]['event_dict']\n",
    "\n",
    "        # проходим по каждой возможной паре, считаем количество таких пар\n",
    "        for event_name, index_event in tqdm(temp_dict_source.items()):\n",
    "            for target, index_target in temp_dict_target.items():\n",
    "                # делаем срез данных и считаем количество id            \n",
    "                temp_df = filtered_df[(filtered_df['step'] == step)&(filtered_df['event_name'] == event_name)&(filtered_df['target'] == target)]\n",
    "                value = len(temp_df)\n",
    "                # проверяем минимальный объем потока и добавляем нужные данные\n",
    "                if value > frac:\n",
    "                    event_names.append(index_event)\n",
    "                    targets.append(index_target)\n",
    "                    values.append(value)\n",
    "                    # делаем поток прозрачным для лучшего отображения\n",
    "                    link_color.append(colors[event_name].replace(', 1)', ', 0.2)'))\n",
    "                    \n",
    "    labels = []\n",
    "    colors_labels = []\n",
    "    for key in event_indexes:\n",
    "        for name in event_indexes[key]['event_name']:\n",
    "            labels.append(name)\n",
    "            colors_labels.append(colors[name])\n",
    "            \n",
    "    # посчитаем проценты всех потоков\n",
    "    perc_values = percent_users(event_names, targets, values)\n",
    "    \n",
    "    # добавим значения процентов для howertext\n",
    "    link_text = []\n",
    "    for perc in perc_values:\n",
    "        link_text.append(f\"{perc}%\")\n",
    "    \n",
    "    # возвратим словарь с вложенными списками\n",
    "    return {'event_names': event_names, \n",
    "            'targets': targets, \n",
    "            'values': values, \n",
    "            'labels': labels, \n",
    "            'colors_labels': colors_labels, \n",
    "            'link_color': link_color, \n",
    "            'link_text': link_text}\n",
    "  "
   ]
  },
  {
   "cell_type": "code",
   "execution_count": null,
   "metadata": {},
   "outputs": [],
   "source": [
    "# создаем словарь для отрисовки диаграммы\n",
    "data_for_plot = lists_for_plot()"
   ]
  },
  {
   "cell_type": "markdown",
   "metadata": {},
   "source": [
    "Последней функцией `plot_senkey_diagram` отрисовываем саму диаграмму:"
   ]
  },
  {
   "cell_type": "code",
   "execution_count": null,
   "metadata": {},
   "outputs": [],
   "source": [
    "def plot_senkey_diagram(data_dict=data_for_plot):    \n",
    "    \n",
    "    \"\"\"\n",
    "    Функция для генерации объекта диаграммы Сенкей \n",
    "    \n",
    "    Args:\n",
    "        data_dict (dict): словарь со списками данных для построения.\n",
    "        \n",
    "    Returns:\n",
    "        plotly.graph_objs._figure.Figure: объект изображения.\n",
    "    \"\"\"\n",
    "    \n",
    "    fig = go.Figure(data=[go.Sankey(\n",
    "        domain = dict(\n",
    "          x =  [0,1],\n",
    "          y =  [0,1]\n",
    "        ),\n",
    "        orientation = \"h\",\n",
    "        valueformat = \".0f\",\n",
    "        node = dict(\n",
    "          pad = 50,\n",
    "          thickness = 15,\n",
    "          line = dict(color = \"black\", width = 0.1),\n",
    "          label = data_dict['labels'],\n",
    "          color = data_dict['colors_labels']\n",
    "        ),\n",
    "        link = dict(\n",
    "          source = data_dict['event_names'],\n",
    "          target = data_dict['targets'],\n",
    "          value = data_dict['values'],\n",
    "          label = data_dict['link_text'],\n",
    "          color = data_dict['link_color']\n",
    "      ))])\n",
    "    fig.update_layout(title_text=\"Диаграмма Санкея\", font_size=10, width=1000, height=1000)\n",
    "    \n",
    "    # возвращаем объект диаграммы\n",
    "    return fig\n"
   ]
  },
  {
   "cell_type": "code",
   "execution_count": null,
   "metadata": {},
   "outputs": [],
   "source": [
    "# сохраняем диаграмму в переменную\n",
    "senkey_diagram = plot_senkey_diagram()\n",
    "\n",
    "# отображаем диаграмму\n",
    "senkey_diagram.show(\"png\")"
   ]
  },
  {
   "cell_type": "markdown",
   "metadata": {},
   "source": [
    "Таким образом выделим несколько основных воронок сценариев, ведущих к целевому событию \"просмотр контактов\":\n",
    "- `tips_show -> contacts_show`\n",
    "- `search -> contacts_show`\n",
    "- `photos_show -> contacts_show`\n",
    "- `map -> tips_show -> contacts_show`\n",
    "\n",
    "При этом есть большое количество сценариев, начинающихся сразу с целевого события `contacts_show`."
   ]
  },
  {
   "cell_type": "markdown",
   "metadata": {},
   "source": [
    "#### Построение воронок по основным сценариям"
   ]
  },
  {
   "cell_type": "markdown",
   "metadata": {},
   "source": [
    "Построим 4 воронки по основным сценариям в контексте уникальных пользователей. Для этого создадим функцию `create_funnel_df`:"
   ]
  },
  {
   "cell_type": "code",
   "execution_count": null,
   "metadata": {},
   "outputs": [],
   "source": [
    "def create_funnel_df(df, steps, from_date=None, to_date=None, step_interval=0):\n",
    "    \n",
    "    # фильтрация необходимых событий\n",
    "    df = df[['user_id', 'event_name', 'event_time']]\n",
    "    df = df[df['event_name'].isin(steps)]\n",
    "\n",
    "    values = [] # для определения количества пользователей на каждом уровне\n",
    "    title=\"Событийная воронка \" # начало заголовка графика\n",
    "    \n",
    "    # фильтрация по каждому событию\n",
    "    for i, step in enumerate(steps):\n",
    "        \n",
    "        # добавляем подписи сценария в заголовок графика\n",
    "        if i != len(event_names)-1:\n",
    "            title += str(event_names[i]) + ' -> '\n",
    "        else: title += str(event_names[i])\n",
    "            \n",
    "        if i == 0:\n",
    "            dfs = {}\n",
    "\n",
    "            dfs[step] = df[df['event_name'] == step] \\\n",
    "                .sort_values(['user_id', 'event_time'], ascending=True) \\\n",
    "                .drop_duplicates(subset=['user_id', 'event_name'], keep='first')\n",
    "\n",
    "            # фильтрация первого события в случаях, когда оно произошло между двумя датами\n",
    "            if from_date:\n",
    "                dfs[step] = dfs[step][(dfs[step]['event_time'] >= from_date)]\n",
    "\n",
    "            if to_date:\n",
    "                dfs[step] = dfs[step][(dfs[step]['event_time'] <= to_date)]\n",
    "                \n",
    "        else:\n",
    "            dfs[step] = df[df['event_name'] == step]\n",
    "\n",
    "            # соединение с предыдущим шагом\n",
    "            merged = pd.merge(dfs[steps[i - 1]], dfs[step], on='user_id', how='outer')\n",
    "            \n",
    "            # фильтр по уникальным distinct_id\n",
    "            valid_ids = dfs[steps[i - 1]]['user_id'].unique()\n",
    "            merged = merged[merged['user_id'].isin(valid_ids)]\n",
    "\n",
    "            # сохранение только события, произошедшие после предыдущего шага + сортируем по времени\n",
    "            merged = merged[merged['event_time_y'] >= \n",
    "                            (merged['event_time_x'] + timedelta(days=step_interval))].sort_values('event_time_y', ascending=True)\n",
    "\n",
    "            # сохранение минимального времени выполнения шага для пользователя\n",
    "            merged = merged.drop_duplicates(subset=['user_id', 'event_name_x', 'event_name_y'], keep='first')\n",
    "\n",
    "            # оставляем только нужные столбцы\n",
    "            merged = merged[['user_id', 'event_name_y', 'event_time_y']].rename({'event_name_y': 'event_name',\n",
    "                                                                         'event_time_y': 'event_time'}, axis=1)\n",
    "\n",
    "            # включаем df в словарь для последующего объединения с другими шагами\n",
    "            dfs[step] = merged\n",
    "\n",
    "        # добавляем количество пользователей\n",
    "        values.append(len(dfs[step]))\n",
    "\n",
    "    # создаём датафрейм\n",
    "    funnel_df = pd.DataFrame({'step': steps, 'val': values})\n",
    "    \n",
    "    # задаём объект фигуры\n",
    "    fig = go.Figure(go.Funnel(\n",
    "        y = funnel_df['step'],\n",
    "        x = funnel_df['val'],\n",
    "        textinfo = \"value + percent initial + percent previous\"))\n",
    "    fig.update_layout(title=title)\n",
    "    \n",
    "\n",
    "    return funnel_df, fig"
   ]
  },
  {
   "cell_type": "markdown",
   "metadata": {},
   "source": [
    "##### Воронка `tips_show -> contact_show`"
   ]
  },
  {
   "cell_type": "markdown",
   "metadata": {},
   "source": [
    "Для построения воронки вызовем функцию `funnel_func` с заданным списком событий:"
   ]
  },
  {
   "cell_type": "code",
   "execution_count": null,
   "metadata": {},
   "outputs": [],
   "source": [
    "event_names = ['tips_show', 'contacts_show']\n",
    "dt, fig = create_funnel_df(dt_merged, event_names)\n",
    "fig.show(\"png\")\n",
    "dt"
   ]
  },
  {
   "cell_type": "markdown",
   "metadata": {},
   "source": [
    "Так, 17,7% пользователей, которые хоть раз видели рекомендованные объявления, также выполняют целевое действие - просмотр контактов."
   ]
  },
  {
   "cell_type": "markdown",
   "metadata": {},
   "source": [
    "##### Воронка `search -> contacts_show`"
   ]
  },
  {
   "cell_type": "code",
   "execution_count": null,
   "metadata": {},
   "outputs": [],
   "source": [
    "event_names = ['search', 'contacts_show']\n",
    "dt, fig = create_funnel_df(dt_merged, event_names)\n",
    "fig.show(\"png\")\n",
    "dt"
   ]
  },
  {
   "cell_type": "markdown",
   "metadata": {},
   "source": [
    "Около 20,5% пользователей, которые хоть раз совершали поиск, также выполняли целевое действие - просмотр контактов."
   ]
  },
  {
   "cell_type": "markdown",
   "metadata": {},
   "source": [
    "##### Воронка `photos_show -> contacts_show`"
   ]
  },
  {
   "cell_type": "code",
   "execution_count": null,
   "metadata": {},
   "outputs": [],
   "source": [
    "event_names = ['photos_show', 'contacts_show']\n",
    "dt, fig = create_funnel_df(dt_merged, event_names)\n",
    "fig.show(\"png\")\n",
    "dt"
   ]
  },
  {
   "cell_type": "markdown",
   "metadata": {},
   "source": [
    "27,5% пользователей, которые просматривают фото, также просматривают контакты."
   ]
  },
  {
   "cell_type": "markdown",
   "metadata": {},
   "source": [
    "##### Воронка `map -> tips_show -> contacts_show`"
   ]
  },
  {
   "cell_type": "code",
   "execution_count": null,
   "metadata": {},
   "outputs": [],
   "source": [
    "event_names = ['map', 'tips_show', 'contacts_show']\n",
    "dt, fig = create_funnel_df(dt_merged, event_names)\n",
    "fig.show(\"png\")\n",
    "dt"
   ]
  },
  {
   "cell_type": "markdown",
   "metadata": {},
   "source": [
    "Из тех кто просматривает карту и видит рекомендованные объявления 17% также просматривают контакты."
   ]
  },
  {
   "cell_type": "markdown",
   "metadata": {},
   "source": [
    "**Вывод**\n",
    "\n",
    "При анализе связи между целевым событием - *просмотр контактов* - и другими событиями:\n",
    "\n",
    "- построена диаграмма Санкея отображающая основные потоки между событиями;\n",
    "- выявлены основные сценарии ведущие к выполнению целевого действия;\n",
    "- построены воронки событий по выбранным сценариям в разрезе уникальных пользователей, среди которых наибольший относительный процент целевого события выполняют пользователи, которые просматривают фото товара (27,5%)."
   ]
  },
  {
   "cell_type": "markdown",
   "metadata": {},
   "source": [
    "### Относительная частота событий в разрезе групп пользователей, которые смотрели и не смотрели контакты"
   ]
  },
  {
   "cell_type": "markdown",
   "metadata": {},
   "source": [
    "Далее проведём оценку, какие действия чаще совершают пользователи, которые просматривают и не просматривают контакты."
   ]
  },
  {
   "cell_type": "code",
   "execution_count": null,
   "metadata": {},
   "outputs": [],
   "source": [
    "# изменим бинарный признак на понятные подписи\n",
    "dt_merged['target_action'] = dt_merged['target_action'].map({False: 'Не смотрели контакты', True: 'Смотрели контакты'})\n",
    "\n",
    "# создаем сводную таблицу по событиям и группам пользователей:\n",
    "event_contacts = dt_merged.groupby(['event_name', 'target_action']).agg(count=('user_id', 'count')).reset_index()\n",
    "\n",
    "# добавляем сумму кол-ва событий в обеих группах для дальнейшего расчета доли каждого события в разрезе групп\n",
    "event_contacts['sum'] = event_contacts.groupby('target_action')['count'].transform(sum)\n",
    "\n",
    "# добавляем данные с долями и сортируем\n",
    "event_contacts['percent'] = round(event_contacts['count'] / event_contacts['sum']*100, 1)\n",
    "event_contacts = event_contacts.sort_values(by='percent')\n",
    "\n",
    "event_contacts"
   ]
  },
  {
   "cell_type": "code",
   "execution_count": null,
   "metadata": {},
   "outputs": [],
   "source": [
    "# строим график с разделением на группы\n",
    "\n",
    "fig = px.bar(event_contacts,\n",
    "             x='percent',\n",
    "             y='target_action',\n",
    "             color='event_name',\n",
    "             title='Распределение событий в группах пользователей',\n",
    "             text='percent')\n",
    "\n",
    "fig.update_layout(\n",
    "    yaxis_title=\"Группа\",\n",
    "    xaxis_title=\"Доля, %\",\n",
    "    legend_title='Событие',\n",
    ")\n",
    "\n",
    "fig.show(\"png\")"
   ]
  },
  {
   "cell_type": "markdown",
   "metadata": {},
   "source": [
    "Таким образом, в обеих группах наиболее популярное событие - `tips_show`. Однако, данное событие отображается автоматически для всех пользователей и не зависит от их действий.\n",
    "\n",
    "После просмотра контактов у пользователей группы целевого события и второе по популярности у группы пользователей, не смотревших контакты, является событие `photos_show`.\n",
    "Почти во всех случаях частота событий у группы, не смотревших контакты выше, чем частота событий у пользователей, совершивших действие просмотра контактов (исключение `photos_show` и `tips_click`), это происходит в результате отсутствия у группы, не смотревшей контакты, двух событий. При этом логично, что у группы, не совершавшей целевое действие, нет события `contacts_call`."
   ]
  },
  {
   "cell_type": "markdown",
   "metadata": {},
   "source": [
    "### Проверка гипотез"
   ]
  },
  {
   "cell_type": "markdown",
   "metadata": {},
   "source": [
    "#### Гипотеза 1. Конверсия в просмотры контактов различается у групп пользователей, совершивших действия `tips_show `и `tips_click` , и совершавших только `tips_show`."
   ]
  },
  {
   "cell_type": "markdown",
   "metadata": {},
   "source": [
    "Данная гипотеза о равенстве долей двух групп.\n",
    "\n",
    "Сформулируем двустороннюю гипотезу:\n",
    "\n",
    "- H0: *конверсия в просмотры контактов группы пользователей, совершивших `tips_show `и `tips_click` = конверсия в просмотры контактов группы пользователей, совершивших только `tips_show `*\n",
    "- H1: *конверсия в просмотры контактов группы пользователей, совершивших `tips_show `и `tips_click` ≠ конверсия в просмотры контактов группы пользователей, совершивших только `tips_show `*"
   ]
  },
  {
   "cell_type": "markdown",
   "metadata": {},
   "source": [
    "Создадим функцию `z-test`, которая позволит сравнивать выборки по разным событиям для разных групп:"
   ]
  },
  {
   "cell_type": "code",
   "execution_count": null,
   "metadata": {},
   "outputs": [],
   "source": [
    "def z_test(users_event_group1, users_event_group2, users_group1, users_group2, alpha):\n",
    "    \n",
    "    # пропорция пользователей, совершивших событие в первой группе:\n",
    "    p1 = users_event_group1/users_group1\n",
    "    \n",
    "    # пропорция пользователей, совершивших событие во второй группе:\n",
    "    p2 = users_event_group2/users_group2\n",
    "    \n",
    "    # пропорция успехов в комбинированном датасете:\n",
    "    p_combined = (users_event_group1 + users_event_group2) / (users_group1 + users_group2)\n",
    "    \n",
    "    # разница пропорций в датасетах\n",
    "    difference = p1 - p2\n",
    "    \n",
    "    # считаем статистику в ст.отклонениях стандартного нормального распределения\n",
    "    z_value = difference / mth.sqrt(p_combined * (1 - p_combined) * (1/users_group1 + 1/users_group2))\n",
    "    \n",
    "    # задаем стандартное нормальное распределение (среднее 0, ст.отклонение 1)\n",
    "    distr = st.norm(0, 1)\n",
    "    \n",
    "    p_value = (1 - distr.cdf(abs(z_value))) * 2\n",
    "    \n",
    "    print('p-значение: ', p_value)\n",
    "    \n",
    "    if p_value < alpha:\n",
    "        print('Отвергаем нулевую гипотезу: между долями есть значимая разница')\n",
    "    else:\n",
    "        print('Не получилось отвергнуть нулевую гипотезу, нет оснований считать доли разными') "
   ]
  },
  {
   "cell_type": "markdown",
   "metadata": {},
   "source": [
    "Воспользуемся фнкцией `funnel_func` для нахождения групп пользователей. Для начала необходимо посчитать конверсию в просмотры у каждой группы пользователей, то есть посчитать долю пользователей, совершивших целевое событие."
   ]
  },
  {
   "cell_type": "code",
   "execution_count": null,
   "metadata": {},
   "outputs": [],
   "source": [
    "event_names = ['tips_show', 'tips_click', 'contacts_show']\n",
    "dt_1, fig = create_funnel_df(dt_merged, event_names)\n",
    "dt_1"
   ]
  },
  {
   "cell_type": "code",
   "execution_count": null,
   "metadata": {
    "scrolled": true
   },
   "outputs": [],
   "source": [
    "round(dt_1.loc[len(dt_1)-1,'val']/dt_1.loc[len(dt_1)-2,'val'],2) # users_event_group1/users_group1"
   ]
  },
  {
   "cell_type": "markdown",
   "metadata": {},
   "source": [
    "Конверсия в просмотры у группы, совершивших `tips_show` и `tips_click` 23%."
   ]
  },
  {
   "cell_type": "code",
   "execution_count": null,
   "metadata": {},
   "outputs": [],
   "source": [
    "event_names = ['tips_show', 'contacts_show']\n",
    "dt_2, fig = create_funnel_df(dt_merged, event_names)\n",
    "dt_2"
   ]
  },
  {
   "cell_type": "markdown",
   "metadata": {},
   "source": [
    "Нужно отнять от полученного количества пользователей, тех, кто совершал `tips_click`:"
   ]
  },
  {
   "cell_type": "code",
   "execution_count": null,
   "metadata": {},
   "outputs": [],
   "source": [
    "round((dt_2.loc[len(dt_2)-1,'val']-dt_1.loc[len(dt_1)-1,'val'])\n",
    "    /(dt_2.loc[len(dt_2)-2,'val']-dt_1.loc[len(dt_1)-2,'val']),2) # users_event_group2/users_group2"
   ]
  },
  {
   "cell_type": "markdown",
   "metadata": {},
   "source": [
    "Конверсия в просмотры у группы, совершивших `tips_show` и не совершивших `tips_click` 17%."
   ]
  },
  {
   "cell_type": "markdown",
   "metadata": {},
   "source": [
    "Далее вызовем функцию `z-test` для двух групп пользователей. Примем исходный уровень значимости равный 5%."
   ]
  },
  {
   "cell_type": "code",
   "execution_count": null,
   "metadata": {},
   "outputs": [],
   "source": [
    "alpha = 0.05 #уровень статистической значимости"
   ]
  },
  {
   "cell_type": "code",
   "execution_count": null,
   "metadata": {
    "scrolled": true
   },
   "outputs": [],
   "source": [
    "z_test(\n",
    "    dt_1.loc[len(dt_1)-1,'val'],\n",
    "    dt_2.loc[len(dt_2)-1,'val']-dt_1.loc[len(dt_1)-1,'val'],\n",
    "    dt_1.loc[len(dt_1)-2,'val'],\n",
    "    dt_2.loc[len(dt_2)-2,'val']-dt_1.loc[len(dt_1)-2,'val'],\n",
    "    alpha\n",
    ")"
   ]
  },
  {
   "cell_type": "markdown",
   "metadata": {},
   "source": [
    "**Вывод**\n",
    "\n",
    "Полученное значение p-value меньше заданного уровня значимости, поэтому можно отвергнуть нулевую гипотезу. Значит, есть основания говорить, что конверсии в просмотры у групп пользователей, совершивших действия `tips_show `и `tips_click`, и совершавших только `tips_show` действительно разные."
   ]
  },
  {
   "cell_type": "markdown",
   "metadata": {},
   "source": [
    "#### Гипотеза 2. Конверсия в просмотры контактов одинакова у пользователей, совершивших действия `photos_show` и `favorites_add` и у пользователей совершивших только `photos_show`."
   ]
  },
  {
   "cell_type": "markdown",
   "metadata": {},
   "source": [
    "Сформулируем нулевую и правостороннюю гипотезу:\n",
    "\n",
    "- H0: *конверсия в просмотры контактов группы пользователей, совершивших `photos_show `и `favorites_add` = конверсия в просмотры контактов группы пользователей, совершивших только `photos_show `*\n",
    "- H1: *конверсия в просмотры контактов группы пользователей, совершивших `photos_show `и `favorites_add` ≠ конверсия в просмотры контактов группы пользователей, совершивших только `photos_show `*"
   ]
  },
  {
   "cell_type": "markdown",
   "metadata": {},
   "source": [
    "Воспользуемся фнкцией `funnel_func` для нахождения групп пользователей. Для начала необходимо посчитать конверсию в просмотры у каждой группы пользователей, то есть посчитать долю пользователей, совершивших целевое событие."
   ]
  },
  {
   "cell_type": "code",
   "execution_count": null,
   "metadata": {},
   "outputs": [],
   "source": [
    "event_names = ['photos_show', 'favorites_add', 'contacts_show']\n",
    "dt_1, fig = create_funnel_df(dt_merged, event_names)\n",
    "dt_1"
   ]
  },
  {
   "cell_type": "code",
   "execution_count": null,
   "metadata": {},
   "outputs": [],
   "source": [
    "round(dt_1.loc[len(dt_1)-1,'val']/dt_1.loc[len(dt_1)-2,'val'],2) # users_event_group1/users_group1"
   ]
  },
  {
   "cell_type": "markdown",
   "metadata": {},
   "source": [
    "Конверсия в просмотры у группы, совершивших `photos_show` и `favorites_add` 25%."
   ]
  },
  {
   "cell_type": "code",
   "execution_count": null,
   "metadata": {},
   "outputs": [],
   "source": [
    "event_names = ['photos_show', 'contacts_show']\n",
    "dt_2, fig = create_funnel_df(dt_merged, event_names)\n",
    "dt_2"
   ]
  },
  {
   "cell_type": "markdown",
   "metadata": {},
   "source": [
    "Нужно отнять от полученного количества пользователей, тех, кто совершал `favorites_add`:"
   ]
  },
  {
   "cell_type": "code",
   "execution_count": null,
   "metadata": {
    "scrolled": true
   },
   "outputs": [],
   "source": [
    "round((dt_2.loc[len(dt_2)-1,'val']-dt_1.loc[len(dt_1)-1,'val'])/\n",
    "      (dt_2.loc[len(dt_2)-2,'val']-dt_1.loc[len(dt_1)-2,'val']),2) # users_event_group2/users_group2"
   ]
  },
  {
   "cell_type": "markdown",
   "metadata": {},
   "source": [
    "Конверсия в просмотры у группы, совершивших `photos_show` и не совершавших `favorites_add` 28%."
   ]
  },
  {
   "cell_type": "markdown",
   "metadata": {},
   "source": [
    "Вызовем функцию `z-test` для двух групп пользователей с исходным уровнем значимости 5%."
   ]
  },
  {
   "cell_type": "code",
   "execution_count": null,
   "metadata": {},
   "outputs": [],
   "source": [
    "z_test(\n",
    "    dt_1.loc[len(dt_1)-1,'val'],\n",
    "    dt_2.loc[len(dt_2)-1,'val']-dt_1.loc[len(dt_1)-1,'val'],\n",
    "    dt_1.loc[len(dt_1)-2,'val'],\n",
    "    dt_2.loc[len(dt_2)-2,'val']-dt_1.loc[len(dt_1)-2,'val'],\n",
    "    alpha\n",
    ")"
   ]
  },
  {
   "cell_type": "markdown",
   "metadata": {},
   "source": [
    "**Вывод**\r\n",
    "\r\n",
    "Полученное значение p-value больше заданного уровня значимости. Значит, есть основания говорить, что конверсия в просмотры контактов одинакова у пользователей, совершивших действия `photos_show` и `favorites_add` и у пользователей совершивших только `photos_show`."
   ]
  },
  {
   "cell_type": "markdown",
   "metadata": {},
   "source": [
    "**Вывод**\n",
    "\n",
    "Полученное значение p-value больше заданного уровня значимости. Значит, есть основания говорить, что конверсия в просмотры контактов одинакова у пользователей, совершивших действия `photos_show` и `favorites_add` и у пользователей совершивших только `photos_show`."
   ]
  },
  {
   "cell_type": "markdown",
   "metadata": {},
   "source": [
    "## Общий вывод и рекомендации по результатам исследования "
   ]
  },
  {
   "cell_type": "markdown",
   "metadata": {},
   "source": [
    "В ходе проведенного исследования для приложения *Ненужные вещи* проанализированы данные о пользователях, привлечённых с 7 октября по 3 ноября 2019 года, их действиях и сессиях.\n",
    "Исследование проводилось в несколько этапов:\n",
    "\n",
    "- выполнена предобработка данных: установлен корректный тип данных и стиль оформления, проведена проверка на пропуски и дубликаты;\n",
    "- проведен исследовательский анализ данных, включающий обработку источников установки приложения и соотношение пользователей по выполнению целевого действия;\n",
    "- выделены профили пользователей;\n",
    "- рассчитаны и визуализированы такие метрики, как конверсия и удержание пользователей;\n",
    "- проанализирована связь целевого события - просмотра контактов - с другими событиями: построена диаграмма Санкея и воронки по основным сценариям, ведущим к целевому событию;\n",
    "- рассмотрена относительная частота событий в разрезе групп пользователей, которые смотрели и не смотрели контакты;\n",
    "- проверены две статистические гипотезы.\n",
    "\n",
    "**Ниже приведены выводы по каждому шагу исследования:**\n",
    "\n",
    "**В ходе исследовательского анализа данных, получены следующие результаты:**\n",
    "\n",
    "1. Чаще всего пользователи устанавливают приложение через *yandex* - в 45% случаев, реже всего - через *google* - в 26% случаев. При этом целевое действие выполняют большинство пользователей пришедших из yandex, реже - пришедшие из google. Это означает, что зависимости между источниками установки и выполнением целевого действия нет.\n",
    "\n",
    "\n",
    "2. Большинство пользователей ни разу не просматривали контакты покупателей - около 77%. Скорее всего, они не находят в приложении того, что искали, либо осуществляют только продажу товаров и их не интересует покупка.\n",
    "\n",
    "\n",
    "3. Пользователи приложения на 14-й день конвертируются с показателем ~ 22,5%. Конверсия 14-го дня волатильная, это может быть связано с небольшим количеством наблюдений, которые сильно влияют на результат.\n",
    "\n",
    "\n",
    "4. Удержание пользователей, просматривающих контакты выше, чем непросматривавших, удержание в обеих группах пользователей постепенно снижается. Есть резкий скачок удержания на 7 день среди пользователей, выполняющих целевое действие, на это может влиять необходимость обновления объявления через неделю после размещения, что может привлекать пользователей для повторного возвращения в приложение и просмотра интересных объявлений. При этом динамика удержания пользователей на 14-й день падает в отношении пользователей привлеченных с конца октября.\n",
    "\n",
    "\n",
    "5. Выделены несколько основных воронок сценариев, ведущих к целевому событию \"просмотр контактов\":\n",
    "\n",
    "- `tips_show -> contacts_show`\n",
    "- `search -> contacts_show`\n",
    "- `photos_show -> contacts_show`\n",
    "- `map -> tips_show -> contacts_show`\n",
    "\n",
    "    Есть большое количество сценариев, начинающихся сразу с целевого события `contacts_show`.\n",
    "    \n",
    "6. При построении воронок по выбранным сценариям в разрезе уникальных пользователей наибольший относительный процент целевого события выполняют пользователи, которые просматривают фото товара (27,5%).\n",
    "\n",
    "\n",
    "7. Наиболее популярное событие среди пользователей, как просматривавших так и не просматривавших контакты, - `tips_show`.  Однако, данное событие отображается автоматически для всех пользователей и не зависит от их действий. Почти во всех случаях частота событий у группы, не смотревших контакты выше, чем частота событий у пользователей, совершивших действие просмотра контактов (исключение `photos_show` и `tips_click`), это происходит в результате отсутствия у группы, не смотревшей контакты, двух событий.\n",
    "\n",
    "**Были проверены следущие гипотезы:**\n",
    "\n",
    "1. В результате проверки гипотезы о том, конверсия в просмотры контактов различается у групп пользователей, совершивших действия `tips_show` и `tips_click`, и совершавших только `tips_show`, статистический тест показал, что *есть основания говорить, что конверсии в просмотры у данных групп пользователей разные*.\n",
    "\n",
    "\n",
    "2. Проверка гипотезы о том, что конверсии в просмотры контактов у пользователей, совершивших действия `photos_show` и `favorites_add` и у пользователей совершивших только `photos_show` одинаковы, показала, что *есть основания говорить, что конверсия в просмотры контактов у данных групп пользователей действительно одинаковы*.\n",
    "\n",
    "**Дальнейшие рекомендации для увеличения вовлеченности пользователей:** \n",
    "\n",
    "1. Стоит обратить внимание на то, что динамика удержания пользователей на 14-й день начала падать в отношении пользователей привлеченных в конце октября, необходимы мероприятия по удержанию пользователей;\n",
    "\n",
    "\n",
    "2. Чаще остальных пользователи, просматривающие фотографии товара, выполняют целевое действие по просмотру контактов. Важно стимулировать продавцов загружать, как можно больше фото своего товара, так как это влияет на принятие решений о покупке. Можно зафиксировать минимальное количество фотографий, которые должен загружать продавец;\n",
    "\n",
    "\n",
    "3. Пользователи, которые не просматривают контакты, почти в 2 раза чаще открывают карту, чем те, кто просматривают контакты. Возможно, многим таким пользователям недоступна покупка товара из-за местоположения. Стоит рассмотреть способы доставки товара с условиями, которые повысят вовлеченность пользователей;\n",
    "\n",
    "\n",
    "4. Конверсия пользователей, которые просматривают и открывают рекомендованные объявления выше, чем конверсия тех, кто только видит рекомендованные объявления. Стоит сделать акцент на развитие рекомендательной системы приложения, чтобы показывать пользователям именно то, что их заинтересует и, тем самым, повысить конверсию в целевое действие."
   ]
  }
 ],
 "metadata": {
  "ExecuteTimeLog": [
   {
    "duration": 873,
    "start_time": "2024-06-04T06:03:15.440Z"
   },
   {
    "duration": 61,
    "start_time": "2024-06-04T06:07:36.480Z"
   },
   {
    "duration": 353,
    "start_time": "2024-06-04T06:08:13.834Z"
   },
   {
    "duration": 13,
    "start_time": "2024-06-04T06:08:18.314Z"
   },
   {
    "duration": 9,
    "start_time": "2024-06-04T06:08:23.903Z"
   },
   {
    "duration": 4,
    "start_time": "2024-06-04T06:08:42.924Z"
   },
   {
    "duration": 37,
    "start_time": "2024-06-04T06:09:56.587Z"
   },
   {
    "duration": 186,
    "start_time": "2024-06-04T06:12:03.510Z"
   },
   {
    "duration": 4,
    "start_time": "2024-06-04T06:37:48.385Z"
   },
   {
    "duration": 83,
    "start_time": "2024-06-04T06:37:59.851Z"
   },
   {
    "duration": 5,
    "start_time": "2024-06-04T06:38:02.339Z"
   },
   {
    "duration": 7,
    "start_time": "2024-06-04T06:40:05.937Z"
   },
   {
    "duration": 2,
    "start_time": "2024-06-04T06:40:11.792Z"
   },
   {
    "duration": 4,
    "start_time": "2024-06-04T06:40:22.235Z"
   },
   {
    "duration": 5,
    "start_time": "2024-06-04T06:40:30.777Z"
   },
   {
    "duration": 30,
    "start_time": "2024-06-04T06:43:36.893Z"
   },
   {
    "duration": 12,
    "start_time": "2024-06-04T06:45:50.223Z"
   },
   {
    "duration": 3,
    "start_time": "2024-06-04T06:46:11.195Z"
   },
   {
    "duration": 11,
    "start_time": "2024-06-04T06:46:20.852Z"
   },
   {
    "duration": 711,
    "start_time": "2024-06-04T06:46:54.349Z"
   },
   {
    "duration": 300,
    "start_time": "2024-06-04T06:46:55.064Z"
   },
   {
    "duration": 4,
    "start_time": "2024-06-04T06:46:55.365Z"
   },
   {
    "duration": 41,
    "start_time": "2024-06-04T06:46:55.371Z"
   },
   {
    "duration": 191,
    "start_time": "2024-06-04T06:46:55.413Z"
   },
   {
    "duration": 5,
    "start_time": "2024-06-04T06:46:55.605Z"
   },
   {
    "duration": 21,
    "start_time": "2024-06-04T06:46:55.612Z"
   },
   {
    "duration": 36,
    "start_time": "2024-06-04T06:46:55.635Z"
   },
   {
    "duration": 11,
    "start_time": "2024-06-04T06:46:55.672Z"
   },
   {
    "duration": 60,
    "start_time": "2024-06-04T06:49:51.201Z"
   },
   {
    "duration": 20,
    "start_time": "2024-06-04T06:49:57.474Z"
   },
   {
    "duration": 27,
    "start_time": "2024-06-04T06:50:46.583Z"
   },
   {
    "duration": 17,
    "start_time": "2024-06-04T06:51:04.798Z"
   },
   {
    "duration": 19,
    "start_time": "2024-06-04T06:51:10.663Z"
   },
   {
    "duration": 19,
    "start_time": "2024-06-04T06:51:16.405Z"
   },
   {
    "duration": 95,
    "start_time": "2024-06-04T06:59:11.740Z"
   },
   {
    "duration": 14,
    "start_time": "2024-06-04T07:00:09.322Z"
   },
   {
    "duration": 14,
    "start_time": "2024-06-04T07:00:14.561Z"
   },
   {
    "duration": 34,
    "start_time": "2024-06-04T07:01:16.936Z"
   },
   {
    "duration": 330,
    "start_time": "2024-06-04T07:04:33.337Z"
   },
   {
    "duration": 9,
    "start_time": "2024-06-04T07:07:54.097Z"
   },
   {
    "duration": 7,
    "start_time": "2024-06-04T07:07:56.189Z"
   },
   {
    "duration": 44,
    "start_time": "2024-06-06T05:25:11.133Z"
   },
   {
    "duration": 844,
    "start_time": "2024-06-06T05:25:18.124Z"
   },
   {
    "duration": 429,
    "start_time": "2024-06-06T05:25:18.971Z"
   },
   {
    "duration": 4,
    "start_time": "2024-06-06T05:25:19.401Z"
   },
   {
    "duration": 47,
    "start_time": "2024-06-06T05:25:19.406Z"
   },
   {
    "duration": 194,
    "start_time": "2024-06-06T05:25:19.454Z"
   },
   {
    "duration": 4,
    "start_time": "2024-06-06T05:25:19.650Z"
   },
   {
    "duration": 9,
    "start_time": "2024-06-06T05:25:19.655Z"
   },
   {
    "duration": 50,
    "start_time": "2024-06-06T05:25:19.666Z"
   },
   {
    "duration": 12,
    "start_time": "2024-06-06T05:25:19.718Z"
   },
   {
    "duration": 37,
    "start_time": "2024-06-06T05:25:19.732Z"
   },
   {
    "duration": 21,
    "start_time": "2024-06-06T05:25:19.770Z"
   },
   {
    "duration": 391,
    "start_time": "2024-06-06T05:25:19.793Z"
   },
   {
    "duration": 7,
    "start_time": "2024-06-06T05:25:20.186Z"
   },
   {
    "duration": 18,
    "start_time": "2024-06-06T05:25:20.195Z"
   },
   {
    "duration": 89,
    "start_time": "2024-06-06T05:25:20.215Z"
   },
   {
    "duration": 5,
    "start_time": "2024-06-06T05:25:24.140Z"
   },
   {
    "duration": 4,
    "start_time": "2024-06-06T05:29:57.721Z"
   },
   {
    "duration": 688,
    "start_time": "2024-06-06T05:30:17.984Z"
   },
   {
    "duration": 329,
    "start_time": "2024-06-06T05:30:18.673Z"
   },
   {
    "duration": 4,
    "start_time": "2024-06-06T05:30:19.003Z"
   },
   {
    "duration": 46,
    "start_time": "2024-06-06T05:30:19.009Z"
   },
   {
    "duration": 197,
    "start_time": "2024-06-06T05:30:19.057Z"
   },
   {
    "duration": 5,
    "start_time": "2024-06-06T05:30:19.255Z"
   },
   {
    "duration": 12,
    "start_time": "2024-06-06T05:30:19.261Z"
   },
   {
    "duration": 51,
    "start_time": "2024-06-06T05:30:19.275Z"
   },
   {
    "duration": 15,
    "start_time": "2024-06-06T05:30:19.327Z"
   },
   {
    "duration": 24,
    "start_time": "2024-06-06T05:30:19.345Z"
   },
   {
    "duration": 20,
    "start_time": "2024-06-06T05:30:19.371Z"
   },
   {
    "duration": 385,
    "start_time": "2024-06-06T05:30:19.409Z"
   },
   {
    "duration": 6,
    "start_time": "2024-06-06T05:30:19.796Z"
   },
   {
    "duration": 19,
    "start_time": "2024-06-06T05:30:19.808Z"
   },
   {
    "duration": 7,
    "start_time": "2024-06-06T05:30:19.828Z"
   },
   {
    "duration": 908,
    "start_time": "2024-06-06T05:30:19.837Z"
   },
   {
    "duration": 5,
    "start_time": "2024-06-06T05:30:28.895Z"
   },
   {
    "duration": 17,
    "start_time": "2024-06-06T05:30:54.857Z"
   },
   {
    "duration": 5,
    "start_time": "2024-06-06T05:33:33.276Z"
   },
   {
    "duration": 5,
    "start_time": "2024-06-06T05:33:34.909Z"
   },
   {
    "duration": 11,
    "start_time": "2024-06-06T05:33:39.986Z"
   },
   {
    "duration": 4,
    "start_time": "2024-06-06T05:34:52.670Z"
   },
   {
    "duration": 6,
    "start_time": "2024-06-06T05:34:54.696Z"
   },
   {
    "duration": 371,
    "start_time": "2024-06-06T05:34:57.274Z"
   },
   {
    "duration": 53,
    "start_time": "2024-06-06T05:35:27.885Z"
   },
   {
    "duration": 32,
    "start_time": "2024-06-06T05:36:07.540Z"
   },
   {
    "duration": 39,
    "start_time": "2024-06-06T05:37:50.491Z"
   },
   {
    "duration": 33,
    "start_time": "2024-06-06T05:38:17.239Z"
   },
   {
    "duration": 32,
    "start_time": "2024-06-06T05:38:43.926Z"
   },
   {
    "duration": 30,
    "start_time": "2024-06-06T05:39:05.075Z"
   },
   {
    "duration": 31,
    "start_time": "2024-06-06T05:39:21.072Z"
   },
   {
    "duration": 9,
    "start_time": "2024-06-06T05:40:15.745Z"
   },
   {
    "duration": 5,
    "start_time": "2024-06-06T05:42:03.321Z"
   },
   {
    "duration": 63,
    "start_time": "2024-06-06T05:42:27.073Z"
   },
   {
    "duration": 10,
    "start_time": "2024-06-06T05:42:46.855Z"
   },
   {
    "duration": 35,
    "start_time": "2024-06-06T05:42:55.798Z"
   },
   {
    "duration": 16,
    "start_time": "2024-06-06T05:50:32.493Z"
   },
   {
    "duration": 10,
    "start_time": "2024-06-06T05:50:54.034Z"
   },
   {
    "duration": 10,
    "start_time": "2024-06-06T05:51:29.384Z"
   },
   {
    "duration": 13,
    "start_time": "2024-06-06T05:51:36.118Z"
   },
   {
    "duration": 29,
    "start_time": "2024-06-06T05:55:48.069Z"
   },
   {
    "duration": 23,
    "start_time": "2024-06-06T05:56:03.969Z"
   },
   {
    "duration": 15,
    "start_time": "2024-06-06T05:57:15.059Z"
   },
   {
    "duration": 860,
    "start_time": "2024-06-06T05:57:20.292Z"
   },
   {
    "duration": 14,
    "start_time": "2024-06-06T05:57:28.989Z"
   },
   {
    "duration": 16,
    "start_time": "2024-06-06T05:57:52.767Z"
   },
   {
    "duration": 20,
    "start_time": "2024-06-06T05:58:51.812Z"
   },
   {
    "duration": 15,
    "start_time": "2024-06-06T05:59:00.528Z"
   },
   {
    "duration": 17,
    "start_time": "2024-06-06T05:59:17.985Z"
   },
   {
    "duration": 16,
    "start_time": "2024-06-06T05:59:24.682Z"
   },
   {
    "duration": 16,
    "start_time": "2024-06-06T05:59:36.296Z"
   },
   {
    "duration": 12,
    "start_time": "2024-06-06T06:00:23.526Z"
   },
   {
    "duration": 17,
    "start_time": "2024-06-06T06:00:29.124Z"
   },
   {
    "duration": 9,
    "start_time": "2024-06-06T06:01:26.677Z"
   },
   {
    "duration": 16,
    "start_time": "2024-06-06T06:02:04.083Z"
   },
   {
    "duration": 19,
    "start_time": "2024-06-06T06:02:11.210Z"
   },
   {
    "duration": 17,
    "start_time": "2024-06-06T06:02:17.423Z"
   },
   {
    "duration": 17,
    "start_time": "2024-06-06T06:02:32.894Z"
   },
   {
    "duration": 17,
    "start_time": "2024-06-06T06:02:40.019Z"
   },
   {
    "duration": 6,
    "start_time": "2024-06-06T06:03:59.982Z"
   },
   {
    "duration": 20,
    "start_time": "2024-06-06T06:04:10.860Z"
   },
   {
    "duration": 8,
    "start_time": "2024-06-06T06:04:29.942Z"
   },
   {
    "duration": 22,
    "start_time": "2024-06-06T06:04:44.396Z"
   },
   {
    "duration": 42,
    "start_time": "2024-06-06T06:04:58.129Z"
   },
   {
    "duration": 38,
    "start_time": "2024-06-06T06:07:09.333Z"
   },
   {
    "duration": 798,
    "start_time": "2024-06-08T08:52:27.298Z"
   },
   {
    "duration": 270,
    "start_time": "2024-06-08T08:52:28.098Z"
   },
   {
    "duration": 4,
    "start_time": "2024-06-08T08:52:28.369Z"
   },
   {
    "duration": 55,
    "start_time": "2024-06-08T08:52:28.375Z"
   },
   {
    "duration": 272,
    "start_time": "2024-06-08T08:52:28.431Z"
   },
   {
    "duration": 5,
    "start_time": "2024-06-08T08:52:28.705Z"
   },
   {
    "duration": 19,
    "start_time": "2024-06-08T08:52:28.711Z"
   },
   {
    "duration": 31,
    "start_time": "2024-06-08T08:52:28.731Z"
   },
   {
    "duration": 33,
    "start_time": "2024-06-08T08:52:28.763Z"
   },
   {
    "duration": 20,
    "start_time": "2024-06-08T08:52:28.798Z"
   },
   {
    "duration": 26,
    "start_time": "2024-06-08T08:52:28.820Z"
   },
   {
    "duration": 392,
    "start_time": "2024-06-08T08:52:28.847Z"
   },
   {
    "duration": 8,
    "start_time": "2024-06-08T08:52:29.241Z"
   },
   {
    "duration": 9,
    "start_time": "2024-06-08T08:52:29.251Z"
   },
   {
    "duration": 29,
    "start_time": "2024-06-08T08:52:29.261Z"
   },
   {
    "duration": 452,
    "start_time": "2024-06-08T08:52:29.293Z"
   },
   {
    "duration": 82,
    "start_time": "2024-06-08T08:52:29.747Z"
   },
   {
    "duration": 21,
    "start_time": "2024-06-08T08:53:09.022Z"
   },
   {
    "duration": 55,
    "start_time": "2024-06-08T08:57:19.710Z"
   },
   {
    "duration": 89,
    "start_time": "2024-06-08T08:59:42.593Z"
   },
   {
    "duration": 859,
    "start_time": "2024-06-08T09:04:42.636Z"
   },
   {
    "duration": 77,
    "start_time": "2024-06-08T09:05:14.601Z"
   },
   {
    "duration": 926,
    "start_time": "2024-06-08T09:05:19.617Z"
   },
   {
    "duration": 765,
    "start_time": "2024-06-08T09:05:28.355Z"
   },
   {
    "duration": 794,
    "start_time": "2024-06-08T09:06:09.399Z"
   },
   {
    "duration": 18,
    "start_time": "2024-06-08T09:06:26.806Z"
   },
   {
    "duration": 787,
    "start_time": "2024-06-08T09:08:03.869Z"
   },
   {
    "duration": 844,
    "start_time": "2024-06-08T09:08:22.768Z"
   },
   {
    "duration": 870,
    "start_time": "2024-06-08T09:09:01.912Z"
   },
   {
    "duration": 1130,
    "start_time": "2024-06-08T09:09:41.710Z"
   },
   {
    "duration": 5,
    "start_time": "2024-06-08T09:16:34.610Z"
   },
   {
    "duration": 835,
    "start_time": "2024-06-08T09:16:37.977Z"
   },
   {
    "duration": 1853,
    "start_time": "2024-06-08T09:17:23.609Z"
   },
   {
    "duration": 878,
    "start_time": "2024-06-08T09:17:33.636Z"
   },
   {
    "duration": 63,
    "start_time": "2024-06-08T09:23:40.863Z"
   },
   {
    "duration": 769,
    "start_time": "2024-06-08T09:23:58.481Z"
   },
   {
    "duration": 347,
    "start_time": "2024-06-08T09:23:59.251Z"
   },
   {
    "duration": 4,
    "start_time": "2024-06-08T09:23:59.600Z"
   },
   {
    "duration": 45,
    "start_time": "2024-06-08T09:23:59.606Z"
   },
   {
    "duration": 214,
    "start_time": "2024-06-08T09:23:59.652Z"
   },
   {
    "duration": 17,
    "start_time": "2024-06-08T09:23:59.867Z"
   },
   {
    "duration": 27,
    "start_time": "2024-06-08T09:23:59.886Z"
   },
   {
    "duration": 30,
    "start_time": "2024-06-08T09:23:59.915Z"
   },
   {
    "duration": 11,
    "start_time": "2024-06-08T09:23:59.947Z"
   },
   {
    "duration": 31,
    "start_time": "2024-06-08T09:23:59.961Z"
   },
   {
    "duration": 25,
    "start_time": "2024-06-08T09:23:59.993Z"
   },
   {
    "duration": 373,
    "start_time": "2024-06-08T09:24:00.019Z"
   },
   {
    "duration": 8,
    "start_time": "2024-06-08T09:24:00.393Z"
   },
   {
    "duration": 75,
    "start_time": "2024-06-08T09:24:00.402Z"
   },
   {
    "duration": 43,
    "start_time": "2024-06-08T09:24:00.479Z"
   },
   {
    "duration": 426,
    "start_time": "2024-06-08T09:24:00.523Z"
   },
   {
    "duration": 68,
    "start_time": "2024-06-08T09:24:00.951Z"
   },
   {
    "duration": 1063,
    "start_time": "2024-06-08T09:24:01.021Z"
   },
   {
    "duration": 18,
    "start_time": "2024-06-08T09:24:02.087Z"
   },
   {
    "duration": 933,
    "start_time": "2024-06-08T09:24:17.823Z"
   },
   {
    "duration": 838,
    "start_time": "2024-06-08T09:27:47.473Z"
   },
   {
    "duration": 869,
    "start_time": "2024-06-08T09:28:43.880Z"
   },
   {
    "duration": 1162,
    "start_time": "2024-06-08T09:31:38.028Z"
   },
   {
    "duration": 21,
    "start_time": "2024-06-08T09:31:41.596Z"
   },
   {
    "duration": 1170,
    "start_time": "2024-06-08T09:32:06.804Z"
   },
   {
    "duration": 17,
    "start_time": "2024-06-08T09:32:09.275Z"
   },
   {
    "duration": 187,
    "start_time": "2024-06-08T09:32:35.326Z"
   },
   {
    "duration": 176,
    "start_time": "2024-06-08T09:35:39.025Z"
   },
   {
    "duration": 170,
    "start_time": "2024-06-08T09:35:47.986Z"
   },
   {
    "duration": 160,
    "start_time": "2024-06-08T09:36:01.286Z"
   },
   {
    "duration": 263,
    "start_time": "2024-06-08T09:36:13.561Z"
   },
   {
    "duration": 219,
    "start_time": "2024-06-08T09:36:18.328Z"
   },
   {
    "duration": 262,
    "start_time": "2024-06-08T09:36:26.176Z"
   },
   {
    "duration": 1435,
    "start_time": "2024-06-08T09:36:33.312Z"
   },
   {
    "duration": 1454,
    "start_time": "2024-06-08T09:36:39.953Z"
   },
   {
    "duration": 155,
    "start_time": "2024-06-08T09:38:18.131Z"
   },
   {
    "duration": 177,
    "start_time": "2024-06-08T09:38:22.636Z"
   },
   {
    "duration": 154,
    "start_time": "2024-06-08T09:39:07.967Z"
   },
   {
    "duration": 150,
    "start_time": "2024-06-08T09:39:28.146Z"
   },
   {
    "duration": 145,
    "start_time": "2024-06-08T09:39:37.362Z"
   },
   {
    "duration": 8,
    "start_time": "2024-06-08T09:40:00.632Z"
   },
   {
    "duration": 10,
    "start_time": "2024-06-08T09:40:05.861Z"
   },
   {
    "duration": 10,
    "start_time": "2024-06-08T09:41:38.394Z"
   },
   {
    "duration": 617,
    "start_time": "2024-06-08T09:42:12.873Z"
   },
   {
    "duration": 121,
    "start_time": "2024-06-08T09:42:16.167Z"
   },
   {
    "duration": 116,
    "start_time": "2024-06-08T09:42:44.520Z"
   },
   {
    "duration": 93,
    "start_time": "2024-06-08T09:43:03.910Z"
   },
   {
    "duration": 17,
    "start_time": "2024-06-08T09:43:18.915Z"
   },
   {
    "duration": 1268,
    "start_time": "2024-06-08T09:44:38.401Z"
   },
   {
    "duration": 18,
    "start_time": "2024-06-08T09:44:42.957Z"
   },
   {
    "duration": 811,
    "start_time": "2024-06-08T09:44:54.502Z"
   },
   {
    "duration": 16,
    "start_time": "2024-06-08T09:44:55.618Z"
   },
   {
    "duration": 885,
    "start_time": "2024-06-08T09:45:03.479Z"
   },
   {
    "duration": 17,
    "start_time": "2024-06-08T09:45:05.820Z"
   },
   {
    "duration": 1241,
    "start_time": "2024-06-08T09:45:10.420Z"
   },
   {
    "duration": 23,
    "start_time": "2024-06-08T09:45:11.663Z"
   },
   {
    "duration": 1228,
    "start_time": "2024-06-08T09:46:00.329Z"
   },
   {
    "duration": 19,
    "start_time": "2024-06-08T09:46:02.497Z"
   },
   {
    "duration": 30,
    "start_time": "2024-06-08T09:47:36.573Z"
   },
   {
    "duration": 16,
    "start_time": "2024-06-08T09:48:14.633Z"
   },
   {
    "duration": 16,
    "start_time": "2024-06-08T09:49:03.072Z"
   },
   {
    "duration": 20,
    "start_time": "2024-06-08T09:49:24.817Z"
   },
   {
    "duration": 55,
    "start_time": "2024-06-08T09:50:25.239Z"
   },
   {
    "duration": 3,
    "start_time": "2024-06-08T09:51:15.224Z"
   },
   {
    "duration": 23,
    "start_time": "2024-06-08T09:51:17.979Z"
   },
   {
    "duration": 17,
    "start_time": "2024-06-08T09:51:29.359Z"
   },
   {
    "duration": 13,
    "start_time": "2024-06-08T09:52:12.293Z"
   },
   {
    "duration": 22,
    "start_time": "2024-06-08T09:52:15.147Z"
   },
   {
    "duration": 30,
    "start_time": "2024-06-08T09:52:30.769Z"
   },
   {
    "duration": 21,
    "start_time": "2024-06-08T09:53:12.083Z"
   },
   {
    "duration": 19,
    "start_time": "2024-06-08T09:53:37.912Z"
   },
   {
    "duration": 157,
    "start_time": "2024-06-08T09:53:50.636Z"
   },
   {
    "duration": 19,
    "start_time": "2024-06-08T09:54:23.823Z"
   },
   {
    "duration": 35,
    "start_time": "2024-06-08T09:54:31.988Z"
   },
   {
    "duration": 8,
    "start_time": "2024-06-08T09:55:22.264Z"
   },
   {
    "duration": 26,
    "start_time": "2024-06-08T09:55:35.182Z"
   },
   {
    "duration": 13,
    "start_time": "2024-06-08T09:56:10.343Z"
   },
   {
    "duration": 2046,
    "start_time": "2024-06-08T09:57:24.728Z"
   },
   {
    "duration": 14,
    "start_time": "2024-06-08T09:57:28.598Z"
   },
   {
    "duration": 25,
    "start_time": "2024-06-08T09:57:50.614Z"
   },
   {
    "duration": 151,
    "start_time": "2024-06-08T09:58:19.598Z"
   },
   {
    "duration": 2020,
    "start_time": "2024-06-08T09:59:04.707Z"
   },
   {
    "duration": 13,
    "start_time": "2024-06-08T09:59:09.692Z"
   },
   {
    "duration": 1626,
    "start_time": "2024-06-08T09:59:14.568Z"
   },
   {
    "duration": 13,
    "start_time": "2024-06-08T09:59:17.167Z"
   },
   {
    "duration": 1903,
    "start_time": "2024-06-08T10:00:54.789Z"
   },
   {
    "duration": 16,
    "start_time": "2024-06-08T10:00:58.802Z"
   },
   {
    "duration": 8,
    "start_time": "2024-06-08T10:01:50.397Z"
   },
   {
    "duration": 10,
    "start_time": "2024-06-08T10:01:55.910Z"
   },
   {
    "duration": 8,
    "start_time": "2024-06-08T10:01:59.476Z"
   },
   {
    "duration": 12,
    "start_time": "2024-06-08T10:02:41.294Z"
   },
   {
    "duration": 27,
    "start_time": "2024-06-08T10:03:56.827Z"
   },
   {
    "duration": 19,
    "start_time": "2024-06-08T10:12:27.022Z"
   },
   {
    "duration": 13,
    "start_time": "2024-06-08T10:13:03.579Z"
   },
   {
    "duration": 1975,
    "start_time": "2024-06-08T10:14:50.807Z"
   },
   {
    "duration": 18,
    "start_time": "2024-06-08T10:14:54.132Z"
   },
   {
    "duration": 8,
    "start_time": "2024-06-08T10:14:57.495Z"
   },
   {
    "duration": 1375,
    "start_time": "2024-06-08T10:15:02.778Z"
   },
   {
    "duration": 387,
    "start_time": "2024-06-08T10:15:04.155Z"
   },
   {
    "duration": 4,
    "start_time": "2024-06-08T10:15:04.544Z"
   },
   {
    "duration": 111,
    "start_time": "2024-06-08T10:15:04.550Z"
   },
   {
    "duration": 189,
    "start_time": "2024-06-08T10:15:04.663Z"
   },
   {
    "duration": 4,
    "start_time": "2024-06-08T10:15:04.854Z"
   },
   {
    "duration": 5,
    "start_time": "2024-06-08T10:15:04.882Z"
   },
   {
    "duration": 33,
    "start_time": "2024-06-08T10:15:04.889Z"
   },
   {
    "duration": 12,
    "start_time": "2024-06-08T10:15:04.924Z"
   },
   {
    "duration": 49,
    "start_time": "2024-06-08T10:15:04.940Z"
   },
   {
    "duration": 26,
    "start_time": "2024-06-08T10:15:04.990Z"
   },
   {
    "duration": 390,
    "start_time": "2024-06-08T10:15:05.018Z"
   },
   {
    "duration": 10,
    "start_time": "2024-06-08T10:15:05.410Z"
   },
   {
    "duration": 12,
    "start_time": "2024-06-08T10:15:05.421Z"
   },
   {
    "duration": 27,
    "start_time": "2024-06-08T10:15:05.434Z"
   },
   {
    "duration": 348,
    "start_time": "2024-06-08T10:15:05.463Z"
   },
   {
    "duration": 88,
    "start_time": "2024-06-08T10:15:05.813Z"
   },
   {
    "duration": 1992,
    "start_time": "2024-06-08T10:15:05.903Z"
   },
   {
    "duration": 18,
    "start_time": "2024-06-08T10:15:07.897Z"
   },
   {
    "duration": 30,
    "start_time": "2024-06-08T10:15:07.916Z"
   },
   {
    "duration": 18,
    "start_time": "2024-06-08T10:15:07.948Z"
   },
   {
    "duration": 202,
    "start_time": "2024-06-08T10:15:07.969Z"
   },
   {
    "duration": 11,
    "start_time": "2024-06-08T10:17:41.875Z"
   },
   {
    "duration": 11,
    "start_time": "2024-06-08T10:17:45.290Z"
   },
   {
    "duration": 13,
    "start_time": "2024-06-08T10:17:49.763Z"
   },
   {
    "duration": 13,
    "start_time": "2024-06-08T10:19:04.778Z"
   },
   {
    "duration": 18,
    "start_time": "2024-06-08T10:19:21.897Z"
   },
   {
    "duration": 5,
    "start_time": "2024-06-08T10:21:27.405Z"
   },
   {
    "duration": 4,
    "start_time": "2024-06-08T10:26:27.396Z"
   },
   {
    "duration": 7,
    "start_time": "2024-06-08T10:26:30.964Z"
   },
   {
    "duration": 6,
    "start_time": "2024-06-08T10:26:37.767Z"
   },
   {
    "duration": 9,
    "start_time": "2024-06-08T10:26:39.205Z"
   },
   {
    "duration": 6,
    "start_time": "2024-06-08T10:26:56.456Z"
   },
   {
    "duration": 8,
    "start_time": "2024-06-08T10:28:12.324Z"
   },
   {
    "duration": 1330,
    "start_time": "2024-06-08T10:28:17.881Z"
   },
   {
    "duration": 347,
    "start_time": "2024-06-08T10:28:19.214Z"
   },
   {
    "duration": 5,
    "start_time": "2024-06-08T10:28:19.563Z"
   },
   {
    "duration": 64,
    "start_time": "2024-06-08T10:28:19.569Z"
   },
   {
    "duration": 263,
    "start_time": "2024-06-08T10:28:19.635Z"
   },
   {
    "duration": 6,
    "start_time": "2024-06-08T10:28:19.900Z"
   },
   {
    "duration": 37,
    "start_time": "2024-06-08T10:28:19.908Z"
   },
   {
    "duration": 67,
    "start_time": "2024-06-08T10:28:19.947Z"
   },
   {
    "duration": 16,
    "start_time": "2024-06-08T10:28:20.016Z"
   },
   {
    "duration": 27,
    "start_time": "2024-06-08T10:28:20.036Z"
   },
   {
    "duration": 47,
    "start_time": "2024-06-08T10:28:20.065Z"
   },
   {
    "duration": 412,
    "start_time": "2024-06-08T10:28:20.113Z"
   },
   {
    "duration": 9,
    "start_time": "2024-06-08T10:28:20.527Z"
   },
   {
    "duration": 18,
    "start_time": "2024-06-08T10:28:20.538Z"
   },
   {
    "duration": 10,
    "start_time": "2024-06-08T10:28:20.558Z"
   },
   {
    "duration": 342,
    "start_time": "2024-06-08T10:28:20.581Z"
   },
   {
    "duration": 84,
    "start_time": "2024-06-08T10:28:20.925Z"
   },
   {
    "duration": 2046,
    "start_time": "2024-06-08T10:28:21.011Z"
   },
   {
    "duration": 14,
    "start_time": "2024-06-08T10:28:23.059Z"
   },
   {
    "duration": 13,
    "start_time": "2024-06-08T10:28:23.083Z"
   },
   {
    "duration": 13,
    "start_time": "2024-06-08T10:28:23.099Z"
   },
   {
    "duration": 8,
    "start_time": "2024-06-08T10:29:49.716Z"
   },
   {
    "duration": 5,
    "start_time": "2024-06-08T10:31:52.107Z"
   },
   {
    "duration": 6,
    "start_time": "2024-06-08T10:32:04.781Z"
   },
   {
    "duration": 4,
    "start_time": "2024-06-08T10:32:07.570Z"
   },
   {
    "duration": 152,
    "start_time": "2024-06-08T10:34:43.500Z"
   },
   {
    "duration": 15,
    "start_time": "2024-06-08T10:35:02.660Z"
   },
   {
    "duration": 829,
    "start_time": "2024-06-08T10:35:19.890Z"
   },
   {
    "duration": 756,
    "start_time": "2024-06-08T10:35:40.121Z"
   },
   {
    "duration": 808,
    "start_time": "2024-06-08T10:36:01.132Z"
   },
   {
    "duration": 13,
    "start_time": "2024-06-08T10:36:42.575Z"
   },
   {
    "duration": 13,
    "start_time": "2024-06-08T10:36:51.807Z"
   },
   {
    "duration": 15,
    "start_time": "2024-06-08T10:36:58.394Z"
   },
   {
    "duration": 16,
    "start_time": "2024-06-08T10:37:09.570Z"
   },
   {
    "duration": 18,
    "start_time": "2024-06-08T10:37:17.783Z"
   },
   {
    "duration": 19,
    "start_time": "2024-06-08T10:37:47.791Z"
   },
   {
    "duration": 732,
    "start_time": "2024-06-08T10:37:56.984Z"
   },
   {
    "duration": 2126,
    "start_time": "2024-06-08T10:38:30.373Z"
   },
   {
    "duration": 1950,
    "start_time": "2024-06-08T10:38:51.064Z"
   },
   {
    "duration": 582,
    "start_time": "2024-06-08T10:39:04.977Z"
   },
   {
    "duration": 754,
    "start_time": "2024-06-08T10:39:08.979Z"
   },
   {
    "duration": 775,
    "start_time": "2024-06-08T10:40:23.232Z"
   },
   {
    "duration": 829,
    "start_time": "2024-06-08T10:45:23.788Z"
   },
   {
    "duration": 770,
    "start_time": "2024-06-08T10:46:13.682Z"
   },
   {
    "duration": 796,
    "start_time": "2024-06-08T10:46:52.804Z"
   },
   {
    "duration": 19,
    "start_time": "2024-06-08T10:49:18.903Z"
   },
   {
    "duration": 13,
    "start_time": "2024-06-08T10:50:41.352Z"
   },
   {
    "duration": 1219,
    "start_time": "2024-06-08T10:50:46.595Z"
   },
   {
    "duration": 338,
    "start_time": "2024-06-08T10:50:47.816Z"
   },
   {
    "duration": 4,
    "start_time": "2024-06-08T10:50:48.156Z"
   },
   {
    "duration": 50,
    "start_time": "2024-06-08T10:50:48.162Z"
   },
   {
    "duration": 219,
    "start_time": "2024-06-08T10:50:48.214Z"
   },
   {
    "duration": 5,
    "start_time": "2024-06-08T10:50:48.434Z"
   },
   {
    "duration": 10,
    "start_time": "2024-06-08T10:50:48.441Z"
   },
   {
    "duration": 51,
    "start_time": "2024-06-08T10:50:48.453Z"
   },
   {
    "duration": 13,
    "start_time": "2024-06-08T10:50:48.506Z"
   },
   {
    "duration": 32,
    "start_time": "2024-06-08T10:50:48.521Z"
   },
   {
    "duration": 41,
    "start_time": "2024-06-08T10:50:48.554Z"
   },
   {
    "duration": 377,
    "start_time": "2024-06-08T10:50:48.596Z"
   },
   {
    "duration": 11,
    "start_time": "2024-06-08T10:50:48.975Z"
   },
   {
    "duration": 21,
    "start_time": "2024-06-08T10:50:48.988Z"
   },
   {
    "duration": 16,
    "start_time": "2024-06-08T10:50:49.010Z"
   },
   {
    "duration": 351,
    "start_time": "2024-06-08T10:50:49.028Z"
   },
   {
    "duration": 101,
    "start_time": "2024-06-08T10:50:49.381Z"
   },
   {
    "duration": 1931,
    "start_time": "2024-06-08T10:50:49.484Z"
   },
   {
    "duration": 22,
    "start_time": "2024-06-08T10:50:51.417Z"
   },
   {
    "duration": 18,
    "start_time": "2024-06-08T10:50:51.441Z"
   },
   {
    "duration": 14,
    "start_time": "2024-06-08T10:50:51.461Z"
   },
   {
    "duration": 823,
    "start_time": "2024-06-08T10:50:51.481Z"
   },
   {
    "duration": 830,
    "start_time": "2024-06-08T10:51:04.892Z"
   },
   {
    "duration": 12,
    "start_time": "2024-06-08T11:04:23.195Z"
   },
   {
    "duration": 32,
    "start_time": "2024-06-08T11:05:05.223Z"
   },
   {
    "duration": 9,
    "start_time": "2024-06-08T11:05:24.853Z"
   },
   {
    "duration": 29,
    "start_time": "2024-06-08T11:06:34.432Z"
   },
   {
    "duration": 38,
    "start_time": "2024-06-08T11:10:01.712Z"
   },
   {
    "duration": 36,
    "start_time": "2024-06-08T11:11:29.206Z"
   },
   {
    "duration": 40,
    "start_time": "2024-06-08T11:12:15.866Z"
   },
   {
    "duration": 31,
    "start_time": "2024-06-08T11:12:24.029Z"
   },
   {
    "duration": 14,
    "start_time": "2024-06-08T11:12:41.284Z"
   },
   {
    "duration": 72,
    "start_time": "2024-06-08T11:13:17.228Z"
   },
   {
    "duration": 13,
    "start_time": "2024-06-08T11:14:38.721Z"
   },
   {
    "duration": 36,
    "start_time": "2024-06-08T11:16:23.155Z"
   },
   {
    "duration": 56,
    "start_time": "2024-06-08T11:17:17.174Z"
   },
   {
    "duration": 37,
    "start_time": "2024-06-08T11:17:57.625Z"
   },
   {
    "duration": 35,
    "start_time": "2024-06-08T11:20:28.515Z"
   },
   {
    "duration": 64,
    "start_time": "2024-06-08T11:20:29.418Z"
   },
   {
    "duration": 32,
    "start_time": "2024-06-08T11:27:46.476Z"
   },
   {
    "duration": 19,
    "start_time": "2024-06-08T11:29:38.674Z"
   },
   {
    "duration": 15,
    "start_time": "2024-06-08T11:29:46.232Z"
   },
   {
    "duration": 165,
    "start_time": "2024-06-08T11:34:00.567Z"
   },
   {
    "duration": 7,
    "start_time": "2024-06-08T11:34:03.335Z"
   },
   {
    "duration": 10,
    "start_time": "2024-06-08T11:34:05.260Z"
   },
   {
    "duration": 19,
    "start_time": "2024-06-08T11:34:15.052Z"
   },
   {
    "duration": 11,
    "start_time": "2024-06-08T11:34:17.474Z"
   },
   {
    "duration": 3,
    "start_time": "2024-06-08T11:34:56.176Z"
   },
   {
    "duration": 49,
    "start_time": "2024-06-08T11:34:59.543Z"
   },
   {
    "duration": 50,
    "start_time": "2024-06-08T11:35:06.143Z"
   },
   {
    "duration": 3,
    "start_time": "2024-06-08T11:38:14.121Z"
   },
   {
    "duration": 9,
    "start_time": "2024-06-08T11:38:16.322Z"
   },
   {
    "duration": 7,
    "start_time": "2024-06-08T11:50:57.389Z"
   },
   {
    "duration": 3,
    "start_time": "2024-06-08T11:51:01.542Z"
   },
   {
    "duration": 10,
    "start_time": "2024-06-08T11:51:02.751Z"
   },
   {
    "duration": 7,
    "start_time": "2024-06-08T11:55:13.689Z"
   },
   {
    "duration": 13,
    "start_time": "2024-06-08T11:55:32.588Z"
   },
   {
    "duration": 19,
    "start_time": "2024-06-08T11:56:07.535Z"
   },
   {
    "duration": 14,
    "start_time": "2024-06-08T12:06:12.360Z"
   },
   {
    "duration": 7,
    "start_time": "2024-06-08T12:06:53.139Z"
   },
   {
    "duration": 20,
    "start_time": "2024-06-08T12:06:57.407Z"
   },
   {
    "duration": 15,
    "start_time": "2024-06-08T12:12:47.881Z"
   },
   {
    "duration": 25,
    "start_time": "2024-06-08T12:12:58.316Z"
   },
   {
    "duration": 13,
    "start_time": "2024-06-08T12:13:06.461Z"
   },
   {
    "duration": 17,
    "start_time": "2024-06-08T12:13:10.268Z"
   },
   {
    "duration": 15,
    "start_time": "2024-06-08T12:13:26.005Z"
   },
   {
    "duration": 2635,
    "start_time": "2024-06-08T12:14:38.155Z"
   },
   {
    "duration": 14,
    "start_time": "2024-06-08T12:14:42.980Z"
   },
   {
    "duration": 36,
    "start_time": "2024-06-08T12:15:04.843Z"
   },
   {
    "duration": 19,
    "start_time": "2024-06-08T12:15:05.805Z"
   },
   {
    "duration": 751,
    "start_time": "2024-06-08T12:16:37.321Z"
   },
   {
    "duration": 343,
    "start_time": "2024-06-08T12:16:38.074Z"
   },
   {
    "duration": 4,
    "start_time": "2024-06-08T12:16:38.419Z"
   },
   {
    "duration": 119,
    "start_time": "2024-06-08T12:16:38.425Z"
   },
   {
    "duration": 216,
    "start_time": "2024-06-08T12:16:38.546Z"
   },
   {
    "duration": 19,
    "start_time": "2024-06-08T12:16:38.764Z"
   },
   {
    "duration": 15,
    "start_time": "2024-06-08T12:16:38.785Z"
   },
   {
    "duration": 33,
    "start_time": "2024-06-08T12:16:38.801Z"
   },
   {
    "duration": 12,
    "start_time": "2024-06-08T12:16:38.835Z"
   },
   {
    "duration": 41,
    "start_time": "2024-06-08T12:16:38.849Z"
   },
   {
    "duration": 24,
    "start_time": "2024-06-08T12:16:38.891Z"
   },
   {
    "duration": 5,
    "start_time": "2024-06-08T12:16:38.917Z"
   },
   {
    "duration": 408,
    "start_time": "2024-06-08T12:16:38.923Z"
   },
   {
    "duration": 14,
    "start_time": "2024-06-08T12:16:39.333Z"
   },
   {
    "duration": 41,
    "start_time": "2024-06-08T12:16:39.348Z"
   },
   {
    "duration": 12,
    "start_time": "2024-06-08T12:16:39.391Z"
   },
   {
    "duration": 15,
    "start_time": "2024-06-08T12:16:39.405Z"
   },
   {
    "duration": 69,
    "start_time": "2024-06-08T12:16:39.422Z"
   },
   {
    "duration": 15,
    "start_time": "2024-06-08T12:16:39.492Z"
   },
   {
    "duration": 9,
    "start_time": "2024-06-08T12:16:39.508Z"
   },
   {
    "duration": 399,
    "start_time": "2024-06-08T12:16:39.519Z"
   },
   {
    "duration": 81,
    "start_time": "2024-06-08T12:16:39.920Z"
   },
   {
    "duration": 2728,
    "start_time": "2024-06-08T12:16:40.002Z"
   },
   {
    "duration": 14,
    "start_time": "2024-06-08T12:16:42.731Z"
   },
   {
    "duration": 10,
    "start_time": "2024-06-08T12:16:42.746Z"
   },
   {
    "duration": 26,
    "start_time": "2024-06-08T12:16:42.757Z"
   },
   {
    "duration": 776,
    "start_time": "2024-06-08T12:16:42.785Z"
   },
   {
    "duration": 23,
    "start_time": "2024-06-08T12:16:43.564Z"
   },
   {
    "duration": 15,
    "start_time": "2024-06-08T12:16:43.588Z"
   },
   {
    "duration": 7,
    "start_time": "2024-06-08T12:16:43.605Z"
   },
   {
    "duration": 5,
    "start_time": "2024-06-08T12:16:43.614Z"
   },
   {
    "duration": 10,
    "start_time": "2024-06-08T12:16:43.621Z"
   },
   {
    "duration": 6,
    "start_time": "2024-06-08T12:16:43.633Z"
   },
   {
    "duration": 13,
    "start_time": "2024-06-08T12:20:09.307Z"
   },
   {
    "duration": 20,
    "start_time": "2024-06-08T12:20:10.748Z"
   },
   {
    "duration": 772,
    "start_time": "2024-06-08T12:20:17.613Z"
   },
   {
    "duration": 335,
    "start_time": "2024-06-08T12:20:18.387Z"
   },
   {
    "duration": 5,
    "start_time": "2024-06-08T12:20:18.723Z"
   },
   {
    "duration": 60,
    "start_time": "2024-06-08T12:20:18.730Z"
   },
   {
    "duration": 204,
    "start_time": "2024-06-08T12:20:18.792Z"
   },
   {
    "duration": 4,
    "start_time": "2024-06-08T12:20:18.998Z"
   },
   {
    "duration": 7,
    "start_time": "2024-06-08T12:20:19.003Z"
   },
   {
    "duration": 33,
    "start_time": "2024-06-08T12:20:19.012Z"
   },
   {
    "duration": 40,
    "start_time": "2024-06-08T12:20:19.047Z"
   },
   {
    "duration": 25,
    "start_time": "2024-06-08T12:20:19.090Z"
   },
   {
    "duration": 23,
    "start_time": "2024-06-08T12:20:19.117Z"
   },
   {
    "duration": 6,
    "start_time": "2024-06-08T12:20:19.142Z"
   },
   {
    "duration": 633,
    "start_time": "2024-06-08T12:20:19.149Z"
   },
   {
    "duration": 9,
    "start_time": "2024-06-08T12:20:19.784Z"
   },
   {
    "duration": 19,
    "start_time": "2024-06-08T12:20:19.794Z"
   },
   {
    "duration": 67,
    "start_time": "2024-06-08T12:20:19.815Z"
   },
   {
    "duration": 20,
    "start_time": "2024-06-08T12:20:19.884Z"
   },
   {
    "duration": 8,
    "start_time": "2024-06-08T12:20:19.907Z"
   },
   {
    "duration": 64,
    "start_time": "2024-06-08T12:20:19.918Z"
   },
   {
    "duration": 805,
    "start_time": "2024-06-08T12:20:19.984Z"
   },
   {
    "duration": 98,
    "start_time": "2024-06-08T12:20:20.790Z"
   },
   {
    "duration": 2031,
    "start_time": "2024-06-08T12:20:20.890Z"
   },
   {
    "duration": 14,
    "start_time": "2024-06-08T12:20:22.923Z"
   },
   {
    "duration": 18,
    "start_time": "2024-06-08T12:20:22.938Z"
   },
   {
    "duration": 5,
    "start_time": "2024-06-08T12:20:22.957Z"
   },
   {
    "duration": 817,
    "start_time": "2024-06-08T12:20:22.963Z"
   },
   {
    "duration": 20,
    "start_time": "2024-06-08T12:20:23.782Z"
   },
   {
    "duration": 21,
    "start_time": "2024-06-08T12:20:23.805Z"
   },
   {
    "duration": 10,
    "start_time": "2024-06-08T12:20:23.828Z"
   },
   {
    "duration": 5,
    "start_time": "2024-06-08T12:20:23.840Z"
   },
   {
    "duration": 35,
    "start_time": "2024-06-08T12:20:23.847Z"
   },
   {
    "duration": 6,
    "start_time": "2024-06-08T12:20:23.884Z"
   },
   {
    "duration": 3,
    "start_time": "2024-06-08T12:21:42.882Z"
   },
   {
    "duration": 3,
    "start_time": "2024-06-08T12:23:39.914Z"
   },
   {
    "duration": 3,
    "start_time": "2024-06-08T12:23:41.096Z"
   },
   {
    "duration": 186,
    "start_time": "2024-06-08T12:23:42.315Z"
   },
   {
    "duration": 12,
    "start_time": "2024-06-09T10:20:56.293Z"
   },
   {
    "duration": 42,
    "start_time": "2024-06-09T10:20:59.887Z"
   },
   {
    "duration": 771,
    "start_time": "2024-06-09T10:21:10.106Z"
   },
   {
    "duration": 482,
    "start_time": "2024-06-09T10:21:10.879Z"
   },
   {
    "duration": 3,
    "start_time": "2024-06-09T10:21:11.363Z"
   },
   {
    "duration": 56,
    "start_time": "2024-06-09T10:21:11.368Z"
   },
   {
    "duration": 149,
    "start_time": "2024-06-09T10:21:11.426Z"
   },
   {
    "duration": 4,
    "start_time": "2024-06-09T10:21:11.576Z"
   },
   {
    "duration": 3,
    "start_time": "2024-06-09T10:21:11.582Z"
   },
   {
    "duration": 24,
    "start_time": "2024-06-09T10:21:11.586Z"
   },
   {
    "duration": 10,
    "start_time": "2024-06-09T10:21:11.612Z"
   },
   {
    "duration": 18,
    "start_time": "2024-06-09T10:21:11.623Z"
   },
   {
    "duration": 45,
    "start_time": "2024-06-09T10:21:11.642Z"
   },
   {
    "duration": 5,
    "start_time": "2024-06-09T10:21:11.688Z"
   },
   {
    "duration": 359,
    "start_time": "2024-06-09T10:21:11.694Z"
   },
   {
    "duration": 6,
    "start_time": "2024-06-09T10:21:12.056Z"
   },
   {
    "duration": 8,
    "start_time": "2024-06-09T10:21:12.070Z"
   },
   {
    "duration": 6,
    "start_time": "2024-06-09T10:21:12.079Z"
   },
   {
    "duration": 8,
    "start_time": "2024-06-09T10:21:12.086Z"
   },
   {
    "duration": 354,
    "start_time": "2024-06-09T10:21:12.096Z"
   },
   {
    "duration": 42,
    "start_time": "2024-06-09T10:21:12.452Z"
   },
   {
    "duration": 1711,
    "start_time": "2024-06-09T10:21:12.496Z"
   },
   {
    "duration": 12,
    "start_time": "2024-06-09T10:21:14.208Z"
   },
   {
    "duration": 8,
    "start_time": "2024-06-09T10:21:14.222Z"
   },
   {
    "duration": 5,
    "start_time": "2024-06-09T10:21:14.231Z"
   },
   {
    "duration": 718,
    "start_time": "2024-06-09T10:21:14.238Z"
   },
   {
    "duration": 19,
    "start_time": "2024-06-09T10:21:14.958Z"
   },
   {
    "duration": 6,
    "start_time": "2024-06-09T10:21:14.978Z"
   },
   {
    "duration": 8,
    "start_time": "2024-06-09T10:21:14.985Z"
   },
   {
    "duration": 53,
    "start_time": "2024-06-09T10:21:14.995Z"
   },
   {
    "duration": 27,
    "start_time": "2024-06-09T10:21:15.050Z"
   },
   {
    "duration": 8,
    "start_time": "2024-06-09T10:21:15.079Z"
   },
   {
    "duration": 180,
    "start_time": "2024-06-09T10:21:15.088Z"
   },
   {
    "duration": 8,
    "start_time": "2024-06-09T10:22:10.604Z"
   },
   {
    "duration": 783,
    "start_time": "2024-06-09T10:22:13.285Z"
   },
   {
    "duration": 30,
    "start_time": "2024-06-09T10:28:15.574Z"
   },
   {
    "duration": 593,
    "start_time": "2024-06-09T10:28:47.915Z"
   },
   {
    "duration": 307,
    "start_time": "2024-06-09T10:28:48.510Z"
   },
   {
    "duration": 3,
    "start_time": "2024-06-09T10:28:48.819Z"
   },
   {
    "duration": 48,
    "start_time": "2024-06-09T10:28:48.824Z"
   },
   {
    "duration": 161,
    "start_time": "2024-06-09T10:28:48.873Z"
   },
   {
    "duration": 5,
    "start_time": "2024-06-09T10:28:49.035Z"
   },
   {
    "duration": 4,
    "start_time": "2024-06-09T10:28:49.041Z"
   },
   {
    "duration": 49,
    "start_time": "2024-06-09T10:28:49.047Z"
   },
   {
    "duration": 12,
    "start_time": "2024-06-09T10:28:49.098Z"
   },
   {
    "duration": 18,
    "start_time": "2024-06-09T10:28:49.113Z"
   },
   {
    "duration": 44,
    "start_time": "2024-06-09T10:28:49.133Z"
   },
   {
    "duration": 5,
    "start_time": "2024-06-09T10:28:49.178Z"
   },
   {
    "duration": 357,
    "start_time": "2024-06-09T10:28:49.185Z"
   },
   {
    "duration": 7,
    "start_time": "2024-06-09T10:28:49.544Z"
   },
   {
    "duration": 19,
    "start_time": "2024-06-09T10:28:49.553Z"
   },
   {
    "duration": 6,
    "start_time": "2024-06-09T10:28:49.574Z"
   },
   {
    "duration": 12,
    "start_time": "2024-06-09T10:28:49.582Z"
   },
   {
    "duration": 335,
    "start_time": "2024-06-09T10:28:49.596Z"
   },
   {
    "duration": 57,
    "start_time": "2024-06-09T10:28:49.932Z"
   },
   {
    "duration": 1674,
    "start_time": "2024-06-09T10:28:49.990Z"
   },
   {
    "duration": 16,
    "start_time": "2024-06-09T10:28:51.665Z"
   },
   {
    "duration": 15,
    "start_time": "2024-06-09T10:28:51.682Z"
   },
   {
    "duration": 4,
    "start_time": "2024-06-09T10:28:51.698Z"
   },
   {
    "duration": 676,
    "start_time": "2024-06-09T10:28:51.703Z"
   },
   {
    "duration": 15,
    "start_time": "2024-06-09T10:28:52.380Z"
   },
   {
    "duration": 6,
    "start_time": "2024-06-09T10:28:52.396Z"
   },
   {
    "duration": 48,
    "start_time": "2024-06-09T10:28:52.403Z"
   },
   {
    "duration": 0,
    "start_time": "2024-06-09T10:28:52.452Z"
   },
   {
    "duration": 0,
    "start_time": "2024-06-09T10:28:52.453Z"
   },
   {
    "duration": 0,
    "start_time": "2024-06-09T10:28:52.454Z"
   },
   {
    "duration": 0,
    "start_time": "2024-06-09T10:28:52.455Z"
   },
   {
    "duration": 658,
    "start_time": "2024-06-09T10:29:12.456Z"
   },
   {
    "duration": 253,
    "start_time": "2024-06-09T10:29:13.116Z"
   },
   {
    "duration": 4,
    "start_time": "2024-06-09T10:29:13.370Z"
   },
   {
    "duration": 39,
    "start_time": "2024-06-09T10:29:13.375Z"
   },
   {
    "duration": 144,
    "start_time": "2024-06-09T10:29:13.415Z"
   },
   {
    "duration": 12,
    "start_time": "2024-06-09T10:29:13.561Z"
   },
   {
    "duration": 11,
    "start_time": "2024-06-09T10:29:13.574Z"
   },
   {
    "duration": 24,
    "start_time": "2024-06-09T10:29:13.586Z"
   },
   {
    "duration": 10,
    "start_time": "2024-06-09T10:29:13.611Z"
   },
   {
    "duration": 21,
    "start_time": "2024-06-09T10:29:13.623Z"
   },
   {
    "duration": 30,
    "start_time": "2024-06-09T10:29:13.646Z"
   },
   {
    "duration": 4,
    "start_time": "2024-06-09T10:29:13.677Z"
   },
   {
    "duration": 376,
    "start_time": "2024-06-09T10:29:13.682Z"
   },
   {
    "duration": 11,
    "start_time": "2024-06-09T10:29:14.060Z"
   },
   {
    "duration": 26,
    "start_time": "2024-06-09T10:29:14.072Z"
   },
   {
    "duration": 7,
    "start_time": "2024-06-09T10:29:14.100Z"
   },
   {
    "duration": 10,
    "start_time": "2024-06-09T10:29:14.108Z"
   },
   {
    "duration": 374,
    "start_time": "2024-06-09T10:29:14.120Z"
   },
   {
    "duration": 78,
    "start_time": "2024-06-09T10:29:14.495Z"
   },
   {
    "duration": 1653,
    "start_time": "2024-06-09T10:29:14.574Z"
   },
   {
    "duration": 11,
    "start_time": "2024-06-09T10:29:16.229Z"
   },
   {
    "duration": 7,
    "start_time": "2024-06-09T10:29:16.241Z"
   },
   {
    "duration": 4,
    "start_time": "2024-06-09T10:29:16.249Z"
   },
   {
    "duration": 685,
    "start_time": "2024-06-09T10:29:16.254Z"
   },
   {
    "duration": 15,
    "start_time": "2024-06-09T10:29:16.940Z"
   },
   {
    "duration": 6,
    "start_time": "2024-06-09T10:29:16.956Z"
   },
   {
    "duration": 16,
    "start_time": "2024-06-09T10:29:16.970Z"
   },
   {
    "duration": 23,
    "start_time": "2024-06-09T10:29:16.989Z"
   },
   {
    "duration": 8,
    "start_time": "2024-06-09T10:29:17.013Z"
   },
   {
    "duration": 167,
    "start_time": "2024-06-09T10:29:17.023Z"
   },
   {
    "duration": 6,
    "start_time": "2024-06-09T10:32:13.629Z"
   },
   {
    "duration": 639,
    "start_time": "2024-06-09T10:32:26.441Z"
   },
   {
    "duration": 320,
    "start_time": "2024-06-09T10:32:27.082Z"
   },
   {
    "duration": 4,
    "start_time": "2024-06-09T10:32:27.403Z"
   },
   {
    "duration": 46,
    "start_time": "2024-06-09T10:32:27.409Z"
   },
   {
    "duration": 149,
    "start_time": "2024-06-09T10:32:27.456Z"
   },
   {
    "duration": 4,
    "start_time": "2024-06-09T10:32:27.606Z"
   },
   {
    "duration": 15,
    "start_time": "2024-06-09T10:32:27.611Z"
   },
   {
    "duration": 25,
    "start_time": "2024-06-09T10:32:27.627Z"
   },
   {
    "duration": 22,
    "start_time": "2024-06-09T10:32:27.653Z"
   },
   {
    "duration": 18,
    "start_time": "2024-06-09T10:32:27.677Z"
   },
   {
    "duration": 18,
    "start_time": "2024-06-09T10:32:27.697Z"
   },
   {
    "duration": 7,
    "start_time": "2024-06-09T10:32:27.716Z"
   },
   {
    "duration": 410,
    "start_time": "2024-06-09T10:32:27.724Z"
   },
   {
    "duration": 6,
    "start_time": "2024-06-09T10:32:28.136Z"
   },
   {
    "duration": 7,
    "start_time": "2024-06-09T10:32:28.143Z"
   },
   {
    "duration": 6,
    "start_time": "2024-06-09T10:32:28.151Z"
   },
   {
    "duration": 8,
    "start_time": "2024-06-09T10:32:28.170Z"
   },
   {
    "duration": 335,
    "start_time": "2024-06-09T10:32:28.179Z"
   },
   {
    "duration": 56,
    "start_time": "2024-06-09T10:32:28.515Z"
   },
   {
    "duration": 2319,
    "start_time": "2024-06-09T10:32:28.572Z"
   },
   {
    "duration": 12,
    "start_time": "2024-06-09T10:32:30.892Z"
   },
   {
    "duration": 40,
    "start_time": "2024-06-09T10:32:30.905Z"
   },
   {
    "duration": 33,
    "start_time": "2024-06-09T10:32:30.946Z"
   },
   {
    "duration": 760,
    "start_time": "2024-06-09T10:32:30.980Z"
   },
   {
    "duration": 15,
    "start_time": "2024-06-09T10:32:31.742Z"
   },
   {
    "duration": 14,
    "start_time": "2024-06-09T10:32:31.758Z"
   },
   {
    "duration": 23,
    "start_time": "2024-06-09T10:32:31.774Z"
   },
   {
    "duration": 12,
    "start_time": "2024-06-09T10:32:31.800Z"
   },
   {
    "duration": 8,
    "start_time": "2024-06-09T10:32:31.813Z"
   },
   {
    "duration": 724,
    "start_time": "2024-06-09T10:32:31.822Z"
   },
   {
    "duration": 2,
    "start_time": "2024-06-09T10:35:20.179Z"
   },
   {
    "duration": 756,
    "start_time": "2024-06-09T10:35:21.199Z"
   },
   {
    "duration": 2,
    "start_time": "2024-06-09T10:36:17.779Z"
   },
   {
    "duration": 898,
    "start_time": "2024-06-09T10:36:18.743Z"
   },
   {
    "duration": 2,
    "start_time": "2024-06-09T10:37:43.058Z"
   },
   {
    "duration": 1039,
    "start_time": "2024-06-09T10:37:44.791Z"
   },
   {
    "duration": 62,
    "start_time": "2024-06-09T10:46:05.531Z"
   },
   {
    "duration": 61,
    "start_time": "2024-06-09T10:46:13.012Z"
   },
   {
    "duration": 12,
    "start_time": "2024-06-09T10:46:40.226Z"
   },
   {
    "duration": 8,
    "start_time": "2024-06-09T10:46:54.304Z"
   },
   {
    "duration": 8,
    "start_time": "2024-06-09T10:50:03.538Z"
   },
   {
    "duration": 997,
    "start_time": "2024-06-09T10:50:07.048Z"
   },
   {
    "duration": 7,
    "start_time": "2024-06-09T10:50:21.939Z"
   },
   {
    "duration": 995,
    "start_time": "2024-06-09T10:50:25.161Z"
   },
   {
    "duration": 9,
    "start_time": "2024-06-09T10:52:01.125Z"
   },
   {
    "duration": 1006,
    "start_time": "2024-06-09T10:52:04.376Z"
   },
   {
    "duration": 8,
    "start_time": "2024-06-09T10:52:31.503Z"
   },
   {
    "duration": 1021,
    "start_time": "2024-06-09T10:52:33.447Z"
   },
   {
    "duration": 363,
    "start_time": "2024-06-09T10:56:50.173Z"
   },
   {
    "duration": 8,
    "start_time": "2024-06-09T10:56:52.193Z"
   },
   {
    "duration": 17,
    "start_time": "2024-06-09T10:57:00.640Z"
   },
   {
    "duration": 13,
    "start_time": "2024-06-09T10:57:24.520Z"
   },
   {
    "duration": 9,
    "start_time": "2024-06-09T10:59:25.035Z"
   },
   {
    "duration": 627,
    "start_time": "2024-06-09T11:02:51.704Z"
   },
   {
    "duration": 311,
    "start_time": "2024-06-09T11:02:52.333Z"
   },
   {
    "duration": 4,
    "start_time": "2024-06-09T11:02:52.645Z"
   },
   {
    "duration": 46,
    "start_time": "2024-06-09T11:02:52.651Z"
   },
   {
    "duration": 161,
    "start_time": "2024-06-09T11:02:52.698Z"
   },
   {
    "duration": 4,
    "start_time": "2024-06-09T11:02:52.871Z"
   },
   {
    "duration": 5,
    "start_time": "2024-06-09T11:02:52.877Z"
   },
   {
    "duration": 27,
    "start_time": "2024-06-09T11:02:52.883Z"
   },
   {
    "duration": 9,
    "start_time": "2024-06-09T11:02:52.911Z"
   },
   {
    "duration": 17,
    "start_time": "2024-06-09T11:02:52.922Z"
   },
   {
    "duration": 37,
    "start_time": "2024-06-09T11:02:52.940Z"
   },
   {
    "duration": 4,
    "start_time": "2024-06-09T11:02:52.978Z"
   },
   {
    "duration": 347,
    "start_time": "2024-06-09T11:02:52.984Z"
   },
   {
    "duration": 6,
    "start_time": "2024-06-09T11:02:53.333Z"
   },
   {
    "duration": 13,
    "start_time": "2024-06-09T11:02:53.340Z"
   },
   {
    "duration": 17,
    "start_time": "2024-06-09T11:02:53.354Z"
   },
   {
    "duration": 8,
    "start_time": "2024-06-09T11:02:53.373Z"
   },
   {
    "duration": 349,
    "start_time": "2024-06-09T11:02:53.382Z"
   },
   {
    "duration": 43,
    "start_time": "2024-06-09T11:02:53.732Z"
   },
   {
    "duration": 1697,
    "start_time": "2024-06-09T11:02:53.777Z"
   },
   {
    "duration": 12,
    "start_time": "2024-06-09T11:02:55.475Z"
   },
   {
    "duration": 33,
    "start_time": "2024-06-09T11:02:55.488Z"
   },
   {
    "duration": 13,
    "start_time": "2024-06-09T11:02:55.522Z"
   },
   {
    "duration": 1275,
    "start_time": "2024-06-09T11:02:55.571Z"
   },
   {
    "duration": 32,
    "start_time": "2024-06-09T11:02:56.848Z"
   },
   {
    "duration": 6,
    "start_time": "2024-06-09T11:02:56.882Z"
   },
   {
    "duration": 21,
    "start_time": "2024-06-09T11:02:56.889Z"
   },
   {
    "duration": 8,
    "start_time": "2024-06-09T11:02:56.913Z"
   },
   {
    "duration": 26,
    "start_time": "2024-06-09T11:02:56.922Z"
   },
   {
    "duration": 132,
    "start_time": "2024-06-09T11:02:56.949Z"
   },
   {
    "duration": 0,
    "start_time": "2024-06-09T11:02:57.082Z"
   },
   {
    "duration": 1017,
    "start_time": "2024-06-09T11:03:46.292Z"
   },
   {
    "duration": 9,
    "start_time": "2024-06-09T11:14:17.320Z"
   },
   {
    "duration": 33,
    "start_time": "2024-06-09T11:15:06.942Z"
   },
   {
    "duration": 21,
    "start_time": "2024-06-09T11:24:14.885Z"
   },
   {
    "duration": 7,
    "start_time": "2024-06-09T11:26:28.535Z"
   },
   {
    "duration": 8,
    "start_time": "2024-06-09T11:27:06.851Z"
   },
   {
    "duration": 48,
    "start_time": "2024-06-09T11:27:36.543Z"
   },
   {
    "duration": 15,
    "start_time": "2024-06-09T11:27:41.773Z"
   },
   {
    "duration": 7,
    "start_time": "2024-06-09T11:28:02.484Z"
   },
   {
    "duration": 5,
    "start_time": "2024-06-09T11:31:03.062Z"
   },
   {
    "duration": 3,
    "start_time": "2024-06-09T11:33:35.732Z"
   },
   {
    "duration": 691,
    "start_time": "2024-06-09T11:36:22.461Z"
   },
   {
    "duration": 399,
    "start_time": "2024-06-09T11:36:23.154Z"
   },
   {
    "duration": 4,
    "start_time": "2024-06-09T11:36:23.554Z"
   },
   {
    "duration": 37,
    "start_time": "2024-06-09T11:36:23.560Z"
   },
   {
    "duration": 147,
    "start_time": "2024-06-09T11:36:23.599Z"
   },
   {
    "duration": 24,
    "start_time": "2024-06-09T11:36:23.747Z"
   },
   {
    "duration": 4,
    "start_time": "2024-06-09T11:36:23.772Z"
   },
   {
    "duration": 29,
    "start_time": "2024-06-09T11:36:23.777Z"
   },
   {
    "duration": 9,
    "start_time": "2024-06-09T11:36:23.807Z"
   },
   {
    "duration": 35,
    "start_time": "2024-06-09T11:36:23.818Z"
   },
   {
    "duration": 11,
    "start_time": "2024-06-09T11:36:23.854Z"
   },
   {
    "duration": 6,
    "start_time": "2024-06-09T11:36:23.866Z"
   },
   {
    "duration": 355,
    "start_time": "2024-06-09T11:36:23.873Z"
   },
   {
    "duration": 7,
    "start_time": "2024-06-09T11:36:24.230Z"
   },
   {
    "duration": 13,
    "start_time": "2024-06-09T11:36:24.238Z"
   },
   {
    "duration": 20,
    "start_time": "2024-06-09T11:36:24.252Z"
   },
   {
    "duration": 8,
    "start_time": "2024-06-09T11:36:24.275Z"
   },
   {
    "duration": 362,
    "start_time": "2024-06-09T11:36:24.284Z"
   },
   {
    "duration": 9,
    "start_time": "2024-06-09T11:36:24.647Z"
   },
   {
    "duration": 31,
    "start_time": "2024-06-09T11:36:24.658Z"
   },
   {
    "duration": 95,
    "start_time": "2024-06-09T11:36:24.691Z"
   },
   {
    "duration": 1663,
    "start_time": "2024-06-09T11:36:24.788Z"
   },
   {
    "duration": 10,
    "start_time": "2024-06-09T11:36:26.453Z"
   },
   {
    "duration": 6,
    "start_time": "2024-06-09T11:36:26.471Z"
   },
   {
    "duration": 4,
    "start_time": "2024-06-09T11:36:26.478Z"
   },
   {
    "duration": 659,
    "start_time": "2024-06-09T11:36:26.483Z"
   },
   {
    "duration": 7,
    "start_time": "2024-06-09T11:36:27.144Z"
   },
   {
    "duration": 7,
    "start_time": "2024-06-09T11:36:27.153Z"
   },
   {
    "duration": 10,
    "start_time": "2024-06-09T11:36:27.162Z"
   },
   {
    "duration": 395,
    "start_time": "2024-06-09T11:36:27.173Z"
   },
   {
    "duration": 0,
    "start_time": "2024-06-09T11:36:27.569Z"
   },
   {
    "duration": 0,
    "start_time": "2024-06-09T11:36:27.571Z"
   },
   {
    "duration": 0,
    "start_time": "2024-06-09T11:36:27.572Z"
   },
   {
    "duration": 0,
    "start_time": "2024-06-09T11:36:27.573Z"
   },
   {
    "duration": 0,
    "start_time": "2024-06-09T11:36:27.574Z"
   },
   {
    "duration": 0,
    "start_time": "2024-06-09T11:36:27.574Z"
   },
   {
    "duration": 0,
    "start_time": "2024-06-09T11:36:27.576Z"
   },
   {
    "duration": 650,
    "start_time": "2024-06-09T11:37:42.486Z"
   },
   {
    "duration": 266,
    "start_time": "2024-06-09T11:37:43.138Z"
   },
   {
    "duration": 3,
    "start_time": "2024-06-09T11:37:43.406Z"
   },
   {
    "duration": 43,
    "start_time": "2024-06-09T11:37:43.411Z"
   },
   {
    "duration": 159,
    "start_time": "2024-06-09T11:37:43.456Z"
   },
   {
    "duration": 4,
    "start_time": "2024-06-09T11:37:43.616Z"
   },
   {
    "duration": 10,
    "start_time": "2024-06-09T11:37:43.622Z"
   },
   {
    "duration": 41,
    "start_time": "2024-06-09T11:37:43.633Z"
   },
   {
    "duration": 11,
    "start_time": "2024-06-09T11:37:43.675Z"
   },
   {
    "duration": 18,
    "start_time": "2024-06-09T11:37:43.688Z"
   },
   {
    "duration": 13,
    "start_time": "2024-06-09T11:37:43.708Z"
   },
   {
    "duration": 7,
    "start_time": "2024-06-09T11:37:43.723Z"
   },
   {
    "duration": 388,
    "start_time": "2024-06-09T11:37:43.732Z"
   },
   {
    "duration": 6,
    "start_time": "2024-06-09T11:37:44.122Z"
   },
   {
    "duration": 12,
    "start_time": "2024-06-09T11:37:44.129Z"
   },
   {
    "duration": 8,
    "start_time": "2024-06-09T11:37:44.143Z"
   },
   {
    "duration": 23,
    "start_time": "2024-06-09T11:37:44.152Z"
   },
   {
    "duration": 358,
    "start_time": "2024-06-09T11:37:44.176Z"
   },
   {
    "duration": 9,
    "start_time": "2024-06-09T11:37:44.535Z"
   },
   {
    "duration": 36,
    "start_time": "2024-06-09T11:37:44.545Z"
   },
   {
    "duration": 38,
    "start_time": "2024-06-09T11:37:44.582Z"
   },
   {
    "duration": 2361,
    "start_time": "2024-06-09T11:37:44.622Z"
   },
   {
    "duration": 11,
    "start_time": "2024-06-09T11:37:46.985Z"
   },
   {
    "duration": 25,
    "start_time": "2024-06-09T11:37:46.997Z"
   },
   {
    "duration": 10,
    "start_time": "2024-06-09T11:37:47.023Z"
   },
   {
    "duration": 1355,
    "start_time": "2024-06-09T11:37:47.034Z"
   },
   {
    "duration": 8,
    "start_time": "2024-06-09T11:37:48.390Z"
   },
   {
    "duration": 17,
    "start_time": "2024-06-09T11:37:48.400Z"
   },
   {
    "duration": 7,
    "start_time": "2024-06-09T11:37:48.418Z"
   },
   {
    "duration": 34,
    "start_time": "2024-06-09T11:37:48.426Z"
   },
   {
    "duration": 551,
    "start_time": "2024-06-09T11:37:48.461Z"
   },
   {
    "duration": 17,
    "start_time": "2024-06-09T11:37:49.013Z"
   },
   {
    "duration": 10,
    "start_time": "2024-06-09T11:37:49.031Z"
   },
   {
    "duration": 7,
    "start_time": "2024-06-09T11:37:49.043Z"
   },
   {
    "duration": 1031,
    "start_time": "2024-06-09T11:37:49.052Z"
   },
   {
    "duration": 48,
    "start_time": "2024-06-09T11:37:50.084Z"
   },
   {
    "duration": 8,
    "start_time": "2024-06-09T11:37:50.133Z"
   },
   {
    "duration": 526,
    "start_time": "2024-06-09T12:01:42.219Z"
   },
   {
    "duration": 530,
    "start_time": "2024-06-09T12:02:28.609Z"
   },
   {
    "duration": 513,
    "start_time": "2024-06-09T12:03:12.153Z"
   },
   {
    "duration": 9,
    "start_time": "2024-06-09T12:06:09.694Z"
   },
   {
    "duration": 12,
    "start_time": "2024-06-09T12:10:26.550Z"
   },
   {
    "duration": 12,
    "start_time": "2024-06-09T12:11:20.606Z"
   },
   {
    "duration": 12,
    "start_time": "2024-06-09T12:11:26.628Z"
   },
   {
    "duration": 5,
    "start_time": "2024-06-09T12:11:50.880Z"
   },
   {
    "duration": 148537,
    "start_time": "2024-06-09T12:14:44.145Z"
   },
   {
    "duration": 9,
    "start_time": "2024-06-09T12:19:10.451Z"
   },
   {
    "duration": 9,
    "start_time": "2024-06-09T12:19:22.113Z"
   },
   {
    "duration": 147,
    "start_time": "2024-06-09T12:19:59.096Z"
   },
   {
    "duration": 66,
    "start_time": "2024-06-09T12:20:04.200Z"
   },
   {
    "duration": 11,
    "start_time": "2024-06-09T12:20:08.277Z"
   },
   {
    "duration": 5,
    "start_time": "2024-06-09T12:20:59.148Z"
   },
   {
    "duration": 17,
    "start_time": "2024-06-09T12:24:49.099Z"
   },
   {
    "duration": 92,
    "start_time": "2024-06-09T12:25:26.868Z"
   },
   {
    "duration": 13,
    "start_time": "2024-06-09T12:25:35.290Z"
   },
   {
    "duration": 6016,
    "start_time": "2024-06-09T12:26:59.544Z"
   },
   {
    "duration": 6068,
    "start_time": "2024-06-09T12:27:17.760Z"
   },
   {
    "duration": 5,
    "start_time": "2024-06-09T12:27:29.228Z"
   },
   {
    "duration": 677,
    "start_time": "2024-06-09T12:28:10.985Z"
   },
   {
    "duration": 94,
    "start_time": "2024-06-09T12:28:17.164Z"
   },
   {
    "duration": 437,
    "start_time": "2024-06-09T12:28:19.882Z"
   },
   {
    "duration": 93,
    "start_time": "2024-06-09T12:28:38.726Z"
   },
   {
    "duration": 12,
    "start_time": "2024-06-09T12:28:41.638Z"
   },
   {
    "duration": 91,
    "start_time": "2024-06-09T12:29:18.327Z"
   },
   {
    "duration": 5,
    "start_time": "2024-06-09T12:29:23.039Z"
   },
   {
    "duration": 9,
    "start_time": "2024-06-09T12:29:37.213Z"
   },
   {
    "duration": 93,
    "start_time": "2024-06-09T12:29:44.797Z"
   },
   {
    "duration": 6,
    "start_time": "2024-06-09T12:29:48.939Z"
   },
   {
    "duration": 99,
    "start_time": "2024-06-09T12:30:04.528Z"
   },
   {
    "duration": 101,
    "start_time": "2024-06-09T12:30:41.493Z"
   },
   {
    "duration": 3,
    "start_time": "2024-06-09T12:30:42.872Z"
   },
   {
    "duration": 2,
    "start_time": "2024-06-09T12:30:48.874Z"
   },
   {
    "duration": 5,
    "start_time": "2024-06-09T12:30:50.593Z"
   },
   {
    "duration": 91,
    "start_time": "2024-06-09T12:31:08.495Z"
   },
   {
    "duration": 5,
    "start_time": "2024-06-09T12:31:09.358Z"
   },
   {
    "duration": 94,
    "start_time": "2024-06-09T12:31:15.115Z"
   },
   {
    "duration": 9,
    "start_time": "2024-06-09T12:31:17.013Z"
   },
   {
    "duration": 5,
    "start_time": "2024-06-09T12:31:38.116Z"
   },
   {
    "duration": 6176,
    "start_time": "2024-06-09T12:33:18.345Z"
   },
   {
    "duration": 6266,
    "start_time": "2024-06-09T12:33:35.919Z"
   },
   {
    "duration": 6217,
    "start_time": "2024-06-09T12:34:59.576Z"
   },
   {
    "duration": 94,
    "start_time": "2024-06-09T12:35:15.294Z"
   },
   {
    "duration": 6206,
    "start_time": "2024-06-09T12:35:23.497Z"
   },
   {
    "duration": 9,
    "start_time": "2024-06-09T12:37:08.159Z"
   },
   {
    "duration": 506,
    "start_time": "2024-06-09T12:37:35.547Z"
   },
   {
    "duration": 6139,
    "start_time": "2024-06-09T12:37:49.766Z"
   },
   {
    "duration": 7,
    "start_time": "2024-06-09T12:41:12.779Z"
   },
   {
    "duration": 10,
    "start_time": "2024-06-09T12:41:36.199Z"
   },
   {
    "duration": 92,
    "start_time": "2024-06-09T12:41:39.389Z"
   },
   {
    "duration": 8,
    "start_time": "2024-06-09T12:41:41.130Z"
   },
   {
    "duration": 9,
    "start_time": "2024-06-09T12:42:05.091Z"
   },
   {
    "duration": 12191,
    "start_time": "2024-06-09T12:42:11.217Z"
   },
   {
    "duration": 9,
    "start_time": "2024-06-09T12:45:27.367Z"
   },
   {
    "duration": 16,
    "start_time": "2024-06-09T12:46:30.253Z"
   },
   {
    "duration": 897,
    "start_time": "2024-06-10T04:13:35.455Z"
   },
   {
    "duration": 351,
    "start_time": "2024-06-10T04:13:36.355Z"
   },
   {
    "duration": 4,
    "start_time": "2024-06-10T04:13:36.707Z"
   },
   {
    "duration": 53,
    "start_time": "2024-06-10T04:13:36.712Z"
   },
   {
    "duration": 161,
    "start_time": "2024-06-10T04:13:36.767Z"
   },
   {
    "duration": 5,
    "start_time": "2024-06-10T04:13:36.929Z"
   },
   {
    "duration": 5,
    "start_time": "2024-06-10T04:13:36.935Z"
   },
   {
    "duration": 45,
    "start_time": "2024-06-10T04:13:36.941Z"
   },
   {
    "duration": 10,
    "start_time": "2024-06-10T04:13:36.987Z"
   },
   {
    "duration": 18,
    "start_time": "2024-06-10T04:13:37.000Z"
   },
   {
    "duration": 11,
    "start_time": "2024-06-10T04:13:37.020Z"
   },
   {
    "duration": 32,
    "start_time": "2024-06-10T04:13:37.032Z"
   },
   {
    "duration": 328,
    "start_time": "2024-06-10T04:13:37.066Z"
   },
   {
    "duration": 6,
    "start_time": "2024-06-10T04:13:37.396Z"
   },
   {
    "duration": 33,
    "start_time": "2024-06-10T04:13:37.404Z"
   },
   {
    "duration": 6,
    "start_time": "2024-06-10T04:13:37.439Z"
   },
   {
    "duration": 8,
    "start_time": "2024-06-10T04:13:37.446Z"
   },
   {
    "duration": 417,
    "start_time": "2024-06-10T04:13:37.455Z"
   },
   {
    "duration": 9,
    "start_time": "2024-06-10T04:13:37.874Z"
   },
   {
    "duration": 84,
    "start_time": "2024-06-10T04:13:37.884Z"
   },
   {
    "duration": 39,
    "start_time": "2024-06-10T04:13:37.969Z"
   },
   {
    "duration": 1694,
    "start_time": "2024-06-10T04:13:38.009Z"
   },
   {
    "duration": 12,
    "start_time": "2024-06-10T04:13:39.704Z"
   },
   {
    "duration": 9,
    "start_time": "2024-06-10T04:13:39.717Z"
   },
   {
    "duration": 4,
    "start_time": "2024-06-10T04:13:39.727Z"
   },
   {
    "duration": 682,
    "start_time": "2024-06-10T04:13:39.732Z"
   },
   {
    "duration": 7,
    "start_time": "2024-06-10T04:13:40.416Z"
   },
   {
    "duration": 18,
    "start_time": "2024-06-10T04:13:40.426Z"
   },
   {
    "duration": 22,
    "start_time": "2024-06-10T04:13:40.445Z"
   },
   {
    "duration": 5,
    "start_time": "2024-06-10T04:13:40.468Z"
   },
   {
    "duration": 609,
    "start_time": "2024-06-10T04:13:40.475Z"
   },
   {
    "duration": 17,
    "start_time": "2024-06-10T04:13:41.086Z"
   },
   {
    "duration": 51,
    "start_time": "2024-06-10T04:13:41.104Z"
   },
   {
    "duration": 9,
    "start_time": "2024-06-10T04:13:41.156Z"
   },
   {
    "duration": 1012,
    "start_time": "2024-06-10T04:13:41.166Z"
   },
   {
    "duration": 116,
    "start_time": "2024-06-10T04:13:42.180Z"
   },
   {
    "duration": 0,
    "start_time": "2024-06-10T04:13:42.298Z"
   },
   {
    "duration": 0,
    "start_time": "2024-06-10T04:13:42.299Z"
   },
   {
    "duration": 8,
    "start_time": "2024-06-10T04:15:11.310Z"
   },
   {
    "duration": 18,
    "start_time": "2024-06-10T04:15:15.218Z"
   },
   {
    "duration": 6,
    "start_time": "2024-06-10T04:15:48.530Z"
   },
   {
    "duration": 30,
    "start_time": "2024-06-10T04:16:56.964Z"
   },
   {
    "duration": 20,
    "start_time": "2024-06-10T04:17:49.725Z"
   },
   {
    "duration": 15,
    "start_time": "2024-06-10T04:18:02.581Z"
   },
   {
    "duration": 15,
    "start_time": "2024-06-10T04:18:14.481Z"
   },
   {
    "duration": 14,
    "start_time": "2024-06-10T04:18:20.850Z"
   },
   {
    "duration": 10,
    "start_time": "2024-06-10T04:21:49.537Z"
   },
   {
    "duration": 5,
    "start_time": "2024-06-10T04:21:50.933Z"
   },
   {
    "duration": 17,
    "start_time": "2024-06-10T04:21:52.417Z"
   },
   {
    "duration": 16,
    "start_time": "2024-06-10T04:21:53.912Z"
   },
   {
    "duration": 6,
    "start_time": "2024-06-10T04:22:15.896Z"
   },
   {
    "duration": 16,
    "start_time": "2024-06-10T04:22:16.657Z"
   },
   {
    "duration": 14,
    "start_time": "2024-06-10T04:22:19.216Z"
   },
   {
    "duration": 80,
    "start_time": "2024-06-10T04:23:55.416Z"
   },
   {
    "duration": 105,
    "start_time": "2024-06-10T04:23:58.988Z"
   },
   {
    "duration": 21,
    "start_time": "2024-06-10T04:24:10.448Z"
   },
   {
    "duration": 7,
    "start_time": "2024-06-10T04:24:11.766Z"
   },
   {
    "duration": 6,
    "start_time": "2024-06-10T04:26:47.945Z"
   },
   {
    "duration": 22,
    "start_time": "2024-06-10T04:26:48.764Z"
   },
   {
    "duration": 15,
    "start_time": "2024-06-10T04:26:49.610Z"
   },
   {
    "duration": 5,
    "start_time": "2024-06-10T04:27:14.392Z"
   },
   {
    "duration": 16,
    "start_time": "2024-06-10T04:27:15.144Z"
   },
   {
    "duration": 13,
    "start_time": "2024-06-10T04:27:16.384Z"
   },
   {
    "duration": 11,
    "start_time": "2024-06-10T04:32:14.143Z"
   },
   {
    "duration": 5,
    "start_time": "2024-06-10T04:34:16.852Z"
   },
   {
    "duration": 15,
    "start_time": "2024-06-10T04:34:29.377Z"
   },
   {
    "duration": 8,
    "start_time": "2024-06-10T04:34:33.957Z"
   },
   {
    "duration": 3,
    "start_time": "2024-06-10T04:36:08.052Z"
   },
   {
    "duration": 3,
    "start_time": "2024-06-10T04:36:23.697Z"
   },
   {
    "duration": 6,
    "start_time": "2024-06-10T04:38:17.546Z"
   },
   {
    "duration": 15,
    "start_time": "2024-06-10T04:44:17.475Z"
   },
   {
    "duration": 7,
    "start_time": "2024-06-10T04:44:24.027Z"
   },
   {
    "duration": 11,
    "start_time": "2024-06-10T04:44:25.024Z"
   },
   {
    "duration": 3,
    "start_time": "2024-06-10T04:44:25.833Z"
   },
   {
    "duration": 6,
    "start_time": "2024-06-10T04:44:26.777Z"
   },
   {
    "duration": 13,
    "start_time": "2024-06-10T04:44:28.144Z"
   },
   {
    "duration": 9,
    "start_time": "2024-06-10T04:46:29.246Z"
   },
   {
    "duration": 2,
    "start_time": "2024-06-10T04:46:33.389Z"
   },
   {
    "duration": 4,
    "start_time": "2024-06-10T04:46:36.373Z"
   },
   {
    "duration": 7,
    "start_time": "2024-06-10T04:46:38.113Z"
   },
   {
    "duration": 12,
    "start_time": "2024-06-10T04:46:55.987Z"
   },
   {
    "duration": 8,
    "start_time": "2024-06-10T04:48:28.944Z"
   },
   {
    "duration": 12,
    "start_time": "2024-06-10T04:48:40.212Z"
   },
   {
    "duration": 11,
    "start_time": "2024-06-10T04:48:42.291Z"
   },
   {
    "duration": 8,
    "start_time": "2024-06-10T04:49:41.368Z"
   },
   {
    "duration": 13,
    "start_time": "2024-06-10T04:49:43.153Z"
   },
   {
    "duration": 7,
    "start_time": "2024-06-10T04:50:01.465Z"
   },
   {
    "duration": 23,
    "start_time": "2024-06-10T04:50:03.430Z"
   },
   {
    "duration": 11,
    "start_time": "2024-06-10T04:51:12.162Z"
   },
   {
    "duration": 19,
    "start_time": "2024-06-10T04:51:14.615Z"
   },
   {
    "duration": 7,
    "start_time": "2024-06-10T04:53:25.331Z"
   },
   {
    "duration": 18,
    "start_time": "2024-06-10T04:53:26.099Z"
   },
   {
    "duration": 92,
    "start_time": "2024-06-10T04:58:33.013Z"
   },
   {
    "duration": 4,
    "start_time": "2024-06-10T04:58:39.682Z"
   },
   {
    "duration": 3,
    "start_time": "2024-06-10T04:58:40.980Z"
   },
   {
    "duration": 5,
    "start_time": "2024-06-10T04:58:42.362Z"
   },
   {
    "duration": 8,
    "start_time": "2024-06-10T04:58:44.017Z"
   },
   {
    "duration": 24,
    "start_time": "2024-06-10T04:58:46.367Z"
   },
   {
    "duration": 7,
    "start_time": "2024-06-10T04:59:46.471Z"
   },
   {
    "duration": 20,
    "start_time": "2024-06-10T04:59:48.307Z"
   },
   {
    "duration": 7,
    "start_time": "2024-06-10T05:00:05.517Z"
   },
   {
    "duration": 20,
    "start_time": "2024-06-10T05:00:07.592Z"
   },
   {
    "duration": 4,
    "start_time": "2024-06-10T05:00:43.834Z"
   },
   {
    "duration": 11,
    "start_time": "2024-06-10T05:00:51.637Z"
   },
   {
    "duration": 4,
    "start_time": "2024-06-10T05:01:01.885Z"
   },
   {
    "duration": 7,
    "start_time": "2024-06-10T05:01:03.786Z"
   },
   {
    "duration": 4,
    "start_time": "2024-06-10T05:01:05.986Z"
   },
   {
    "duration": 7,
    "start_time": "2024-06-10T05:01:12.442Z"
   },
   {
    "duration": 18,
    "start_time": "2024-06-10T05:01:14.848Z"
   },
   {
    "duration": 9,
    "start_time": "2024-06-10T05:03:54.392Z"
   },
   {
    "duration": 4,
    "start_time": "2024-06-10T05:09:07.075Z"
   },
   {
    "duration": 4,
    "start_time": "2024-06-10T05:09:09.345Z"
   },
   {
    "duration": 4,
    "start_time": "2024-06-10T05:11:09.319Z"
   },
   {
    "duration": 7,
    "start_time": "2024-06-10T05:13:20.590Z"
   },
   {
    "duration": 1637,
    "start_time": "2024-06-10T05:13:22.041Z"
   },
   {
    "duration": 9,
    "start_time": "2024-06-10T05:16:19.626Z"
   },
   {
    "duration": 1653,
    "start_time": "2024-06-10T05:16:21.624Z"
   },
   {
    "duration": 7,
    "start_time": "2024-06-10T05:16:34.238Z"
   },
   {
    "duration": 14,
    "start_time": "2024-06-10T05:19:02.022Z"
   },
   {
    "duration": 3,
    "start_time": "2024-06-10T05:20:59.512Z"
   },
   {
    "duration": 32,
    "start_time": "2024-06-10T05:21:04.903Z"
   },
   {
    "duration": 28,
    "start_time": "2024-06-10T05:22:01.161Z"
   },
   {
    "duration": 8,
    "start_time": "2024-06-10T05:22:19.763Z"
   },
   {
    "duration": 19,
    "start_time": "2024-06-10T05:25:14.526Z"
   },
   {
    "duration": 24,
    "start_time": "2024-06-10T05:25:47.017Z"
   },
   {
    "duration": 716,
    "start_time": "2024-06-10T05:26:35.931Z"
   },
   {
    "duration": 382,
    "start_time": "2024-06-10T05:26:36.648Z"
   },
   {
    "duration": 4,
    "start_time": "2024-06-10T05:26:37.032Z"
   },
   {
    "duration": 45,
    "start_time": "2024-06-10T05:26:37.037Z"
   },
   {
    "duration": 167,
    "start_time": "2024-06-10T05:26:37.083Z"
   },
   {
    "duration": 5,
    "start_time": "2024-06-10T05:26:37.264Z"
   },
   {
    "duration": 7,
    "start_time": "2024-06-10T05:26:37.270Z"
   },
   {
    "duration": 32,
    "start_time": "2024-06-10T05:26:37.278Z"
   },
   {
    "duration": 10,
    "start_time": "2024-06-10T05:26:37.312Z"
   },
   {
    "duration": 22,
    "start_time": "2024-06-10T05:26:37.325Z"
   },
   {
    "duration": 25,
    "start_time": "2024-06-10T05:26:37.349Z"
   },
   {
    "duration": 70,
    "start_time": "2024-06-10T05:26:37.376Z"
   },
   {
    "duration": 368,
    "start_time": "2024-06-10T05:26:37.447Z"
   },
   {
    "duration": 8,
    "start_time": "2024-06-10T05:26:37.817Z"
   },
   {
    "duration": 15,
    "start_time": "2024-06-10T05:26:37.826Z"
   },
   {
    "duration": 25,
    "start_time": "2024-06-10T05:26:37.843Z"
   },
   {
    "duration": 10,
    "start_time": "2024-06-10T05:26:37.869Z"
   },
   {
    "duration": 382,
    "start_time": "2024-06-10T05:26:37.880Z"
   },
   {
    "duration": 9,
    "start_time": "2024-06-10T05:26:38.264Z"
   },
   {
    "duration": 41,
    "start_time": "2024-06-10T05:26:38.274Z"
   },
   {
    "duration": 40,
    "start_time": "2024-06-10T05:26:38.364Z"
   },
   {
    "duration": 1727,
    "start_time": "2024-06-10T05:26:38.405Z"
   },
   {
    "duration": 11,
    "start_time": "2024-06-10T05:26:40.133Z"
   },
   {
    "duration": 10,
    "start_time": "2024-06-10T05:26:40.145Z"
   },
   {
    "duration": 11,
    "start_time": "2024-06-10T05:26:40.156Z"
   },
   {
    "duration": 693,
    "start_time": "2024-06-10T05:26:40.168Z"
   },
   {
    "duration": 7,
    "start_time": "2024-06-10T05:26:40.864Z"
   },
   {
    "duration": 7,
    "start_time": "2024-06-10T05:26:40.874Z"
   },
   {
    "duration": 5,
    "start_time": "2024-06-10T05:26:40.882Z"
   },
   {
    "duration": 5,
    "start_time": "2024-06-10T05:26:40.889Z"
   },
   {
    "duration": 554,
    "start_time": "2024-06-10T05:26:40.896Z"
   },
   {
    "duration": 23,
    "start_time": "2024-06-10T05:26:41.452Z"
   },
   {
    "duration": 5,
    "start_time": "2024-06-10T05:26:41.477Z"
   },
   {
    "duration": 9,
    "start_time": "2024-06-10T05:26:41.483Z"
   },
   {
    "duration": 1056,
    "start_time": "2024-06-10T05:26:41.493Z"
   },
   {
    "duration": 17,
    "start_time": "2024-06-10T05:26:42.550Z"
   },
   {
    "duration": 7,
    "start_time": "2024-06-10T05:26:42.568Z"
   },
   {
    "duration": 23,
    "start_time": "2024-06-10T05:26:42.576Z"
   },
   {
    "duration": 23,
    "start_time": "2024-06-10T05:26:42.600Z"
   },
   {
    "duration": 15,
    "start_time": "2024-06-10T05:26:42.624Z"
   },
   {
    "duration": 10,
    "start_time": "2024-06-10T05:26:42.641Z"
   },
   {
    "duration": 11,
    "start_time": "2024-06-10T05:26:42.665Z"
   },
   {
    "duration": 9,
    "start_time": "2024-06-10T05:26:42.677Z"
   },
   {
    "duration": 7,
    "start_time": "2024-06-10T05:26:42.687Z"
   },
   {
    "duration": 4,
    "start_time": "2024-06-10T05:26:42.696Z"
   },
   {
    "duration": 6,
    "start_time": "2024-06-10T05:26:42.701Z"
   },
   {
    "duration": 8,
    "start_time": "2024-06-10T05:26:42.708Z"
   },
   {
    "duration": 1747,
    "start_time": "2024-06-10T05:26:42.718Z"
   },
   {
    "duration": 25,
    "start_time": "2024-06-10T05:26:44.467Z"
   },
   {
    "duration": 6,
    "start_time": "2024-06-10T05:26:44.494Z"
   },
   {
    "duration": 83,
    "start_time": "2024-06-10T05:28:14.945Z"
   },
   {
    "duration": 15,
    "start_time": "2024-06-10T05:28:17.348Z"
   },
   {
    "duration": 13,
    "start_time": "2024-06-10T05:29:17.701Z"
   },
   {
    "duration": 15,
    "start_time": "2024-06-10T05:29:19.214Z"
   },
   {
    "duration": 692,
    "start_time": "2024-06-10T05:29:28.689Z"
   },
   {
    "duration": 332,
    "start_time": "2024-06-10T05:29:29.383Z"
   },
   {
    "duration": 4,
    "start_time": "2024-06-10T05:29:29.716Z"
   },
   {
    "duration": 55,
    "start_time": "2024-06-10T05:29:29.722Z"
   },
   {
    "duration": 220,
    "start_time": "2024-06-10T05:29:29.779Z"
   },
   {
    "duration": 4,
    "start_time": "2024-06-10T05:29:30.000Z"
   },
   {
    "duration": 40,
    "start_time": "2024-06-10T05:29:30.005Z"
   },
   {
    "duration": 52,
    "start_time": "2024-06-10T05:29:30.046Z"
   },
   {
    "duration": 39,
    "start_time": "2024-06-10T05:29:30.099Z"
   },
   {
    "duration": 35,
    "start_time": "2024-06-10T05:29:30.141Z"
   },
   {
    "duration": 151,
    "start_time": "2024-06-10T05:29:30.177Z"
   },
   {
    "duration": 344,
    "start_time": "2024-06-10T05:29:30.329Z"
   },
   {
    "duration": 398,
    "start_time": "2024-06-10T05:29:30.675Z"
   },
   {
    "duration": 6,
    "start_time": "2024-06-10T05:29:31.075Z"
   },
   {
    "duration": 70,
    "start_time": "2024-06-10T05:29:31.083Z"
   },
   {
    "duration": 58,
    "start_time": "2024-06-10T05:29:31.155Z"
   },
   {
    "duration": 60,
    "start_time": "2024-06-10T05:29:31.214Z"
   },
   {
    "duration": 420,
    "start_time": "2024-06-10T05:29:31.276Z"
   },
   {
    "duration": 10,
    "start_time": "2024-06-10T05:29:31.698Z"
   },
   {
    "duration": 64,
    "start_time": "2024-06-10T05:29:31.709Z"
   },
   {
    "duration": 88,
    "start_time": "2024-06-10T05:29:31.775Z"
   },
   {
    "duration": 1690,
    "start_time": "2024-06-10T05:29:31.865Z"
   },
   {
    "duration": 14,
    "start_time": "2024-06-10T05:29:33.557Z"
   },
   {
    "duration": 97,
    "start_time": "2024-06-10T05:29:33.572Z"
   },
   {
    "duration": 4,
    "start_time": "2024-06-10T05:29:33.671Z"
   },
   {
    "duration": 696,
    "start_time": "2024-06-10T05:29:33.677Z"
   },
   {
    "duration": 7,
    "start_time": "2024-06-10T05:29:34.375Z"
   },
   {
    "duration": 7,
    "start_time": "2024-06-10T05:29:34.385Z"
   },
   {
    "duration": 5,
    "start_time": "2024-06-10T05:29:34.393Z"
   },
   {
    "duration": 108,
    "start_time": "2024-06-10T05:29:34.400Z"
   },
   {
    "duration": 547,
    "start_time": "2024-06-10T05:29:34.510Z"
   },
   {
    "duration": 22,
    "start_time": "2024-06-10T05:29:35.059Z"
   },
   {
    "duration": 7,
    "start_time": "2024-06-10T05:29:35.083Z"
   },
   {
    "duration": 8,
    "start_time": "2024-06-10T05:29:35.092Z"
   },
   {
    "duration": 1151,
    "start_time": "2024-06-10T05:29:35.102Z"
   },
   {
    "duration": 11,
    "start_time": "2024-06-10T05:29:36.254Z"
   },
   {
    "duration": 5,
    "start_time": "2024-06-10T05:29:36.266Z"
   },
   {
    "duration": 13,
    "start_time": "2024-06-10T05:29:36.273Z"
   },
   {
    "duration": 13,
    "start_time": "2024-06-10T05:29:36.288Z"
   },
   {
    "duration": 23,
    "start_time": "2024-06-10T05:29:36.303Z"
   },
   {
    "duration": 7,
    "start_time": "2024-06-10T05:29:36.328Z"
   },
   {
    "duration": 30,
    "start_time": "2024-06-10T05:29:36.337Z"
   },
   {
    "duration": 8,
    "start_time": "2024-06-10T05:29:36.369Z"
   },
   {
    "duration": 6,
    "start_time": "2024-06-10T05:29:36.378Z"
   },
   {
    "duration": 5,
    "start_time": "2024-06-10T05:29:36.386Z"
   },
   {
    "duration": 6,
    "start_time": "2024-06-10T05:29:36.393Z"
   },
   {
    "duration": 29,
    "start_time": "2024-06-10T05:29:36.400Z"
   },
   {
    "duration": 1686,
    "start_time": "2024-06-10T05:29:36.431Z"
   },
   {
    "duration": 22,
    "start_time": "2024-06-10T05:29:38.118Z"
   },
   {
    "duration": 29,
    "start_time": "2024-06-10T05:29:38.141Z"
   },
   {
    "duration": 210,
    "start_time": "2024-06-10T05:41:56.114Z"
   },
   {
    "duration": 150,
    "start_time": "2024-06-10T05:42:07.084Z"
   },
   {
    "duration": 144,
    "start_time": "2024-06-10T05:42:48.345Z"
   },
   {
    "duration": 7,
    "start_time": "2024-06-10T05:43:06.153Z"
   },
   {
    "duration": 15,
    "start_time": "2024-06-10T05:43:22.426Z"
   },
   {
    "duration": 9,
    "start_time": "2024-06-10T05:43:24.675Z"
   },
   {
    "duration": 18,
    "start_time": "2024-06-10T05:44:19.827Z"
   },
   {
    "duration": 7,
    "start_time": "2024-06-10T05:44:21.073Z"
   },
   {
    "duration": 14,
    "start_time": "2024-06-10T05:44:26.370Z"
   },
   {
    "duration": 17,
    "start_time": "2024-06-10T05:44:28.393Z"
   },
   {
    "duration": 7,
    "start_time": "2024-06-10T05:44:29.660Z"
   },
   {
    "duration": 16,
    "start_time": "2024-06-10T05:44:35.993Z"
   },
   {
    "duration": 7,
    "start_time": "2024-06-10T05:44:37.027Z"
   },
   {
    "duration": 15,
    "start_time": "2024-06-10T05:45:10.331Z"
   },
   {
    "duration": 11,
    "start_time": "2024-06-10T05:45:14.388Z"
   },
   {
    "duration": 13,
    "start_time": "2024-06-10T05:50:50.449Z"
   },
   {
    "duration": 6,
    "start_time": "2024-06-10T05:54:40.647Z"
   },
   {
    "duration": 11,
    "start_time": "2024-06-10T05:54:44.595Z"
   },
   {
    "duration": 7,
    "start_time": "2024-06-10T06:03:31.804Z"
   },
   {
    "duration": 675,
    "start_time": "2024-06-10T06:03:40.385Z"
   },
   {
    "duration": 320,
    "start_time": "2024-06-10T06:03:41.062Z"
   },
   {
    "duration": 4,
    "start_time": "2024-06-10T06:03:41.384Z"
   },
   {
    "duration": 43,
    "start_time": "2024-06-10T06:03:41.391Z"
   },
   {
    "duration": 187,
    "start_time": "2024-06-10T06:03:41.435Z"
   },
   {
    "duration": 5,
    "start_time": "2024-06-10T06:03:41.623Z"
   },
   {
    "duration": 6,
    "start_time": "2024-06-10T06:03:41.629Z"
   },
   {
    "duration": 46,
    "start_time": "2024-06-10T06:03:41.636Z"
   },
   {
    "duration": 38,
    "start_time": "2024-06-10T06:03:41.684Z"
   },
   {
    "duration": 19,
    "start_time": "2024-06-10T06:03:41.725Z"
   },
   {
    "duration": 14,
    "start_time": "2024-06-10T06:03:41.746Z"
   },
   {
    "duration": 5,
    "start_time": "2024-06-10T06:03:41.761Z"
   },
   {
    "duration": 381,
    "start_time": "2024-06-10T06:03:41.767Z"
   },
   {
    "duration": 7,
    "start_time": "2024-06-10T06:03:42.150Z"
   },
   {
    "duration": 13,
    "start_time": "2024-06-10T06:03:42.165Z"
   },
   {
    "duration": 7,
    "start_time": "2024-06-10T06:03:42.180Z"
   },
   {
    "duration": 8,
    "start_time": "2024-06-10T06:03:42.189Z"
   },
   {
    "duration": 378,
    "start_time": "2024-06-10T06:03:42.199Z"
   },
   {
    "duration": 10,
    "start_time": "2024-06-10T06:03:42.578Z"
   },
   {
    "duration": 76,
    "start_time": "2024-06-10T06:03:42.589Z"
   },
   {
    "duration": 67,
    "start_time": "2024-06-10T06:03:42.667Z"
   },
   {
    "duration": 1705,
    "start_time": "2024-06-10T06:03:42.735Z"
   },
   {
    "duration": 13,
    "start_time": "2024-06-10T06:03:44.441Z"
   },
   {
    "duration": 15,
    "start_time": "2024-06-10T06:03:44.465Z"
   },
   {
    "duration": 5,
    "start_time": "2024-06-10T06:03:44.482Z"
   },
   {
    "duration": 789,
    "start_time": "2024-06-10T06:03:44.489Z"
   },
   {
    "duration": 8,
    "start_time": "2024-06-10T06:03:45.280Z"
   },
   {
    "duration": 62,
    "start_time": "2024-06-10T06:03:45.291Z"
   },
   {
    "duration": 19,
    "start_time": "2024-06-10T06:03:45.355Z"
   },
   {
    "duration": 41,
    "start_time": "2024-06-10T06:03:45.375Z"
   },
   {
    "duration": 566,
    "start_time": "2024-06-10T06:03:45.417Z"
   },
   {
    "duration": 19,
    "start_time": "2024-06-10T06:03:45.984Z"
   },
   {
    "duration": 7,
    "start_time": "2024-06-10T06:03:46.004Z"
   },
   {
    "duration": 25,
    "start_time": "2024-06-10T06:03:46.013Z"
   },
   {
    "duration": 1092,
    "start_time": "2024-06-10T06:03:46.039Z"
   },
   {
    "duration": 8,
    "start_time": "2024-06-10T06:03:47.132Z"
   },
   {
    "duration": 26,
    "start_time": "2024-06-10T06:03:47.142Z"
   },
   {
    "duration": 13,
    "start_time": "2024-06-10T06:03:47.170Z"
   },
   {
    "duration": 20,
    "start_time": "2024-06-10T06:03:47.184Z"
   },
   {
    "duration": 57,
    "start_time": "2024-06-10T06:03:47.205Z"
   },
   {
    "duration": 5,
    "start_time": "2024-06-10T06:03:47.263Z"
   },
   {
    "duration": 5,
    "start_time": "2024-06-10T06:03:47.269Z"
   },
   {
    "duration": 35,
    "start_time": "2024-06-10T06:03:47.275Z"
   },
   {
    "duration": 54,
    "start_time": "2024-06-10T06:03:47.312Z"
   },
   {
    "duration": 1751,
    "start_time": "2024-06-10T06:03:47.367Z"
   },
   {
    "duration": 23,
    "start_time": "2024-06-10T06:03:49.119Z"
   },
   {
    "duration": 26,
    "start_time": "2024-06-10T06:03:49.143Z"
   },
   {
    "duration": 72,
    "start_time": "2024-06-10T06:11:00.976Z"
   },
   {
    "duration": 124,
    "start_time": "2024-06-10T06:11:13.217Z"
   },
   {
    "duration": 65,
    "start_time": "2024-06-10T06:11:37.222Z"
   },
   {
    "duration": 15,
    "start_time": "2024-06-10T06:12:45.766Z"
   },
   {
    "duration": 15,
    "start_time": "2024-06-10T06:14:40.839Z"
   },
   {
    "duration": 12,
    "start_time": "2024-06-10T06:15:20.532Z"
   },
   {
    "duration": 17,
    "start_time": "2024-06-10T06:15:39.211Z"
   },
   {
    "duration": 15,
    "start_time": "2024-06-10T06:15:49.817Z"
   },
   {
    "duration": 9,
    "start_time": "2024-06-10T06:18:02.356Z"
   },
   {
    "duration": 22,
    "start_time": "2024-06-10T06:24:22.896Z"
   },
   {
    "duration": 12,
    "start_time": "2024-06-10T06:24:37.832Z"
   },
   {
    "duration": 10,
    "start_time": "2024-06-10T06:26:00.699Z"
   },
   {
    "duration": 8,
    "start_time": "2024-06-10T06:26:08.095Z"
   },
   {
    "duration": 743,
    "start_time": "2024-06-10T06:26:15.835Z"
   },
   {
    "duration": 401,
    "start_time": "2024-06-10T06:26:16.580Z"
   },
   {
    "duration": 3,
    "start_time": "2024-06-10T06:26:16.983Z"
   },
   {
    "duration": 44,
    "start_time": "2024-06-10T06:26:16.988Z"
   },
   {
    "duration": 179,
    "start_time": "2024-06-10T06:26:17.033Z"
   },
   {
    "duration": 5,
    "start_time": "2024-06-10T06:26:17.213Z"
   },
   {
    "duration": 6,
    "start_time": "2024-06-10T06:26:17.219Z"
   },
   {
    "duration": 47,
    "start_time": "2024-06-10T06:26:17.227Z"
   },
   {
    "duration": 11,
    "start_time": "2024-06-10T06:26:17.275Z"
   },
   {
    "duration": 33,
    "start_time": "2024-06-10T06:26:17.288Z"
   },
   {
    "duration": 14,
    "start_time": "2024-06-10T06:26:17.322Z"
   },
   {
    "duration": 5,
    "start_time": "2024-06-10T06:26:17.337Z"
   },
   {
    "duration": 369,
    "start_time": "2024-06-10T06:26:17.343Z"
   },
   {
    "duration": 7,
    "start_time": "2024-06-10T06:26:17.714Z"
   },
   {
    "duration": 37,
    "start_time": "2024-06-10T06:26:17.722Z"
   },
   {
    "duration": 7,
    "start_time": "2024-06-10T06:26:17.761Z"
   },
   {
    "duration": 9,
    "start_time": "2024-06-10T06:26:17.770Z"
   },
   {
    "duration": 377,
    "start_time": "2024-06-10T06:26:17.781Z"
   },
   {
    "duration": 10,
    "start_time": "2024-06-10T06:26:18.159Z"
   },
   {
    "duration": 42,
    "start_time": "2024-06-10T06:26:18.170Z"
   },
   {
    "duration": 88,
    "start_time": "2024-06-10T06:26:18.213Z"
   },
   {
    "duration": 2493,
    "start_time": "2024-06-10T06:26:18.303Z"
   },
   {
    "duration": 12,
    "start_time": "2024-06-10T06:26:20.798Z"
   },
   {
    "duration": 17,
    "start_time": "2024-06-10T06:26:20.812Z"
   },
   {
    "duration": 39,
    "start_time": "2024-06-10T06:26:20.830Z"
   },
   {
    "duration": 714,
    "start_time": "2024-06-10T06:26:20.871Z"
   },
   {
    "duration": 7,
    "start_time": "2024-06-10T06:26:21.586Z"
   },
   {
    "duration": 63,
    "start_time": "2024-06-10T06:26:21.597Z"
   },
   {
    "duration": 7,
    "start_time": "2024-06-10T06:26:21.661Z"
   },
   {
    "duration": 14,
    "start_time": "2024-06-10T06:26:21.670Z"
   },
   {
    "duration": 559,
    "start_time": "2024-06-10T06:26:21.686Z"
   },
   {
    "duration": 23,
    "start_time": "2024-06-10T06:26:22.247Z"
   },
   {
    "duration": 9,
    "start_time": "2024-06-10T06:26:22.272Z"
   },
   {
    "duration": 12,
    "start_time": "2024-06-10T06:26:22.283Z"
   },
   {
    "duration": 1083,
    "start_time": "2024-06-10T06:26:22.296Z"
   },
   {
    "duration": 8,
    "start_time": "2024-06-10T06:26:23.381Z"
   },
   {
    "duration": 23,
    "start_time": "2024-06-10T06:26:23.391Z"
   },
   {
    "duration": 20,
    "start_time": "2024-06-10T06:26:23.415Z"
   },
   {
    "duration": 18,
    "start_time": "2024-06-10T06:26:23.437Z"
   },
   {
    "duration": 19,
    "start_time": "2024-06-10T06:26:23.456Z"
   },
   {
    "duration": 6,
    "start_time": "2024-06-10T06:26:23.476Z"
   },
   {
    "duration": 19,
    "start_time": "2024-06-10T06:26:23.483Z"
   },
   {
    "duration": 4,
    "start_time": "2024-06-10T06:26:23.503Z"
   },
   {
    "duration": 6,
    "start_time": "2024-06-10T06:26:23.508Z"
   },
   {
    "duration": 20,
    "start_time": "2024-06-10T06:26:23.515Z"
   },
   {
    "duration": 16,
    "start_time": "2024-06-10T06:26:23.536Z"
   },
   {
    "duration": 1680,
    "start_time": "2024-06-10T06:26:23.553Z"
   },
   {
    "duration": 45,
    "start_time": "2024-06-10T06:26:25.235Z"
   },
   {
    "duration": 7,
    "start_time": "2024-06-10T06:26:25.281Z"
   },
   {
    "duration": 9,
    "start_time": "2024-06-10T06:27:29.060Z"
   },
   {
    "duration": 11,
    "start_time": "2024-06-10T06:27:30.724Z"
   },
   {
    "duration": 11,
    "start_time": "2024-06-10T06:27:40.629Z"
   },
   {
    "duration": 745,
    "start_time": "2024-06-10T06:28:02.384Z"
   },
   {
    "duration": 302,
    "start_time": "2024-06-10T06:28:03.131Z"
   },
   {
    "duration": 4,
    "start_time": "2024-06-10T06:28:03.434Z"
   },
   {
    "duration": 44,
    "start_time": "2024-06-10T06:28:03.440Z"
   },
   {
    "duration": 188,
    "start_time": "2024-06-10T06:28:03.485Z"
   },
   {
    "duration": 4,
    "start_time": "2024-06-10T06:28:03.675Z"
   },
   {
    "duration": 10,
    "start_time": "2024-06-10T06:28:03.680Z"
   },
   {
    "duration": 34,
    "start_time": "2024-06-10T06:28:03.692Z"
   },
   {
    "duration": 83,
    "start_time": "2024-06-10T06:28:03.728Z"
   },
   {
    "duration": 20,
    "start_time": "2024-06-10T06:28:03.814Z"
   },
   {
    "duration": 12,
    "start_time": "2024-06-10T06:28:03.835Z"
   },
   {
    "duration": 6,
    "start_time": "2024-06-10T06:28:03.848Z"
   },
   {
    "duration": 349,
    "start_time": "2024-06-10T06:28:03.855Z"
   },
   {
    "duration": 7,
    "start_time": "2024-06-10T06:28:04.206Z"
   },
   {
    "duration": 34,
    "start_time": "2024-06-10T06:28:04.215Z"
   },
   {
    "duration": 11,
    "start_time": "2024-06-10T06:28:04.250Z"
   },
   {
    "duration": 16,
    "start_time": "2024-06-10T06:28:04.262Z"
   },
   {
    "duration": 350,
    "start_time": "2024-06-10T06:28:04.280Z"
   },
   {
    "duration": 9,
    "start_time": "2024-06-10T06:28:04.632Z"
   },
   {
    "duration": 50,
    "start_time": "2024-06-10T06:28:04.643Z"
   },
   {
    "duration": 89,
    "start_time": "2024-06-10T06:28:04.695Z"
   },
   {
    "duration": 1687,
    "start_time": "2024-06-10T06:28:04.785Z"
   },
   {
    "duration": 13,
    "start_time": "2024-06-10T06:28:06.474Z"
   },
   {
    "duration": 8,
    "start_time": "2024-06-10T06:28:06.489Z"
   },
   {
    "duration": 4,
    "start_time": "2024-06-10T06:28:06.499Z"
   },
   {
    "duration": 684,
    "start_time": "2024-06-10T06:28:06.504Z"
   },
   {
    "duration": 8,
    "start_time": "2024-06-10T06:28:07.189Z"
   },
   {
    "duration": 6,
    "start_time": "2024-06-10T06:28:07.201Z"
   },
   {
    "duration": 7,
    "start_time": "2024-06-10T06:28:07.208Z"
   },
   {
    "duration": 7,
    "start_time": "2024-06-10T06:28:07.216Z"
   },
   {
    "duration": 600,
    "start_time": "2024-06-10T06:28:07.224Z"
   },
   {
    "duration": 18,
    "start_time": "2024-06-10T06:28:07.826Z"
   },
   {
    "duration": 14,
    "start_time": "2024-06-10T06:28:07.846Z"
   },
   {
    "duration": 20,
    "start_time": "2024-06-10T06:28:07.865Z"
   },
   {
    "duration": 1067,
    "start_time": "2024-06-10T06:28:07.887Z"
   },
   {
    "duration": 15,
    "start_time": "2024-06-10T06:28:08.956Z"
   },
   {
    "duration": 12,
    "start_time": "2024-06-10T06:28:08.973Z"
   },
   {
    "duration": 12,
    "start_time": "2024-06-10T06:28:08.986Z"
   },
   {
    "duration": 17,
    "start_time": "2024-06-10T06:28:08.999Z"
   },
   {
    "duration": 12,
    "start_time": "2024-06-10T06:28:09.018Z"
   },
   {
    "duration": 6,
    "start_time": "2024-06-10T06:28:09.064Z"
   },
   {
    "duration": 15,
    "start_time": "2024-06-10T06:28:09.071Z"
   },
   {
    "duration": 4,
    "start_time": "2024-06-10T06:28:09.088Z"
   },
   {
    "duration": 5,
    "start_time": "2024-06-10T06:28:09.093Z"
   },
   {
    "duration": 5,
    "start_time": "2024-06-10T06:28:09.099Z"
   },
   {
    "duration": 8,
    "start_time": "2024-06-10T06:28:09.105Z"
   },
   {
    "duration": 33,
    "start_time": "2024-06-10T06:28:09.114Z"
   },
   {
    "duration": 24,
    "start_time": "2024-06-10T06:28:09.149Z"
   },
   {
    "duration": 7,
    "start_time": "2024-06-10T06:28:09.175Z"
   },
   {
    "duration": 18,
    "start_time": "2024-06-10T06:33:10.854Z"
   },
   {
    "duration": 685,
    "start_time": "2024-06-10T06:33:30.915Z"
   },
   {
    "duration": 310,
    "start_time": "2024-06-10T06:33:31.602Z"
   },
   {
    "duration": 5,
    "start_time": "2024-06-10T06:33:31.914Z"
   },
   {
    "duration": 57,
    "start_time": "2024-06-10T06:33:31.922Z"
   },
   {
    "duration": 211,
    "start_time": "2024-06-10T06:33:31.981Z"
   },
   {
    "duration": 5,
    "start_time": "2024-06-10T06:33:32.193Z"
   },
   {
    "duration": 6,
    "start_time": "2024-06-10T06:33:32.200Z"
   },
   {
    "duration": 58,
    "start_time": "2024-06-10T06:33:32.208Z"
   },
   {
    "duration": 13,
    "start_time": "2024-06-10T06:33:32.267Z"
   },
   {
    "duration": 20,
    "start_time": "2024-06-10T06:33:32.284Z"
   },
   {
    "duration": 13,
    "start_time": "2024-06-10T06:33:32.305Z"
   },
   {
    "duration": 5,
    "start_time": "2024-06-10T06:33:32.320Z"
   },
   {
    "duration": 367,
    "start_time": "2024-06-10T06:33:32.326Z"
   },
   {
    "duration": 7,
    "start_time": "2024-06-10T06:33:32.695Z"
   },
   {
    "duration": 18,
    "start_time": "2024-06-10T06:33:32.703Z"
   },
   {
    "duration": 6,
    "start_time": "2024-06-10T06:33:32.722Z"
   },
   {
    "duration": 15,
    "start_time": "2024-06-10T06:33:32.729Z"
   },
   {
    "duration": 417,
    "start_time": "2024-06-10T06:33:32.745Z"
   },
   {
    "duration": 9,
    "start_time": "2024-06-10T06:33:33.164Z"
   },
   {
    "duration": 31,
    "start_time": "2024-06-10T06:33:33.174Z"
   },
   {
    "duration": 92,
    "start_time": "2024-06-10T06:33:33.206Z"
   },
   {
    "duration": 1738,
    "start_time": "2024-06-10T06:33:33.300Z"
   },
   {
    "duration": 12,
    "start_time": "2024-06-10T06:33:35.040Z"
   },
   {
    "duration": 17,
    "start_time": "2024-06-10T06:33:35.053Z"
   },
   {
    "duration": 15,
    "start_time": "2024-06-10T06:33:35.072Z"
   },
   {
    "duration": 701,
    "start_time": "2024-06-10T06:33:35.088Z"
   },
   {
    "duration": 7,
    "start_time": "2024-06-10T06:33:35.792Z"
   },
   {
    "duration": 16,
    "start_time": "2024-06-10T06:33:35.803Z"
   },
   {
    "duration": 10,
    "start_time": "2024-06-10T06:33:35.821Z"
   },
   {
    "duration": 9,
    "start_time": "2024-06-10T06:33:35.833Z"
   },
   {
    "duration": 528,
    "start_time": "2024-06-10T06:33:35.843Z"
   },
   {
    "duration": 17,
    "start_time": "2024-06-10T06:33:36.372Z"
   },
   {
    "duration": 6,
    "start_time": "2024-06-10T06:33:36.390Z"
   },
   {
    "duration": 25,
    "start_time": "2024-06-10T06:33:36.397Z"
   },
   {
    "duration": 1093,
    "start_time": "2024-06-10T06:33:36.424Z"
   },
   {
    "duration": 9,
    "start_time": "2024-06-10T06:33:37.519Z"
   },
   {
    "duration": 25,
    "start_time": "2024-06-10T06:33:37.529Z"
   },
   {
    "duration": 17,
    "start_time": "2024-06-10T06:33:37.555Z"
   },
   {
    "duration": 26,
    "start_time": "2024-06-10T06:33:37.574Z"
   },
   {
    "duration": 12,
    "start_time": "2024-06-10T06:33:37.601Z"
   },
   {
    "duration": 15,
    "start_time": "2024-06-10T06:33:37.615Z"
   },
   {
    "duration": 99,
    "start_time": "2024-06-10T06:33:37.631Z"
   },
   {
    "duration": 49,
    "start_time": "2024-06-10T06:33:37.732Z"
   },
   {
    "duration": 41,
    "start_time": "2024-06-10T06:33:37.782Z"
   },
   {
    "duration": 5,
    "start_time": "2024-06-10T06:33:37.824Z"
   },
   {
    "duration": 18,
    "start_time": "2024-06-10T06:33:37.830Z"
   },
   {
    "duration": 15,
    "start_time": "2024-06-10T06:33:37.849Z"
   },
   {
    "duration": 28,
    "start_time": "2024-06-10T06:33:37.865Z"
   },
   {
    "duration": 8,
    "start_time": "2024-06-10T06:33:37.895Z"
   },
   {
    "duration": 12,
    "start_time": "2024-06-10T06:35:02.249Z"
   },
   {
    "duration": 17,
    "start_time": "2024-06-10T06:35:04.456Z"
   },
   {
    "duration": 659,
    "start_time": "2024-06-10T06:35:10.317Z"
   },
   {
    "duration": 295,
    "start_time": "2024-06-10T06:35:10.977Z"
   },
   {
    "duration": 4,
    "start_time": "2024-06-10T06:35:11.274Z"
   },
   {
    "duration": 49,
    "start_time": "2024-06-10T06:35:11.280Z"
   },
   {
    "duration": 191,
    "start_time": "2024-06-10T06:35:11.331Z"
   },
   {
    "duration": 4,
    "start_time": "2024-06-10T06:35:11.524Z"
   },
   {
    "duration": 4,
    "start_time": "2024-06-10T06:35:11.530Z"
   },
   {
    "duration": 52,
    "start_time": "2024-06-10T06:35:11.536Z"
   },
   {
    "duration": 10,
    "start_time": "2024-06-10T06:35:11.589Z"
   },
   {
    "duration": 18,
    "start_time": "2024-06-10T06:35:11.602Z"
   },
   {
    "duration": 13,
    "start_time": "2024-06-10T06:35:11.622Z"
   },
   {
    "duration": 5,
    "start_time": "2024-06-10T06:35:11.637Z"
   },
   {
    "duration": 368,
    "start_time": "2024-06-10T06:35:11.666Z"
   },
   {
    "duration": 7,
    "start_time": "2024-06-10T06:35:12.036Z"
   },
   {
    "duration": 22,
    "start_time": "2024-06-10T06:35:12.044Z"
   },
   {
    "duration": 15,
    "start_time": "2024-06-10T06:35:12.067Z"
   },
   {
    "duration": 9,
    "start_time": "2024-06-10T06:35:12.084Z"
   },
   {
    "duration": 442,
    "start_time": "2024-06-10T06:35:12.094Z"
   },
   {
    "duration": 9,
    "start_time": "2024-06-10T06:35:12.538Z"
   },
   {
    "duration": 34,
    "start_time": "2024-06-10T06:35:12.549Z"
   },
   {
    "duration": 95,
    "start_time": "2024-06-10T06:35:12.584Z"
   },
   {
    "duration": 1709,
    "start_time": "2024-06-10T06:35:12.681Z"
   },
   {
    "duration": 14,
    "start_time": "2024-06-10T06:35:14.392Z"
   },
   {
    "duration": 11,
    "start_time": "2024-06-10T06:35:14.407Z"
   },
   {
    "duration": 5,
    "start_time": "2024-06-10T06:35:14.420Z"
   },
   {
    "duration": 719,
    "start_time": "2024-06-10T06:35:14.426Z"
   },
   {
    "duration": 8,
    "start_time": "2024-06-10T06:35:15.146Z"
   },
   {
    "duration": 32,
    "start_time": "2024-06-10T06:35:15.164Z"
   },
   {
    "duration": 29,
    "start_time": "2024-06-10T06:35:15.197Z"
   },
   {
    "duration": 36,
    "start_time": "2024-06-10T06:35:15.228Z"
   },
   {
    "duration": 576,
    "start_time": "2024-06-10T06:35:15.266Z"
   },
   {
    "duration": 33,
    "start_time": "2024-06-10T06:35:15.843Z"
   },
   {
    "duration": 8,
    "start_time": "2024-06-10T06:35:15.877Z"
   },
   {
    "duration": 34,
    "start_time": "2024-06-10T06:35:15.887Z"
   },
   {
    "duration": 1073,
    "start_time": "2024-06-10T06:35:15.922Z"
   },
   {
    "duration": 9,
    "start_time": "2024-06-10T06:35:16.997Z"
   },
   {
    "duration": 15,
    "start_time": "2024-06-10T06:35:17.007Z"
   },
   {
    "duration": 17,
    "start_time": "2024-06-10T06:35:17.023Z"
   },
   {
    "duration": 29,
    "start_time": "2024-06-10T06:35:17.041Z"
   },
   {
    "duration": 12,
    "start_time": "2024-06-10T06:35:17.072Z"
   },
   {
    "duration": 14,
    "start_time": "2024-06-10T06:35:17.086Z"
   },
   {
    "duration": 28,
    "start_time": "2024-06-10T06:35:17.101Z"
   },
   {
    "duration": 3,
    "start_time": "2024-06-10T06:35:17.131Z"
   },
   {
    "duration": 16,
    "start_time": "2024-06-10T06:35:17.135Z"
   },
   {
    "duration": 14,
    "start_time": "2024-06-10T06:35:17.153Z"
   },
   {
    "duration": 18,
    "start_time": "2024-06-10T06:35:17.169Z"
   },
   {
    "duration": 1539,
    "start_time": "2024-06-10T06:35:17.189Z"
   },
   {
    "duration": 47,
    "start_time": "2024-06-10T06:35:18.730Z"
   },
   {
    "duration": 45,
    "start_time": "2024-06-10T06:35:18.779Z"
   },
   {
    "duration": 11,
    "start_time": "2024-06-10T06:35:59.068Z"
   },
   {
    "duration": 27,
    "start_time": "2024-06-10T06:36:03.886Z"
   },
   {
    "duration": 779,
    "start_time": "2024-06-10T06:36:17.767Z"
   },
   {
    "duration": 259,
    "start_time": "2024-06-10T06:36:18.548Z"
   },
   {
    "duration": 4,
    "start_time": "2024-06-10T06:36:18.809Z"
   },
   {
    "duration": 58,
    "start_time": "2024-06-10T06:36:18.815Z"
   },
   {
    "duration": 232,
    "start_time": "2024-06-10T06:36:18.874Z"
   },
   {
    "duration": 4,
    "start_time": "2024-06-10T06:36:19.108Z"
   },
   {
    "duration": 8,
    "start_time": "2024-06-10T06:36:19.114Z"
   },
   {
    "duration": 50,
    "start_time": "2024-06-10T06:36:19.124Z"
   },
   {
    "duration": 17,
    "start_time": "2024-06-10T06:36:19.176Z"
   },
   {
    "duration": 22,
    "start_time": "2024-06-10T06:36:19.196Z"
   },
   {
    "duration": 15,
    "start_time": "2024-06-10T06:36:19.219Z"
   },
   {
    "duration": 32,
    "start_time": "2024-06-10T06:36:19.236Z"
   },
   {
    "duration": 390,
    "start_time": "2024-06-10T06:36:19.269Z"
   },
   {
    "duration": 10,
    "start_time": "2024-06-10T06:36:19.661Z"
   },
   {
    "duration": 79,
    "start_time": "2024-06-10T06:36:19.673Z"
   },
   {
    "duration": 85,
    "start_time": "2024-06-10T06:36:19.754Z"
   },
   {
    "duration": 15,
    "start_time": "2024-06-10T06:36:19.841Z"
   },
   {
    "duration": 401,
    "start_time": "2024-06-10T06:36:19.858Z"
   },
   {
    "duration": 12,
    "start_time": "2024-06-10T06:36:20.261Z"
   },
   {
    "duration": 90,
    "start_time": "2024-06-10T06:36:20.275Z"
   },
   {
    "duration": 44,
    "start_time": "2024-06-10T06:36:20.367Z"
   },
   {
    "duration": 2632,
    "start_time": "2024-06-10T06:36:20.413Z"
   },
   {
    "duration": 14,
    "start_time": "2024-06-10T06:36:23.046Z"
   },
   {
    "duration": 8,
    "start_time": "2024-06-10T06:36:23.064Z"
   },
   {
    "duration": 4,
    "start_time": "2024-06-10T06:36:23.074Z"
   },
   {
    "duration": 724,
    "start_time": "2024-06-10T06:36:23.080Z"
   },
   {
    "duration": 8,
    "start_time": "2024-06-10T06:36:23.805Z"
   },
   {
    "duration": 31,
    "start_time": "2024-06-10T06:36:23.817Z"
   },
   {
    "duration": 8,
    "start_time": "2024-06-10T06:36:23.850Z"
   },
   {
    "duration": 5,
    "start_time": "2024-06-10T06:36:23.860Z"
   },
   {
    "duration": 614,
    "start_time": "2024-06-10T06:36:23.866Z"
   },
   {
    "duration": 27,
    "start_time": "2024-06-10T06:36:24.483Z"
   },
   {
    "duration": 7,
    "start_time": "2024-06-10T06:36:24.512Z"
   },
   {
    "duration": 17,
    "start_time": "2024-06-10T06:36:24.521Z"
   },
   {
    "duration": 1145,
    "start_time": "2024-06-10T06:36:24.539Z"
   },
   {
    "duration": 11,
    "start_time": "2024-06-10T06:36:25.686Z"
   },
   {
    "duration": 57,
    "start_time": "2024-06-10T06:36:25.699Z"
   },
   {
    "duration": 58,
    "start_time": "2024-06-10T06:36:25.759Z"
   },
   {
    "duration": 57,
    "start_time": "2024-06-10T06:36:25.819Z"
   },
   {
    "duration": 20,
    "start_time": "2024-06-10T06:36:25.878Z"
   },
   {
    "duration": 13,
    "start_time": "2024-06-10T06:36:25.900Z"
   },
   {
    "duration": 10,
    "start_time": "2024-06-10T06:36:25.915Z"
   },
   {
    "duration": 16,
    "start_time": "2024-06-10T06:36:25.926Z"
   },
   {
    "duration": 22,
    "start_time": "2024-06-10T06:36:25.944Z"
   },
   {
    "duration": 4,
    "start_time": "2024-06-10T06:36:25.968Z"
   },
   {
    "duration": 13,
    "start_time": "2024-06-10T06:36:25.974Z"
   },
   {
    "duration": 19,
    "start_time": "2024-06-10T06:36:25.988Z"
   },
   {
    "duration": 1700,
    "start_time": "2024-06-10T06:36:26.008Z"
   },
   {
    "duration": 23,
    "start_time": "2024-06-10T06:36:27.710Z"
   },
   {
    "duration": 95,
    "start_time": "2024-06-10T06:36:27.734Z"
   },
   {
    "duration": 86,
    "start_time": "2024-06-10T06:45:48.543Z"
   },
   {
    "duration": 8,
    "start_time": "2024-06-10T06:46:07.578Z"
   },
   {
    "duration": 8,
    "start_time": "2024-06-10T06:46:14.637Z"
   },
   {
    "duration": 786,
    "start_time": "2024-06-10T06:46:56.449Z"
   },
   {
    "duration": 1177,
    "start_time": "2024-06-10T06:46:57.237Z"
   },
   {
    "duration": 4,
    "start_time": "2024-06-10T06:46:58.415Z"
   },
   {
    "duration": 56,
    "start_time": "2024-06-10T06:46:58.421Z"
   },
   {
    "duration": 222,
    "start_time": "2024-06-10T06:46:58.478Z"
   },
   {
    "duration": 5,
    "start_time": "2024-06-10T06:46:58.702Z"
   },
   {
    "duration": 5,
    "start_time": "2024-06-10T06:46:58.709Z"
   },
   {
    "duration": 56,
    "start_time": "2024-06-10T06:46:58.716Z"
   },
   {
    "duration": 12,
    "start_time": "2024-06-10T06:46:58.774Z"
   },
   {
    "duration": 21,
    "start_time": "2024-06-10T06:46:58.789Z"
   },
   {
    "duration": 14,
    "start_time": "2024-06-10T06:46:58.812Z"
   },
   {
    "duration": 8,
    "start_time": "2024-06-10T06:46:58.827Z"
   },
   {
    "duration": 389,
    "start_time": "2024-06-10T06:46:58.865Z"
   },
   {
    "duration": 13,
    "start_time": "2024-06-10T06:46:59.256Z"
   },
   {
    "duration": 19,
    "start_time": "2024-06-10T06:46:59.270Z"
   },
   {
    "duration": 23,
    "start_time": "2024-06-10T06:46:59.291Z"
   },
   {
    "duration": 11,
    "start_time": "2024-06-10T06:46:59.316Z"
   },
   {
    "duration": 400,
    "start_time": "2024-06-10T06:46:59.328Z"
   },
   {
    "duration": 11,
    "start_time": "2024-06-10T06:46:59.729Z"
   },
   {
    "duration": 64,
    "start_time": "2024-06-10T06:46:59.742Z"
   },
   {
    "duration": 98,
    "start_time": "2024-06-10T06:46:59.808Z"
   },
   {
    "duration": 2402,
    "start_time": "2024-06-10T06:46:59.907Z"
   },
   {
    "duration": 70,
    "start_time": "2024-06-10T06:47:02.311Z"
   },
   {
    "duration": 36,
    "start_time": "2024-06-10T06:47:02.383Z"
   },
   {
    "duration": 44,
    "start_time": "2024-06-10T06:47:02.421Z"
   },
   {
    "duration": 919,
    "start_time": "2024-06-10T06:47:02.467Z"
   },
   {
    "duration": 8,
    "start_time": "2024-06-10T06:47:03.388Z"
   },
   {
    "duration": 14,
    "start_time": "2024-06-10T06:47:03.400Z"
   },
   {
    "duration": 14,
    "start_time": "2024-06-10T06:47:03.415Z"
   },
   {
    "duration": 21,
    "start_time": "2024-06-10T06:47:03.431Z"
   },
   {
    "duration": 633,
    "start_time": "2024-06-10T06:47:03.454Z"
   },
   {
    "duration": 21,
    "start_time": "2024-06-10T06:47:04.088Z"
   },
   {
    "duration": 7,
    "start_time": "2024-06-10T06:47:04.111Z"
   },
   {
    "duration": 13,
    "start_time": "2024-06-10T06:47:04.120Z"
   },
   {
    "duration": 1133,
    "start_time": "2024-06-10T06:47:04.135Z"
   },
   {
    "duration": 84,
    "start_time": "2024-06-10T06:47:05.270Z"
   },
   {
    "duration": 14,
    "start_time": "2024-06-10T06:47:05.356Z"
   },
   {
    "duration": 10,
    "start_time": "2024-06-10T06:47:05.372Z"
   },
   {
    "duration": 25,
    "start_time": "2024-06-10T06:47:05.384Z"
   },
   {
    "duration": 14,
    "start_time": "2024-06-10T06:47:05.411Z"
   },
   {
    "duration": 21,
    "start_time": "2024-06-10T06:47:05.428Z"
   },
   {
    "duration": 22,
    "start_time": "2024-06-10T06:47:05.451Z"
   },
   {
    "duration": 8,
    "start_time": "2024-06-10T06:47:05.475Z"
   },
   {
    "duration": 6,
    "start_time": "2024-06-10T06:47:05.485Z"
   },
   {
    "duration": 5,
    "start_time": "2024-06-10T06:47:05.493Z"
   },
   {
    "duration": 21,
    "start_time": "2024-06-10T06:47:05.500Z"
   },
   {
    "duration": 575,
    "start_time": "2024-06-10T06:47:05.522Z"
   },
   {
    "duration": 22,
    "start_time": "2024-06-10T06:47:06.099Z"
   },
   {
    "duration": 7,
    "start_time": "2024-06-10T06:47:06.122Z"
   },
   {
    "duration": 742,
    "start_time": "2024-06-10T07:47:50.034Z"
   },
   {
    "duration": 290,
    "start_time": "2024-06-10T07:47:50.777Z"
   },
   {
    "duration": 5,
    "start_time": "2024-06-10T07:47:51.069Z"
   },
   {
    "duration": 55,
    "start_time": "2024-06-10T07:47:51.076Z"
   },
   {
    "duration": 205,
    "start_time": "2024-06-10T07:47:51.132Z"
   },
   {
    "duration": 5,
    "start_time": "2024-06-10T07:47:51.338Z"
   },
   {
    "duration": 26,
    "start_time": "2024-06-10T07:47:51.344Z"
   },
   {
    "duration": 54,
    "start_time": "2024-06-10T07:47:51.371Z"
   },
   {
    "duration": 19,
    "start_time": "2024-06-10T07:47:51.426Z"
   },
   {
    "duration": 26,
    "start_time": "2024-06-10T07:47:51.447Z"
   },
   {
    "duration": 18,
    "start_time": "2024-06-10T07:47:51.474Z"
   },
   {
    "duration": 21,
    "start_time": "2024-06-10T07:47:51.493Z"
   },
   {
    "duration": 413,
    "start_time": "2024-06-10T07:47:51.516Z"
   },
   {
    "duration": 7,
    "start_time": "2024-06-10T07:47:51.931Z"
   },
   {
    "duration": 86,
    "start_time": "2024-06-10T07:47:51.939Z"
   },
   {
    "duration": 70,
    "start_time": "2024-06-10T07:47:52.027Z"
   },
   {
    "duration": 19,
    "start_time": "2024-06-10T07:47:52.099Z"
   },
   {
    "duration": 382,
    "start_time": "2024-06-10T07:47:52.119Z"
   },
   {
    "duration": 10,
    "start_time": "2024-06-10T07:47:52.502Z"
   },
   {
    "duration": 75,
    "start_time": "2024-06-10T07:47:52.513Z"
   },
   {
    "duration": 80,
    "start_time": "2024-06-10T07:47:52.589Z"
   },
   {
    "duration": 1717,
    "start_time": "2024-06-10T07:47:52.671Z"
   },
   {
    "duration": 12,
    "start_time": "2024-06-10T07:47:54.390Z"
   },
   {
    "duration": 34,
    "start_time": "2024-06-10T07:47:54.404Z"
   },
   {
    "duration": 34,
    "start_time": "2024-06-10T07:47:54.439Z"
   },
   {
    "duration": 835,
    "start_time": "2024-06-10T07:47:54.475Z"
   },
   {
    "duration": 8,
    "start_time": "2024-06-10T07:47:55.312Z"
   },
   {
    "duration": 20,
    "start_time": "2024-06-10T07:47:55.323Z"
   },
   {
    "duration": 12,
    "start_time": "2024-06-10T07:47:55.345Z"
   },
   {
    "duration": 39,
    "start_time": "2024-06-10T07:47:55.359Z"
   },
   {
    "duration": 619,
    "start_time": "2024-06-10T07:47:55.400Z"
   },
   {
    "duration": 18,
    "start_time": "2024-06-10T07:47:56.020Z"
   },
   {
    "duration": 72,
    "start_time": "2024-06-10T07:47:56.040Z"
   },
   {
    "duration": 24,
    "start_time": "2024-06-10T07:47:56.113Z"
   },
   {
    "duration": 1075,
    "start_time": "2024-06-10T07:47:56.139Z"
   },
   {
    "duration": 89,
    "start_time": "2024-06-10T07:47:57.215Z"
   },
   {
    "duration": 7,
    "start_time": "2024-06-10T07:47:57.305Z"
   },
   {
    "duration": 9,
    "start_time": "2024-06-10T07:47:57.313Z"
   },
   {
    "duration": 26,
    "start_time": "2024-06-10T07:47:57.323Z"
   },
   {
    "duration": 22,
    "start_time": "2024-06-10T07:47:57.351Z"
   },
   {
    "duration": 20,
    "start_time": "2024-06-10T07:47:57.374Z"
   },
   {
    "duration": 36,
    "start_time": "2024-06-10T07:47:57.396Z"
   },
   {
    "duration": 12,
    "start_time": "2024-06-10T07:47:57.434Z"
   },
   {
    "duration": 21,
    "start_time": "2024-06-10T07:47:57.447Z"
   },
   {
    "duration": 22,
    "start_time": "2024-06-10T07:47:57.469Z"
   },
   {
    "duration": 34,
    "start_time": "2024-06-10T07:47:57.492Z"
   },
   {
    "duration": 542,
    "start_time": "2024-06-10T07:47:57.527Z"
   },
   {
    "duration": 27,
    "start_time": "2024-06-10T07:47:58.071Z"
   },
   {
    "duration": 23,
    "start_time": "2024-06-10T07:47:58.099Z"
   },
   {
    "duration": 39,
    "start_time": "2024-06-10T07:47:58.123Z"
   },
   {
    "duration": 681,
    "start_time": "2024-06-10T07:51:45.520Z"
   },
   {
    "duration": 325,
    "start_time": "2024-06-10T07:51:46.203Z"
   },
   {
    "duration": 4,
    "start_time": "2024-06-10T07:51:46.530Z"
   },
   {
    "duration": 51,
    "start_time": "2024-06-10T07:51:46.536Z"
   },
   {
    "duration": 183,
    "start_time": "2024-06-10T07:51:46.588Z"
   },
   {
    "duration": 6,
    "start_time": "2024-06-10T07:51:46.772Z"
   },
   {
    "duration": 19,
    "start_time": "2024-06-10T07:51:46.779Z"
   },
   {
    "duration": 52,
    "start_time": "2024-06-10T07:51:46.799Z"
   },
   {
    "duration": 11,
    "start_time": "2024-06-10T07:51:46.852Z"
   },
   {
    "duration": 29,
    "start_time": "2024-06-10T07:51:46.865Z"
   },
   {
    "duration": 13,
    "start_time": "2024-06-10T07:51:46.895Z"
   },
   {
    "duration": 4,
    "start_time": "2024-06-10T07:51:46.909Z"
   },
   {
    "duration": 339,
    "start_time": "2024-06-10T07:51:46.915Z"
   },
   {
    "duration": 9,
    "start_time": "2024-06-10T07:51:47.256Z"
   },
   {
    "duration": 28,
    "start_time": "2024-06-10T07:51:47.266Z"
   },
   {
    "duration": 24,
    "start_time": "2024-06-10T07:51:47.296Z"
   },
   {
    "duration": 26,
    "start_time": "2024-06-10T07:51:47.322Z"
   },
   {
    "duration": 719,
    "start_time": "2024-06-10T07:51:47.349Z"
   },
   {
    "duration": 9,
    "start_time": "2024-06-10T07:51:48.070Z"
   },
   {
    "duration": 102,
    "start_time": "2024-06-10T07:51:48.080Z"
   },
   {
    "duration": 111,
    "start_time": "2024-06-10T07:51:48.184Z"
   },
   {
    "duration": 2277,
    "start_time": "2024-06-10T07:51:48.296Z"
   },
   {
    "duration": 12,
    "start_time": "2024-06-10T07:51:50.575Z"
   },
   {
    "duration": 13,
    "start_time": "2024-06-10T07:51:50.589Z"
   },
   {
    "duration": 5,
    "start_time": "2024-06-10T07:51:50.603Z"
   },
   {
    "duration": 1142,
    "start_time": "2024-06-10T07:51:50.609Z"
   },
   {
    "duration": 13,
    "start_time": "2024-06-10T07:51:51.752Z"
   },
   {
    "duration": 20,
    "start_time": "2024-06-10T07:51:51.768Z"
   },
   {
    "duration": 9,
    "start_time": "2024-06-10T07:51:51.789Z"
   },
   {
    "duration": 9,
    "start_time": "2024-06-10T07:51:51.799Z"
   },
   {
    "duration": 538,
    "start_time": "2024-06-10T07:51:51.809Z"
   },
   {
    "duration": 24,
    "start_time": "2024-06-10T07:51:52.349Z"
   },
   {
    "duration": 7,
    "start_time": "2024-06-10T07:51:52.375Z"
   },
   {
    "duration": 13,
    "start_time": "2024-06-10T07:51:52.384Z"
   },
   {
    "duration": 1085,
    "start_time": "2024-06-10T07:51:52.399Z"
   },
   {
    "duration": 85,
    "start_time": "2024-06-10T07:51:53.486Z"
   },
   {
    "duration": 11,
    "start_time": "2024-06-10T07:51:53.583Z"
   },
   {
    "duration": 10,
    "start_time": "2024-06-10T07:51:53.596Z"
   },
   {
    "duration": 33,
    "start_time": "2024-06-10T07:51:53.608Z"
   },
   {
    "duration": 28,
    "start_time": "2024-06-10T07:51:53.642Z"
   },
   {
    "duration": 6,
    "start_time": "2024-06-10T07:51:53.672Z"
   },
   {
    "duration": 13,
    "start_time": "2024-06-10T07:51:53.679Z"
   },
   {
    "duration": 4,
    "start_time": "2024-06-10T07:51:53.693Z"
   },
   {
    "duration": 4,
    "start_time": "2024-06-10T07:51:53.698Z"
   },
   {
    "duration": 5,
    "start_time": "2024-06-10T07:51:53.704Z"
   },
   {
    "duration": 8,
    "start_time": "2024-06-10T07:51:53.711Z"
   },
   {
    "duration": 565,
    "start_time": "2024-06-10T07:51:53.721Z"
   },
   {
    "duration": 20,
    "start_time": "2024-06-10T07:51:54.287Z"
   },
   {
    "duration": 6,
    "start_time": "2024-06-10T07:51:54.308Z"
   },
   {
    "duration": 17,
    "start_time": "2024-06-10T07:51:54.315Z"
   },
   {
    "duration": 728,
    "start_time": "2024-06-10T07:52:59.289Z"
   },
   {
    "duration": 286,
    "start_time": "2024-06-10T07:53:00.019Z"
   },
   {
    "duration": 4,
    "start_time": "2024-06-10T07:53:00.307Z"
   },
   {
    "duration": 117,
    "start_time": "2024-06-10T07:53:00.313Z"
   },
   {
    "duration": 344,
    "start_time": "2024-06-10T07:53:00.431Z"
   },
   {
    "duration": 5,
    "start_time": "2024-06-10T07:53:00.777Z"
   },
   {
    "duration": 42,
    "start_time": "2024-06-10T07:53:00.783Z"
   },
   {
    "duration": 74,
    "start_time": "2024-06-10T07:53:00.826Z"
   },
   {
    "duration": 71,
    "start_time": "2024-06-10T07:53:00.902Z"
   },
   {
    "duration": 22,
    "start_time": "2024-06-10T07:53:00.975Z"
   },
   {
    "duration": 67,
    "start_time": "2024-06-10T07:53:00.998Z"
   },
   {
    "duration": 13,
    "start_time": "2024-06-10T07:53:01.067Z"
   },
   {
    "duration": 680,
    "start_time": "2024-06-10T07:53:01.082Z"
   },
   {
    "duration": 7,
    "start_time": "2024-06-10T07:53:01.765Z"
   },
   {
    "duration": 40,
    "start_time": "2024-06-10T07:53:01.773Z"
   },
   {
    "duration": 12,
    "start_time": "2024-06-10T07:53:01.815Z"
   },
   {
    "duration": 25,
    "start_time": "2024-06-10T07:53:01.828Z"
   },
   {
    "duration": 349,
    "start_time": "2024-06-10T07:53:01.855Z"
   },
   {
    "duration": 11,
    "start_time": "2024-06-10T07:53:02.205Z"
   },
   {
    "duration": 66,
    "start_time": "2024-06-10T07:53:02.217Z"
   },
   {
    "duration": 92,
    "start_time": "2024-06-10T07:53:02.285Z"
   },
   {
    "duration": 1715,
    "start_time": "2024-06-10T07:53:02.378Z"
   },
   {
    "duration": 13,
    "start_time": "2024-06-10T07:53:04.095Z"
   },
   {
    "duration": 26,
    "start_time": "2024-06-10T07:53:04.109Z"
   },
   {
    "duration": 23,
    "start_time": "2024-06-10T07:53:04.136Z"
   },
   {
    "duration": 721,
    "start_time": "2024-06-10T07:53:04.160Z"
   },
   {
    "duration": 7,
    "start_time": "2024-06-10T07:53:04.883Z"
   },
   {
    "duration": 7,
    "start_time": "2024-06-10T07:53:04.894Z"
   },
   {
    "duration": 8,
    "start_time": "2024-06-10T07:53:04.902Z"
   },
   {
    "duration": 6,
    "start_time": "2024-06-10T07:53:04.912Z"
   },
   {
    "duration": 569,
    "start_time": "2024-06-10T07:53:04.920Z"
   },
   {
    "duration": 19,
    "start_time": "2024-06-10T07:53:05.490Z"
   },
   {
    "duration": 7,
    "start_time": "2024-06-10T07:53:05.511Z"
   },
   {
    "duration": 10,
    "start_time": "2024-06-10T07:53:05.520Z"
   },
   {
    "duration": 1121,
    "start_time": "2024-06-10T07:53:05.531Z"
   },
   {
    "duration": 81,
    "start_time": "2024-06-10T07:53:06.654Z"
   },
   {
    "duration": 7,
    "start_time": "2024-06-10T07:53:06.736Z"
   },
   {
    "duration": 22,
    "start_time": "2024-06-10T07:53:06.745Z"
   },
   {
    "duration": 16,
    "start_time": "2024-06-10T07:53:06.768Z"
   },
   {
    "duration": 12,
    "start_time": "2024-06-10T07:53:06.786Z"
   },
   {
    "duration": 7,
    "start_time": "2024-06-10T07:53:06.799Z"
   },
   {
    "duration": 12,
    "start_time": "2024-06-10T07:53:06.808Z"
   },
   {
    "duration": 3,
    "start_time": "2024-06-10T07:53:06.821Z"
   },
   {
    "duration": 6,
    "start_time": "2024-06-10T07:53:06.825Z"
   },
   {
    "duration": 13,
    "start_time": "2024-06-10T07:53:06.833Z"
   },
   {
    "duration": 21,
    "start_time": "2024-06-10T07:53:06.847Z"
   },
   {
    "duration": 496,
    "start_time": "2024-06-10T07:53:06.869Z"
   },
   {
    "duration": 20,
    "start_time": "2024-06-10T07:53:07.367Z"
   },
   {
    "duration": 7,
    "start_time": "2024-06-10T07:53:07.388Z"
   },
   {
    "duration": 27,
    "start_time": "2024-06-10T07:53:07.396Z"
   },
   {
    "duration": 697,
    "start_time": "2024-06-10T07:53:26.261Z"
   },
   {
    "duration": 319,
    "start_time": "2024-06-10T07:53:26.960Z"
   },
   {
    "duration": 5,
    "start_time": "2024-06-10T07:53:27.281Z"
   },
   {
    "duration": 48,
    "start_time": "2024-06-10T07:53:27.287Z"
   },
   {
    "duration": 181,
    "start_time": "2024-06-10T07:53:27.338Z"
   },
   {
    "duration": 5,
    "start_time": "2024-06-10T07:53:27.521Z"
   },
   {
    "duration": 5,
    "start_time": "2024-06-10T07:53:27.528Z"
   },
   {
    "duration": 28,
    "start_time": "2024-06-10T07:53:27.564Z"
   },
   {
    "duration": 10,
    "start_time": "2024-06-10T07:53:27.594Z"
   },
   {
    "duration": 20,
    "start_time": "2024-06-10T07:53:27.606Z"
   },
   {
    "duration": 12,
    "start_time": "2024-06-10T07:53:27.627Z"
   },
   {
    "duration": 5,
    "start_time": "2024-06-10T07:53:27.665Z"
   },
   {
    "duration": 342,
    "start_time": "2024-06-10T07:53:27.671Z"
   },
   {
    "duration": 7,
    "start_time": "2024-06-10T07:53:28.016Z"
   },
   {
    "duration": 76,
    "start_time": "2024-06-10T07:53:28.025Z"
   },
   {
    "duration": 20,
    "start_time": "2024-06-10T07:53:28.103Z"
   },
   {
    "duration": 19,
    "start_time": "2024-06-10T07:53:28.125Z"
   },
   {
    "duration": 351,
    "start_time": "2024-06-10T07:53:28.145Z"
   },
   {
    "duration": 12,
    "start_time": "2024-06-10T07:53:28.498Z"
   },
   {
    "duration": 91,
    "start_time": "2024-06-10T07:53:28.512Z"
   },
   {
    "duration": 104,
    "start_time": "2024-06-10T07:53:28.605Z"
   },
   {
    "duration": 1828,
    "start_time": "2024-06-10T07:53:28.711Z"
   },
   {
    "duration": 14,
    "start_time": "2024-06-10T07:53:30.541Z"
   },
   {
    "duration": 96,
    "start_time": "2024-06-10T07:53:30.565Z"
   },
   {
    "duration": 77,
    "start_time": "2024-06-10T07:53:30.663Z"
   },
   {
    "duration": 754,
    "start_time": "2024-06-10T07:53:30.741Z"
   },
   {
    "duration": 9,
    "start_time": "2024-06-10T07:53:31.497Z"
   },
   {
    "duration": 57,
    "start_time": "2024-06-10T07:53:31.508Z"
   },
   {
    "duration": 6,
    "start_time": "2024-06-10T07:53:31.567Z"
   },
   {
    "duration": 33,
    "start_time": "2024-06-10T07:53:31.574Z"
   },
   {
    "duration": 591,
    "start_time": "2024-06-10T07:53:31.608Z"
   },
   {
    "duration": 18,
    "start_time": "2024-06-10T07:53:32.201Z"
   },
   {
    "duration": 9,
    "start_time": "2024-06-10T07:53:32.221Z"
   },
   {
    "duration": 11,
    "start_time": "2024-06-10T07:53:32.232Z"
   },
   {
    "duration": 1085,
    "start_time": "2024-06-10T07:53:32.244Z"
   },
   {
    "duration": 96,
    "start_time": "2024-06-10T07:53:33.330Z"
   },
   {
    "duration": 7,
    "start_time": "2024-06-10T07:53:33.428Z"
   },
   {
    "duration": 9,
    "start_time": "2024-06-10T07:53:33.436Z"
   },
   {
    "duration": 35,
    "start_time": "2024-06-10T07:53:33.447Z"
   },
   {
    "duration": 12,
    "start_time": "2024-06-10T07:53:33.484Z"
   },
   {
    "duration": 5,
    "start_time": "2024-06-10T07:53:33.499Z"
   },
   {
    "duration": 19,
    "start_time": "2024-06-10T07:53:33.505Z"
   },
   {
    "duration": 3,
    "start_time": "2024-06-10T07:53:33.526Z"
   },
   {
    "duration": 5,
    "start_time": "2024-06-10T07:53:33.530Z"
   },
   {
    "duration": 5,
    "start_time": "2024-06-10T07:53:33.536Z"
   },
   {
    "duration": 30,
    "start_time": "2024-06-10T07:53:33.542Z"
   },
   {
    "duration": 536,
    "start_time": "2024-06-10T07:53:33.573Z"
   },
   {
    "duration": 20,
    "start_time": "2024-06-10T07:53:34.111Z"
   },
   {
    "duration": 7,
    "start_time": "2024-06-10T07:53:34.132Z"
   },
   {
    "duration": 19,
    "start_time": "2024-06-10T07:53:34.164Z"
   },
   {
    "duration": 16,
    "start_time": "2024-06-10T07:53:38.339Z"
   },
   {
    "duration": 26,
    "start_time": "2024-06-10T07:54:36.373Z"
   },
   {
    "duration": 12,
    "start_time": "2024-06-10T07:57:09.461Z"
   },
   {
    "duration": 14,
    "start_time": "2024-06-10T07:57:22.120Z"
   },
   {
    "duration": 6,
    "start_time": "2024-06-10T07:59:31.294Z"
   },
   {
    "duration": 6,
    "start_time": "2024-06-10T08:00:14.574Z"
   },
   {
    "duration": 130,
    "start_time": "2024-06-10T08:03:34.539Z"
   },
   {
    "duration": 15,
    "start_time": "2024-06-10T08:03:48.032Z"
   },
   {
    "duration": 71,
    "start_time": "2024-06-10T08:04:40.895Z"
   },
   {
    "duration": 40,
    "start_time": "2024-06-10T08:04:48.098Z"
   },
   {
    "duration": 8,
    "start_time": "2024-06-10T08:19:52.078Z"
   },
   {
    "duration": 8,
    "start_time": "2024-06-10T08:20:01.076Z"
   },
   {
    "duration": 4,
    "start_time": "2024-06-10T08:20:12.860Z"
   },
   {
    "duration": 3,
    "start_time": "2024-06-10T08:20:16.993Z"
   },
   {
    "duration": 29,
    "start_time": "2024-06-10T08:21:35.603Z"
   },
   {
    "duration": 35,
    "start_time": "2024-06-10T08:21:54.800Z"
   },
   {
    "duration": 13,
    "start_time": "2024-06-10T08:22:18.731Z"
   },
   {
    "duration": 15,
    "start_time": "2024-06-10T08:22:43.144Z"
   },
   {
    "duration": 20,
    "start_time": "2024-06-10T08:26:37.700Z"
   },
   {
    "duration": 4,
    "start_time": "2024-06-10T08:27:58.488Z"
   },
   {
    "duration": 15,
    "start_time": "2024-06-10T08:28:11.059Z"
   },
   {
    "duration": 13,
    "start_time": "2024-06-10T08:28:54.774Z"
   },
   {
    "duration": 18,
    "start_time": "2024-06-10T08:29:02.015Z"
   },
   {
    "duration": 14,
    "start_time": "2024-06-10T08:29:04.889Z"
   },
   {
    "duration": 17,
    "start_time": "2024-06-10T08:29:34.831Z"
   },
   {
    "duration": 14,
    "start_time": "2024-06-10T08:29:36.353Z"
   },
   {
    "duration": 16,
    "start_time": "2024-06-10T08:29:52.428Z"
   },
   {
    "duration": 16,
    "start_time": "2024-06-10T08:30:14.664Z"
   },
   {
    "duration": 16,
    "start_time": "2024-06-10T08:30:15.716Z"
   },
   {
    "duration": 22,
    "start_time": "2024-06-10T08:36:04.361Z"
   },
   {
    "duration": 24,
    "start_time": "2024-06-10T08:36:41.191Z"
   },
   {
    "duration": 86,
    "start_time": "2024-06-10T08:39:27.475Z"
   },
   {
    "duration": 99,
    "start_time": "2024-06-10T08:40:04.446Z"
   },
   {
    "duration": 27,
    "start_time": "2024-06-10T08:40:26.916Z"
   },
   {
    "duration": 37,
    "start_time": "2024-06-10T08:40:30.609Z"
   },
   {
    "duration": 10,
    "start_time": "2024-06-10T14:08:03.242Z"
   },
   {
    "duration": 992,
    "start_time": "2024-06-10T14:08:08.445Z"
   },
   {
    "duration": 426,
    "start_time": "2024-06-10T14:08:09.439Z"
   },
   {
    "duration": 4,
    "start_time": "2024-06-10T14:08:09.867Z"
   },
   {
    "duration": 88,
    "start_time": "2024-06-10T14:08:09.874Z"
   },
   {
    "duration": 235,
    "start_time": "2024-06-10T14:08:09.964Z"
   },
   {
    "duration": 5,
    "start_time": "2024-06-10T14:08:10.201Z"
   },
   {
    "duration": 6,
    "start_time": "2024-06-10T14:08:10.208Z"
   },
   {
    "duration": 56,
    "start_time": "2024-06-10T14:08:10.216Z"
   },
   {
    "duration": 15,
    "start_time": "2024-06-10T14:08:10.274Z"
   },
   {
    "duration": 27,
    "start_time": "2024-06-10T14:08:10.292Z"
   },
   {
    "duration": 33,
    "start_time": "2024-06-10T14:08:10.321Z"
   },
   {
    "duration": 5,
    "start_time": "2024-06-10T14:08:10.356Z"
   },
   {
    "duration": 390,
    "start_time": "2024-06-10T14:08:10.363Z"
   },
   {
    "duration": 7,
    "start_time": "2024-06-10T14:08:10.754Z"
   },
   {
    "duration": 18,
    "start_time": "2024-06-10T14:08:10.763Z"
   },
   {
    "duration": 20,
    "start_time": "2024-06-10T14:08:10.783Z"
   },
   {
    "duration": 10,
    "start_time": "2024-06-10T14:08:10.804Z"
   },
   {
    "duration": 450,
    "start_time": "2024-06-10T14:08:10.816Z"
   },
   {
    "duration": 11,
    "start_time": "2024-06-10T14:08:11.268Z"
   },
   {
    "duration": 76,
    "start_time": "2024-06-10T14:08:11.281Z"
   },
   {
    "duration": 97,
    "start_time": "2024-06-10T14:08:11.358Z"
   },
   {
    "duration": 2030,
    "start_time": "2024-06-10T14:08:11.458Z"
   },
   {
    "duration": 14,
    "start_time": "2024-06-10T14:08:13.490Z"
   },
   {
    "duration": 17,
    "start_time": "2024-06-10T14:08:13.505Z"
   },
   {
    "duration": 6,
    "start_time": "2024-06-10T14:08:13.524Z"
   },
   {
    "duration": 843,
    "start_time": "2024-06-10T14:08:13.531Z"
   },
   {
    "duration": 8,
    "start_time": "2024-06-10T14:08:14.376Z"
   },
   {
    "duration": 13,
    "start_time": "2024-06-10T14:08:14.388Z"
   },
   {
    "duration": 11,
    "start_time": "2024-06-10T14:08:14.402Z"
   },
   {
    "duration": 27,
    "start_time": "2024-06-10T14:08:14.414Z"
   },
   {
    "duration": 696,
    "start_time": "2024-06-10T14:08:14.443Z"
   },
   {
    "duration": 21,
    "start_time": "2024-06-10T14:08:15.146Z"
   },
   {
    "duration": 46,
    "start_time": "2024-06-10T14:08:15.169Z"
   },
   {
    "duration": 28,
    "start_time": "2024-06-10T14:08:15.217Z"
   },
   {
    "duration": 1317,
    "start_time": "2024-06-10T14:08:15.247Z"
   },
   {
    "duration": 107,
    "start_time": "2024-06-10T14:08:16.566Z"
   },
   {
    "duration": 11,
    "start_time": "2024-06-10T14:08:16.675Z"
   },
   {
    "duration": 15,
    "start_time": "2024-06-10T14:08:16.688Z"
   },
   {
    "duration": 41,
    "start_time": "2024-06-10T14:08:16.705Z"
   },
   {
    "duration": 15,
    "start_time": "2024-06-10T14:08:16.748Z"
   },
   {
    "duration": 9,
    "start_time": "2024-06-10T14:08:16.765Z"
   },
   {
    "duration": 23,
    "start_time": "2024-06-10T14:08:16.776Z"
   },
   {
    "duration": 50,
    "start_time": "2024-06-10T14:08:16.800Z"
   },
   {
    "duration": 40,
    "start_time": "2024-06-10T14:08:16.852Z"
   },
   {
    "duration": 34,
    "start_time": "2024-06-10T14:08:16.894Z"
   },
   {
    "duration": 6,
    "start_time": "2024-06-10T14:08:16.930Z"
   },
   {
    "duration": 19,
    "start_time": "2024-06-10T14:08:16.937Z"
   },
   {
    "duration": 530,
    "start_time": "2024-06-10T14:08:16.958Z"
   },
   {
    "duration": 6,
    "start_time": "2024-06-10T14:08:17.490Z"
   },
   {
    "duration": 56,
    "start_time": "2024-06-10T14:08:17.498Z"
   },
   {
    "duration": 7,
    "start_time": "2024-06-10T14:08:17.556Z"
   },
   {
    "duration": 27,
    "start_time": "2024-06-10T14:08:17.564Z"
   },
   {
    "duration": 3,
    "start_time": "2024-06-10T14:08:17.593Z"
   },
   {
    "duration": 158,
    "start_time": "2024-06-10T14:08:17.598Z"
   },
   {
    "duration": 39,
    "start_time": "2024-06-10T14:09:02.020Z"
   },
   {
    "duration": 35,
    "start_time": "2024-06-10T14:09:45.490Z"
   },
   {
    "duration": 3,
    "start_time": "2024-06-10T14:09:59.671Z"
   },
   {
    "duration": 50,
    "start_time": "2024-06-10T14:10:02.744Z"
   },
   {
    "duration": 37,
    "start_time": "2024-06-10T14:10:20.766Z"
   },
   {
    "duration": 15,
    "start_time": "2024-06-10T14:15:54.490Z"
   },
   {
    "duration": 34,
    "start_time": "2024-06-10T14:16:17.471Z"
   },
   {
    "duration": 34,
    "start_time": "2024-06-10T14:17:34.396Z"
   },
   {
    "duration": 49,
    "start_time": "2024-06-10T14:17:52.574Z"
   },
   {
    "duration": 807,
    "start_time": "2024-06-10T14:57:38.671Z"
   },
   {
    "duration": 320,
    "start_time": "2024-06-10T14:57:39.480Z"
   },
   {
    "duration": 5,
    "start_time": "2024-06-10T14:57:39.801Z"
   },
   {
    "duration": 65,
    "start_time": "2024-06-10T14:57:39.809Z"
   },
   {
    "duration": 219,
    "start_time": "2024-06-10T14:57:39.876Z"
   },
   {
    "duration": 5,
    "start_time": "2024-06-10T14:57:40.097Z"
   },
   {
    "duration": 56,
    "start_time": "2024-06-10T14:57:40.103Z"
   },
   {
    "duration": 45,
    "start_time": "2024-06-10T14:57:40.160Z"
   },
   {
    "duration": 54,
    "start_time": "2024-06-10T14:57:40.207Z"
   },
   {
    "duration": 36,
    "start_time": "2024-06-10T14:57:40.263Z"
   },
   {
    "duration": 15,
    "start_time": "2024-06-10T14:57:40.301Z"
   },
   {
    "duration": 19,
    "start_time": "2024-06-10T14:57:40.317Z"
   },
   {
    "duration": 401,
    "start_time": "2024-06-10T14:57:40.338Z"
   },
   {
    "duration": 9,
    "start_time": "2024-06-10T14:57:40.741Z"
   },
   {
    "duration": 25,
    "start_time": "2024-06-10T14:57:40.752Z"
   },
   {
    "duration": 40,
    "start_time": "2024-06-10T14:57:40.779Z"
   },
   {
    "duration": 31,
    "start_time": "2024-06-10T14:57:40.821Z"
   },
   {
    "duration": 415,
    "start_time": "2024-06-10T14:57:40.854Z"
   },
   {
    "duration": 13,
    "start_time": "2024-06-10T14:57:41.271Z"
   },
   {
    "duration": 77,
    "start_time": "2024-06-10T14:57:41.286Z"
   },
   {
    "duration": 103,
    "start_time": "2024-06-10T14:57:41.364Z"
   },
   {
    "duration": 1941,
    "start_time": "2024-06-10T14:57:41.469Z"
   },
   {
    "duration": 15,
    "start_time": "2024-06-10T14:57:43.411Z"
   },
   {
    "duration": 18,
    "start_time": "2024-06-10T14:57:43.428Z"
   },
   {
    "duration": 16,
    "start_time": "2024-06-10T14:57:43.448Z"
   },
   {
    "duration": 1296,
    "start_time": "2024-06-10T14:57:43.466Z"
   },
   {
    "duration": 8,
    "start_time": "2024-06-10T14:57:44.763Z"
   },
   {
    "duration": 17,
    "start_time": "2024-06-10T14:57:44.775Z"
   },
   {
    "duration": 52,
    "start_time": "2024-06-10T14:57:44.794Z"
   },
   {
    "duration": 20,
    "start_time": "2024-06-10T14:57:44.847Z"
   },
   {
    "duration": 989,
    "start_time": "2024-06-10T14:57:44.868Z"
   },
   {
    "duration": 21,
    "start_time": "2024-06-10T14:57:45.859Z"
   },
   {
    "duration": 19,
    "start_time": "2024-06-10T14:57:45.882Z"
   },
   {
    "duration": 15,
    "start_time": "2024-06-10T14:57:45.903Z"
   },
   {
    "duration": 1322,
    "start_time": "2024-06-10T14:57:45.920Z"
   },
   {
    "duration": 93,
    "start_time": "2024-06-10T14:57:47.244Z"
   },
   {
    "duration": 12,
    "start_time": "2024-06-10T14:57:47.349Z"
   },
   {
    "duration": 26,
    "start_time": "2024-06-10T14:57:47.363Z"
   },
   {
    "duration": 37,
    "start_time": "2024-06-10T14:57:47.391Z"
   },
   {
    "duration": 14,
    "start_time": "2024-06-10T14:57:47.430Z"
   },
   {
    "duration": 16,
    "start_time": "2024-06-10T14:57:47.446Z"
   },
   {
    "duration": 77,
    "start_time": "2024-06-10T14:57:47.464Z"
   },
   {
    "duration": 12,
    "start_time": "2024-06-10T14:57:47.543Z"
   },
   {
    "duration": 17,
    "start_time": "2024-06-10T14:57:47.557Z"
   },
   {
    "duration": 12,
    "start_time": "2024-06-10T14:57:47.576Z"
   },
   {
    "duration": 6,
    "start_time": "2024-06-10T14:57:47.590Z"
   },
   {
    "duration": 12,
    "start_time": "2024-06-10T14:57:47.598Z"
   },
   {
    "duration": 566,
    "start_time": "2024-06-10T14:57:47.611Z"
   },
   {
    "duration": 7,
    "start_time": "2024-06-10T14:57:48.179Z"
   },
   {
    "duration": 92,
    "start_time": "2024-06-10T14:57:48.188Z"
   },
   {
    "duration": 15,
    "start_time": "2024-06-10T14:57:48.282Z"
   },
   {
    "duration": 48,
    "start_time": "2024-06-10T14:57:48.299Z"
   },
   {
    "duration": 4,
    "start_time": "2024-06-10T14:57:48.348Z"
   },
   {
    "duration": 216,
    "start_time": "2024-06-10T14:57:48.354Z"
   },
   {
    "duration": 0,
    "start_time": "2024-06-10T14:57:48.572Z"
   },
   {
    "duration": 0,
    "start_time": "2024-06-10T14:57:48.573Z"
   },
   {
    "duration": 34,
    "start_time": "2024-06-10T14:58:12.326Z"
   },
   {
    "duration": 62,
    "start_time": "2024-06-10T14:59:08.115Z"
   },
   {
    "duration": 32,
    "start_time": "2024-06-10T14:59:37.784Z"
   },
   {
    "duration": 62,
    "start_time": "2024-06-10T14:59:57.884Z"
   },
   {
    "duration": 27,
    "start_time": "2024-06-10T15:01:45.366Z"
   },
   {
    "duration": 36,
    "start_time": "2024-06-10T15:02:16.893Z"
   },
   {
    "duration": 42,
    "start_time": "2024-06-10T15:02:25.831Z"
   },
   {
    "duration": 68,
    "start_time": "2024-06-10T15:15:19.895Z"
   },
   {
    "duration": 33,
    "start_time": "2024-06-10T15:15:41.848Z"
   },
   {
    "duration": 34,
    "start_time": "2024-06-10T15:17:22.378Z"
   },
   {
    "duration": 25,
    "start_time": "2024-06-10T15:17:44.891Z"
   },
   {
    "duration": 790,
    "start_time": "2024-06-10T15:18:14.261Z"
   },
   {
    "duration": 470,
    "start_time": "2024-06-10T15:18:15.053Z"
   },
   {
    "duration": 4,
    "start_time": "2024-06-10T15:18:15.525Z"
   },
   {
    "duration": 76,
    "start_time": "2024-06-10T15:18:15.531Z"
   },
   {
    "duration": 270,
    "start_time": "2024-06-10T15:18:15.609Z"
   },
   {
    "duration": 6,
    "start_time": "2024-06-10T15:18:15.881Z"
   },
   {
    "duration": 29,
    "start_time": "2024-06-10T15:18:15.889Z"
   },
   {
    "duration": 63,
    "start_time": "2024-06-10T15:18:15.921Z"
   },
   {
    "duration": 29,
    "start_time": "2024-06-10T15:18:15.986Z"
   },
   {
    "duration": 56,
    "start_time": "2024-06-10T15:18:16.019Z"
   },
   {
    "duration": 17,
    "start_time": "2024-06-10T15:18:16.077Z"
   },
   {
    "duration": 5,
    "start_time": "2024-06-10T15:18:16.096Z"
   },
   {
    "duration": 426,
    "start_time": "2024-06-10T15:18:16.103Z"
   },
   {
    "duration": 15,
    "start_time": "2024-06-10T15:18:16.531Z"
   },
   {
    "duration": 24,
    "start_time": "2024-06-10T15:18:16.548Z"
   },
   {
    "duration": 24,
    "start_time": "2024-06-10T15:18:16.574Z"
   },
   {
    "duration": 26,
    "start_time": "2024-06-10T15:18:16.600Z"
   },
   {
    "duration": 460,
    "start_time": "2024-06-10T15:18:16.629Z"
   },
   {
    "duration": 12,
    "start_time": "2024-06-10T15:18:17.091Z"
   },
   {
    "duration": 62,
    "start_time": "2024-06-10T15:18:17.105Z"
   },
   {
    "duration": 133,
    "start_time": "2024-06-10T15:18:17.169Z"
   },
   {
    "duration": 2030,
    "start_time": "2024-06-10T15:18:17.305Z"
   },
   {
    "duration": 17,
    "start_time": "2024-06-10T15:18:19.336Z"
   },
   {
    "duration": 49,
    "start_time": "2024-06-10T15:18:19.356Z"
   },
   {
    "duration": 29,
    "start_time": "2024-06-10T15:18:19.407Z"
   },
   {
    "duration": 816,
    "start_time": "2024-06-10T15:18:19.438Z"
   },
   {
    "duration": 10,
    "start_time": "2024-06-10T15:18:20.256Z"
   },
   {
    "duration": 48,
    "start_time": "2024-06-10T15:18:20.271Z"
   },
   {
    "duration": 31,
    "start_time": "2024-06-10T15:18:20.321Z"
   },
   {
    "duration": 46,
    "start_time": "2024-06-10T15:18:20.354Z"
   },
   {
    "duration": 690,
    "start_time": "2024-06-10T15:18:20.402Z"
   },
   {
    "duration": 20,
    "start_time": "2024-06-10T15:18:21.094Z"
   },
   {
    "duration": 26,
    "start_time": "2024-06-10T15:18:21.116Z"
   },
   {
    "duration": 12,
    "start_time": "2024-06-10T15:18:21.143Z"
   },
   {
    "duration": 1336,
    "start_time": "2024-06-10T15:18:21.157Z"
   },
   {
    "duration": 133,
    "start_time": "2024-06-10T15:18:22.495Z"
   },
   {
    "duration": 16,
    "start_time": "2024-06-10T15:18:22.630Z"
   },
   {
    "duration": 9,
    "start_time": "2024-06-10T15:18:22.648Z"
   },
   {
    "duration": 35,
    "start_time": "2024-06-10T15:18:22.659Z"
   },
   {
    "duration": 19,
    "start_time": "2024-06-10T15:18:22.695Z"
   },
   {
    "duration": 36,
    "start_time": "2024-06-10T15:18:22.716Z"
   },
   {
    "duration": 26,
    "start_time": "2024-06-10T15:18:22.754Z"
   },
   {
    "duration": 6,
    "start_time": "2024-06-10T15:18:22.782Z"
   },
   {
    "duration": 8,
    "start_time": "2024-06-10T15:18:22.790Z"
   },
   {
    "duration": 12,
    "start_time": "2024-06-10T15:18:22.799Z"
   },
   {
    "duration": 5,
    "start_time": "2024-06-10T15:18:22.813Z"
   },
   {
    "duration": 20,
    "start_time": "2024-06-10T15:18:22.820Z"
   },
   {
    "duration": 627,
    "start_time": "2024-06-10T15:18:22.846Z"
   },
   {
    "duration": 9,
    "start_time": "2024-06-10T15:18:23.477Z"
   },
   {
    "duration": 28,
    "start_time": "2024-06-10T15:18:23.488Z"
   },
   {
    "duration": 29,
    "start_time": "2024-06-10T15:18:23.517Z"
   },
   {
    "duration": 5,
    "start_time": "2024-06-10T15:18:23.547Z"
   },
   {
    "duration": 33,
    "start_time": "2024-06-10T15:18:23.553Z"
   },
   {
    "duration": 40,
    "start_time": "2024-06-10T15:18:38.492Z"
   },
   {
    "duration": 9,
    "start_time": "2024-06-10T15:19:37.962Z"
   },
   {
    "duration": 14,
    "start_time": "2024-06-10T15:19:48.007Z"
   },
   {
    "duration": 816,
    "start_time": "2024-06-10T15:20:01.883Z"
   },
   {
    "duration": 329,
    "start_time": "2024-06-10T15:20:02.702Z"
   },
   {
    "duration": 6,
    "start_time": "2024-06-10T15:20:03.033Z"
   },
   {
    "duration": 63,
    "start_time": "2024-06-10T15:20:03.041Z"
   },
   {
    "duration": 244,
    "start_time": "2024-06-10T15:20:03.107Z"
   },
   {
    "duration": 6,
    "start_time": "2024-06-10T15:20:03.353Z"
   },
   {
    "duration": 8,
    "start_time": "2024-06-10T15:20:03.361Z"
   },
   {
    "duration": 49,
    "start_time": "2024-06-10T15:20:03.370Z"
   },
   {
    "duration": 31,
    "start_time": "2024-06-10T15:20:03.420Z"
   },
   {
    "duration": 22,
    "start_time": "2024-06-10T15:20:03.454Z"
   },
   {
    "duration": 18,
    "start_time": "2024-06-10T15:20:03.478Z"
   },
   {
    "duration": 5,
    "start_time": "2024-06-10T15:20:03.498Z"
   },
   {
    "duration": 442,
    "start_time": "2024-06-10T15:20:03.505Z"
   },
   {
    "duration": 7,
    "start_time": "2024-06-10T15:20:03.949Z"
   },
   {
    "duration": 30,
    "start_time": "2024-06-10T15:20:03.958Z"
   },
   {
    "duration": 10,
    "start_time": "2024-06-10T15:20:03.990Z"
   },
   {
    "duration": 11,
    "start_time": "2024-06-10T15:20:04.001Z"
   },
   {
    "duration": 404,
    "start_time": "2024-06-10T15:20:04.013Z"
   },
   {
    "duration": 14,
    "start_time": "2024-06-10T15:20:04.418Z"
   },
   {
    "duration": 40,
    "start_time": "2024-06-10T15:20:04.447Z"
   },
   {
    "duration": 104,
    "start_time": "2024-06-10T15:20:04.489Z"
   },
   {
    "duration": 1975,
    "start_time": "2024-06-10T15:20:04.595Z"
   },
   {
    "duration": 16,
    "start_time": "2024-06-10T15:20:06.572Z"
   },
   {
    "duration": 19,
    "start_time": "2024-06-10T15:20:06.590Z"
   },
   {
    "duration": 16,
    "start_time": "2024-06-10T15:20:06.611Z"
   },
   {
    "duration": 840,
    "start_time": "2024-06-10T15:20:06.629Z"
   },
   {
    "duration": 9,
    "start_time": "2024-06-10T15:20:07.470Z"
   },
   {
    "duration": 21,
    "start_time": "2024-06-10T15:20:07.482Z"
   },
   {
    "duration": 6,
    "start_time": "2024-06-10T15:20:07.505Z"
   },
   {
    "duration": 8,
    "start_time": "2024-06-10T15:20:07.513Z"
   },
   {
    "duration": 643,
    "start_time": "2024-06-10T15:20:07.523Z"
   },
   {
    "duration": 20,
    "start_time": "2024-06-10T15:20:08.168Z"
   },
   {
    "duration": 46,
    "start_time": "2024-06-10T15:20:08.190Z"
   },
   {
    "duration": 98,
    "start_time": "2024-06-10T15:20:08.238Z"
   },
   {
    "duration": 1255,
    "start_time": "2024-06-10T15:20:08.338Z"
   },
   {
    "duration": 94,
    "start_time": "2024-06-10T15:20:09.594Z"
   },
   {
    "duration": 8,
    "start_time": "2024-06-10T15:20:09.690Z"
   },
   {
    "duration": 9,
    "start_time": "2024-06-10T15:20:09.699Z"
   },
   {
    "duration": 42,
    "start_time": "2024-06-10T15:20:09.710Z"
   },
   {
    "duration": 14,
    "start_time": "2024-06-10T15:20:09.754Z"
   },
   {
    "duration": 28,
    "start_time": "2024-06-10T15:20:09.770Z"
   },
   {
    "duration": 31,
    "start_time": "2024-06-10T15:20:09.799Z"
   },
   {
    "duration": 22,
    "start_time": "2024-06-10T15:20:09.832Z"
   },
   {
    "duration": 22,
    "start_time": "2024-06-10T15:20:09.856Z"
   },
   {
    "duration": 11,
    "start_time": "2024-06-10T15:20:09.880Z"
   },
   {
    "duration": 20,
    "start_time": "2024-06-10T15:20:09.893Z"
   },
   {
    "duration": 64,
    "start_time": "2024-06-10T15:20:09.915Z"
   },
   {
    "duration": 614,
    "start_time": "2024-06-10T15:20:09.981Z"
   },
   {
    "duration": 7,
    "start_time": "2024-06-10T15:20:10.596Z"
   },
   {
    "duration": 42,
    "start_time": "2024-06-10T15:20:10.605Z"
   },
   {
    "duration": 8,
    "start_time": "2024-06-10T15:20:10.649Z"
   },
   {
    "duration": 9,
    "start_time": "2024-06-10T15:20:10.658Z"
   },
   {
    "duration": 50,
    "start_time": "2024-06-10T15:20:10.669Z"
   },
   {
    "duration": 46,
    "start_time": "2024-06-10T15:20:50.991Z"
   },
   {
    "duration": 85,
    "start_time": "2024-06-10T15:21:17.825Z"
   },
   {
    "duration": 75,
    "start_time": "2024-06-10T15:21:45.283Z"
   },
   {
    "duration": 38,
    "start_time": "2024-06-10T15:22:06.901Z"
   },
   {
    "duration": 15,
    "start_time": "2024-06-10T15:23:29.434Z"
   },
   {
    "duration": 25,
    "start_time": "2024-06-10T15:23:51.761Z"
   },
   {
    "duration": 21,
    "start_time": "2024-06-10T15:24:16.061Z"
   },
   {
    "duration": 37,
    "start_time": "2024-06-10T15:25:35.667Z"
   },
   {
    "duration": 27,
    "start_time": "2024-06-10T15:29:22.663Z"
   },
   {
    "duration": 755,
    "start_time": "2024-06-10T15:29:30.103Z"
   },
   {
    "duration": 324,
    "start_time": "2024-06-10T15:29:30.860Z"
   },
   {
    "duration": 4,
    "start_time": "2024-06-10T15:29:31.186Z"
   },
   {
    "duration": 98,
    "start_time": "2024-06-10T15:29:31.193Z"
   },
   {
    "duration": 228,
    "start_time": "2024-06-10T15:29:31.293Z"
   },
   {
    "duration": 5,
    "start_time": "2024-06-10T15:29:31.522Z"
   },
   {
    "duration": 33,
    "start_time": "2024-06-10T15:29:31.546Z"
   },
   {
    "duration": 99,
    "start_time": "2024-06-10T15:29:31.580Z"
   },
   {
    "duration": 33,
    "start_time": "2024-06-10T15:29:31.681Z"
   },
   {
    "duration": 80,
    "start_time": "2024-06-10T15:29:31.717Z"
   },
   {
    "duration": 17,
    "start_time": "2024-06-10T15:29:31.799Z"
   },
   {
    "duration": 24,
    "start_time": "2024-06-10T15:29:31.817Z"
   },
   {
    "duration": 410,
    "start_time": "2024-06-10T15:29:31.843Z"
   },
   {
    "duration": 9,
    "start_time": "2024-06-10T15:29:32.255Z"
   },
   {
    "duration": 79,
    "start_time": "2024-06-10T15:29:32.265Z"
   },
   {
    "duration": 18,
    "start_time": "2024-06-10T15:29:32.346Z"
   },
   {
    "duration": 11,
    "start_time": "2024-06-10T15:29:32.365Z"
   },
   {
    "duration": 461,
    "start_time": "2024-06-10T15:29:32.377Z"
   },
   {
    "duration": 12,
    "start_time": "2024-06-10T15:29:32.839Z"
   },
   {
    "duration": 98,
    "start_time": "2024-06-10T15:29:32.853Z"
   },
   {
    "duration": 101,
    "start_time": "2024-06-10T15:29:32.953Z"
   },
   {
    "duration": 1913,
    "start_time": "2024-06-10T15:29:33.055Z"
   },
   {
    "duration": 13,
    "start_time": "2024-06-10T15:29:34.970Z"
   },
   {
    "duration": 19,
    "start_time": "2024-06-10T15:29:34.985Z"
   },
   {
    "duration": 5,
    "start_time": "2024-06-10T15:29:35.006Z"
   },
   {
    "duration": 789,
    "start_time": "2024-06-10T15:29:35.012Z"
   },
   {
    "duration": 9,
    "start_time": "2024-06-10T15:29:35.803Z"
   },
   {
    "duration": 13,
    "start_time": "2024-06-10T15:29:35.816Z"
   },
   {
    "duration": 17,
    "start_time": "2024-06-10T15:29:35.831Z"
   },
   {
    "duration": 24,
    "start_time": "2024-06-10T15:29:35.851Z"
   },
   {
    "duration": 672,
    "start_time": "2024-06-10T15:29:35.876Z"
   },
   {
    "duration": 21,
    "start_time": "2024-06-10T15:29:36.549Z"
   },
   {
    "duration": 10,
    "start_time": "2024-06-10T15:29:36.571Z"
   },
   {
    "duration": 11,
    "start_time": "2024-06-10T15:29:36.583Z"
   },
   {
    "duration": 1227,
    "start_time": "2024-06-10T15:29:36.596Z"
   },
   {
    "duration": 92,
    "start_time": "2024-06-10T15:29:37.825Z"
   },
   {
    "duration": 8,
    "start_time": "2024-06-10T15:29:37.919Z"
   },
   {
    "duration": 24,
    "start_time": "2024-06-10T15:29:37.928Z"
   },
   {
    "duration": 25,
    "start_time": "2024-06-10T15:29:37.954Z"
   },
   {
    "duration": 15,
    "start_time": "2024-06-10T15:29:37.981Z"
   },
   {
    "duration": 6,
    "start_time": "2024-06-10T15:29:37.998Z"
   },
   {
    "duration": 26,
    "start_time": "2024-06-10T15:29:38.005Z"
   },
   {
    "duration": 17,
    "start_time": "2024-06-10T15:29:38.033Z"
   },
   {
    "duration": 28,
    "start_time": "2024-06-10T15:29:38.051Z"
   },
   {
    "duration": 7,
    "start_time": "2024-06-10T15:29:38.080Z"
   },
   {
    "duration": 20,
    "start_time": "2024-06-10T15:29:38.088Z"
   },
   {
    "duration": 13,
    "start_time": "2024-06-10T15:29:38.109Z"
   },
   {
    "duration": 568,
    "start_time": "2024-06-10T15:29:38.124Z"
   },
   {
    "duration": 7,
    "start_time": "2024-06-10T15:29:38.693Z"
   },
   {
    "duration": 44,
    "start_time": "2024-06-10T15:29:38.702Z"
   },
   {
    "duration": 7,
    "start_time": "2024-06-10T15:29:38.748Z"
   },
   {
    "duration": 4,
    "start_time": "2024-06-10T15:29:38.757Z"
   },
   {
    "duration": 155,
    "start_time": "2024-06-10T15:29:38.763Z"
   },
   {
    "duration": 0,
    "start_time": "2024-06-10T15:29:38.920Z"
   },
   {
    "duration": 776,
    "start_time": "2024-06-10T15:29:55.601Z"
   },
   {
    "duration": 306,
    "start_time": "2024-06-10T15:29:56.379Z"
   },
   {
    "duration": 5,
    "start_time": "2024-06-10T15:29:56.687Z"
   },
   {
    "duration": 79,
    "start_time": "2024-06-10T15:29:56.695Z"
   },
   {
    "duration": 246,
    "start_time": "2024-06-10T15:29:56.775Z"
   },
   {
    "duration": 6,
    "start_time": "2024-06-10T15:29:57.022Z"
   },
   {
    "duration": 20,
    "start_time": "2024-06-10T15:29:57.029Z"
   },
   {
    "duration": 40,
    "start_time": "2024-06-10T15:29:57.051Z"
   },
   {
    "duration": 18,
    "start_time": "2024-06-10T15:29:57.093Z"
   },
   {
    "duration": 40,
    "start_time": "2024-06-10T15:29:57.115Z"
   },
   {
    "duration": 16,
    "start_time": "2024-06-10T15:29:57.157Z"
   },
   {
    "duration": 8,
    "start_time": "2024-06-10T15:29:57.175Z"
   },
   {
    "duration": 399,
    "start_time": "2024-06-10T15:29:57.184Z"
   },
   {
    "duration": 7,
    "start_time": "2024-06-10T15:29:57.584Z"
   },
   {
    "duration": 19,
    "start_time": "2024-06-10T15:29:57.593Z"
   },
   {
    "duration": 15,
    "start_time": "2024-06-10T15:29:57.613Z"
   },
   {
    "duration": 22,
    "start_time": "2024-06-10T15:29:57.629Z"
   },
   {
    "duration": 407,
    "start_time": "2024-06-10T15:29:57.653Z"
   },
   {
    "duration": 10,
    "start_time": "2024-06-10T15:29:58.062Z"
   },
   {
    "duration": 78,
    "start_time": "2024-06-10T15:29:58.074Z"
   },
   {
    "duration": 95,
    "start_time": "2024-06-10T15:29:58.153Z"
   },
   {
    "duration": 1951,
    "start_time": "2024-06-10T15:29:58.250Z"
   },
   {
    "duration": 18,
    "start_time": "2024-06-10T15:30:00.204Z"
   },
   {
    "duration": 185,
    "start_time": "2024-06-10T15:30:00.224Z"
   },
   {
    "duration": 48,
    "start_time": "2024-06-10T15:30:00.410Z"
   },
   {
    "duration": 857,
    "start_time": "2024-06-10T15:30:00.460Z"
   },
   {
    "duration": 9,
    "start_time": "2024-06-10T15:30:01.319Z"
   },
   {
    "duration": 174,
    "start_time": "2024-06-10T15:30:01.333Z"
   },
   {
    "duration": 51,
    "start_time": "2024-06-10T15:30:01.508Z"
   },
   {
    "duration": 64,
    "start_time": "2024-06-10T15:30:01.561Z"
   },
   {
    "duration": 744,
    "start_time": "2024-06-10T15:30:01.626Z"
   },
   {
    "duration": 21,
    "start_time": "2024-06-10T15:30:02.372Z"
   },
   {
    "duration": 34,
    "start_time": "2024-06-10T15:30:02.395Z"
   },
   {
    "duration": 21,
    "start_time": "2024-06-10T15:30:02.430Z"
   },
   {
    "duration": 1290,
    "start_time": "2024-06-10T15:30:02.453Z"
   },
   {
    "duration": 101,
    "start_time": "2024-06-10T15:30:03.745Z"
   },
   {
    "duration": 8,
    "start_time": "2024-06-10T15:30:03.848Z"
   },
   {
    "duration": 14,
    "start_time": "2024-06-10T15:30:03.857Z"
   },
   {
    "duration": 26,
    "start_time": "2024-06-10T15:30:03.873Z"
   },
   {
    "duration": 14,
    "start_time": "2024-06-10T15:30:03.901Z"
   },
   {
    "duration": 29,
    "start_time": "2024-06-10T15:30:03.917Z"
   },
   {
    "duration": 18,
    "start_time": "2024-06-10T15:30:03.948Z"
   },
   {
    "duration": 6,
    "start_time": "2024-06-10T15:30:03.968Z"
   },
   {
    "duration": 11,
    "start_time": "2024-06-10T15:30:03.975Z"
   },
   {
    "duration": 7,
    "start_time": "2024-06-10T15:30:03.988Z"
   },
   {
    "duration": 7,
    "start_time": "2024-06-10T15:30:03.996Z"
   },
   {
    "duration": 12,
    "start_time": "2024-06-10T15:30:04.004Z"
   },
   {
    "duration": 564,
    "start_time": "2024-06-10T15:30:04.018Z"
   },
   {
    "duration": 7,
    "start_time": "2024-06-10T15:30:04.584Z"
   },
   {
    "duration": 36,
    "start_time": "2024-06-10T15:30:04.592Z"
   },
   {
    "duration": 20,
    "start_time": "2024-06-10T15:30:04.629Z"
   },
   {
    "duration": 5,
    "start_time": "2024-06-10T15:30:04.651Z"
   },
   {
    "duration": 55,
    "start_time": "2024-06-10T15:30:04.658Z"
   },
   {
    "duration": 837,
    "start_time": "2024-06-10T15:31:07.317Z"
   },
   {
    "duration": 286,
    "start_time": "2024-06-10T15:31:08.156Z"
   },
   {
    "duration": 4,
    "start_time": "2024-06-10T15:31:08.444Z"
   },
   {
    "duration": 53,
    "start_time": "2024-06-10T15:31:08.450Z"
   },
   {
    "duration": 249,
    "start_time": "2024-06-10T15:31:08.505Z"
   },
   {
    "duration": 6,
    "start_time": "2024-06-10T15:31:08.756Z"
   },
   {
    "duration": 5,
    "start_time": "2024-06-10T15:31:08.764Z"
   },
   {
    "duration": 75,
    "start_time": "2024-06-10T15:31:08.771Z"
   },
   {
    "duration": 14,
    "start_time": "2024-06-10T15:31:08.848Z"
   },
   {
    "duration": 22,
    "start_time": "2024-06-10T15:31:08.864Z"
   },
   {
    "duration": 14,
    "start_time": "2024-06-10T15:31:08.888Z"
   },
   {
    "duration": 5,
    "start_time": "2024-06-10T15:31:08.904Z"
   },
   {
    "duration": 406,
    "start_time": "2024-06-10T15:31:08.911Z"
   },
   {
    "duration": 8,
    "start_time": "2024-06-10T15:31:09.319Z"
   },
   {
    "duration": 63,
    "start_time": "2024-06-10T15:31:09.329Z"
   },
   {
    "duration": 12,
    "start_time": "2024-06-10T15:31:09.394Z"
   },
   {
    "duration": 17,
    "start_time": "2024-06-10T15:31:09.407Z"
   },
   {
    "duration": 534,
    "start_time": "2024-06-10T15:31:09.425Z"
   },
   {
    "duration": 11,
    "start_time": "2024-06-10T15:31:09.961Z"
   },
   {
    "duration": 84,
    "start_time": "2024-06-10T15:31:09.974Z"
   },
   {
    "duration": 102,
    "start_time": "2024-06-10T15:31:10.060Z"
   },
   {
    "duration": 1920,
    "start_time": "2024-06-10T15:31:10.164Z"
   },
   {
    "duration": 14,
    "start_time": "2024-06-10T15:31:12.085Z"
   },
   {
    "duration": 22,
    "start_time": "2024-06-10T15:31:12.101Z"
   },
   {
    "duration": 6,
    "start_time": "2024-06-10T15:31:12.124Z"
   },
   {
    "duration": 823,
    "start_time": "2024-06-10T15:31:12.131Z"
   },
   {
    "duration": 8,
    "start_time": "2024-06-10T15:31:12.956Z"
   },
   {
    "duration": 6,
    "start_time": "2024-06-10T15:31:12.968Z"
   },
   {
    "duration": 7,
    "start_time": "2024-06-10T15:31:12.976Z"
   },
   {
    "duration": 17,
    "start_time": "2024-06-10T15:31:12.984Z"
   },
   {
    "duration": 632,
    "start_time": "2024-06-10T15:31:13.003Z"
   },
   {
    "duration": 26,
    "start_time": "2024-06-10T15:31:13.637Z"
   },
   {
    "duration": 7,
    "start_time": "2024-06-10T15:31:13.664Z"
   },
   {
    "duration": 29,
    "start_time": "2024-06-10T15:31:13.672Z"
   },
   {
    "duration": 1239,
    "start_time": "2024-06-10T15:31:13.703Z"
   },
   {
    "duration": 90,
    "start_time": "2024-06-10T15:31:14.945Z"
   },
   {
    "duration": 9,
    "start_time": "2024-06-10T15:31:15.045Z"
   },
   {
    "duration": 38,
    "start_time": "2024-06-10T15:31:15.055Z"
   },
   {
    "duration": 45,
    "start_time": "2024-06-10T15:31:15.095Z"
   },
   {
    "duration": 23,
    "start_time": "2024-06-10T15:31:15.142Z"
   },
   {
    "duration": 47,
    "start_time": "2024-06-10T15:31:15.167Z"
   },
   {
    "duration": 32,
    "start_time": "2024-06-10T15:31:15.215Z"
   },
   {
    "duration": 35,
    "start_time": "2024-06-10T15:31:15.249Z"
   },
   {
    "duration": 29,
    "start_time": "2024-06-10T15:31:15.286Z"
   },
   {
    "duration": 12,
    "start_time": "2024-06-10T15:31:15.317Z"
   },
   {
    "duration": 11,
    "start_time": "2024-06-10T15:31:15.331Z"
   },
   {
    "duration": 13,
    "start_time": "2024-06-10T15:31:15.344Z"
   },
   {
    "duration": 600,
    "start_time": "2024-06-10T15:31:15.359Z"
   },
   {
    "duration": 7,
    "start_time": "2024-06-10T15:31:15.961Z"
   },
   {
    "duration": 31,
    "start_time": "2024-06-10T15:31:15.970Z"
   },
   {
    "duration": 7,
    "start_time": "2024-06-10T15:31:16.003Z"
   },
   {
    "duration": 4,
    "start_time": "2024-06-10T15:31:16.012Z"
   },
   {
    "duration": 13,
    "start_time": "2024-06-10T15:31:16.046Z"
   },
   {
    "duration": 38,
    "start_time": "2024-06-10T15:31:16.060Z"
   },
   {
    "duration": 800,
    "start_time": "2024-06-10T15:31:37.751Z"
   },
   {
    "duration": 291,
    "start_time": "2024-06-10T15:31:38.554Z"
   },
   {
    "duration": 5,
    "start_time": "2024-06-10T15:31:38.846Z"
   },
   {
    "duration": 70,
    "start_time": "2024-06-10T15:31:38.852Z"
   },
   {
    "duration": 223,
    "start_time": "2024-06-10T15:31:38.924Z"
   },
   {
    "duration": 5,
    "start_time": "2024-06-10T15:31:39.149Z"
   },
   {
    "duration": 17,
    "start_time": "2024-06-10T15:31:39.156Z"
   },
   {
    "duration": 42,
    "start_time": "2024-06-10T15:31:39.174Z"
   },
   {
    "duration": 13,
    "start_time": "2024-06-10T15:31:39.217Z"
   },
   {
    "duration": 33,
    "start_time": "2024-06-10T15:31:39.232Z"
   },
   {
    "duration": 14,
    "start_time": "2024-06-10T15:31:39.267Z"
   },
   {
    "duration": 6,
    "start_time": "2024-06-10T15:31:39.283Z"
   },
   {
    "duration": 393,
    "start_time": "2024-06-10T15:31:39.291Z"
   },
   {
    "duration": 7,
    "start_time": "2024-06-10T15:31:39.686Z"
   },
   {
    "duration": 34,
    "start_time": "2024-06-10T15:31:39.695Z"
   },
   {
    "duration": 21,
    "start_time": "2024-06-10T15:31:39.730Z"
   },
   {
    "duration": 23,
    "start_time": "2024-06-10T15:31:39.752Z"
   },
   {
    "duration": 443,
    "start_time": "2024-06-10T15:31:39.777Z"
   },
   {
    "duration": 11,
    "start_time": "2024-06-10T15:31:40.222Z"
   },
   {
    "duration": 52,
    "start_time": "2024-06-10T15:31:40.235Z"
   },
   {
    "duration": 120,
    "start_time": "2024-06-10T15:31:40.290Z"
   },
   {
    "duration": 1956,
    "start_time": "2024-06-10T15:31:40.412Z"
   },
   {
    "duration": 14,
    "start_time": "2024-06-10T15:31:42.370Z"
   },
   {
    "duration": 17,
    "start_time": "2024-06-10T15:31:42.386Z"
   },
   {
    "duration": 26,
    "start_time": "2024-06-10T15:31:42.405Z"
   },
   {
    "duration": 820,
    "start_time": "2024-06-10T15:31:42.433Z"
   },
   {
    "duration": 9,
    "start_time": "2024-06-10T15:31:43.255Z"
   },
   {
    "duration": 18,
    "start_time": "2024-06-10T15:31:43.269Z"
   },
   {
    "duration": 9,
    "start_time": "2024-06-10T15:31:43.289Z"
   },
   {
    "duration": 12,
    "start_time": "2024-06-10T15:31:43.299Z"
   },
   {
    "duration": 633,
    "start_time": "2024-06-10T15:31:43.312Z"
   },
   {
    "duration": 21,
    "start_time": "2024-06-10T15:31:43.947Z"
   },
   {
    "duration": 6,
    "start_time": "2024-06-10T15:31:43.970Z"
   },
   {
    "duration": 31,
    "start_time": "2024-06-10T15:31:43.978Z"
   },
   {
    "duration": 1229,
    "start_time": "2024-06-10T15:31:44.011Z"
   },
   {
    "duration": 88,
    "start_time": "2024-06-10T15:31:45.242Z"
   },
   {
    "duration": 36,
    "start_time": "2024-06-10T15:31:45.332Z"
   },
   {
    "duration": 34,
    "start_time": "2024-06-10T15:31:45.370Z"
   },
   {
    "duration": 41,
    "start_time": "2024-06-10T15:31:45.406Z"
   },
   {
    "duration": 60,
    "start_time": "2024-06-10T15:31:45.449Z"
   },
   {
    "duration": 40,
    "start_time": "2024-06-10T15:31:45.511Z"
   },
   {
    "duration": 57,
    "start_time": "2024-06-10T15:31:45.552Z"
   },
   {
    "duration": 48,
    "start_time": "2024-06-10T15:31:45.611Z"
   },
   {
    "duration": 55,
    "start_time": "2024-06-10T15:31:45.660Z"
   },
   {
    "duration": 61,
    "start_time": "2024-06-10T15:31:45.716Z"
   },
   {
    "duration": 43,
    "start_time": "2024-06-10T15:31:45.779Z"
   },
   {
    "duration": 29,
    "start_time": "2024-06-10T15:31:45.824Z"
   },
   {
    "duration": 612,
    "start_time": "2024-06-10T15:31:45.855Z"
   },
   {
    "duration": 7,
    "start_time": "2024-06-10T15:31:46.469Z"
   },
   {
    "duration": 39,
    "start_time": "2024-06-10T15:31:46.478Z"
   },
   {
    "duration": 38,
    "start_time": "2024-06-10T15:31:46.518Z"
   },
   {
    "duration": 63,
    "start_time": "2024-06-10T15:31:46.558Z"
   },
   {
    "duration": 84,
    "start_time": "2024-06-10T15:31:46.623Z"
   },
   {
    "duration": 70,
    "start_time": "2024-06-10T15:31:46.709Z"
   },
   {
    "duration": 789,
    "start_time": "2024-06-10T15:37:34.938Z"
   },
   {
    "duration": 322,
    "start_time": "2024-06-10T15:37:35.729Z"
   },
   {
    "duration": 4,
    "start_time": "2024-06-10T15:37:36.053Z"
   },
   {
    "duration": 70,
    "start_time": "2024-06-10T15:37:36.060Z"
   },
   {
    "duration": 236,
    "start_time": "2024-06-10T15:37:36.132Z"
   },
   {
    "duration": 6,
    "start_time": "2024-06-10T15:37:36.370Z"
   },
   {
    "duration": 5,
    "start_time": "2024-06-10T15:37:36.377Z"
   },
   {
    "duration": 42,
    "start_time": "2024-06-10T15:37:36.383Z"
   },
   {
    "duration": 15,
    "start_time": "2024-06-10T15:37:36.446Z"
   },
   {
    "duration": 27,
    "start_time": "2024-06-10T15:37:36.465Z"
   },
   {
    "duration": 17,
    "start_time": "2024-06-10T15:37:36.494Z"
   },
   {
    "duration": 6,
    "start_time": "2024-06-10T15:37:36.512Z"
   },
   {
    "duration": 388,
    "start_time": "2024-06-10T15:37:36.546Z"
   },
   {
    "duration": 14,
    "start_time": "2024-06-10T15:37:36.935Z"
   },
   {
    "duration": 19,
    "start_time": "2024-06-10T15:37:36.951Z"
   },
   {
    "duration": 8,
    "start_time": "2024-06-10T15:37:36.972Z"
   },
   {
    "duration": 25,
    "start_time": "2024-06-10T15:37:36.982Z"
   },
   {
    "duration": 432,
    "start_time": "2024-06-10T15:37:37.009Z"
   },
   {
    "duration": 11,
    "start_time": "2024-06-10T15:37:37.443Z"
   },
   {
    "duration": 91,
    "start_time": "2024-06-10T15:37:37.455Z"
   },
   {
    "duration": 108,
    "start_time": "2024-06-10T15:37:37.548Z"
   },
   {
    "duration": 2025,
    "start_time": "2024-06-10T15:37:37.658Z"
   },
   {
    "duration": 14,
    "start_time": "2024-06-10T15:37:39.684Z"
   },
   {
    "duration": 28,
    "start_time": "2024-06-10T15:37:39.700Z"
   },
   {
    "duration": 8,
    "start_time": "2024-06-10T15:37:39.730Z"
   },
   {
    "duration": 883,
    "start_time": "2024-06-10T15:37:39.740Z"
   },
   {
    "duration": 8,
    "start_time": "2024-06-10T15:37:40.625Z"
   },
   {
    "duration": 74,
    "start_time": "2024-06-10T15:37:40.637Z"
   },
   {
    "duration": 33,
    "start_time": "2024-06-10T15:37:40.712Z"
   },
   {
    "duration": 51,
    "start_time": "2024-06-10T15:37:40.747Z"
   },
   {
    "duration": 651,
    "start_time": "2024-06-10T15:37:40.800Z"
   },
   {
    "duration": 20,
    "start_time": "2024-06-10T15:37:41.453Z"
   },
   {
    "duration": 22,
    "start_time": "2024-06-10T15:37:41.475Z"
   },
   {
    "duration": 41,
    "start_time": "2024-06-10T15:37:41.499Z"
   },
   {
    "duration": 1304,
    "start_time": "2024-06-10T15:37:41.542Z"
   },
   {
    "duration": 101,
    "start_time": "2024-06-10T15:37:42.848Z"
   },
   {
    "duration": 8,
    "start_time": "2024-06-10T15:37:42.951Z"
   },
   {
    "duration": 15,
    "start_time": "2024-06-10T15:37:42.960Z"
   },
   {
    "duration": 24,
    "start_time": "2024-06-10T15:37:42.977Z"
   },
   {
    "duration": 14,
    "start_time": "2024-06-10T15:37:43.003Z"
   },
   {
    "duration": 27,
    "start_time": "2024-06-10T15:37:43.019Z"
   },
   {
    "duration": 13,
    "start_time": "2024-06-10T15:37:43.048Z"
   },
   {
    "duration": 7,
    "start_time": "2024-06-10T15:37:43.062Z"
   },
   {
    "duration": 9,
    "start_time": "2024-06-10T15:37:43.071Z"
   },
   {
    "duration": 9,
    "start_time": "2024-06-10T15:37:43.081Z"
   },
   {
    "duration": 6,
    "start_time": "2024-06-10T15:37:43.092Z"
   },
   {
    "duration": 10,
    "start_time": "2024-06-10T15:37:43.100Z"
   },
   {
    "duration": 589,
    "start_time": "2024-06-10T15:37:43.111Z"
   },
   {
    "duration": 7,
    "start_time": "2024-06-10T15:37:43.701Z"
   },
   {
    "duration": 50,
    "start_time": "2024-06-10T15:37:43.710Z"
   },
   {
    "duration": 7,
    "start_time": "2024-06-10T15:37:43.762Z"
   },
   {
    "duration": 4,
    "start_time": "2024-06-10T15:37:43.771Z"
   },
   {
    "duration": 49,
    "start_time": "2024-06-10T15:37:43.777Z"
   },
   {
    "duration": 30,
    "start_time": "2024-06-10T15:38:03.058Z"
   },
   {
    "duration": 6,
    "start_time": "2024-06-10T15:42:53.937Z"
   },
   {
    "duration": 74,
    "start_time": "2024-06-10T15:42:57.595Z"
   },
   {
    "duration": 66,
    "start_time": "2024-06-10T15:43:10.323Z"
   },
   {
    "duration": 5,
    "start_time": "2024-06-10T15:43:18.399Z"
   },
   {
    "duration": 66,
    "start_time": "2024-06-10T15:43:21.240Z"
   },
   {
    "duration": 67,
    "start_time": "2024-06-10T15:43:51.906Z"
   },
   {
    "duration": 4,
    "start_time": "2024-06-10T15:43:53.471Z"
   },
   {
    "duration": 70,
    "start_time": "2024-06-10T15:43:54.515Z"
   },
   {
    "duration": 5,
    "start_time": "2024-06-10T15:44:21.081Z"
   },
   {
    "duration": 66,
    "start_time": "2024-06-10T15:44:22.934Z"
   },
   {
    "duration": 760,
    "start_time": "2024-06-10T15:45:07.490Z"
   },
   {
    "duration": 339,
    "start_time": "2024-06-10T15:45:08.252Z"
   },
   {
    "duration": 5,
    "start_time": "2024-06-10T15:45:08.592Z"
   },
   {
    "duration": 78,
    "start_time": "2024-06-10T15:45:08.599Z"
   },
   {
    "duration": 241,
    "start_time": "2024-06-10T15:45:08.679Z"
   },
   {
    "duration": 5,
    "start_time": "2024-06-10T15:45:08.922Z"
   },
   {
    "duration": 27,
    "start_time": "2024-06-10T15:45:08.928Z"
   },
   {
    "duration": 59,
    "start_time": "2024-06-10T15:45:08.957Z"
   },
   {
    "duration": 11,
    "start_time": "2024-06-10T15:45:09.018Z"
   },
   {
    "duration": 37,
    "start_time": "2024-06-10T15:45:09.032Z"
   },
   {
    "duration": 16,
    "start_time": "2024-06-10T15:45:09.071Z"
   },
   {
    "duration": 12,
    "start_time": "2024-06-10T15:45:09.088Z"
   },
   {
    "duration": 586,
    "start_time": "2024-06-10T15:45:09.101Z"
   },
   {
    "duration": 8,
    "start_time": "2024-06-10T15:45:09.688Z"
   },
   {
    "duration": 49,
    "start_time": "2024-06-10T15:45:09.698Z"
   },
   {
    "duration": 23,
    "start_time": "2024-06-10T15:45:09.748Z"
   },
   {
    "duration": 14,
    "start_time": "2024-06-10T15:45:09.773Z"
   },
   {
    "duration": 420,
    "start_time": "2024-06-10T15:45:09.788Z"
   },
   {
    "duration": 11,
    "start_time": "2024-06-10T15:45:10.210Z"
   },
   {
    "duration": 49,
    "start_time": "2024-06-10T15:45:10.222Z"
   },
   {
    "duration": 97,
    "start_time": "2024-06-10T15:45:10.273Z"
   },
   {
    "duration": 2010,
    "start_time": "2024-06-10T15:45:10.371Z"
   },
   {
    "duration": 16,
    "start_time": "2024-06-10T15:45:12.383Z"
   },
   {
    "duration": 15,
    "start_time": "2024-06-10T15:45:12.401Z"
   },
   {
    "duration": 29,
    "start_time": "2024-06-10T15:45:12.418Z"
   },
   {
    "duration": 863,
    "start_time": "2024-06-10T15:45:12.449Z"
   },
   {
    "duration": 9,
    "start_time": "2024-06-10T15:45:13.313Z"
   },
   {
    "duration": 27,
    "start_time": "2024-06-10T15:45:13.326Z"
   },
   {
    "duration": 35,
    "start_time": "2024-06-10T15:45:13.355Z"
   },
   {
    "duration": 63,
    "start_time": "2024-06-10T15:45:13.391Z"
   },
   {
    "duration": 648,
    "start_time": "2024-06-10T15:45:13.456Z"
   },
   {
    "duration": 23,
    "start_time": "2024-06-10T15:45:14.106Z"
   },
   {
    "duration": 22,
    "start_time": "2024-06-10T15:45:14.130Z"
   },
   {
    "duration": 33,
    "start_time": "2024-06-10T15:45:14.154Z"
   },
   {
    "duration": 1263,
    "start_time": "2024-06-10T15:45:14.189Z"
   },
   {
    "duration": 98,
    "start_time": "2024-06-10T15:45:15.454Z"
   },
   {
    "duration": 16,
    "start_time": "2024-06-10T15:45:15.553Z"
   },
   {
    "duration": 16,
    "start_time": "2024-06-10T15:45:15.571Z"
   },
   {
    "duration": 29,
    "start_time": "2024-06-10T15:45:15.589Z"
   },
   {
    "duration": 26,
    "start_time": "2024-06-10T15:45:15.619Z"
   },
   {
    "duration": 17,
    "start_time": "2024-06-10T15:45:15.647Z"
   },
   {
    "duration": 36,
    "start_time": "2024-06-10T15:45:15.666Z"
   },
   {
    "duration": 24,
    "start_time": "2024-06-10T15:45:15.704Z"
   },
   {
    "duration": 11,
    "start_time": "2024-06-10T15:45:15.730Z"
   },
   {
    "duration": 33,
    "start_time": "2024-06-10T15:45:15.743Z"
   },
   {
    "duration": 32,
    "start_time": "2024-06-10T15:45:15.777Z"
   },
   {
    "duration": 29,
    "start_time": "2024-06-10T15:45:15.811Z"
   },
   {
    "duration": 581,
    "start_time": "2024-06-10T15:45:15.842Z"
   },
   {
    "duration": 8,
    "start_time": "2024-06-10T15:45:16.446Z"
   },
   {
    "duration": 29,
    "start_time": "2024-06-10T15:45:16.456Z"
   },
   {
    "duration": 9,
    "start_time": "2024-06-10T15:45:16.486Z"
   },
   {
    "duration": 6,
    "start_time": "2024-06-10T15:45:16.497Z"
   },
   {
    "duration": 96,
    "start_time": "2024-06-10T15:45:16.505Z"
   },
   {
    "duration": 136,
    "start_time": "2024-06-10T15:46:04.243Z"
   },
   {
    "duration": 5,
    "start_time": "2024-06-10T15:46:13.723Z"
   },
   {
    "duration": 30,
    "start_time": "2024-06-10T15:46:14.903Z"
   },
   {
    "duration": 10,
    "start_time": "2024-06-10T15:47:02.629Z"
   },
   {
    "duration": 9,
    "start_time": "2024-06-10T15:47:16.982Z"
   },
   {
    "duration": 835,
    "start_time": "2024-06-10T15:47:43.714Z"
   },
   {
    "duration": 305,
    "start_time": "2024-06-10T15:47:44.552Z"
   },
   {
    "duration": 5,
    "start_time": "2024-06-10T15:47:44.858Z"
   },
   {
    "duration": 73,
    "start_time": "2024-06-10T15:47:44.865Z"
   },
   {
    "duration": 222,
    "start_time": "2024-06-10T15:47:44.939Z"
   },
   {
    "duration": 5,
    "start_time": "2024-06-10T15:47:45.163Z"
   },
   {
    "duration": 23,
    "start_time": "2024-06-10T15:47:45.170Z"
   },
   {
    "duration": 44,
    "start_time": "2024-06-10T15:47:45.195Z"
   },
   {
    "duration": 12,
    "start_time": "2024-06-10T15:47:45.241Z"
   },
   {
    "duration": 69,
    "start_time": "2024-06-10T15:47:45.257Z"
   },
   {
    "duration": 74,
    "start_time": "2024-06-10T15:47:45.328Z"
   },
   {
    "duration": 54,
    "start_time": "2024-06-10T15:47:45.404Z"
   },
   {
    "duration": 500,
    "start_time": "2024-06-10T15:47:45.460Z"
   },
   {
    "duration": 8,
    "start_time": "2024-06-10T15:47:45.962Z"
   },
   {
    "duration": 16,
    "start_time": "2024-06-10T15:47:45.971Z"
   },
   {
    "duration": 10,
    "start_time": "2024-06-10T15:47:45.989Z"
   },
   {
    "duration": 10,
    "start_time": "2024-06-10T15:47:46.001Z"
   },
   {
    "duration": 440,
    "start_time": "2024-06-10T15:47:46.013Z"
   },
   {
    "duration": 11,
    "start_time": "2024-06-10T15:47:46.455Z"
   },
   {
    "duration": 110,
    "start_time": "2024-06-10T15:47:46.468Z"
   },
   {
    "duration": 102,
    "start_time": "2024-06-10T15:47:46.579Z"
   },
   {
    "duration": 1917,
    "start_time": "2024-06-10T15:47:46.683Z"
   },
   {
    "duration": 15,
    "start_time": "2024-06-10T15:47:48.602Z"
   },
   {
    "duration": 10,
    "start_time": "2024-06-10T15:47:48.620Z"
   },
   {
    "duration": 7,
    "start_time": "2024-06-10T15:47:48.646Z"
   },
   {
    "duration": 817,
    "start_time": "2024-06-10T15:47:48.655Z"
   },
   {
    "duration": 9,
    "start_time": "2024-06-10T15:47:49.474Z"
   },
   {
    "duration": 26,
    "start_time": "2024-06-10T15:47:49.487Z"
   },
   {
    "duration": 9,
    "start_time": "2024-06-10T15:47:49.515Z"
   },
   {
    "duration": 8,
    "start_time": "2024-06-10T15:47:49.525Z"
   },
   {
    "duration": 616,
    "start_time": "2024-06-10T15:47:49.535Z"
   },
   {
    "duration": 21,
    "start_time": "2024-06-10T15:47:50.154Z"
   },
   {
    "duration": 13,
    "start_time": "2024-06-10T15:47:50.177Z"
   },
   {
    "duration": 34,
    "start_time": "2024-06-10T15:47:50.192Z"
   },
   {
    "duration": 1215,
    "start_time": "2024-06-10T15:47:50.228Z"
   },
   {
    "duration": 103,
    "start_time": "2024-06-10T15:47:51.445Z"
   },
   {
    "duration": 9,
    "start_time": "2024-06-10T15:47:51.550Z"
   },
   {
    "duration": 10,
    "start_time": "2024-06-10T15:47:51.561Z"
   },
   {
    "duration": 26,
    "start_time": "2024-06-10T15:47:51.573Z"
   },
   {
    "duration": 14,
    "start_time": "2024-06-10T15:47:51.601Z"
   },
   {
    "duration": 6,
    "start_time": "2024-06-10T15:47:51.646Z"
   },
   {
    "duration": 26,
    "start_time": "2024-06-10T15:47:51.654Z"
   },
   {
    "duration": 7,
    "start_time": "2024-06-10T15:47:51.682Z"
   },
   {
    "duration": 4,
    "start_time": "2024-06-10T15:47:51.691Z"
   },
   {
    "duration": 5,
    "start_time": "2024-06-10T15:47:51.697Z"
   },
   {
    "duration": 5,
    "start_time": "2024-06-10T15:47:51.703Z"
   },
   {
    "duration": 31,
    "start_time": "2024-06-10T15:47:51.710Z"
   },
   {
    "duration": 625,
    "start_time": "2024-06-10T15:47:51.742Z"
   },
   {
    "duration": 7,
    "start_time": "2024-06-10T15:47:52.369Z"
   },
   {
    "duration": 32,
    "start_time": "2024-06-10T15:47:52.377Z"
   },
   {
    "duration": 113,
    "start_time": "2024-06-10T15:47:52.410Z"
   },
   {
    "duration": 32,
    "start_time": "2024-06-10T15:47:52.525Z"
   },
   {
    "duration": 59,
    "start_time": "2024-06-10T15:47:52.558Z"
   },
   {
    "duration": 136,
    "start_time": "2024-06-10T15:48:00.128Z"
   },
   {
    "duration": 11,
    "start_time": "2024-06-10T15:48:12.838Z"
   },
   {
    "duration": 9,
    "start_time": "2024-06-10T15:48:26.798Z"
   },
   {
    "duration": 9,
    "start_time": "2024-06-10T15:48:31.542Z"
   },
   {
    "duration": 11,
    "start_time": "2024-06-10T15:48:46.977Z"
   },
   {
    "duration": 6,
    "start_time": "2024-06-10T15:49:41.187Z"
   },
   {
    "duration": 6,
    "start_time": "2024-06-10T15:49:49.457Z"
   },
   {
    "duration": 10,
    "start_time": "2024-06-10T15:49:53.193Z"
   },
   {
    "duration": 5,
    "start_time": "2024-06-10T15:50:14.912Z"
   },
   {
    "duration": 29,
    "start_time": "2024-06-10T15:50:16.042Z"
   },
   {
    "duration": 39,
    "start_time": "2024-06-10T15:50:25.695Z"
   },
   {
    "duration": 44,
    "start_time": "2024-06-10T15:51:12.655Z"
   },
   {
    "duration": 6,
    "start_time": "2024-06-10T15:51:14.286Z"
   },
   {
    "duration": 146,
    "start_time": "2024-06-10T15:51:15.193Z"
   },
   {
    "duration": 5,
    "start_time": "2024-06-10T15:53:21.028Z"
   },
   {
    "duration": 153,
    "start_time": "2024-06-10T15:53:21.903Z"
   },
   {
    "duration": 4,
    "start_time": "2024-06-10T15:55:33.379Z"
   },
   {
    "duration": 76,
    "start_time": "2024-06-10T15:55:34.241Z"
   },
   {
    "duration": 5,
    "start_time": "2024-06-10T15:57:05.827Z"
   },
   {
    "duration": 72,
    "start_time": "2024-06-10T15:57:10.118Z"
   },
   {
    "duration": 34,
    "start_time": "2024-06-10T15:57:26.419Z"
   },
   {
    "duration": 36,
    "start_time": "2024-06-10T15:57:33.959Z"
   },
   {
    "duration": 35,
    "start_time": "2024-06-10T15:57:40.191Z"
   },
   {
    "duration": 87,
    "start_time": "2024-06-10T15:57:45.796Z"
   },
   {
    "duration": 52,
    "start_time": "2024-06-10T15:58:04.477Z"
   },
   {
    "duration": 44,
    "start_time": "2024-06-10T15:58:25.624Z"
   },
   {
    "duration": 6,
    "start_time": "2024-06-10T15:58:38.531Z"
   },
   {
    "duration": 59,
    "start_time": "2024-06-10T15:59:31.046Z"
   },
   {
    "duration": 9,
    "start_time": "2024-06-10T16:00:05.424Z"
   },
   {
    "duration": 36,
    "start_time": "2024-06-10T16:01:02.842Z"
   },
   {
    "duration": 10,
    "start_time": "2024-06-10T16:01:03.950Z"
   },
   {
    "duration": 30,
    "start_time": "2024-06-10T16:01:53.740Z"
   },
   {
    "duration": 11,
    "start_time": "2024-06-10T16:01:55.725Z"
   },
   {
    "duration": 47,
    "start_time": "2024-06-10T16:03:02.975Z"
   },
   {
    "duration": 7,
    "start_time": "2024-06-10T16:03:05.498Z"
   },
   {
    "duration": 53,
    "start_time": "2024-06-10T16:03:11.253Z"
   },
   {
    "duration": 80,
    "start_time": "2024-06-10T16:05:26.124Z"
   },
   {
    "duration": 5,
    "start_time": "2024-06-10T16:05:33.738Z"
   },
   {
    "duration": 38,
    "start_time": "2024-06-10T16:05:35.965Z"
   },
   {
    "duration": 7,
    "start_time": "2024-06-10T16:06:24.201Z"
   },
   {
    "duration": 38,
    "start_time": "2024-06-10T16:06:25.260Z"
   },
   {
    "duration": 4,
    "start_time": "2024-06-10T16:07:36.484Z"
   },
   {
    "duration": 39,
    "start_time": "2024-06-10T16:07:37.778Z"
   },
   {
    "duration": 6,
    "start_time": "2024-06-10T16:08:51.705Z"
   },
   {
    "duration": 30,
    "start_time": "2024-06-10T16:08:53.367Z"
   },
   {
    "duration": 5,
    "start_time": "2024-06-10T16:16:15.779Z"
   },
   {
    "duration": 39,
    "start_time": "2024-06-10T16:16:17.402Z"
   },
   {
    "duration": 5,
    "start_time": "2024-06-10T16:17:48.441Z"
   },
   {
    "duration": 38,
    "start_time": "2024-06-10T16:17:49.971Z"
   },
   {
    "duration": 7,
    "start_time": "2024-06-10T16:18:46.102Z"
   },
   {
    "duration": 5,
    "start_time": "2024-06-10T16:18:51.836Z"
   },
   {
    "duration": 5,
    "start_time": "2024-06-10T16:21:35.216Z"
   },
   {
    "duration": 44,
    "start_time": "2024-06-10T16:21:36.630Z"
   },
   {
    "duration": 11,
    "start_time": "2024-06-10T16:21:54.803Z"
   },
   {
    "duration": 5,
    "start_time": "2024-06-10T16:22:18.343Z"
   },
   {
    "duration": 8,
    "start_time": "2024-06-10T16:22:41.113Z"
   },
   {
    "duration": 32,
    "start_time": "2024-06-10T16:22:43.030Z"
   },
   {
    "duration": 6,
    "start_time": "2024-06-10T16:23:16.477Z"
   },
   {
    "duration": 32,
    "start_time": "2024-06-10T16:23:17.880Z"
   },
   {
    "duration": 66,
    "start_time": "2024-06-10T16:25:57.247Z"
   },
   {
    "duration": 7,
    "start_time": "2024-06-10T16:26:03.996Z"
   },
   {
    "duration": 31,
    "start_time": "2024-06-10T16:26:05.216Z"
   },
   {
    "duration": 6,
    "start_time": "2024-06-10T16:26:30.118Z"
   },
   {
    "duration": 33,
    "start_time": "2024-06-10T16:26:31.208Z"
   },
   {
    "duration": 6,
    "start_time": "2024-06-10T16:26:52.409Z"
   },
   {
    "duration": 33,
    "start_time": "2024-06-10T16:26:53.903Z"
   },
   {
    "duration": 6,
    "start_time": "2024-06-10T16:29:04.045Z"
   },
   {
    "duration": 33,
    "start_time": "2024-06-10T16:29:05.821Z"
   },
   {
    "duration": 29,
    "start_time": "2024-06-10T16:29:24.261Z"
   },
   {
    "duration": 29,
    "start_time": "2024-06-10T16:31:31.287Z"
   },
   {
    "duration": 37,
    "start_time": "2024-06-10T16:31:37.700Z"
   },
   {
    "duration": 761,
    "start_time": "2024-06-10T16:47:40.092Z"
   },
   {
    "duration": 400,
    "start_time": "2024-06-10T16:47:40.855Z"
   },
   {
    "duration": 5,
    "start_time": "2024-06-10T16:47:41.258Z"
   },
   {
    "duration": 47,
    "start_time": "2024-06-10T16:47:41.265Z"
   },
   {
    "duration": 433,
    "start_time": "2024-06-10T16:47:41.313Z"
   },
   {
    "duration": 5,
    "start_time": "2024-06-10T16:47:41.748Z"
   },
   {
    "duration": 13,
    "start_time": "2024-06-10T16:47:41.755Z"
   },
   {
    "duration": 93,
    "start_time": "2024-06-10T16:47:41.770Z"
   },
   {
    "duration": 12,
    "start_time": "2024-06-10T16:47:41.864Z"
   },
   {
    "duration": 74,
    "start_time": "2024-06-10T16:47:41.879Z"
   },
   {
    "duration": 15,
    "start_time": "2024-06-10T16:47:41.955Z"
   },
   {
    "duration": 8,
    "start_time": "2024-06-10T16:47:41.971Z"
   },
   {
    "duration": 865,
    "start_time": "2024-06-10T16:47:41.981Z"
   },
   {
    "duration": 8,
    "start_time": "2024-06-10T16:47:42.848Z"
   },
   {
    "duration": 17,
    "start_time": "2024-06-10T16:47:42.858Z"
   },
   {
    "duration": 8,
    "start_time": "2024-06-10T16:47:42.877Z"
   },
   {
    "duration": 68,
    "start_time": "2024-06-10T16:47:42.886Z"
   },
   {
    "duration": 440,
    "start_time": "2024-06-10T16:47:42.955Z"
   },
   {
    "duration": 11,
    "start_time": "2024-06-10T16:47:43.396Z"
   },
   {
    "duration": 67,
    "start_time": "2024-06-10T16:47:43.408Z"
   },
   {
    "duration": 102,
    "start_time": "2024-06-10T16:47:43.477Z"
   },
   {
    "duration": 1953,
    "start_time": "2024-06-10T16:47:43.580Z"
   },
   {
    "duration": 16,
    "start_time": "2024-06-10T16:47:45.535Z"
   },
   {
    "duration": 12,
    "start_time": "2024-06-10T16:47:45.552Z"
   },
   {
    "duration": 5,
    "start_time": "2024-06-10T16:47:45.566Z"
   },
   {
    "duration": 851,
    "start_time": "2024-06-10T16:47:45.573Z"
   },
   {
    "duration": 9,
    "start_time": "2024-06-10T16:47:46.426Z"
   },
   {
    "duration": 25,
    "start_time": "2024-06-10T16:47:46.448Z"
   },
   {
    "duration": 81,
    "start_time": "2024-06-10T16:47:46.475Z"
   },
   {
    "duration": 127,
    "start_time": "2024-06-10T16:47:46.558Z"
   },
   {
    "duration": 663,
    "start_time": "2024-06-10T16:47:46.687Z"
   },
   {
    "duration": 21,
    "start_time": "2024-06-10T16:47:47.353Z"
   },
   {
    "duration": 41,
    "start_time": "2024-06-10T16:47:47.376Z"
   },
   {
    "duration": 52,
    "start_time": "2024-06-10T16:47:47.419Z"
   },
   {
    "duration": 1310,
    "start_time": "2024-06-10T16:47:47.473Z"
   },
   {
    "duration": 99,
    "start_time": "2024-06-10T16:47:48.784Z"
   },
   {
    "duration": 8,
    "start_time": "2024-06-10T16:47:48.885Z"
   },
   {
    "duration": 8,
    "start_time": "2024-06-10T16:47:48.895Z"
   },
   {
    "duration": 51,
    "start_time": "2024-06-10T16:47:48.904Z"
   },
   {
    "duration": 14,
    "start_time": "2024-06-10T16:47:48.957Z"
   },
   {
    "duration": 16,
    "start_time": "2024-06-10T16:47:48.973Z"
   },
   {
    "duration": 141,
    "start_time": "2024-06-10T16:47:48.991Z"
   },
   {
    "duration": 41,
    "start_time": "2024-06-10T16:47:49.134Z"
   },
   {
    "duration": 4,
    "start_time": "2024-06-10T16:47:49.177Z"
   },
   {
    "duration": 11,
    "start_time": "2024-06-10T16:47:49.183Z"
   },
   {
    "duration": 6,
    "start_time": "2024-06-10T16:47:49.196Z"
   },
   {
    "duration": 10,
    "start_time": "2024-06-10T16:47:49.204Z"
   },
   {
    "duration": 14867,
    "start_time": "2024-06-10T16:47:49.215Z"
   },
   {
    "duration": 63,
    "start_time": "2024-06-10T16:48:04.084Z"
   },
   {
    "duration": 68,
    "start_time": "2024-06-10T16:48:04.149Z"
   },
   {
    "duration": 30,
    "start_time": "2024-06-10T16:48:04.219Z"
   },
   {
    "duration": 8,
    "start_time": "2024-06-10T16:48:04.251Z"
   },
   {
    "duration": 86,
    "start_time": "2024-06-10T16:48:04.260Z"
   },
   {
    "duration": 44,
    "start_time": "2024-06-10T16:48:04.348Z"
   },
   {
    "duration": 55,
    "start_time": "2024-06-10T16:48:04.394Z"
   },
   {
    "duration": 70,
    "start_time": "2024-06-10T16:48:04.451Z"
   },
   {
    "duration": 792,
    "start_time": "2024-06-10T16:48:13.949Z"
   },
   {
    "duration": 304,
    "start_time": "2024-06-10T16:48:14.743Z"
   },
   {
    "duration": 4,
    "start_time": "2024-06-10T16:48:15.049Z"
   },
   {
    "duration": 85,
    "start_time": "2024-06-10T16:48:15.055Z"
   },
   {
    "duration": 270,
    "start_time": "2024-06-10T16:48:15.142Z"
   },
   {
    "duration": 7,
    "start_time": "2024-06-10T16:48:15.414Z"
   },
   {
    "duration": 24,
    "start_time": "2024-06-10T16:48:15.423Z"
   },
   {
    "duration": 43,
    "start_time": "2024-06-10T16:48:15.448Z"
   },
   {
    "duration": 12,
    "start_time": "2024-06-10T16:48:15.493Z"
   },
   {
    "duration": 47,
    "start_time": "2024-06-10T16:48:15.508Z"
   },
   {
    "duration": 29,
    "start_time": "2024-06-10T16:48:15.556Z"
   },
   {
    "duration": 5,
    "start_time": "2024-06-10T16:48:15.587Z"
   },
   {
    "duration": 438,
    "start_time": "2024-06-10T16:48:15.594Z"
   },
   {
    "duration": 14,
    "start_time": "2024-06-10T16:48:16.033Z"
   },
   {
    "duration": 43,
    "start_time": "2024-06-10T16:48:16.048Z"
   },
   {
    "duration": 18,
    "start_time": "2024-06-10T16:48:16.093Z"
   },
   {
    "duration": 11,
    "start_time": "2024-06-10T16:48:16.112Z"
   },
   {
    "duration": 437,
    "start_time": "2024-06-10T16:48:16.124Z"
   },
   {
    "duration": 14,
    "start_time": "2024-06-10T16:48:16.563Z"
   },
   {
    "duration": 83,
    "start_time": "2024-06-10T16:48:16.579Z"
   },
   {
    "duration": 116,
    "start_time": "2024-06-10T16:48:16.664Z"
   },
   {
    "duration": 2118,
    "start_time": "2024-06-10T16:48:16.782Z"
   },
   {
    "duration": 15,
    "start_time": "2024-06-10T16:48:18.901Z"
   },
   {
    "duration": 37,
    "start_time": "2024-06-10T16:48:18.918Z"
   },
   {
    "duration": 33,
    "start_time": "2024-06-10T16:48:18.957Z"
   },
   {
    "duration": 781,
    "start_time": "2024-06-10T16:48:18.992Z"
   },
   {
    "duration": 9,
    "start_time": "2024-06-10T16:48:19.774Z"
   },
   {
    "duration": 10,
    "start_time": "2024-06-10T16:48:19.789Z"
   },
   {
    "duration": 8,
    "start_time": "2024-06-10T16:48:19.800Z"
   },
   {
    "duration": 31,
    "start_time": "2024-06-10T16:48:19.810Z"
   },
   {
    "duration": 669,
    "start_time": "2024-06-10T16:48:19.843Z"
   },
   {
    "duration": 20,
    "start_time": "2024-06-10T16:48:20.514Z"
   },
   {
    "duration": 12,
    "start_time": "2024-06-10T16:48:20.549Z"
   },
   {
    "duration": 13,
    "start_time": "2024-06-10T16:48:20.563Z"
   },
   {
    "duration": 1266,
    "start_time": "2024-06-10T16:48:20.577Z"
   },
   {
    "duration": 107,
    "start_time": "2024-06-10T16:48:21.845Z"
   },
   {
    "duration": 68,
    "start_time": "2024-06-10T16:48:21.954Z"
   },
   {
    "duration": 30,
    "start_time": "2024-06-10T16:48:22.024Z"
   },
   {
    "duration": 26,
    "start_time": "2024-06-10T16:48:22.056Z"
   },
   {
    "duration": 14,
    "start_time": "2024-06-10T16:48:22.084Z"
   },
   {
    "duration": 6,
    "start_time": "2024-06-10T16:48:22.100Z"
   },
   {
    "duration": 19,
    "start_time": "2024-06-10T16:48:22.107Z"
   },
   {
    "duration": 20,
    "start_time": "2024-06-10T16:48:22.128Z"
   },
   {
    "duration": 7,
    "start_time": "2024-06-10T16:48:22.150Z"
   },
   {
    "duration": 11,
    "start_time": "2024-06-10T16:48:22.158Z"
   },
   {
    "duration": 12,
    "start_time": "2024-06-10T16:48:22.171Z"
   },
   {
    "duration": 9,
    "start_time": "2024-06-10T16:48:22.185Z"
   },
   {
    "duration": 508,
    "start_time": "2024-06-10T16:48:22.195Z"
   },
   {
    "duration": 7,
    "start_time": "2024-06-10T16:48:22.704Z"
   },
   {
    "duration": 37,
    "start_time": "2024-06-10T16:48:22.713Z"
   },
   {
    "duration": 7,
    "start_time": "2024-06-10T16:48:22.752Z"
   },
   {
    "duration": 10,
    "start_time": "2024-06-10T16:48:22.760Z"
   },
   {
    "duration": 81,
    "start_time": "2024-06-10T16:48:22.772Z"
   },
   {
    "duration": 47,
    "start_time": "2024-06-10T16:48:22.854Z"
   },
   {
    "duration": 62,
    "start_time": "2024-06-10T16:48:22.903Z"
   },
   {
    "duration": 85,
    "start_time": "2024-06-10T16:48:22.967Z"
   },
   {
    "duration": 18,
    "start_time": "2024-06-10T16:48:56.328Z"
   },
   {
    "duration": 30,
    "start_time": "2024-06-10T16:51:54.725Z"
   },
   {
    "duration": 41,
    "start_time": "2024-06-10T16:52:08.347Z"
   },
   {
    "duration": 34,
    "start_time": "2024-06-10T16:52:58.490Z"
   },
   {
    "duration": 33,
    "start_time": "2024-06-10T16:53:41.201Z"
   },
   {
    "duration": 27,
    "start_time": "2024-06-10T16:56:37.271Z"
   },
   {
    "duration": 32,
    "start_time": "2024-06-10T16:56:40.720Z"
   },
   {
    "duration": 25,
    "start_time": "2024-06-10T16:56:42.982Z"
   },
   {
    "duration": 26,
    "start_time": "2024-06-10T16:57:31.489Z"
   },
   {
    "duration": 23,
    "start_time": "2024-06-10T16:58:14.251Z"
   },
   {
    "duration": 38,
    "start_time": "2024-06-10T17:00:55.127Z"
   },
   {
    "duration": 27,
    "start_time": "2024-06-10T17:04:11.137Z"
   },
   {
    "duration": 16,
    "start_time": "2024-06-10T17:06:40.880Z"
   },
   {
    "duration": 15,
    "start_time": "2024-06-10T17:07:22.984Z"
   },
   {
    "duration": 1130,
    "start_time": "2024-06-10T17:09:50.748Z"
   },
   {
    "duration": 22,
    "start_time": "2024-06-10T17:10:06.806Z"
   },
   {
    "duration": 10,
    "start_time": "2024-06-10T17:10:09.713Z"
   },
   {
    "duration": 9,
    "start_time": "2024-06-10T17:11:27.582Z"
   },
   {
    "duration": 11,
    "start_time": "2024-06-10T17:15:56.802Z"
   },
   {
    "duration": 18,
    "start_time": "2024-06-10T17:15:58.048Z"
   },
   {
    "duration": 18,
    "start_time": "2024-06-10T17:16:29.181Z"
   },
   {
    "duration": 19,
    "start_time": "2024-06-10T17:16:33.214Z"
   },
   {
    "duration": 21,
    "start_time": "2024-06-10T17:17:42.110Z"
   },
   {
    "duration": 19,
    "start_time": "2024-06-10T17:17:57.996Z"
   },
   {
    "duration": 23,
    "start_time": "2024-06-10T17:18:03.066Z"
   },
   {
    "duration": 1030,
    "start_time": "2024-06-10T17:24:20.751Z"
   },
   {
    "duration": 1762,
    "start_time": "2024-06-10T17:25:00.263Z"
   },
   {
    "duration": 20,
    "start_time": "2024-06-10T17:25:33.170Z"
   },
   {
    "duration": 23,
    "start_time": "2024-06-10T17:26:04.884Z"
   },
   {
    "duration": 11,
    "start_time": "2024-06-10T17:31:38.588Z"
   },
   {
    "duration": 13,
    "start_time": "2024-06-10T17:32:00.827Z"
   },
   {
    "duration": 20,
    "start_time": "2024-06-10T17:33:01.194Z"
   },
   {
    "duration": 18,
    "start_time": "2024-06-10T17:34:17.613Z"
   },
   {
    "duration": 34,
    "start_time": "2024-06-10T17:34:41.419Z"
   },
   {
    "duration": 19,
    "start_time": "2024-06-10T17:35:13.051Z"
   },
   {
    "duration": 22,
    "start_time": "2024-06-10T17:39:11.768Z"
   },
   {
    "duration": 10,
    "start_time": "2024-06-10T17:39:16.615Z"
   },
   {
    "duration": 757,
    "start_time": "2024-06-10T17:39:24.896Z"
   },
   {
    "duration": 320,
    "start_time": "2024-06-10T17:39:25.655Z"
   },
   {
    "duration": 5,
    "start_time": "2024-06-10T17:39:25.976Z"
   },
   {
    "duration": 90,
    "start_time": "2024-06-10T17:39:25.984Z"
   },
   {
    "duration": 239,
    "start_time": "2024-06-10T17:39:26.076Z"
   },
   {
    "duration": 6,
    "start_time": "2024-06-10T17:39:26.316Z"
   },
   {
    "duration": 26,
    "start_time": "2024-06-10T17:39:26.323Z"
   },
   {
    "duration": 54,
    "start_time": "2024-06-10T17:39:26.351Z"
   },
   {
    "duration": 15,
    "start_time": "2024-06-10T17:39:26.407Z"
   },
   {
    "duration": 34,
    "start_time": "2024-06-10T17:39:26.425Z"
   },
   {
    "duration": 15,
    "start_time": "2024-06-10T17:39:26.461Z"
   },
   {
    "duration": 26,
    "start_time": "2024-06-10T17:39:26.478Z"
   },
   {
    "duration": 95,
    "start_time": "2024-06-10T17:39:26.506Z"
   },
   {
    "duration": 0,
    "start_time": "2024-06-10T17:39:26.604Z"
   },
   {
    "duration": 0,
    "start_time": "2024-06-10T17:39:26.605Z"
   },
   {
    "duration": 0,
    "start_time": "2024-06-10T17:39:26.606Z"
   },
   {
    "duration": 0,
    "start_time": "2024-06-10T17:39:26.607Z"
   },
   {
    "duration": 0,
    "start_time": "2024-06-10T17:39:26.609Z"
   },
   {
    "duration": 0,
    "start_time": "2024-06-10T17:39:26.610Z"
   },
   {
    "duration": 0,
    "start_time": "2024-06-10T17:39:26.610Z"
   },
   {
    "duration": 0,
    "start_time": "2024-06-10T17:39:26.612Z"
   },
   {
    "duration": 0,
    "start_time": "2024-06-10T17:39:26.613Z"
   },
   {
    "duration": 0,
    "start_time": "2024-06-10T17:39:26.614Z"
   },
   {
    "duration": 1,
    "start_time": "2024-06-10T17:39:26.615Z"
   },
   {
    "duration": 0,
    "start_time": "2024-06-10T17:39:26.617Z"
   },
   {
    "duration": 0,
    "start_time": "2024-06-10T17:39:26.618Z"
   },
   {
    "duration": 0,
    "start_time": "2024-06-10T17:39:26.646Z"
   },
   {
    "duration": 0,
    "start_time": "2024-06-10T17:39:26.647Z"
   },
   {
    "duration": 0,
    "start_time": "2024-06-10T17:39:26.648Z"
   },
   {
    "duration": 0,
    "start_time": "2024-06-10T17:39:26.650Z"
   },
   {
    "duration": 0,
    "start_time": "2024-06-10T17:39:26.651Z"
   },
   {
    "duration": 0,
    "start_time": "2024-06-10T17:39:26.652Z"
   },
   {
    "duration": 0,
    "start_time": "2024-06-10T17:39:26.652Z"
   },
   {
    "duration": 0,
    "start_time": "2024-06-10T17:39:26.654Z"
   },
   {
    "duration": 0,
    "start_time": "2024-06-10T17:39:26.655Z"
   },
   {
    "duration": 0,
    "start_time": "2024-06-10T17:39:26.656Z"
   },
   {
    "duration": 0,
    "start_time": "2024-06-10T17:39:26.657Z"
   },
   {
    "duration": 0,
    "start_time": "2024-06-10T17:39:26.658Z"
   },
   {
    "duration": 0,
    "start_time": "2024-06-10T17:39:26.659Z"
   },
   {
    "duration": 0,
    "start_time": "2024-06-10T17:39:26.660Z"
   },
   {
    "duration": 0,
    "start_time": "2024-06-10T17:39:26.662Z"
   },
   {
    "duration": 0,
    "start_time": "2024-06-10T17:39:26.663Z"
   },
   {
    "duration": 0,
    "start_time": "2024-06-10T17:39:26.664Z"
   },
   {
    "duration": 0,
    "start_time": "2024-06-10T17:39:26.665Z"
   },
   {
    "duration": 0,
    "start_time": "2024-06-10T17:39:26.666Z"
   },
   {
    "duration": 0,
    "start_time": "2024-06-10T17:39:26.667Z"
   },
   {
    "duration": 0,
    "start_time": "2024-06-10T17:39:26.668Z"
   },
   {
    "duration": 0,
    "start_time": "2024-06-10T17:39:26.670Z"
   },
   {
    "duration": 0,
    "start_time": "2024-06-10T17:39:26.671Z"
   },
   {
    "duration": 0,
    "start_time": "2024-06-10T17:39:26.672Z"
   },
   {
    "duration": 0,
    "start_time": "2024-06-10T17:39:26.673Z"
   },
   {
    "duration": 0,
    "start_time": "2024-06-10T17:39:26.674Z"
   },
   {
    "duration": 0,
    "start_time": "2024-06-10T17:39:26.675Z"
   },
   {
    "duration": 0,
    "start_time": "2024-06-10T17:39:26.676Z"
   },
   {
    "duration": 0,
    "start_time": "2024-06-10T17:39:26.678Z"
   },
   {
    "duration": 0,
    "start_time": "2024-06-10T17:39:26.679Z"
   },
   {
    "duration": 0,
    "start_time": "2024-06-10T17:39:26.680Z"
   },
   {
    "duration": 0,
    "start_time": "2024-06-10T17:39:26.681Z"
   },
   {
    "duration": 0,
    "start_time": "2024-06-10T17:39:26.682Z"
   },
   {
    "duration": 0,
    "start_time": "2024-06-10T17:39:26.746Z"
   },
   {
    "duration": 0,
    "start_time": "2024-06-10T17:39:26.747Z"
   },
   {
    "duration": 0,
    "start_time": "2024-06-10T17:39:26.748Z"
   },
   {
    "duration": 16,
    "start_time": "2024-06-10T17:39:35.473Z"
   },
   {
    "duration": 842,
    "start_time": "2024-06-10T17:39:43.126Z"
   },
   {
    "duration": 368,
    "start_time": "2024-06-10T17:39:43.970Z"
   },
   {
    "duration": 4,
    "start_time": "2024-06-10T17:39:44.340Z"
   },
   {
    "duration": 50,
    "start_time": "2024-06-10T17:39:44.346Z"
   },
   {
    "duration": 253,
    "start_time": "2024-06-10T17:39:44.398Z"
   },
   {
    "duration": 6,
    "start_time": "2024-06-10T17:39:44.654Z"
   },
   {
    "duration": 17,
    "start_time": "2024-06-10T17:39:44.663Z"
   },
   {
    "duration": 40,
    "start_time": "2024-06-10T17:39:44.682Z"
   },
   {
    "duration": 24,
    "start_time": "2024-06-10T17:39:44.724Z"
   },
   {
    "duration": 22,
    "start_time": "2024-06-10T17:39:44.751Z"
   },
   {
    "duration": 14,
    "start_time": "2024-06-10T17:39:44.775Z"
   },
   {
    "duration": 17,
    "start_time": "2024-06-10T17:39:44.791Z"
   },
   {
    "duration": 46,
    "start_time": "2024-06-10T17:39:44.810Z"
   },
   {
    "duration": 397,
    "start_time": "2024-06-10T17:39:44.858Z"
   },
   {
    "duration": 11,
    "start_time": "2024-06-10T17:39:45.256Z"
   },
   {
    "duration": 19,
    "start_time": "2024-06-10T17:39:45.268Z"
   },
   {
    "duration": 26,
    "start_time": "2024-06-10T17:39:45.289Z"
   },
   {
    "duration": 11,
    "start_time": "2024-06-10T17:39:45.316Z"
   },
   {
    "duration": 409,
    "start_time": "2024-06-10T17:39:45.329Z"
   },
   {
    "duration": 10,
    "start_time": "2024-06-10T17:39:45.740Z"
   },
   {
    "duration": 47,
    "start_time": "2024-06-10T17:39:45.752Z"
   },
   {
    "duration": 137,
    "start_time": "2024-06-10T17:39:45.848Z"
   },
   {
    "duration": 2078,
    "start_time": "2024-06-10T17:39:45.986Z"
   },
   {
    "duration": 14,
    "start_time": "2024-06-10T17:39:48.065Z"
   },
   {
    "duration": 67,
    "start_time": "2024-06-10T17:39:48.081Z"
   },
   {
    "duration": 10,
    "start_time": "2024-06-10T17:39:48.150Z"
   },
   {
    "duration": 1440,
    "start_time": "2024-06-10T17:39:48.163Z"
   },
   {
    "duration": 8,
    "start_time": "2024-06-10T17:39:49.607Z"
   },
   {
    "duration": 12,
    "start_time": "2024-06-10T17:39:49.617Z"
   },
   {
    "duration": 6,
    "start_time": "2024-06-10T17:39:49.631Z"
   },
   {
    "duration": 9,
    "start_time": "2024-06-10T17:39:49.638Z"
   },
   {
    "duration": 608,
    "start_time": "2024-06-10T17:39:49.648Z"
   },
   {
    "duration": 29,
    "start_time": "2024-06-10T17:39:50.258Z"
   },
   {
    "duration": 16,
    "start_time": "2024-06-10T17:39:50.289Z"
   },
   {
    "duration": 10,
    "start_time": "2024-06-10T17:39:50.307Z"
   },
   {
    "duration": 1268,
    "start_time": "2024-06-10T17:39:50.318Z"
   },
   {
    "duration": 100,
    "start_time": "2024-06-10T17:39:51.588Z"
   },
   {
    "duration": 9,
    "start_time": "2024-06-10T17:39:51.690Z"
   },
   {
    "duration": 59,
    "start_time": "2024-06-10T17:39:51.700Z"
   },
   {
    "duration": 36,
    "start_time": "2024-06-10T17:39:51.761Z"
   },
   {
    "duration": 14,
    "start_time": "2024-06-10T17:39:51.799Z"
   },
   {
    "duration": 52,
    "start_time": "2024-06-10T17:39:51.815Z"
   },
   {
    "duration": 20,
    "start_time": "2024-06-10T17:39:51.868Z"
   },
   {
    "duration": 21,
    "start_time": "2024-06-10T17:39:51.889Z"
   },
   {
    "duration": 6,
    "start_time": "2024-06-10T17:39:51.913Z"
   },
   {
    "duration": 15,
    "start_time": "2024-06-10T17:39:51.921Z"
   },
   {
    "duration": 19,
    "start_time": "2024-06-10T17:39:51.938Z"
   },
   {
    "duration": 28,
    "start_time": "2024-06-10T17:39:51.959Z"
   },
   {
    "duration": 542,
    "start_time": "2024-06-10T17:39:51.989Z"
   },
   {
    "duration": 22,
    "start_time": "2024-06-10T17:39:52.545Z"
   },
   {
    "duration": 16,
    "start_time": "2024-06-10T17:39:52.569Z"
   },
   {
    "duration": 37,
    "start_time": "2024-06-10T17:39:52.587Z"
   },
   {
    "duration": 105,
    "start_time": "2024-06-10T17:39:52.626Z"
   },
   {
    "duration": 47,
    "start_time": "2024-06-10T17:39:52.732Z"
   },
   {
    "duration": 44,
    "start_time": "2024-06-10T17:39:52.780Z"
   },
   {
    "duration": 81,
    "start_time": "2024-06-10T17:39:52.825Z"
   },
   {
    "duration": 19,
    "start_time": "2024-06-10T17:39:52.907Z"
   },
   {
    "duration": 70,
    "start_time": "2024-06-10T17:39:52.928Z"
   },
   {
    "duration": 11,
    "start_time": "2024-06-10T17:39:52.999Z"
   },
   {
    "duration": 33,
    "start_time": "2024-06-10T17:39:53.012Z"
   },
   {
    "duration": 22,
    "start_time": "2024-06-10T17:39:53.047Z"
   },
   {
    "duration": 20,
    "start_time": "2024-06-10T17:39:53.071Z"
   },
   {
    "duration": 28,
    "start_time": "2024-06-10T17:41:31.964Z"
   },
   {
    "duration": 22,
    "start_time": "2024-06-10T17:41:47.966Z"
   },
   {
    "duration": 19,
    "start_time": "2024-06-10T17:42:07.954Z"
   },
   {
    "duration": 30,
    "start_time": "2024-06-10T17:42:12.543Z"
   },
   {
    "duration": 35,
    "start_time": "2024-06-10T17:43:20.935Z"
   },
   {
    "duration": 33,
    "start_time": "2024-06-10T17:46:26.218Z"
   },
   {
    "duration": 63,
    "start_time": "2024-06-10T17:47:21.142Z"
   },
   {
    "duration": 62,
    "start_time": "2024-06-10T17:48:21.653Z"
   },
   {
    "duration": 46,
    "start_time": "2024-06-10T17:49:48.678Z"
   },
   {
    "duration": 70,
    "start_time": "2024-06-10T17:49:51.936Z"
   },
   {
    "duration": 56,
    "start_time": "2024-06-10T17:52:12.725Z"
   },
   {
    "duration": 165,
    "start_time": "2024-06-10T17:52:16.981Z"
   },
   {
    "duration": 774,
    "start_time": "2024-06-10T17:52:45.389Z"
   },
   {
    "duration": 340,
    "start_time": "2024-06-10T17:52:46.165Z"
   },
   {
    "duration": 5,
    "start_time": "2024-06-10T17:52:46.507Z"
   },
   {
    "duration": 59,
    "start_time": "2024-06-10T17:52:46.514Z"
   },
   {
    "duration": 226,
    "start_time": "2024-06-10T17:52:46.575Z"
   },
   {
    "duration": 5,
    "start_time": "2024-06-10T17:52:46.803Z"
   },
   {
    "duration": 6,
    "start_time": "2024-06-10T17:52:46.809Z"
   },
   {
    "duration": 55,
    "start_time": "2024-06-10T17:52:46.817Z"
   },
   {
    "duration": 12,
    "start_time": "2024-06-10T17:52:46.874Z"
   },
   {
    "duration": 32,
    "start_time": "2024-06-10T17:52:46.889Z"
   },
   {
    "duration": 32,
    "start_time": "2024-06-10T17:52:46.922Z"
   },
   {
    "duration": 18,
    "start_time": "2024-06-10T17:52:46.956Z"
   },
   {
    "duration": 385,
    "start_time": "2024-06-10T17:52:46.976Z"
   },
   {
    "duration": 10,
    "start_time": "2024-06-10T17:52:47.363Z"
   },
   {
    "duration": 41,
    "start_time": "2024-06-10T17:52:47.375Z"
   },
   {
    "duration": 28,
    "start_time": "2024-06-10T17:52:47.418Z"
   },
   {
    "duration": 23,
    "start_time": "2024-06-10T17:52:47.448Z"
   },
   {
    "duration": 430,
    "start_time": "2024-06-10T17:52:47.472Z"
   },
   {
    "duration": 43,
    "start_time": "2024-06-10T17:52:47.904Z"
   },
   {
    "duration": 101,
    "start_time": "2024-06-10T17:52:47.949Z"
   },
   {
    "duration": 49,
    "start_time": "2024-06-10T17:52:48.052Z"
   },
   {
    "duration": 2246,
    "start_time": "2024-06-10T17:52:48.103Z"
   },
   {
    "duration": 15,
    "start_time": "2024-06-10T17:52:50.350Z"
   },
   {
    "duration": 24,
    "start_time": "2024-06-10T17:52:50.366Z"
   },
   {
    "duration": 54,
    "start_time": "2024-06-10T17:52:50.392Z"
   },
   {
    "duration": 1364,
    "start_time": "2024-06-10T17:52:50.448Z"
   },
   {
    "duration": 9,
    "start_time": "2024-06-10T17:52:51.814Z"
   },
   {
    "duration": 50,
    "start_time": "2024-06-10T17:52:51.826Z"
   },
   {
    "duration": 29,
    "start_time": "2024-06-10T17:52:51.878Z"
   },
   {
    "duration": 17,
    "start_time": "2024-06-10T17:52:51.909Z"
   },
   {
    "duration": 641,
    "start_time": "2024-06-10T17:52:51.927Z"
   },
   {
    "duration": 29,
    "start_time": "2024-06-10T17:52:52.570Z"
   },
   {
    "duration": 10,
    "start_time": "2024-06-10T17:52:52.601Z"
   },
   {
    "duration": 51,
    "start_time": "2024-06-10T17:52:52.614Z"
   },
   {
    "duration": 1256,
    "start_time": "2024-06-10T17:52:52.667Z"
   },
   {
    "duration": 94,
    "start_time": "2024-06-10T17:52:53.925Z"
   },
   {
    "duration": 32,
    "start_time": "2024-06-10T17:52:54.021Z"
   },
   {
    "duration": 23,
    "start_time": "2024-06-10T17:52:54.055Z"
   },
   {
    "duration": 34,
    "start_time": "2024-06-10T17:52:54.080Z"
   },
   {
    "duration": 15,
    "start_time": "2024-06-10T17:52:54.116Z"
   },
   {
    "duration": 14,
    "start_time": "2024-06-10T17:52:54.132Z"
   },
   {
    "duration": 36,
    "start_time": "2024-06-10T17:52:54.148Z"
   },
   {
    "duration": 10,
    "start_time": "2024-06-10T17:52:54.186Z"
   },
   {
    "duration": 13,
    "start_time": "2024-06-10T17:52:54.198Z"
   },
   {
    "duration": 13,
    "start_time": "2024-06-10T17:52:54.213Z"
   },
   {
    "duration": 19,
    "start_time": "2024-06-10T17:52:54.228Z"
   },
   {
    "duration": 34,
    "start_time": "2024-06-10T17:52:54.249Z"
   },
   {
    "duration": 536,
    "start_time": "2024-06-10T17:52:54.285Z"
   },
   {
    "duration": 36,
    "start_time": "2024-06-10T17:52:54.823Z"
   },
   {
    "duration": 7,
    "start_time": "2024-06-10T17:52:54.861Z"
   },
   {
    "duration": 49,
    "start_time": "2024-06-10T17:52:54.870Z"
   },
   {
    "duration": 91,
    "start_time": "2024-06-10T17:52:54.920Z"
   },
   {
    "duration": 56,
    "start_time": "2024-06-10T17:52:55.013Z"
   },
   {
    "duration": 43,
    "start_time": "2024-06-10T17:52:55.071Z"
   },
   {
    "duration": 87,
    "start_time": "2024-06-10T17:52:55.116Z"
   },
   {
    "duration": 61,
    "start_time": "2024-06-10T17:52:55.205Z"
   },
   {
    "duration": 65,
    "start_time": "2024-06-10T17:52:55.268Z"
   },
   {
    "duration": 80,
    "start_time": "2024-06-10T17:56:04.793Z"
   },
   {
    "duration": 45,
    "start_time": "2024-06-10T17:56:40.794Z"
   },
   {
    "duration": 57,
    "start_time": "2024-06-10T17:56:53.320Z"
   },
   {
    "duration": 870,
    "start_time": "2024-06-10T17:57:01.008Z"
   },
   {
    "duration": 303,
    "start_time": "2024-06-10T17:57:01.880Z"
   },
   {
    "duration": 5,
    "start_time": "2024-06-10T17:57:02.185Z"
   },
   {
    "duration": 335,
    "start_time": "2024-06-10T17:57:02.192Z"
   },
   {
    "duration": 235,
    "start_time": "2024-06-10T17:57:02.529Z"
   },
   {
    "duration": 5,
    "start_time": "2024-06-10T17:57:02.766Z"
   },
   {
    "duration": 129,
    "start_time": "2024-06-10T17:57:02.772Z"
   },
   {
    "duration": 182,
    "start_time": "2024-06-10T17:57:02.903Z"
   },
   {
    "duration": 73,
    "start_time": "2024-06-10T17:57:03.087Z"
   },
   {
    "duration": 138,
    "start_time": "2024-06-10T17:57:03.164Z"
   },
   {
    "duration": 41,
    "start_time": "2024-06-10T17:57:03.304Z"
   },
   {
    "duration": 58,
    "start_time": "2024-06-10T17:57:03.347Z"
   },
   {
    "duration": 496,
    "start_time": "2024-06-10T17:57:03.406Z"
   },
   {
    "duration": 12,
    "start_time": "2024-06-10T17:57:03.903Z"
   },
   {
    "duration": 30,
    "start_time": "2024-06-10T17:57:03.917Z"
   },
   {
    "duration": 13,
    "start_time": "2024-06-10T17:57:03.949Z"
   },
   {
    "duration": 21,
    "start_time": "2024-06-10T17:57:03.964Z"
   },
   {
    "duration": 417,
    "start_time": "2024-06-10T17:57:03.987Z"
   },
   {
    "duration": 12,
    "start_time": "2024-06-10T17:57:04.406Z"
   },
   {
    "duration": 71,
    "start_time": "2024-06-10T17:57:04.419Z"
   },
   {
    "duration": 120,
    "start_time": "2024-06-10T17:57:04.546Z"
   },
   {
    "duration": 2399,
    "start_time": "2024-06-10T17:57:04.668Z"
   },
   {
    "duration": 19,
    "start_time": "2024-06-10T17:57:07.068Z"
   },
   {
    "duration": 72,
    "start_time": "2024-06-10T17:57:07.089Z"
   },
   {
    "duration": 60,
    "start_time": "2024-06-10T17:57:07.163Z"
   },
   {
    "duration": 861,
    "start_time": "2024-06-10T17:57:07.225Z"
   },
   {
    "duration": 8,
    "start_time": "2024-06-10T17:57:08.088Z"
   },
   {
    "duration": 39,
    "start_time": "2024-06-10T17:57:08.100Z"
   },
   {
    "duration": 16,
    "start_time": "2024-06-10T17:57:08.141Z"
   },
   {
    "duration": 63,
    "start_time": "2024-06-10T17:57:08.159Z"
   },
   {
    "duration": 666,
    "start_time": "2024-06-10T17:57:08.224Z"
   },
   {
    "duration": 22,
    "start_time": "2024-06-10T17:57:08.892Z"
   },
   {
    "duration": 31,
    "start_time": "2024-06-10T17:57:08.916Z"
   },
   {
    "duration": 39,
    "start_time": "2024-06-10T17:57:08.948Z"
   },
   {
    "duration": 1292,
    "start_time": "2024-06-10T17:57:08.988Z"
   },
   {
    "duration": 98,
    "start_time": "2024-06-10T17:57:10.282Z"
   },
   {
    "duration": 8,
    "start_time": "2024-06-10T17:57:10.381Z"
   },
   {
    "duration": 27,
    "start_time": "2024-06-10T17:57:10.391Z"
   },
   {
    "duration": 53,
    "start_time": "2024-06-10T17:57:10.419Z"
   },
   {
    "duration": 13,
    "start_time": "2024-06-10T17:57:10.474Z"
   },
   {
    "duration": 31,
    "start_time": "2024-06-10T17:57:10.489Z"
   },
   {
    "duration": 46,
    "start_time": "2024-06-10T17:57:10.522Z"
   },
   {
    "duration": 25,
    "start_time": "2024-06-10T17:57:10.570Z"
   },
   {
    "duration": 38,
    "start_time": "2024-06-10T17:57:10.597Z"
   },
   {
    "duration": 76,
    "start_time": "2024-06-10T17:57:10.637Z"
   },
   {
    "duration": 28,
    "start_time": "2024-06-10T17:57:10.714Z"
   },
   {
    "duration": 53,
    "start_time": "2024-06-10T17:57:10.744Z"
   },
   {
    "duration": 606,
    "start_time": "2024-06-10T17:57:10.798Z"
   },
   {
    "duration": 23,
    "start_time": "2024-06-10T17:57:11.405Z"
   },
   {
    "duration": 44,
    "start_time": "2024-06-10T17:57:11.430Z"
   },
   {
    "duration": 30,
    "start_time": "2024-06-10T17:57:11.476Z"
   },
   {
    "duration": 98,
    "start_time": "2024-06-10T17:57:11.509Z"
   },
   {
    "duration": 46,
    "start_time": "2024-06-10T17:57:11.608Z"
   },
   {
    "duration": 58,
    "start_time": "2024-06-10T17:57:11.655Z"
   },
   {
    "duration": 152,
    "start_time": "2024-06-10T17:57:11.715Z"
   },
   {
    "duration": 99,
    "start_time": "2024-06-10T17:57:11.869Z"
   },
   {
    "duration": 223,
    "start_time": "2024-06-10T17:57:11.970Z"
   },
   {
    "duration": 45,
    "start_time": "2024-06-10T17:59:31.762Z"
   },
   {
    "duration": 816,
    "start_time": "2024-06-10T17:59:38.101Z"
   },
   {
    "duration": 272,
    "start_time": "2024-06-10T17:59:38.919Z"
   },
   {
    "duration": 5,
    "start_time": "2024-06-10T17:59:39.193Z"
   },
   {
    "duration": 61,
    "start_time": "2024-06-10T17:59:39.199Z"
   },
   {
    "duration": 230,
    "start_time": "2024-06-10T17:59:39.262Z"
   },
   {
    "duration": 5,
    "start_time": "2024-06-10T17:59:39.494Z"
   },
   {
    "duration": 20,
    "start_time": "2024-06-10T17:59:39.501Z"
   },
   {
    "duration": 45,
    "start_time": "2024-06-10T17:59:39.522Z"
   },
   {
    "duration": 13,
    "start_time": "2024-06-10T17:59:39.568Z"
   },
   {
    "duration": 27,
    "start_time": "2024-06-10T17:59:39.584Z"
   },
   {
    "duration": 34,
    "start_time": "2024-06-10T17:59:39.612Z"
   },
   {
    "duration": 17,
    "start_time": "2024-06-10T17:59:39.648Z"
   },
   {
    "duration": 416,
    "start_time": "2024-06-10T17:59:39.667Z"
   },
   {
    "duration": 11,
    "start_time": "2024-06-10T17:59:40.085Z"
   },
   {
    "duration": 40,
    "start_time": "2024-06-10T17:59:40.097Z"
   },
   {
    "duration": 37,
    "start_time": "2024-06-10T17:59:40.140Z"
   },
   {
    "duration": 72,
    "start_time": "2024-06-10T17:59:40.180Z"
   },
   {
    "duration": 474,
    "start_time": "2024-06-10T17:59:40.255Z"
   },
   {
    "duration": 17,
    "start_time": "2024-06-10T17:59:40.731Z"
   },
   {
    "duration": 45,
    "start_time": "2024-06-10T17:59:40.750Z"
   },
   {
    "duration": 56,
    "start_time": "2024-06-10T17:59:40.847Z"
   },
   {
    "duration": 2066,
    "start_time": "2024-06-10T17:59:40.904Z"
   },
   {
    "duration": 13,
    "start_time": "2024-06-10T17:59:42.972Z"
   },
   {
    "duration": 37,
    "start_time": "2024-06-10T17:59:42.987Z"
   },
   {
    "duration": 35,
    "start_time": "2024-06-10T17:59:43.025Z"
   },
   {
    "duration": 903,
    "start_time": "2024-06-10T17:59:43.061Z"
   },
   {
    "duration": 9,
    "start_time": "2024-06-10T17:59:43.966Z"
   },
   {
    "duration": 69,
    "start_time": "2024-06-10T17:59:43.978Z"
   },
   {
    "duration": 91,
    "start_time": "2024-06-10T17:59:44.049Z"
   },
   {
    "duration": 69,
    "start_time": "2024-06-10T17:59:44.141Z"
   },
   {
    "duration": 659,
    "start_time": "2024-06-10T17:59:44.213Z"
   },
   {
    "duration": 18,
    "start_time": "2024-06-10T17:59:44.874Z"
   },
   {
    "duration": 47,
    "start_time": "2024-06-10T17:59:44.894Z"
   },
   {
    "duration": 40,
    "start_time": "2024-06-10T17:59:44.943Z"
   },
   {
    "duration": 1364,
    "start_time": "2024-06-10T17:59:44.984Z"
   },
   {
    "duration": 101,
    "start_time": "2024-06-10T17:59:46.351Z"
   },
   {
    "duration": 8,
    "start_time": "2024-06-10T17:59:46.454Z"
   },
   {
    "duration": 23,
    "start_time": "2024-06-10T17:59:46.463Z"
   },
   {
    "duration": 61,
    "start_time": "2024-06-10T17:59:46.488Z"
   },
   {
    "duration": 21,
    "start_time": "2024-06-10T17:59:46.550Z"
   },
   {
    "duration": 16,
    "start_time": "2024-06-10T17:59:46.573Z"
   },
   {
    "duration": 31,
    "start_time": "2024-06-10T17:59:46.591Z"
   },
   {
    "duration": 13,
    "start_time": "2024-06-10T17:59:46.624Z"
   },
   {
    "duration": 94,
    "start_time": "2024-06-10T17:59:46.638Z"
   },
   {
    "duration": 12,
    "start_time": "2024-06-10T17:59:46.734Z"
   },
   {
    "duration": 19,
    "start_time": "2024-06-10T17:59:46.748Z"
   },
   {
    "duration": 28,
    "start_time": "2024-06-10T17:59:46.770Z"
   },
   {
    "duration": 578,
    "start_time": "2024-06-10T17:59:46.800Z"
   },
   {
    "duration": 21,
    "start_time": "2024-06-10T17:59:47.380Z"
   },
   {
    "duration": 41,
    "start_time": "2024-06-10T17:59:47.403Z"
   },
   {
    "duration": 20,
    "start_time": "2024-06-10T17:59:47.445Z"
   },
   {
    "duration": 101,
    "start_time": "2024-06-10T17:59:47.467Z"
   },
   {
    "duration": 53,
    "start_time": "2024-06-10T17:59:47.570Z"
   },
   {
    "duration": 65,
    "start_time": "2024-06-10T17:59:47.625Z"
   },
   {
    "duration": 82,
    "start_time": "2024-06-10T17:59:47.691Z"
   },
   {
    "duration": 47,
    "start_time": "2024-06-10T17:59:47.775Z"
   },
   {
    "duration": 104,
    "start_time": "2024-06-10T17:59:47.824Z"
   },
   {
    "duration": 84,
    "start_time": "2024-06-10T18:03:41.953Z"
   },
   {
    "duration": 59,
    "start_time": "2024-06-10T18:12:03.626Z"
   },
   {
    "duration": 792,
    "start_time": "2024-06-10T18:12:08.763Z"
   },
   {
    "duration": 304,
    "start_time": "2024-06-10T18:12:09.557Z"
   },
   {
    "duration": 4,
    "start_time": "2024-06-10T18:12:09.863Z"
   },
   {
    "duration": 96,
    "start_time": "2024-06-10T18:12:09.870Z"
   },
   {
    "duration": 222,
    "start_time": "2024-06-10T18:12:09.968Z"
   },
   {
    "duration": 5,
    "start_time": "2024-06-10T18:12:10.191Z"
   },
   {
    "duration": 26,
    "start_time": "2024-06-10T18:12:10.198Z"
   },
   {
    "duration": 58,
    "start_time": "2024-06-10T18:12:10.225Z"
   },
   {
    "duration": 13,
    "start_time": "2024-06-10T18:12:10.284Z"
   },
   {
    "duration": 22,
    "start_time": "2024-06-10T18:12:10.299Z"
   },
   {
    "duration": 29,
    "start_time": "2024-06-10T18:12:10.323Z"
   },
   {
    "duration": 16,
    "start_time": "2024-06-10T18:12:10.354Z"
   },
   {
    "duration": 393,
    "start_time": "2024-06-10T18:12:10.372Z"
   },
   {
    "duration": 11,
    "start_time": "2024-06-10T18:12:10.766Z"
   },
   {
    "duration": 38,
    "start_time": "2024-06-10T18:12:10.778Z"
   },
   {
    "duration": 11,
    "start_time": "2024-06-10T18:12:10.817Z"
   },
   {
    "duration": 13,
    "start_time": "2024-06-10T18:12:10.830Z"
   },
   {
    "duration": 402,
    "start_time": "2024-06-10T18:12:10.845Z"
   },
   {
    "duration": 10,
    "start_time": "2024-06-10T18:12:11.248Z"
   },
   {
    "duration": 86,
    "start_time": "2024-06-10T18:12:11.260Z"
   },
   {
    "duration": 51,
    "start_time": "2024-06-10T18:12:11.347Z"
   },
   {
    "duration": 1986,
    "start_time": "2024-06-10T18:12:11.446Z"
   },
   {
    "duration": 17,
    "start_time": "2024-06-10T18:12:13.433Z"
   },
   {
    "duration": 13,
    "start_time": "2024-06-10T18:12:13.452Z"
   },
   {
    "duration": 18,
    "start_time": "2024-06-10T18:12:13.467Z"
   },
   {
    "duration": 843,
    "start_time": "2024-06-10T18:12:13.487Z"
   },
   {
    "duration": 14,
    "start_time": "2024-06-10T18:12:14.332Z"
   },
   {
    "duration": 9,
    "start_time": "2024-06-10T18:12:14.350Z"
   },
   {
    "duration": 13,
    "start_time": "2024-06-10T18:12:14.361Z"
   },
   {
    "duration": 69,
    "start_time": "2024-06-10T18:12:14.376Z"
   },
   {
    "duration": 609,
    "start_time": "2024-06-10T18:12:14.447Z"
   },
   {
    "duration": 21,
    "start_time": "2024-06-10T18:12:15.058Z"
   },
   {
    "duration": 135,
    "start_time": "2024-06-10T18:12:15.081Z"
   },
   {
    "duration": 252,
    "start_time": "2024-06-10T18:12:15.218Z"
   },
   {
    "duration": 1274,
    "start_time": "2024-06-10T18:12:15.471Z"
   },
   {
    "duration": 99,
    "start_time": "2024-06-10T18:12:16.747Z"
   },
   {
    "duration": 8,
    "start_time": "2024-06-10T18:12:16.847Z"
   },
   {
    "duration": 12,
    "start_time": "2024-06-10T18:12:16.857Z"
   },
   {
    "duration": 32,
    "start_time": "2024-06-10T18:12:16.871Z"
   },
   {
    "duration": 42,
    "start_time": "2024-06-10T18:12:16.904Z"
   },
   {
    "duration": 6,
    "start_time": "2024-06-10T18:12:16.948Z"
   },
   {
    "duration": 52,
    "start_time": "2024-06-10T18:12:16.956Z"
   },
   {
    "duration": 36,
    "start_time": "2024-06-10T18:12:17.010Z"
   },
   {
    "duration": 16,
    "start_time": "2024-06-10T18:12:17.049Z"
   },
   {
    "duration": 15,
    "start_time": "2024-06-10T18:12:17.066Z"
   },
   {
    "duration": 16,
    "start_time": "2024-06-10T18:12:17.083Z"
   },
   {
    "duration": 18,
    "start_time": "2024-06-10T18:12:17.101Z"
   },
   {
    "duration": 505,
    "start_time": "2024-06-10T18:12:17.122Z"
   },
   {
    "duration": 32,
    "start_time": "2024-06-10T18:12:17.628Z"
   },
   {
    "duration": 21,
    "start_time": "2024-06-10T18:12:17.662Z"
   },
   {
    "duration": 7,
    "start_time": "2024-06-10T18:12:17.685Z"
   },
   {
    "duration": 71,
    "start_time": "2024-06-10T18:12:17.694Z"
   },
   {
    "duration": 46,
    "start_time": "2024-06-10T18:12:17.766Z"
   },
   {
    "duration": 59,
    "start_time": "2024-06-10T18:12:17.814Z"
   },
   {
    "duration": 81,
    "start_time": "2024-06-10T18:12:17.874Z"
   },
   {
    "duration": 54,
    "start_time": "2024-06-10T18:12:17.957Z"
   },
   {
    "duration": 103,
    "start_time": "2024-06-10T18:12:18.012Z"
   },
   {
    "duration": 173,
    "start_time": "2024-06-10T18:15:47.279Z"
   },
   {
    "duration": 60,
    "start_time": "2024-06-10T18:16:05.292Z"
   },
   {
    "duration": 1104,
    "start_time": "2024-06-11T03:45:55.823Z"
   },
   {
    "duration": 389,
    "start_time": "2024-06-11T03:45:56.930Z"
   },
   {
    "duration": 4,
    "start_time": "2024-06-11T03:45:57.321Z"
   },
   {
    "duration": 70,
    "start_time": "2024-06-11T03:45:57.327Z"
   },
   {
    "duration": 277,
    "start_time": "2024-06-11T03:45:57.399Z"
   },
   {
    "duration": 7,
    "start_time": "2024-06-11T03:45:57.683Z"
   },
   {
    "duration": 4,
    "start_time": "2024-06-11T03:45:57.693Z"
   },
   {
    "duration": 31,
    "start_time": "2024-06-11T03:45:57.699Z"
   },
   {
    "duration": 11,
    "start_time": "2024-06-11T03:45:57.732Z"
   },
   {
    "duration": 34,
    "start_time": "2024-06-11T03:45:57.764Z"
   },
   {
    "duration": 16,
    "start_time": "2024-06-11T03:45:57.800Z"
   },
   {
    "duration": 18,
    "start_time": "2024-06-11T03:45:57.818Z"
   },
   {
    "duration": 434,
    "start_time": "2024-06-11T03:45:57.838Z"
   },
   {
    "duration": 18,
    "start_time": "2024-06-11T03:45:58.278Z"
   },
   {
    "duration": 17,
    "start_time": "2024-06-11T03:45:58.298Z"
   },
   {
    "duration": 7,
    "start_time": "2024-06-11T03:45:58.317Z"
   },
   {
    "duration": 11,
    "start_time": "2024-06-11T03:45:58.326Z"
   },
   {
    "duration": 502,
    "start_time": "2024-06-11T03:45:58.339Z"
   },
   {
    "duration": 10,
    "start_time": "2024-06-11T03:45:58.843Z"
   },
   {
    "duration": 47,
    "start_time": "2024-06-11T03:45:58.855Z"
   },
   {
    "duration": 100,
    "start_time": "2024-06-11T03:45:58.904Z"
   },
   {
    "duration": 2259,
    "start_time": "2024-06-11T03:45:59.005Z"
   },
   {
    "duration": 20,
    "start_time": "2024-06-11T03:46:01.266Z"
   },
   {
    "duration": 89,
    "start_time": "2024-06-11T03:46:01.288Z"
   },
   {
    "duration": 70,
    "start_time": "2024-06-11T03:46:01.381Z"
   },
   {
    "duration": 1048,
    "start_time": "2024-06-11T03:46:01.453Z"
   },
   {
    "duration": 9,
    "start_time": "2024-06-11T03:46:02.504Z"
   },
   {
    "duration": 73,
    "start_time": "2024-06-11T03:46:02.518Z"
   },
   {
    "duration": 7,
    "start_time": "2024-06-11T03:46:02.593Z"
   },
   {
    "duration": 6,
    "start_time": "2024-06-11T03:46:02.602Z"
   },
   {
    "duration": 714,
    "start_time": "2024-06-11T03:46:02.609Z"
   },
   {
    "duration": 21,
    "start_time": "2024-06-11T03:46:03.325Z"
   },
   {
    "duration": 25,
    "start_time": "2024-06-11T03:46:03.364Z"
   },
   {
    "duration": 10,
    "start_time": "2024-06-11T03:46:03.391Z"
   },
   {
    "duration": 1320,
    "start_time": "2024-06-11T03:46:03.403Z"
   },
   {
    "duration": 111,
    "start_time": "2024-06-11T03:46:04.724Z"
   },
   {
    "duration": 8,
    "start_time": "2024-06-11T03:46:04.837Z"
   },
   {
    "duration": 29,
    "start_time": "2024-06-11T03:46:04.846Z"
   },
   {
    "duration": 35,
    "start_time": "2024-06-11T03:46:04.877Z"
   },
   {
    "duration": 16,
    "start_time": "2024-06-11T03:46:04.913Z"
   },
   {
    "duration": 8,
    "start_time": "2024-06-11T03:46:04.930Z"
   },
   {
    "duration": 32,
    "start_time": "2024-06-11T03:46:04.940Z"
   },
   {
    "duration": 18,
    "start_time": "2024-06-11T03:46:04.974Z"
   },
   {
    "duration": 11,
    "start_time": "2024-06-11T03:46:04.993Z"
   },
   {
    "duration": 16,
    "start_time": "2024-06-11T03:46:05.006Z"
   },
   {
    "duration": 9,
    "start_time": "2024-06-11T03:46:05.023Z"
   },
   {
    "duration": 17,
    "start_time": "2024-06-11T03:46:05.034Z"
   },
   {
    "duration": 558,
    "start_time": "2024-06-11T03:46:05.053Z"
   },
   {
    "duration": 27,
    "start_time": "2024-06-11T03:46:05.613Z"
   },
   {
    "duration": 29,
    "start_time": "2024-06-11T03:46:05.642Z"
   },
   {
    "duration": 12,
    "start_time": "2024-06-11T03:46:05.674Z"
   },
   {
    "duration": 89,
    "start_time": "2024-06-11T03:46:05.692Z"
   },
   {
    "duration": 52,
    "start_time": "2024-06-11T03:46:05.782Z"
   },
   {
    "duration": 99,
    "start_time": "2024-06-11T03:46:05.836Z"
   },
   {
    "duration": 85,
    "start_time": "2024-06-11T03:46:05.937Z"
   },
   {
    "duration": 74,
    "start_time": "2024-06-11T03:46:06.024Z"
   },
   {
    "duration": 107,
    "start_time": "2024-06-11T03:46:06.100Z"
   },
   {
    "duration": 46,
    "start_time": "2024-06-11T03:47:07.875Z"
   },
   {
    "duration": 32,
    "start_time": "2024-06-11T03:47:10.803Z"
   },
   {
    "duration": 65,
    "start_time": "2024-06-11T03:47:28.148Z"
   },
   {
    "duration": 150,
    "start_time": "2024-06-11T03:50:31.483Z"
   },
   {
    "duration": 44,
    "start_time": "2024-06-11T03:50:40.512Z"
   },
   {
    "duration": 850,
    "start_time": "2024-06-11T03:50:52.259Z"
   },
   {
    "duration": 327,
    "start_time": "2024-06-11T03:50:53.111Z"
   },
   {
    "duration": 6,
    "start_time": "2024-06-11T03:50:53.439Z"
   },
   {
    "duration": 67,
    "start_time": "2024-06-11T03:50:53.447Z"
   },
   {
    "duration": 275,
    "start_time": "2024-06-11T03:50:53.515Z"
   },
   {
    "duration": 5,
    "start_time": "2024-06-11T03:50:53.791Z"
   },
   {
    "duration": 7,
    "start_time": "2024-06-11T03:50:53.798Z"
   },
   {
    "duration": 41,
    "start_time": "2024-06-11T03:50:53.806Z"
   },
   {
    "duration": 31,
    "start_time": "2024-06-11T03:50:53.849Z"
   },
   {
    "duration": 27,
    "start_time": "2024-06-11T03:50:53.886Z"
   },
   {
    "duration": 16,
    "start_time": "2024-06-11T03:50:53.915Z"
   },
   {
    "duration": 48,
    "start_time": "2024-06-11T03:50:53.933Z"
   },
   {
    "duration": 439,
    "start_time": "2024-06-11T03:50:53.982Z"
   },
   {
    "duration": 11,
    "start_time": "2024-06-11T03:50:54.422Z"
   },
   {
    "duration": 45,
    "start_time": "2024-06-11T03:50:54.435Z"
   },
   {
    "duration": 8,
    "start_time": "2024-06-11T03:50:54.487Z"
   },
   {
    "duration": 11,
    "start_time": "2024-06-11T03:50:54.497Z"
   },
   {
    "duration": 459,
    "start_time": "2024-06-11T03:50:54.509Z"
   },
   {
    "duration": 14,
    "start_time": "2024-06-11T03:50:54.982Z"
   },
   {
    "duration": 94,
    "start_time": "2024-06-11T03:50:54.998Z"
   },
   {
    "duration": 107,
    "start_time": "2024-06-11T03:50:55.093Z"
   },
   {
    "duration": 2142,
    "start_time": "2024-06-11T03:50:55.202Z"
   },
   {
    "duration": 37,
    "start_time": "2024-06-11T03:50:57.347Z"
   },
   {
    "duration": 9,
    "start_time": "2024-06-11T03:50:57.387Z"
   },
   {
    "duration": 6,
    "start_time": "2024-06-11T03:50:57.398Z"
   },
   {
    "duration": 897,
    "start_time": "2024-06-11T03:50:57.406Z"
   },
   {
    "duration": 13,
    "start_time": "2024-06-11T03:50:58.305Z"
   },
   {
    "duration": 4,
    "start_time": "2024-06-11T03:50:58.323Z"
   },
   {
    "duration": 6,
    "start_time": "2024-06-11T03:50:58.329Z"
   },
   {
    "duration": 33,
    "start_time": "2024-06-11T03:50:58.337Z"
   },
   {
    "duration": 630,
    "start_time": "2024-06-11T03:50:58.373Z"
   },
   {
    "duration": 20,
    "start_time": "2024-06-11T03:50:59.005Z"
   },
   {
    "duration": 7,
    "start_time": "2024-06-11T03:50:59.027Z"
   },
   {
    "duration": 33,
    "start_time": "2024-06-11T03:50:59.035Z"
   },
   {
    "duration": 1325,
    "start_time": "2024-06-11T03:50:59.072Z"
   },
   {
    "duration": 133,
    "start_time": "2024-06-11T03:51:00.399Z"
   },
   {
    "duration": 8,
    "start_time": "2024-06-11T03:51:00.534Z"
   },
   {
    "duration": 96,
    "start_time": "2024-06-11T03:51:00.544Z"
   },
   {
    "duration": 69,
    "start_time": "2024-06-11T03:51:00.641Z"
   },
   {
    "duration": 36,
    "start_time": "2024-06-11T03:51:00.712Z"
   },
   {
    "duration": 44,
    "start_time": "2024-06-11T03:51:00.750Z"
   },
   {
    "duration": 141,
    "start_time": "2024-06-11T03:51:00.795Z"
   },
   {
    "duration": 84,
    "start_time": "2024-06-11T03:51:00.938Z"
   },
   {
    "duration": 63,
    "start_time": "2024-06-11T03:51:01.024Z"
   },
   {
    "duration": 46,
    "start_time": "2024-06-11T03:51:01.088Z"
   },
   {
    "duration": 56,
    "start_time": "2024-06-11T03:51:01.135Z"
   },
   {
    "duration": 106,
    "start_time": "2024-06-11T03:51:01.193Z"
   },
   {
    "duration": 583,
    "start_time": "2024-06-11T03:51:01.300Z"
   },
   {
    "duration": 24,
    "start_time": "2024-06-11T03:51:01.888Z"
   },
   {
    "duration": 57,
    "start_time": "2024-06-11T03:51:01.914Z"
   },
   {
    "duration": 62,
    "start_time": "2024-06-11T03:51:01.973Z"
   },
   {
    "duration": 110,
    "start_time": "2024-06-11T03:51:02.037Z"
   },
   {
    "duration": 61,
    "start_time": "2024-06-11T03:51:02.148Z"
   },
   {
    "duration": 69,
    "start_time": "2024-06-11T03:51:02.210Z"
   },
   {
    "duration": 78,
    "start_time": "2024-06-11T03:51:02.285Z"
   },
   {
    "duration": 67,
    "start_time": "2024-06-11T03:51:02.365Z"
   },
   {
    "duration": 94,
    "start_time": "2024-06-11T03:51:02.434Z"
   },
   {
    "duration": 850,
    "start_time": "2024-06-11T03:53:03.472Z"
   },
   {
    "duration": 373,
    "start_time": "2024-06-11T03:53:04.323Z"
   },
   {
    "duration": 4,
    "start_time": "2024-06-11T03:53:04.698Z"
   },
   {
    "duration": 81,
    "start_time": "2024-06-11T03:53:04.704Z"
   },
   {
    "duration": 247,
    "start_time": "2024-06-11T03:53:04.790Z"
   },
   {
    "duration": 5,
    "start_time": "2024-06-11T03:53:05.038Z"
   },
   {
    "duration": 23,
    "start_time": "2024-06-11T03:53:05.045Z"
   },
   {
    "duration": 37,
    "start_time": "2024-06-11T03:53:05.078Z"
   },
   {
    "duration": 13,
    "start_time": "2024-06-11T03:53:05.117Z"
   },
   {
    "duration": 54,
    "start_time": "2024-06-11T03:53:05.133Z"
   },
   {
    "duration": 15,
    "start_time": "2024-06-11T03:53:05.190Z"
   },
   {
    "duration": 17,
    "start_time": "2024-06-11T03:53:05.207Z"
   },
   {
    "duration": 401,
    "start_time": "2024-06-11T03:53:05.226Z"
   },
   {
    "duration": 12,
    "start_time": "2024-06-11T03:53:05.628Z"
   },
   {
    "duration": 47,
    "start_time": "2024-06-11T03:53:05.642Z"
   },
   {
    "duration": 7,
    "start_time": "2024-06-11T03:53:05.692Z"
   },
   {
    "duration": 11,
    "start_time": "2024-06-11T03:53:05.700Z"
   },
   {
    "duration": 480,
    "start_time": "2024-06-11T03:53:05.714Z"
   },
   {
    "duration": 14,
    "start_time": "2024-06-11T03:53:06.196Z"
   },
   {
    "duration": 91,
    "start_time": "2024-06-11T03:53:06.212Z"
   },
   {
    "duration": 125,
    "start_time": "2024-06-11T03:53:06.305Z"
   },
   {
    "duration": 2227,
    "start_time": "2024-06-11T03:53:06.432Z"
   },
   {
    "duration": 27,
    "start_time": "2024-06-11T03:53:08.665Z"
   },
   {
    "duration": 14,
    "start_time": "2024-06-11T03:53:08.693Z"
   },
   {
    "duration": 16,
    "start_time": "2024-06-11T03:53:08.709Z"
   },
   {
    "duration": 881,
    "start_time": "2024-06-11T03:53:08.727Z"
   },
   {
    "duration": 10,
    "start_time": "2024-06-11T03:53:09.610Z"
   },
   {
    "duration": 45,
    "start_time": "2024-06-11T03:53:09.625Z"
   },
   {
    "duration": 23,
    "start_time": "2024-06-11T03:53:09.671Z"
   },
   {
    "duration": 44,
    "start_time": "2024-06-11T03:53:09.696Z"
   },
   {
    "duration": 710,
    "start_time": "2024-06-11T03:53:09.742Z"
   },
   {
    "duration": 35,
    "start_time": "2024-06-11T03:53:10.454Z"
   },
   {
    "duration": 24,
    "start_time": "2024-06-11T03:53:10.491Z"
   },
   {
    "duration": 54,
    "start_time": "2024-06-11T03:53:10.517Z"
   },
   {
    "duration": 1400,
    "start_time": "2024-06-11T03:53:10.572Z"
   },
   {
    "duration": 137,
    "start_time": "2024-06-11T03:53:11.974Z"
   },
   {
    "duration": 10,
    "start_time": "2024-06-11T03:53:12.114Z"
   },
   {
    "duration": 33,
    "start_time": "2024-06-11T03:53:12.126Z"
   },
   {
    "duration": 61,
    "start_time": "2024-06-11T03:53:12.160Z"
   },
   {
    "duration": 27,
    "start_time": "2024-06-11T03:53:12.222Z"
   },
   {
    "duration": 38,
    "start_time": "2024-06-11T03:53:12.250Z"
   },
   {
    "duration": 61,
    "start_time": "2024-06-11T03:53:12.290Z"
   },
   {
    "duration": 35,
    "start_time": "2024-06-11T03:53:12.352Z"
   },
   {
    "duration": 37,
    "start_time": "2024-06-11T03:53:12.389Z"
   },
   {
    "duration": 34,
    "start_time": "2024-06-11T03:53:12.428Z"
   },
   {
    "duration": 44,
    "start_time": "2024-06-11T03:53:12.464Z"
   },
   {
    "duration": 64,
    "start_time": "2024-06-11T03:53:12.509Z"
   },
   {
    "duration": 564,
    "start_time": "2024-06-11T03:53:12.575Z"
   },
   {
    "duration": 48,
    "start_time": "2024-06-11T03:53:13.141Z"
   },
   {
    "duration": 8,
    "start_time": "2024-06-11T03:53:13.191Z"
   },
   {
    "duration": 19,
    "start_time": "2024-06-11T03:53:13.200Z"
   },
   {
    "duration": 105,
    "start_time": "2024-06-11T03:53:13.221Z"
   },
   {
    "duration": 68,
    "start_time": "2024-06-11T03:53:13.328Z"
   },
   {
    "duration": 45,
    "start_time": "2024-06-11T03:53:13.398Z"
   },
   {
    "duration": 94,
    "start_time": "2024-06-11T03:53:13.445Z"
   },
   {
    "duration": 65,
    "start_time": "2024-06-11T03:53:13.541Z"
   },
   {
    "duration": 95,
    "start_time": "2024-06-11T03:53:13.608Z"
   },
   {
    "duration": 832,
    "start_time": "2024-06-11T03:54:14.583Z"
   },
   {
    "duration": 309,
    "start_time": "2024-06-11T03:54:15.417Z"
   },
   {
    "duration": 4,
    "start_time": "2024-06-11T03:54:15.728Z"
   },
   {
    "duration": 84,
    "start_time": "2024-06-11T03:54:15.734Z"
   },
   {
    "duration": 284,
    "start_time": "2024-06-11T03:54:15.819Z"
   },
   {
    "duration": 5,
    "start_time": "2024-06-11T03:54:16.105Z"
   },
   {
    "duration": 7,
    "start_time": "2024-06-11T03:54:16.112Z"
   },
   {
    "duration": 44,
    "start_time": "2024-06-11T03:54:16.120Z"
   },
   {
    "duration": 23,
    "start_time": "2024-06-11T03:54:16.166Z"
   },
   {
    "duration": 25,
    "start_time": "2024-06-11T03:54:16.194Z"
   },
   {
    "duration": 17,
    "start_time": "2024-06-11T03:54:16.221Z"
   },
   {
    "duration": 55,
    "start_time": "2024-06-11T03:54:16.240Z"
   },
   {
    "duration": 454,
    "start_time": "2024-06-11T03:54:16.297Z"
   },
   {
    "duration": 16,
    "start_time": "2024-06-11T03:54:16.753Z"
   },
   {
    "duration": 25,
    "start_time": "2024-06-11T03:54:16.771Z"
   },
   {
    "duration": 6,
    "start_time": "2024-06-11T03:54:16.797Z"
   },
   {
    "duration": 10,
    "start_time": "2024-06-11T03:54:16.805Z"
   },
   {
    "duration": 541,
    "start_time": "2024-06-11T03:54:16.817Z"
   },
   {
    "duration": 26,
    "start_time": "2024-06-11T03:54:17.360Z"
   },
   {
    "duration": 88,
    "start_time": "2024-06-11T03:54:17.388Z"
   },
   {
    "duration": 113,
    "start_time": "2024-06-11T03:54:17.477Z"
   },
   {
    "duration": 2145,
    "start_time": "2024-06-11T03:54:17.593Z"
   },
   {
    "duration": 33,
    "start_time": "2024-06-11T03:54:19.740Z"
   },
   {
    "duration": 12,
    "start_time": "2024-06-11T03:54:19.782Z"
   },
   {
    "duration": 6,
    "start_time": "2024-06-11T03:54:19.796Z"
   },
   {
    "duration": 903,
    "start_time": "2024-06-11T03:54:19.804Z"
   },
   {
    "duration": 9,
    "start_time": "2024-06-11T03:54:20.709Z"
   },
   {
    "duration": 6,
    "start_time": "2024-06-11T03:54:20.723Z"
   },
   {
    "duration": 19,
    "start_time": "2024-06-11T03:54:20.730Z"
   },
   {
    "duration": 29,
    "start_time": "2024-06-11T03:54:20.751Z"
   },
   {
    "duration": 654,
    "start_time": "2024-06-11T03:54:20.782Z"
   },
   {
    "duration": 35,
    "start_time": "2024-06-11T03:54:21.438Z"
   },
   {
    "duration": 11,
    "start_time": "2024-06-11T03:54:21.479Z"
   },
   {
    "duration": 10,
    "start_time": "2024-06-11T03:54:21.492Z"
   },
   {
    "duration": 1333,
    "start_time": "2024-06-11T03:54:21.504Z"
   },
   {
    "duration": 111,
    "start_time": "2024-06-11T03:54:22.839Z"
   },
   {
    "duration": 36,
    "start_time": "2024-06-11T03:54:22.951Z"
   },
   {
    "duration": 9,
    "start_time": "2024-06-11T03:54:22.988Z"
   },
   {
    "duration": 30,
    "start_time": "2024-06-11T03:54:22.998Z"
   },
   {
    "duration": 14,
    "start_time": "2024-06-11T03:54:23.030Z"
   },
   {
    "duration": 32,
    "start_time": "2024-06-11T03:54:23.046Z"
   },
   {
    "duration": 16,
    "start_time": "2024-06-11T03:54:23.079Z"
   },
   {
    "duration": 7,
    "start_time": "2024-06-11T03:54:23.096Z"
   },
   {
    "duration": 6,
    "start_time": "2024-06-11T03:54:23.104Z"
   },
   {
    "duration": 6,
    "start_time": "2024-06-11T03:54:23.111Z"
   },
   {
    "duration": 5,
    "start_time": "2024-06-11T03:54:23.118Z"
   },
   {
    "duration": 10,
    "start_time": "2024-06-11T03:54:23.124Z"
   },
   {
    "duration": 560,
    "start_time": "2024-06-11T03:54:23.136Z"
   },
   {
    "duration": 23,
    "start_time": "2024-06-11T03:54:23.698Z"
   },
   {
    "duration": 8,
    "start_time": "2024-06-11T03:54:23.722Z"
   },
   {
    "duration": 5,
    "start_time": "2024-06-11T03:54:23.732Z"
   },
   {
    "duration": 73,
    "start_time": "2024-06-11T03:54:23.772Z"
   },
   {
    "duration": 78,
    "start_time": "2024-06-11T03:54:23.846Z"
   },
   {
    "duration": 71,
    "start_time": "2024-06-11T03:54:23.926Z"
   },
   {
    "duration": 79,
    "start_time": "2024-06-11T03:54:23.999Z"
   },
   {
    "duration": 56,
    "start_time": "2024-06-11T03:54:24.080Z"
   },
   {
    "duration": 109,
    "start_time": "2024-06-11T03:54:24.138Z"
   },
   {
    "duration": 883,
    "start_time": "2024-06-11T03:57:08.586Z"
   },
   {
    "duration": 498,
    "start_time": "2024-06-11T03:57:09.476Z"
   },
   {
    "duration": 7,
    "start_time": "2024-06-11T03:57:09.977Z"
   },
   {
    "duration": 193,
    "start_time": "2024-06-11T03:57:09.988Z"
   },
   {
    "duration": 677,
    "start_time": "2024-06-11T03:57:10.186Z"
   },
   {
    "duration": 13,
    "start_time": "2024-06-11T03:57:10.866Z"
   },
   {
    "duration": 5,
    "start_time": "2024-06-11T03:57:10.881Z"
   },
   {
    "duration": 103,
    "start_time": "2024-06-11T03:57:10.888Z"
   },
   {
    "duration": 76,
    "start_time": "2024-06-11T03:57:10.996Z"
   },
   {
    "duration": 29,
    "start_time": "2024-06-11T03:57:11.084Z"
   },
   {
    "duration": 80,
    "start_time": "2024-06-11T03:57:11.115Z"
   },
   {
    "duration": 70,
    "start_time": "2024-06-11T03:57:11.198Z"
   },
   {
    "duration": 921,
    "start_time": "2024-06-11T03:57:11.276Z"
   },
   {
    "duration": 14,
    "start_time": "2024-06-11T03:57:12.208Z"
   },
   {
    "duration": 16,
    "start_time": "2024-06-11T03:57:12.224Z"
   },
   {
    "duration": 14,
    "start_time": "2024-06-11T03:57:12.242Z"
   },
   {
    "duration": 13,
    "start_time": "2024-06-11T03:57:12.258Z"
   },
   {
    "duration": 465,
    "start_time": "2024-06-11T03:57:12.273Z"
   },
   {
    "duration": 12,
    "start_time": "2024-06-11T03:57:12.739Z"
   },
   {
    "duration": 48,
    "start_time": "2024-06-11T03:57:12.761Z"
   },
   {
    "duration": 125,
    "start_time": "2024-06-11T03:57:12.861Z"
   },
   {
    "duration": 2139,
    "start_time": "2024-06-11T03:57:12.990Z"
   },
   {
    "duration": 15,
    "start_time": "2024-06-11T03:57:15.131Z"
   },
   {
    "duration": 26,
    "start_time": "2024-06-11T03:57:15.167Z"
   },
   {
    "duration": 34,
    "start_time": "2024-06-11T03:57:15.195Z"
   },
   {
    "duration": 947,
    "start_time": "2024-06-11T03:57:15.231Z"
   },
   {
    "duration": 13,
    "start_time": "2024-06-11T03:57:16.180Z"
   },
   {
    "duration": 19,
    "start_time": "2024-06-11T03:57:16.197Z"
   },
   {
    "duration": 12,
    "start_time": "2024-06-11T03:57:16.218Z"
   },
   {
    "duration": 15,
    "start_time": "2024-06-11T03:57:16.232Z"
   },
   {
    "duration": 658,
    "start_time": "2024-06-11T03:57:16.249Z"
   },
   {
    "duration": 22,
    "start_time": "2024-06-11T03:57:16.910Z"
   },
   {
    "duration": 35,
    "start_time": "2024-06-11T03:57:16.934Z"
   },
   {
    "duration": 50,
    "start_time": "2024-06-11T03:57:16.970Z"
   },
   {
    "duration": 1391,
    "start_time": "2024-06-11T03:57:17.022Z"
   },
   {
    "duration": 113,
    "start_time": "2024-06-11T03:57:18.414Z"
   },
   {
    "duration": 8,
    "start_time": "2024-06-11T03:57:18.528Z"
   },
   {
    "duration": 32,
    "start_time": "2024-06-11T03:57:18.537Z"
   },
   {
    "duration": 74,
    "start_time": "2024-06-11T03:57:18.575Z"
   },
   {
    "duration": 50,
    "start_time": "2024-06-11T03:57:18.651Z"
   },
   {
    "duration": 81,
    "start_time": "2024-06-11T03:57:18.702Z"
   },
   {
    "duration": 37,
    "start_time": "2024-06-11T03:57:18.790Z"
   },
   {
    "duration": 22,
    "start_time": "2024-06-11T03:57:18.828Z"
   },
   {
    "duration": 37,
    "start_time": "2024-06-11T03:57:18.852Z"
   },
   {
    "duration": 62,
    "start_time": "2024-06-11T03:57:18.894Z"
   },
   {
    "duration": 47,
    "start_time": "2024-06-11T03:57:18.958Z"
   },
   {
    "duration": 43,
    "start_time": "2024-06-11T03:57:19.006Z"
   },
   {
    "duration": 685,
    "start_time": "2024-06-11T03:57:19.051Z"
   },
   {
    "duration": 50,
    "start_time": "2024-06-11T03:57:19.738Z"
   },
   {
    "duration": 104,
    "start_time": "2024-06-11T03:57:19.790Z"
   },
   {
    "duration": 33,
    "start_time": "2024-06-11T03:57:19.895Z"
   },
   {
    "duration": 83,
    "start_time": "2024-06-11T03:57:19.930Z"
   },
   {
    "duration": 30,
    "start_time": "2024-06-11T03:57:20.015Z"
   },
   {
    "duration": 40,
    "start_time": "2024-06-11T03:57:20.046Z"
   },
   {
    "duration": 36,
    "start_time": "2024-06-11T03:57:20.088Z"
   },
   {
    "duration": 53,
    "start_time": "2024-06-11T03:57:20.126Z"
   },
   {
    "duration": 108,
    "start_time": "2024-06-11T03:57:20.180Z"
   },
   {
    "duration": 870,
    "start_time": "2024-06-11T04:00:56.459Z"
   },
   {
    "duration": 421,
    "start_time": "2024-06-11T04:00:57.331Z"
   },
   {
    "duration": 5,
    "start_time": "2024-06-11T04:00:57.753Z"
   },
   {
    "duration": 67,
    "start_time": "2024-06-11T04:00:57.761Z"
   },
   {
    "duration": 277,
    "start_time": "2024-06-11T04:00:57.830Z"
   },
   {
    "duration": 5,
    "start_time": "2024-06-11T04:00:58.109Z"
   },
   {
    "duration": 8,
    "start_time": "2024-06-11T04:00:58.115Z"
   },
   {
    "duration": 47,
    "start_time": "2024-06-11T04:00:58.130Z"
   },
   {
    "duration": 18,
    "start_time": "2024-06-11T04:00:58.183Z"
   },
   {
    "duration": 22,
    "start_time": "2024-06-11T04:00:58.204Z"
   },
   {
    "duration": 44,
    "start_time": "2024-06-11T04:00:58.227Z"
   },
   {
    "duration": 26,
    "start_time": "2024-06-11T04:00:58.272Z"
   },
   {
    "duration": 390,
    "start_time": "2024-06-11T04:00:58.299Z"
   },
   {
    "duration": 11,
    "start_time": "2024-06-11T04:00:58.690Z"
   },
   {
    "duration": 17,
    "start_time": "2024-06-11T04:00:58.703Z"
   },
   {
    "duration": 12,
    "start_time": "2024-06-11T04:00:58.722Z"
   },
   {
    "duration": 38,
    "start_time": "2024-06-11T04:00:58.736Z"
   },
   {
    "duration": 449,
    "start_time": "2024-06-11T04:00:58.781Z"
   },
   {
    "duration": 11,
    "start_time": "2024-06-11T04:00:59.231Z"
   },
   {
    "duration": 125,
    "start_time": "2024-06-11T04:00:59.243Z"
   },
   {
    "duration": 105,
    "start_time": "2024-06-11T04:00:59.378Z"
   },
   {
    "duration": 2214,
    "start_time": "2024-06-11T04:00:59.485Z"
   },
   {
    "duration": 15,
    "start_time": "2024-06-11T04:01:01.701Z"
   },
   {
    "duration": 107,
    "start_time": "2024-06-11T04:01:01.717Z"
   },
   {
    "duration": 98,
    "start_time": "2024-06-11T04:01:01.826Z"
   },
   {
    "duration": 968,
    "start_time": "2024-06-11T04:01:01.926Z"
   },
   {
    "duration": 9,
    "start_time": "2024-06-11T04:01:02.895Z"
   },
   {
    "duration": 19,
    "start_time": "2024-06-11T04:01:02.908Z"
   },
   {
    "duration": 6,
    "start_time": "2024-06-11T04:01:02.929Z"
   },
   {
    "duration": 9,
    "start_time": "2024-06-11T04:01:02.937Z"
   },
   {
    "duration": 671,
    "start_time": "2024-06-11T04:01:02.947Z"
   },
   {
    "duration": 22,
    "start_time": "2024-06-11T04:01:03.619Z"
   },
   {
    "duration": 36,
    "start_time": "2024-06-11T04:01:03.643Z"
   },
   {
    "duration": 15,
    "start_time": "2024-06-11T04:01:03.681Z"
   },
   {
    "duration": 1356,
    "start_time": "2024-06-11T04:01:03.698Z"
   },
   {
    "duration": 128,
    "start_time": "2024-06-11T04:01:05.056Z"
   },
   {
    "duration": 11,
    "start_time": "2024-06-11T04:01:05.186Z"
   },
   {
    "duration": 23,
    "start_time": "2024-06-11T04:01:05.199Z"
   },
   {
    "duration": 26,
    "start_time": "2024-06-11T04:01:05.224Z"
   },
   {
    "duration": 36,
    "start_time": "2024-06-11T04:01:05.252Z"
   },
   {
    "duration": 7,
    "start_time": "2024-06-11T04:01:05.291Z"
   },
   {
    "duration": 14,
    "start_time": "2024-06-11T04:01:05.300Z"
   },
   {
    "duration": 6,
    "start_time": "2024-06-11T04:01:05.317Z"
   },
   {
    "duration": 8,
    "start_time": "2024-06-11T04:01:05.324Z"
   },
   {
    "duration": 14,
    "start_time": "2024-06-11T04:01:05.333Z"
   },
   {
    "duration": 27,
    "start_time": "2024-06-11T04:01:05.348Z"
   },
   {
    "duration": 14,
    "start_time": "2024-06-11T04:01:05.377Z"
   },
   {
    "duration": 696,
    "start_time": "2024-06-11T04:01:05.393Z"
   },
   {
    "duration": 23,
    "start_time": "2024-06-11T04:01:06.092Z"
   },
   {
    "duration": 7,
    "start_time": "2024-06-11T04:01:06.117Z"
   },
   {
    "duration": 16,
    "start_time": "2024-06-11T04:01:06.126Z"
   },
   {
    "duration": 53,
    "start_time": "2024-06-11T04:01:06.144Z"
   },
   {
    "duration": 31,
    "start_time": "2024-06-11T04:01:06.198Z"
   },
   {
    "duration": 60,
    "start_time": "2024-06-11T04:01:06.231Z"
   },
   {
    "duration": 37,
    "start_time": "2024-06-11T04:01:06.293Z"
   },
   {
    "duration": 55,
    "start_time": "2024-06-11T04:01:06.332Z"
   },
   {
    "duration": 105,
    "start_time": "2024-06-11T04:01:06.391Z"
   },
   {
    "duration": 797,
    "start_time": "2024-06-11T04:03:50.132Z"
   },
   {
    "duration": 344,
    "start_time": "2024-06-11T04:03:50.931Z"
   },
   {
    "duration": 7,
    "start_time": "2024-06-11T04:03:51.279Z"
   },
   {
    "duration": 55,
    "start_time": "2024-06-11T04:03:51.288Z"
   },
   {
    "duration": 290,
    "start_time": "2024-06-11T04:03:51.345Z"
   },
   {
    "duration": 6,
    "start_time": "2024-06-11T04:03:51.637Z"
   },
   {
    "duration": 33,
    "start_time": "2024-06-11T04:03:51.645Z"
   },
   {
    "duration": 41,
    "start_time": "2024-06-11T04:03:51.680Z"
   },
   {
    "duration": 23,
    "start_time": "2024-06-11T04:03:51.722Z"
   },
   {
    "duration": 32,
    "start_time": "2024-06-11T04:03:51.748Z"
   },
   {
    "duration": 26,
    "start_time": "2024-06-11T04:03:51.782Z"
   },
   {
    "duration": 18,
    "start_time": "2024-06-11T04:03:51.810Z"
   },
   {
    "duration": 436,
    "start_time": "2024-06-11T04:03:51.829Z"
   },
   {
    "duration": 17,
    "start_time": "2024-06-11T04:03:52.274Z"
   },
   {
    "duration": 17,
    "start_time": "2024-06-11T04:03:52.293Z"
   },
   {
    "duration": 17,
    "start_time": "2024-06-11T04:03:52.312Z"
   },
   {
    "duration": 28,
    "start_time": "2024-06-11T04:03:52.331Z"
   },
   {
    "duration": 435,
    "start_time": "2024-06-11T04:03:52.361Z"
   },
   {
    "duration": 15,
    "start_time": "2024-06-11T04:03:52.798Z"
   },
   {
    "duration": 153,
    "start_time": "2024-06-11T04:03:52.816Z"
   },
   {
    "duration": 47,
    "start_time": "2024-06-11T04:03:56.485Z"
   },
   {
    "duration": 2193,
    "start_time": "2024-06-11T04:03:56.534Z"
   },
   {
    "duration": 14,
    "start_time": "2024-06-11T04:03:58.729Z"
   },
   {
    "duration": 29,
    "start_time": "2024-06-11T04:03:58.745Z"
   },
   {
    "duration": 11,
    "start_time": "2024-06-11T04:03:58.778Z"
   },
   {
    "duration": 898,
    "start_time": "2024-06-11T04:03:58.790Z"
   },
   {
    "duration": 9,
    "start_time": "2024-06-11T04:03:59.690Z"
   },
   {
    "duration": 15,
    "start_time": "2024-06-11T04:03:59.701Z"
   },
   {
    "duration": 7,
    "start_time": "2024-06-11T04:03:59.717Z"
   },
   {
    "duration": 8,
    "start_time": "2024-06-11T04:03:59.725Z"
   },
   {
    "duration": 701,
    "start_time": "2024-06-11T04:03:59.734Z"
   },
   {
    "duration": 33,
    "start_time": "2024-06-11T04:04:00.438Z"
   },
   {
    "duration": 50,
    "start_time": "2024-06-11T04:04:00.476Z"
   },
   {
    "duration": 127,
    "start_time": "2024-06-11T04:04:00.527Z"
   },
   {
    "duration": 1467,
    "start_time": "2024-06-11T04:04:00.656Z"
   },
   {
    "duration": 114,
    "start_time": "2024-06-11T04:04:02.125Z"
   },
   {
    "duration": 8,
    "start_time": "2024-06-11T04:04:02.241Z"
   },
   {
    "duration": 27,
    "start_time": "2024-06-11T04:04:02.251Z"
   },
   {
    "duration": 38,
    "start_time": "2024-06-11T04:04:02.287Z"
   },
   {
    "duration": 16,
    "start_time": "2024-06-11T04:04:02.327Z"
   },
   {
    "duration": 32,
    "start_time": "2024-06-11T04:04:02.345Z"
   },
   {
    "duration": 16,
    "start_time": "2024-06-11T04:04:02.388Z"
   },
   {
    "duration": 7,
    "start_time": "2024-06-11T04:04:02.406Z"
   },
   {
    "duration": 10,
    "start_time": "2024-06-11T04:04:02.415Z"
   },
   {
    "duration": 7,
    "start_time": "2024-06-11T04:04:02.427Z"
   },
   {
    "duration": 6,
    "start_time": "2024-06-11T04:04:02.435Z"
   },
   {
    "duration": 28,
    "start_time": "2024-06-11T04:04:02.444Z"
   },
   {
    "duration": 657,
    "start_time": "2024-06-11T04:04:02.474Z"
   },
   {
    "duration": 54,
    "start_time": "2024-06-11T04:04:03.133Z"
   },
   {
    "duration": 8,
    "start_time": "2024-06-11T04:04:03.189Z"
   },
   {
    "duration": 6,
    "start_time": "2024-06-11T04:04:03.199Z"
   },
   {
    "duration": 38,
    "start_time": "2024-06-11T04:04:03.206Z"
   },
   {
    "duration": 39,
    "start_time": "2024-06-11T04:04:03.267Z"
   },
   {
    "duration": 27,
    "start_time": "2024-06-11T04:04:03.308Z"
   },
   {
    "duration": 71,
    "start_time": "2024-06-11T04:04:03.338Z"
   },
   {
    "duration": 31,
    "start_time": "2024-06-11T04:04:03.411Z"
   },
   {
    "duration": 126,
    "start_time": "2024-06-11T04:04:03.443Z"
   },
   {
    "duration": 6,
    "start_time": "2024-06-11T04:51:54.043Z"
   },
   {
    "duration": 800,
    "start_time": "2024-06-11T04:56:46.075Z"
   },
   {
    "duration": 442,
    "start_time": "2024-06-11T04:56:46.877Z"
   },
   {
    "duration": 5,
    "start_time": "2024-06-11T04:56:47.320Z"
   },
   {
    "duration": 59,
    "start_time": "2024-06-11T04:56:47.327Z"
   },
   {
    "duration": 231,
    "start_time": "2024-06-11T04:56:47.388Z"
   },
   {
    "duration": 5,
    "start_time": "2024-06-11T04:56:47.621Z"
   },
   {
    "duration": 15,
    "start_time": "2024-06-11T04:56:47.627Z"
   },
   {
    "duration": 43,
    "start_time": "2024-06-11T04:56:47.644Z"
   },
   {
    "duration": 13,
    "start_time": "2024-06-11T04:56:47.689Z"
   },
   {
    "duration": 23,
    "start_time": "2024-06-11T04:56:47.705Z"
   },
   {
    "duration": 34,
    "start_time": "2024-06-11T04:56:47.730Z"
   },
   {
    "duration": 17,
    "start_time": "2024-06-11T04:56:47.766Z"
   },
   {
    "duration": 415,
    "start_time": "2024-06-11T04:56:47.784Z"
   },
   {
    "duration": 11,
    "start_time": "2024-06-11T04:56:48.201Z"
   },
   {
    "duration": 25,
    "start_time": "2024-06-11T04:56:48.214Z"
   },
   {
    "duration": 26,
    "start_time": "2024-06-11T04:56:48.241Z"
   },
   {
    "duration": 16,
    "start_time": "2024-06-11T04:56:48.268Z"
   },
   {
    "duration": 449,
    "start_time": "2024-06-11T04:56:48.285Z"
   },
   {
    "duration": 11,
    "start_time": "2024-06-11T04:56:48.736Z"
   },
   {
    "duration": 46,
    "start_time": "2024-06-11T04:56:48.749Z"
   },
   {
    "duration": 98,
    "start_time": "2024-06-11T04:56:48.797Z"
   },
   {
    "duration": 1913,
    "start_time": "2024-06-11T04:56:48.896Z"
   },
   {
    "duration": 15,
    "start_time": "2024-06-11T04:56:50.811Z"
   },
   {
    "duration": 13,
    "start_time": "2024-06-11T04:56:50.828Z"
   },
   {
    "duration": 18,
    "start_time": "2024-06-11T04:56:50.843Z"
   },
   {
    "duration": 844,
    "start_time": "2024-06-11T04:56:50.863Z"
   },
   {
    "duration": 10,
    "start_time": "2024-06-11T04:56:51.709Z"
   },
   {
    "duration": 35,
    "start_time": "2024-06-11T04:56:51.723Z"
   },
   {
    "duration": 17,
    "start_time": "2024-06-11T04:56:51.760Z"
   },
   {
    "duration": 20,
    "start_time": "2024-06-11T04:56:51.779Z"
   },
   {
    "duration": 682,
    "start_time": "2024-06-11T04:56:51.801Z"
   },
   {
    "duration": 21,
    "start_time": "2024-06-11T04:56:52.484Z"
   },
   {
    "duration": 6,
    "start_time": "2024-06-11T04:56:52.507Z"
   },
   {
    "duration": 19,
    "start_time": "2024-06-11T04:56:52.515Z"
   },
   {
    "duration": 1243,
    "start_time": "2024-06-11T04:56:52.535Z"
   },
   {
    "duration": 202,
    "start_time": "2024-06-11T04:56:53.780Z"
   },
   {
    "duration": 10,
    "start_time": "2024-06-11T04:56:53.984Z"
   },
   {
    "duration": 86,
    "start_time": "2024-06-11T04:56:53.995Z"
   },
   {
    "duration": 25,
    "start_time": "2024-06-11T04:56:54.083Z"
   },
   {
    "duration": 63,
    "start_time": "2024-06-11T04:56:54.110Z"
   },
   {
    "duration": 6,
    "start_time": "2024-06-11T04:56:54.174Z"
   },
   {
    "duration": 14,
    "start_time": "2024-06-11T04:56:54.182Z"
   },
   {
    "duration": 7,
    "start_time": "2024-06-11T04:56:54.198Z"
   },
   {
    "duration": 4,
    "start_time": "2024-06-11T04:56:54.207Z"
   },
   {
    "duration": 4,
    "start_time": "2024-06-11T04:56:54.261Z"
   },
   {
    "duration": 6,
    "start_time": "2024-06-11T04:56:54.267Z"
   },
   {
    "duration": 12,
    "start_time": "2024-06-11T04:56:54.275Z"
   },
   {
    "duration": 1095,
    "start_time": "2024-06-11T04:56:54.288Z"
   },
   {
    "duration": 24,
    "start_time": "2024-06-11T04:56:55.385Z"
   },
   {
    "duration": 8,
    "start_time": "2024-06-11T04:56:55.411Z"
   },
   {
    "duration": 5,
    "start_time": "2024-06-11T04:56:55.421Z"
   },
   {
    "duration": 32,
    "start_time": "2024-06-11T04:56:55.462Z"
   },
   {
    "duration": 30,
    "start_time": "2024-06-11T04:56:55.496Z"
   },
   {
    "duration": 59,
    "start_time": "2024-06-11T04:56:55.528Z"
   },
   {
    "duration": 39,
    "start_time": "2024-06-11T04:56:55.589Z"
   },
   {
    "duration": 6,
    "start_time": "2024-06-11T04:56:55.630Z"
   },
   {
    "duration": 28,
    "start_time": "2024-06-11T04:56:55.661Z"
   },
   {
    "duration": 91,
    "start_time": "2024-06-11T04:56:55.691Z"
   },
   {
    "duration": 5,
    "start_time": "2024-06-11T04:56:55.784Z"
   },
   {
    "duration": 7,
    "start_time": "2024-06-11T04:56:55.790Z"
   },
   {
    "duration": 142,
    "start_time": "2024-06-11T04:56:55.798Z"
   },
   {
    "duration": 36,
    "start_time": "2024-06-11T04:58:02.176Z"
   },
   {
    "duration": 43,
    "start_time": "2024-06-11T04:58:09.664Z"
   },
   {
    "duration": 40,
    "start_time": "2024-06-11T05:00:57.166Z"
   },
   {
    "duration": 3,
    "start_time": "2024-06-11T05:04:55.347Z"
   },
   {
    "duration": 986,
    "start_time": "2024-06-11T05:05:43.263Z"
   },
   {
    "duration": 966,
    "start_time": "2024-06-11T05:05:51.174Z"
   },
   {
    "duration": 742,
    "start_time": "2024-06-11T05:06:08.435Z"
   },
   {
    "duration": 1012,
    "start_time": "2024-06-11T05:06:16.064Z"
   },
   {
    "duration": 779,
    "start_time": "2024-06-11T05:06:34.664Z"
   },
   {
    "duration": 753,
    "start_time": "2024-06-11T05:06:46.323Z"
   },
   {
    "duration": 721,
    "start_time": "2024-06-11T05:06:49.748Z"
   },
   {
    "duration": 6,
    "start_time": "2024-06-11T05:07:08.345Z"
   },
   {
    "duration": 20,
    "start_time": "2024-06-11T05:07:17.068Z"
   },
   {
    "duration": 6,
    "start_time": "2024-06-11T05:07:20.107Z"
   },
   {
    "duration": 7,
    "start_time": "2024-06-11T05:11:04.435Z"
   },
   {
    "duration": 44,
    "start_time": "2024-06-11T05:11:06.477Z"
   },
   {
    "duration": 35,
    "start_time": "2024-06-11T05:11:18.819Z"
   },
   {
    "duration": 6,
    "start_time": "2024-06-11T05:11:20.934Z"
   },
   {
    "duration": 24,
    "start_time": "2024-06-11T05:11:31.228Z"
   },
   {
    "duration": 5,
    "start_time": "2024-06-11T05:11:34.232Z"
   },
   {
    "duration": 5,
    "start_time": "2024-06-11T05:13:12.909Z"
   },
   {
    "duration": 31,
    "start_time": "2024-06-11T05:14:43.408Z"
   },
   {
    "duration": 10,
    "start_time": "2024-06-11T05:14:59.552Z"
   },
   {
    "duration": 5,
    "start_time": "2024-06-11T05:15:05.266Z"
   },
   {
    "duration": 4,
    "start_time": "2024-06-11T05:15:19.894Z"
   },
   {
    "duration": 45,
    "start_time": "2024-06-11T05:15:44.657Z"
   },
   {
    "duration": 31,
    "start_time": "2024-06-11T05:15:46.526Z"
   },
   {
    "duration": 18,
    "start_time": "2024-06-11T05:16:38.147Z"
   },
   {
    "duration": 3,
    "start_time": "2024-06-11T05:16:39.515Z"
   },
   {
    "duration": 15,
    "start_time": "2024-06-11T05:16:40.246Z"
   },
   {
    "duration": 3,
    "start_time": "2024-06-11T05:17:04.141Z"
   },
   {
    "duration": 21,
    "start_time": "2024-06-11T05:17:11.832Z"
   },
   {
    "duration": 558,
    "start_time": "2024-06-11T05:17:28.367Z"
   },
   {
    "duration": 7,
    "start_time": "2024-06-11T05:17:34.506Z"
   },
   {
    "duration": 5,
    "start_time": "2024-06-11T05:20:06.206Z"
   },
   {
    "duration": 7,
    "start_time": "2024-06-11T05:20:19.767Z"
   },
   {
    "duration": 4,
    "start_time": "2024-06-11T05:20:22.655Z"
   },
   {
    "duration": 6,
    "start_time": "2024-06-11T05:22:36.766Z"
   },
   {
    "duration": 4,
    "start_time": "2024-06-11T05:22:49.038Z"
   },
   {
    "duration": 39,
    "start_time": "2024-06-11T05:57:54.039Z"
   },
   {
    "duration": 12,
    "start_time": "2024-06-11T05:58:07.719Z"
   },
   {
    "duration": 35,
    "start_time": "2024-06-11T05:58:28.585Z"
   },
   {
    "duration": 4,
    "start_time": "2024-06-11T05:58:38.775Z"
   },
   {
    "duration": 6,
    "start_time": "2024-06-11T05:58:52.497Z"
   },
   {
    "duration": 5,
    "start_time": "2024-06-11T05:59:18.338Z"
   },
   {
    "duration": 6,
    "start_time": "2024-06-11T05:59:20.800Z"
   },
   {
    "duration": 37,
    "start_time": "2024-06-11T06:00:46.296Z"
   },
   {
    "duration": 40,
    "start_time": "2024-06-11T06:00:48.106Z"
   },
   {
    "duration": 5,
    "start_time": "2024-06-11T06:00:50.015Z"
   },
   {
    "duration": 5,
    "start_time": "2024-06-11T06:02:43.799Z"
   },
   {
    "duration": 30,
    "start_time": "2024-06-11T06:02:48.355Z"
   },
   {
    "duration": 27,
    "start_time": "2024-06-11T06:02:49.671Z"
   },
   {
    "duration": 7,
    "start_time": "2024-06-11T06:02:50.908Z"
   },
   {
    "duration": 5,
    "start_time": "2024-06-11T06:06:30.195Z"
   },
   {
    "duration": 39,
    "start_time": "2024-06-11T06:06:32.124Z"
   },
   {
    "duration": 32,
    "start_time": "2024-06-11T06:06:33.687Z"
   },
   {
    "duration": 7,
    "start_time": "2024-06-11T06:06:35.707Z"
   },
   {
    "duration": 34,
    "start_time": "2024-06-11T06:06:39.701Z"
   },
   {
    "duration": 37,
    "start_time": "2024-06-11T06:06:41.531Z"
   },
   {
    "duration": 6,
    "start_time": "2024-06-11T06:06:42.948Z"
   },
   {
    "duration": 105,
    "start_time": "2024-06-11T06:14:39.761Z"
   },
   {
    "duration": 4,
    "start_time": "2024-06-11T06:14:46.354Z"
   },
   {
    "duration": 33,
    "start_time": "2024-06-11T06:14:50.231Z"
   },
   {
    "duration": 29,
    "start_time": "2024-06-11T06:14:52.139Z"
   },
   {
    "duration": 6,
    "start_time": "2024-06-11T06:14:54.212Z"
   },
   {
    "duration": 5,
    "start_time": "2024-06-11T06:15:18.737Z"
   },
   {
    "duration": 5,
    "start_time": "2024-06-11T06:15:21.651Z"
   },
   {
    "duration": 5,
    "start_time": "2024-06-11T06:15:43.972Z"
   },
   {
    "duration": 6,
    "start_time": "2024-06-11T06:15:46.569Z"
   },
   {
    "duration": 5,
    "start_time": "2024-06-11T06:16:01.527Z"
   },
   {
    "duration": 6,
    "start_time": "2024-06-11T06:16:03.873Z"
   },
   {
    "duration": 31,
    "start_time": "2024-06-11T06:16:12.657Z"
   },
   {
    "duration": 27,
    "start_time": "2024-06-11T06:16:14.853Z"
   },
   {
    "duration": 5,
    "start_time": "2024-06-11T06:16:16.846Z"
   },
   {
    "duration": 5,
    "start_time": "2024-06-11T06:16:38.903Z"
   },
   {
    "duration": 5,
    "start_time": "2024-06-11T06:16:41.469Z"
   },
   {
    "duration": 5,
    "start_time": "2024-06-11T06:17:02.180Z"
   },
   {
    "duration": 5,
    "start_time": "2024-06-11T06:17:04.625Z"
   },
   {
    "duration": 7,
    "start_time": "2024-06-11T06:25:28.322Z"
   },
   {
    "duration": 35,
    "start_time": "2024-06-11T06:25:32.439Z"
   },
   {
    "duration": 28,
    "start_time": "2024-06-11T06:25:33.882Z"
   },
   {
    "duration": 6,
    "start_time": "2024-06-11T06:25:35.322Z"
   },
   {
    "duration": 1346,
    "start_time": "2024-06-11T06:29:49.323Z"
   },
   {
    "duration": 444,
    "start_time": "2024-06-11T06:29:50.671Z"
   },
   {
    "duration": 5,
    "start_time": "2024-06-11T06:29:51.116Z"
   },
   {
    "duration": 64,
    "start_time": "2024-06-11T06:29:51.123Z"
   },
   {
    "duration": 227,
    "start_time": "2024-06-11T06:29:51.188Z"
   },
   {
    "duration": 5,
    "start_time": "2024-06-11T06:29:51.417Z"
   },
   {
    "duration": 46,
    "start_time": "2024-06-11T06:29:51.423Z"
   },
   {
    "duration": 45,
    "start_time": "2024-06-11T06:29:51.471Z"
   },
   {
    "duration": 13,
    "start_time": "2024-06-11T06:29:51.518Z"
   },
   {
    "duration": 37,
    "start_time": "2024-06-11T06:29:51.534Z"
   },
   {
    "duration": 17,
    "start_time": "2024-06-11T06:29:51.573Z"
   },
   {
    "duration": 22,
    "start_time": "2024-06-11T06:29:51.592Z"
   },
   {
    "duration": 418,
    "start_time": "2024-06-11T06:29:51.616Z"
   },
   {
    "duration": 10,
    "start_time": "2024-06-11T06:29:52.035Z"
   },
   {
    "duration": 40,
    "start_time": "2024-06-11T06:29:52.047Z"
   },
   {
    "duration": 18,
    "start_time": "2024-06-11T06:29:52.088Z"
   },
   {
    "duration": 41,
    "start_time": "2024-06-11T06:29:52.107Z"
   },
   {
    "duration": 427,
    "start_time": "2024-06-11T06:29:52.150Z"
   },
   {
    "duration": 14,
    "start_time": "2024-06-11T06:29:52.579Z"
   },
   {
    "duration": 100,
    "start_time": "2024-06-11T06:29:52.595Z"
   },
   {
    "duration": 106,
    "start_time": "2024-06-11T06:29:52.697Z"
   },
   {
    "duration": 2129,
    "start_time": "2024-06-11T06:29:52.804Z"
   },
   {
    "duration": 15,
    "start_time": "2024-06-11T06:29:54.935Z"
   },
   {
    "duration": 27,
    "start_time": "2024-06-11T06:29:54.951Z"
   },
   {
    "duration": 5,
    "start_time": "2024-06-11T06:29:54.980Z"
   },
   {
    "duration": 832,
    "start_time": "2024-06-11T06:29:54.987Z"
   },
   {
    "duration": 9,
    "start_time": "2024-06-11T06:29:55.821Z"
   },
   {
    "duration": 14,
    "start_time": "2024-06-11T06:29:55.834Z"
   },
   {
    "duration": 22,
    "start_time": "2024-06-11T06:29:55.851Z"
   },
   {
    "duration": 189,
    "start_time": "2024-06-11T06:29:55.876Z"
   },
   {
    "duration": 0,
    "start_time": "2024-06-11T06:29:56.068Z"
   },
   {
    "duration": 0,
    "start_time": "2024-06-11T06:29:56.069Z"
   },
   {
    "duration": 0,
    "start_time": "2024-06-11T06:29:56.077Z"
   },
   {
    "duration": 0,
    "start_time": "2024-06-11T06:29:56.078Z"
   },
   {
    "duration": 0,
    "start_time": "2024-06-11T06:29:56.079Z"
   },
   {
    "duration": 0,
    "start_time": "2024-06-11T06:29:56.080Z"
   },
   {
    "duration": 0,
    "start_time": "2024-06-11T06:29:56.081Z"
   },
   {
    "duration": 0,
    "start_time": "2024-06-11T06:29:56.082Z"
   },
   {
    "duration": 0,
    "start_time": "2024-06-11T06:29:56.083Z"
   },
   {
    "duration": 0,
    "start_time": "2024-06-11T06:29:56.084Z"
   },
   {
    "duration": 0,
    "start_time": "2024-06-11T06:29:56.085Z"
   },
   {
    "duration": 0,
    "start_time": "2024-06-11T06:29:56.086Z"
   },
   {
    "duration": 0,
    "start_time": "2024-06-11T06:29:56.087Z"
   },
   {
    "duration": 0,
    "start_time": "2024-06-11T06:29:56.088Z"
   },
   {
    "duration": 0,
    "start_time": "2024-06-11T06:29:56.089Z"
   },
   {
    "duration": 0,
    "start_time": "2024-06-11T06:29:56.090Z"
   },
   {
    "duration": 0,
    "start_time": "2024-06-11T06:29:56.091Z"
   },
   {
    "duration": 0,
    "start_time": "2024-06-11T06:29:56.092Z"
   },
   {
    "duration": 0,
    "start_time": "2024-06-11T06:29:56.093Z"
   },
   {
    "duration": 0,
    "start_time": "2024-06-11T06:29:56.094Z"
   },
   {
    "duration": 0,
    "start_time": "2024-06-11T06:29:56.095Z"
   },
   {
    "duration": 0,
    "start_time": "2024-06-11T06:29:56.096Z"
   },
   {
    "duration": 1,
    "start_time": "2024-06-11T06:29:56.097Z"
   },
   {
    "duration": 0,
    "start_time": "2024-06-11T06:29:56.099Z"
   },
   {
    "duration": 0,
    "start_time": "2024-06-11T06:29:56.099Z"
   },
   {
    "duration": 0,
    "start_time": "2024-06-11T06:29:56.101Z"
   },
   {
    "duration": 0,
    "start_time": "2024-06-11T06:29:56.102Z"
   },
   {
    "duration": 0,
    "start_time": "2024-06-11T06:29:56.103Z"
   },
   {
    "duration": 0,
    "start_time": "2024-06-11T06:29:56.104Z"
   },
   {
    "duration": 0,
    "start_time": "2024-06-11T06:29:56.105Z"
   },
   {
    "duration": 0,
    "start_time": "2024-06-11T06:29:56.106Z"
   },
   {
    "duration": 0,
    "start_time": "2024-06-11T06:29:56.107Z"
   },
   {
    "duration": 0,
    "start_time": "2024-06-11T06:29:56.108Z"
   },
   {
    "duration": 0,
    "start_time": "2024-06-11T06:29:56.109Z"
   },
   {
    "duration": 0,
    "start_time": "2024-06-11T06:29:56.160Z"
   },
   {
    "duration": 0,
    "start_time": "2024-06-11T06:29:56.161Z"
   },
   {
    "duration": 0,
    "start_time": "2024-06-11T06:29:56.162Z"
   },
   {
    "duration": 0,
    "start_time": "2024-06-11T06:29:56.162Z"
   },
   {
    "duration": 0,
    "start_time": "2024-06-11T06:29:56.163Z"
   },
   {
    "duration": 1360,
    "start_time": "2024-06-11T06:30:10.187Z"
   },
   {
    "duration": 344,
    "start_time": "2024-06-11T06:30:11.549Z"
   },
   {
    "duration": 6,
    "start_time": "2024-06-11T06:30:11.895Z"
   },
   {
    "duration": 86,
    "start_time": "2024-06-11T06:30:11.904Z"
   },
   {
    "duration": 286,
    "start_time": "2024-06-11T06:30:11.992Z"
   },
   {
    "duration": 8,
    "start_time": "2024-06-11T06:30:12.279Z"
   },
   {
    "duration": 86,
    "start_time": "2024-06-11T06:30:12.289Z"
   },
   {
    "duration": 33,
    "start_time": "2024-06-11T06:30:12.377Z"
   },
   {
    "duration": 13,
    "start_time": "2024-06-11T06:30:12.412Z"
   },
   {
    "duration": 45,
    "start_time": "2024-06-11T06:30:12.428Z"
   },
   {
    "duration": 17,
    "start_time": "2024-06-11T06:30:12.475Z"
   },
   {
    "duration": 17,
    "start_time": "2024-06-11T06:30:12.494Z"
   },
   {
    "duration": 406,
    "start_time": "2024-06-11T06:30:12.512Z"
   },
   {
    "duration": 10,
    "start_time": "2024-06-11T06:30:12.920Z"
   },
   {
    "duration": 15,
    "start_time": "2024-06-11T06:30:12.932Z"
   },
   {
    "duration": 12,
    "start_time": "2024-06-11T06:30:12.960Z"
   },
   {
    "duration": 10,
    "start_time": "2024-06-11T06:30:12.977Z"
   },
   {
    "duration": 370,
    "start_time": "2024-06-11T06:30:12.989Z"
   },
   {
    "duration": 19,
    "start_time": "2024-06-11T06:30:13.360Z"
   },
   {
    "duration": 96,
    "start_time": "2024-06-11T06:30:13.381Z"
   },
   {
    "duration": 105,
    "start_time": "2024-06-11T06:30:13.479Z"
   },
   {
    "duration": 2060,
    "start_time": "2024-06-11T06:30:13.586Z"
   },
   {
    "duration": 19,
    "start_time": "2024-06-11T06:30:15.648Z"
   },
   {
    "duration": 9,
    "start_time": "2024-06-11T06:30:15.676Z"
   },
   {
    "duration": 6,
    "start_time": "2024-06-11T06:30:15.687Z"
   },
   {
    "duration": 881,
    "start_time": "2024-06-11T06:30:15.694Z"
   },
   {
    "duration": 8,
    "start_time": "2024-06-11T06:30:16.577Z"
   },
   {
    "duration": 30,
    "start_time": "2024-06-11T06:30:16.589Z"
   },
   {
    "duration": 20,
    "start_time": "2024-06-11T06:30:16.620Z"
   },
   {
    "duration": 200,
    "start_time": "2024-06-11T06:30:16.642Z"
   },
   {
    "duration": 0,
    "start_time": "2024-06-11T06:30:16.844Z"
   },
   {
    "duration": 0,
    "start_time": "2024-06-11T06:30:16.845Z"
   },
   {
    "duration": 0,
    "start_time": "2024-06-11T06:30:16.847Z"
   },
   {
    "duration": 0,
    "start_time": "2024-06-11T06:30:16.860Z"
   },
   {
    "duration": 0,
    "start_time": "2024-06-11T06:30:16.861Z"
   },
   {
    "duration": 0,
    "start_time": "2024-06-11T06:30:16.862Z"
   },
   {
    "duration": 0,
    "start_time": "2024-06-11T06:30:16.863Z"
   },
   {
    "duration": 0,
    "start_time": "2024-06-11T06:30:16.863Z"
   },
   {
    "duration": 0,
    "start_time": "2024-06-11T06:30:16.866Z"
   },
   {
    "duration": 0,
    "start_time": "2024-06-11T06:30:16.867Z"
   },
   {
    "duration": 0,
    "start_time": "2024-06-11T06:30:16.868Z"
   },
   {
    "duration": 0,
    "start_time": "2024-06-11T06:30:16.868Z"
   },
   {
    "duration": 0,
    "start_time": "2024-06-11T06:30:16.873Z"
   },
   {
    "duration": 0,
    "start_time": "2024-06-11T06:30:16.874Z"
   },
   {
    "duration": 0,
    "start_time": "2024-06-11T06:30:16.874Z"
   },
   {
    "duration": 0,
    "start_time": "2024-06-11T06:30:16.875Z"
   },
   {
    "duration": 0,
    "start_time": "2024-06-11T06:30:16.876Z"
   },
   {
    "duration": 0,
    "start_time": "2024-06-11T06:30:16.878Z"
   },
   {
    "duration": 0,
    "start_time": "2024-06-11T06:30:16.879Z"
   },
   {
    "duration": 1,
    "start_time": "2024-06-11T06:30:16.880Z"
   },
   {
    "duration": 0,
    "start_time": "2024-06-11T06:30:16.882Z"
   },
   {
    "duration": 0,
    "start_time": "2024-06-11T06:30:16.883Z"
   },
   {
    "duration": 0,
    "start_time": "2024-06-11T06:30:16.886Z"
   },
   {
    "duration": 0,
    "start_time": "2024-06-11T06:30:16.887Z"
   },
   {
    "duration": 0,
    "start_time": "2024-06-11T06:30:16.888Z"
   },
   {
    "duration": 0,
    "start_time": "2024-06-11T06:30:16.890Z"
   },
   {
    "duration": 0,
    "start_time": "2024-06-11T06:30:16.893Z"
   },
   {
    "duration": 0,
    "start_time": "2024-06-11T06:30:16.894Z"
   },
   {
    "duration": 0,
    "start_time": "2024-06-11T06:30:16.896Z"
   },
   {
    "duration": 0,
    "start_time": "2024-06-11T06:30:16.897Z"
   },
   {
    "duration": 0,
    "start_time": "2024-06-11T06:30:16.899Z"
   },
   {
    "duration": 0,
    "start_time": "2024-06-11T06:30:16.900Z"
   },
   {
    "duration": 0,
    "start_time": "2024-06-11T06:30:16.901Z"
   },
   {
    "duration": 0,
    "start_time": "2024-06-11T06:30:16.903Z"
   },
   {
    "duration": 0,
    "start_time": "2024-06-11T06:30:16.904Z"
   },
   {
    "duration": 0,
    "start_time": "2024-06-11T06:30:16.961Z"
   },
   {
    "duration": 0,
    "start_time": "2024-06-11T06:30:16.962Z"
   },
   {
    "duration": 0,
    "start_time": "2024-06-11T06:30:16.970Z"
   },
   {
    "duration": 0,
    "start_time": "2024-06-11T06:30:16.971Z"
   },
   {
    "duration": 3,
    "start_time": "2024-06-11T06:30:38.909Z"
   },
   {
    "duration": 1356,
    "start_time": "2024-06-11T06:30:43.192Z"
   },
   {
    "duration": 277,
    "start_time": "2024-06-11T06:30:44.550Z"
   },
   {
    "duration": 5,
    "start_time": "2024-06-11T06:30:44.829Z"
   },
   {
    "duration": 104,
    "start_time": "2024-06-11T06:30:44.836Z"
   },
   {
    "duration": 248,
    "start_time": "2024-06-11T06:30:44.941Z"
   },
   {
    "duration": 5,
    "start_time": "2024-06-11T06:30:45.191Z"
   },
   {
    "duration": 55,
    "start_time": "2024-06-11T06:30:45.197Z"
   },
   {
    "duration": 75,
    "start_time": "2024-06-11T06:30:45.253Z"
   },
   {
    "duration": 53,
    "start_time": "2024-06-11T06:30:45.329Z"
   },
   {
    "duration": 100,
    "start_time": "2024-06-11T06:30:45.385Z"
   },
   {
    "duration": 56,
    "start_time": "2024-06-11T06:30:45.487Z"
   },
   {
    "duration": 60,
    "start_time": "2024-06-11T06:30:45.545Z"
   },
   {
    "duration": 427,
    "start_time": "2024-06-11T06:30:45.608Z"
   },
   {
    "duration": 22,
    "start_time": "2024-06-11T06:30:46.039Z"
   },
   {
    "duration": 20,
    "start_time": "2024-06-11T06:30:46.063Z"
   },
   {
    "duration": 13,
    "start_time": "2024-06-11T06:30:46.084Z"
   },
   {
    "duration": 11,
    "start_time": "2024-06-11T06:30:46.099Z"
   },
   {
    "duration": 390,
    "start_time": "2024-06-11T06:30:46.111Z"
   },
   {
    "duration": 10,
    "start_time": "2024-06-11T06:30:46.503Z"
   },
   {
    "duration": 64,
    "start_time": "2024-06-11T06:30:46.514Z"
   },
   {
    "duration": 98,
    "start_time": "2024-06-11T06:30:46.580Z"
   },
   {
    "duration": 2127,
    "start_time": "2024-06-11T06:30:46.680Z"
   },
   {
    "duration": 15,
    "start_time": "2024-06-11T06:30:48.808Z"
   },
   {
    "duration": 29,
    "start_time": "2024-06-11T06:30:48.825Z"
   },
   {
    "duration": 27,
    "start_time": "2024-06-11T06:30:48.856Z"
   },
   {
    "duration": 1405,
    "start_time": "2024-06-11T06:30:48.886Z"
   },
   {
    "duration": 8,
    "start_time": "2024-06-11T06:30:50.293Z"
   },
   {
    "duration": 78,
    "start_time": "2024-06-11T06:30:50.305Z"
   },
   {
    "duration": 26,
    "start_time": "2024-06-11T06:30:50.385Z"
   },
   {
    "duration": 56,
    "start_time": "2024-06-11T06:30:50.413Z"
   },
   {
    "duration": 1007,
    "start_time": "2024-06-11T06:30:50.471Z"
   },
   {
    "duration": 20,
    "start_time": "2024-06-11T06:30:51.480Z"
   },
   {
    "duration": 39,
    "start_time": "2024-06-11T06:30:51.502Z"
   },
   {
    "duration": 42,
    "start_time": "2024-06-11T06:30:51.543Z"
   },
   {
    "duration": 1398,
    "start_time": "2024-06-11T06:30:51.586Z"
   },
   {
    "duration": 96,
    "start_time": "2024-06-11T06:30:52.987Z"
   },
   {
    "duration": 10,
    "start_time": "2024-06-11T06:30:53.085Z"
   },
   {
    "duration": 8,
    "start_time": "2024-06-11T06:30:53.097Z"
   },
   {
    "duration": 24,
    "start_time": "2024-06-11T06:30:53.107Z"
   },
   {
    "duration": 49,
    "start_time": "2024-06-11T06:30:53.132Z"
   },
   {
    "duration": 9,
    "start_time": "2024-06-11T06:30:53.183Z"
   },
   {
    "duration": 42,
    "start_time": "2024-06-11T06:30:53.193Z"
   },
   {
    "duration": 7,
    "start_time": "2024-06-11T06:30:53.236Z"
   },
   {
    "duration": 4,
    "start_time": "2024-06-11T06:30:53.244Z"
   },
   {
    "duration": 4,
    "start_time": "2024-06-11T06:30:53.250Z"
   },
   {
    "duration": 5,
    "start_time": "2024-06-11T06:30:53.255Z"
   },
   {
    "duration": 9,
    "start_time": "2024-06-11T06:30:53.271Z"
   },
   {
    "duration": 171,
    "start_time": "2024-06-11T06:30:53.282Z"
   },
   {
    "duration": 0,
    "start_time": "2024-06-11T06:30:53.455Z"
   },
   {
    "duration": 0,
    "start_time": "2024-06-11T06:30:53.456Z"
   },
   {
    "duration": 0,
    "start_time": "2024-06-11T06:30:53.457Z"
   },
   {
    "duration": 0,
    "start_time": "2024-06-11T06:30:53.460Z"
   },
   {
    "duration": 0,
    "start_time": "2024-06-11T06:30:53.461Z"
   },
   {
    "duration": 0,
    "start_time": "2024-06-11T06:30:53.464Z"
   },
   {
    "duration": 0,
    "start_time": "2024-06-11T06:30:53.465Z"
   },
   {
    "duration": 0,
    "start_time": "2024-06-11T06:30:53.466Z"
   },
   {
    "duration": 0,
    "start_time": "2024-06-11T06:30:53.466Z"
   },
   {
    "duration": 0,
    "start_time": "2024-06-11T06:30:53.467Z"
   },
   {
    "duration": 0,
    "start_time": "2024-06-11T06:30:53.468Z"
   },
   {
    "duration": 0,
    "start_time": "2024-06-11T06:30:53.468Z"
   },
   {
    "duration": 0,
    "start_time": "2024-06-11T06:30:53.469Z"
   },
   {
    "duration": 0,
    "start_time": "2024-06-11T06:30:53.470Z"
   },
   {
    "duration": 0,
    "start_time": "2024-06-11T06:30:53.470Z"
   },
   {
    "duration": 0,
    "start_time": "2024-06-11T06:30:53.471Z"
   },
   {
    "duration": 0,
    "start_time": "2024-06-11T06:30:53.472Z"
   },
   {
    "duration": 0,
    "start_time": "2024-06-11T06:30:53.473Z"
   },
   {
    "duration": 0,
    "start_time": "2024-06-11T06:30:53.474Z"
   },
   {
    "duration": 0,
    "start_time": "2024-06-11T06:30:53.474Z"
   },
   {
    "duration": 0,
    "start_time": "2024-06-11T06:30:53.475Z"
   },
   {
    "duration": 1337,
    "start_time": "2024-06-11T06:31:10.434Z"
   },
   {
    "duration": 280,
    "start_time": "2024-06-11T06:31:11.775Z"
   },
   {
    "duration": 11,
    "start_time": "2024-06-11T06:31:12.057Z"
   },
   {
    "duration": 51,
    "start_time": "2024-06-11T06:31:12.073Z"
   },
   {
    "duration": 295,
    "start_time": "2024-06-11T06:31:12.127Z"
   },
   {
    "duration": 5,
    "start_time": "2024-06-11T06:31:12.423Z"
   },
   {
    "duration": 11,
    "start_time": "2024-06-11T06:31:12.430Z"
   },
   {
    "duration": 45,
    "start_time": "2024-06-11T06:31:12.470Z"
   },
   {
    "duration": 21,
    "start_time": "2024-06-11T06:31:12.517Z"
   },
   {
    "duration": 40,
    "start_time": "2024-06-11T06:31:12.540Z"
   },
   {
    "duration": 17,
    "start_time": "2024-06-11T06:31:12.582Z"
   },
   {
    "duration": 36,
    "start_time": "2024-06-11T06:31:12.601Z"
   },
   {
    "duration": 388,
    "start_time": "2024-06-11T06:31:12.639Z"
   },
   {
    "duration": 11,
    "start_time": "2024-06-11T06:31:13.029Z"
   },
   {
    "duration": 35,
    "start_time": "2024-06-11T06:31:13.042Z"
   },
   {
    "duration": 8,
    "start_time": "2024-06-11T06:31:13.079Z"
   },
   {
    "duration": 16,
    "start_time": "2024-06-11T06:31:13.090Z"
   },
   {
    "duration": 386,
    "start_time": "2024-06-11T06:31:13.108Z"
   },
   {
    "duration": 10,
    "start_time": "2024-06-11T06:31:13.496Z"
   },
   {
    "duration": 72,
    "start_time": "2024-06-11T06:31:13.508Z"
   },
   {
    "duration": 110,
    "start_time": "2024-06-11T06:31:13.582Z"
   },
   {
    "duration": 2134,
    "start_time": "2024-06-11T06:31:13.694Z"
   },
   {
    "duration": 15,
    "start_time": "2024-06-11T06:31:15.830Z"
   },
   {
    "duration": 41,
    "start_time": "2024-06-11T06:31:15.847Z"
   },
   {
    "duration": 24,
    "start_time": "2024-06-11T06:31:15.890Z"
   },
   {
    "duration": 888,
    "start_time": "2024-06-11T06:31:15.916Z"
   },
   {
    "duration": 8,
    "start_time": "2024-06-11T06:31:16.806Z"
   },
   {
    "duration": 32,
    "start_time": "2024-06-11T06:31:16.818Z"
   },
   {
    "duration": 27,
    "start_time": "2024-06-11T06:31:16.852Z"
   },
   {
    "duration": 14,
    "start_time": "2024-06-11T06:31:16.880Z"
   },
   {
    "duration": 689,
    "start_time": "2024-06-11T06:31:16.896Z"
   },
   {
    "duration": 20,
    "start_time": "2024-06-11T06:31:17.587Z"
   },
   {
    "duration": 34,
    "start_time": "2024-06-11T06:31:17.609Z"
   },
   {
    "duration": 35,
    "start_time": "2024-06-11T06:31:17.645Z"
   },
   {
    "duration": 1410,
    "start_time": "2024-06-11T06:31:17.683Z"
   },
   {
    "duration": 106,
    "start_time": "2024-06-11T06:31:19.095Z"
   },
   {
    "duration": 10,
    "start_time": "2024-06-11T06:31:19.202Z"
   },
   {
    "duration": 11,
    "start_time": "2024-06-11T06:31:19.214Z"
   },
   {
    "duration": 55,
    "start_time": "2024-06-11T06:31:19.227Z"
   },
   {
    "duration": 23,
    "start_time": "2024-06-11T06:31:19.284Z"
   },
   {
    "duration": 10,
    "start_time": "2024-06-11T06:31:19.309Z"
   },
   {
    "duration": 16,
    "start_time": "2024-06-11T06:31:19.321Z"
   },
   {
    "duration": 8,
    "start_time": "2024-06-11T06:31:19.339Z"
   },
   {
    "duration": 26,
    "start_time": "2024-06-11T06:31:19.349Z"
   },
   {
    "duration": 23,
    "start_time": "2024-06-11T06:31:19.377Z"
   },
   {
    "duration": 33,
    "start_time": "2024-06-11T06:31:19.401Z"
   },
   {
    "duration": 16,
    "start_time": "2024-06-11T06:31:19.436Z"
   },
   {
    "duration": 649,
    "start_time": "2024-06-11T06:31:19.453Z"
   },
   {
    "duration": 24,
    "start_time": "2024-06-11T06:31:20.104Z"
   },
   {
    "duration": 7,
    "start_time": "2024-06-11T06:31:20.130Z"
   },
   {
    "duration": 13,
    "start_time": "2024-06-11T06:31:20.161Z"
   },
   {
    "duration": 43,
    "start_time": "2024-06-11T06:31:20.176Z"
   },
   {
    "duration": 64,
    "start_time": "2024-06-11T06:31:20.221Z"
   },
   {
    "duration": 32,
    "start_time": "2024-06-11T06:31:20.286Z"
   },
   {
    "duration": 85,
    "start_time": "2024-06-11T06:31:20.320Z"
   },
   {
    "duration": 30,
    "start_time": "2024-06-11T06:31:20.406Z"
   },
   {
    "duration": 108,
    "start_time": "2024-06-11T06:31:20.438Z"
   },
   {
    "duration": 5,
    "start_time": "2024-06-11T06:31:20.548Z"
   },
   {
    "duration": 54,
    "start_time": "2024-06-11T06:31:20.563Z"
   },
   {
    "duration": 4,
    "start_time": "2024-06-11T06:31:20.619Z"
   },
   {
    "duration": 49,
    "start_time": "2024-06-11T06:31:20.625Z"
   },
   {
    "duration": 5,
    "start_time": "2024-06-11T06:31:20.676Z"
   },
   {
    "duration": 27,
    "start_time": "2024-06-11T06:31:20.682Z"
   },
   {
    "duration": 62,
    "start_time": "2024-06-11T06:31:20.711Z"
   },
   {
    "duration": 42,
    "start_time": "2024-06-11T06:31:20.776Z"
   },
   {
    "duration": 5,
    "start_time": "2024-06-11T06:31:20.820Z"
   },
   {
    "duration": 43,
    "start_time": "2024-06-11T06:31:20.826Z"
   },
   {
    "duration": 5,
    "start_time": "2024-06-11T06:31:20.875Z"
   },
   {
    "duration": 17,
    "start_time": "2024-06-11T06:31:20.881Z"
   },
   {
    "duration": 12,
    "start_time": "2024-06-11T06:38:05.140Z"
   },
   {
    "duration": 1344,
    "start_time": "2024-06-11T06:52:11.041Z"
   },
   {
    "duration": 871,
    "start_time": "2024-06-11T06:52:12.387Z"
   },
   {
    "duration": 9,
    "start_time": "2024-06-11T06:52:13.260Z"
   },
   {
    "duration": 56,
    "start_time": "2024-06-11T06:52:13.272Z"
   },
   {
    "duration": 267,
    "start_time": "2024-06-11T06:52:13.330Z"
   },
   {
    "duration": 5,
    "start_time": "2024-06-11T06:52:13.598Z"
   },
   {
    "duration": 7,
    "start_time": "2024-06-11T06:52:13.604Z"
   },
   {
    "duration": 30,
    "start_time": "2024-06-11T06:52:13.612Z"
   },
   {
    "duration": 16,
    "start_time": "2024-06-11T06:52:13.665Z"
   },
   {
    "duration": 27,
    "start_time": "2024-06-11T06:52:13.685Z"
   },
   {
    "duration": 17,
    "start_time": "2024-06-11T06:52:13.713Z"
   },
   {
    "duration": 45,
    "start_time": "2024-06-11T06:52:13.732Z"
   },
   {
    "duration": 399,
    "start_time": "2024-06-11T06:52:13.779Z"
   },
   {
    "duration": 11,
    "start_time": "2024-06-11T06:52:14.179Z"
   },
   {
    "duration": 16,
    "start_time": "2024-06-11T06:52:14.191Z"
   },
   {
    "duration": 21,
    "start_time": "2024-06-11T06:52:14.208Z"
   },
   {
    "duration": 22,
    "start_time": "2024-06-11T06:52:14.231Z"
   },
   {
    "duration": 350,
    "start_time": "2024-06-11T06:52:14.255Z"
   },
   {
    "duration": 19,
    "start_time": "2024-06-11T06:52:14.607Z"
   },
   {
    "duration": 71,
    "start_time": "2024-06-11T06:52:14.633Z"
   },
   {
    "duration": 160,
    "start_time": "2024-06-11T06:52:14.706Z"
   },
   {
    "duration": 2087,
    "start_time": "2024-06-11T06:52:14.867Z"
   },
   {
    "duration": 27,
    "start_time": "2024-06-11T06:52:16.956Z"
   },
   {
    "duration": 17,
    "start_time": "2024-06-11T06:52:16.985Z"
   },
   {
    "duration": 6,
    "start_time": "2024-06-11T06:52:17.009Z"
   },
   {
    "duration": 1372,
    "start_time": "2024-06-11T06:52:17.018Z"
   },
   {
    "duration": 9,
    "start_time": "2024-06-11T06:52:18.392Z"
   },
   {
    "duration": 57,
    "start_time": "2024-06-11T06:52:18.405Z"
   },
   {
    "duration": 8,
    "start_time": "2024-06-11T06:52:18.466Z"
   },
   {
    "duration": 23,
    "start_time": "2024-06-11T06:52:18.476Z"
   },
   {
    "duration": 1014,
    "start_time": "2024-06-11T06:52:18.500Z"
   },
   {
    "duration": 20,
    "start_time": "2024-06-11T06:52:19.515Z"
   },
   {
    "duration": 39,
    "start_time": "2024-06-11T06:52:19.537Z"
   },
   {
    "duration": 12,
    "start_time": "2024-06-11T06:52:19.578Z"
   },
   {
    "duration": 1189,
    "start_time": "2024-06-11T06:52:19.591Z"
   },
   {
    "duration": 100,
    "start_time": "2024-06-11T06:52:20.782Z"
   },
   {
    "duration": 10,
    "start_time": "2024-06-11T06:52:20.884Z"
   },
   {
    "duration": 34,
    "start_time": "2024-06-11T06:52:20.896Z"
   },
   {
    "duration": 44,
    "start_time": "2024-06-11T06:52:20.932Z"
   },
   {
    "duration": 14,
    "start_time": "2024-06-11T06:52:20.978Z"
   },
   {
    "duration": 8,
    "start_time": "2024-06-11T06:52:20.993Z"
   },
   {
    "duration": 22,
    "start_time": "2024-06-11T06:52:21.002Z"
   },
   {
    "duration": 6,
    "start_time": "2024-06-11T06:52:21.026Z"
   },
   {
    "duration": 5,
    "start_time": "2024-06-11T06:52:21.034Z"
   },
   {
    "duration": 34,
    "start_time": "2024-06-11T06:52:21.040Z"
   },
   {
    "duration": 5,
    "start_time": "2024-06-11T06:52:21.076Z"
   },
   {
    "duration": 53,
    "start_time": "2024-06-11T06:52:21.083Z"
   },
   {
    "duration": 585,
    "start_time": "2024-06-11T06:52:21.138Z"
   },
   {
    "duration": 47,
    "start_time": "2024-06-11T06:52:21.725Z"
   },
   {
    "duration": 11,
    "start_time": "2024-06-11T06:52:21.773Z"
   },
   {
    "duration": 24,
    "start_time": "2024-06-11T06:52:21.786Z"
   },
   {
    "duration": 78,
    "start_time": "2024-06-11T06:52:21.812Z"
   },
   {
    "duration": 34,
    "start_time": "2024-06-11T06:52:21.891Z"
   },
   {
    "duration": 63,
    "start_time": "2024-06-11T06:52:21.927Z"
   },
   {
    "duration": 44,
    "start_time": "2024-06-11T06:52:21.992Z"
   },
   {
    "duration": 64,
    "start_time": "2024-06-11T06:52:22.038Z"
   },
   {
    "duration": 113,
    "start_time": "2024-06-11T06:52:22.104Z"
   },
   {
    "duration": 6,
    "start_time": "2024-06-11T06:52:22.219Z"
   },
   {
    "duration": 87,
    "start_time": "2024-06-11T06:52:22.226Z"
   },
   {
    "duration": 5,
    "start_time": "2024-06-11T06:52:22.315Z"
   },
   {
    "duration": 121,
    "start_time": "2024-06-11T06:52:22.321Z"
   },
   {
    "duration": 63,
    "start_time": "2024-06-11T06:52:22.444Z"
   },
   {
    "duration": 97,
    "start_time": "2024-06-11T06:52:22.509Z"
   },
   {
    "duration": 76,
    "start_time": "2024-06-11T06:52:22.608Z"
   },
   {
    "duration": 90,
    "start_time": "2024-06-11T06:52:22.686Z"
   },
   {
    "duration": 37,
    "start_time": "2024-06-11T06:52:22.778Z"
   },
   {
    "duration": 52,
    "start_time": "2024-06-11T06:52:22.817Z"
   },
   {
    "duration": 5,
    "start_time": "2024-06-11T06:52:22.872Z"
   },
   {
    "duration": 30,
    "start_time": "2024-06-11T06:52:22.879Z"
   },
   {
    "duration": 1311,
    "start_time": "2024-06-11T06:57:11.375Z"
   },
   {
    "duration": 395,
    "start_time": "2024-06-11T06:57:12.688Z"
   },
   {
    "duration": 6,
    "start_time": "2024-06-11T06:57:13.085Z"
   },
   {
    "duration": 82,
    "start_time": "2024-06-11T06:57:13.094Z"
   },
   {
    "duration": 223,
    "start_time": "2024-06-11T06:57:13.178Z"
   },
   {
    "duration": 5,
    "start_time": "2024-06-11T06:57:13.402Z"
   },
   {
    "duration": 7,
    "start_time": "2024-06-11T06:57:13.408Z"
   },
   {
    "duration": 52,
    "start_time": "2024-06-11T06:57:13.417Z"
   },
   {
    "duration": 18,
    "start_time": "2024-06-11T06:57:13.472Z"
   },
   {
    "duration": 23,
    "start_time": "2024-06-11T06:57:13.492Z"
   },
   {
    "duration": 14,
    "start_time": "2024-06-11T06:57:13.516Z"
   },
   {
    "duration": 16,
    "start_time": "2024-06-11T06:57:13.532Z"
   },
   {
    "duration": 380,
    "start_time": "2024-06-11T06:57:13.550Z"
   },
   {
    "duration": 10,
    "start_time": "2024-06-11T06:57:13.932Z"
   },
   {
    "duration": 30,
    "start_time": "2024-06-11T06:57:13.943Z"
   },
   {
    "duration": 8,
    "start_time": "2024-06-11T06:57:13.975Z"
   },
   {
    "duration": 11,
    "start_time": "2024-06-11T06:57:13.985Z"
   },
   {
    "duration": 404,
    "start_time": "2024-06-11T06:57:13.998Z"
   },
   {
    "duration": 14,
    "start_time": "2024-06-11T06:57:14.404Z"
   },
   {
    "duration": 143,
    "start_time": "2024-06-11T06:57:14.420Z"
   },
   {
    "duration": 112,
    "start_time": "2024-06-11T06:57:14.567Z"
   },
   {
    "duration": 2142,
    "start_time": "2024-06-11T06:57:14.681Z"
   },
   {
    "duration": 14,
    "start_time": "2024-06-11T06:57:16.825Z"
   },
   {
    "duration": 44,
    "start_time": "2024-06-11T06:57:16.840Z"
   },
   {
    "duration": 26,
    "start_time": "2024-06-11T06:57:16.885Z"
   },
   {
    "duration": 865,
    "start_time": "2024-06-11T06:57:16.913Z"
   },
   {
    "duration": 9,
    "start_time": "2024-06-11T06:57:17.780Z"
   },
   {
    "duration": 4,
    "start_time": "2024-06-11T06:57:17.793Z"
   },
   {
    "duration": 13,
    "start_time": "2024-06-11T06:57:17.799Z"
   },
   {
    "duration": 4,
    "start_time": "2024-06-11T06:57:17.814Z"
   },
   {
    "duration": 697,
    "start_time": "2024-06-11T06:57:17.820Z"
   },
   {
    "duration": 19,
    "start_time": "2024-06-11T06:57:18.518Z"
   },
   {
    "duration": 7,
    "start_time": "2024-06-11T06:57:18.539Z"
   },
   {
    "duration": 36,
    "start_time": "2024-06-11T06:57:18.547Z"
   },
   {
    "duration": 1334,
    "start_time": "2024-06-11T06:57:18.585Z"
   },
   {
    "duration": 12,
    "start_time": "2024-06-11T06:57:19.921Z"
   },
   {
    "duration": 192,
    "start_time": "2024-06-11T06:57:19.934Z"
   },
   {
    "duration": 0,
    "start_time": "2024-06-11T06:57:20.127Z"
   },
   {
    "duration": 0,
    "start_time": "2024-06-11T06:57:20.129Z"
   },
   {
    "duration": 0,
    "start_time": "2024-06-11T06:57:20.130Z"
   },
   {
    "duration": 0,
    "start_time": "2024-06-11T06:57:20.131Z"
   },
   {
    "duration": 0,
    "start_time": "2024-06-11T06:57:20.132Z"
   },
   {
    "duration": 0,
    "start_time": "2024-06-11T06:57:20.134Z"
   },
   {
    "duration": 0,
    "start_time": "2024-06-11T06:57:20.135Z"
   },
   {
    "duration": 0,
    "start_time": "2024-06-11T06:57:20.136Z"
   },
   {
    "duration": 0,
    "start_time": "2024-06-11T06:57:20.137Z"
   },
   {
    "duration": 0,
    "start_time": "2024-06-11T06:57:20.138Z"
   },
   {
    "duration": 0,
    "start_time": "2024-06-11T06:57:20.161Z"
   },
   {
    "duration": 0,
    "start_time": "2024-06-11T06:57:20.162Z"
   },
   {
    "duration": 0,
    "start_time": "2024-06-11T06:57:20.163Z"
   },
   {
    "duration": 0,
    "start_time": "2024-06-11T06:57:20.164Z"
   },
   {
    "duration": 0,
    "start_time": "2024-06-11T06:57:20.169Z"
   },
   {
    "duration": 0,
    "start_time": "2024-06-11T06:57:20.170Z"
   },
   {
    "duration": 0,
    "start_time": "2024-06-11T06:57:20.171Z"
   },
   {
    "duration": 0,
    "start_time": "2024-06-11T06:57:20.171Z"
   },
   {
    "duration": 0,
    "start_time": "2024-06-11T06:57:20.172Z"
   },
   {
    "duration": 0,
    "start_time": "2024-06-11T06:57:20.183Z"
   },
   {
    "duration": 0,
    "start_time": "2024-06-11T06:57:20.185Z"
   },
   {
    "duration": 0,
    "start_time": "2024-06-11T06:57:20.187Z"
   },
   {
    "duration": 0,
    "start_time": "2024-06-11T06:57:20.188Z"
   },
   {
    "duration": 0,
    "start_time": "2024-06-11T06:57:20.189Z"
   },
   {
    "duration": 0,
    "start_time": "2024-06-11T06:57:20.190Z"
   },
   {
    "duration": 0,
    "start_time": "2024-06-11T06:57:20.191Z"
   },
   {
    "duration": 1,
    "start_time": "2024-06-11T06:57:20.192Z"
   },
   {
    "duration": 0,
    "start_time": "2024-06-11T06:57:20.194Z"
   },
   {
    "duration": 0,
    "start_time": "2024-06-11T06:57:20.195Z"
   },
   {
    "duration": 0,
    "start_time": "2024-06-11T06:57:20.196Z"
   },
   {
    "duration": 0,
    "start_time": "2024-06-11T06:57:20.197Z"
   },
   {
    "duration": 0,
    "start_time": "2024-06-11T06:57:20.199Z"
   },
   {
    "duration": 0,
    "start_time": "2024-06-11T06:57:20.203Z"
   },
   {
    "duration": 0,
    "start_time": "2024-06-11T06:57:20.204Z"
   },
   {
    "duration": 45,
    "start_time": "2024-06-11T06:57:45.192Z"
   },
   {
    "duration": 21,
    "start_time": "2024-06-11T06:58:03.851Z"
   },
   {
    "duration": 23,
    "start_time": "2024-06-11T07:01:06.375Z"
   },
   {
    "duration": 1339,
    "start_time": "2024-06-11T07:10:31.039Z"
   },
   {
    "duration": 1396,
    "start_time": "2024-06-11T07:10:51.410Z"
   },
   {
    "duration": 740,
    "start_time": "2024-06-11T07:11:38.641Z"
   },
   {
    "duration": 1509,
    "start_time": "2024-06-11T07:13:18.774Z"
   },
   {
    "duration": 1398,
    "start_time": "2024-06-11T07:15:45.557Z"
   },
   {
    "duration": 327,
    "start_time": "2024-06-11T07:15:46.957Z"
   },
   {
    "duration": 4,
    "start_time": "2024-06-11T07:15:47.286Z"
   },
   {
    "duration": 80,
    "start_time": "2024-06-11T07:15:47.292Z"
   },
   {
    "duration": 249,
    "start_time": "2024-06-11T07:15:47.374Z"
   },
   {
    "duration": 5,
    "start_time": "2024-06-11T07:15:47.625Z"
   },
   {
    "duration": 71,
    "start_time": "2024-06-11T07:15:47.632Z"
   },
   {
    "duration": 43,
    "start_time": "2024-06-11T07:15:47.705Z"
   },
   {
    "duration": 17,
    "start_time": "2024-06-11T07:15:47.750Z"
   },
   {
    "duration": 37,
    "start_time": "2024-06-11T07:15:47.771Z"
   },
   {
    "duration": 19,
    "start_time": "2024-06-11T07:15:47.810Z"
   },
   {
    "duration": 38,
    "start_time": "2024-06-11T07:15:47.831Z"
   },
   {
    "duration": 431,
    "start_time": "2024-06-11T07:15:47.879Z"
   },
   {
    "duration": 10,
    "start_time": "2024-06-11T07:15:48.312Z"
   },
   {
    "duration": 16,
    "start_time": "2024-06-11T07:15:48.324Z"
   },
   {
    "duration": 33,
    "start_time": "2024-06-11T07:15:48.341Z"
   },
   {
    "duration": 11,
    "start_time": "2024-06-11T07:15:48.376Z"
   },
   {
    "duration": 352,
    "start_time": "2024-06-11T07:15:48.389Z"
   },
   {
    "duration": 11,
    "start_time": "2024-06-11T07:15:48.742Z"
   },
   {
    "duration": 40,
    "start_time": "2024-06-11T07:15:48.765Z"
   },
   {
    "duration": 99,
    "start_time": "2024-06-11T07:15:48.806Z"
   },
   {
    "duration": 2048,
    "start_time": "2024-06-11T07:15:48.907Z"
   },
   {
    "duration": 21,
    "start_time": "2024-06-11T07:15:50.957Z"
   },
   {
    "duration": 16,
    "start_time": "2024-06-11T07:15:50.980Z"
   },
   {
    "duration": 23,
    "start_time": "2024-06-11T07:15:50.997Z"
   },
   {
    "duration": 1878,
    "start_time": "2024-06-11T07:15:51.021Z"
   },
   {
    "duration": 65,
    "start_time": "2024-06-11T07:15:52.901Z"
   },
   {
    "duration": 8,
    "start_time": "2024-06-11T07:15:52.979Z"
   },
   {
    "duration": 7,
    "start_time": "2024-06-11T07:15:52.989Z"
   },
   {
    "duration": 10,
    "start_time": "2024-06-11T07:15:52.997Z"
   },
   {
    "duration": 730,
    "start_time": "2024-06-11T07:15:53.008Z"
   },
   {
    "duration": 37,
    "start_time": "2024-06-11T07:15:53.740Z"
   },
   {
    "duration": 7,
    "start_time": "2024-06-11T07:15:53.779Z"
   },
   {
    "duration": 14,
    "start_time": "2024-06-11T07:15:53.788Z"
   },
   {
    "duration": 1426,
    "start_time": "2024-06-11T07:15:53.804Z"
   },
   {
    "duration": 150,
    "start_time": "2024-06-11T07:15:55.233Z"
   },
   {
    "duration": 9,
    "start_time": "2024-06-11T07:15:55.384Z"
   },
   {
    "duration": 15,
    "start_time": "2024-06-11T07:15:55.394Z"
   },
   {
    "duration": 38,
    "start_time": "2024-06-11T07:15:55.411Z"
   },
   {
    "duration": 26,
    "start_time": "2024-06-11T07:15:55.450Z"
   },
   {
    "duration": 53,
    "start_time": "2024-06-11T07:15:55.478Z"
   },
   {
    "duration": 14,
    "start_time": "2024-06-11T07:15:55.532Z"
   },
   {
    "duration": 12,
    "start_time": "2024-06-11T07:15:55.548Z"
   },
   {
    "duration": 7,
    "start_time": "2024-06-11T07:15:55.565Z"
   },
   {
    "duration": 10,
    "start_time": "2024-06-11T07:15:55.573Z"
   },
   {
    "duration": 12,
    "start_time": "2024-06-11T07:15:55.585Z"
   },
   {
    "duration": 9,
    "start_time": "2024-06-11T07:15:55.599Z"
   },
   {
    "duration": 703,
    "start_time": "2024-06-11T07:15:55.610Z"
   },
   {
    "duration": 54,
    "start_time": "2024-06-11T07:15:56.315Z"
   },
   {
    "duration": 8,
    "start_time": "2024-06-11T07:15:56.374Z"
   },
   {
    "duration": 23,
    "start_time": "2024-06-11T07:15:56.384Z"
   },
   {
    "duration": 122,
    "start_time": "2024-06-11T07:15:56.409Z"
   },
   {
    "duration": 39,
    "start_time": "2024-06-11T07:15:56.532Z"
   },
   {
    "duration": 32,
    "start_time": "2024-06-11T07:15:56.573Z"
   },
   {
    "duration": 69,
    "start_time": "2024-06-11T07:15:56.607Z"
   },
   {
    "duration": 30,
    "start_time": "2024-06-11T07:15:56.678Z"
   },
   {
    "duration": 104,
    "start_time": "2024-06-11T07:15:56.710Z"
   },
   {
    "duration": 5,
    "start_time": "2024-06-11T07:15:56.816Z"
   },
   {
    "duration": 56,
    "start_time": "2024-06-11T07:15:56.822Z"
   },
   {
    "duration": 4,
    "start_time": "2024-06-11T07:15:56.880Z"
   },
   {
    "duration": 41,
    "start_time": "2024-06-11T07:15:56.886Z"
   },
   {
    "duration": 4,
    "start_time": "2024-06-11T07:15:56.929Z"
   },
   {
    "duration": 15,
    "start_time": "2024-06-11T07:15:56.935Z"
   },
   {
    "duration": 40,
    "start_time": "2024-06-11T07:15:56.952Z"
   },
   {
    "duration": 53,
    "start_time": "2024-06-11T07:15:56.994Z"
   },
   {
    "duration": 5,
    "start_time": "2024-06-11T07:15:57.049Z"
   },
   {
    "duration": 54,
    "start_time": "2024-06-11T07:15:57.056Z"
   },
   {
    "duration": 5,
    "start_time": "2024-06-11T07:15:57.112Z"
   },
   {
    "duration": 66,
    "start_time": "2024-06-11T07:15:57.119Z"
   },
   {
    "duration": 1340,
    "start_time": "2024-06-11T07:18:18.234Z"
   },
   {
    "duration": 405,
    "start_time": "2024-06-11T07:18:19.576Z"
   },
   {
    "duration": 5,
    "start_time": "2024-06-11T07:18:19.983Z"
   },
   {
    "duration": 110,
    "start_time": "2024-06-11T07:18:19.990Z"
   },
   {
    "duration": 577,
    "start_time": "2024-06-11T07:18:20.102Z"
   },
   {
    "duration": 5,
    "start_time": "2024-06-11T07:18:20.681Z"
   },
   {
    "duration": 9,
    "start_time": "2024-06-11T07:18:20.688Z"
   },
   {
    "duration": 86,
    "start_time": "2024-06-11T07:18:20.699Z"
   },
   {
    "duration": 11,
    "start_time": "2024-06-11T07:18:20.787Z"
   },
   {
    "duration": 88,
    "start_time": "2024-06-11T07:18:20.802Z"
   },
   {
    "duration": 17,
    "start_time": "2024-06-11T07:18:20.892Z"
   },
   {
    "duration": 73,
    "start_time": "2024-06-11T07:18:20.911Z"
   },
   {
    "duration": 996,
    "start_time": "2024-06-11T07:18:20.987Z"
   },
   {
    "duration": 13,
    "start_time": "2024-06-11T07:18:21.986Z"
   },
   {
    "duration": 74,
    "start_time": "2024-06-11T07:18:22.001Z"
   },
   {
    "duration": 8,
    "start_time": "2024-06-11T07:18:22.077Z"
   },
   {
    "duration": 14,
    "start_time": "2024-06-11T07:18:22.087Z"
   },
   {
    "duration": 969,
    "start_time": "2024-06-11T07:18:22.102Z"
   },
   {
    "duration": 16,
    "start_time": "2024-06-11T07:18:23.077Z"
   },
   {
    "duration": 95,
    "start_time": "2024-06-11T07:18:23.094Z"
   },
   {
    "duration": 106,
    "start_time": "2024-06-11T07:18:23.191Z"
   },
   {
    "duration": 2466,
    "start_time": "2024-06-11T07:18:23.298Z"
   },
   {
    "duration": 26,
    "start_time": "2024-06-11T07:18:25.766Z"
   },
   {
    "duration": 69,
    "start_time": "2024-06-11T07:18:25.794Z"
   },
   {
    "duration": 6,
    "start_time": "2024-06-11T07:18:25.865Z"
   },
   {
    "duration": 1746,
    "start_time": "2024-06-11T07:18:25.874Z"
   },
   {
    "duration": 16,
    "start_time": "2024-06-11T07:18:27.622Z"
   },
   {
    "duration": 29,
    "start_time": "2024-06-11T07:18:27.648Z"
   },
   {
    "duration": 9,
    "start_time": "2024-06-11T07:18:27.679Z"
   },
   {
    "duration": 5,
    "start_time": "2024-06-11T07:18:27.690Z"
   },
   {
    "duration": 680,
    "start_time": "2024-06-11T07:18:27.697Z"
   },
   {
    "duration": 22,
    "start_time": "2024-06-11T07:18:28.379Z"
   },
   {
    "duration": 9,
    "start_time": "2024-06-11T07:18:28.402Z"
   },
   {
    "duration": 83,
    "start_time": "2024-06-11T07:18:28.413Z"
   },
   {
    "duration": 1344,
    "start_time": "2024-06-11T07:18:28.498Z"
   },
   {
    "duration": 106,
    "start_time": "2024-06-11T07:18:29.844Z"
   },
   {
    "duration": 25,
    "start_time": "2024-06-11T07:18:29.952Z"
   },
   {
    "duration": 9,
    "start_time": "2024-06-11T07:18:29.979Z"
   },
   {
    "duration": 28,
    "start_time": "2024-06-11T07:18:29.989Z"
   },
   {
    "duration": 66,
    "start_time": "2024-06-11T07:18:30.018Z"
   },
   {
    "duration": 43,
    "start_time": "2024-06-11T07:18:30.086Z"
   },
   {
    "duration": 139,
    "start_time": "2024-06-11T07:18:30.131Z"
   },
   {
    "duration": 35,
    "start_time": "2024-06-11T07:18:30.272Z"
   },
   {
    "duration": 61,
    "start_time": "2024-06-11T07:18:30.308Z"
   },
   {
    "duration": 51,
    "start_time": "2024-06-11T07:18:30.372Z"
   },
   {
    "duration": 255,
    "start_time": "2024-06-11T07:18:30.425Z"
   },
   {
    "duration": 709,
    "start_time": "2024-06-11T07:18:30.681Z"
   },
   {
    "duration": 5,
    "start_time": "2024-06-11T07:18:31.392Z"
   },
   {
    "duration": 93,
    "start_time": "2024-06-11T07:18:31.399Z"
   },
   {
    "duration": 9,
    "start_time": "2024-06-11T07:18:31.494Z"
   },
   {
    "duration": 50,
    "start_time": "2024-06-11T07:18:31.505Z"
   },
   {
    "duration": 41,
    "start_time": "2024-06-11T07:18:31.556Z"
   },
   {
    "duration": 31,
    "start_time": "2024-06-11T07:18:31.599Z"
   },
   {
    "duration": 135,
    "start_time": "2024-06-11T07:18:31.631Z"
   },
   {
    "duration": 31,
    "start_time": "2024-06-11T07:18:31.769Z"
   },
   {
    "duration": 129,
    "start_time": "2024-06-11T07:18:31.802Z"
   },
   {
    "duration": 5,
    "start_time": "2024-06-11T07:18:31.933Z"
   },
   {
    "duration": 50,
    "start_time": "2024-06-11T07:18:31.939Z"
   },
   {
    "duration": 4,
    "start_time": "2024-06-11T07:18:31.991Z"
   },
   {
    "duration": 36,
    "start_time": "2024-06-11T07:18:31.997Z"
   },
   {
    "duration": 5,
    "start_time": "2024-06-11T07:18:32.035Z"
   },
   {
    "duration": 23,
    "start_time": "2024-06-11T07:18:32.041Z"
   },
   {
    "duration": 34,
    "start_time": "2024-06-11T07:18:32.066Z"
   },
   {
    "duration": 36,
    "start_time": "2024-06-11T07:18:32.102Z"
   },
   {
    "duration": 5,
    "start_time": "2024-06-11T07:18:32.140Z"
   },
   {
    "duration": 39,
    "start_time": "2024-06-11T07:18:32.147Z"
   },
   {
    "duration": 4,
    "start_time": "2024-06-11T07:18:32.188Z"
   },
   {
    "duration": 9,
    "start_time": "2024-06-11T07:18:32.194Z"
   },
   {
    "duration": 36,
    "start_time": "2024-06-11T07:58:17.058Z"
   },
   {
    "duration": 16,
    "start_time": "2024-06-11T08:02:04.771Z"
   },
   {
    "duration": 7,
    "start_time": "2024-06-11T08:02:23.975Z"
   },
   {
    "duration": 4,
    "start_time": "2024-06-11T08:03:05.885Z"
   },
   {
    "duration": 632,
    "start_time": "2024-06-11T08:03:06.904Z"
   },
   {
    "duration": 3,
    "start_time": "2024-06-11T08:03:10.211Z"
   },
   {
    "duration": 17,
    "start_time": "2024-06-11T08:03:15.886Z"
   },
   {
    "duration": 3,
    "start_time": "2024-06-11T08:09:36.538Z"
   },
   {
    "duration": 26,
    "start_time": "2024-06-11T08:11:17.118Z"
   },
   {
    "duration": 2807,
    "start_time": "2024-06-11T08:12:14.061Z"
   },
   {
    "duration": 603,
    "start_time": "2024-06-11T08:12:16.870Z"
   },
   {
    "duration": 8,
    "start_time": "2024-06-11T08:12:17.475Z"
   },
   {
    "duration": 277,
    "start_time": "2024-06-11T08:12:17.486Z"
   },
   {
    "duration": 1004,
    "start_time": "2024-06-11T08:12:17.765Z"
   },
   {
    "duration": 10,
    "start_time": "2024-06-11T08:12:18.772Z"
   },
   {
    "duration": 16,
    "start_time": "2024-06-11T08:12:18.785Z"
   },
   {
    "duration": 267,
    "start_time": "2024-06-11T08:12:18.802Z"
   },
   {
    "duration": 94,
    "start_time": "2024-06-11T08:12:19.073Z"
   },
   {
    "duration": 111,
    "start_time": "2024-06-11T08:12:19.173Z"
   },
   {
    "duration": 80,
    "start_time": "2024-06-11T08:12:19.287Z"
   },
   {
    "duration": 92,
    "start_time": "2024-06-11T08:12:19.371Z"
   },
   {
    "duration": 1802,
    "start_time": "2024-06-11T08:12:19.465Z"
   },
   {
    "duration": 20,
    "start_time": "2024-06-11T08:12:21.272Z"
   },
   {
    "duration": 79,
    "start_time": "2024-06-11T08:12:21.295Z"
   },
   {
    "duration": 19,
    "start_time": "2024-06-11T08:12:21.376Z"
   },
   {
    "duration": 78,
    "start_time": "2024-06-11T08:12:21.397Z"
   },
   {
    "duration": 822,
    "start_time": "2024-06-11T08:12:21.476Z"
   },
   {
    "duration": 72,
    "start_time": "2024-06-11T08:12:22.300Z"
   },
   {
    "duration": 120,
    "start_time": "2024-06-11T08:12:22.374Z"
   },
   {
    "duration": 276,
    "start_time": "2024-06-11T08:12:22.496Z"
   },
   {
    "duration": 7498,
    "start_time": "2024-06-11T08:12:22.774Z"
   },
   {
    "duration": 19,
    "start_time": "2024-06-11T08:12:30.274Z"
   },
   {
    "duration": 45,
    "start_time": "2024-06-11T08:12:30.360Z"
   },
   {
    "duration": 8,
    "start_time": "2024-06-11T08:12:30.467Z"
   },
   {
    "duration": 3114,
    "start_time": "2024-06-11T08:12:30.478Z"
   },
   {
    "duration": 73,
    "start_time": "2024-06-11T08:12:33.595Z"
   },
   {
    "duration": 32,
    "start_time": "2024-06-11T08:12:33.682Z"
   },
   {
    "duration": 49,
    "start_time": "2024-06-11T08:12:33.716Z"
   },
   {
    "duration": 7,
    "start_time": "2024-06-11T08:12:33.777Z"
   },
   {
    "duration": 82,
    "start_time": "2024-06-11T08:12:33.789Z"
   },
   {
    "duration": 105,
    "start_time": "2024-06-11T08:12:33.874Z"
   },
   {
    "duration": 1520,
    "start_time": "2024-06-11T08:12:33.987Z"
   },
   {
    "duration": 29,
    "start_time": "2024-06-11T08:12:35.561Z"
   },
   {
    "duration": 85,
    "start_time": "2024-06-11T08:12:35.593Z"
   },
   {
    "duration": 12,
    "start_time": "2024-06-11T08:12:35.681Z"
   },
   {
    "duration": 73,
    "start_time": "2024-06-11T08:12:35.698Z"
   },
   {
    "duration": 3096,
    "start_time": "2024-06-11T08:12:35.772Z"
   },
   {
    "duration": 220,
    "start_time": "2024-06-11T08:12:38.878Z"
   },
   {
    "duration": 9,
    "start_time": "2024-06-11T08:12:39.099Z"
   },
   {
    "duration": 17,
    "start_time": "2024-06-11T08:12:39.167Z"
   },
   {
    "duration": 85,
    "start_time": "2024-06-11T08:12:39.186Z"
   },
   {
    "duration": 29,
    "start_time": "2024-06-11T08:12:39.282Z"
   },
   {
    "duration": 9,
    "start_time": "2024-06-11T08:12:39.364Z"
   },
   {
    "duration": 85,
    "start_time": "2024-06-11T08:12:39.375Z"
   },
   {
    "duration": 19,
    "start_time": "2024-06-11T08:12:39.466Z"
   },
   {
    "duration": 22,
    "start_time": "2024-06-11T08:12:39.487Z"
   },
   {
    "duration": 66,
    "start_time": "2024-06-11T08:12:39.511Z"
   },
   {
    "duration": 41,
    "start_time": "2024-06-11T08:12:39.579Z"
   },
   {
    "duration": 1677,
    "start_time": "2024-06-11T08:12:39.623Z"
   },
   {
    "duration": 74,
    "start_time": "2024-06-11T08:12:41.302Z"
   },
   {
    "duration": 86,
    "start_time": "2024-06-11T08:12:41.385Z"
   },
   {
    "duration": 16,
    "start_time": "2024-06-11T08:12:41.473Z"
   },
   {
    "duration": 114,
    "start_time": "2024-06-11T08:12:41.493Z"
   },
   {
    "duration": 157,
    "start_time": "2024-06-11T08:12:41.609Z"
   },
   {
    "duration": 95,
    "start_time": "2024-06-11T08:12:41.779Z"
   },
   {
    "duration": 115,
    "start_time": "2024-06-11T08:12:41.878Z"
   },
   {
    "duration": 106,
    "start_time": "2024-06-11T08:12:41.995Z"
   },
   {
    "duration": 272,
    "start_time": "2024-06-11T08:12:42.103Z"
   },
   {
    "duration": 12,
    "start_time": "2024-06-11T08:12:42.377Z"
   },
   {
    "duration": 176,
    "start_time": "2024-06-11T08:12:42.391Z"
   },
   {
    "duration": 6,
    "start_time": "2024-06-11T08:12:42.570Z"
   },
   {
    "duration": 115,
    "start_time": "2024-06-11T08:12:42.578Z"
   },
   {
    "duration": 6,
    "start_time": "2024-06-11T08:12:42.695Z"
   },
   {
    "duration": 6,
    "start_time": "2024-06-11T08:12:42.702Z"
   },
   {
    "duration": 23,
    "start_time": "2024-06-11T08:12:42.763Z"
   },
   {
    "duration": 92,
    "start_time": "2024-06-11T08:12:42.789Z"
   },
   {
    "duration": 7,
    "start_time": "2024-06-11T08:12:42.883Z"
   },
   {
    "duration": 120,
    "start_time": "2024-06-11T08:12:42.894Z"
   },
   {
    "duration": 49,
    "start_time": "2024-06-11T08:12:43.016Z"
   },
   {
    "duration": 7,
    "start_time": "2024-06-11T08:12:43.067Z"
   },
   {
    "duration": 11,
    "start_time": "2024-06-11T08:20:39.910Z"
   },
   {
    "duration": 16,
    "start_time": "2024-06-11T08:20:48.694Z"
   },
   {
    "duration": 26,
    "start_time": "2024-06-11T08:20:57.089Z"
   },
   {
    "duration": 14,
    "start_time": "2024-06-11T08:21:20.479Z"
   },
   {
    "duration": 33,
    "start_time": "2024-06-11T08:21:34.855Z"
   },
   {
    "duration": 16,
    "start_time": "2024-06-11T08:23:20.539Z"
   },
   {
    "duration": 37,
    "start_time": "2024-06-11T08:27:26.455Z"
   },
   {
    "duration": 4,
    "start_time": "2024-06-11T08:28:03.335Z"
   },
   {
    "duration": 11,
    "start_time": "2024-06-11T08:28:41.316Z"
   },
   {
    "duration": 10,
    "start_time": "2024-06-11T08:28:51.320Z"
   },
   {
    "duration": 18,
    "start_time": "2024-06-11T08:36:01.458Z"
   },
   {
    "duration": 638,
    "start_time": "2024-06-11T08:36:13.106Z"
   },
   {
    "duration": 195,
    "start_time": "2024-06-11T08:36:22.938Z"
   },
   {
    "duration": 4,
    "start_time": "2024-06-11T08:36:26.504Z"
   },
   {
    "duration": 7,
    "start_time": "2024-06-11T08:37:12.578Z"
   },
   {
    "duration": 662,
    "start_time": "2024-06-11T08:37:23.312Z"
   },
   {
    "duration": 9,
    "start_time": "2024-06-11T08:37:26.859Z"
   },
   {
    "duration": 10,
    "start_time": "2024-06-11T08:37:54.670Z"
   },
   {
    "duration": 3,
    "start_time": "2024-06-11T08:37:57.714Z"
   },
   {
    "duration": 5,
    "start_time": "2024-06-11T08:37:58.823Z"
   },
   {
    "duration": 3,
    "start_time": "2024-06-11T08:40:45.318Z"
   },
   {
    "duration": 4,
    "start_time": "2024-06-11T08:40:46.701Z"
   },
   {
    "duration": 1357,
    "start_time": "2024-06-11T08:41:50.466Z"
   },
   {
    "duration": 546,
    "start_time": "2024-06-11T08:41:51.825Z"
   },
   {
    "duration": 5,
    "start_time": "2024-06-11T08:41:52.373Z"
   },
   {
    "duration": 64,
    "start_time": "2024-06-11T08:41:52.380Z"
   },
   {
    "duration": 276,
    "start_time": "2024-06-11T08:41:52.445Z"
   },
   {
    "duration": 7,
    "start_time": "2024-06-11T08:41:52.723Z"
   },
   {
    "duration": 7,
    "start_time": "2024-06-11T08:41:52.733Z"
   },
   {
    "duration": 62,
    "start_time": "2024-06-11T08:41:52.742Z"
   },
   {
    "duration": 23,
    "start_time": "2024-06-11T08:41:52.806Z"
   },
   {
    "duration": 55,
    "start_time": "2024-06-11T08:41:52.831Z"
   },
   {
    "duration": 16,
    "start_time": "2024-06-11T08:41:52.887Z"
   },
   {
    "duration": 18,
    "start_time": "2024-06-11T08:41:52.905Z"
   },
   {
    "duration": 407,
    "start_time": "2024-06-11T08:41:52.925Z"
   },
   {
    "duration": 11,
    "start_time": "2024-06-11T08:41:53.333Z"
   },
   {
    "duration": 40,
    "start_time": "2024-06-11T08:41:53.345Z"
   },
   {
    "duration": 10,
    "start_time": "2024-06-11T08:41:53.386Z"
   },
   {
    "duration": 10,
    "start_time": "2024-06-11T08:41:53.398Z"
   },
   {
    "duration": 345,
    "start_time": "2024-06-11T08:41:53.410Z"
   },
   {
    "duration": 18,
    "start_time": "2024-06-11T08:41:53.757Z"
   },
   {
    "duration": 101,
    "start_time": "2024-06-11T08:41:53.777Z"
   },
   {
    "duration": 114,
    "start_time": "2024-06-11T08:41:53.880Z"
   },
   {
    "duration": 2148,
    "start_time": "2024-06-11T08:41:53.996Z"
   },
   {
    "duration": 27,
    "start_time": "2024-06-11T08:41:56.146Z"
   },
   {
    "duration": 10,
    "start_time": "2024-06-11T08:41:56.175Z"
   },
   {
    "duration": 5,
    "start_time": "2024-06-11T08:41:56.186Z"
   },
   {
    "duration": 887,
    "start_time": "2024-06-11T08:41:56.193Z"
   },
   {
    "duration": 10,
    "start_time": "2024-06-11T08:41:57.082Z"
   },
   {
    "duration": 15,
    "start_time": "2024-06-11T08:41:57.096Z"
   },
   {
    "duration": 16,
    "start_time": "2024-06-11T08:41:57.113Z"
   },
   {
    "duration": 18,
    "start_time": "2024-06-11T08:41:57.131Z"
   },
   {
    "duration": 661,
    "start_time": "2024-06-11T08:41:57.151Z"
   },
   {
    "duration": 21,
    "start_time": "2024-06-11T08:41:57.814Z"
   },
   {
    "duration": 38,
    "start_time": "2024-06-11T08:41:57.838Z"
   },
   {
    "duration": 38,
    "start_time": "2024-06-11T08:41:57.878Z"
   },
   {
    "duration": 1157,
    "start_time": "2024-06-11T08:41:57.917Z"
   },
   {
    "duration": 97,
    "start_time": "2024-06-11T08:41:59.076Z"
   },
   {
    "duration": 8,
    "start_time": "2024-06-11T08:41:59.176Z"
   },
   {
    "duration": 30,
    "start_time": "2024-06-11T08:41:59.186Z"
   },
   {
    "duration": 23,
    "start_time": "2024-06-11T08:41:59.218Z"
   },
   {
    "duration": 15,
    "start_time": "2024-06-11T08:41:59.242Z"
   },
   {
    "duration": 6,
    "start_time": "2024-06-11T08:41:59.272Z"
   },
   {
    "duration": 25,
    "start_time": "2024-06-11T08:41:59.280Z"
   },
   {
    "duration": 3,
    "start_time": "2024-06-11T08:41:59.307Z"
   },
   {
    "duration": 8,
    "start_time": "2024-06-11T08:41:59.312Z"
   },
   {
    "duration": 7,
    "start_time": "2024-06-11T08:41:59.322Z"
   },
   {
    "duration": 21,
    "start_time": "2024-06-11T08:41:59.332Z"
   },
   {
    "duration": 633,
    "start_time": "2024-06-11T08:41:59.355Z"
   },
   {
    "duration": 6,
    "start_time": "2024-06-11T08:41:59.990Z"
   },
   {
    "duration": 106,
    "start_time": "2024-06-11T08:41:59.998Z"
   },
   {
    "duration": 9,
    "start_time": "2024-06-11T08:42:00.106Z"
   },
   {
    "duration": 85,
    "start_time": "2024-06-11T08:42:00.117Z"
   },
   {
    "duration": 52,
    "start_time": "2024-06-11T08:42:00.204Z"
   },
   {
    "duration": 46,
    "start_time": "2024-06-11T08:42:00.258Z"
   },
   {
    "duration": 54,
    "start_time": "2024-06-11T08:42:00.305Z"
   },
   {
    "duration": 65,
    "start_time": "2024-06-11T08:42:00.361Z"
   },
   {
    "duration": 280,
    "start_time": "2024-06-11T08:42:00.428Z"
   },
   {
    "duration": 101,
    "start_time": "2024-06-11T08:42:00.709Z"
   },
   {
    "duration": 381,
    "start_time": "2024-06-11T08:42:00.812Z"
   },
   {
    "duration": 14,
    "start_time": "2024-06-11T08:42:01.194Z"
   },
   {
    "duration": 81,
    "start_time": "2024-06-11T08:42:01.209Z"
   },
   {
    "duration": 29,
    "start_time": "2024-06-11T08:42:01.292Z"
   },
   {
    "duration": 88,
    "start_time": "2024-06-11T08:42:01.323Z"
   },
   {
    "duration": 87,
    "start_time": "2024-06-11T08:42:01.413Z"
   },
   {
    "duration": 84,
    "start_time": "2024-06-11T08:42:01.501Z"
   },
   {
    "duration": 21,
    "start_time": "2024-06-11T08:42:01.586Z"
   },
   {
    "duration": 96,
    "start_time": "2024-06-11T08:42:01.609Z"
   },
   {
    "duration": 20,
    "start_time": "2024-06-11T08:42:01.706Z"
   },
   {
    "duration": 59,
    "start_time": "2024-06-11T08:42:01.728Z"
   },
   {
    "duration": 3,
    "start_time": "2024-06-11T08:45:31.525Z"
   },
   {
    "duration": 578,
    "start_time": "2024-06-11T08:45:33.059Z"
   },
   {
    "duration": 944,
    "start_time": "2024-06-11T08:45:48.025Z"
   },
   {
    "duration": 1307,
    "start_time": "2024-06-11T09:05:53.745Z"
   },
   {
    "duration": 303,
    "start_time": "2024-06-11T09:05:55.054Z"
   },
   {
    "duration": 10,
    "start_time": "2024-06-11T09:05:55.360Z"
   },
   {
    "duration": 47,
    "start_time": "2024-06-11T09:05:55.378Z"
   },
   {
    "duration": 281,
    "start_time": "2024-06-11T09:05:55.427Z"
   },
   {
    "duration": 7,
    "start_time": "2024-06-11T09:05:55.709Z"
   },
   {
    "duration": 6,
    "start_time": "2024-06-11T09:05:55.718Z"
   },
   {
    "duration": 55,
    "start_time": "2024-06-11T09:05:55.726Z"
   },
   {
    "duration": 14,
    "start_time": "2024-06-11T09:05:55.783Z"
   },
   {
    "duration": 33,
    "start_time": "2024-06-11T09:05:55.800Z"
   },
   {
    "duration": 15,
    "start_time": "2024-06-11T09:05:55.835Z"
   },
   {
    "duration": 26,
    "start_time": "2024-06-11T09:05:55.862Z"
   },
   {
    "duration": 395,
    "start_time": "2024-06-11T09:05:55.890Z"
   },
   {
    "duration": 10,
    "start_time": "2024-06-11T09:05:56.287Z"
   },
   {
    "duration": 27,
    "start_time": "2024-06-11T09:05:56.299Z"
   },
   {
    "duration": 29,
    "start_time": "2024-06-11T09:05:56.327Z"
   },
   {
    "duration": 26,
    "start_time": "2024-06-11T09:05:56.357Z"
   },
   {
    "duration": 355,
    "start_time": "2024-06-11T09:05:56.384Z"
   },
   {
    "duration": 30,
    "start_time": "2024-06-11T09:05:56.741Z"
   },
   {
    "duration": 96,
    "start_time": "2024-06-11T09:05:56.773Z"
   },
   {
    "duration": 99,
    "start_time": "2024-06-11T09:05:56.878Z"
   },
   {
    "duration": 2077,
    "start_time": "2024-06-11T09:05:56.979Z"
   },
   {
    "duration": 24,
    "start_time": "2024-06-11T09:05:59.061Z"
   },
   {
    "duration": 10,
    "start_time": "2024-06-11T09:05:59.088Z"
   },
   {
    "duration": 6,
    "start_time": "2024-06-11T09:05:59.099Z"
   },
   {
    "duration": 876,
    "start_time": "2024-06-11T09:05:59.106Z"
   },
   {
    "duration": 9,
    "start_time": "2024-06-11T09:05:59.984Z"
   },
   {
    "duration": 117,
    "start_time": "2024-06-11T09:05:59.997Z"
   },
   {
    "duration": 52,
    "start_time": "2024-06-11T09:06:00.116Z"
   },
   {
    "duration": 76,
    "start_time": "2024-06-11T09:06:00.170Z"
   },
   {
    "duration": 735,
    "start_time": "2024-06-11T09:06:00.249Z"
   },
   {
    "duration": 21,
    "start_time": "2024-06-11T09:06:00.986Z"
   },
   {
    "duration": 45,
    "start_time": "2024-06-11T09:06:01.009Z"
   },
   {
    "duration": 81,
    "start_time": "2024-06-11T09:06:01.056Z"
   },
   {
    "duration": 1154,
    "start_time": "2024-06-11T09:06:01.139Z"
   },
   {
    "duration": 107,
    "start_time": "2024-06-11T09:06:02.295Z"
   },
   {
    "duration": 8,
    "start_time": "2024-06-11T09:06:02.404Z"
   },
   {
    "duration": 14,
    "start_time": "2024-06-11T09:06:02.413Z"
   },
   {
    "duration": 38,
    "start_time": "2024-06-11T09:06:02.429Z"
   },
   {
    "duration": 18,
    "start_time": "2024-06-11T09:06:02.468Z"
   },
   {
    "duration": 12,
    "start_time": "2024-06-11T09:06:02.487Z"
   },
   {
    "duration": 20,
    "start_time": "2024-06-11T09:06:02.501Z"
   },
   {
    "duration": 16,
    "start_time": "2024-06-11T09:06:02.523Z"
   },
   {
    "duration": 35,
    "start_time": "2024-06-11T09:06:02.541Z"
   },
   {
    "duration": 26,
    "start_time": "2024-06-11T09:06:02.578Z"
   },
   {
    "duration": 28,
    "start_time": "2024-06-11T09:06:02.606Z"
   },
   {
    "duration": 665,
    "start_time": "2024-06-11T09:06:02.636Z"
   },
   {
    "duration": 7,
    "start_time": "2024-06-11T09:06:03.304Z"
   },
   {
    "duration": 29,
    "start_time": "2024-06-11T09:06:03.313Z"
   },
   {
    "duration": 29,
    "start_time": "2024-06-11T09:06:03.344Z"
   },
   {
    "duration": 43,
    "start_time": "2024-06-11T09:06:03.375Z"
   },
   {
    "duration": 55,
    "start_time": "2024-06-11T09:06:03.420Z"
   },
   {
    "duration": 32,
    "start_time": "2024-06-11T09:06:03.476Z"
   },
   {
    "duration": 40,
    "start_time": "2024-06-11T09:06:03.510Z"
   },
   {
    "duration": 32,
    "start_time": "2024-06-11T09:06:03.569Z"
   },
   {
    "duration": 97,
    "start_time": "2024-06-11T09:06:03.603Z"
   },
   {
    "duration": 5,
    "start_time": "2024-06-11T09:06:03.701Z"
   },
   {
    "duration": 65,
    "start_time": "2024-06-11T09:06:03.708Z"
   },
   {
    "duration": 5,
    "start_time": "2024-06-11T09:06:03.775Z"
   },
   {
    "duration": 37,
    "start_time": "2024-06-11T09:06:03.781Z"
   },
   {
    "duration": 19,
    "start_time": "2024-06-11T09:06:03.819Z"
   },
   {
    "duration": 5,
    "start_time": "2024-06-11T09:06:03.840Z"
   },
   {
    "duration": 10,
    "start_time": "2024-06-11T09:06:03.847Z"
   },
   {
    "duration": 59,
    "start_time": "2024-06-11T09:06:03.858Z"
   },
   {
    "duration": 4,
    "start_time": "2024-06-11T09:06:03.920Z"
   },
   {
    "duration": 34,
    "start_time": "2024-06-11T09:06:03.926Z"
   },
   {
    "duration": 13,
    "start_time": "2024-06-11T09:06:03.961Z"
   },
   {
    "duration": 15,
    "start_time": "2024-06-11T09:06:03.977Z"
   },
   {
    "duration": 1259,
    "start_time": "2024-06-11T09:12:19.875Z"
   },
   {
    "duration": 391,
    "start_time": "2024-06-11T09:12:21.136Z"
   },
   {
    "duration": 5,
    "start_time": "2024-06-11T09:12:21.529Z"
   },
   {
    "duration": 89,
    "start_time": "2024-06-11T09:12:21.536Z"
   },
   {
    "duration": 215,
    "start_time": "2024-06-11T09:12:21.627Z"
   },
   {
    "duration": 21,
    "start_time": "2024-06-11T09:12:21.844Z"
   },
   {
    "duration": 31,
    "start_time": "2024-06-11T09:12:21.867Z"
   },
   {
    "duration": 52,
    "start_time": "2024-06-11T09:12:21.900Z"
   },
   {
    "duration": 15,
    "start_time": "2024-06-11T09:12:21.954Z"
   },
   {
    "duration": 45,
    "start_time": "2024-06-11T09:12:21.972Z"
   },
   {
    "duration": 25,
    "start_time": "2024-06-11T09:12:22.019Z"
   },
   {
    "duration": 79,
    "start_time": "2024-06-11T09:12:22.046Z"
   },
   {
    "duration": 407,
    "start_time": "2024-06-11T09:12:22.126Z"
   },
   {
    "duration": 13,
    "start_time": "2024-06-11T09:12:22.535Z"
   },
   {
    "duration": 29,
    "start_time": "2024-06-11T09:12:22.550Z"
   },
   {
    "duration": 29,
    "start_time": "2024-06-11T09:12:22.581Z"
   },
   {
    "duration": 12,
    "start_time": "2024-06-11T09:12:22.612Z"
   },
   {
    "duration": 346,
    "start_time": "2024-06-11T09:12:22.626Z"
   },
   {
    "duration": 15,
    "start_time": "2024-06-11T09:12:22.974Z"
   },
   {
    "duration": 116,
    "start_time": "2024-06-11T09:12:22.991Z"
   },
   {
    "duration": 57,
    "start_time": "2024-06-11T09:12:23.160Z"
   },
   {
    "duration": 1920,
    "start_time": "2024-06-11T09:12:23.219Z"
   },
   {
    "duration": 22,
    "start_time": "2024-06-11T09:12:25.140Z"
   },
   {
    "duration": 12,
    "start_time": "2024-06-11T09:12:25.164Z"
   },
   {
    "duration": 5,
    "start_time": "2024-06-11T09:12:25.177Z"
   },
   {
    "duration": 837,
    "start_time": "2024-06-11T09:12:25.184Z"
   },
   {
    "duration": 8,
    "start_time": "2024-06-11T09:12:26.023Z"
   },
   {
    "duration": 26,
    "start_time": "2024-06-11T09:12:26.036Z"
   },
   {
    "duration": 9,
    "start_time": "2024-06-11T09:12:26.063Z"
   },
   {
    "duration": 10,
    "start_time": "2024-06-11T09:12:26.074Z"
   },
   {
    "duration": 717,
    "start_time": "2024-06-11T09:12:26.086Z"
   },
   {
    "duration": 21,
    "start_time": "2024-06-11T09:12:26.805Z"
   },
   {
    "duration": 71,
    "start_time": "2024-06-11T09:12:26.828Z"
   },
   {
    "duration": 9,
    "start_time": "2024-06-11T09:12:26.901Z"
   },
   {
    "duration": 1049,
    "start_time": "2024-06-11T09:12:26.912Z"
   },
   {
    "duration": 98,
    "start_time": "2024-06-11T09:12:27.963Z"
   },
   {
    "duration": 8,
    "start_time": "2024-06-11T09:12:28.063Z"
   },
   {
    "duration": 52,
    "start_time": "2024-06-11T09:12:28.073Z"
   },
   {
    "duration": 25,
    "start_time": "2024-06-11T09:12:28.127Z"
   },
   {
    "duration": 19,
    "start_time": "2024-06-11T09:12:28.154Z"
   },
   {
    "duration": 8,
    "start_time": "2024-06-11T09:12:28.174Z"
   },
   {
    "duration": 33,
    "start_time": "2024-06-11T09:12:28.184Z"
   },
   {
    "duration": 22,
    "start_time": "2024-06-11T09:12:28.219Z"
   },
   {
    "duration": 8,
    "start_time": "2024-06-11T09:12:28.243Z"
   },
   {
    "duration": 14,
    "start_time": "2024-06-11T09:12:28.253Z"
   },
   {
    "duration": 12,
    "start_time": "2024-06-11T09:12:28.269Z"
   },
   {
    "duration": 560,
    "start_time": "2024-06-11T09:12:28.283Z"
   },
   {
    "duration": 6,
    "start_time": "2024-06-11T09:12:28.860Z"
   },
   {
    "duration": 47,
    "start_time": "2024-06-11T09:12:28.868Z"
   },
   {
    "duration": 6,
    "start_time": "2024-06-11T09:12:28.917Z"
   },
   {
    "duration": 51,
    "start_time": "2024-06-11T09:12:28.925Z"
   },
   {
    "duration": 33,
    "start_time": "2024-06-11T09:12:28.977Z"
   },
   {
    "duration": 49,
    "start_time": "2024-06-11T09:12:29.012Z"
   },
   {
    "duration": 41,
    "start_time": "2024-06-11T09:12:29.062Z"
   },
   {
    "duration": 29,
    "start_time": "2024-06-11T09:12:29.105Z"
   },
   {
    "duration": 109,
    "start_time": "2024-06-11T09:12:29.136Z"
   },
   {
    "duration": 5,
    "start_time": "2024-06-11T09:12:29.246Z"
   },
   {
    "duration": 61,
    "start_time": "2024-06-11T09:12:29.260Z"
   },
   {
    "duration": 4,
    "start_time": "2024-06-11T09:12:29.323Z"
   },
   {
    "duration": 33,
    "start_time": "2024-06-11T09:12:29.328Z"
   },
   {
    "duration": 4,
    "start_time": "2024-06-11T09:12:29.363Z"
   },
   {
    "duration": 23,
    "start_time": "2024-06-11T09:12:29.368Z"
   },
   {
    "duration": 20,
    "start_time": "2024-06-11T09:12:29.393Z"
   },
   {
    "duration": 61,
    "start_time": "2024-06-11T09:12:29.415Z"
   },
   {
    "duration": 5,
    "start_time": "2024-06-11T09:12:29.478Z"
   },
   {
    "duration": 52,
    "start_time": "2024-06-11T09:12:29.484Z"
   },
   {
    "duration": 5,
    "start_time": "2024-06-11T09:12:29.538Z"
   },
   {
    "duration": 15,
    "start_time": "2024-06-11T09:12:29.544Z"
   },
   {
    "duration": 1502,
    "start_time": "2024-06-12T03:50:35.746Z"
   },
   {
    "duration": 412,
    "start_time": "2024-06-12T03:50:37.250Z"
   },
   {
    "duration": 5,
    "start_time": "2024-06-12T03:50:37.663Z"
   },
   {
    "duration": 77,
    "start_time": "2024-06-12T03:50:37.669Z"
   },
   {
    "duration": 220,
    "start_time": "2024-06-12T03:50:37.747Z"
   },
   {
    "duration": 5,
    "start_time": "2024-06-12T03:50:37.969Z"
   },
   {
    "duration": 7,
    "start_time": "2024-06-12T03:50:37.976Z"
   },
   {
    "duration": 33,
    "start_time": "2024-06-12T03:50:37.985Z"
   },
   {
    "duration": 39,
    "start_time": "2024-06-12T03:50:38.020Z"
   },
   {
    "duration": 28,
    "start_time": "2024-06-12T03:50:38.062Z"
   },
   {
    "duration": 20,
    "start_time": "2024-06-12T03:50:38.092Z"
   },
   {
    "duration": 45,
    "start_time": "2024-06-12T03:50:38.115Z"
   },
   {
    "duration": 367,
    "start_time": "2024-06-12T03:50:38.162Z"
   },
   {
    "duration": 10,
    "start_time": "2024-06-12T03:50:38.531Z"
   },
   {
    "duration": 27,
    "start_time": "2024-06-12T03:50:38.543Z"
   },
   {
    "duration": 7,
    "start_time": "2024-06-12T03:50:38.572Z"
   },
   {
    "duration": 16,
    "start_time": "2024-06-12T03:50:38.581Z"
   },
   {
    "duration": 744,
    "start_time": "2024-06-12T03:50:38.599Z"
   },
   {
    "duration": 14,
    "start_time": "2024-06-12T03:50:39.344Z"
   },
   {
    "duration": 96,
    "start_time": "2024-06-12T03:50:39.360Z"
   },
   {
    "duration": 109,
    "start_time": "2024-06-12T03:50:39.458Z"
   },
   {
    "duration": 1977,
    "start_time": "2024-06-12T03:50:39.568Z"
   },
   {
    "duration": 15,
    "start_time": "2024-06-12T03:50:41.547Z"
   },
   {
    "duration": 14,
    "start_time": "2024-06-12T03:50:41.564Z"
   },
   {
    "duration": 18,
    "start_time": "2024-06-12T03:50:41.580Z"
   },
   {
    "duration": 821,
    "start_time": "2024-06-12T03:50:41.599Z"
   },
   {
    "duration": 8,
    "start_time": "2024-06-12T03:50:42.422Z"
   },
   {
    "duration": 10,
    "start_time": "2024-06-12T03:50:42.434Z"
   },
   {
    "duration": 12,
    "start_time": "2024-06-12T03:50:42.445Z"
   },
   {
    "duration": 9,
    "start_time": "2024-06-12T03:50:42.459Z"
   },
   {
    "duration": 658,
    "start_time": "2024-06-12T03:50:42.469Z"
   },
   {
    "duration": 19,
    "start_time": "2024-06-12T03:50:43.128Z"
   },
   {
    "duration": 7,
    "start_time": "2024-06-12T03:50:43.156Z"
   },
   {
    "duration": 11,
    "start_time": "2024-06-12T03:50:43.164Z"
   },
   {
    "duration": 963,
    "start_time": "2024-06-12T03:50:43.176Z"
   },
   {
    "duration": 103,
    "start_time": "2024-06-12T03:50:44.140Z"
   },
   {
    "duration": 13,
    "start_time": "2024-06-12T03:50:44.245Z"
   },
   {
    "duration": 9,
    "start_time": "2024-06-12T03:50:44.260Z"
   },
   {
    "duration": 37,
    "start_time": "2024-06-12T03:50:44.271Z"
   },
   {
    "duration": 18,
    "start_time": "2024-06-12T03:50:44.310Z"
   },
   {
    "duration": 27,
    "start_time": "2024-06-12T03:50:44.330Z"
   },
   {
    "duration": 17,
    "start_time": "2024-06-12T03:50:44.359Z"
   },
   {
    "duration": 5,
    "start_time": "2024-06-12T03:50:44.378Z"
   },
   {
    "duration": 8,
    "start_time": "2024-06-12T03:50:44.385Z"
   },
   {
    "duration": 5,
    "start_time": "2024-06-12T03:50:44.395Z"
   },
   {
    "duration": 9,
    "start_time": "2024-06-12T03:50:44.401Z"
   },
   {
    "duration": 574,
    "start_time": "2024-06-12T03:50:44.412Z"
   },
   {
    "duration": 5,
    "start_time": "2024-06-12T03:50:44.988Z"
   },
   {
    "duration": 99,
    "start_time": "2024-06-12T03:50:44.994Z"
   },
   {
    "duration": 16,
    "start_time": "2024-06-12T03:50:45.095Z"
   },
   {
    "duration": 73,
    "start_time": "2024-06-12T03:50:45.112Z"
   },
   {
    "duration": 32,
    "start_time": "2024-06-12T03:50:45.187Z"
   },
   {
    "duration": 45,
    "start_time": "2024-06-12T03:50:45.221Z"
   },
   {
    "duration": 66,
    "start_time": "2024-06-12T03:50:45.267Z"
   },
   {
    "duration": 30,
    "start_time": "2024-06-12T03:50:45.334Z"
   },
   {
    "duration": 90,
    "start_time": "2024-06-12T03:50:45.365Z"
   },
   {
    "duration": 5,
    "start_time": "2024-06-12T03:50:45.457Z"
   },
   {
    "duration": 48,
    "start_time": "2024-06-12T03:50:45.464Z"
   },
   {
    "duration": 4,
    "start_time": "2024-06-12T03:50:45.514Z"
   },
   {
    "duration": 54,
    "start_time": "2024-06-12T03:50:45.519Z"
   },
   {
    "duration": 4,
    "start_time": "2024-06-12T03:50:45.575Z"
   },
   {
    "duration": 10,
    "start_time": "2024-06-12T03:50:45.580Z"
   },
   {
    "duration": 7,
    "start_time": "2024-06-12T03:50:45.592Z"
   },
   {
    "duration": 31,
    "start_time": "2024-06-12T03:50:45.601Z"
   },
   {
    "duration": 26,
    "start_time": "2024-06-12T03:50:45.633Z"
   },
   {
    "duration": 37,
    "start_time": "2024-06-12T03:50:45.660Z"
   },
   {
    "duration": 8,
    "start_time": "2024-06-12T03:50:45.699Z"
   },
   {
    "duration": 7,
    "start_time": "2024-06-12T03:50:45.709Z"
   },
   {
    "duration": 20,
    "start_time": "2024-06-12T04:01:30.323Z"
   },
   {
    "duration": 5,
    "start_time": "2024-06-12T04:10:03.823Z"
   },
   {
    "duration": 5,
    "start_time": "2024-06-12T04:10:08.104Z"
   },
   {
    "duration": 36,
    "start_time": "2024-06-12T04:10:08.472Z"
   },
   {
    "duration": 5,
    "start_time": "2024-06-12T04:10:08.674Z"
   },
   {
    "duration": 32,
    "start_time": "2024-06-12T04:10:09.020Z"
   },
   {
    "duration": 5,
    "start_time": "2024-06-12T04:10:09.194Z"
   },
   {
    "duration": 3,
    "start_time": "2024-06-12T04:10:09.862Z"
   },
   {
    "duration": 6,
    "start_time": "2024-06-12T04:10:11.370Z"
   },
   {
    "duration": 8,
    "start_time": "2024-06-12T04:10:11.377Z"
   },
   {
    "duration": 9,
    "start_time": "2024-06-12T05:16:55.929Z"
   },
   {
    "duration": 8,
    "start_time": "2024-06-12T05:17:14.390Z"
   },
   {
    "duration": 40,
    "start_time": "2024-06-12T05:17:15.961Z"
   },
   {
    "duration": 1269,
    "start_time": "2024-06-12T05:17:21.080Z"
   },
   {
    "duration": 426,
    "start_time": "2024-06-12T05:17:22.351Z"
   },
   {
    "duration": 3,
    "start_time": "2024-06-12T05:17:22.778Z"
   },
   {
    "duration": 50,
    "start_time": "2024-06-12T05:17:22.783Z"
   },
   {
    "duration": 144,
    "start_time": "2024-06-12T05:17:22.834Z"
   },
   {
    "duration": 5,
    "start_time": "2024-06-12T05:17:22.979Z"
   },
   {
    "duration": 10,
    "start_time": "2024-06-12T05:17:22.985Z"
   },
   {
    "duration": 45,
    "start_time": "2024-06-12T05:17:22.996Z"
   },
   {
    "duration": 12,
    "start_time": "2024-06-12T05:17:23.043Z"
   },
   {
    "duration": 32,
    "start_time": "2024-06-12T05:17:23.057Z"
   },
   {
    "duration": 28,
    "start_time": "2024-06-12T05:17:23.091Z"
   },
   {
    "duration": 17,
    "start_time": "2024-06-12T05:17:23.120Z"
   },
   {
    "duration": 364,
    "start_time": "2024-06-12T05:17:23.138Z"
   },
   {
    "duration": 16,
    "start_time": "2024-06-12T05:17:23.504Z"
   },
   {
    "duration": 19,
    "start_time": "2024-06-12T05:17:23.521Z"
   },
   {
    "duration": 24,
    "start_time": "2024-06-12T05:17:23.541Z"
   },
   {
    "duration": 16,
    "start_time": "2024-06-12T05:17:23.567Z"
   },
   {
    "duration": 333,
    "start_time": "2024-06-12T05:17:23.584Z"
   },
   {
    "duration": 9,
    "start_time": "2024-06-12T05:17:23.918Z"
   },
   {
    "duration": 92,
    "start_time": "2024-06-12T05:17:23.928Z"
   },
   {
    "duration": 47,
    "start_time": "2024-06-12T05:17:24.022Z"
   },
   {
    "duration": 1713,
    "start_time": "2024-06-12T05:17:24.070Z"
   },
   {
    "duration": 11,
    "start_time": "2024-06-12T05:17:25.785Z"
   },
   {
    "duration": 12,
    "start_time": "2024-06-12T05:17:25.797Z"
   },
   {
    "duration": 10,
    "start_time": "2024-06-12T05:17:25.810Z"
   },
   {
    "duration": 693,
    "start_time": "2024-06-12T05:17:25.821Z"
   },
   {
    "duration": 9,
    "start_time": "2024-06-12T05:17:26.515Z"
   },
   {
    "duration": 11,
    "start_time": "2024-06-12T05:17:26.527Z"
   },
   {
    "duration": 6,
    "start_time": "2024-06-12T05:17:26.539Z"
   },
   {
    "duration": 27,
    "start_time": "2024-06-12T05:17:26.546Z"
   },
   {
    "duration": 583,
    "start_time": "2024-06-12T05:17:26.574Z"
   },
   {
    "duration": 74,
    "start_time": "2024-06-12T05:17:27.158Z"
   },
   {
    "duration": 9,
    "start_time": "2024-06-12T05:17:27.234Z"
   },
   {
    "duration": 25,
    "start_time": "2024-06-12T05:17:27.245Z"
   },
   {
    "duration": 1343,
    "start_time": "2024-06-12T05:17:27.320Z"
   },
   {
    "duration": 86,
    "start_time": "2024-06-12T05:17:28.665Z"
   },
   {
    "duration": 7,
    "start_time": "2024-06-12T05:17:28.752Z"
   },
   {
    "duration": 6,
    "start_time": "2024-06-12T05:17:28.760Z"
   },
   {
    "duration": 20,
    "start_time": "2024-06-12T05:17:28.767Z"
   },
   {
    "duration": 11,
    "start_time": "2024-06-12T05:17:28.788Z"
   },
   {
    "duration": 22,
    "start_time": "2024-06-12T05:17:28.800Z"
   },
   {
    "duration": 22,
    "start_time": "2024-06-12T05:17:28.824Z"
   },
   {
    "duration": 2,
    "start_time": "2024-06-12T05:17:28.848Z"
   },
   {
    "duration": 6,
    "start_time": "2024-06-12T05:17:28.851Z"
   },
   {
    "duration": 6,
    "start_time": "2024-06-12T05:17:28.859Z"
   },
   {
    "duration": 18,
    "start_time": "2024-06-12T05:17:28.866Z"
   },
   {
    "duration": 465,
    "start_time": "2024-06-12T05:17:28.886Z"
   },
   {
    "duration": 4,
    "start_time": "2024-06-12T05:17:29.352Z"
   },
   {
    "duration": 41,
    "start_time": "2024-06-12T05:17:29.357Z"
   },
   {
    "duration": 5,
    "start_time": "2024-06-12T05:17:29.399Z"
   },
   {
    "duration": 38,
    "start_time": "2024-06-12T05:17:29.405Z"
   },
   {
    "duration": 24,
    "start_time": "2024-06-12T05:17:29.444Z"
   },
   {
    "duration": 24,
    "start_time": "2024-06-12T05:17:29.469Z"
   },
   {
    "duration": 32,
    "start_time": "2024-06-12T05:17:29.519Z"
   },
   {
    "duration": 23,
    "start_time": "2024-06-12T05:17:29.552Z"
   },
   {
    "duration": 87,
    "start_time": "2024-06-12T05:17:29.576Z"
   },
   {
    "duration": 4,
    "start_time": "2024-06-12T05:17:29.664Z"
   },
   {
    "duration": 32,
    "start_time": "2024-06-12T05:17:29.669Z"
   },
   {
    "duration": 3,
    "start_time": "2024-06-12T05:17:29.703Z"
   },
   {
    "duration": 24,
    "start_time": "2024-06-12T05:17:29.720Z"
   },
   {
    "duration": 3,
    "start_time": "2024-06-12T05:17:29.746Z"
   },
   {
    "duration": 3,
    "start_time": "2024-06-12T05:17:29.750Z"
   },
   {
    "duration": 9,
    "start_time": "2024-06-12T05:17:29.754Z"
   },
   {
    "duration": 26,
    "start_time": "2024-06-12T05:17:29.764Z"
   },
   {
    "duration": 4,
    "start_time": "2024-06-12T05:17:29.792Z"
   },
   {
    "duration": 40,
    "start_time": "2024-06-12T05:17:29.797Z"
   },
   {
    "duration": 3,
    "start_time": "2024-06-12T05:17:29.839Z"
   },
   {
    "duration": 7,
    "start_time": "2024-06-12T05:17:29.844Z"
   },
   {
    "duration": 8,
    "start_time": "2024-06-12T05:17:58.208Z"
   },
   {
    "duration": 331,
    "start_time": "2024-06-12T05:17:59.619Z"
   },
   {
    "duration": 7,
    "start_time": "2024-06-12T05:18:07.940Z"
   },
   {
    "duration": 472,
    "start_time": "2024-06-12T05:18:10.210Z"
   },
   {
    "duration": 6,
    "start_time": "2024-06-12T05:19:14.300Z"
   },
   {
    "duration": 396,
    "start_time": "2024-06-12T05:19:15.596Z"
   },
   {
    "duration": 12,
    "start_time": "2024-06-12T05:19:33.228Z"
   },
   {
    "duration": 460,
    "start_time": "2024-06-12T05:19:34.731Z"
   },
   {
    "duration": 6,
    "start_time": "2024-06-12T05:19:42.796Z"
   },
   {
    "duration": 441,
    "start_time": "2024-06-12T05:19:44.647Z"
   },
   {
    "duration": 5,
    "start_time": "2024-06-12T05:19:58.210Z"
   },
   {
    "duration": 454,
    "start_time": "2024-06-12T05:19:59.887Z"
   },
   {
    "duration": 8,
    "start_time": "2024-06-12T05:20:22.380Z"
   },
   {
    "duration": 410,
    "start_time": "2024-06-12T05:20:23.827Z"
   },
   {
    "duration": 5,
    "start_time": "2024-06-12T05:21:36.245Z"
   },
   {
    "duration": 509,
    "start_time": "2024-06-12T05:21:38.984Z"
   },
   {
    "duration": 5,
    "start_time": "2024-06-12T05:21:47.508Z"
   },
   {
    "duration": 471,
    "start_time": "2024-06-12T05:21:49.208Z"
   },
   {
    "duration": 8,
    "start_time": "2024-06-12T05:22:49.337Z"
   },
   {
    "duration": 8,
    "start_time": "2024-06-12T05:22:55.410Z"
   },
   {
    "duration": 478,
    "start_time": "2024-06-12T05:22:57.193Z"
   },
   {
    "duration": 6,
    "start_time": "2024-06-12T05:23:04.734Z"
   },
   {
    "duration": 454,
    "start_time": "2024-06-12T05:23:08.233Z"
   },
   {
    "duration": 6,
    "start_time": "2024-06-12T05:23:31.776Z"
   },
   {
    "duration": 453,
    "start_time": "2024-06-12T05:23:34.318Z"
   },
   {
    "duration": 8,
    "start_time": "2024-06-12T05:24:00.542Z"
   },
   {
    "duration": 736,
    "start_time": "2024-06-12T05:24:02.067Z"
   },
   {
    "duration": 90,
    "start_time": "2024-06-12T05:24:21.804Z"
   },
   {
    "duration": 813,
    "start_time": "2024-06-12T05:24:23.915Z"
   },
   {
    "duration": 5,
    "start_time": "2024-06-12T05:28:04.040Z"
   },
   {
    "duration": 28,
    "start_time": "2024-06-12T05:28:05.828Z"
   },
   {
    "duration": 27,
    "start_time": "2024-06-12T05:28:28.483Z"
   },
   {
    "duration": 25,
    "start_time": "2024-06-12T05:28:38.021Z"
   },
   {
    "duration": 1111,
    "start_time": "2024-06-12T05:30:52.279Z"
   },
   {
    "duration": 312,
    "start_time": "2024-06-12T05:30:53.391Z"
   },
   {
    "duration": 5,
    "start_time": "2024-06-12T05:30:53.704Z"
   },
   {
    "duration": 60,
    "start_time": "2024-06-12T05:30:53.710Z"
   },
   {
    "duration": 182,
    "start_time": "2024-06-12T05:30:53.772Z"
   },
   {
    "duration": 4,
    "start_time": "2024-06-12T05:30:53.956Z"
   },
   {
    "duration": 15,
    "start_time": "2024-06-12T05:30:53.962Z"
   },
   {
    "duration": 64,
    "start_time": "2024-06-12T05:30:53.979Z"
   },
   {
    "duration": 13,
    "start_time": "2024-06-12T05:30:54.044Z"
   },
   {
    "duration": 27,
    "start_time": "2024-06-12T05:30:54.060Z"
   },
   {
    "duration": 33,
    "start_time": "2024-06-12T05:30:54.089Z"
   },
   {
    "duration": 21,
    "start_time": "2024-06-12T05:30:54.123Z"
   },
   {
    "duration": 374,
    "start_time": "2024-06-12T05:30:54.146Z"
   },
   {
    "duration": 9,
    "start_time": "2024-06-12T05:30:54.521Z"
   },
   {
    "duration": 24,
    "start_time": "2024-06-12T05:30:54.531Z"
   },
   {
    "duration": 11,
    "start_time": "2024-06-12T05:30:54.556Z"
   },
   {
    "duration": 8,
    "start_time": "2024-06-12T05:30:54.568Z"
   },
   {
    "duration": 300,
    "start_time": "2024-06-12T05:30:54.578Z"
   },
   {
    "duration": 8,
    "start_time": "2024-06-12T05:30:54.880Z"
   },
   {
    "duration": 56,
    "start_time": "2024-06-12T05:30:54.889Z"
   },
   {
    "duration": 88,
    "start_time": "2024-06-12T05:30:54.946Z"
   },
   {
    "duration": 2298,
    "start_time": "2024-06-12T05:30:55.036Z"
   },
   {
    "duration": 11,
    "start_time": "2024-06-12T05:30:57.336Z"
   },
   {
    "duration": 27,
    "start_time": "2024-06-12T05:30:57.348Z"
   },
   {
    "duration": 29,
    "start_time": "2024-06-12T05:30:57.376Z"
   },
   {
    "duration": 694,
    "start_time": "2024-06-12T05:30:57.407Z"
   },
   {
    "duration": 8,
    "start_time": "2024-06-12T05:30:58.102Z"
   },
   {
    "duration": 2,
    "start_time": "2024-06-12T05:30:58.123Z"
   },
   {
    "duration": 28,
    "start_time": "2024-06-12T05:30:58.127Z"
   },
   {
    "duration": 12,
    "start_time": "2024-06-12T05:30:58.157Z"
   },
   {
    "duration": 511,
    "start_time": "2024-06-12T05:30:58.170Z"
   },
   {
    "duration": 17,
    "start_time": "2024-06-12T05:30:58.683Z"
   },
   {
    "duration": 6,
    "start_time": "2024-06-12T05:30:58.701Z"
   },
   {
    "duration": 9,
    "start_time": "2024-06-12T05:30:58.721Z"
   },
   {
    "duration": 773,
    "start_time": "2024-06-12T05:30:58.732Z"
   },
   {
    "duration": 123,
    "start_time": "2024-06-12T05:30:59.506Z"
   },
   {
    "duration": 7,
    "start_time": "2024-06-12T05:30:59.630Z"
   },
   {
    "duration": 14,
    "start_time": "2024-06-12T05:30:59.638Z"
   },
   {
    "duration": 21,
    "start_time": "2024-06-12T05:30:59.653Z"
   },
   {
    "duration": 26,
    "start_time": "2024-06-12T05:30:59.676Z"
   },
   {
    "duration": 5,
    "start_time": "2024-06-12T05:30:59.704Z"
   },
   {
    "duration": 19,
    "start_time": "2024-06-12T05:30:59.710Z"
   },
   {
    "duration": 3,
    "start_time": "2024-06-12T05:30:59.731Z"
   },
   {
    "duration": 4,
    "start_time": "2024-06-12T05:30:59.735Z"
   },
   {
    "duration": 5,
    "start_time": "2024-06-12T05:30:59.741Z"
   },
   {
    "duration": 28,
    "start_time": "2024-06-12T05:30:59.747Z"
   },
   {
    "duration": 377,
    "start_time": "2024-06-12T05:30:59.776Z"
   },
   {
    "duration": 5,
    "start_time": "2024-06-12T05:31:00.154Z"
   },
   {
    "duration": 115,
    "start_time": "2024-06-12T05:31:00.160Z"
   },
   {
    "duration": 22,
    "start_time": "2024-06-12T05:31:00.276Z"
   },
   {
    "duration": 109,
    "start_time": "2024-06-12T05:31:00.300Z"
   },
   {
    "duration": 38,
    "start_time": "2024-06-12T05:31:00.410Z"
   },
   {
    "duration": 87,
    "start_time": "2024-06-12T05:31:00.450Z"
   },
   {
    "duration": 150,
    "start_time": "2024-06-12T05:31:00.538Z"
   },
   {
    "duration": 149,
    "start_time": "2024-06-12T05:31:00.689Z"
   },
   {
    "duration": 163,
    "start_time": "2024-06-12T05:31:00.839Z"
   },
   {
    "duration": 4,
    "start_time": "2024-06-12T05:31:01.003Z"
   },
   {
    "duration": 143,
    "start_time": "2024-06-12T05:31:01.009Z"
   },
   {
    "duration": 22,
    "start_time": "2024-06-12T05:31:01.153Z"
   },
   {
    "duration": 119,
    "start_time": "2024-06-12T05:31:01.176Z"
   },
   {
    "duration": 72,
    "start_time": "2024-06-12T05:31:01.296Z"
   },
   {
    "duration": 42,
    "start_time": "2024-06-12T05:31:01.369Z"
   },
   {
    "duration": 122,
    "start_time": "2024-06-12T05:31:01.413Z"
   },
   {
    "duration": 115,
    "start_time": "2024-06-12T05:31:01.537Z"
   },
   {
    "duration": 65,
    "start_time": "2024-06-12T05:31:01.653Z"
   },
   {
    "duration": 224,
    "start_time": "2024-06-12T05:31:01.719Z"
   },
   {
    "duration": 48,
    "start_time": "2024-06-12T05:31:01.945Z"
   },
   {
    "duration": 34,
    "start_time": "2024-06-12T05:31:01.995Z"
   },
   {
    "duration": 1076,
    "start_time": "2024-06-12T05:35:04.267Z"
   },
   {
    "duration": 226,
    "start_time": "2024-06-12T05:35:05.345Z"
   },
   {
    "duration": 4,
    "start_time": "2024-06-12T05:35:05.572Z"
   },
   {
    "duration": 68,
    "start_time": "2024-06-12T05:35:05.577Z"
   },
   {
    "duration": 157,
    "start_time": "2024-06-12T05:35:05.646Z"
   },
   {
    "duration": 4,
    "start_time": "2024-06-12T05:35:05.805Z"
   },
   {
    "duration": 23,
    "start_time": "2024-06-12T05:35:05.820Z"
   },
   {
    "duration": 26,
    "start_time": "2024-06-12T05:35:05.844Z"
   },
   {
    "duration": 16,
    "start_time": "2024-06-12T05:35:05.871Z"
   },
   {
    "duration": 44,
    "start_time": "2024-06-12T05:35:05.889Z"
   },
   {
    "duration": 11,
    "start_time": "2024-06-12T05:35:05.935Z"
   },
   {
    "duration": 23,
    "start_time": "2024-06-12T05:35:05.948Z"
   },
   {
    "duration": 377,
    "start_time": "2024-06-12T05:35:05.972Z"
   },
   {
    "duration": 8,
    "start_time": "2024-06-12T05:35:06.350Z"
   },
   {
    "duration": 12,
    "start_time": "2024-06-12T05:35:06.360Z"
   },
   {
    "duration": 9,
    "start_time": "2024-06-12T05:35:06.373Z"
   },
   {
    "duration": 9,
    "start_time": "2024-06-12T05:35:06.383Z"
   },
   {
    "duration": 338,
    "start_time": "2024-06-12T05:35:06.393Z"
   },
   {
    "duration": 10,
    "start_time": "2024-06-12T05:35:06.732Z"
   },
   {
    "duration": 38,
    "start_time": "2024-06-12T05:35:06.743Z"
   },
   {
    "duration": 81,
    "start_time": "2024-06-12T05:35:06.782Z"
   },
   {
    "duration": 1798,
    "start_time": "2024-06-12T05:35:06.865Z"
   },
   {
    "duration": 12,
    "start_time": "2024-06-12T05:35:08.665Z"
   },
   {
    "duration": 17,
    "start_time": "2024-06-12T05:35:08.678Z"
   },
   {
    "duration": 4,
    "start_time": "2024-06-12T05:35:08.696Z"
   },
   {
    "duration": 734,
    "start_time": "2024-06-12T05:35:08.702Z"
   },
   {
    "duration": 11,
    "start_time": "2024-06-12T05:35:09.439Z"
   },
   {
    "duration": 30,
    "start_time": "2024-06-12T05:35:09.455Z"
   },
   {
    "duration": 6,
    "start_time": "2024-06-12T05:35:09.486Z"
   },
   {
    "duration": 16,
    "start_time": "2024-06-12T05:35:09.493Z"
   },
   {
    "duration": 552,
    "start_time": "2024-06-12T05:35:09.511Z"
   },
   {
    "duration": 16,
    "start_time": "2024-06-12T05:35:10.065Z"
   },
   {
    "duration": 9,
    "start_time": "2024-06-12T05:35:10.082Z"
   },
   {
    "duration": 18,
    "start_time": "2024-06-12T05:35:10.093Z"
   },
   {
    "duration": 828,
    "start_time": "2024-06-12T05:35:10.113Z"
   },
   {
    "duration": 94,
    "start_time": "2024-06-12T05:35:10.943Z"
   },
   {
    "duration": 8,
    "start_time": "2024-06-12T05:35:11.039Z"
   },
   {
    "duration": 7,
    "start_time": "2024-06-12T05:35:11.049Z"
   },
   {
    "duration": 22,
    "start_time": "2024-06-12T05:35:11.057Z"
   },
   {
    "duration": 11,
    "start_time": "2024-06-12T05:35:11.081Z"
   },
   {
    "duration": 36,
    "start_time": "2024-06-12T05:35:11.093Z"
   },
   {
    "duration": 18,
    "start_time": "2024-06-12T05:35:11.132Z"
   },
   {
    "duration": 3,
    "start_time": "2024-06-12T05:35:11.151Z"
   },
   {
    "duration": 4,
    "start_time": "2024-06-12T05:35:11.156Z"
   },
   {
    "duration": 8,
    "start_time": "2024-06-12T05:35:11.161Z"
   },
   {
    "duration": 11,
    "start_time": "2024-06-12T05:35:11.170Z"
   },
   {
    "duration": 392,
    "start_time": "2024-06-12T05:35:11.182Z"
   },
   {
    "duration": 5,
    "start_time": "2024-06-12T05:35:11.576Z"
   },
   {
    "duration": 34,
    "start_time": "2024-06-12T05:35:11.582Z"
   },
   {
    "duration": 9,
    "start_time": "2024-06-12T05:35:11.617Z"
   },
   {
    "duration": 64,
    "start_time": "2024-06-12T05:35:11.627Z"
   },
   {
    "duration": 52,
    "start_time": "2024-06-12T05:35:11.693Z"
   },
   {
    "duration": 36,
    "start_time": "2024-06-12T05:35:11.746Z"
   },
   {
    "duration": 107,
    "start_time": "2024-06-12T05:35:11.783Z"
   },
   {
    "duration": 42,
    "start_time": "2024-06-12T05:35:11.892Z"
   },
   {
    "duration": 73,
    "start_time": "2024-06-12T05:35:11.935Z"
   },
   {
    "duration": 20,
    "start_time": "2024-06-12T05:35:12.009Z"
   },
   {
    "duration": 85,
    "start_time": "2024-06-12T05:35:12.031Z"
   },
   {
    "duration": 22,
    "start_time": "2024-06-12T05:35:12.118Z"
   },
   {
    "duration": 68,
    "start_time": "2024-06-12T05:35:12.142Z"
   },
   {
    "duration": 5,
    "start_time": "2024-06-12T05:35:12.212Z"
   },
   {
    "duration": 8,
    "start_time": "2024-06-12T05:35:12.221Z"
   },
   {
    "duration": 8,
    "start_time": "2024-06-12T05:35:12.230Z"
   },
   {
    "duration": 38,
    "start_time": "2024-06-12T05:35:12.240Z"
   },
   {
    "duration": 5,
    "start_time": "2024-06-12T05:35:12.280Z"
   },
   {
    "duration": 64,
    "start_time": "2024-06-12T05:35:12.286Z"
   },
   {
    "duration": 5,
    "start_time": "2024-06-12T05:35:12.351Z"
   },
   {
    "duration": 6,
    "start_time": "2024-06-12T05:35:12.357Z"
   },
   {
    "duration": 1064,
    "start_time": "2024-06-12T05:36:12.593Z"
   },
   {
    "duration": 281,
    "start_time": "2024-06-12T05:36:13.658Z"
   },
   {
    "duration": 4,
    "start_time": "2024-06-12T05:36:13.941Z"
   },
   {
    "duration": 45,
    "start_time": "2024-06-12T05:36:13.946Z"
   },
   {
    "duration": 169,
    "start_time": "2024-06-12T05:36:13.992Z"
   },
   {
    "duration": 4,
    "start_time": "2024-06-12T05:36:14.162Z"
   },
   {
    "duration": 10,
    "start_time": "2024-06-12T05:36:14.167Z"
   },
   {
    "duration": 28,
    "start_time": "2024-06-12T05:36:14.179Z"
   },
   {
    "duration": 24,
    "start_time": "2024-06-12T05:36:14.208Z"
   },
   {
    "duration": 20,
    "start_time": "2024-06-12T05:36:14.234Z"
   },
   {
    "duration": 12,
    "start_time": "2024-06-12T05:36:14.255Z"
   },
   {
    "duration": 13,
    "start_time": "2024-06-12T05:36:14.268Z"
   },
   {
    "duration": 374,
    "start_time": "2024-06-12T05:36:14.283Z"
   },
   {
    "duration": 10,
    "start_time": "2024-06-12T05:36:14.658Z"
   },
   {
    "duration": 13,
    "start_time": "2024-06-12T05:36:14.669Z"
   },
   {
    "duration": 12,
    "start_time": "2024-06-12T05:36:14.683Z"
   },
   {
    "duration": 22,
    "start_time": "2024-06-12T05:36:14.696Z"
   },
   {
    "duration": 342,
    "start_time": "2024-06-12T05:36:14.722Z"
   },
   {
    "duration": 11,
    "start_time": "2024-06-12T05:36:15.066Z"
   },
   {
    "duration": 77,
    "start_time": "2024-06-12T05:36:15.079Z"
   },
   {
    "duration": 40,
    "start_time": "2024-06-12T05:36:15.157Z"
   },
   {
    "duration": 2218,
    "start_time": "2024-06-12T05:36:15.227Z"
   },
   {
    "duration": 13,
    "start_time": "2024-06-12T05:36:17.446Z"
   },
   {
    "duration": 75,
    "start_time": "2024-06-12T05:36:17.460Z"
   },
   {
    "duration": 5,
    "start_time": "2024-06-12T05:36:17.536Z"
   },
   {
    "duration": 1007,
    "start_time": "2024-06-12T05:36:17.542Z"
   },
   {
    "duration": 8,
    "start_time": "2024-06-12T05:36:18.550Z"
   },
   {
    "duration": 33,
    "start_time": "2024-06-12T05:36:18.562Z"
   },
   {
    "duration": 8,
    "start_time": "2024-06-12T05:36:18.597Z"
   },
   {
    "duration": 19,
    "start_time": "2024-06-12T05:36:18.607Z"
   },
   {
    "duration": 551,
    "start_time": "2024-06-12T05:36:18.627Z"
   },
   {
    "duration": 17,
    "start_time": "2024-06-12T05:36:19.180Z"
   },
   {
    "duration": 6,
    "start_time": "2024-06-12T05:36:19.198Z"
   },
   {
    "duration": 22,
    "start_time": "2024-06-12T05:36:19.231Z"
   },
   {
    "duration": 805,
    "start_time": "2024-06-12T05:36:19.255Z"
   },
   {
    "duration": 96,
    "start_time": "2024-06-12T05:36:20.062Z"
   },
   {
    "duration": 7,
    "start_time": "2024-06-12T05:36:20.159Z"
   },
   {
    "duration": 12,
    "start_time": "2024-06-12T05:36:20.167Z"
   },
   {
    "duration": 20,
    "start_time": "2024-06-12T05:36:20.180Z"
   },
   {
    "duration": 11,
    "start_time": "2024-06-12T05:36:20.201Z"
   },
   {
    "duration": 22,
    "start_time": "2024-06-12T05:36:20.214Z"
   },
   {
    "duration": 26,
    "start_time": "2024-06-12T05:36:20.238Z"
   },
   {
    "duration": 3,
    "start_time": "2024-06-12T05:36:20.265Z"
   },
   {
    "duration": 5,
    "start_time": "2024-06-12T05:36:20.270Z"
   },
   {
    "duration": 15,
    "start_time": "2024-06-12T05:36:20.276Z"
   },
   {
    "duration": 11,
    "start_time": "2024-06-12T05:36:20.292Z"
   },
   {
    "duration": 450,
    "start_time": "2024-06-12T05:36:20.304Z"
   },
   {
    "duration": 5,
    "start_time": "2024-06-12T05:36:20.755Z"
   },
   {
    "duration": 46,
    "start_time": "2024-06-12T05:36:20.761Z"
   },
   {
    "duration": 8,
    "start_time": "2024-06-12T05:36:20.809Z"
   },
   {
    "duration": 91,
    "start_time": "2024-06-12T05:36:20.818Z"
   },
   {
    "duration": 61,
    "start_time": "2024-06-12T05:36:20.913Z"
   },
   {
    "duration": 49,
    "start_time": "2024-06-12T05:36:20.976Z"
   },
   {
    "duration": 67,
    "start_time": "2024-06-12T05:36:21.035Z"
   },
   {
    "duration": 58,
    "start_time": "2024-06-12T05:36:21.104Z"
   },
   {
    "duration": 78,
    "start_time": "2024-06-12T05:36:21.163Z"
   },
   {
    "duration": 5,
    "start_time": "2024-06-12T05:36:21.243Z"
   },
   {
    "duration": 92,
    "start_time": "2024-06-12T05:36:21.250Z"
   },
   {
    "duration": 4,
    "start_time": "2024-06-12T05:36:21.343Z"
   },
   {
    "duration": 77,
    "start_time": "2024-06-12T05:36:21.349Z"
   },
   {
    "duration": 5,
    "start_time": "2024-06-12T05:36:21.427Z"
   },
   {
    "duration": 6,
    "start_time": "2024-06-12T05:36:21.434Z"
   },
   {
    "duration": 8,
    "start_time": "2024-06-12T05:36:21.441Z"
   },
   {
    "duration": 38,
    "start_time": "2024-06-12T05:36:21.450Z"
   },
   {
    "duration": 4,
    "start_time": "2024-06-12T05:36:21.490Z"
   },
   {
    "duration": 47,
    "start_time": "2024-06-12T05:36:21.495Z"
   },
   {
    "duration": 3,
    "start_time": "2024-06-12T05:36:21.544Z"
   },
   {
    "duration": 5,
    "start_time": "2024-06-12T05:36:21.549Z"
   },
   {
    "duration": 4,
    "start_time": "2024-06-12T05:44:14.793Z"
   },
   {
    "duration": 64,
    "start_time": "2024-06-12T05:44:17.785Z"
   },
   {
    "duration": 8,
    "start_time": "2024-06-12T05:44:19.135Z"
   },
   {
    "duration": 59,
    "start_time": "2024-06-12T05:46:15.968Z"
   },
   {
    "duration": 4,
    "start_time": "2024-06-12T05:46:34.043Z"
   },
   {
    "duration": 5,
    "start_time": "2024-06-12T05:49:28.610Z"
   },
   {
    "duration": 4,
    "start_time": "2024-06-12T05:49:50.725Z"
   },
   {
    "duration": 4,
    "start_time": "2024-06-12T05:50:03.850Z"
   },
   {
    "duration": 5,
    "start_time": "2024-06-12T05:53:01.750Z"
   },
   {
    "duration": 44,
    "start_time": "2024-06-12T05:56:40.691Z"
   },
   {
    "duration": 5,
    "start_time": "2024-06-12T05:56:42.013Z"
   },
   {
    "duration": 41,
    "start_time": "2024-06-12T05:56:42.994Z"
   },
   {
    "duration": 4,
    "start_time": "2024-06-12T05:56:44.440Z"
   },
   {
    "duration": 6,
    "start_time": "2024-06-12T05:57:36.231Z"
   },
   {
    "duration": 7,
    "start_time": "2024-06-12T06:21:09.458Z"
   },
   {
    "duration": 164,
    "start_time": "2024-06-12T06:25:08.604Z"
   },
   {
    "duration": 31,
    "start_time": "2024-06-12T06:25:33.327Z"
   },
   {
    "duration": 33,
    "start_time": "2024-06-12T06:27:17.514Z"
   },
   {
    "duration": 74,
    "start_time": "2024-06-12T06:27:53.998Z"
   },
   {
    "duration": 7,
    "start_time": "2024-06-12T06:31:22.292Z"
   },
   {
    "duration": 56,
    "start_time": "2024-06-12T06:31:26.807Z"
   },
   {
    "duration": 9,
    "start_time": "2024-06-12T06:32:59.889Z"
   },
   {
    "duration": 58,
    "start_time": "2024-06-12T06:33:04.784Z"
   },
   {
    "duration": 15,
    "start_time": "2024-06-12T06:35:01.777Z"
   },
   {
    "duration": 14,
    "start_time": "2024-06-12T06:35:34.539Z"
   },
   {
    "duration": 69,
    "start_time": "2024-06-12T06:35:39.195Z"
   },
   {
    "duration": 7,
    "start_time": "2024-06-12T06:36:04.569Z"
   },
   {
    "duration": 81,
    "start_time": "2024-06-12T06:36:07.010Z"
   },
   {
    "duration": 89,
    "start_time": "2024-06-12T06:37:58.177Z"
   },
   {
    "duration": 9,
    "start_time": "2024-06-12T06:40:16.486Z"
   },
   {
    "duration": 63,
    "start_time": "2024-06-12T06:40:20.707Z"
   },
   {
    "duration": 62,
    "start_time": "2024-06-12T06:40:47.154Z"
   },
   {
    "duration": 11,
    "start_time": "2024-06-12T06:41:00.600Z"
   },
   {
    "duration": 55,
    "start_time": "2024-06-12T06:41:03.248Z"
   },
   {
    "duration": 75,
    "start_time": "2024-06-12T06:45:47.292Z"
   },
   {
    "duration": 49,
    "start_time": "2024-06-12T06:46:15.897Z"
   },
   {
    "duration": 43,
    "start_time": "2024-06-12T06:48:55.995Z"
   },
   {
    "duration": 67,
    "start_time": "2024-06-12T06:49:13.543Z"
   },
   {
    "duration": 1094,
    "start_time": "2024-06-12T06:50:39.451Z"
   },
   {
    "duration": 327,
    "start_time": "2024-06-12T06:50:40.554Z"
   },
   {
    "duration": 3,
    "start_time": "2024-06-12T06:50:40.883Z"
   },
   {
    "duration": 45,
    "start_time": "2024-06-12T06:50:40.888Z"
   },
   {
    "duration": 158,
    "start_time": "2024-06-12T06:50:40.937Z"
   },
   {
    "duration": 5,
    "start_time": "2024-06-12T06:50:41.096Z"
   },
   {
    "duration": 10,
    "start_time": "2024-06-12T06:50:41.102Z"
   },
   {
    "duration": 35,
    "start_time": "2024-06-12T06:50:41.129Z"
   },
   {
    "duration": 14,
    "start_time": "2024-06-12T06:50:41.165Z"
   },
   {
    "duration": 31,
    "start_time": "2024-06-12T06:50:41.182Z"
   },
   {
    "duration": 39,
    "start_time": "2024-06-12T06:50:41.215Z"
   },
   {
    "duration": 14,
    "start_time": "2024-06-12T06:50:41.256Z"
   },
   {
    "duration": 395,
    "start_time": "2024-06-12T06:50:41.271Z"
   },
   {
    "duration": 9,
    "start_time": "2024-06-12T06:50:41.667Z"
   },
   {
    "duration": 20,
    "start_time": "2024-06-12T06:50:41.677Z"
   },
   {
    "duration": 17,
    "start_time": "2024-06-12T06:50:41.699Z"
   },
   {
    "duration": 24,
    "start_time": "2024-06-12T06:50:41.717Z"
   },
   {
    "duration": 370,
    "start_time": "2024-06-12T06:50:41.743Z"
   },
   {
    "duration": 45,
    "start_time": "2024-06-12T06:50:42.114Z"
   },
   {
    "duration": 66,
    "start_time": "2024-06-12T06:50:42.161Z"
   },
   {
    "duration": 56,
    "start_time": "2024-06-12T06:50:42.229Z"
   },
   {
    "duration": 1878,
    "start_time": "2024-06-12T06:50:42.287Z"
   },
   {
    "duration": 13,
    "start_time": "2024-06-12T06:50:44.166Z"
   },
   {
    "duration": 15,
    "start_time": "2024-06-12T06:50:44.180Z"
   },
   {
    "duration": 5,
    "start_time": "2024-06-12T06:50:44.196Z"
   },
   {
    "duration": 801,
    "start_time": "2024-06-12T06:50:44.203Z"
   },
   {
    "duration": 8,
    "start_time": "2024-06-12T06:50:45.006Z"
   },
   {
    "duration": 49,
    "start_time": "2024-06-12T06:50:45.035Z"
   },
   {
    "duration": 12,
    "start_time": "2024-06-12T06:50:45.085Z"
   },
   {
    "duration": 16,
    "start_time": "2024-06-12T06:50:45.099Z"
   },
   {
    "duration": 564,
    "start_time": "2024-06-12T06:50:45.116Z"
   },
   {
    "duration": 17,
    "start_time": "2024-06-12T06:50:45.681Z"
   },
   {
    "duration": 6,
    "start_time": "2024-06-12T06:50:45.699Z"
   },
   {
    "duration": 35,
    "start_time": "2024-06-12T06:50:45.707Z"
   },
   {
    "duration": 801,
    "start_time": "2024-06-12T06:50:45.749Z"
   },
   {
    "duration": 98,
    "start_time": "2024-06-12T06:50:46.553Z"
   },
   {
    "duration": 7,
    "start_time": "2024-06-12T06:50:46.653Z"
   },
   {
    "duration": 7,
    "start_time": "2024-06-12T06:50:46.661Z"
   },
   {
    "duration": 20,
    "start_time": "2024-06-12T06:50:46.669Z"
   },
   {
    "duration": 12,
    "start_time": "2024-06-12T06:50:46.690Z"
   },
   {
    "duration": 31,
    "start_time": "2024-06-12T06:50:46.703Z"
   },
   {
    "duration": 10,
    "start_time": "2024-06-12T06:50:46.736Z"
   },
   {
    "duration": 5,
    "start_time": "2024-06-12T06:50:46.748Z"
   },
   {
    "duration": 38,
    "start_time": "2024-06-12T06:50:46.755Z"
   },
   {
    "duration": 13,
    "start_time": "2024-06-12T06:50:46.795Z"
   },
   {
    "duration": 13,
    "start_time": "2024-06-12T06:50:46.810Z"
   },
   {
    "duration": 531,
    "start_time": "2024-06-12T06:50:46.824Z"
   },
   {
    "duration": 4,
    "start_time": "2024-06-12T06:50:47.357Z"
   },
   {
    "duration": 32,
    "start_time": "2024-06-12T06:50:47.363Z"
   },
   {
    "duration": 8,
    "start_time": "2024-06-12T06:50:47.396Z"
   },
   {
    "duration": 83,
    "start_time": "2024-06-12T06:50:47.406Z"
   },
   {
    "duration": 53,
    "start_time": "2024-06-12T06:50:47.491Z"
   },
   {
    "duration": 34,
    "start_time": "2024-06-12T06:50:47.551Z"
   },
   {
    "duration": 78,
    "start_time": "2024-06-12T06:50:47.587Z"
   },
   {
    "duration": 40,
    "start_time": "2024-06-12T06:50:47.667Z"
   },
   {
    "duration": 109,
    "start_time": "2024-06-12T06:50:47.708Z"
   },
   {
    "duration": 13,
    "start_time": "2024-06-12T06:50:47.819Z"
   },
   {
    "duration": 150,
    "start_time": "2024-06-12T06:50:47.847Z"
   },
   {
    "duration": 0,
    "start_time": "2024-06-12T06:50:47.998Z"
   },
   {
    "duration": 0,
    "start_time": "2024-06-12T06:50:47.999Z"
   },
   {
    "duration": 0,
    "start_time": "2024-06-12T06:50:48.000Z"
   },
   {
    "duration": 0,
    "start_time": "2024-06-12T06:50:48.001Z"
   },
   {
    "duration": 0,
    "start_time": "2024-06-12T06:50:48.002Z"
   },
   {
    "duration": 0,
    "start_time": "2024-06-12T06:50:48.003Z"
   },
   {
    "duration": 0,
    "start_time": "2024-06-12T06:50:48.004Z"
   },
   {
    "duration": 0,
    "start_time": "2024-06-12T06:50:48.005Z"
   },
   {
    "duration": 0,
    "start_time": "2024-06-12T06:50:48.006Z"
   },
   {
    "duration": 0,
    "start_time": "2024-06-12T06:50:48.027Z"
   },
   {
    "duration": 73,
    "start_time": "2024-06-12T06:52:08.894Z"
   },
   {
    "duration": 870,
    "start_time": "2024-06-12T06:52:15.403Z"
   },
   {
    "duration": 24,
    "start_time": "2024-06-12T06:52:29.420Z"
   },
   {
    "duration": 55,
    "start_time": "2024-06-12T06:53:00.789Z"
   },
   {
    "duration": 4,
    "start_time": "2024-06-12T06:53:13.041Z"
   },
   {
    "duration": 13,
    "start_time": "2024-06-12T06:55:21.224Z"
   },
   {
    "duration": 3,
    "start_time": "2024-06-12T06:55:26.952Z"
   },
   {
    "duration": 6,
    "start_time": "2024-06-12T06:55:28.226Z"
   },
   {
    "duration": 54,
    "start_time": "2024-06-12T06:56:09.531Z"
   },
   {
    "duration": 5,
    "start_time": "2024-06-12T06:56:24.457Z"
   },
   {
    "duration": 39,
    "start_time": "2024-06-12T06:56:40.106Z"
   },
   {
    "duration": 6,
    "start_time": "2024-06-12T06:56:51.299Z"
   },
   {
    "duration": 6,
    "start_time": "2024-06-12T06:58:00.973Z"
   },
   {
    "duration": 1105,
    "start_time": "2024-06-12T06:59:16.917Z"
   },
   {
    "duration": 373,
    "start_time": "2024-06-12T06:59:18.023Z"
   },
   {
    "duration": 4,
    "start_time": "2024-06-12T06:59:18.398Z"
   },
   {
    "duration": 56,
    "start_time": "2024-06-12T06:59:18.404Z"
   },
   {
    "duration": 171,
    "start_time": "2024-06-12T06:59:18.461Z"
   },
   {
    "duration": 4,
    "start_time": "2024-06-12T06:59:18.633Z"
   },
   {
    "duration": 5,
    "start_time": "2024-06-12T06:59:18.639Z"
   },
   {
    "duration": 27,
    "start_time": "2024-06-12T06:59:18.646Z"
   },
   {
    "duration": 10,
    "start_time": "2024-06-12T06:59:18.675Z"
   },
   {
    "duration": 43,
    "start_time": "2024-06-12T06:59:18.687Z"
   },
   {
    "duration": 18,
    "start_time": "2024-06-12T06:59:18.731Z"
   },
   {
    "duration": 13,
    "start_time": "2024-06-12T06:59:18.751Z"
   },
   {
    "duration": 393,
    "start_time": "2024-06-12T06:59:18.766Z"
   },
   {
    "duration": 10,
    "start_time": "2024-06-12T06:59:19.160Z"
   },
   {
    "duration": 16,
    "start_time": "2024-06-12T06:59:19.171Z"
   },
   {
    "duration": 9,
    "start_time": "2024-06-12T06:59:19.188Z"
   },
   {
    "duration": 11,
    "start_time": "2024-06-12T06:59:19.198Z"
   },
   {
    "duration": 370,
    "start_time": "2024-06-12T06:59:19.210Z"
   },
   {
    "duration": 9,
    "start_time": "2024-06-12T06:59:19.581Z"
   },
   {
    "duration": 50,
    "start_time": "2024-06-12T06:59:19.591Z"
   },
   {
    "duration": 39,
    "start_time": "2024-06-12T06:59:19.646Z"
   },
   {
    "duration": 1774,
    "start_time": "2024-06-12T06:59:19.722Z"
   },
   {
    "duration": 11,
    "start_time": "2024-06-12T06:59:21.498Z"
   },
   {
    "duration": 27,
    "start_time": "2024-06-12T06:59:21.520Z"
   },
   {
    "duration": 5,
    "start_time": "2024-06-12T06:59:21.551Z"
   },
   {
    "duration": 841,
    "start_time": "2024-06-12T06:59:21.557Z"
   },
   {
    "duration": 7,
    "start_time": "2024-06-12T06:59:22.399Z"
   },
   {
    "duration": 31,
    "start_time": "2024-06-12T06:59:22.409Z"
   },
   {
    "duration": 7,
    "start_time": "2024-06-12T06:59:22.450Z"
   },
   {
    "duration": 7,
    "start_time": "2024-06-12T06:59:22.458Z"
   },
   {
    "duration": 530,
    "start_time": "2024-06-12T06:59:22.467Z"
   },
   {
    "duration": 41,
    "start_time": "2024-06-12T06:59:22.998Z"
   },
   {
    "duration": 6,
    "start_time": "2024-06-12T06:59:23.049Z"
   },
   {
    "duration": 9,
    "start_time": "2024-06-12T06:59:23.057Z"
   },
   {
    "duration": 784,
    "start_time": "2024-06-12T06:59:23.067Z"
   },
   {
    "duration": 101,
    "start_time": "2024-06-12T06:59:23.852Z"
   },
   {
    "duration": 7,
    "start_time": "2024-06-12T06:59:23.954Z"
   },
   {
    "duration": 13,
    "start_time": "2024-06-12T06:59:23.962Z"
   },
   {
    "duration": 21,
    "start_time": "2024-06-12T06:59:23.976Z"
   },
   {
    "duration": 12,
    "start_time": "2024-06-12T06:59:23.998Z"
   },
   {
    "duration": 18,
    "start_time": "2024-06-12T06:59:24.020Z"
   },
   {
    "duration": 13,
    "start_time": "2024-06-12T06:59:24.043Z"
   },
   {
    "duration": 19,
    "start_time": "2024-06-12T06:59:24.057Z"
   },
   {
    "duration": 7,
    "start_time": "2024-06-12T06:59:24.077Z"
   },
   {
    "duration": 8,
    "start_time": "2024-06-12T06:59:24.085Z"
   },
   {
    "duration": 10,
    "start_time": "2024-06-12T06:59:24.094Z"
   },
   {
    "duration": 546,
    "start_time": "2024-06-12T06:59:24.105Z"
   },
   {
    "duration": 5,
    "start_time": "2024-06-12T06:59:24.652Z"
   },
   {
    "duration": 30,
    "start_time": "2024-06-12T06:59:24.659Z"
   },
   {
    "duration": 8,
    "start_time": "2024-06-12T06:59:24.690Z"
   },
   {
    "duration": 78,
    "start_time": "2024-06-12T06:59:24.700Z"
   },
   {
    "duration": 32,
    "start_time": "2024-06-12T06:59:24.780Z"
   },
   {
    "duration": 48,
    "start_time": "2024-06-12T06:59:24.813Z"
   },
   {
    "duration": 84,
    "start_time": "2024-06-12T06:59:24.862Z"
   },
   {
    "duration": 42,
    "start_time": "2024-06-12T06:59:24.954Z"
   },
   {
    "duration": 94,
    "start_time": "2024-06-12T06:59:24.998Z"
   },
   {
    "duration": 4,
    "start_time": "2024-06-12T06:59:25.094Z"
   },
   {
    "duration": 91,
    "start_time": "2024-06-12T06:59:25.099Z"
   },
   {
    "duration": 4,
    "start_time": "2024-06-12T06:59:25.191Z"
   },
   {
    "duration": 67,
    "start_time": "2024-06-12T06:59:25.196Z"
   },
   {
    "duration": 4,
    "start_time": "2024-06-12T06:59:25.265Z"
   },
   {
    "duration": 18,
    "start_time": "2024-06-12T06:59:25.271Z"
   },
   {
    "duration": 7,
    "start_time": "2024-06-12T06:59:25.290Z"
   },
   {
    "duration": 56,
    "start_time": "2024-06-12T06:59:25.299Z"
   },
   {
    "duration": 4,
    "start_time": "2024-06-12T06:59:25.357Z"
   },
   {
    "duration": 42,
    "start_time": "2024-06-12T06:59:25.363Z"
   },
   {
    "duration": 6,
    "start_time": "2024-06-12T06:59:25.407Z"
   },
   {
    "duration": 19,
    "start_time": "2024-06-12T06:59:25.415Z"
   },
   {
    "duration": 1464,
    "start_time": "2024-06-12T18:05:56.398Z"
   },
   {
    "duration": 333,
    "start_time": "2024-06-12T18:05:57.865Z"
   },
   {
    "duration": 4,
    "start_time": "2024-06-12T18:05:58.200Z"
   },
   {
    "duration": 56,
    "start_time": "2024-06-12T18:05:58.206Z"
   },
   {
    "duration": 205,
    "start_time": "2024-06-12T18:05:58.264Z"
   },
   {
    "duration": 7,
    "start_time": "2024-06-12T18:05:58.483Z"
   },
   {
    "duration": 8,
    "start_time": "2024-06-12T18:05:58.492Z"
   },
   {
    "duration": 38,
    "start_time": "2024-06-12T18:05:58.502Z"
   },
   {
    "duration": 15,
    "start_time": "2024-06-12T18:05:58.542Z"
   },
   {
    "duration": 48,
    "start_time": "2024-06-12T18:05:58.561Z"
   },
   {
    "duration": 16,
    "start_time": "2024-06-12T18:05:58.611Z"
   },
   {
    "duration": 18,
    "start_time": "2024-06-12T18:05:58.629Z"
   },
   {
    "duration": 431,
    "start_time": "2024-06-12T18:05:58.649Z"
   },
   {
    "duration": 11,
    "start_time": "2024-06-12T18:05:59.082Z"
   },
   {
    "duration": 19,
    "start_time": "2024-06-12T18:05:59.094Z"
   },
   {
    "duration": 7,
    "start_time": "2024-06-12T18:05:59.114Z"
   },
   {
    "duration": 10,
    "start_time": "2024-06-12T18:05:59.123Z"
   },
   {
    "duration": 714,
    "start_time": "2024-06-12T18:05:59.135Z"
   },
   {
    "duration": 12,
    "start_time": "2024-06-12T18:05:59.851Z"
   },
   {
    "duration": 117,
    "start_time": "2024-06-12T18:05:59.865Z"
   },
   {
    "duration": 103,
    "start_time": "2024-06-12T18:05:59.984Z"
   },
   {
    "duration": 1991,
    "start_time": "2024-06-12T18:06:00.089Z"
   },
   {
    "duration": 15,
    "start_time": "2024-06-12T18:06:02.082Z"
   },
   {
    "duration": 67,
    "start_time": "2024-06-12T18:06:02.098Z"
   },
   {
    "duration": 27,
    "start_time": "2024-06-12T18:06:02.167Z"
   },
   {
    "duration": 871,
    "start_time": "2024-06-12T18:06:02.197Z"
   },
   {
    "duration": 17,
    "start_time": "2024-06-12T18:06:03.070Z"
   },
   {
    "duration": 5,
    "start_time": "2024-06-12T18:06:03.091Z"
   },
   {
    "duration": 8,
    "start_time": "2024-06-12T18:06:03.097Z"
   },
   {
    "duration": 9,
    "start_time": "2024-06-12T18:06:03.106Z"
   },
   {
    "duration": 703,
    "start_time": "2024-06-12T18:06:03.117Z"
   },
   {
    "duration": 20,
    "start_time": "2024-06-12T18:06:03.821Z"
   },
   {
    "duration": 7,
    "start_time": "2024-06-12T18:06:03.843Z"
   },
   {
    "duration": 30,
    "start_time": "2024-06-12T18:06:03.852Z"
   },
   {
    "duration": 964,
    "start_time": "2024-06-12T18:06:03.884Z"
   },
   {
    "duration": 94,
    "start_time": "2024-06-12T18:06:04.850Z"
   },
   {
    "duration": 8,
    "start_time": "2024-06-12T18:06:04.946Z"
   },
   {
    "duration": 8,
    "start_time": "2024-06-12T18:06:04.955Z"
   },
   {
    "duration": 37,
    "start_time": "2024-06-12T18:06:04.965Z"
   },
   {
    "duration": 13,
    "start_time": "2024-06-12T18:06:05.004Z"
   },
   {
    "duration": 6,
    "start_time": "2024-06-12T18:06:05.018Z"
   },
   {
    "duration": 12,
    "start_time": "2024-06-12T18:06:05.026Z"
   },
   {
    "duration": 3,
    "start_time": "2024-06-12T18:06:05.040Z"
   },
   {
    "duration": 18,
    "start_time": "2024-06-12T18:06:05.045Z"
   },
   {
    "duration": 19,
    "start_time": "2024-06-12T18:06:05.065Z"
   },
   {
    "duration": 12,
    "start_time": "2024-06-12T18:06:05.086Z"
   },
   {
    "duration": 610,
    "start_time": "2024-06-12T18:06:05.100Z"
   },
   {
    "duration": 5,
    "start_time": "2024-06-12T18:06:05.712Z"
   },
   {
    "duration": 89,
    "start_time": "2024-06-12T18:06:05.719Z"
   },
   {
    "duration": 10,
    "start_time": "2024-06-12T18:06:05.810Z"
   },
   {
    "duration": 105,
    "start_time": "2024-06-12T18:06:05.822Z"
   },
   {
    "duration": 40,
    "start_time": "2024-06-12T18:06:05.929Z"
   },
   {
    "duration": 40,
    "start_time": "2024-06-12T18:06:05.982Z"
   },
   {
    "duration": 100,
    "start_time": "2024-06-12T18:06:06.024Z"
   },
   {
    "duration": 66,
    "start_time": "2024-06-12T18:06:06.125Z"
   },
   {
    "duration": 93,
    "start_time": "2024-06-12T18:06:06.193Z"
   },
   {
    "duration": 5,
    "start_time": "2024-06-12T18:06:06.288Z"
   },
   {
    "duration": 116,
    "start_time": "2024-06-12T18:06:06.295Z"
   },
   {
    "duration": 4,
    "start_time": "2024-06-12T18:06:06.413Z"
   },
   {
    "duration": 72,
    "start_time": "2024-06-12T18:06:06.419Z"
   },
   {
    "duration": 6,
    "start_time": "2024-06-12T18:06:06.492Z"
   },
   {
    "duration": 29,
    "start_time": "2024-06-12T18:06:06.500Z"
   },
   {
    "duration": 17,
    "start_time": "2024-06-12T18:06:06.530Z"
   },
   {
    "duration": 48,
    "start_time": "2024-06-12T18:06:06.548Z"
   },
   {
    "duration": 5,
    "start_time": "2024-06-12T18:06:06.598Z"
   },
   {
    "duration": 39,
    "start_time": "2024-06-12T18:06:06.605Z"
   },
   {
    "duration": 6,
    "start_time": "2024-06-12T18:06:06.646Z"
   },
   {
    "duration": 6,
    "start_time": "2024-06-12T18:06:06.654Z"
   },
   {
    "duration": 53,
    "start_time": "2024-09-26T05:04:05.875Z"
   },
   {
    "duration": 1433,
    "start_time": "2024-09-26T05:04:13.628Z"
   },
   {
    "duration": 421,
    "start_time": "2024-09-26T05:04:15.065Z"
   },
   {
    "duration": 4,
    "start_time": "2024-09-26T05:04:15.488Z"
   },
   {
    "duration": 60,
    "start_time": "2024-09-26T05:04:15.494Z"
   },
   {
    "duration": 221,
    "start_time": "2024-09-26T05:04:15.556Z"
   },
   {
    "duration": 5,
    "start_time": "2024-09-26T05:04:15.778Z"
   },
   {
    "duration": 9,
    "start_time": "2024-09-26T05:04:15.785Z"
   },
   {
    "duration": 32,
    "start_time": "2024-09-26T05:04:15.795Z"
   },
   {
    "duration": 32,
    "start_time": "2024-09-26T05:04:15.829Z"
   },
   {
    "duration": 21,
    "start_time": "2024-09-26T05:04:15.863Z"
   },
   {
    "duration": 17,
    "start_time": "2024-09-26T05:04:15.886Z"
   },
   {
    "duration": 18,
    "start_time": "2024-09-26T05:04:15.904Z"
   },
   {
    "duration": 378,
    "start_time": "2024-09-26T05:04:15.923Z"
   },
   {
    "duration": 14,
    "start_time": "2024-09-26T05:04:16.303Z"
   },
   {
    "duration": 16,
    "start_time": "2024-09-26T05:04:16.319Z"
   },
   {
    "duration": 8,
    "start_time": "2024-09-26T05:04:16.353Z"
   },
   {
    "duration": 37,
    "start_time": "2024-09-26T05:04:16.363Z"
   },
   {
    "duration": 380,
    "start_time": "2024-09-26T05:04:16.402Z"
   },
   {
    "duration": 10,
    "start_time": "2024-09-26T05:04:16.784Z"
   },
   {
    "duration": 81,
    "start_time": "2024-09-26T05:04:16.795Z"
   },
   {
    "duration": 96,
    "start_time": "2024-09-26T05:04:16.877Z"
   },
   {
    "duration": 1651,
    "start_time": "2024-09-26T05:04:16.975Z"
   },
   {
    "duration": 13,
    "start_time": "2024-09-26T05:04:18.628Z"
   },
   {
    "duration": 21,
    "start_time": "2024-09-26T05:04:18.642Z"
   },
   {
    "duration": 167,
    "start_time": "2024-09-26T05:04:18.666Z"
   },
   {
    "duration": 0,
    "start_time": "2024-09-26T05:04:18.836Z"
   },
   {
    "duration": 0,
    "start_time": "2024-09-26T05:04:18.838Z"
   },
   {
    "duration": 0,
    "start_time": "2024-09-26T05:04:18.839Z"
   },
   {
    "duration": 0,
    "start_time": "2024-09-26T05:04:18.840Z"
   },
   {
    "duration": 0,
    "start_time": "2024-09-26T05:04:18.841Z"
   },
   {
    "duration": 0,
    "start_time": "2024-09-26T05:04:18.853Z"
   },
   {
    "duration": 0,
    "start_time": "2024-09-26T05:04:18.855Z"
   },
   {
    "duration": 0,
    "start_time": "2024-09-26T05:04:18.859Z"
   },
   {
    "duration": 0,
    "start_time": "2024-09-26T05:04:18.860Z"
   },
   {
    "duration": 0,
    "start_time": "2024-09-26T05:04:18.861Z"
   },
   {
    "duration": 0,
    "start_time": "2024-09-26T05:04:18.865Z"
   },
   {
    "duration": 0,
    "start_time": "2024-09-26T05:04:18.866Z"
   },
   {
    "duration": 0,
    "start_time": "2024-09-26T05:04:18.867Z"
   },
   {
    "duration": 0,
    "start_time": "2024-09-26T05:04:18.868Z"
   },
   {
    "duration": 1,
    "start_time": "2024-09-26T05:04:18.869Z"
   },
   {
    "duration": 0,
    "start_time": "2024-09-26T05:04:18.871Z"
   },
   {
    "duration": 0,
    "start_time": "2024-09-26T05:04:18.873Z"
   },
   {
    "duration": 0,
    "start_time": "2024-09-26T05:04:18.875Z"
   },
   {
    "duration": 0,
    "start_time": "2024-09-26T05:04:18.876Z"
   },
   {
    "duration": 0,
    "start_time": "2024-09-26T05:04:18.877Z"
   },
   {
    "duration": 0,
    "start_time": "2024-09-26T05:04:18.879Z"
   },
   {
    "duration": 0,
    "start_time": "2024-09-26T05:04:18.880Z"
   },
   {
    "duration": 0,
    "start_time": "2024-09-26T05:04:18.881Z"
   },
   {
    "duration": 0,
    "start_time": "2024-09-26T05:04:18.882Z"
   },
   {
    "duration": 0,
    "start_time": "2024-09-26T05:04:18.883Z"
   },
   {
    "duration": 0,
    "start_time": "2024-09-26T05:04:18.884Z"
   },
   {
    "duration": 0,
    "start_time": "2024-09-26T05:04:18.885Z"
   },
   {
    "duration": 0,
    "start_time": "2024-09-26T05:04:18.886Z"
   },
   {
    "duration": 0,
    "start_time": "2024-09-26T05:04:18.887Z"
   },
   {
    "duration": 0,
    "start_time": "2024-09-26T05:04:18.888Z"
   },
   {
    "duration": 0,
    "start_time": "2024-09-26T05:04:18.889Z"
   },
   {
    "duration": 0,
    "start_time": "2024-09-26T05:04:18.890Z"
   },
   {
    "duration": 0,
    "start_time": "2024-09-26T05:04:18.891Z"
   },
   {
    "duration": 0,
    "start_time": "2024-09-26T05:04:18.892Z"
   },
   {
    "duration": 0,
    "start_time": "2024-09-26T05:04:18.893Z"
   },
   {
    "duration": 0,
    "start_time": "2024-09-26T05:04:18.894Z"
   },
   {
    "duration": 0,
    "start_time": "2024-09-26T05:04:18.895Z"
   },
   {
    "duration": 0,
    "start_time": "2024-09-26T05:04:18.896Z"
   },
   {
    "duration": 0,
    "start_time": "2024-09-26T05:04:18.954Z"
   },
   {
    "duration": 0,
    "start_time": "2024-09-26T05:04:18.955Z"
   },
   {
    "duration": 0,
    "start_time": "2024-09-26T05:04:18.957Z"
   },
   {
    "duration": 0,
    "start_time": "2024-09-26T05:04:18.958Z"
   },
   {
    "duration": 0,
    "start_time": "2024-09-26T05:04:18.960Z"
   },
   {
    "duration": 1245,
    "start_time": "2024-09-26T05:06:03.790Z"
   },
   {
    "duration": 302,
    "start_time": "2024-09-26T05:06:05.037Z"
   },
   {
    "duration": 4,
    "start_time": "2024-09-26T05:06:05.341Z"
   },
   {
    "duration": 70,
    "start_time": "2024-09-26T05:06:05.346Z"
   },
   {
    "duration": 200,
    "start_time": "2024-09-26T05:06:05.418Z"
   },
   {
    "duration": 5,
    "start_time": "2024-09-26T05:06:05.619Z"
   },
   {
    "duration": 20,
    "start_time": "2024-09-26T05:06:05.625Z"
   },
   {
    "duration": 34,
    "start_time": "2024-09-26T05:06:05.652Z"
   },
   {
    "duration": 12,
    "start_time": "2024-09-26T05:06:05.688Z"
   },
   {
    "duration": 42,
    "start_time": "2024-09-26T05:06:05.702Z"
   },
   {
    "duration": 15,
    "start_time": "2024-09-26T05:06:05.746Z"
   },
   {
    "duration": 23,
    "start_time": "2024-09-26T05:06:05.762Z"
   },
   {
    "duration": 378,
    "start_time": "2024-09-26T05:06:05.787Z"
   },
   {
    "duration": 14,
    "start_time": "2024-09-26T05:06:06.169Z"
   },
   {
    "duration": 54,
    "start_time": "2024-09-26T05:06:06.185Z"
   },
   {
    "duration": 8,
    "start_time": "2024-09-26T05:06:06.240Z"
   },
   {
    "duration": 13,
    "start_time": "2024-09-26T05:06:06.249Z"
   },
   {
    "duration": 380,
    "start_time": "2024-09-26T05:06:06.264Z"
   },
   {
    "duration": 11,
    "start_time": "2024-09-26T05:06:06.646Z"
   },
   {
    "duration": 46,
    "start_time": "2024-09-26T05:06:06.660Z"
   },
   {
    "duration": 53,
    "start_time": "2024-09-26T05:06:06.753Z"
   },
   {
    "duration": 2937,
    "start_time": "2024-09-26T05:06:06.808Z"
   },
   {
    "duration": 20,
    "start_time": "2024-09-26T05:06:09.746Z"
   },
   {
    "duration": 13,
    "start_time": "2024-09-26T05:06:09.768Z"
   },
   {
    "duration": 5,
    "start_time": "2024-09-26T05:06:09.782Z"
   },
   {
    "duration": 788,
    "start_time": "2024-09-26T05:06:09.789Z"
   },
   {
    "duration": 8,
    "start_time": "2024-09-26T05:06:10.580Z"
   },
   {
    "duration": 20,
    "start_time": "2024-09-26T05:06:10.589Z"
   },
   {
    "duration": 6,
    "start_time": "2024-09-26T05:06:10.611Z"
   },
   {
    "duration": 9,
    "start_time": "2024-09-26T05:06:10.618Z"
   },
   {
    "duration": 628,
    "start_time": "2024-09-26T05:06:10.629Z"
   },
   {
    "duration": 27,
    "start_time": "2024-09-26T05:06:11.259Z"
   },
   {
    "duration": 7,
    "start_time": "2024-09-26T05:06:11.288Z"
   },
   {
    "duration": 13,
    "start_time": "2024-09-26T05:06:11.297Z"
   },
   {
    "duration": 997,
    "start_time": "2024-09-26T05:06:11.312Z"
   },
   {
    "duration": 112,
    "start_time": "2024-09-26T05:06:12.311Z"
   },
   {
    "duration": 10,
    "start_time": "2024-09-26T05:06:12.425Z"
   },
   {
    "duration": 18,
    "start_time": "2024-09-26T05:06:12.437Z"
   },
   {
    "duration": 29,
    "start_time": "2024-09-26T05:06:12.457Z"
   },
   {
    "duration": 16,
    "start_time": "2024-09-26T05:06:12.488Z"
   },
   {
    "duration": 6,
    "start_time": "2024-09-26T05:06:12.508Z"
   },
   {
    "duration": 46,
    "start_time": "2024-09-26T05:06:12.515Z"
   },
   {
    "duration": 6,
    "start_time": "2024-09-26T05:06:12.562Z"
   },
   {
    "duration": 4,
    "start_time": "2024-09-26T05:06:12.571Z"
   },
   {
    "duration": 6,
    "start_time": "2024-09-26T05:06:12.577Z"
   },
   {
    "duration": 9,
    "start_time": "2024-09-26T05:06:12.585Z"
   },
   {
    "duration": 620,
    "start_time": "2024-09-26T05:06:12.596Z"
   },
   {
    "duration": 5,
    "start_time": "2024-09-26T05:06:13.218Z"
   },
   {
    "duration": 51,
    "start_time": "2024-09-26T05:06:13.225Z"
   },
   {
    "duration": 10,
    "start_time": "2024-09-26T05:06:13.278Z"
   },
   {
    "duration": 89,
    "start_time": "2024-09-26T05:06:13.290Z"
   },
   {
    "duration": 37,
    "start_time": "2024-09-26T05:06:13.381Z"
   },
   {
    "duration": 76,
    "start_time": "2024-09-26T05:06:13.420Z"
   },
   {
    "duration": 104,
    "start_time": "2024-09-26T05:06:13.498Z"
   },
   {
    "duration": 60,
    "start_time": "2024-09-26T05:06:13.604Z"
   },
   {
    "duration": 107,
    "start_time": "2024-09-26T05:06:13.667Z"
   },
   {
    "duration": 6,
    "start_time": "2024-09-26T05:06:13.776Z"
   },
   {
    "duration": 97,
    "start_time": "2024-09-26T05:06:13.784Z"
   },
   {
    "duration": 5,
    "start_time": "2024-09-26T05:06:13.883Z"
   },
   {
    "duration": 86,
    "start_time": "2024-09-26T05:06:13.889Z"
   },
   {
    "duration": 6,
    "start_time": "2024-09-26T05:06:13.977Z"
   },
   {
    "duration": 5,
    "start_time": "2024-09-26T05:06:13.984Z"
   },
   {
    "duration": 10,
    "start_time": "2024-09-26T05:06:13.991Z"
   },
   {
    "duration": 59,
    "start_time": "2024-09-26T05:06:14.003Z"
   },
   {
    "duration": 5,
    "start_time": "2024-09-26T05:06:14.064Z"
   },
   {
    "duration": 40,
    "start_time": "2024-09-26T05:06:14.071Z"
   },
   {
    "duration": 6,
    "start_time": "2024-09-26T05:06:14.112Z"
   },
   {
    "duration": 35,
    "start_time": "2024-09-26T05:06:14.119Z"
   },
   {
    "duration": 788,
    "start_time": "2024-09-26T05:09:27.766Z"
   },
   {
    "duration": 876,
    "start_time": "2024-09-26T05:09:55.193Z"
   },
   {
    "duration": 810,
    "start_time": "2024-09-26T05:10:36.366Z"
   },
   {
    "duration": 807,
    "start_time": "2024-09-26T05:12:21.576Z"
   },
   {
    "duration": 785,
    "start_time": "2024-09-26T05:12:43.913Z"
   },
   {
    "duration": 874,
    "start_time": "2024-09-26T05:13:07.882Z"
   },
   {
    "duration": 1491,
    "start_time": "2024-09-26T05:17:15.527Z"
   },
   {
    "duration": 834,
    "start_time": "2024-09-26T05:17:52.584Z"
   },
   {
    "duration": 727,
    "start_time": "2024-09-26T05:18:12.155Z"
   },
   {
    "duration": 785,
    "start_time": "2024-09-26T05:18:19.428Z"
   },
   {
    "duration": 1433,
    "start_time": "2024-09-26T05:18:45.665Z"
   },
   {
    "duration": 1604,
    "start_time": "2024-09-26T05:19:59.326Z"
   },
   {
    "duration": 4,
    "start_time": "2024-09-26T05:20:28.090Z"
   },
   {
    "duration": 1455,
    "start_time": "2024-09-26T05:20:32.199Z"
   },
   {
    "duration": 1637,
    "start_time": "2024-09-26T05:20:55.398Z"
   },
   {
    "duration": 1602,
    "start_time": "2024-09-26T05:21:15.558Z"
   },
   {
    "duration": 757,
    "start_time": "2024-09-26T05:23:57.442Z"
   },
   {
    "duration": 811,
    "start_time": "2024-09-26T05:25:44.575Z"
   },
   {
    "duration": 664,
    "start_time": "2024-09-26T05:31:05.008Z"
   },
   {
    "duration": 1138,
    "start_time": "2024-09-26T05:31:41.340Z"
   },
   {
    "duration": 801,
    "start_time": "2024-09-26T05:35:13.622Z"
   },
   {
    "duration": 821,
    "start_time": "2024-09-26T05:35:19.794Z"
   },
   {
    "duration": 850,
    "start_time": "2024-09-26T05:35:30.223Z"
   },
   {
    "duration": 730,
    "start_time": "2024-09-26T05:36:21.336Z"
   },
   {
    "duration": 1137,
    "start_time": "2024-09-26T05:36:27.411Z"
   },
   {
    "duration": 741,
    "start_time": "2024-09-26T05:36:51.202Z"
   },
   {
    "duration": 834,
    "start_time": "2024-09-26T05:36:57.787Z"
   },
   {
    "duration": 1015,
    "start_time": "2024-09-26T05:37:07.293Z"
   },
   {
    "duration": 10,
    "start_time": "2024-09-26T05:55:43.985Z"
   },
   {
    "duration": 7,
    "start_time": "2024-09-26T05:55:59.204Z"
   },
   {
    "duration": 1216,
    "start_time": "2024-09-26T05:56:37.330Z"
   },
   {
    "duration": 338,
    "start_time": "2024-09-26T05:56:38.554Z"
   },
   {
    "duration": 4,
    "start_time": "2024-09-26T05:56:38.894Z"
   },
   {
    "duration": 43,
    "start_time": "2024-09-26T05:56:38.900Z"
   },
   {
    "duration": 181,
    "start_time": "2024-09-26T05:56:38.953Z"
   },
   {
    "duration": 20,
    "start_time": "2024-09-26T05:56:39.136Z"
   },
   {
    "duration": 9,
    "start_time": "2024-09-26T05:56:39.158Z"
   },
   {
    "duration": 31,
    "start_time": "2024-09-26T05:56:39.169Z"
   },
   {
    "duration": 12,
    "start_time": "2024-09-26T05:56:39.202Z"
   },
   {
    "duration": 51,
    "start_time": "2024-09-26T05:56:39.217Z"
   },
   {
    "duration": 13,
    "start_time": "2024-09-26T05:56:39.270Z"
   },
   {
    "duration": 16,
    "start_time": "2024-09-26T05:56:39.285Z"
   },
   {
    "duration": 399,
    "start_time": "2024-09-26T05:56:39.302Z"
   },
   {
    "duration": 11,
    "start_time": "2024-09-26T05:56:39.703Z"
   },
   {
    "duration": 15,
    "start_time": "2024-09-26T05:56:39.715Z"
   },
   {
    "duration": 25,
    "start_time": "2024-09-26T05:56:39.731Z"
   },
   {
    "duration": 11,
    "start_time": "2024-09-26T05:56:39.757Z"
   },
   {
    "duration": 355,
    "start_time": "2024-09-26T05:56:39.770Z"
   },
   {
    "duration": 10,
    "start_time": "2024-09-26T05:56:40.127Z"
   },
   {
    "duration": 44,
    "start_time": "2024-09-26T05:56:40.139Z"
   },
   {
    "duration": 108,
    "start_time": "2024-09-26T05:56:40.185Z"
   },
   {
    "duration": 1858,
    "start_time": "2024-09-26T05:56:40.295Z"
   },
   {
    "duration": 8,
    "start_time": "2024-09-26T05:56:42.154Z"
   },
   {
    "duration": 20,
    "start_time": "2024-09-26T05:56:42.164Z"
   },
   {
    "duration": 8,
    "start_time": "2024-09-26T05:56:42.186Z"
   },
   {
    "duration": 4,
    "start_time": "2024-09-26T05:56:42.196Z"
   },
   {
    "duration": 860,
    "start_time": "2024-09-26T05:56:42.201Z"
   },
   {
    "duration": 13,
    "start_time": "2024-09-26T05:56:43.066Z"
   },
   {
    "duration": 7,
    "start_time": "2024-09-26T05:56:43.080Z"
   },
   {
    "duration": 9,
    "start_time": "2024-09-26T05:56:43.089Z"
   },
   {
    "duration": 57,
    "start_time": "2024-09-26T05:56:43.099Z"
   },
   {
    "duration": 1106,
    "start_time": "2024-09-26T05:56:43.158Z"
   },
   {
    "duration": 22,
    "start_time": "2024-09-26T05:56:44.266Z"
   },
   {
    "duration": 63,
    "start_time": "2024-09-26T05:56:44.290Z"
   },
   {
    "duration": 9,
    "start_time": "2024-09-26T05:56:44.355Z"
   },
   {
    "duration": 899,
    "start_time": "2024-09-26T05:56:44.366Z"
   },
   {
    "duration": 93,
    "start_time": "2024-09-26T05:56:45.268Z"
   },
   {
    "duration": 8,
    "start_time": "2024-09-26T05:56:45.364Z"
   },
   {
    "duration": 17,
    "start_time": "2024-09-26T05:56:45.373Z"
   },
   {
    "duration": 25,
    "start_time": "2024-09-26T05:56:45.391Z"
   },
   {
    "duration": 36,
    "start_time": "2024-09-26T05:56:45.418Z"
   },
   {
    "duration": 20,
    "start_time": "2024-09-26T05:56:45.455Z"
   },
   {
    "duration": 18,
    "start_time": "2024-09-26T05:56:45.476Z"
   },
   {
    "duration": 5,
    "start_time": "2024-09-26T05:56:45.496Z"
   },
   {
    "duration": 4,
    "start_time": "2024-09-26T05:56:45.503Z"
   },
   {
    "duration": 5,
    "start_time": "2024-09-26T05:56:45.508Z"
   },
   {
    "duration": 7,
    "start_time": "2024-09-26T05:56:45.515Z"
   },
   {
    "duration": 559,
    "start_time": "2024-09-26T05:56:45.524Z"
   },
   {
    "duration": 5,
    "start_time": "2024-09-26T05:56:46.085Z"
   },
   {
    "duration": 25,
    "start_time": "2024-09-26T05:56:46.092Z"
   },
   {
    "duration": 9,
    "start_time": "2024-09-26T05:56:46.119Z"
   },
   {
    "duration": 62,
    "start_time": "2024-09-26T05:56:46.153Z"
   },
   {
    "duration": 58,
    "start_time": "2024-09-26T05:56:46.217Z"
   },
   {
    "duration": 45,
    "start_time": "2024-09-26T05:56:46.276Z"
   },
   {
    "duration": 93,
    "start_time": "2024-09-26T05:56:46.323Z"
   },
   {
    "duration": 53,
    "start_time": "2024-09-26T05:56:46.418Z"
   },
   {
    "duration": 84,
    "start_time": "2024-09-26T05:56:46.472Z"
   },
   {
    "duration": 4,
    "start_time": "2024-09-26T05:56:46.558Z"
   },
   {
    "duration": 164,
    "start_time": "2024-09-26T05:56:46.564Z"
   },
   {
    "duration": 5,
    "start_time": "2024-09-26T05:56:46.730Z"
   },
   {
    "duration": 61,
    "start_time": "2024-09-26T05:56:46.737Z"
   },
   {
    "duration": 5,
    "start_time": "2024-09-26T05:56:46.800Z"
   },
   {
    "duration": 21,
    "start_time": "2024-09-26T05:56:46.807Z"
   },
   {
    "duration": 7,
    "start_time": "2024-09-26T05:56:46.830Z"
   },
   {
    "duration": 43,
    "start_time": "2024-09-26T05:56:46.839Z"
   },
   {
    "duration": 4,
    "start_time": "2024-09-26T05:56:46.884Z"
   },
   {
    "duration": 66,
    "start_time": "2024-09-26T05:56:46.889Z"
   },
   {
    "duration": 6,
    "start_time": "2024-09-26T05:56:46.956Z"
   },
   {
    "duration": 6,
    "start_time": "2024-09-26T05:56:46.963Z"
   },
   {
    "duration": 1248,
    "start_time": "2024-09-26T05:57:53.363Z"
   },
   {
    "duration": 518,
    "start_time": "2024-09-26T05:57:54.612Z"
   },
   {
    "duration": 4,
    "start_time": "2024-09-26T05:57:55.132Z"
   },
   {
    "duration": 47,
    "start_time": "2024-09-26T05:57:55.138Z"
   },
   {
    "duration": 218,
    "start_time": "2024-09-26T05:57:55.187Z"
   },
   {
    "duration": 5,
    "start_time": "2024-09-26T05:57:55.407Z"
   },
   {
    "duration": 5,
    "start_time": "2024-09-26T05:57:55.414Z"
   },
   {
    "duration": 59,
    "start_time": "2024-09-26T05:57:55.421Z"
   },
   {
    "duration": 12,
    "start_time": "2024-09-26T05:57:55.481Z"
   },
   {
    "duration": 20,
    "start_time": "2024-09-26T05:57:55.497Z"
   },
   {
    "duration": 37,
    "start_time": "2024-09-26T05:57:55.519Z"
   },
   {
    "duration": 17,
    "start_time": "2024-09-26T05:57:55.557Z"
   },
   {
    "duration": 360,
    "start_time": "2024-09-26T05:57:55.575Z"
   },
   {
    "duration": 17,
    "start_time": "2024-09-26T05:57:55.936Z"
   },
   {
    "duration": 15,
    "start_time": "2024-09-26T05:57:55.954Z"
   },
   {
    "duration": 9,
    "start_time": "2024-09-26T05:57:55.971Z"
   },
   {
    "duration": 11,
    "start_time": "2024-09-26T05:57:55.982Z"
   },
   {
    "duration": 364,
    "start_time": "2024-09-26T05:57:55.995Z"
   },
   {
    "duration": 14,
    "start_time": "2024-09-26T05:57:56.361Z"
   },
   {
    "duration": 85,
    "start_time": "2024-09-26T05:57:56.377Z"
   },
   {
    "duration": 90,
    "start_time": "2024-09-26T05:57:56.463Z"
   },
   {
    "duration": 1884,
    "start_time": "2024-09-26T05:57:56.555Z"
   },
   {
    "duration": 8,
    "start_time": "2024-09-26T05:57:58.440Z"
   },
   {
    "duration": 27,
    "start_time": "2024-09-26T05:57:58.452Z"
   },
   {
    "duration": 12,
    "start_time": "2024-09-26T05:57:58.481Z"
   },
   {
    "duration": 5,
    "start_time": "2024-09-26T05:57:58.495Z"
   },
   {
    "duration": 733,
    "start_time": "2024-09-26T05:57:58.501Z"
   },
   {
    "duration": 4,
    "start_time": "2024-09-26T05:57:59.238Z"
   },
   {
    "duration": 36,
    "start_time": "2024-09-26T05:57:59.253Z"
   },
   {
    "duration": 8,
    "start_time": "2024-09-26T05:57:59.291Z"
   },
   {
    "duration": 4,
    "start_time": "2024-09-26T05:57:59.301Z"
   },
   {
    "duration": 37,
    "start_time": "2024-09-26T05:57:59.307Z"
   },
   {
    "duration": 5,
    "start_time": "2024-09-26T05:57:59.345Z"
   },
   {
    "duration": 574,
    "start_time": "2024-09-26T05:57:59.352Z"
   },
   {
    "duration": 31,
    "start_time": "2024-09-26T05:57:59.928Z"
   },
   {
    "duration": 7,
    "start_time": "2024-09-26T05:57:59.960Z"
   },
   {
    "duration": 10,
    "start_time": "2024-09-26T05:57:59.969Z"
   },
   {
    "duration": 940,
    "start_time": "2024-09-26T05:57:59.981Z"
   },
   {
    "duration": 85,
    "start_time": "2024-09-26T05:58:00.922Z"
   },
   {
    "duration": 7,
    "start_time": "2024-09-26T05:58:01.009Z"
   },
   {
    "duration": 19,
    "start_time": "2024-09-26T05:58:01.017Z"
   },
   {
    "duration": 28,
    "start_time": "2024-09-26T05:58:01.038Z"
   },
   {
    "duration": 13,
    "start_time": "2024-09-26T05:58:01.068Z"
   },
   {
    "duration": 17,
    "start_time": "2024-09-26T05:58:01.083Z"
   },
   {
    "duration": 35,
    "start_time": "2024-09-26T05:58:01.101Z"
   },
   {
    "duration": 3,
    "start_time": "2024-09-26T05:58:01.138Z"
   },
   {
    "duration": 8,
    "start_time": "2024-09-26T05:58:01.142Z"
   },
   {
    "duration": 10,
    "start_time": "2024-09-26T05:58:01.152Z"
   },
   {
    "duration": 18,
    "start_time": "2024-09-26T05:58:01.164Z"
   },
   {
    "duration": 545,
    "start_time": "2024-09-26T05:58:01.183Z"
   },
   {
    "duration": 5,
    "start_time": "2024-09-26T05:58:01.730Z"
   },
   {
    "duration": 39,
    "start_time": "2024-09-26T05:58:01.737Z"
   },
   {
    "duration": 10,
    "start_time": "2024-09-26T05:58:01.777Z"
   },
   {
    "duration": 100,
    "start_time": "2024-09-26T05:58:01.789Z"
   },
   {
    "duration": 36,
    "start_time": "2024-09-26T05:58:01.891Z"
   },
   {
    "duration": 56,
    "start_time": "2024-09-26T05:58:01.928Z"
   },
   {
    "duration": 87,
    "start_time": "2024-09-26T05:58:01.985Z"
   },
   {
    "duration": 45,
    "start_time": "2024-09-26T05:58:02.073Z"
   },
   {
    "duration": 100,
    "start_time": "2024-09-26T05:58:02.120Z"
   },
   {
    "duration": 5,
    "start_time": "2024-09-26T05:58:02.221Z"
   },
   {
    "duration": 100,
    "start_time": "2024-09-26T05:58:02.227Z"
   },
   {
    "duration": 27,
    "start_time": "2024-09-26T05:58:02.329Z"
   },
   {
    "duration": 85,
    "start_time": "2024-09-26T05:58:02.357Z"
   },
   {
    "duration": 5,
    "start_time": "2024-09-26T05:58:02.444Z"
   },
   {
    "duration": 38,
    "start_time": "2024-09-26T05:58:02.450Z"
   },
   {
    "duration": 30,
    "start_time": "2024-09-26T05:58:02.490Z"
   },
   {
    "duration": 65,
    "start_time": "2024-09-26T05:58:02.521Z"
   },
   {
    "duration": 24,
    "start_time": "2024-09-26T05:58:02.588Z"
   },
   {
    "duration": 111,
    "start_time": "2024-09-26T05:58:02.613Z"
   },
   {
    "duration": 18,
    "start_time": "2024-09-26T05:58:02.725Z"
   },
   {
    "duration": 22,
    "start_time": "2024-09-26T05:58:02.744Z"
   },
   {
    "duration": 15,
    "start_time": "2024-09-26T06:01:13.776Z"
   },
   {
    "duration": 1255,
    "start_time": "2024-09-26T06:01:20.632Z"
   },
   {
    "duration": 322,
    "start_time": "2024-09-26T06:01:21.889Z"
   },
   {
    "duration": 4,
    "start_time": "2024-09-26T06:01:22.212Z"
   },
   {
    "duration": 82,
    "start_time": "2024-09-26T06:01:22.218Z"
   },
   {
    "duration": 223,
    "start_time": "2024-09-26T06:01:22.302Z"
   },
   {
    "duration": 5,
    "start_time": "2024-09-26T06:01:22.528Z"
   },
   {
    "duration": 25,
    "start_time": "2024-09-26T06:01:22.534Z"
   },
   {
    "duration": 31,
    "start_time": "2024-09-26T06:01:22.561Z"
   },
   {
    "duration": 101,
    "start_time": "2024-09-26T06:01:22.594Z"
   },
   {
    "duration": 21,
    "start_time": "2024-09-26T06:01:22.698Z"
   },
   {
    "duration": 14,
    "start_time": "2024-09-26T06:01:22.721Z"
   },
   {
    "duration": 17,
    "start_time": "2024-09-26T06:01:22.736Z"
   },
   {
    "duration": 348,
    "start_time": "2024-09-26T06:01:22.755Z"
   },
   {
    "duration": 9,
    "start_time": "2024-09-26T06:01:23.105Z"
   },
   {
    "duration": 16,
    "start_time": "2024-09-26T06:01:23.116Z"
   },
   {
    "duration": 22,
    "start_time": "2024-09-26T06:01:23.134Z"
   },
   {
    "duration": 10,
    "start_time": "2024-09-26T06:01:23.158Z"
   },
   {
    "duration": 352,
    "start_time": "2024-09-26T06:01:23.169Z"
   },
   {
    "duration": 14,
    "start_time": "2024-09-26T06:01:23.523Z"
   },
   {
    "duration": 43,
    "start_time": "2024-09-26T06:01:23.538Z"
   },
   {
    "duration": 101,
    "start_time": "2024-09-26T06:01:23.583Z"
   },
   {
    "duration": 11,
    "start_time": "2024-09-26T06:01:23.686Z"
   },
   {
    "duration": 1915,
    "start_time": "2024-09-26T06:01:23.698Z"
   },
   {
    "duration": 15,
    "start_time": "2024-09-26T06:01:25.615Z"
   },
   {
    "duration": 22,
    "start_time": "2024-09-26T06:01:25.632Z"
   },
   {
    "duration": 6,
    "start_time": "2024-09-26T06:01:25.656Z"
   },
   {
    "duration": 1021,
    "start_time": "2024-09-26T06:01:25.664Z"
   },
   {
    "duration": 5,
    "start_time": "2024-09-26T06:01:26.689Z"
   },
   {
    "duration": 86,
    "start_time": "2024-09-26T06:01:26.695Z"
   },
   {
    "duration": 8,
    "start_time": "2024-09-26T06:01:26.783Z"
   },
   {
    "duration": 61,
    "start_time": "2024-09-26T06:01:26.792Z"
   },
   {
    "duration": 9,
    "start_time": "2024-09-26T06:01:26.855Z"
   },
   {
    "duration": 7,
    "start_time": "2024-09-26T06:01:26.865Z"
   },
   {
    "duration": 1030,
    "start_time": "2024-09-26T06:01:26.874Z"
   },
   {
    "duration": 19,
    "start_time": "2024-09-26T06:01:27.905Z"
   },
   {
    "duration": 6,
    "start_time": "2024-09-26T06:01:27.926Z"
   },
   {
    "duration": 23,
    "start_time": "2024-09-26T06:01:27.934Z"
   },
   {
    "duration": 913,
    "start_time": "2024-09-26T06:01:27.958Z"
   },
   {
    "duration": 105,
    "start_time": "2024-09-26T06:01:28.873Z"
   },
   {
    "duration": 8,
    "start_time": "2024-09-26T06:01:28.980Z"
   },
   {
    "duration": 8,
    "start_time": "2024-09-26T06:01:28.989Z"
   },
   {
    "duration": 35,
    "start_time": "2024-09-26T06:01:28.999Z"
   },
   {
    "duration": 21,
    "start_time": "2024-09-26T06:01:29.052Z"
   },
   {
    "duration": 8,
    "start_time": "2024-09-26T06:01:29.075Z"
   },
   {
    "duration": 15,
    "start_time": "2024-09-26T06:01:29.085Z"
   },
   {
    "duration": 3,
    "start_time": "2024-09-26T06:01:29.102Z"
   },
   {
    "duration": 4,
    "start_time": "2024-09-26T06:01:29.107Z"
   },
   {
    "duration": 5,
    "start_time": "2024-09-26T06:01:29.113Z"
   },
   {
    "duration": 37,
    "start_time": "2024-09-26T06:01:29.119Z"
   },
   {
    "duration": 598,
    "start_time": "2024-09-26T06:01:29.157Z"
   },
   {
    "duration": 6,
    "start_time": "2024-09-26T06:01:29.757Z"
   },
   {
    "duration": 27,
    "start_time": "2024-09-26T06:01:29.765Z"
   },
   {
    "duration": 10,
    "start_time": "2024-09-26T06:01:29.794Z"
   },
   {
    "duration": 91,
    "start_time": "2024-09-26T06:01:29.805Z"
   },
   {
    "duration": 37,
    "start_time": "2024-09-26T06:01:29.897Z"
   },
   {
    "duration": 51,
    "start_time": "2024-09-26T06:01:29.936Z"
   },
   {
    "duration": 92,
    "start_time": "2024-09-26T06:01:29.988Z"
   },
   {
    "duration": 44,
    "start_time": "2024-09-26T06:01:30.082Z"
   },
   {
    "duration": 106,
    "start_time": "2024-09-26T06:01:30.128Z"
   },
   {
    "duration": 5,
    "start_time": "2024-09-26T06:01:30.236Z"
   },
   {
    "duration": 98,
    "start_time": "2024-09-26T06:01:30.242Z"
   },
   {
    "duration": 20,
    "start_time": "2024-09-26T06:01:30.341Z"
   },
   {
    "duration": 63,
    "start_time": "2024-09-26T06:01:30.363Z"
   },
   {
    "duration": 6,
    "start_time": "2024-09-26T06:01:30.428Z"
   },
   {
    "duration": 24,
    "start_time": "2024-09-26T06:01:30.436Z"
   },
   {
    "duration": 29,
    "start_time": "2024-09-26T06:01:30.462Z"
   },
   {
    "duration": 55,
    "start_time": "2024-09-26T06:01:30.492Z"
   },
   {
    "duration": 6,
    "start_time": "2024-09-26T06:01:30.548Z"
   },
   {
    "duration": 37,
    "start_time": "2024-09-26T06:01:30.555Z"
   },
   {
    "duration": 6,
    "start_time": "2024-09-26T06:01:30.593Z"
   },
   {
    "duration": 93,
    "start_time": "2024-09-26T06:01:30.600Z"
   },
   {
    "duration": 782,
    "start_time": "2024-09-26T06:09:47.750Z"
   },
   {
    "duration": 773,
    "start_time": "2024-09-26T06:10:23.609Z"
   },
   {
    "duration": 655,
    "start_time": "2024-09-26T06:11:45.902Z"
   }
  ],
  "kernelspec": {
   "display_name": "Python 3 (ipykernel)",
   "language": "python",
   "name": "python3"
  },
  "language_info": {
   "codemirror_mode": {
    "name": "ipython",
    "version": 3
   },
   "file_extension": ".py",
   "mimetype": "text/x-python",
   "name": "python",
   "nbconvert_exporter": "python",
   "pygments_lexer": "ipython3",
   "version": "3.12.4"
  },
  "toc": {
   "base_numbering": 1,
   "nav_menu": {},
   "number_sections": true,
   "sideBar": true,
   "skip_h1_title": true,
   "title_cell": "Table of Contents",
   "title_sidebar": "Contents",
   "toc_cell": false,
   "toc_position": {
    "height": "calc(100% - 180px)",
    "left": "10px",
    "top": "150px",
    "width": "264.961px"
   },
   "toc_section_display": true,
   "toc_window_display": true
  }
 },
 "nbformat": 4,
 "nbformat_minor": 4
}
