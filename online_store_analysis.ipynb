{
 "cells": [
  {
   "cell_type": "markdown",
   "metadata": {},
   "source": [
    "<div style=\"background-color:lavender; color:#black; text-align:center; padding:2%\">\n",
    "    \n",
    "**Комментарий студента:** Эльвира, привет! Приятно познакомиться! Постараюсь учесть все советы и исправить ошибки, спасибо за проверку)"
   ]
  },
  {
   "cell_type": "markdown",
   "metadata": {},
   "source": [
    "# Исследование интернет-магазина"
   ]
  },
  {
   "cell_type": "markdown",
   "metadata": {},
   "source": [
    "## Введение"
   ]
  },
  {
   "cell_type": "markdown",
   "metadata": {},
   "source": [
    "В данной работе предстоит исследовать список гипотез, а также результаты A/B теста для крупного интернет-магазина с целью увеличения выручки.\n",
    "\n",
    "Необходимо:\n",
    "\n",
    "- провести приоритизация гипотез по увеличению выручки интернет-магазина с указанными параметрами Reach, Impact, Confidence и Effort с помощью фреймворков ICE и RICE;\n",
    "- по результатам A/B теста рассчитать агрегированные кумулятивные данные о заказах и о посетителях интернет-магазина, на основе расчётов построить кумулятивные графики;\n",
    "- провести работу по установлению границ аномальных значений для стоимости заказа и количества заказов пользователя;\n",
    "- провести расчёты статистической значимости по двум метрикам: различия по среднему количеству заказов и различия по среднему чеку между группами, как по \"сырым\", так и по \"очищенным\" данным.\n"
   ]
  },
  {
   "cell_type": "markdown",
   "metadata": {},
   "source": [
    "Опишем данные, с которыми предстоит работа:\n",
    "\n",
    "1. Таблица с гипотезами:\n",
    "- `Hypothesis` — краткое описание гипотезы;\n",
    "- `Reach` — охват пользователей по 10-балльной шкале;\n",
    "- `Impact` — влияние на пользователей по 10-балльной шкале;\n",
    "- `Confidence` — уверенность в гипотезе по 10-балльной шкале;\n",
    "- `Efforts` — затраты ресурсов на проверку гипотезы по 10-балльной шкале. Чем больше значение Efforts, тем дороже проверка гипотезы.\n",
    "2. Данные c заказами по итогам проведения A/B теста:\n",
    "- `transactionId` — идентификатор заказа;\n",
    "- `visitorId` — идентификатор пользователя, совершившего заказ;\n",
    "- `date` — дата, когда был совершён заказ;\n",
    "- `revenue` — выручка заказа;\n",
    "- `group` — группа A/B-теста, в которую попал заказ.\n",
    "\n",
    "3. Данные с посетителями интернет-магазина по итогам проведения A/B теста:\n",
    "- `date` — дата;\n",
    "- `group` — группа A/B-теста;\n",
    "- `visitors` — количество пользователей в указанную дату в указанной группе A/B-теста"
   ]
  },
  {
   "cell_type": "markdown",
   "metadata": {},
   "source": [
    "### Загрузка данных и их подготовка к анализу"
   ]
  },
  {
   "cell_type": "code",
   "execution_count": 7,
   "metadata": {},
   "outputs": [],
   "source": [
    "# импортируем необходимые библиотеки\n",
    "\n",
    "import pandas as pd\n",
    "import numpy as np\n",
    "import matplotlib.pyplot as plt\n",
    "from scipy import stats as st\n",
    "import warnings\n",
    "warnings.simplefilter(\"ignore\")"
   ]
  },
  {
   "cell_type": "code",
   "execution_count": 8,
   "metadata": {},
   "outputs": [],
   "source": [
    "# считываем необходимые данные в датафреймы\n",
    "\n",
    "hypothesis = pd.read_csv('C:/Users/Кристина/Desktop/Шпаргалки/Проекты/hypothesis.csv')\n",
    "orders = pd.read_csv('C:/Users/Кристина/Desktop/Шпаргалки/Проекты/orders.csv')\n",
    "visitors = pd.read_csv('C:/Users/Кристина/Desktop/Шпаргалки/Проекты/visitors.csv')"
   ]
  },
  {
   "cell_type": "code",
   "execution_count": 9,
   "metadata": {},
   "outputs": [],
   "source": [
    "# создадим функцию для первичной обработки данных (вывод общей информации)\n",
    "\n",
    "def research(data):\n",
    "    display(data.head(10))                                       # вывод первых строк датафрейма\n",
    "    print('*' * 50)                                              # разделитель\n",
    "    data.info()                                                  # вывод общей информации о датафрейме\n",
    "    print('*' * 50, '\\n\\033[1m Количество полных дублей: \\033[0m', \n",
    "            data.duplicated().sum())                             # проверка на полные дубликаты\n",
    "    print('*' * 50)\n",
    "    display(data.describe())                                     # описание распределения численных значений\n",
    "    print('*' * 50)\n",
    "    \n",
    "    for x in data.columns:\n",
    "        display(data[x].value_counts().to_frame())               # распределение значений в каждом столбце"
   ]
  },
  {
   "cell_type": "markdown",
   "metadata": {},
   "source": [
    "Далее исследуем исходные таблицы с данными."
   ]
  },
  {
   "cell_type": "markdown",
   "metadata": {},
   "source": [
    "#### Подготовка к анализу датафрейма `hypothesis`"
   ]
  },
  {
   "cell_type": "code",
   "execution_count": 12,
   "metadata": {
    "scrolled": true
   },
   "outputs": [
    {
     "data": {
      "text/html": [
       "<div>\n",
       "<style scoped>\n",
       "    .dataframe tbody tr th:only-of-type {\n",
       "        vertical-align: middle;\n",
       "    }\n",
       "\n",
       "    .dataframe tbody tr th {\n",
       "        vertical-align: top;\n",
       "    }\n",
       "\n",
       "    .dataframe thead th {\n",
       "        text-align: right;\n",
       "    }\n",
       "</style>\n",
       "<table border=\"1\" class=\"dataframe\">\n",
       "  <thead>\n",
       "    <tr style=\"text-align: right;\">\n",
       "      <th></th>\n",
       "      <th>Hypothesis</th>\n",
       "      <th>Reach</th>\n",
       "      <th>Impact</th>\n",
       "      <th>Confidence</th>\n",
       "      <th>Efforts</th>\n",
       "    </tr>\n",
       "  </thead>\n",
       "  <tbody>\n",
       "    <tr>\n",
       "      <th>0</th>\n",
       "      <td>Добавить два новых канала привлечения трафика, что позволит привлекать на 30% больше пользователей</td>\n",
       "      <td>3</td>\n",
       "      <td>10</td>\n",
       "      <td>8</td>\n",
       "      <td>6</td>\n",
       "    </tr>\n",
       "    <tr>\n",
       "      <th>1</th>\n",
       "      <td>Запустить собственную службу доставки, что сократит срок доставки заказов</td>\n",
       "      <td>2</td>\n",
       "      <td>5</td>\n",
       "      <td>4</td>\n",
       "      <td>10</td>\n",
       "    </tr>\n",
       "    <tr>\n",
       "      <th>2</th>\n",
       "      <td>Добавить блоки рекомендаций товаров на сайт интернет магазина, чтобы повысить конверсию и средний чек заказа</td>\n",
       "      <td>8</td>\n",
       "      <td>3</td>\n",
       "      <td>7</td>\n",
       "      <td>3</td>\n",
       "    </tr>\n",
       "    <tr>\n",
       "      <th>3</th>\n",
       "      <td>Изменить структура категорий, что увеличит конверсию, т.к. пользователи быстрее найдут нужный товар</td>\n",
       "      <td>8</td>\n",
       "      <td>3</td>\n",
       "      <td>3</td>\n",
       "      <td>8</td>\n",
       "    </tr>\n",
       "    <tr>\n",
       "      <th>4</th>\n",
       "      <td>Изменить цвет фона главной страницы, чтобы увеличить вовлеченность пользователей</td>\n",
       "      <td>3</td>\n",
       "      <td>1</td>\n",
       "      <td>1</td>\n",
       "      <td>1</td>\n",
       "    </tr>\n",
       "    <tr>\n",
       "      <th>5</th>\n",
       "      <td>Добавить страницу отзывов клиентов о магазине, что позволит увеличить количество заказов</td>\n",
       "      <td>3</td>\n",
       "      <td>2</td>\n",
       "      <td>2</td>\n",
       "      <td>3</td>\n",
       "    </tr>\n",
       "    <tr>\n",
       "      <th>6</th>\n",
       "      <td>Показать на главной странице баннеры с актуальными акциями и распродажами, чтобы увеличить конверсию</td>\n",
       "      <td>5</td>\n",
       "      <td>3</td>\n",
       "      <td>8</td>\n",
       "      <td>3</td>\n",
       "    </tr>\n",
       "    <tr>\n",
       "      <th>7</th>\n",
       "      <td>Добавить форму подписки на все основные страницы, чтобы собрать базу клиентов для email-рассылок</td>\n",
       "      <td>10</td>\n",
       "      <td>7</td>\n",
       "      <td>8</td>\n",
       "      <td>5</td>\n",
       "    </tr>\n",
       "    <tr>\n",
       "      <th>8</th>\n",
       "      <td>Запустить акцию, дающую скидку на товар в день рождения</td>\n",
       "      <td>1</td>\n",
       "      <td>9</td>\n",
       "      <td>9</td>\n",
       "      <td>5</td>\n",
       "    </tr>\n",
       "  </tbody>\n",
       "</table>\n",
       "</div>"
      ],
      "text/plain": [
       "                                                                                                     Hypothesis  \\\n",
       "0            Добавить два новых канала привлечения трафика, что позволит привлекать на 30% больше пользователей   \n",
       "1                                     Запустить собственную службу доставки, что сократит срок доставки заказов   \n",
       "2  Добавить блоки рекомендаций товаров на сайт интернет магазина, чтобы повысить конверсию и средний чек заказа   \n",
       "3           Изменить структура категорий, что увеличит конверсию, т.к. пользователи быстрее найдут нужный товар   \n",
       "4                              Изменить цвет фона главной страницы, чтобы увеличить вовлеченность пользователей   \n",
       "5                      Добавить страницу отзывов клиентов о магазине, что позволит увеличить количество заказов   \n",
       "6          Показать на главной странице баннеры с актуальными акциями и распродажами, чтобы увеличить конверсию   \n",
       "7              Добавить форму подписки на все основные страницы, чтобы собрать базу клиентов для email-рассылок   \n",
       "8                                                       Запустить акцию, дающую скидку на товар в день рождения   \n",
       "\n",
       "   Reach  Impact  Confidence  Efforts  \n",
       "0      3      10           8        6  \n",
       "1      2       5           4       10  \n",
       "2      8       3           7        3  \n",
       "3      8       3           3        8  \n",
       "4      3       1           1        1  \n",
       "5      3       2           2        3  \n",
       "6      5       3           8        3  \n",
       "7     10       7           8        5  \n",
       "8      1       9           9        5  "
      ]
     },
     "metadata": {},
     "output_type": "display_data"
    },
    {
     "name": "stdout",
     "output_type": "stream",
     "text": [
      "**************************************************\n",
      "<class 'pandas.core.frame.DataFrame'>\n",
      "RangeIndex: 9 entries, 0 to 8\n",
      "Data columns (total 5 columns):\n",
      " #   Column      Non-Null Count  Dtype \n",
      "---  ------      --------------  ----- \n",
      " 0   Hypothesis  9 non-null      object\n",
      " 1   Reach       9 non-null      int64 \n",
      " 2   Impact      9 non-null      int64 \n",
      " 3   Confidence  9 non-null      int64 \n",
      " 4   Efforts     9 non-null      int64 \n",
      "dtypes: int64(4), object(1)\n",
      "memory usage: 492.0+ bytes\n",
      "************************************************** \n",
      "\u001b[1m Количество полных дублей: \u001b[0m 0\n",
      "**************************************************\n"
     ]
    },
    {
     "data": {
      "text/html": [
       "<div>\n",
       "<style scoped>\n",
       "    .dataframe tbody tr th:only-of-type {\n",
       "        vertical-align: middle;\n",
       "    }\n",
       "\n",
       "    .dataframe tbody tr th {\n",
       "        vertical-align: top;\n",
       "    }\n",
       "\n",
       "    .dataframe thead th {\n",
       "        text-align: right;\n",
       "    }\n",
       "</style>\n",
       "<table border=\"1\" class=\"dataframe\">\n",
       "  <thead>\n",
       "    <tr style=\"text-align: right;\">\n",
       "      <th></th>\n",
       "      <th>Reach</th>\n",
       "      <th>Impact</th>\n",
       "      <th>Confidence</th>\n",
       "      <th>Efforts</th>\n",
       "    </tr>\n",
       "  </thead>\n",
       "  <tbody>\n",
       "    <tr>\n",
       "      <th>count</th>\n",
       "      <td>9.000000</td>\n",
       "      <td>9.000000</td>\n",
       "      <td>9.000000</td>\n",
       "      <td>9.000000</td>\n",
       "    </tr>\n",
       "    <tr>\n",
       "      <th>mean</th>\n",
       "      <td>4.777778</td>\n",
       "      <td>4.777778</td>\n",
       "      <td>5.555556</td>\n",
       "      <td>4.888889</td>\n",
       "    </tr>\n",
       "    <tr>\n",
       "      <th>std</th>\n",
       "      <td>3.153481</td>\n",
       "      <td>3.192874</td>\n",
       "      <td>3.045944</td>\n",
       "      <td>2.803767</td>\n",
       "    </tr>\n",
       "    <tr>\n",
       "      <th>min</th>\n",
       "      <td>1.000000</td>\n",
       "      <td>1.000000</td>\n",
       "      <td>1.000000</td>\n",
       "      <td>1.000000</td>\n",
       "    </tr>\n",
       "    <tr>\n",
       "      <th>25%</th>\n",
       "      <td>3.000000</td>\n",
       "      <td>3.000000</td>\n",
       "      <td>3.000000</td>\n",
       "      <td>3.000000</td>\n",
       "    </tr>\n",
       "    <tr>\n",
       "      <th>50%</th>\n",
       "      <td>3.000000</td>\n",
       "      <td>3.000000</td>\n",
       "      <td>7.000000</td>\n",
       "      <td>5.000000</td>\n",
       "    </tr>\n",
       "    <tr>\n",
       "      <th>75%</th>\n",
       "      <td>8.000000</td>\n",
       "      <td>7.000000</td>\n",
       "      <td>8.000000</td>\n",
       "      <td>6.000000</td>\n",
       "    </tr>\n",
       "    <tr>\n",
       "      <th>max</th>\n",
       "      <td>10.000000</td>\n",
       "      <td>10.000000</td>\n",
       "      <td>9.000000</td>\n",
       "      <td>10.000000</td>\n",
       "    </tr>\n",
       "  </tbody>\n",
       "</table>\n",
       "</div>"
      ],
      "text/plain": [
       "           Reach     Impact  Confidence    Efforts\n",
       "count   9.000000   9.000000    9.000000   9.000000\n",
       "mean    4.777778   4.777778    5.555556   4.888889\n",
       "std     3.153481   3.192874    3.045944   2.803767\n",
       "min     1.000000   1.000000    1.000000   1.000000\n",
       "25%     3.000000   3.000000    3.000000   3.000000\n",
       "50%     3.000000   3.000000    7.000000   5.000000\n",
       "75%     8.000000   7.000000    8.000000   6.000000\n",
       "max    10.000000  10.000000    9.000000  10.000000"
      ]
     },
     "metadata": {},
     "output_type": "display_data"
    },
    {
     "name": "stdout",
     "output_type": "stream",
     "text": [
      "**************************************************\n"
     ]
    },
    {
     "data": {
      "text/html": [
       "<div>\n",
       "<style scoped>\n",
       "    .dataframe tbody tr th:only-of-type {\n",
       "        vertical-align: middle;\n",
       "    }\n",
       "\n",
       "    .dataframe tbody tr th {\n",
       "        vertical-align: top;\n",
       "    }\n",
       "\n",
       "    .dataframe thead th {\n",
       "        text-align: right;\n",
       "    }\n",
       "</style>\n",
       "<table border=\"1\" class=\"dataframe\">\n",
       "  <thead>\n",
       "    <tr style=\"text-align: right;\">\n",
       "      <th></th>\n",
       "      <th>count</th>\n",
       "    </tr>\n",
       "    <tr>\n",
       "      <th>Hypothesis</th>\n",
       "      <th></th>\n",
       "    </tr>\n",
       "  </thead>\n",
       "  <tbody>\n",
       "    <tr>\n",
       "      <th>Добавить два новых канала привлечения трафика, что позволит привлекать на 30% больше пользователей</th>\n",
       "      <td>1</td>\n",
       "    </tr>\n",
       "    <tr>\n",
       "      <th>Запустить собственную службу доставки, что сократит срок доставки заказов</th>\n",
       "      <td>1</td>\n",
       "    </tr>\n",
       "    <tr>\n",
       "      <th>Добавить блоки рекомендаций товаров на сайт интернет магазина, чтобы повысить конверсию и средний чек заказа</th>\n",
       "      <td>1</td>\n",
       "    </tr>\n",
       "    <tr>\n",
       "      <th>Изменить структура категорий, что увеличит конверсию, т.к. пользователи быстрее найдут нужный товар</th>\n",
       "      <td>1</td>\n",
       "    </tr>\n",
       "    <tr>\n",
       "      <th>Изменить цвет фона главной страницы, чтобы увеличить вовлеченность пользователей</th>\n",
       "      <td>1</td>\n",
       "    </tr>\n",
       "    <tr>\n",
       "      <th>Добавить страницу отзывов клиентов о магазине, что позволит увеличить количество заказов</th>\n",
       "      <td>1</td>\n",
       "    </tr>\n",
       "    <tr>\n",
       "      <th>Показать на главной странице баннеры с актуальными акциями и распродажами, чтобы увеличить конверсию</th>\n",
       "      <td>1</td>\n",
       "    </tr>\n",
       "    <tr>\n",
       "      <th>Добавить форму подписки на все основные страницы, чтобы собрать базу клиентов для email-рассылок</th>\n",
       "      <td>1</td>\n",
       "    </tr>\n",
       "    <tr>\n",
       "      <th>Запустить акцию, дающую скидку на товар в день рождения</th>\n",
       "      <td>1</td>\n",
       "    </tr>\n",
       "  </tbody>\n",
       "</table>\n",
       "</div>"
      ],
      "text/plain": [
       "                                                                                                              count\n",
       "Hypothesis                                                                                                         \n",
       "Добавить два новых канала привлечения трафика, что позволит привлекать на 30% больше пользователей                1\n",
       "Запустить собственную службу доставки, что сократит срок доставки заказов                                         1\n",
       "Добавить блоки рекомендаций товаров на сайт интернет магазина, чтобы повысить конверсию и средний чек заказа      1\n",
       "Изменить структура категорий, что увеличит конверсию, т.к. пользователи быстрее найдут нужный товар               1\n",
       "Изменить цвет фона главной страницы, чтобы увеличить вовлеченность пользователей                                  1\n",
       "Добавить страницу отзывов клиентов о магазине, что позволит увеличить количество заказов                          1\n",
       "Показать на главной странице баннеры с актуальными акциями и распродажами, чтобы увеличить конверсию              1\n",
       "Добавить форму подписки на все основные страницы, чтобы собрать базу клиентов для email-рассылок                  1\n",
       "Запустить акцию, дающую скидку на товар в день рождения                                                           1"
      ]
     },
     "metadata": {},
     "output_type": "display_data"
    },
    {
     "data": {
      "text/html": [
       "<div>\n",
       "<style scoped>\n",
       "    .dataframe tbody tr th:only-of-type {\n",
       "        vertical-align: middle;\n",
       "    }\n",
       "\n",
       "    .dataframe tbody tr th {\n",
       "        vertical-align: top;\n",
       "    }\n",
       "\n",
       "    .dataframe thead th {\n",
       "        text-align: right;\n",
       "    }\n",
       "</style>\n",
       "<table border=\"1\" class=\"dataframe\">\n",
       "  <thead>\n",
       "    <tr style=\"text-align: right;\">\n",
       "      <th></th>\n",
       "      <th>count</th>\n",
       "    </tr>\n",
       "    <tr>\n",
       "      <th>Reach</th>\n",
       "      <th></th>\n",
       "    </tr>\n",
       "  </thead>\n",
       "  <tbody>\n",
       "    <tr>\n",
       "      <th>3</th>\n",
       "      <td>3</td>\n",
       "    </tr>\n",
       "    <tr>\n",
       "      <th>8</th>\n",
       "      <td>2</td>\n",
       "    </tr>\n",
       "    <tr>\n",
       "      <th>2</th>\n",
       "      <td>1</td>\n",
       "    </tr>\n",
       "    <tr>\n",
       "      <th>5</th>\n",
       "      <td>1</td>\n",
       "    </tr>\n",
       "    <tr>\n",
       "      <th>10</th>\n",
       "      <td>1</td>\n",
       "    </tr>\n",
       "    <tr>\n",
       "      <th>1</th>\n",
       "      <td>1</td>\n",
       "    </tr>\n",
       "  </tbody>\n",
       "</table>\n",
       "</div>"
      ],
      "text/plain": [
       "       count\n",
       "Reach       \n",
       "3          3\n",
       "8          2\n",
       "2          1\n",
       "5          1\n",
       "10         1\n",
       "1          1"
      ]
     },
     "metadata": {},
     "output_type": "display_data"
    },
    {
     "data": {
      "text/html": [
       "<div>\n",
       "<style scoped>\n",
       "    .dataframe tbody tr th:only-of-type {\n",
       "        vertical-align: middle;\n",
       "    }\n",
       "\n",
       "    .dataframe tbody tr th {\n",
       "        vertical-align: top;\n",
       "    }\n",
       "\n",
       "    .dataframe thead th {\n",
       "        text-align: right;\n",
       "    }\n",
       "</style>\n",
       "<table border=\"1\" class=\"dataframe\">\n",
       "  <thead>\n",
       "    <tr style=\"text-align: right;\">\n",
       "      <th></th>\n",
       "      <th>count</th>\n",
       "    </tr>\n",
       "    <tr>\n",
       "      <th>Impact</th>\n",
       "      <th></th>\n",
       "    </tr>\n",
       "  </thead>\n",
       "  <tbody>\n",
       "    <tr>\n",
       "      <th>3</th>\n",
       "      <td>3</td>\n",
       "    </tr>\n",
       "    <tr>\n",
       "      <th>10</th>\n",
       "      <td>1</td>\n",
       "    </tr>\n",
       "    <tr>\n",
       "      <th>5</th>\n",
       "      <td>1</td>\n",
       "    </tr>\n",
       "    <tr>\n",
       "      <th>1</th>\n",
       "      <td>1</td>\n",
       "    </tr>\n",
       "    <tr>\n",
       "      <th>2</th>\n",
       "      <td>1</td>\n",
       "    </tr>\n",
       "    <tr>\n",
       "      <th>7</th>\n",
       "      <td>1</td>\n",
       "    </tr>\n",
       "    <tr>\n",
       "      <th>9</th>\n",
       "      <td>1</td>\n",
       "    </tr>\n",
       "  </tbody>\n",
       "</table>\n",
       "</div>"
      ],
      "text/plain": [
       "        count\n",
       "Impact       \n",
       "3           3\n",
       "10          1\n",
       "5           1\n",
       "1           1\n",
       "2           1\n",
       "7           1\n",
       "9           1"
      ]
     },
     "metadata": {},
     "output_type": "display_data"
    },
    {
     "data": {
      "text/html": [
       "<div>\n",
       "<style scoped>\n",
       "    .dataframe tbody tr th:only-of-type {\n",
       "        vertical-align: middle;\n",
       "    }\n",
       "\n",
       "    .dataframe tbody tr th {\n",
       "        vertical-align: top;\n",
       "    }\n",
       "\n",
       "    .dataframe thead th {\n",
       "        text-align: right;\n",
       "    }\n",
       "</style>\n",
       "<table border=\"1\" class=\"dataframe\">\n",
       "  <thead>\n",
       "    <tr style=\"text-align: right;\">\n",
       "      <th></th>\n",
       "      <th>count</th>\n",
       "    </tr>\n",
       "    <tr>\n",
       "      <th>Confidence</th>\n",
       "      <th></th>\n",
       "    </tr>\n",
       "  </thead>\n",
       "  <tbody>\n",
       "    <tr>\n",
       "      <th>8</th>\n",
       "      <td>3</td>\n",
       "    </tr>\n",
       "    <tr>\n",
       "      <th>4</th>\n",
       "      <td>1</td>\n",
       "    </tr>\n",
       "    <tr>\n",
       "      <th>7</th>\n",
       "      <td>1</td>\n",
       "    </tr>\n",
       "    <tr>\n",
       "      <th>3</th>\n",
       "      <td>1</td>\n",
       "    </tr>\n",
       "    <tr>\n",
       "      <th>1</th>\n",
       "      <td>1</td>\n",
       "    </tr>\n",
       "    <tr>\n",
       "      <th>2</th>\n",
       "      <td>1</td>\n",
       "    </tr>\n",
       "    <tr>\n",
       "      <th>9</th>\n",
       "      <td>1</td>\n",
       "    </tr>\n",
       "  </tbody>\n",
       "</table>\n",
       "</div>"
      ],
      "text/plain": [
       "            count\n",
       "Confidence       \n",
       "8               3\n",
       "4               1\n",
       "7               1\n",
       "3               1\n",
       "1               1\n",
       "2               1\n",
       "9               1"
      ]
     },
     "metadata": {},
     "output_type": "display_data"
    },
    {
     "data": {
      "text/html": [
       "<div>\n",
       "<style scoped>\n",
       "    .dataframe tbody tr th:only-of-type {\n",
       "        vertical-align: middle;\n",
       "    }\n",
       "\n",
       "    .dataframe tbody tr th {\n",
       "        vertical-align: top;\n",
       "    }\n",
       "\n",
       "    .dataframe thead th {\n",
       "        text-align: right;\n",
       "    }\n",
       "</style>\n",
       "<table border=\"1\" class=\"dataframe\">\n",
       "  <thead>\n",
       "    <tr style=\"text-align: right;\">\n",
       "      <th></th>\n",
       "      <th>count</th>\n",
       "    </tr>\n",
       "    <tr>\n",
       "      <th>Efforts</th>\n",
       "      <th></th>\n",
       "    </tr>\n",
       "  </thead>\n",
       "  <tbody>\n",
       "    <tr>\n",
       "      <th>3</th>\n",
       "      <td>3</td>\n",
       "    </tr>\n",
       "    <tr>\n",
       "      <th>5</th>\n",
       "      <td>2</td>\n",
       "    </tr>\n",
       "    <tr>\n",
       "      <th>6</th>\n",
       "      <td>1</td>\n",
       "    </tr>\n",
       "    <tr>\n",
       "      <th>10</th>\n",
       "      <td>1</td>\n",
       "    </tr>\n",
       "    <tr>\n",
       "      <th>8</th>\n",
       "      <td>1</td>\n",
       "    </tr>\n",
       "    <tr>\n",
       "      <th>1</th>\n",
       "      <td>1</td>\n",
       "    </tr>\n",
       "  </tbody>\n",
       "</table>\n",
       "</div>"
      ],
      "text/plain": [
       "         count\n",
       "Efforts       \n",
       "3            3\n",
       "5            2\n",
       "6            1\n",
       "10           1\n",
       "8            1\n",
       "1            1"
      ]
     },
     "metadata": {},
     "output_type": "display_data"
    }
   ],
   "source": [
    "pd.set_option('display.max_colwidth', None)\n",
    "research(hypothesis)"
   ]
  },
  {
   "cell_type": "markdown",
   "metadata": {},
   "source": [
    "Таблица с гипотезами имеет 9 строк - гипотез с оценками параметров `Reach, Impact, Confidence, Effort` по 10-балльной шкале. Дубликатов и пропусков нет, типы данных заданы корректно. Однако названия столбцов лучше перевести в нижний регистр:"
   ]
  },
  {
   "cell_type": "code",
   "execution_count": 14,
   "metadata": {},
   "outputs": [
    {
     "data": {
      "text/plain": [
       "Index(['hypothesis', 'reach', 'impact', 'confidence', 'efforts'], dtype='object')"
      ]
     },
     "execution_count": 14,
     "metadata": {},
     "output_type": "execute_result"
    }
   ],
   "source": [
    "hypothesis.columns = hypothesis.columns.str.lower() # приводим название всех столбцов датафрейма к нижнему регистру\n",
    "hypothesis.columns                                  # проверка"
   ]
  },
  {
   "cell_type": "markdown",
   "metadata": {},
   "source": [
    "Далее исследуем таблицу с заказами."
   ]
  },
  {
   "cell_type": "markdown",
   "metadata": {},
   "source": [
    "#### Подготовка к анализу датафрейма `orders`"
   ]
  },
  {
   "cell_type": "code",
   "execution_count": 17,
   "metadata": {
    "scrolled": true
   },
   "outputs": [
    {
     "data": {
      "text/html": [
       "<div>\n",
       "<style scoped>\n",
       "    .dataframe tbody tr th:only-of-type {\n",
       "        vertical-align: middle;\n",
       "    }\n",
       "\n",
       "    .dataframe tbody tr th {\n",
       "        vertical-align: top;\n",
       "    }\n",
       "\n",
       "    .dataframe thead th {\n",
       "        text-align: right;\n",
       "    }\n",
       "</style>\n",
       "<table border=\"1\" class=\"dataframe\">\n",
       "  <thead>\n",
       "    <tr style=\"text-align: right;\">\n",
       "      <th></th>\n",
       "      <th>transactionId</th>\n",
       "      <th>visitorId</th>\n",
       "      <th>date</th>\n",
       "      <th>revenue</th>\n",
       "      <th>group</th>\n",
       "    </tr>\n",
       "  </thead>\n",
       "  <tbody>\n",
       "    <tr>\n",
       "      <th>0</th>\n",
       "      <td>3667963787</td>\n",
       "      <td>3312258926</td>\n",
       "      <td>2019-08-15</td>\n",
       "      <td>1650</td>\n",
       "      <td>B</td>\n",
       "    </tr>\n",
       "    <tr>\n",
       "      <th>1</th>\n",
       "      <td>2804400009</td>\n",
       "      <td>3642806036</td>\n",
       "      <td>2019-08-15</td>\n",
       "      <td>730</td>\n",
       "      <td>B</td>\n",
       "    </tr>\n",
       "    <tr>\n",
       "      <th>2</th>\n",
       "      <td>2961555356</td>\n",
       "      <td>4069496402</td>\n",
       "      <td>2019-08-15</td>\n",
       "      <td>400</td>\n",
       "      <td>A</td>\n",
       "    </tr>\n",
       "    <tr>\n",
       "      <th>3</th>\n",
       "      <td>3797467345</td>\n",
       "      <td>1196621759</td>\n",
       "      <td>2019-08-15</td>\n",
       "      <td>9759</td>\n",
       "      <td>B</td>\n",
       "    </tr>\n",
       "    <tr>\n",
       "      <th>4</th>\n",
       "      <td>2282983706</td>\n",
       "      <td>2322279887</td>\n",
       "      <td>2019-08-15</td>\n",
       "      <td>2308</td>\n",
       "      <td>B</td>\n",
       "    </tr>\n",
       "    <tr>\n",
       "      <th>5</th>\n",
       "      <td>182168103</td>\n",
       "      <td>935554773</td>\n",
       "      <td>2019-08-15</td>\n",
       "      <td>2210</td>\n",
       "      <td>B</td>\n",
       "    </tr>\n",
       "    <tr>\n",
       "      <th>6</th>\n",
       "      <td>398296753</td>\n",
       "      <td>2900797465</td>\n",
       "      <td>2019-08-15</td>\n",
       "      <td>1860</td>\n",
       "      <td>B</td>\n",
       "    </tr>\n",
       "    <tr>\n",
       "      <th>7</th>\n",
       "      <td>2626614568</td>\n",
       "      <td>78758296</td>\n",
       "      <td>2019-08-15</td>\n",
       "      <td>1044</td>\n",
       "      <td>A</td>\n",
       "    </tr>\n",
       "    <tr>\n",
       "      <th>8</th>\n",
       "      <td>1576988021</td>\n",
       "      <td>295230930</td>\n",
       "      <td>2019-08-15</td>\n",
       "      <td>13710</td>\n",
       "      <td>A</td>\n",
       "    </tr>\n",
       "    <tr>\n",
       "      <th>9</th>\n",
       "      <td>1506739906</td>\n",
       "      <td>1882260405</td>\n",
       "      <td>2019-08-15</td>\n",
       "      <td>1855</td>\n",
       "      <td>B</td>\n",
       "    </tr>\n",
       "  </tbody>\n",
       "</table>\n",
       "</div>"
      ],
      "text/plain": [
       "   transactionId   visitorId        date  revenue group\n",
       "0     3667963787  3312258926  2019-08-15     1650     B\n",
       "1     2804400009  3642806036  2019-08-15      730     B\n",
       "2     2961555356  4069496402  2019-08-15      400     A\n",
       "3     3797467345  1196621759  2019-08-15     9759     B\n",
       "4     2282983706  2322279887  2019-08-15     2308     B\n",
       "5      182168103   935554773  2019-08-15     2210     B\n",
       "6      398296753  2900797465  2019-08-15     1860     B\n",
       "7     2626614568    78758296  2019-08-15     1044     A\n",
       "8     1576988021   295230930  2019-08-15    13710     A\n",
       "9     1506739906  1882260405  2019-08-15     1855     B"
      ]
     },
     "metadata": {},
     "output_type": "display_data"
    },
    {
     "name": "stdout",
     "output_type": "stream",
     "text": [
      "**************************************************\n",
      "<class 'pandas.core.frame.DataFrame'>\n",
      "RangeIndex: 1197 entries, 0 to 1196\n",
      "Data columns (total 5 columns):\n",
      " #   Column         Non-Null Count  Dtype \n",
      "---  ------         --------------  ----- \n",
      " 0   transactionId  1197 non-null   int64 \n",
      " 1   visitorId      1197 non-null   int64 \n",
      " 2   date           1197 non-null   object\n",
      " 3   revenue        1197 non-null   int64 \n",
      " 4   group          1197 non-null   object\n",
      "dtypes: int64(3), object(2)\n",
      "memory usage: 46.9+ KB\n",
      "************************************************** \n",
      "\u001b[1m Количество полных дублей: \u001b[0m 0\n",
      "**************************************************\n"
     ]
    },
    {
     "data": {
      "text/html": [
       "<div>\n",
       "<style scoped>\n",
       "    .dataframe tbody tr th:only-of-type {\n",
       "        vertical-align: middle;\n",
       "    }\n",
       "\n",
       "    .dataframe tbody tr th {\n",
       "        vertical-align: top;\n",
       "    }\n",
       "\n",
       "    .dataframe thead th {\n",
       "        text-align: right;\n",
       "    }\n",
       "</style>\n",
       "<table border=\"1\" class=\"dataframe\">\n",
       "  <thead>\n",
       "    <tr style=\"text-align: right;\">\n",
       "      <th></th>\n",
       "      <th>transactionId</th>\n",
       "      <th>visitorId</th>\n",
       "      <th>revenue</th>\n",
       "    </tr>\n",
       "  </thead>\n",
       "  <tbody>\n",
       "    <tr>\n",
       "      <th>count</th>\n",
       "      <td>1.197000e+03</td>\n",
       "      <td>1.197000e+03</td>\n",
       "      <td>1.197000e+03</td>\n",
       "    </tr>\n",
       "    <tr>\n",
       "      <th>mean</th>\n",
       "      <td>2.155621e+09</td>\n",
       "      <td>2.165960e+09</td>\n",
       "      <td>8.348006e+03</td>\n",
       "    </tr>\n",
       "    <tr>\n",
       "      <th>std</th>\n",
       "      <td>1.229085e+09</td>\n",
       "      <td>1.236014e+09</td>\n",
       "      <td>3.919113e+04</td>\n",
       "    </tr>\n",
       "    <tr>\n",
       "      <th>min</th>\n",
       "      <td>1.062393e+06</td>\n",
       "      <td>5.114589e+06</td>\n",
       "      <td>5.000000e+01</td>\n",
       "    </tr>\n",
       "    <tr>\n",
       "      <th>25%</th>\n",
       "      <td>1.166776e+09</td>\n",
       "      <td>1.111826e+09</td>\n",
       "      <td>1.220000e+03</td>\n",
       "    </tr>\n",
       "    <tr>\n",
       "      <th>50%</th>\n",
       "      <td>2.145194e+09</td>\n",
       "      <td>2.217985e+09</td>\n",
       "      <td>2.978000e+03</td>\n",
       "    </tr>\n",
       "    <tr>\n",
       "      <th>75%</th>\n",
       "      <td>3.237740e+09</td>\n",
       "      <td>3.177606e+09</td>\n",
       "      <td>8.290000e+03</td>\n",
       "    </tr>\n",
       "    <tr>\n",
       "      <th>max</th>\n",
       "      <td>4.293856e+09</td>\n",
       "      <td>4.283872e+09</td>\n",
       "      <td>1.294500e+06</td>\n",
       "    </tr>\n",
       "  </tbody>\n",
       "</table>\n",
       "</div>"
      ],
      "text/plain": [
       "       transactionId     visitorId       revenue\n",
       "count   1.197000e+03  1.197000e+03  1.197000e+03\n",
       "mean    2.155621e+09  2.165960e+09  8.348006e+03\n",
       "std     1.229085e+09  1.236014e+09  3.919113e+04\n",
       "min     1.062393e+06  5.114589e+06  5.000000e+01\n",
       "25%     1.166776e+09  1.111826e+09  1.220000e+03\n",
       "50%     2.145194e+09  2.217985e+09  2.978000e+03\n",
       "75%     3.237740e+09  3.177606e+09  8.290000e+03\n",
       "max     4.293856e+09  4.283872e+09  1.294500e+06"
      ]
     },
     "metadata": {},
     "output_type": "display_data"
    },
    {
     "name": "stdout",
     "output_type": "stream",
     "text": [
      "**************************************************\n"
     ]
    },
    {
     "data": {
      "text/html": [
       "<div>\n",
       "<style scoped>\n",
       "    .dataframe tbody tr th:only-of-type {\n",
       "        vertical-align: middle;\n",
       "    }\n",
       "\n",
       "    .dataframe tbody tr th {\n",
       "        vertical-align: top;\n",
       "    }\n",
       "\n",
       "    .dataframe thead th {\n",
       "        text-align: right;\n",
       "    }\n",
       "</style>\n",
       "<table border=\"1\" class=\"dataframe\">\n",
       "  <thead>\n",
       "    <tr style=\"text-align: right;\">\n",
       "      <th></th>\n",
       "      <th>count</th>\n",
       "    </tr>\n",
       "    <tr>\n",
       "      <th>transactionId</th>\n",
       "      <th></th>\n",
       "    </tr>\n",
       "  </thead>\n",
       "  <tbody>\n",
       "    <tr>\n",
       "      <th>3667963787</th>\n",
       "      <td>1</td>\n",
       "    </tr>\n",
       "    <tr>\n",
       "      <th>4167421281</th>\n",
       "      <td>1</td>\n",
       "    </tr>\n",
       "    <tr>\n",
       "      <th>2875229767</th>\n",
       "      <td>1</td>\n",
       "    </tr>\n",
       "    <tr>\n",
       "      <th>504373597</th>\n",
       "      <td>1</td>\n",
       "    </tr>\n",
       "    <tr>\n",
       "      <th>2017680897</th>\n",
       "      <td>1</td>\n",
       "    </tr>\n",
       "    <tr>\n",
       "      <th>...</th>\n",
       "      <td>...</td>\n",
       "    </tr>\n",
       "    <tr>\n",
       "      <th>1853288890</th>\n",
       "      <td>1</td>\n",
       "    </tr>\n",
       "    <tr>\n",
       "      <th>2084190534</th>\n",
       "      <td>1</td>\n",
       "    </tr>\n",
       "    <tr>\n",
       "      <th>2956594374</th>\n",
       "      <td>1</td>\n",
       "    </tr>\n",
       "    <tr>\n",
       "      <th>3646798055</th>\n",
       "      <td>1</td>\n",
       "    </tr>\n",
       "    <tr>\n",
       "      <th>3936777065</th>\n",
       "      <td>1</td>\n",
       "    </tr>\n",
       "  </tbody>\n",
       "</table>\n",
       "<p>1197 rows × 1 columns</p>\n",
       "</div>"
      ],
      "text/plain": [
       "               count\n",
       "transactionId       \n",
       "3667963787         1\n",
       "4167421281         1\n",
       "2875229767         1\n",
       "504373597          1\n",
       "2017680897         1\n",
       "...              ...\n",
       "1853288890         1\n",
       "2084190534         1\n",
       "2956594374         1\n",
       "3646798055         1\n",
       "3936777065         1\n",
       "\n",
       "[1197 rows x 1 columns]"
      ]
     },
     "metadata": {},
     "output_type": "display_data"
    },
    {
     "data": {
      "text/html": [
       "<div>\n",
       "<style scoped>\n",
       "    .dataframe tbody tr th:only-of-type {\n",
       "        vertical-align: middle;\n",
       "    }\n",
       "\n",
       "    .dataframe tbody tr th {\n",
       "        vertical-align: top;\n",
       "    }\n",
       "\n",
       "    .dataframe thead th {\n",
       "        text-align: right;\n",
       "    }\n",
       "</style>\n",
       "<table border=\"1\" class=\"dataframe\">\n",
       "  <thead>\n",
       "    <tr style=\"text-align: right;\">\n",
       "      <th></th>\n",
       "      <th>count</th>\n",
       "    </tr>\n",
       "    <tr>\n",
       "      <th>visitorId</th>\n",
       "      <th></th>\n",
       "    </tr>\n",
       "  </thead>\n",
       "  <tbody>\n",
       "    <tr>\n",
       "      <th>4256040402</th>\n",
       "      <td>11</td>\n",
       "    </tr>\n",
       "    <tr>\n",
       "      <th>2458001652</th>\n",
       "      <td>11</td>\n",
       "    </tr>\n",
       "    <tr>\n",
       "      <th>2378935119</th>\n",
       "      <td>9</td>\n",
       "    </tr>\n",
       "    <tr>\n",
       "      <th>2038680547</th>\n",
       "      <td>8</td>\n",
       "    </tr>\n",
       "    <tr>\n",
       "      <th>199603092</th>\n",
       "      <td>5</td>\n",
       "    </tr>\n",
       "    <tr>\n",
       "      <th>...</th>\n",
       "      <td>...</td>\n",
       "    </tr>\n",
       "    <tr>\n",
       "      <th>2524310328</th>\n",
       "      <td>1</td>\n",
       "    </tr>\n",
       "    <tr>\n",
       "      <th>2210805728</th>\n",
       "      <td>1</td>\n",
       "    </tr>\n",
       "    <tr>\n",
       "      <th>2274825520</th>\n",
       "      <td>1</td>\n",
       "    </tr>\n",
       "    <tr>\n",
       "      <th>1831227158</th>\n",
       "      <td>1</td>\n",
       "    </tr>\n",
       "    <tr>\n",
       "      <th>2108080724</th>\n",
       "      <td>1</td>\n",
       "    </tr>\n",
       "  </tbody>\n",
       "</table>\n",
       "<p>1031 rows × 1 columns</p>\n",
       "</div>"
      ],
      "text/plain": [
       "            count\n",
       "visitorId        \n",
       "4256040402     11\n",
       "2458001652     11\n",
       "2378935119      9\n",
       "2038680547      8\n",
       "199603092       5\n",
       "...           ...\n",
       "2524310328      1\n",
       "2210805728      1\n",
       "2274825520      1\n",
       "1831227158      1\n",
       "2108080724      1\n",
       "\n",
       "[1031 rows x 1 columns]"
      ]
     },
     "metadata": {},
     "output_type": "display_data"
    },
    {
     "data": {
      "text/html": [
       "<div>\n",
       "<style scoped>\n",
       "    .dataframe tbody tr th:only-of-type {\n",
       "        vertical-align: middle;\n",
       "    }\n",
       "\n",
       "    .dataframe tbody tr th {\n",
       "        vertical-align: top;\n",
       "    }\n",
       "\n",
       "    .dataframe thead th {\n",
       "        text-align: right;\n",
       "    }\n",
       "</style>\n",
       "<table border=\"1\" class=\"dataframe\">\n",
       "  <thead>\n",
       "    <tr style=\"text-align: right;\">\n",
       "      <th></th>\n",
       "      <th>count</th>\n",
       "    </tr>\n",
       "    <tr>\n",
       "      <th>date</th>\n",
       "      <th></th>\n",
       "    </tr>\n",
       "  </thead>\n",
       "  <tbody>\n",
       "    <tr>\n",
       "      <th>2019-08-05</th>\n",
       "      <td>48</td>\n",
       "    </tr>\n",
       "    <tr>\n",
       "      <th>2019-08-14</th>\n",
       "      <td>47</td>\n",
       "    </tr>\n",
       "    <tr>\n",
       "      <th>2019-08-12</th>\n",
       "      <td>47</td>\n",
       "    </tr>\n",
       "    <tr>\n",
       "      <th>2019-08-06</th>\n",
       "      <td>46</td>\n",
       "    </tr>\n",
       "    <tr>\n",
       "      <th>2019-08-15</th>\n",
       "      <td>46</td>\n",
       "    </tr>\n",
       "    <tr>\n",
       "      <th>2019-08-01</th>\n",
       "      <td>45</td>\n",
       "    </tr>\n",
       "    <tr>\n",
       "      <th>2019-08-28</th>\n",
       "      <td>45</td>\n",
       "    </tr>\n",
       "    <tr>\n",
       "      <th>2019-08-02</th>\n",
       "      <td>44</td>\n",
       "    </tr>\n",
       "    <tr>\n",
       "      <th>2019-08-27</th>\n",
       "      <td>44</td>\n",
       "    </tr>\n",
       "    <tr>\n",
       "      <th>2019-08-08</th>\n",
       "      <td>43</td>\n",
       "    </tr>\n",
       "    <tr>\n",
       "      <th>2019-08-19</th>\n",
       "      <td>43</td>\n",
       "    </tr>\n",
       "    <tr>\n",
       "      <th>2019-08-29</th>\n",
       "      <td>42</td>\n",
       "    </tr>\n",
       "    <tr>\n",
       "      <th>2019-08-07</th>\n",
       "      <td>42</td>\n",
       "    </tr>\n",
       "    <tr>\n",
       "      <th>2019-08-22</th>\n",
       "      <td>41</td>\n",
       "    </tr>\n",
       "    <tr>\n",
       "      <th>2019-08-09</th>\n",
       "      <td>41</td>\n",
       "    </tr>\n",
       "    <tr>\n",
       "      <th>2019-08-26</th>\n",
       "      <td>41</td>\n",
       "    </tr>\n",
       "    <tr>\n",
       "      <th>2019-08-03</th>\n",
       "      <td>40</td>\n",
       "    </tr>\n",
       "    <tr>\n",
       "      <th>2019-08-23</th>\n",
       "      <td>40</td>\n",
       "    </tr>\n",
       "    <tr>\n",
       "      <th>2019-08-10</th>\n",
       "      <td>39</td>\n",
       "    </tr>\n",
       "    <tr>\n",
       "      <th>2019-08-16</th>\n",
       "      <td>38</td>\n",
       "    </tr>\n",
       "    <tr>\n",
       "      <th>2019-08-21</th>\n",
       "      <td>37</td>\n",
       "    </tr>\n",
       "    <tr>\n",
       "      <th>2019-08-30</th>\n",
       "      <td>35</td>\n",
       "    </tr>\n",
       "    <tr>\n",
       "      <th>2019-08-13</th>\n",
       "      <td>35</td>\n",
       "    </tr>\n",
       "    <tr>\n",
       "      <th>2019-08-04</th>\n",
       "      <td>33</td>\n",
       "    </tr>\n",
       "    <tr>\n",
       "      <th>2019-08-20</th>\n",
       "      <td>32</td>\n",
       "    </tr>\n",
       "    <tr>\n",
       "      <th>2019-08-31</th>\n",
       "      <td>32</td>\n",
       "    </tr>\n",
       "    <tr>\n",
       "      <th>2019-08-24</th>\n",
       "      <td>31</td>\n",
       "    </tr>\n",
       "    <tr>\n",
       "      <th>2019-08-11</th>\n",
       "      <td>26</td>\n",
       "    </tr>\n",
       "    <tr>\n",
       "      <th>2019-08-18</th>\n",
       "      <td>26</td>\n",
       "    </tr>\n",
       "    <tr>\n",
       "      <th>2019-08-17</th>\n",
       "      <td>24</td>\n",
       "    </tr>\n",
       "    <tr>\n",
       "      <th>2019-08-25</th>\n",
       "      <td>24</td>\n",
       "    </tr>\n",
       "  </tbody>\n",
       "</table>\n",
       "</div>"
      ],
      "text/plain": [
       "            count\n",
       "date             \n",
       "2019-08-05     48\n",
       "2019-08-14     47\n",
       "2019-08-12     47\n",
       "2019-08-06     46\n",
       "2019-08-15     46\n",
       "2019-08-01     45\n",
       "2019-08-28     45\n",
       "2019-08-02     44\n",
       "2019-08-27     44\n",
       "2019-08-08     43\n",
       "2019-08-19     43\n",
       "2019-08-29     42\n",
       "2019-08-07     42\n",
       "2019-08-22     41\n",
       "2019-08-09     41\n",
       "2019-08-26     41\n",
       "2019-08-03     40\n",
       "2019-08-23     40\n",
       "2019-08-10     39\n",
       "2019-08-16     38\n",
       "2019-08-21     37\n",
       "2019-08-30     35\n",
       "2019-08-13     35\n",
       "2019-08-04     33\n",
       "2019-08-20     32\n",
       "2019-08-31     32\n",
       "2019-08-24     31\n",
       "2019-08-11     26\n",
       "2019-08-18     26\n",
       "2019-08-17     24\n",
       "2019-08-25     24"
      ]
     },
     "metadata": {},
     "output_type": "display_data"
    },
    {
     "data": {
      "text/html": [
       "<div>\n",
       "<style scoped>\n",
       "    .dataframe tbody tr th:only-of-type {\n",
       "        vertical-align: middle;\n",
       "    }\n",
       "\n",
       "    .dataframe tbody tr th {\n",
       "        vertical-align: top;\n",
       "    }\n",
       "\n",
       "    .dataframe thead th {\n",
       "        text-align: right;\n",
       "    }\n",
       "</style>\n",
       "<table border=\"1\" class=\"dataframe\">\n",
       "  <thead>\n",
       "    <tr style=\"text-align: right;\">\n",
       "      <th></th>\n",
       "      <th>count</th>\n",
       "    </tr>\n",
       "    <tr>\n",
       "      <th>revenue</th>\n",
       "      <th></th>\n",
       "    </tr>\n",
       "  </thead>\n",
       "  <tbody>\n",
       "    <tr>\n",
       "      <th>990</th>\n",
       "      <td>17</td>\n",
       "    </tr>\n",
       "    <tr>\n",
       "      <th>390</th>\n",
       "      <td>13</td>\n",
       "    </tr>\n",
       "    <tr>\n",
       "      <th>890</th>\n",
       "      <td>13</td>\n",
       "    </tr>\n",
       "    <tr>\n",
       "      <th>400</th>\n",
       "      <td>10</td>\n",
       "    </tr>\n",
       "    <tr>\n",
       "      <th>1490</th>\n",
       "      <td>10</td>\n",
       "    </tr>\n",
       "    <tr>\n",
       "      <th>...</th>\n",
       "      <td>...</td>\n",
       "    </tr>\n",
       "    <tr>\n",
       "      <th>70</th>\n",
       "      <td>1</td>\n",
       "    </tr>\n",
       "    <tr>\n",
       "      <th>3080</th>\n",
       "      <td>1</td>\n",
       "    </tr>\n",
       "    <tr>\n",
       "      <th>19240</th>\n",
       "      <td>1</td>\n",
       "    </tr>\n",
       "    <tr>\n",
       "      <th>3890</th>\n",
       "      <td>1</td>\n",
       "    </tr>\n",
       "    <tr>\n",
       "      <th>202740</th>\n",
       "      <td>1</td>\n",
       "    </tr>\n",
       "  </tbody>\n",
       "</table>\n",
       "<p>713 rows × 1 columns</p>\n",
       "</div>"
      ],
      "text/plain": [
       "         count\n",
       "revenue       \n",
       "990         17\n",
       "390         13\n",
       "890         13\n",
       "400         10\n",
       "1490        10\n",
       "...        ...\n",
       "70           1\n",
       "3080         1\n",
       "19240        1\n",
       "3890         1\n",
       "202740       1\n",
       "\n",
       "[713 rows x 1 columns]"
      ]
     },
     "metadata": {},
     "output_type": "display_data"
    },
    {
     "data": {
      "text/html": [
       "<div>\n",
       "<style scoped>\n",
       "    .dataframe tbody tr th:only-of-type {\n",
       "        vertical-align: middle;\n",
       "    }\n",
       "\n",
       "    .dataframe tbody tr th {\n",
       "        vertical-align: top;\n",
       "    }\n",
       "\n",
       "    .dataframe thead th {\n",
       "        text-align: right;\n",
       "    }\n",
       "</style>\n",
       "<table border=\"1\" class=\"dataframe\">\n",
       "  <thead>\n",
       "    <tr style=\"text-align: right;\">\n",
       "      <th></th>\n",
       "      <th>count</th>\n",
       "    </tr>\n",
       "    <tr>\n",
       "      <th>group</th>\n",
       "      <th></th>\n",
       "    </tr>\n",
       "  </thead>\n",
       "  <tbody>\n",
       "    <tr>\n",
       "      <th>B</th>\n",
       "      <td>640</td>\n",
       "    </tr>\n",
       "    <tr>\n",
       "      <th>A</th>\n",
       "      <td>557</td>\n",
       "    </tr>\n",
       "  </tbody>\n",
       "</table>\n",
       "</div>"
      ],
      "text/plain": [
       "       count\n",
       "group       \n",
       "B        640\n",
       "A        557"
      ]
     },
     "metadata": {},
     "output_type": "display_data"
    }
   ],
   "source": [
    "research(orders)"
   ]
  },
  {
   "cell_type": "markdown",
   "metadata": {},
   "source": [
    "Таблица с заказами также не имеет пропусков и дубликатов, однако необходимо привести названия столбцов `transactionId, visitorId` к корректному оформлению. Помимо этого нужно изменить тип данных в столбце `date` на тип даты. "
   ]
  },
  {
   "cell_type": "code",
   "execution_count": 19,
   "metadata": {
    "scrolled": true
   },
   "outputs": [],
   "source": [
    "orders = orders.rename(columns = {'transactionId':'transaction_id', 'visitorId':'visitor_id'}) # меняем наименование столбцов"
   ]
  },
  {
   "cell_type": "code",
   "execution_count": 20,
   "metadata": {},
   "outputs": [],
   "source": [
    "orders['date'] = pd.to_datetime(orders['date'], format='%Y-%m-%d')  # меняем тип данных на дату"
   ]
  },
  {
   "cell_type": "code",
   "execution_count": 21,
   "metadata": {
    "scrolled": true
   },
   "outputs": [
    {
     "name": "stdout",
     "output_type": "stream",
     "text": [
      "<class 'pandas.core.frame.DataFrame'>\n",
      "RangeIndex: 1197 entries, 0 to 1196\n",
      "Data columns (total 5 columns):\n",
      " #   Column          Non-Null Count  Dtype         \n",
      "---  ------          --------------  -----         \n",
      " 0   transaction_id  1197 non-null   int64         \n",
      " 1   visitor_id      1197 non-null   int64         \n",
      " 2   date            1197 non-null   datetime64[ns]\n",
      " 3   revenue         1197 non-null   int64         \n",
      " 4   group           1197 non-null   object        \n",
      "dtypes: datetime64[ns](1), int64(3), object(1)\n",
      "memory usage: 46.9+ KB\n"
     ]
    }
   ],
   "source": [
    "orders.info() # проверка"
   ]
  },
  {
   "cell_type": "markdown",
   "metadata": {},
   "source": [
    "Типы корректно исправлены."
   ]
  },
  {
   "cell_type": "markdown",
   "metadata": {},
   "source": [
    "Помимо этого данный датафрейм нужно проверить на корректное разбиение пользователей по группам. Проверим нет ли такого, что один пользователь относится к двум группам одновременно:"
   ]
  },
  {
   "cell_type": "code",
   "execution_count": 24,
   "metadata": {},
   "outputs": [
    {
     "data": {
      "text/plain": [
       "visitor_id    58\n",
       "group         58\n",
       "dtype: int64"
      ]
     },
     "execution_count": 24,
     "metadata": {},
     "output_type": "execute_result"
    }
   ],
   "source": [
    "(\n",
    "    orders.groupby('visitor_id')\n",
    "    .agg({'group':'nunique'})\n",
    "    .reset_index()\n",
    "    .query('group>1')\n",
    "    .count()\n",
    ")"
   ]
  },
  {
   "cell_type": "markdown",
   "metadata": {},
   "source": [
    "Таким образом целых 58 пользователей относится к двум группам одновременно. Стоит обратить внимание, что из-за этого возможны так же ошибки в распределении групп по посетителям в датафрейме `visitors`.\n",
    "\n",
    "Удалим пользователей с меткой двух групп из нашей таблицы с заказами, однако следует помнить о такой манипуляции и относится к результатам теста в дальнейшем осторожно:"
   ]
  },
  {
   "cell_type": "code",
   "execution_count": 26,
   "metadata": {},
   "outputs": [],
   "source": [
    "filter_visitors = (\n",
    "    orders.groupby('visitor_id')\n",
    "    .agg({'group':'nunique'})\n",
    "    .reset_index()\n",
    "    .query('group>1')['visitor_id']\n",
    ")\n",
    "\n",
    "orders = orders.query('visitor_id not in @filter_visitors')"
   ]
  },
  {
   "cell_type": "code",
   "execution_count": 27,
   "metadata": {},
   "outputs": [
    {
     "data": {
      "text/plain": [
       "visitor_id    0\n",
       "group         0\n",
       "dtype: int64"
      ]
     },
     "execution_count": 27,
     "metadata": {},
     "output_type": "execute_result"
    }
   ],
   "source": [
    "# проверка\n",
    "(\n",
    "    orders.groupby('visitor_id')\n",
    "    .agg({'group':'nunique'})\n",
    "    .reset_index()\n",
    "    .query('group>1')\n",
    "    .count()\n",
    ")"
   ]
  },
  {
   "cell_type": "markdown",
   "metadata": {},
   "source": [
    "#### Подготовка к анализу датафрейма `visitors`"
   ]
  },
  {
   "cell_type": "code",
   "execution_count": 29,
   "metadata": {
    "scrolled": true
   },
   "outputs": [
    {
     "data": {
      "text/html": [
       "<div>\n",
       "<style scoped>\n",
       "    .dataframe tbody tr th:only-of-type {\n",
       "        vertical-align: middle;\n",
       "    }\n",
       "\n",
       "    .dataframe tbody tr th {\n",
       "        vertical-align: top;\n",
       "    }\n",
       "\n",
       "    .dataframe thead th {\n",
       "        text-align: right;\n",
       "    }\n",
       "</style>\n",
       "<table border=\"1\" class=\"dataframe\">\n",
       "  <thead>\n",
       "    <tr style=\"text-align: right;\">\n",
       "      <th></th>\n",
       "      <th>date</th>\n",
       "      <th>group</th>\n",
       "      <th>visitors</th>\n",
       "    </tr>\n",
       "  </thead>\n",
       "  <tbody>\n",
       "    <tr>\n",
       "      <th>0</th>\n",
       "      <td>2019-08-01</td>\n",
       "      <td>A</td>\n",
       "      <td>719</td>\n",
       "    </tr>\n",
       "    <tr>\n",
       "      <th>1</th>\n",
       "      <td>2019-08-02</td>\n",
       "      <td>A</td>\n",
       "      <td>619</td>\n",
       "    </tr>\n",
       "    <tr>\n",
       "      <th>2</th>\n",
       "      <td>2019-08-03</td>\n",
       "      <td>A</td>\n",
       "      <td>507</td>\n",
       "    </tr>\n",
       "    <tr>\n",
       "      <th>3</th>\n",
       "      <td>2019-08-04</td>\n",
       "      <td>A</td>\n",
       "      <td>717</td>\n",
       "    </tr>\n",
       "    <tr>\n",
       "      <th>4</th>\n",
       "      <td>2019-08-05</td>\n",
       "      <td>A</td>\n",
       "      <td>756</td>\n",
       "    </tr>\n",
       "    <tr>\n",
       "      <th>5</th>\n",
       "      <td>2019-08-06</td>\n",
       "      <td>A</td>\n",
       "      <td>667</td>\n",
       "    </tr>\n",
       "    <tr>\n",
       "      <th>6</th>\n",
       "      <td>2019-08-07</td>\n",
       "      <td>A</td>\n",
       "      <td>644</td>\n",
       "    </tr>\n",
       "    <tr>\n",
       "      <th>7</th>\n",
       "      <td>2019-08-08</td>\n",
       "      <td>A</td>\n",
       "      <td>610</td>\n",
       "    </tr>\n",
       "    <tr>\n",
       "      <th>8</th>\n",
       "      <td>2019-08-09</td>\n",
       "      <td>A</td>\n",
       "      <td>617</td>\n",
       "    </tr>\n",
       "    <tr>\n",
       "      <th>9</th>\n",
       "      <td>2019-08-10</td>\n",
       "      <td>A</td>\n",
       "      <td>406</td>\n",
       "    </tr>\n",
       "  </tbody>\n",
       "</table>\n",
       "</div>"
      ],
      "text/plain": [
       "         date group  visitors\n",
       "0  2019-08-01     A       719\n",
       "1  2019-08-02     A       619\n",
       "2  2019-08-03     A       507\n",
       "3  2019-08-04     A       717\n",
       "4  2019-08-05     A       756\n",
       "5  2019-08-06     A       667\n",
       "6  2019-08-07     A       644\n",
       "7  2019-08-08     A       610\n",
       "8  2019-08-09     A       617\n",
       "9  2019-08-10     A       406"
      ]
     },
     "metadata": {},
     "output_type": "display_data"
    },
    {
     "name": "stdout",
     "output_type": "stream",
     "text": [
      "**************************************************\n",
      "<class 'pandas.core.frame.DataFrame'>\n",
      "RangeIndex: 62 entries, 0 to 61\n",
      "Data columns (total 3 columns):\n",
      " #   Column    Non-Null Count  Dtype \n",
      "---  ------    --------------  ----- \n",
      " 0   date      62 non-null     object\n",
      " 1   group     62 non-null     object\n",
      " 2   visitors  62 non-null     int64 \n",
      "dtypes: int64(1), object(2)\n",
      "memory usage: 1.6+ KB\n",
      "************************************************** \n",
      "\u001b[1m Количество полных дублей: \u001b[0m 0\n",
      "**************************************************\n"
     ]
    },
    {
     "data": {
      "text/html": [
       "<div>\n",
       "<style scoped>\n",
       "    .dataframe tbody tr th:only-of-type {\n",
       "        vertical-align: middle;\n",
       "    }\n",
       "\n",
       "    .dataframe tbody tr th {\n",
       "        vertical-align: top;\n",
       "    }\n",
       "\n",
       "    .dataframe thead th {\n",
       "        text-align: right;\n",
       "    }\n",
       "</style>\n",
       "<table border=\"1\" class=\"dataframe\">\n",
       "  <thead>\n",
       "    <tr style=\"text-align: right;\">\n",
       "      <th></th>\n",
       "      <th>visitors</th>\n",
       "    </tr>\n",
       "  </thead>\n",
       "  <tbody>\n",
       "    <tr>\n",
       "      <th>count</th>\n",
       "      <td>62.000000</td>\n",
       "    </tr>\n",
       "    <tr>\n",
       "      <th>mean</th>\n",
       "      <td>607.290323</td>\n",
       "    </tr>\n",
       "    <tr>\n",
       "      <th>std</th>\n",
       "      <td>114.400560</td>\n",
       "    </tr>\n",
       "    <tr>\n",
       "      <th>min</th>\n",
       "      <td>361.000000</td>\n",
       "    </tr>\n",
       "    <tr>\n",
       "      <th>25%</th>\n",
       "      <td>534.000000</td>\n",
       "    </tr>\n",
       "    <tr>\n",
       "      <th>50%</th>\n",
       "      <td>624.500000</td>\n",
       "    </tr>\n",
       "    <tr>\n",
       "      <th>75%</th>\n",
       "      <td>710.500000</td>\n",
       "    </tr>\n",
       "    <tr>\n",
       "      <th>max</th>\n",
       "      <td>770.000000</td>\n",
       "    </tr>\n",
       "  </tbody>\n",
       "</table>\n",
       "</div>"
      ],
      "text/plain": [
       "         visitors\n",
       "count   62.000000\n",
       "mean   607.290323\n",
       "std    114.400560\n",
       "min    361.000000\n",
       "25%    534.000000\n",
       "50%    624.500000\n",
       "75%    710.500000\n",
       "max    770.000000"
      ]
     },
     "metadata": {},
     "output_type": "display_data"
    },
    {
     "name": "stdout",
     "output_type": "stream",
     "text": [
      "**************************************************\n"
     ]
    },
    {
     "data": {
      "text/html": [
       "<div>\n",
       "<style scoped>\n",
       "    .dataframe tbody tr th:only-of-type {\n",
       "        vertical-align: middle;\n",
       "    }\n",
       "\n",
       "    .dataframe tbody tr th {\n",
       "        vertical-align: top;\n",
       "    }\n",
       "\n",
       "    .dataframe thead th {\n",
       "        text-align: right;\n",
       "    }\n",
       "</style>\n",
       "<table border=\"1\" class=\"dataframe\">\n",
       "  <thead>\n",
       "    <tr style=\"text-align: right;\">\n",
       "      <th></th>\n",
       "      <th>count</th>\n",
       "    </tr>\n",
       "    <tr>\n",
       "      <th>date</th>\n",
       "      <th></th>\n",
       "    </tr>\n",
       "  </thead>\n",
       "  <tbody>\n",
       "    <tr>\n",
       "      <th>2019-08-01</th>\n",
       "      <td>2</td>\n",
       "    </tr>\n",
       "    <tr>\n",
       "      <th>2019-08-17</th>\n",
       "      <td>2</td>\n",
       "    </tr>\n",
       "    <tr>\n",
       "      <th>2019-08-30</th>\n",
       "      <td>2</td>\n",
       "    </tr>\n",
       "    <tr>\n",
       "      <th>2019-08-29</th>\n",
       "      <td>2</td>\n",
       "    </tr>\n",
       "    <tr>\n",
       "      <th>2019-08-28</th>\n",
       "      <td>2</td>\n",
       "    </tr>\n",
       "    <tr>\n",
       "      <th>2019-08-27</th>\n",
       "      <td>2</td>\n",
       "    </tr>\n",
       "    <tr>\n",
       "      <th>2019-08-26</th>\n",
       "      <td>2</td>\n",
       "    </tr>\n",
       "    <tr>\n",
       "      <th>2019-08-25</th>\n",
       "      <td>2</td>\n",
       "    </tr>\n",
       "    <tr>\n",
       "      <th>2019-08-24</th>\n",
       "      <td>2</td>\n",
       "    </tr>\n",
       "    <tr>\n",
       "      <th>2019-08-23</th>\n",
       "      <td>2</td>\n",
       "    </tr>\n",
       "    <tr>\n",
       "      <th>2019-08-22</th>\n",
       "      <td>2</td>\n",
       "    </tr>\n",
       "    <tr>\n",
       "      <th>2019-08-21</th>\n",
       "      <td>2</td>\n",
       "    </tr>\n",
       "    <tr>\n",
       "      <th>2019-08-20</th>\n",
       "      <td>2</td>\n",
       "    </tr>\n",
       "    <tr>\n",
       "      <th>2019-08-19</th>\n",
       "      <td>2</td>\n",
       "    </tr>\n",
       "    <tr>\n",
       "      <th>2019-08-18</th>\n",
       "      <td>2</td>\n",
       "    </tr>\n",
       "    <tr>\n",
       "      <th>2019-08-16</th>\n",
       "      <td>2</td>\n",
       "    </tr>\n",
       "    <tr>\n",
       "      <th>2019-08-02</th>\n",
       "      <td>2</td>\n",
       "    </tr>\n",
       "    <tr>\n",
       "      <th>2019-08-15</th>\n",
       "      <td>2</td>\n",
       "    </tr>\n",
       "    <tr>\n",
       "      <th>2019-08-14</th>\n",
       "      <td>2</td>\n",
       "    </tr>\n",
       "    <tr>\n",
       "      <th>2019-08-13</th>\n",
       "      <td>2</td>\n",
       "    </tr>\n",
       "    <tr>\n",
       "      <th>2019-08-12</th>\n",
       "      <td>2</td>\n",
       "    </tr>\n",
       "    <tr>\n",
       "      <th>2019-08-11</th>\n",
       "      <td>2</td>\n",
       "    </tr>\n",
       "    <tr>\n",
       "      <th>2019-08-10</th>\n",
       "      <td>2</td>\n",
       "    </tr>\n",
       "    <tr>\n",
       "      <th>2019-08-09</th>\n",
       "      <td>2</td>\n",
       "    </tr>\n",
       "    <tr>\n",
       "      <th>2019-08-08</th>\n",
       "      <td>2</td>\n",
       "    </tr>\n",
       "    <tr>\n",
       "      <th>2019-08-07</th>\n",
       "      <td>2</td>\n",
       "    </tr>\n",
       "    <tr>\n",
       "      <th>2019-08-06</th>\n",
       "      <td>2</td>\n",
       "    </tr>\n",
       "    <tr>\n",
       "      <th>2019-08-05</th>\n",
       "      <td>2</td>\n",
       "    </tr>\n",
       "    <tr>\n",
       "      <th>2019-08-04</th>\n",
       "      <td>2</td>\n",
       "    </tr>\n",
       "    <tr>\n",
       "      <th>2019-08-03</th>\n",
       "      <td>2</td>\n",
       "    </tr>\n",
       "    <tr>\n",
       "      <th>2019-08-31</th>\n",
       "      <td>2</td>\n",
       "    </tr>\n",
       "  </tbody>\n",
       "</table>\n",
       "</div>"
      ],
      "text/plain": [
       "            count\n",
       "date             \n",
       "2019-08-01      2\n",
       "2019-08-17      2\n",
       "2019-08-30      2\n",
       "2019-08-29      2\n",
       "2019-08-28      2\n",
       "2019-08-27      2\n",
       "2019-08-26      2\n",
       "2019-08-25      2\n",
       "2019-08-24      2\n",
       "2019-08-23      2\n",
       "2019-08-22      2\n",
       "2019-08-21      2\n",
       "2019-08-20      2\n",
       "2019-08-19      2\n",
       "2019-08-18      2\n",
       "2019-08-16      2\n",
       "2019-08-02      2\n",
       "2019-08-15      2\n",
       "2019-08-14      2\n",
       "2019-08-13      2\n",
       "2019-08-12      2\n",
       "2019-08-11      2\n",
       "2019-08-10      2\n",
       "2019-08-09      2\n",
       "2019-08-08      2\n",
       "2019-08-07      2\n",
       "2019-08-06      2\n",
       "2019-08-05      2\n",
       "2019-08-04      2\n",
       "2019-08-03      2\n",
       "2019-08-31      2"
      ]
     },
     "metadata": {},
     "output_type": "display_data"
    },
    {
     "data": {
      "text/html": [
       "<div>\n",
       "<style scoped>\n",
       "    .dataframe tbody tr th:only-of-type {\n",
       "        vertical-align: middle;\n",
       "    }\n",
       "\n",
       "    .dataframe tbody tr th {\n",
       "        vertical-align: top;\n",
       "    }\n",
       "\n",
       "    .dataframe thead th {\n",
       "        text-align: right;\n",
       "    }\n",
       "</style>\n",
       "<table border=\"1\" class=\"dataframe\">\n",
       "  <thead>\n",
       "    <tr style=\"text-align: right;\">\n",
       "      <th></th>\n",
       "      <th>count</th>\n",
       "    </tr>\n",
       "    <tr>\n",
       "      <th>group</th>\n",
       "      <th></th>\n",
       "    </tr>\n",
       "  </thead>\n",
       "  <tbody>\n",
       "    <tr>\n",
       "      <th>A</th>\n",
       "      <td>31</td>\n",
       "    </tr>\n",
       "    <tr>\n",
       "      <th>B</th>\n",
       "      <td>31</td>\n",
       "    </tr>\n",
       "  </tbody>\n",
       "</table>\n",
       "</div>"
      ],
      "text/plain": [
       "       count\n",
       "group       \n",
       "A         31\n",
       "B         31"
      ]
     },
     "metadata": {},
     "output_type": "display_data"
    },
    {
     "data": {
      "text/html": [
       "<div>\n",
       "<style scoped>\n",
       "    .dataframe tbody tr th:only-of-type {\n",
       "        vertical-align: middle;\n",
       "    }\n",
       "\n",
       "    .dataframe tbody tr th {\n",
       "        vertical-align: top;\n",
       "    }\n",
       "\n",
       "    .dataframe thead th {\n",
       "        text-align: right;\n",
       "    }\n",
       "</style>\n",
       "<table border=\"1\" class=\"dataframe\">\n",
       "  <thead>\n",
       "    <tr style=\"text-align: right;\">\n",
       "      <th></th>\n",
       "      <th>count</th>\n",
       "    </tr>\n",
       "    <tr>\n",
       "      <th>visitors</th>\n",
       "      <th></th>\n",
       "    </tr>\n",
       "  </thead>\n",
       "  <tbody>\n",
       "    <tr>\n",
       "      <th>490</th>\n",
       "      <td>2</td>\n",
       "    </tr>\n",
       "    <tr>\n",
       "      <th>610</th>\n",
       "      <td>2</td>\n",
       "    </tr>\n",
       "    <tr>\n",
       "      <th>654</th>\n",
       "      <td>2</td>\n",
       "    </tr>\n",
       "    <tr>\n",
       "      <th>718</th>\n",
       "      <td>2</td>\n",
       "    </tr>\n",
       "    <tr>\n",
       "      <th>544</th>\n",
       "      <td>1</td>\n",
       "    </tr>\n",
       "    <tr>\n",
       "      <th>581</th>\n",
       "      <td>1</td>\n",
       "    </tr>\n",
       "    <tr>\n",
       "      <th>509</th>\n",
       "      <td>1</td>\n",
       "    </tr>\n",
       "    <tr>\n",
       "      <th>770</th>\n",
       "      <td>1</td>\n",
       "    </tr>\n",
       "    <tr>\n",
       "      <th>707</th>\n",
       "      <td>1</td>\n",
       "    </tr>\n",
       "    <tr>\n",
       "      <th>655</th>\n",
       "      <td>1</td>\n",
       "    </tr>\n",
       "    <tr>\n",
       "      <th>709</th>\n",
       "      <td>1</td>\n",
       "    </tr>\n",
       "    <tr>\n",
       "      <th>369</th>\n",
       "      <td>1</td>\n",
       "    </tr>\n",
       "    <tr>\n",
       "      <th>721</th>\n",
       "      <td>1</td>\n",
       "    </tr>\n",
       "    <tr>\n",
       "      <th>543</th>\n",
       "      <td>1</td>\n",
       "    </tr>\n",
       "    <tr>\n",
       "      <th>769</th>\n",
       "      <td>1</td>\n",
       "    </tr>\n",
       "    <tr>\n",
       "      <th>746</th>\n",
       "      <td>1</td>\n",
       "    </tr>\n",
       "    <tr>\n",
       "      <th>413</th>\n",
       "      <td>1</td>\n",
       "    </tr>\n",
       "    <tr>\n",
       "      <th>699</th>\n",
       "      <td>1</td>\n",
       "    </tr>\n",
       "    <tr>\n",
       "      <th>421</th>\n",
       "      <td>1</td>\n",
       "    </tr>\n",
       "    <tr>\n",
       "      <th>737</th>\n",
       "      <td>1</td>\n",
       "    </tr>\n",
       "    <tr>\n",
       "      <th>487</th>\n",
       "      <td>1</td>\n",
       "    </tr>\n",
       "    <tr>\n",
       "      <th>560</th>\n",
       "      <td>1</td>\n",
       "    </tr>\n",
       "    <tr>\n",
       "      <th>656</th>\n",
       "      <td>1</td>\n",
       "    </tr>\n",
       "    <tr>\n",
       "      <th>650</th>\n",
       "      <td>1</td>\n",
       "    </tr>\n",
       "    <tr>\n",
       "      <th>546</th>\n",
       "      <td>1</td>\n",
       "    </tr>\n",
       "    <tr>\n",
       "      <th>378</th>\n",
       "      <td>1</td>\n",
       "    </tr>\n",
       "    <tr>\n",
       "      <th>679</th>\n",
       "      <td>1</td>\n",
       "    </tr>\n",
       "    <tr>\n",
       "      <th>676</th>\n",
       "      <td>1</td>\n",
       "    </tr>\n",
       "    <tr>\n",
       "      <th>720</th>\n",
       "      <td>1</td>\n",
       "    </tr>\n",
       "    <tr>\n",
       "      <th>713</th>\n",
       "      <td>1</td>\n",
       "    </tr>\n",
       "    <tr>\n",
       "      <th>719</th>\n",
       "      <td>1</td>\n",
       "    </tr>\n",
       "    <tr>\n",
       "      <th>619</th>\n",
       "      <td>1</td>\n",
       "    </tr>\n",
       "    <tr>\n",
       "      <th>361</th>\n",
       "      <td>1</td>\n",
       "    </tr>\n",
       "    <tr>\n",
       "      <th>507</th>\n",
       "      <td>1</td>\n",
       "    </tr>\n",
       "    <tr>\n",
       "      <th>717</th>\n",
       "      <td>1</td>\n",
       "    </tr>\n",
       "    <tr>\n",
       "      <th>756</th>\n",
       "      <td>1</td>\n",
       "    </tr>\n",
       "    <tr>\n",
       "      <th>667</th>\n",
       "      <td>1</td>\n",
       "    </tr>\n",
       "    <tr>\n",
       "      <th>644</th>\n",
       "      <td>1</td>\n",
       "    </tr>\n",
       "    <tr>\n",
       "      <th>617</th>\n",
       "      <td>1</td>\n",
       "    </tr>\n",
       "    <tr>\n",
       "      <th>406</th>\n",
       "      <td>1</td>\n",
       "    </tr>\n",
       "    <tr>\n",
       "      <th>595</th>\n",
       "      <td>1</td>\n",
       "    </tr>\n",
       "    <tr>\n",
       "      <th>748</th>\n",
       "      <td>1</td>\n",
       "    </tr>\n",
       "    <tr>\n",
       "      <th>735</th>\n",
       "      <td>1</td>\n",
       "    </tr>\n",
       "    <tr>\n",
       "      <th>628</th>\n",
       "      <td>1</td>\n",
       "    </tr>\n",
       "    <tr>\n",
       "      <th>412</th>\n",
       "      <td>1</td>\n",
       "    </tr>\n",
       "    <tr>\n",
       "      <th>577</th>\n",
       "      <td>1</td>\n",
       "    </tr>\n",
       "    <tr>\n",
       "      <th>668</th>\n",
       "      <td>1</td>\n",
       "    </tr>\n",
       "    <tr>\n",
       "      <th>502</th>\n",
       "      <td>1</td>\n",
       "    </tr>\n",
       "    <tr>\n",
       "      <th>575</th>\n",
       "      <td>1</td>\n",
       "    </tr>\n",
       "    <tr>\n",
       "      <th>646</th>\n",
       "      <td>1</td>\n",
       "    </tr>\n",
       "    <tr>\n",
       "      <th>609</th>\n",
       "      <td>1</td>\n",
       "    </tr>\n",
       "    <tr>\n",
       "      <th>468</th>\n",
       "      <td>1</td>\n",
       "    </tr>\n",
       "    <tr>\n",
       "      <th>395</th>\n",
       "      <td>1</td>\n",
       "    </tr>\n",
       "    <tr>\n",
       "      <th>621</th>\n",
       "      <td>1</td>\n",
       "    </tr>\n",
       "    <tr>\n",
       "      <th>722</th>\n",
       "      <td>1</td>\n",
       "    </tr>\n",
       "    <tr>\n",
       "      <th>711</th>\n",
       "      <td>1</td>\n",
       "    </tr>\n",
       "    <tr>\n",
       "      <th>594</th>\n",
       "      <td>1</td>\n",
       "    </tr>\n",
       "    <tr>\n",
       "      <th>531</th>\n",
       "      <td>1</td>\n",
       "    </tr>\n",
       "  </tbody>\n",
       "</table>\n",
       "</div>"
      ],
      "text/plain": [
       "          count\n",
       "visitors       \n",
       "490           2\n",
       "610           2\n",
       "654           2\n",
       "718           2\n",
       "544           1\n",
       "581           1\n",
       "509           1\n",
       "770           1\n",
       "707           1\n",
       "655           1\n",
       "709           1\n",
       "369           1\n",
       "721           1\n",
       "543           1\n",
       "769           1\n",
       "746           1\n",
       "413           1\n",
       "699           1\n",
       "421           1\n",
       "737           1\n",
       "487           1\n",
       "560           1\n",
       "656           1\n",
       "650           1\n",
       "546           1\n",
       "378           1\n",
       "679           1\n",
       "676           1\n",
       "720           1\n",
       "713           1\n",
       "719           1\n",
       "619           1\n",
       "361           1\n",
       "507           1\n",
       "717           1\n",
       "756           1\n",
       "667           1\n",
       "644           1\n",
       "617           1\n",
       "406           1\n",
       "595           1\n",
       "748           1\n",
       "735           1\n",
       "628           1\n",
       "412           1\n",
       "577           1\n",
       "668           1\n",
       "502           1\n",
       "575           1\n",
       "646           1\n",
       "609           1\n",
       "468           1\n",
       "395           1\n",
       "621           1\n",
       "722           1\n",
       "711           1\n",
       "594           1\n",
       "531           1"
      ]
     },
     "metadata": {},
     "output_type": "display_data"
    }
   ],
   "source": [
    "research(visitors)"
   ]
  },
  {
   "cell_type": "markdown",
   "metadata": {},
   "source": [
    "Таблица с визитами не имеет пропусков и дубликатов. Необходимо изменить тип данных в столбце `date` на тип даты."
   ]
  },
  {
   "cell_type": "code",
   "execution_count": 31,
   "metadata": {},
   "outputs": [],
   "source": [
    "visitors['date'] = pd.to_datetime(visitors['date'], format='%Y-%m-%d')  # меняем тип данных на дату"
   ]
  },
  {
   "cell_type": "code",
   "execution_count": 32,
   "metadata": {},
   "outputs": [
    {
     "name": "stdout",
     "output_type": "stream",
     "text": [
      "<class 'pandas.core.frame.DataFrame'>\n",
      "RangeIndex: 62 entries, 0 to 61\n",
      "Data columns (total 3 columns):\n",
      " #   Column    Non-Null Count  Dtype         \n",
      "---  ------    --------------  -----         \n",
      " 0   date      62 non-null     datetime64[ns]\n",
      " 1   group     62 non-null     object        \n",
      " 2   visitors  62 non-null     int64         \n",
      "dtypes: datetime64[ns](1), int64(1), object(1)\n",
      "memory usage: 1.6+ KB\n"
     ]
    }
   ],
   "source": [
    "visitors.info() # проверка"
   ]
  },
  {
   "cell_type": "markdown",
   "metadata": {},
   "source": [
    "Проверим распределение трафика по группам:"
   ]
  },
  {
   "cell_type": "code",
   "execution_count": 34,
   "metadata": {
    "scrolled": true
   },
   "outputs": [
    {
     "data": {
      "text/html": [
       "<div>\n",
       "<style scoped>\n",
       "    .dataframe tbody tr th:only-of-type {\n",
       "        vertical-align: middle;\n",
       "    }\n",
       "\n",
       "    .dataframe tbody tr th {\n",
       "        vertical-align: top;\n",
       "    }\n",
       "\n",
       "    .dataframe thead th {\n",
       "        text-align: right;\n",
       "    }\n",
       "</style>\n",
       "<table border=\"1\" class=\"dataframe\">\n",
       "  <thead>\n",
       "    <tr style=\"text-align: right;\">\n",
       "      <th></th>\n",
       "      <th>group</th>\n",
       "      <th>visitors</th>\n",
       "    </tr>\n",
       "  </thead>\n",
       "  <tbody>\n",
       "    <tr>\n",
       "      <th>0</th>\n",
       "      <td>A</td>\n",
       "      <td>18736</td>\n",
       "    </tr>\n",
       "    <tr>\n",
       "      <th>1</th>\n",
       "      <td>B</td>\n",
       "      <td>18916</td>\n",
       "    </tr>\n",
       "  </tbody>\n",
       "</table>\n",
       "</div>"
      ],
      "text/plain": [
       "  group  visitors\n",
       "0     A     18736\n",
       "1     B     18916"
      ]
     },
     "execution_count": 34,
     "metadata": {},
     "output_type": "execute_result"
    }
   ],
   "source": [
    "grouped_traffic = (\n",
    "    visitors.groupby('group')\n",
    "    .agg({'visitors':'sum'})\n",
    "    .reset_index()\n",
    ")\n",
    "grouped_traffic"
   ]
  },
  {
   "cell_type": "code",
   "execution_count": 35,
   "metadata": {},
   "outputs": [
    {
     "data": {
      "text/plain": [
       "'0.95%'"
      ]
     },
     "execution_count": 35,
     "metadata": {},
     "output_type": "execute_result"
    }
   ],
   "source": [
    "'{:.2%}'.format(1 - grouped_traffic.loc[0,'visitors']/grouped_traffic.loc[1,'visitors']) # разница между количеством посетителей в двух группах"
   ]
  },
  {
   "cell_type": "markdown",
   "metadata": {},
   "source": [
    "Разница между трафиком в каждой группе < 1%, что является приемлемым для дальнейшего исследования."
   ]
  },
  {
   "cell_type": "markdown",
   "metadata": {},
   "source": [
    "**Вывод**\n",
    "\n",
    "- данные, которые предстоит исследовать, записаны в 3 датафрейма: `hypothesis` - гипотезы по увеличению выручки интернет-магазина с параметрами, `orders` - данные о заказах и `visitors` - информация о визитах пользователей;\n",
    "- изменены типы данных в столбцах, содержащих дату на `date`;\n",
    "- выявлены пользователи, относящиеся к двум группам одновременно, принято решение удалить из данных таких пользователей;\n",
    "- в названиях столбцов для оформления по корректному стилю исправлен регистр на нижний.\n",
    "- пропусков и дубликатов в данных не выявлено."
   ]
  },
  {
   "cell_type": "markdown",
   "metadata": {},
   "source": [
    "### Приоритизация гипотез"
   ]
  },
  {
   "cell_type": "markdown",
   "metadata": {},
   "source": [
    "#### Приоритизация гипотез методом ICE"
   ]
  },
  {
   "cell_type": "markdown",
   "metadata": {},
   "source": [
    "Ниже применим метод **ICE** для приоритизации гипотез в датафрейме `hypothesis`. Для этого используем столбцы с параметрами `impact, confidence, efforts`. Отсортируем гипотезы по убыванию приоритета."
   ]
  },
  {
   "cell_type": "code",
   "execution_count": 41,
   "metadata": {},
   "outputs": [],
   "source": [
    "hypothesis['ICE'] = round((hypothesis['impact']*hypothesis['confidence'])/hypothesis['efforts'], 2)"
   ]
  },
  {
   "cell_type": "code",
   "execution_count": 42,
   "metadata": {},
   "outputs": [
    {
     "data": {
      "text/html": [
       "<div>\n",
       "<style scoped>\n",
       "    .dataframe tbody tr th:only-of-type {\n",
       "        vertical-align: middle;\n",
       "    }\n",
       "\n",
       "    .dataframe tbody tr th {\n",
       "        vertical-align: top;\n",
       "    }\n",
       "\n",
       "    .dataframe thead th {\n",
       "        text-align: right;\n",
       "    }\n",
       "</style>\n",
       "<table border=\"1\" class=\"dataframe\">\n",
       "  <thead>\n",
       "    <tr style=\"text-align: right;\">\n",
       "      <th></th>\n",
       "      <th>hypothesis</th>\n",
       "      <th>reach</th>\n",
       "      <th>impact</th>\n",
       "      <th>confidence</th>\n",
       "      <th>efforts</th>\n",
       "      <th>ICE</th>\n",
       "    </tr>\n",
       "  </thead>\n",
       "  <tbody>\n",
       "    <tr>\n",
       "      <th>8</th>\n",
       "      <td>Запустить акцию, дающую скидку на товар в день рождения</td>\n",
       "      <td>1</td>\n",
       "      <td>9</td>\n",
       "      <td>9</td>\n",
       "      <td>5</td>\n",
       "      <td>16.20</td>\n",
       "    </tr>\n",
       "    <tr>\n",
       "      <th>0</th>\n",
       "      <td>Добавить два новых канала привлечения трафика, что позволит привлекать на 30% больше пользователей</td>\n",
       "      <td>3</td>\n",
       "      <td>10</td>\n",
       "      <td>8</td>\n",
       "      <td>6</td>\n",
       "      <td>13.33</td>\n",
       "    </tr>\n",
       "    <tr>\n",
       "      <th>7</th>\n",
       "      <td>Добавить форму подписки на все основные страницы, чтобы собрать базу клиентов для email-рассылок</td>\n",
       "      <td>10</td>\n",
       "      <td>7</td>\n",
       "      <td>8</td>\n",
       "      <td>5</td>\n",
       "      <td>11.20</td>\n",
       "    </tr>\n",
       "    <tr>\n",
       "      <th>6</th>\n",
       "      <td>Показать на главной странице баннеры с актуальными акциями и распродажами, чтобы увеличить конверсию</td>\n",
       "      <td>5</td>\n",
       "      <td>3</td>\n",
       "      <td>8</td>\n",
       "      <td>3</td>\n",
       "      <td>8.00</td>\n",
       "    </tr>\n",
       "    <tr>\n",
       "      <th>2</th>\n",
       "      <td>Добавить блоки рекомендаций товаров на сайт интернет магазина, чтобы повысить конверсию и средний чек заказа</td>\n",
       "      <td>8</td>\n",
       "      <td>3</td>\n",
       "      <td>7</td>\n",
       "      <td>3</td>\n",
       "      <td>7.00</td>\n",
       "    </tr>\n",
       "    <tr>\n",
       "      <th>1</th>\n",
       "      <td>Запустить собственную службу доставки, что сократит срок доставки заказов</td>\n",
       "      <td>2</td>\n",
       "      <td>5</td>\n",
       "      <td>4</td>\n",
       "      <td>10</td>\n",
       "      <td>2.00</td>\n",
       "    </tr>\n",
       "    <tr>\n",
       "      <th>5</th>\n",
       "      <td>Добавить страницу отзывов клиентов о магазине, что позволит увеличить количество заказов</td>\n",
       "      <td>3</td>\n",
       "      <td>2</td>\n",
       "      <td>2</td>\n",
       "      <td>3</td>\n",
       "      <td>1.33</td>\n",
       "    </tr>\n",
       "    <tr>\n",
       "      <th>3</th>\n",
       "      <td>Изменить структура категорий, что увеличит конверсию, т.к. пользователи быстрее найдут нужный товар</td>\n",
       "      <td>8</td>\n",
       "      <td>3</td>\n",
       "      <td>3</td>\n",
       "      <td>8</td>\n",
       "      <td>1.12</td>\n",
       "    </tr>\n",
       "    <tr>\n",
       "      <th>4</th>\n",
       "      <td>Изменить цвет фона главной страницы, чтобы увеличить вовлеченность пользователей</td>\n",
       "      <td>3</td>\n",
       "      <td>1</td>\n",
       "      <td>1</td>\n",
       "      <td>1</td>\n",
       "      <td>1.00</td>\n",
       "    </tr>\n",
       "  </tbody>\n",
       "</table>\n",
       "</div>"
      ],
      "text/plain": [
       "                                                                                                     hypothesis  \\\n",
       "8                                                       Запустить акцию, дающую скидку на товар в день рождения   \n",
       "0            Добавить два новых канала привлечения трафика, что позволит привлекать на 30% больше пользователей   \n",
       "7              Добавить форму подписки на все основные страницы, чтобы собрать базу клиентов для email-рассылок   \n",
       "6          Показать на главной странице баннеры с актуальными акциями и распродажами, чтобы увеличить конверсию   \n",
       "2  Добавить блоки рекомендаций товаров на сайт интернет магазина, чтобы повысить конверсию и средний чек заказа   \n",
       "1                                     Запустить собственную службу доставки, что сократит срок доставки заказов   \n",
       "5                      Добавить страницу отзывов клиентов о магазине, что позволит увеличить количество заказов   \n",
       "3           Изменить структура категорий, что увеличит конверсию, т.к. пользователи быстрее найдут нужный товар   \n",
       "4                              Изменить цвет фона главной страницы, чтобы увеличить вовлеченность пользователей   \n",
       "\n",
       "   reach  impact  confidence  efforts    ICE  \n",
       "8      1       9           9        5  16.20  \n",
       "0      3      10           8        6  13.33  \n",
       "7     10       7           8        5  11.20  \n",
       "6      5       3           8        3   8.00  \n",
       "2      8       3           7        3   7.00  \n",
       "1      2       5           4       10   2.00  \n",
       "5      3       2           2        3   1.33  \n",
       "3      8       3           3        8   1.12  \n",
       "4      3       1           1        1   1.00  "
      ]
     },
     "execution_count": 42,
     "metadata": {},
     "output_type": "execute_result"
    }
   ],
   "source": [
    "hypothesis.sort_values(by='ICE', ascending=False)"
   ]
  },
  {
   "cell_type": "markdown",
   "metadata": {},
   "source": [
    "Рассмотрев приотизацию по методу *ICE*, делаем вывод, что наиболее перспективной является гипотеза с предложением запустить акцию, дающую скидку на товар в день рождения. Данная гипотеза имеет высокий уровень влияния и уверенности, а также средний уровень затрат.\n",
    "\n",
    "Также следует обратить внимание на гипотезы: \"Добавить два новых канала привлечения трафика, что позволит привлекать на 30% больше пользователей\" и \"Добавить форму подписки на все основные страницы, чтобы собрать базу клиентов для email-рассылок\" - следующие по значению параметра *ICE*."
   ]
  },
  {
   "cell_type": "markdown",
   "metadata": {},
   "source": [
    "#### Приоритизация гипотез методом RICE"
   ]
  },
  {
   "cell_type": "markdown",
   "metadata": {},
   "source": [
    "Далее применим другой метод для сортировки приоритетов гипотез - **RICE**, с использованием параметра `reach` и сравним оба метода:"
   ]
  },
  {
   "cell_type": "code",
   "execution_count": 46,
   "metadata": {},
   "outputs": [],
   "source": [
    "hypothesis['RICE'] = (hypothesis['reach']*hypothesis['impact']*hypothesis['confidence'])/hypothesis['efforts']"
   ]
  },
  {
   "cell_type": "code",
   "execution_count": 47,
   "metadata": {},
   "outputs": [
    {
     "data": {
      "text/html": [
       "<div>\n",
       "<style scoped>\n",
       "    .dataframe tbody tr th:only-of-type {\n",
       "        vertical-align: middle;\n",
       "    }\n",
       "\n",
       "    .dataframe tbody tr th {\n",
       "        vertical-align: top;\n",
       "    }\n",
       "\n",
       "    .dataframe thead th {\n",
       "        text-align: right;\n",
       "    }\n",
       "</style>\n",
       "<table border=\"1\" class=\"dataframe\">\n",
       "  <thead>\n",
       "    <tr style=\"text-align: right;\">\n",
       "      <th></th>\n",
       "      <th>hypothesis</th>\n",
       "      <th>reach</th>\n",
       "      <th>impact</th>\n",
       "      <th>confidence</th>\n",
       "      <th>efforts</th>\n",
       "      <th>ICE</th>\n",
       "      <th>RICE</th>\n",
       "    </tr>\n",
       "  </thead>\n",
       "  <tbody>\n",
       "    <tr>\n",
       "      <th>7</th>\n",
       "      <td>Добавить форму подписки на все основные страницы, чтобы собрать базу клиентов для email-рассылок</td>\n",
       "      <td>10</td>\n",
       "      <td>7</td>\n",
       "      <td>8</td>\n",
       "      <td>5</td>\n",
       "      <td>11.20</td>\n",
       "      <td>112.0</td>\n",
       "    </tr>\n",
       "    <tr>\n",
       "      <th>2</th>\n",
       "      <td>Добавить блоки рекомендаций товаров на сайт интернет магазина, чтобы повысить конверсию и средний чек заказа</td>\n",
       "      <td>8</td>\n",
       "      <td>3</td>\n",
       "      <td>7</td>\n",
       "      <td>3</td>\n",
       "      <td>7.00</td>\n",
       "      <td>56.0</td>\n",
       "    </tr>\n",
       "    <tr>\n",
       "      <th>0</th>\n",
       "      <td>Добавить два новых канала привлечения трафика, что позволит привлекать на 30% больше пользователей</td>\n",
       "      <td>3</td>\n",
       "      <td>10</td>\n",
       "      <td>8</td>\n",
       "      <td>6</td>\n",
       "      <td>13.33</td>\n",
       "      <td>40.0</td>\n",
       "    </tr>\n",
       "    <tr>\n",
       "      <th>6</th>\n",
       "      <td>Показать на главной странице баннеры с актуальными акциями и распродажами, чтобы увеличить конверсию</td>\n",
       "      <td>5</td>\n",
       "      <td>3</td>\n",
       "      <td>8</td>\n",
       "      <td>3</td>\n",
       "      <td>8.00</td>\n",
       "      <td>40.0</td>\n",
       "    </tr>\n",
       "    <tr>\n",
       "      <th>8</th>\n",
       "      <td>Запустить акцию, дающую скидку на товар в день рождения</td>\n",
       "      <td>1</td>\n",
       "      <td>9</td>\n",
       "      <td>9</td>\n",
       "      <td>5</td>\n",
       "      <td>16.20</td>\n",
       "      <td>16.2</td>\n",
       "    </tr>\n",
       "    <tr>\n",
       "      <th>3</th>\n",
       "      <td>Изменить структура категорий, что увеличит конверсию, т.к. пользователи быстрее найдут нужный товар</td>\n",
       "      <td>8</td>\n",
       "      <td>3</td>\n",
       "      <td>3</td>\n",
       "      <td>8</td>\n",
       "      <td>1.12</td>\n",
       "      <td>9.0</td>\n",
       "    </tr>\n",
       "    <tr>\n",
       "      <th>1</th>\n",
       "      <td>Запустить собственную службу доставки, что сократит срок доставки заказов</td>\n",
       "      <td>2</td>\n",
       "      <td>5</td>\n",
       "      <td>4</td>\n",
       "      <td>10</td>\n",
       "      <td>2.00</td>\n",
       "      <td>4.0</td>\n",
       "    </tr>\n",
       "    <tr>\n",
       "      <th>5</th>\n",
       "      <td>Добавить страницу отзывов клиентов о магазине, что позволит увеличить количество заказов</td>\n",
       "      <td>3</td>\n",
       "      <td>2</td>\n",
       "      <td>2</td>\n",
       "      <td>3</td>\n",
       "      <td>1.33</td>\n",
       "      <td>4.0</td>\n",
       "    </tr>\n",
       "    <tr>\n",
       "      <th>4</th>\n",
       "      <td>Изменить цвет фона главной страницы, чтобы увеличить вовлеченность пользователей</td>\n",
       "      <td>3</td>\n",
       "      <td>1</td>\n",
       "      <td>1</td>\n",
       "      <td>1</td>\n",
       "      <td>1.00</td>\n",
       "      <td>3.0</td>\n",
       "    </tr>\n",
       "  </tbody>\n",
       "</table>\n",
       "</div>"
      ],
      "text/plain": [
       "                                                                                                     hypothesis  \\\n",
       "7              Добавить форму подписки на все основные страницы, чтобы собрать базу клиентов для email-рассылок   \n",
       "2  Добавить блоки рекомендаций товаров на сайт интернет магазина, чтобы повысить конверсию и средний чек заказа   \n",
       "0            Добавить два новых канала привлечения трафика, что позволит привлекать на 30% больше пользователей   \n",
       "6          Показать на главной странице баннеры с актуальными акциями и распродажами, чтобы увеличить конверсию   \n",
       "8                                                       Запустить акцию, дающую скидку на товар в день рождения   \n",
       "3           Изменить структура категорий, что увеличит конверсию, т.к. пользователи быстрее найдут нужный товар   \n",
       "1                                     Запустить собственную службу доставки, что сократит срок доставки заказов   \n",
       "5                      Добавить страницу отзывов клиентов о магазине, что позволит увеличить количество заказов   \n",
       "4                              Изменить цвет фона главной страницы, чтобы увеличить вовлеченность пользователей   \n",
       "\n",
       "   reach  impact  confidence  efforts    ICE   RICE  \n",
       "7     10       7           8        5  11.20  112.0  \n",
       "2      8       3           7        3   7.00   56.0  \n",
       "0      3      10           8        6  13.33   40.0  \n",
       "6      5       3           8        3   8.00   40.0  \n",
       "8      1       9           9        5  16.20   16.2  \n",
       "3      8       3           3        8   1.12    9.0  \n",
       "1      2       5           4       10   2.00    4.0  \n",
       "5      3       2           2        3   1.33    4.0  \n",
       "4      3       1           1        1   1.00    3.0  "
      ]
     },
     "execution_count": 47,
     "metadata": {},
     "output_type": "execute_result"
    }
   ],
   "source": [
    "hypothesis.sort_values(by='RICE', ascending=False)"
   ]
  },
  {
   "cell_type": "markdown",
   "metadata": {},
   "source": [
    "В данном случае гипотеза \"Добавить форму подписки на все основные страницы, чтобы собрать базу клиентов для email-рассылок\" значительно выделяется на фоне остальных, у неё наибольший приоритет, так как она имеет наивысшую оценку параметра `reach`. Это означает, что добавление формы подписки на все основные страницы с целью собрать базу клиентов для email-рассылок затронет многих пользователей интернет-магазина.\n",
    "\n",
    "При этом гипотеза с предложением запустить акцию, дающую скидку на товар в день рождения, которая являлась более приоритетной по значению *ICE* находится на 5-м месте по оценке *RICE*, так как она охватывает минимальное количество пользователей. Видимо, очень маленький % пользователей заполняет свою дату рождения в профиле.\n",
    "\n",
    "При этом гипотеза, предлагающая изменить цвет фона главной страницы имеет самый низкий приоритет, как по методу *ICE*, так и по методу *RICE*.\n",
    "\n",
    "Если делать выводы на основе обеих оценок, то для начала следует рассмотреть именно **гипотезу о добавлении формы подписки на все основные страницы**, она имеет достаточно высокий приоритет по обеим методам оценки."
   ]
  },
  {
   "cell_type": "markdown",
   "metadata": {},
   "source": [
    "### Анализ A/B-теста"
   ]
  },
  {
   "cell_type": "markdown",
   "metadata": {},
   "source": [
    "Для дальнейшего анализа A/B теста и построения кумулятивных графиков будет задан новый датафрейм `cumulative_data` со столбцами:\n",
    "\n",
    "- `date` — дата;\n",
    "- `group` — группа A/B-теста;\n",
    "- `orders` — кумулятивное количество заказов на указанную дату в указанной группе;\n",
    "- `buyers` — кумулятивное количество пользователей, совершивших хотя бы один заказ, на указанную дату в указанной группе;\n",
    "- `revenue` — кумулятивная выручка на указанную дату в указанной группе (средний чек);\n",
    "- `visitors` — кумулятивное количество посетителей интернет-магазина на указанную дату в определённой группе."
   ]
  },
  {
   "cell_type": "markdown",
   "metadata": {},
   "source": [
    "Для `cumulative_data` будем объединять агрегированные кумулятивные данные о заказах и о посетителях интернет-магазина.\n",
    "Но перед этим создадим массив уникальных пар значений дат и групп теста:"
   ]
  },
  {
   "cell_type": "code",
   "execution_count": 52,
   "metadata": {},
   "outputs": [],
   "source": [
    "datesGroups = orders[['date','group']].drop_duplicates() "
   ]
  },
  {
   "cell_type": "markdown",
   "metadata": {},
   "source": [
    "Далее соберём агрегированные кумулятивные по дням данные о заказах и отсортируем результаты по столбцам `date` и `group`: "
   ]
  },
  {
   "cell_type": "code",
   "execution_count": 54,
   "metadata": {},
   "outputs": [],
   "source": [
    "ordersAggregated = datesGroups.apply(\n",
    "    lambda x: orders[\n",
    "        np.logical_and(\n",
    "            orders['date'] <= x['date'], orders['group'] == x['group']\n",
    "        )\n",
    "    ].agg(\n",
    "        {\n",
    "            'date': 'max',\n",
    "            'group': 'max',\n",
    "            'transaction_id': 'nunique',\n",
    "            'visitor_id': 'nunique',\n",
    "            'revenue': 'sum',\n",
    "        }\n",
    "    ),\n",
    "    axis=1,\n",
    ").sort_values(by=['date', 'group'])"
   ]
  },
  {
   "cell_type": "code",
   "execution_count": 55,
   "metadata": {},
   "outputs": [
    {
     "data": {
      "text/html": [
       "<div>\n",
       "<style scoped>\n",
       "    .dataframe tbody tr th:only-of-type {\n",
       "        vertical-align: middle;\n",
       "    }\n",
       "\n",
       "    .dataframe tbody tr th {\n",
       "        vertical-align: top;\n",
       "    }\n",
       "\n",
       "    .dataframe thead th {\n",
       "        text-align: right;\n",
       "    }\n",
       "</style>\n",
       "<table border=\"1\" class=\"dataframe\">\n",
       "  <thead>\n",
       "    <tr style=\"text-align: right;\">\n",
       "      <th></th>\n",
       "      <th>date</th>\n",
       "      <th>group</th>\n",
       "      <th>transaction_id</th>\n",
       "      <th>visitor_id</th>\n",
       "      <th>revenue</th>\n",
       "    </tr>\n",
       "  </thead>\n",
       "  <tbody>\n",
       "    <tr>\n",
       "      <th>55</th>\n",
       "      <td>2019-08-01</td>\n",
       "      <td>A</td>\n",
       "      <td>23</td>\n",
       "      <td>19</td>\n",
       "      <td>142779</td>\n",
       "    </tr>\n",
       "    <tr>\n",
       "      <th>66</th>\n",
       "      <td>2019-08-01</td>\n",
       "      <td>B</td>\n",
       "      <td>17</td>\n",
       "      <td>17</td>\n",
       "      <td>59758</td>\n",
       "    </tr>\n",
       "    <tr>\n",
       "      <th>175</th>\n",
       "      <td>2019-08-02</td>\n",
       "      <td>A</td>\n",
       "      <td>42</td>\n",
       "      <td>36</td>\n",
       "      <td>234381</td>\n",
       "    </tr>\n",
       "    <tr>\n",
       "      <th>173</th>\n",
       "      <td>2019-08-02</td>\n",
       "      <td>B</td>\n",
       "      <td>40</td>\n",
       "      <td>39</td>\n",
       "      <td>221801</td>\n",
       "    </tr>\n",
       "    <tr>\n",
       "      <th>291</th>\n",
       "      <td>2019-08-03</td>\n",
       "      <td>A</td>\n",
       "      <td>66</td>\n",
       "      <td>60</td>\n",
       "      <td>346854</td>\n",
       "    </tr>\n",
       "  </tbody>\n",
       "</table>\n",
       "</div>"
      ],
      "text/plain": [
       "          date group  transaction_id  visitor_id  revenue\n",
       "55  2019-08-01     A              23          19   142779\n",
       "66  2019-08-01     B              17          17    59758\n",
       "175 2019-08-02     A              42          36   234381\n",
       "173 2019-08-02     B              40          39   221801\n",
       "291 2019-08-03     A              66          60   346854"
      ]
     },
     "execution_count": 55,
     "metadata": {},
     "output_type": "execute_result"
    }
   ],
   "source": [
    "ordersAggregated.head(5) # вывод"
   ]
  },
  {
   "cell_type": "markdown",
   "metadata": {},
   "source": [
    "После этого соберём так же агрегированные кумулятивные данные о посетителях интернет-магазина: "
   ]
  },
  {
   "cell_type": "code",
   "execution_count": 57,
   "metadata": {},
   "outputs": [],
   "source": [
    "visitorsAggregated = datesGroups.apply(\n",
    "    lambda x: visitors[\n",
    "        np.logical_and(\n",
    "            visitors['date'] <= x['date'], visitors['group'] == x['group']\n",
    "        )\n",
    "    ].agg({'date': 'max', 'group': 'max', 'visitors': 'sum'}),\n",
    "    axis=1,\n",
    ").sort_values(by=['date', 'group'])"
   ]
  },
  {
   "cell_type": "code",
   "execution_count": 58,
   "metadata": {},
   "outputs": [
    {
     "data": {
      "text/html": [
       "<div>\n",
       "<style scoped>\n",
       "    .dataframe tbody tr th:only-of-type {\n",
       "        vertical-align: middle;\n",
       "    }\n",
       "\n",
       "    .dataframe tbody tr th {\n",
       "        vertical-align: top;\n",
       "    }\n",
       "\n",
       "    .dataframe thead th {\n",
       "        text-align: right;\n",
       "    }\n",
       "</style>\n",
       "<table border=\"1\" class=\"dataframe\">\n",
       "  <thead>\n",
       "    <tr style=\"text-align: right;\">\n",
       "      <th></th>\n",
       "      <th>date</th>\n",
       "      <th>group</th>\n",
       "      <th>visitors</th>\n",
       "    </tr>\n",
       "  </thead>\n",
       "  <tbody>\n",
       "    <tr>\n",
       "      <th>55</th>\n",
       "      <td>2019-08-01</td>\n",
       "      <td>A</td>\n",
       "      <td>719</td>\n",
       "    </tr>\n",
       "    <tr>\n",
       "      <th>66</th>\n",
       "      <td>2019-08-01</td>\n",
       "      <td>B</td>\n",
       "      <td>713</td>\n",
       "    </tr>\n",
       "    <tr>\n",
       "      <th>175</th>\n",
       "      <td>2019-08-02</td>\n",
       "      <td>A</td>\n",
       "      <td>1338</td>\n",
       "    </tr>\n",
       "    <tr>\n",
       "      <th>173</th>\n",
       "      <td>2019-08-02</td>\n",
       "      <td>B</td>\n",
       "      <td>1294</td>\n",
       "    </tr>\n",
       "    <tr>\n",
       "      <th>291</th>\n",
       "      <td>2019-08-03</td>\n",
       "      <td>A</td>\n",
       "      <td>1845</td>\n",
       "    </tr>\n",
       "  </tbody>\n",
       "</table>\n",
       "</div>"
      ],
      "text/plain": [
       "          date group  visitors\n",
       "55  2019-08-01     A       719\n",
       "66  2019-08-01     B       713\n",
       "175 2019-08-02     A      1338\n",
       "173 2019-08-02     B      1294\n",
       "291 2019-08-03     A      1845"
      ]
     },
     "execution_count": 58,
     "metadata": {},
     "output_type": "execute_result"
    }
   ],
   "source": [
    "visitorsAggregated.head(5) # вывод"
   ]
  },
  {
   "cell_type": "markdown",
   "metadata": {},
   "source": [
    "Когда обе таблицы с кумулятивными данными готовы, объединяем их в датафрейм `cumulative_data`:"
   ]
  },
  {
   "cell_type": "code",
   "execution_count": 60,
   "metadata": {},
   "outputs": [],
   "source": [
    "cumulative_data = ordersAggregated.merge(visitorsAggregated, on=['date', 'group'])"
   ]
  },
  {
   "cell_type": "code",
   "execution_count": 61,
   "metadata": {},
   "outputs": [],
   "source": [
    "cumulative_data.columns = ['date', 'group', 'orders', 'buyers', 'revenue', 'visitors'] # задаем наименование столбцов"
   ]
  },
  {
   "cell_type": "code",
   "execution_count": 62,
   "metadata": {},
   "outputs": [
    {
     "data": {
      "text/html": [
       "<div>\n",
       "<style scoped>\n",
       "    .dataframe tbody tr th:only-of-type {\n",
       "        vertical-align: middle;\n",
       "    }\n",
       "\n",
       "    .dataframe tbody tr th {\n",
       "        vertical-align: top;\n",
       "    }\n",
       "\n",
       "    .dataframe thead th {\n",
       "        text-align: right;\n",
       "    }\n",
       "</style>\n",
       "<table border=\"1\" class=\"dataframe\">\n",
       "  <thead>\n",
       "    <tr style=\"text-align: right;\">\n",
       "      <th></th>\n",
       "      <th>date</th>\n",
       "      <th>group</th>\n",
       "      <th>orders</th>\n",
       "      <th>buyers</th>\n",
       "      <th>revenue</th>\n",
       "      <th>visitors</th>\n",
       "    </tr>\n",
       "  </thead>\n",
       "  <tbody>\n",
       "    <tr>\n",
       "      <th>0</th>\n",
       "      <td>2019-08-01</td>\n",
       "      <td>A</td>\n",
       "      <td>23</td>\n",
       "      <td>19</td>\n",
       "      <td>142779</td>\n",
       "      <td>719</td>\n",
       "    </tr>\n",
       "    <tr>\n",
       "      <th>1</th>\n",
       "      <td>2019-08-01</td>\n",
       "      <td>B</td>\n",
       "      <td>17</td>\n",
       "      <td>17</td>\n",
       "      <td>59758</td>\n",
       "      <td>713</td>\n",
       "    </tr>\n",
       "    <tr>\n",
       "      <th>2</th>\n",
       "      <td>2019-08-02</td>\n",
       "      <td>A</td>\n",
       "      <td>42</td>\n",
       "      <td>36</td>\n",
       "      <td>234381</td>\n",
       "      <td>1338</td>\n",
       "    </tr>\n",
       "    <tr>\n",
       "      <th>3</th>\n",
       "      <td>2019-08-02</td>\n",
       "      <td>B</td>\n",
       "      <td>40</td>\n",
       "      <td>39</td>\n",
       "      <td>221801</td>\n",
       "      <td>1294</td>\n",
       "    </tr>\n",
       "    <tr>\n",
       "      <th>4</th>\n",
       "      <td>2019-08-03</td>\n",
       "      <td>A</td>\n",
       "      <td>66</td>\n",
       "      <td>60</td>\n",
       "      <td>346854</td>\n",
       "      <td>1845</td>\n",
       "    </tr>\n",
       "    <tr>\n",
       "      <th>5</th>\n",
       "      <td>2019-08-03</td>\n",
       "      <td>B</td>\n",
       "      <td>54</td>\n",
       "      <td>53</td>\n",
       "      <td>288850</td>\n",
       "      <td>1803</td>\n",
       "    </tr>\n",
       "    <tr>\n",
       "      <th>6</th>\n",
       "      <td>2019-08-04</td>\n",
       "      <td>A</td>\n",
       "      <td>77</td>\n",
       "      <td>71</td>\n",
       "      <td>388030</td>\n",
       "      <td>2562</td>\n",
       "    </tr>\n",
       "    <tr>\n",
       "      <th>7</th>\n",
       "      <td>2019-08-04</td>\n",
       "      <td>B</td>\n",
       "      <td>68</td>\n",
       "      <td>66</td>\n",
       "      <td>385740</td>\n",
       "      <td>2573</td>\n",
       "    </tr>\n",
       "    <tr>\n",
       "      <th>8</th>\n",
       "      <td>2019-08-05</td>\n",
       "      <td>A</td>\n",
       "      <td>99</td>\n",
       "      <td>92</td>\n",
       "      <td>474413</td>\n",
       "      <td>3318</td>\n",
       "    </tr>\n",
       "    <tr>\n",
       "      <th>9</th>\n",
       "      <td>2019-08-05</td>\n",
       "      <td>B</td>\n",
       "      <td>89</td>\n",
       "      <td>87</td>\n",
       "      <td>475648</td>\n",
       "      <td>3280</td>\n",
       "    </tr>\n",
       "  </tbody>\n",
       "</table>\n",
       "</div>"
      ],
      "text/plain": [
       "        date group  orders  buyers  revenue  visitors\n",
       "0 2019-08-01     A      23      19   142779       719\n",
       "1 2019-08-01     B      17      17    59758       713\n",
       "2 2019-08-02     A      42      36   234381      1338\n",
       "3 2019-08-02     B      40      39   221801      1294\n",
       "4 2019-08-03     A      66      60   346854      1845\n",
       "5 2019-08-03     B      54      53   288850      1803\n",
       "6 2019-08-04     A      77      71   388030      2562\n",
       "7 2019-08-04     B      68      66   385740      2573\n",
       "8 2019-08-05     A      99      92   474413      3318\n",
       "9 2019-08-05     B      89      87   475648      3280"
      ]
     },
     "execution_count": 62,
     "metadata": {},
     "output_type": "execute_result"
    }
   ],
   "source": [
    "cumulative_data.head(10) # вывод"
   ]
  },
  {
   "cell_type": "markdown",
   "metadata": {},
   "source": [
    "Для проверки корректности объединения таблицы в `cumulative_data` сравним минимальные и максимальные даты в исходном и образованном датафреймах:"
   ]
  },
  {
   "cell_type": "code",
   "execution_count": 64,
   "metadata": {
    "scrolled": true
   },
   "outputs": [
    {
     "data": {
      "text/plain": [
       "count                             1016\n",
       "mean     2019-08-15 07:47:42.992125952\n",
       "min                2019-08-01 00:00:00\n",
       "25%                2019-08-07 00:00:00\n",
       "50%                2019-08-15 00:00:00\n",
       "75%                2019-08-23 00:00:00\n",
       "max                2019-08-31 00:00:00\n",
       "Name: date, dtype: object"
      ]
     },
     "execution_count": 64,
     "metadata": {},
     "output_type": "execute_result"
    }
   ],
   "source": [
    "orders['date'].describe()"
   ]
  },
  {
   "cell_type": "code",
   "execution_count": 65,
   "metadata": {
    "scrolled": true
   },
   "outputs": [
    {
     "data": {
      "text/plain": [
       "count                     62\n",
       "mean     2019-08-16 00:00:00\n",
       "min      2019-08-01 00:00:00\n",
       "25%      2019-08-08 06:00:00\n",
       "50%      2019-08-16 00:00:00\n",
       "75%      2019-08-23 18:00:00\n",
       "max      2019-08-31 00:00:00\n",
       "Name: date, dtype: object"
      ]
     },
     "execution_count": 65,
     "metadata": {},
     "output_type": "execute_result"
    }
   ],
   "source": [
    "cumulative_data['date'].describe()"
   ]
  },
  {
   "cell_type": "markdown",
   "metadata": {},
   "source": [
    "Временной промежуток совпадает, в обоих таблицах данные с 01.08.2019 по 31.08.2019."
   ]
  },
  {
   "cell_type": "markdown",
   "metadata": {},
   "source": [
    "Далее приступим к выполнению этапов анализа результатов A/B теста:"
   ]
  },
  {
   "cell_type": "markdown",
   "metadata": {},
   "source": [
    "#### Графики по кумулятивным параметрам"
   ]
  },
  {
   "cell_type": "markdown",
   "metadata": {},
   "source": [
    "##### График кумулятивной выручки по группам"
   ]
  },
  {
   "cell_type": "markdown",
   "metadata": {},
   "source": [
    "Построим графики кумулятивной выручки по дням и группам A/B-тестирования:"
   ]
  },
  {
   "cell_type": "code",
   "execution_count": 71,
   "metadata": {},
   "outputs": [
    {
     "data": {
      "image/png": "[encoded data removed]",
      "text/plain": [
       "<Figure size 1200x700 with 1 Axes>"
      ]
     },
     "metadata": {},
     "output_type": "display_data"
    }
   ],
   "source": [
    "# датафрейм с кумулятивным количеством заказов и кумулятивной выручкой по дням в группе А\n",
    "cumulative_revenueA = cumulative_data[cumulative_data['group']=='A'][['date','revenue', 'orders']]\n",
    "\n",
    "# датафрейм с кумулятивным количеством заказов и кумулятивной выручкой по дням в группе B\n",
    "cumulative_revenueB = cumulative_data[cumulative_data['group']=='B'][['date','revenue', 'orders']]\n",
    "\n",
    "plt.figure(figsize=(12,7))\n",
    "\n",
    "# график выручки группы А\n",
    "plt.plot(cumulative_revenueA['date'], cumulative_revenueA['revenue'], label='A')\n",
    "\n",
    "# график выручки группы B\n",
    "plt.plot(cumulative_revenueB['date'], cumulative_revenueB['revenue'], label='B')\n",
    "\n",
    "\n",
    "plt.legend()\n",
    "plt.xlabel('Дата')\n",
    "plt.ylabel('Выручка, млн')\n",
    "plt.title('Кумулятивная выручка по группам');"
   ]
  },
  {
   "cell_type": "markdown",
   "metadata": {},
   "source": [
    "На графике видно, что выручка группы *A* почти равномерно увеличивается в течение всего теста. У группы *B*, напротив, есть резкий скачок в середине месяца, это может означать всплески числа заказов, либо наличие очень дорогих заказов в выборке. Нужно проанализировать выбросы."
   ]
  },
  {
   "cell_type": "markdown",
   "metadata": {},
   "source": [
    "##### График кумулятивного среднего чека по группам"
   ]
  },
  {
   "cell_type": "markdown",
   "metadata": {},
   "source": [
    "Построим график кумулятивного среднего чека по группам на основе уже имеющихся датафреймов `cumulative_revenueA` и `cumulative_revenueB`.\n",
    "\n",
    "Для этого разделим выручку на количество заказов в каждой группе:"
   ]
  },
  {
   "cell_type": "code",
   "execution_count": 75,
   "metadata": {},
   "outputs": [
    {
     "data": {
      "image/png": "[encoded data removed]",
      "text/plain": [
       "<Figure size 1200x700 with 1 Axes>"
      ]
     },
     "metadata": {},
     "output_type": "display_data"
    }
   ],
   "source": [
    "plt.figure(figsize=(12,7))\n",
    "\n",
    "# график выручки группы А\n",
    "plt.plot(cumulative_revenueA['date'], cumulative_revenueA['revenue']/cumulative_revenueA['orders'], label='A')\n",
    "\n",
    "# график выручки группы B\n",
    "plt.plot(cumulative_revenueB['date'], cumulative_revenueB['revenue']/cumulative_revenueB['orders'], label='B')\n",
    "\n",
    "\n",
    "plt.legend()\n",
    "plt.xlabel('Дата')\n",
    "plt.ylabel('средний чек')\n",
    "plt.title('Кумулятивный средний чек по группам');"
   ]
  },
  {
   "cell_type": "markdown",
   "metadata": {},
   "source": [
    "Графики средних чеков обеих групп имеют резкие пики, но если график группы *A* становится более равномерным под конец теста, то у группы *B* есть очень сильный скачок в том же месте, что и в графике кумулятивной выручки. Значит, в выборке всё-таки существуют очень дорогие заказы в середине рассматриваемого периода."
   ]
  },
  {
   "cell_type": "markdown",
   "metadata": {},
   "source": [
    "##### График относительного изменения кумулятивного среднего чека группы B к группе A"
   ]
  },
  {
   "cell_type": "markdown",
   "metadata": {},
   "source": [
    "Построим график относительного различия среднего чека группы B к группе A:"
   ]
  },
  {
   "cell_type": "code",
   "execution_count": 79,
   "metadata": {},
   "outputs": [
    {
     "data": {
      "image/png": "[encoded data removed]",
      "text/plain": [
       "<Figure size 1200x500 with 1 Axes>"
      ]
     },
     "metadata": {},
     "output_type": "display_data"
    }
   ],
   "source": [
    "plt.figure(figsize=(12,5))\n",
    "\n",
    "# собираем данные в одном датафрейме, добавляем к наименованиям столбцов \"A\" и \"B\"\n",
    "merged_cumulative_revenue = cumulative_revenueA.merge(cumulative_revenueB, on='date', suffixes=['A', 'B'])\n",
    "\n",
    "# cтроим отношение средних чеков\n",
    "plt.plot(\n",
    "    merged_cumulative_revenue['date'],\n",
    "    (merged_cumulative_revenue['revenueB']/merged_cumulative_revenue['ordersB'])\n",
    "    /(merged_cumulative_revenue['revenueA']/merged_cumulative_revenue['ordersA'])-1)\n",
    "\n",
    "# добавляем ось X в точке y = 0\n",
    "plt.axhline(y=0, color='black', linestyle='--') \n",
    "plt.xlabel('Дата')\n",
    "plt.title('Относительное различие среднего чека группы B к группе A');"
   ]
  },
  {
   "cell_type": "markdown",
   "metadata": {},
   "source": [
    "Таким образом видно, что средний чек группы B \"уступал\" среднему чеку группы A только в начале теста и небольшой период в его середине, под конец теста средний чек группы B значительно превосходит средний чек группы A (больше на 30%), но на эти данные так же продолжают влиять выбросы."
   ]
  },
  {
   "cell_type": "markdown",
   "metadata": {},
   "source": [
    "##### График кумулятивного среднего количества заказов на посетителя по группам"
   ]
  },
  {
   "cell_type": "code",
   "execution_count": 82,
   "metadata": {},
   "outputs": [
    {
     "data": {
      "image/png": "[encoded data removed]",
      "text/plain": [
       "<Figure size 1200x700 with 1 Axes>"
      ]
     },
     "metadata": {},
     "output_type": "display_data"
    }
   ],
   "source": [
    "plt.figure(figsize=(12,7))\n",
    "\n",
    "# считаем среднее количество заказов на посетителя\n",
    "cumulative_data['conversion'] = cumulative_data['orders']/cumulative_data['visitors']\n",
    "\n",
    "# строим графики\n",
    "plt.plot(\n",
    "    cumulative_data[cumulative_data['group']=='A']['date'], \n",
    "    cumulative_data[cumulative_data['group']=='A']['conversion'], label='A'\n",
    ")\n",
    "plt.plot(\n",
    "    cumulative_data[cumulative_data['group']=='B']['date'], \n",
    "    cumulative_data[cumulative_data['group']=='B']['conversion'], label='B'\n",
    ")\n",
    "plt.legend()\n",
    "plt.xlabel('Дата')\n",
    "plt.title('Среднее количество заказов на посетителя по группам');"
   ]
  },
  {
   "cell_type": "markdown",
   "metadata": {},
   "source": [
    "Графики выглядят почти симметрично, с большими пиками в начале рассматриваемого периода, однако позже начали чуть более стабилизироваться. По итогу периода теста среднее количество заказов на посетителя у группы *B* более высокое, чем у группы *A*, но опять же мешают выбросы."
   ]
  },
  {
   "cell_type": "markdown",
   "metadata": {},
   "source": [
    "##### График относительного изменения кумулятивного среднего количества заказов на посетителя группы B к группе A"
   ]
  },
  {
   "cell_type": "markdown",
   "metadata": {},
   "source": [
    "Построим график изменения кумулятивного среднего количества заказов на посетителя группы B к группе A:"
   ]
  },
  {
   "cell_type": "code",
   "execution_count": 86,
   "metadata": {},
   "outputs": [
    {
     "data": {
      "image/png": "[encoded data removed]",
      "text/plain": [
       "<Figure size 1200x500 with 1 Axes>"
      ]
     },
     "metadata": {},
     "output_type": "display_data"
    }
   ],
   "source": [
    "plt.figure(figsize=(12,5))\n",
    "\n",
    "# собираем данные с рассчитанным средним количеством заказов на посетителя в одном датафрейме, \n",
    "# добавляем к наименованиям столбцов \"A\" и \"B\"\n",
    "merged_cumulative_conversions = (\n",
    "    cumulative_data[cumulative_data['group']=='A'][['date','conversion']]\n",
    "    .merge(cumulative_data[cumulative_data['group']=='B'][['date','conversion']], on='date', suffixes=['A', 'B'])\n",
    ")\n",
    "\n",
    "plt.plot(\n",
    "    merged_cumulative_conversions['date'], \n",
    "    merged_cumulative_conversions['conversionB']/merged_cumulative_conversions['conversionA']-1\n",
    ")\n",
    "\n",
    "plt.axhline(y=0, color='black', linestyle='--')\n",
    "plt.xlabel('Дата')\n",
    "plt.title('Относительное изменение кумулятивного среднего количества заказов на посетителя группы B к группе A');"
   ]
  },
  {
   "cell_type": "markdown",
   "metadata": {},
   "source": [
    "По графику видно, что среднее количество заказов на посетителя группы B выигрывает среднему количеству заказов на посетителя группы A. При этом в начале теста наблюдалась обратная ситуация. В данный момент показатель растёт, однако всё-равно следует проверить данные на выбросы."
   ]
  },
  {
   "cell_type": "markdown",
   "metadata": {},
   "source": [
    "Попробуем избавиться от аномалий для более корректного анализа результата A/B теста."
   ]
  },
  {
   "cell_type": "markdown",
   "metadata": {},
   "source": [
    "#### Работа с аномальными значениями по количеству заказов"
   ]
  },
  {
   "cell_type": "code",
   "execution_count": 90,
   "metadata": {},
   "outputs": [],
   "source": [
    "# создаём датафрейм с группировкой по пользователям и количеством уникальных транзакций для каждого из них:\n",
    "\n",
    "orders_group = orders.groupby('visitor_id').agg({'transaction_id':'nunique'}).reset_index()\n",
    "orders_group.columns = ['user_id', 'orders']"
   ]
  },
  {
   "cell_type": "code",
   "execution_count": 91,
   "metadata": {},
   "outputs": [
    {
     "data": {
      "image/png": "[encoded data removed]",
      "text/plain": [
       "<Figure size 800x500 with 1 Axes>"
      ]
     },
     "metadata": {},
     "output_type": "display_data"
    }
   ],
   "source": [
    "# задаём ось x от 0 до длины датафрейма orders_group\n",
    "x_values = pd.Series(range(0,len(orders_group)))\n",
    "\n",
    "# строим точечный график\n",
    "plt.figure(figsize=(8,5))\n",
    "plt.scatter(x_values, orders_group['orders'])\n",
    "\n",
    "plt.xlabel('№ пользователя')\n",
    "plt.ylabel('Количество заказов')\n",
    "plt.title('Точечный график количества заказов по пользователям');"
   ]
  },
  {
   "cell_type": "markdown",
   "metadata": {},
   "source": [
    "Наиболее часто пользователи делали 1 заказ за рассматриваемый период, реже - 2 и 3 заказа. Чтобы понять, какие значения считать аномальными (принято отсеивать от 1% до 5% наблюдений с крайними значениями) посчитаем 95-ый и 99-ый процентили количества заказов на одного пользователя и выберем границу для определения аномальных значений:"
   ]
  },
  {
   "cell_type": "code",
   "execution_count": 93,
   "metadata": {},
   "outputs": [
    {
     "data": {
      "text/plain": [
       "array([1., 2.])"
      ]
     },
     "execution_count": 93,
     "metadata": {},
     "output_type": "execute_result"
    }
   ],
   "source": [
    "np.percentile(orders_group['orders'], [95, 99]) "
   ]
  },
  {
   "cell_type": "markdown",
   "metadata": {},
   "source": [
    "Не более 5% пользователей оформляли больше чем 1 заказ. И 1% пользователей оформлял заказы более 2 раз. \n",
    "Считаем оптимальным выбрать границу в 2 заказа, так мы отнесем 1% пользователей к аномальным значениям. \n",
    "\n",
    "После определения границы аномальных значений по стоимости заказа создадим отдельный датафрейм с пользователями-выбросами, запишем выбранную границу в переменную `order_limit`."
   ]
  },
  {
   "cell_type": "code",
   "execution_count": 95,
   "metadata": {},
   "outputs": [],
   "source": [
    "order_limit = np.percentile(orders_group['orders'], 99) "
   ]
  },
  {
   "cell_type": "markdown",
   "metadata": {},
   "source": [
    "#### Работа с аномальными значениями по стоимости заказов"
   ]
  },
  {
   "cell_type": "markdown",
   "metadata": {},
   "source": [
    "Оценим стоимость заказов на точечном графике:"
   ]
  },
  {
   "cell_type": "code",
   "execution_count": 98,
   "metadata": {},
   "outputs": [
    {
     "data": {
      "image/png": "[encoded data removed]",
      "text/plain": [
       "<Figure size 1800x700 with 2 Axes>"
      ]
     },
     "metadata": {},
     "output_type": "display_data"
    }
   ],
   "source": [
    "# задаём ось x от 0 до длины датафрейма orders\n",
    "x_values = pd.Series(range(0,len(orders)))\n",
    "\n",
    "# строим точечный график:\n",
    "\n",
    "plt.figure(figsize=[18, 7])\n",
    "plt.subplot(1, 2, 1)\n",
    "plt.scatter(x_values, orders['revenue'])\n",
    "\n",
    "plt.xlabel('№ пользователя')\n",
    "plt.ylabel('Стоимость заказа')\n",
    "plt.title('Точечный график стоимостей заказов')\n",
    "\n",
    "# строим точечный график с приближенным масштабированием по оси y:\n",
    "\n",
    "plt.subplot(1, 2, 2)\n",
    "plt.scatter(x_values, orders['revenue'], color='c')\n",
    "\n",
    "plt.xlabel('№ пользователя')\n",
    "plt.ylabel('Стоимость заказа')\n",
    "plt.title('Точечный график стоимостей заказов до 100 тыс')\n",
    "plt.ylim(0,100000)\n",
    "\n",
    "plt.show()"
   ]
  },
  {
   "cell_type": "markdown",
   "metadata": {},
   "source": [
    "На первом графике видно, что выделяется очень сильный выброс, заказ со стоимостью значительно превышающей остальные, скорее всего он и влияет на пиковые значения на графиках кумулятивной выручки и среднего чека. На втором графике изменили масштабирование, чтобы посмотреть более детально на другие заказы."
   ]
  },
  {
   "cell_type": "markdown",
   "metadata": {},
   "source": [
    "Аналогично количеству заказов определим границу аномальных значений для стоимости заказов с помощью расчёта 95-ого и 99-ого перцентилей:"
   ]
  },
  {
   "cell_type": "code",
   "execution_count": 101,
   "metadata": {},
   "outputs": [
    {
     "data": {
      "text/plain": [
       "array([26785., 53904.])"
      ]
     },
     "execution_count": 101,
     "metadata": {},
     "output_type": "execute_result"
    }
   ],
   "source": [
    "np.percentile(orders['revenue'], [95, 99]) "
   ]
  },
  {
   "cell_type": "markdown",
   "metadata": {},
   "source": [
    "Не более 5% заказов дороже 26785 и не более 1% заказов дороже 53904. Возьмём границу для отнесения стоимости заказов к аномальным в 99-й процентиль.\n",
    "\n",
    "Для дальнейшего анализа будем объединять аномальных пользователей по двум выбранным параметрам: примем за аномальных пользователей тех, кто совершил более 2 заказов или совершил заказ дороже 53 904. Так мы уберём 1% пользователей с наибольшим числом заказов и 1% пользователей с наиболее дорогими заказами."
   ]
  },
  {
   "cell_type": "markdown",
   "metadata": {},
   "source": [
    "Запишем выбранную границу в переменную `revenue_limit`:"
   ]
  },
  {
   "cell_type": "code",
   "execution_count": 103,
   "metadata": {},
   "outputs": [],
   "source": [
    "revenue_limit = np.percentile(orders['revenue'], 99) "
   ]
  },
  {
   "cell_type": "markdown",
   "metadata": {},
   "source": [
    "Сделаем срезы пользователей с числом заказов больше 2 — `users_many_orders` и пользователей, совершивших заказы дороже 53 904 — `users_expensive_orders`. Объединим их в таблице `abnormal_users`. "
   ]
  },
  {
   "cell_type": "code",
   "execution_count": 105,
   "metadata": {
    "scrolled": true
   },
   "outputs": [
    {
     "data": {
      "text/plain": [
       "16"
      ]
     },
     "execution_count": 105,
     "metadata": {},
     "output_type": "execute_result"
    }
   ],
   "source": [
    "users_many_orders = orders_group.query('orders>@order_limit')['user_id']\n",
    "\n",
    "users_expensive_orders = orders.query('revenue>@revenue_limit')['visitor_id']\n",
    "\n",
    "abnormal_users = pd.concat([users_many_orders, users_expensive_orders], axis=0).drop_duplicates()\n",
    "\n",
    "# количество аномальных пользователей\n",
    "abnormal_users.count()"
   ]
  },
  {
   "cell_type": "markdown",
   "metadata": {},
   "source": [
    "Всего 16 аномальных пользователей. Датафрейм понадобится для дальнейших расчётов статистической значимости по очищенным данным."
   ]
  },
  {
   "cell_type": "markdown",
   "metadata": {},
   "source": [
    "#### Расчёт статистической значимости различий между группами"
   ]
  },
  {
   "cell_type": "markdown",
   "metadata": {},
   "source": [
    "##### Расчёт статистической значимости различий в среднем количестве заказов на посетителя между группами по «сырым» данным"
   ]
  },
  {
   "cell_type": "markdown",
   "metadata": {},
   "source": [
    "Посчитаем статистическую значимость различий в среднем числе заказов на пользователя и среднем чеке между группами по «сырым» данным — без удаления аномальных пользователей.\n",
    "\n",
    "Сформулируем гипотезы:\n",
    "- H0: *различий в среднем количестве заказов между группами нет*\n",
    "- H1: *различия в среднем количестве заказов между группами есть*"
   ]
  },
  {
   "cell_type": "code",
   "execution_count": 114,
   "metadata": {},
   "outputs": [],
   "source": [
    "# создадим переменные для каждой из групп теста, в которых укажем id пользователей и число совершённых ими заказов:\n",
    "\n",
    "orders_A = (\n",
    "    orders.query('group == \"A\"')\n",
    "    .groupby('visitor_id')\n",
    "    .agg({'transaction_id':'nunique'})\n",
    "    .reset_index()\n",
    ")\n",
    "orders_A.columns = ['user_id', 'orders']\n",
    "\n",
    "orders_B = (\n",
    "    orders.query('group == \"B\"')\n",
    "    .groupby('visitor_id')\n",
    "    .agg({'transaction_id':'nunique'})\n",
    "    .reset_index()\n",
    ")\n",
    "orders_B.columns = ['user_id', 'orders']"
   ]
  },
  {
   "cell_type": "markdown",
   "metadata": {},
   "source": [
    "Для подготовки выборки к проверке критерием Манна-Уитни объявим переменные `sampleA` и `sampleB`, в которых пользователям из разных групп будет соответствовать количество заказов. Тем, кто ничего не заказал (просто посетители), будут соответствовать нули."
   ]
  },
  {
   "cell_type": "code",
   "execution_count": 116,
   "metadata": {},
   "outputs": [],
   "source": [
    "sampleA = pd.concat(\n",
    "    [orders_A['orders'],\n",
    "         pd.Series(0,\n",
    "            index=np.arange(visitors.query('group==\"A\"')['visitors'].sum() - len(orders_A['orders'])),\n",
    "            name='orders',\n",
    "        ),],\n",
    "    axis=0,\n",
    ")\n",
    "\n",
    "sampleB = pd.concat(\n",
    "    [orders_B['orders'],\n",
    "        pd.Series(0,\n",
    "            index=np.arange(visitors.query('group==\"B\"')['visitors'].sum() - len(orders_B['orders'])),\n",
    "            name='orders',\n",
    "        ),],\n",
    "    axis=0,\n",
    ")"
   ]
  },
  {
   "cell_type": "markdown",
   "metadata": {},
   "source": [
    "Ниже проведём непараметрический тест Уилкоксона-Манна-Уитни:"
   ]
  },
  {
   "cell_type": "code",
   "execution_count": 118,
   "metadata": {},
   "outputs": [
    {
     "name": "stdout",
     "output_type": "stream",
     "text": [
      "p-значение:  0.011\n",
      "Отвергаем нулевую гипотезу: разница статистически значима\n",
      "\n",
      "15.980 %\n"
     ]
    }
   ],
   "source": [
    "alpha = 0.05  # критический уровень статистической значимости\n",
    "\n",
    "results = st.mannwhitneyu(sampleA, sampleB)\n",
    "\n",
    "print('p-значение: ', \"{0:.3f}\".format(results.pvalue))\n",
    "\n",
    "if results.pvalue < alpha:\n",
    "    print('Отвергаем нулевую гипотезу: разница статистически значима')\n",
    "else:\n",
    "    print(\n",
    "        'Не получилось отвергнуть нулевую гипотезу, вывод о различии сделать нельзя'\n",
    "    )\n",
    "    \n",
    "print(\"\\n{0:.3f}\".format((sampleB.mean() / sampleA.mean() - 1)*100),'%')"
   ]
  },
  {
   "cell_type": "markdown",
   "metadata": {},
   "source": [
    "**Вывод**: По «сырым» данным существуют различия в среднем количестве заказов на посетителя между группами. \n",
    "p-value меньше 0.05, что значит, нулевую гипотезу о том, что статистически значимых различий в среднем количестве заказов на посетителя между группами нет, отвергаем.\n",
    "\n",
    "При этом среднее количество заказов группы B выигрывает на 15,98%."
   ]
  },
  {
   "cell_type": "markdown",
   "metadata": {},
   "source": [
    "##### Расчёт статистической значимости различий в среднем чеке заказа между группами по «сырым» данным"
   ]
  },
  {
   "cell_type": "markdown",
   "metadata": {},
   "source": [
    "Проверим статистическую значимость различий в среднем чеке между группами.\n",
    "\n",
    "Сформулируем гипотезы:\n",
    "- H0: *различий в среднем чеке между группами нет*\n",
    "- H1: *различия в среднем чеке между группами есть*\n",
    "\n",
    "Чтобы рассчитать статистическую значимость различий в среднем чеке, проведём непараметрический тест Манна-Уитни, используя данные о выручке с заказов, а также найдём относительные различия в среднем чеке между группами:"
   ]
  },
  {
   "cell_type": "code",
   "execution_count": 123,
   "metadata": {},
   "outputs": [
    {
     "name": "stdout",
     "output_type": "stream",
     "text": [
      "p-значение:  0.829\n",
      "Не получилось отвергнуть нулевую гипотезу, вывод о различии сделать нельзя\n",
      "\n",
      "28.660 %\n"
     ]
    }
   ],
   "source": [
    "alpha = 0.05  # критический уровень статистической значимости\n",
    "\n",
    "results = st.mannwhitneyu(\n",
    "    orders.query('group==\"A\"')['revenue'], \n",
    "    orders.query('group==\"B\"')['revenue']\n",
    ")\n",
    "\n",
    "print('p-значение: ', \"{0:.3f}\".format(results.pvalue))\n",
    "\n",
    "if results.pvalue < alpha:\n",
    "    print('Отвергаем нулевую гипотезу: разница статистически значима')\n",
    "else:\n",
    "    print(\n",
    "        'Не получилось отвергнуть нулевую гипотезу, вывод о различии сделать нельзя'\n",
    "    )\n",
    "    \n",
    "print(\"\\n{0:.3f}\".format(\n",
    "    (orders.query('group==\"B\"')['revenue'].mean() / orders.query('group==\"A\"')['revenue'].mean() - 1)*100\n",
    "    ),'%')"
   ]
  },
  {
   "cell_type": "markdown",
   "metadata": {},
   "source": [
    "**Вывод**: По «сырым» данным различий в среднем чеке заказа у групп A и B нет. \n",
    "p-value больше 0.05, что значит, нулевую гипотезу о том, что статистически значимых различий в среднем чеке заказа между группами нет, не отвергаем.\n",
    "\n",
    "При этом средний чек группы B значительно больше среднего чека группы A - на 28,66%. Значит, наблюдаемые различия не являются значимыми при таком уровне значимости, а следовательно были получены случайно."
   ]
  },
  {
   "cell_type": "markdown",
   "metadata": {},
   "source": [
    "##### Расчёт статистической значимости различий в среднем количестве заказов на посетителя между группами по «очищенным» данным"
   ]
  },
  {
   "cell_type": "markdown",
   "metadata": {},
   "source": [
    "Посчитаем статистическую значимость различий в среднем числе заказов на пользователя и среднем чеке между группами по «очищенным» данным — после удаления аномальных пользователей.\n",
    "\n",
    "Для этого отфильтруем переменные `sampleA` и `sampleB`."
   ]
  },
  {
   "cell_type": "code",
   "execution_count": 128,
   "metadata": {},
   "outputs": [],
   "source": [
    "sampleA_filtered = pd.concat(\n",
    "    [orders_A[\n",
    "        np.logical_not(orders_A['user_id'].isin(abnormal_users))\n",
    "    ]['orders'],\n",
    "         pd.Series(0,\n",
    "            index=np.arange(visitors.query('group==\"A\"')['visitors'].sum() - len(orders_A['orders'])),\n",
    "            name='orders',\n",
    "        ),],\n",
    "    axis=0,\n",
    ")\n",
    "\n",
    "sampleB_filtered = pd.concat(\n",
    "    [orders_B[\n",
    "        np.logical_not(orders_B['user_id'].isin(abnormal_users))\n",
    "    ]['orders'],\n",
    "        pd.Series(0,\n",
    "            index=np.arange(visitors.query('group==\"B\"')['visitors'].sum() - len(orders_B['orders'])),\n",
    "            name='orders',\n",
    "        ),],\n",
    "    axis=0,\n",
    ")"
   ]
  },
  {
   "cell_type": "markdown",
   "metadata": {},
   "source": [
    "Ниже проведём непараметрический тест Уилкоксона-Манна-Уитни по очищенным данным:"
   ]
  },
  {
   "cell_type": "code",
   "execution_count": 130,
   "metadata": {},
   "outputs": [
    {
     "name": "stdout",
     "output_type": "stream",
     "text": [
      "p-значение:  0.007\n",
      "Отвергаем нулевую гипотезу: разница статистически значима\n",
      "\n",
      "18.921 %\n"
     ]
    }
   ],
   "source": [
    "alpha = 0.05  # критический уровень статистической значимости\n",
    "\n",
    "results = st.mannwhitneyu(sampleA_filtered, sampleB_filtered)\n",
    "\n",
    "print('p-значение: ', \"{0:.3f}\".format(results.pvalue))\n",
    "\n",
    "if results.pvalue < alpha:\n",
    "    print('Отвергаем нулевую гипотезу: разница статистически значима')\n",
    "else:\n",
    "    print(\n",
    "        'Не получилось отвергнуть нулевую гипотезу, вывод о различии сделать нельзя'\n",
    "    )\n",
    "    \n",
    "print(\"\\n{0:.3f}\".format((sampleB_filtered.mean() / sampleA_filtered.mean() - 1)*100),'%')"
   ]
  },
  {
   "cell_type": "markdown",
   "metadata": {},
   "source": [
    "**Вывод**: По «очищенным» данным различие в среднем количестве заказов на посетителя между группами так же есть.\n",
    "p-value меньше 0.05, что значит, что нулевую гипотезу о том, что статистически значимых различий в среднем количестве заказов на посетителя между группами нет, отвергаем.\n",
    "\n",
    "Однако теперь среднее количество заказов группы B выигрывает у группы A на 18,92%. На это повлияло исключение пользователей с количеством заказов > 2, судя по всему многие из таких пользователей относились к группе A."
   ]
  },
  {
   "cell_type": "markdown",
   "metadata": {},
   "source": [
    "##### Расчёт статистической значимости различий в среднем чеке заказа между группами по «очищенным» данным"
   ]
  },
  {
   "cell_type": "markdown",
   "metadata": {},
   "source": [
    "Посчитаем статистическую значимость различий в среднем чеке заказа между группами по «очищенным» данным — после удаления аномальных пользователей."
   ]
  },
  {
   "cell_type": "code",
   "execution_count": 134,
   "metadata": {},
   "outputs": [
    {
     "name": "stdout",
     "output_type": "stream",
     "text": [
      "p-значение:  0.788\n",
      "Не получилось отвергнуть нулевую гипотезу, вывод о различии сделать нельзя\n",
      "\n",
      "-3.234 %\n"
     ]
    }
   ],
   "source": [
    "alpha = 0.05  # критический уровень статистической значимости\n",
    "\n",
    "results = st.mannwhitneyu(\n",
    "    orders[\n",
    "                np.logical_and(\n",
    "                    orders['group'] == 'A',\n",
    "                    np.logical_not(orders['visitor_id'].isin(abnormal_users)),\n",
    "                )\n",
    "            ]['revenue'], \n",
    "    orders[\n",
    "                np.logical_and(\n",
    "                    orders['group'] == 'B',\n",
    "                    np.logical_not(orders['visitor_id'].isin(abnormal_users)),\n",
    "                )\n",
    "            ]['revenue']\n",
    ")\n",
    "\n",
    "print('p-значение: ', \"{0:.3f}\".format(results.pvalue))\n",
    "\n",
    "if results.pvalue < alpha:\n",
    "    print('Отвергаем нулевую гипотезу: разница статистически значима')\n",
    "else:\n",
    "    print(\n",
    "        'Не получилось отвергнуть нулевую гипотезу, вывод о различии сделать нельзя'\n",
    "    )\n",
    "    \n",
    "print(\"\\n{0:.3f}\".format(\n",
    "    (orders[\n",
    "                np.logical_and(\n",
    "                    orders['group'] == 'B',\n",
    "                    np.logical_not(orders['visitor_id'].isin(abnormal_users)),\n",
    "                )\n",
    "            ]['revenue'].mean() / \n",
    "     orders[\n",
    "                np.logical_and(\n",
    "                    orders['group'] == 'A',\n",
    "                    np.logical_not(orders['visitor_id'].isin(abnormal_users)),\n",
    "                )\n",
    "            ]['revenue'].mean() - 1)*100\n",
    "    ),'%')"
   ]
  },
  {
   "cell_type": "markdown",
   "metadata": {},
   "source": [
    "**Вывод**: По «очищенным» данным различий в среднем чеке заказа у групп A и B так же нет. \n",
    "p-value больше 0.05, что значит, нулевую гипотезу о том, что статистически значимых различий в среднем чеке заказа между группами нет, не отвергаем.\n",
    "\n",
    "При этом средний чек группы B стал немного ниже среднего чека группы A, на 3,2%. Значит, скорее всего, большее влияние на средний чек имели выбросы с высокой стоимостью заказа пользователей группы B."
   ]
  },
  {
   "cell_type": "markdown",
   "metadata": {},
   "source": [
    "Итого, хотя общие выводы по результатам теста не изменились, видно, что аномалии сильно влияют на результаты A/B-теста."
   ]
  },
  {
   "cell_type": "markdown",
   "metadata": {},
   "source": [
    "## Вывод"
   ]
  },
  {
   "cell_type": "markdown",
   "metadata": {},
   "source": [
    "**Таким образом, подведём общие выводы по проведению A/B теста:**\n",
    "\n",
    "1. Существует статистически значимое различие по среднему количеству заказов между группами как по «сырым» данным, так и по данным после фильтрации аномалий.\n",
    "2. Нет статистически значимого различия по среднему чеку между группами ни по \"сырым\", ни по \"очищенным\" данным.\n",
    "3. График различия среднего количества заказов между группами говорит о том, что среднее количество заказов группы *B* явно выигрывает у группы *A*.\n",
    "4. График различия среднего чека малоинформативен, так как на него сильно влияют выбросы, однако после фильтрации данных средний чек группы B чуть ниже среднего чека группы A на 3,2%.\n",
    "\n",
    "При учёте того, что изначально деление трафика по группам было с ошибками - 58 пользователей относились к обоим группам, следует учитывать, что деление трафика могло быть проведено некорректно. Однако по полученным данным можно говорить о том, что достигнуто статистически значимое различие по одной из двух рассматриваемых метрик - среднее количество заказов на посетителя группы *B* значительно выше среднего количества заказов на посетителя группы *A*.\n",
    "\n",
    "При этом значение статистической значимости различий в среднем чеке заказа между группами вряд ли изменится, так как *p-значение* слишком высокое, поэтому продолжать тест нет смысла.\n",
    "\n",
    "Предлагается завершить тест и признать победу группы *B*, так как при увеличении среднего количества заказа на пользователя ожидается увеличение выручки магазина. Также можно было провести дополнительные тесты по другим метрикам для закрепления результата.\n",
    "\n",
    "**В результате исследования были выполнены следующие этапы работы:**\n",
    "\n",
    "- выполнена предобработка данных, а именно установлен корректный тип данных, регистр названий столбцов, проведена проверка на явные дубликаты и пропуски;\n",
    "- проведена приоритизация гипотез по увеличению выручки интернет-магазина с указанными параметрами Reach, Impact, Confidence и Effort с помощью фреймворков ICE и RICE;\n",
    "- по результатам A/B теста рассчитаны агрегированные кумулятивные данные о заказах и о посетителях интернет-магазина, на основе расчётов построены кумулятивные графики;\n",
    "- проведена работа по установлению границ аномальных значений для стоимости заказа и количества заказов пользователя;\n",
    "- проведены расчёты статистической значимости по двум метрикам: различия по среднему количеству заказов и различия по среднему чеку между группами, как по \"сырым\", так и по \"очищенным\" данным."
   ]
  },
  {
   "cell_type": "markdown",
   "metadata": {},
   "source": [
    "<div class=\"alert alert-success\">\n",
    "<h2> Комментарий ревьюера 😊<a class=\"tocSkip\"> </h2>\n",
    "\n",
    "Содержательный вывод по проделанной работе!)"
   ]
  },
  {
   "cell_type": "markdown",
   "metadata": {},
   "source": [
    "<div style=\"background-color:lavender; color:#black; text-align:center; padding:2%\">\n",
    "    \n",
    "**Комментарий студента:** Эльвира, подскажи, пожалуйста, правильно ли я сделала вывод, признав удачным проведение A/B тестирования и признав группу B выигрышной? Или здесь могут быть и другие выводы, которые так же нельзя назвать неверными?\n",
    "    \n",
    "То есть, если бы я приняла другое решение по итогам результатов теста, было бы это ошибкой?"
   ]
  },
  {
   "cell_type": "markdown",
   "metadata": {},
   "source": [
    "<div class=\"alert alert-success\">\n",
    "<h2> Комментарий ревьюера 😊 v_2 <a class=\"tocSkip\"> </h2>\n",
    "\n",
    "Верно, так как мы получили разницу по кол-ву заказов на пользователя, а ждать увеличения среднего чека не имеет смысла. Выручка это кол-во заказов умноженное на средний чек, так что она в любом случае увеличится, дае при том же среднем чеке, при увеличении заказов)"
   ]
  },
  {
   "cell_type": "markdown",
   "metadata": {},
   "source": [
    "<div style=\"border:solid Purple 2px; padding: 40px\">\n",
    "\n",
    "<h2> Общий комментарий ревьюера 😊 v_2<a class=\"tocSkip\"> </h2>\n",
    "    <br/>\n",
    "Кристина, спасибо за проект! Успехов в дальнейшем обучении!)\n",
    "   "
   ]
  },
  {
   "cell_type": "markdown",
   "metadata": {},
   "source": [
    "<div style=\"border:solid Purple 2px; padding: 40px\">\n",
    "\n",
    "<h2> Общий комментарий ревьюера 😊<a class=\"tocSkip\"> </h2>\n",
    "    <br/>\n",
    "Кристина , замечательная работа по проекту, отлично справилась с расчетами и графиками)\n",
    "    \n",
    "Необходимо доработать:\n",
    "    \n",
    "* Указать гипотезы\n",
    "* Остальные комментарии ты найдешь в работе\n",
    "    \n",
    " \n",
    "**Желаю удачи и жду твой проект на повторное ревью! Если вдруг у тебя возникнут вопросы, то я с радостью отвечу на них.    😊**\n",
    "    \n",
    "<br>   \n",
    "             \n",
    "**Дополнительные материалы:**\n",
    " \n",
    "[Вебинары под эгидой Практикума](https://vk.com/yandex.praktikum?w=wall-176471180_2144), \n",
    "    \n",
    "[Лекции Анатолия Карпова 1](https://www.youtube.com/watch?v=jnFVmtaeSA0&list=WL&index=19&t=2s) [2](https://www.youtube.com/watch?v=gljfGAkgX_o&list=WL&index=4)\n",
    "    \n",
    "Материалы [gopractice](https://gopractice.ru/summary/)\n",
    "\n",
    "Лекцию Карта статистических методов [Смотреть видео](https://www.youtube.com/watch?v=-zps6hm0nX8&t=1269s)\n",
    "        \n",
    "</div>"
   ]
  },
  {
   "cell_type": "code",
   "execution_count": null,
   "metadata": {},
   "outputs": [],
   "source": []
  }
 ],
 "metadata": {
  "ExecuteTimeLog": [
   {
    "duration": 365,
    "start_time": "2024-04-16T14:56:57.311Z"
   },
   {
    "duration": 81,
    "start_time": "2024-04-16T14:56:58.592Z"
   },
   {
    "duration": 162,
    "start_time": "2024-04-16T14:59:16.998Z"
   },
   {
    "duration": 4,
    "start_time": "2024-04-16T15:02:17.381Z"
   },
   {
    "duration": 43,
    "start_time": "2024-04-16T15:02:57.804Z"
   },
   {
    "duration": 3,
    "start_time": "2024-04-16T15:03:16.418Z"
   },
   {
    "duration": 40,
    "start_time": "2024-04-16T15:03:17.690Z"
   },
   {
    "duration": 4,
    "start_time": "2024-04-16T15:04:15.478Z"
   },
   {
    "duration": 41,
    "start_time": "2024-04-16T15:04:16.205Z"
   },
   {
    "duration": 3,
    "start_time": "2024-04-16T15:04:38.990Z"
   },
   {
    "duration": 52,
    "start_time": "2024-04-16T15:04:41.244Z"
   },
   {
    "duration": 4,
    "start_time": "2024-04-16T15:04:51.770Z"
   },
   {
    "duration": 39,
    "start_time": "2024-04-16T15:04:53.756Z"
   },
   {
    "duration": 47,
    "start_time": "2024-04-16T15:09:20.893Z"
   },
   {
    "duration": 4,
    "start_time": "2024-04-16T15:12:04.035Z"
   },
   {
    "duration": 4,
    "start_time": "2024-04-16T15:12:15.316Z"
   },
   {
    "duration": 10,
    "start_time": "2024-04-16T15:23:16.845Z"
   },
   {
    "duration": 10,
    "start_time": "2024-04-16T15:24:05.669Z"
   },
   {
    "duration": 3,
    "start_time": "2024-04-16T15:25:07.005Z"
   },
   {
    "duration": 3,
    "start_time": "2024-04-16T15:26:30.539Z"
   },
   {
    "duration": 9,
    "start_time": "2024-04-16T15:26:48.372Z"
   },
   {
    "duration": 55,
    "start_time": "2024-04-16T15:27:57.611Z"
   },
   {
    "duration": 28,
    "start_time": "2024-04-16T15:28:03.149Z"
   },
   {
    "duration": 7,
    "start_time": "2024-04-16T15:30:45.284Z"
   },
   {
    "duration": 3,
    "start_time": "2024-04-16T15:30:46.219Z"
   },
   {
    "duration": 3,
    "start_time": "2024-04-16T15:30:46.861Z"
   },
   {
    "duration": 8,
    "start_time": "2024-04-16T15:30:47.465Z"
   },
   {
    "duration": 462,
    "start_time": "2024-04-17T15:03:45.081Z"
   },
   {
    "duration": 231,
    "start_time": "2024-04-17T15:03:45.545Z"
   },
   {
    "duration": 6,
    "start_time": "2024-04-17T15:03:45.779Z"
   },
   {
    "duration": 124,
    "start_time": "2024-04-17T15:03:45.787Z"
   },
   {
    "duration": 5,
    "start_time": "2024-04-17T15:03:45.914Z"
   },
   {
    "duration": 98,
    "start_time": "2024-04-17T15:03:45.922Z"
   },
   {
    "duration": 40,
    "start_time": "2024-04-17T15:03:46.023Z"
   },
   {
    "duration": 12,
    "start_time": "2024-04-17T15:03:46.065Z"
   },
   {
    "duration": 16,
    "start_time": "2024-04-17T15:03:46.079Z"
   },
   {
    "duration": 21,
    "start_time": "2024-04-17T15:03:46.096Z"
   },
   {
    "duration": 48,
    "start_time": "2024-04-17T15:03:46.119Z"
   },
   {
    "duration": 7,
    "start_time": "2024-04-17T15:03:46.169Z"
   },
   {
    "duration": 15,
    "start_time": "2024-04-17T15:03:46.178Z"
   },
   {
    "duration": 26,
    "start_time": "2024-04-17T15:03:46.196Z"
   },
   {
    "duration": 61,
    "start_time": "2024-04-17T15:05:17.351Z"
   },
   {
    "duration": 973,
    "start_time": "2024-04-17T15:07:50.239Z"
   },
   {
    "duration": 5,
    "start_time": "2024-04-17T15:08:11.646Z"
   },
   {
    "duration": 4,
    "start_time": "2024-04-17T15:08:42.074Z"
   },
   {
    "duration": 10,
    "start_time": "2024-04-17T15:09:10.729Z"
   },
   {
    "duration": 7,
    "start_time": "2024-04-17T15:09:22.606Z"
   },
   {
    "duration": 10,
    "start_time": "2024-04-17T15:09:26.841Z"
   },
   {
    "duration": 9,
    "start_time": "2024-04-17T15:09:33.690Z"
   },
   {
    "duration": 10,
    "start_time": "2024-04-17T15:11:22.231Z"
   },
   {
    "duration": 10,
    "start_time": "2024-04-17T15:19:40.713Z"
   },
   {
    "duration": 5,
    "start_time": "2024-04-17T15:28:29.506Z"
   },
   {
    "duration": 11,
    "start_time": "2024-04-17T15:28:30.516Z"
   },
   {
    "duration": 12,
    "start_time": "2024-04-17T15:28:33.994Z"
   },
   {
    "duration": 413,
    "start_time": "2024-04-18T12:49:57.428Z"
   },
   {
    "duration": 222,
    "start_time": "2024-04-18T12:49:57.843Z"
   },
   {
    "duration": 5,
    "start_time": "2024-04-18T12:49:58.066Z"
   },
   {
    "duration": 68,
    "start_time": "2024-04-18T12:49:58.073Z"
   },
   {
    "duration": 5,
    "start_time": "2024-04-18T12:49:58.142Z"
   },
   {
    "duration": 83,
    "start_time": "2024-04-18T12:49:58.148Z"
   },
   {
    "duration": 12,
    "start_time": "2024-04-18T12:49:58.232Z"
   },
   {
    "duration": 5,
    "start_time": "2024-04-18T12:49:58.245Z"
   },
   {
    "duration": 5,
    "start_time": "2024-04-18T12:49:58.252Z"
   },
   {
    "duration": 12,
    "start_time": "2024-04-18T12:49:58.259Z"
   },
   {
    "duration": 69,
    "start_time": "2024-04-18T12:49:58.272Z"
   },
   {
    "duration": 3,
    "start_time": "2024-04-18T12:49:58.343Z"
   },
   {
    "duration": 16,
    "start_time": "2024-04-18T12:49:58.348Z"
   },
   {
    "duration": 12,
    "start_time": "2024-04-18T12:49:58.365Z"
   },
   {
    "duration": 22,
    "start_time": "2024-04-18T12:49:58.378Z"
   },
   {
    "duration": 21,
    "start_time": "2024-04-18T12:49:58.403Z"
   },
   {
    "duration": 4,
    "start_time": "2024-04-18T12:49:58.425Z"
   },
   {
    "duration": 15,
    "start_time": "2024-04-18T12:49:58.430Z"
   },
   {
    "duration": 7,
    "start_time": "2024-04-18T12:49:58.446Z"
   },
   {
    "duration": 97,
    "start_time": "2024-04-18T12:49:58.455Z"
   },
   {
    "duration": 10,
    "start_time": "2024-04-18T12:52:53.376Z"
   },
   {
    "duration": 70,
    "start_time": "2024-04-18T12:54:39.133Z"
   },
   {
    "duration": 3,
    "start_time": "2024-04-18T12:54:58.208Z"
   },
   {
    "duration": 18,
    "start_time": "2024-04-18T12:55:00.960Z"
   },
   {
    "duration": 20,
    "start_time": "2024-04-18T12:55:16.701Z"
   },
   {
    "duration": 437,
    "start_time": "2024-04-18T12:58:08.407Z"
   },
   {
    "duration": 79,
    "start_time": "2024-04-18T12:58:08.846Z"
   },
   {
    "duration": 5,
    "start_time": "2024-04-18T12:58:08.927Z"
   },
   {
    "duration": 67,
    "start_time": "2024-04-18T12:58:08.934Z"
   },
   {
    "duration": 11,
    "start_time": "2024-04-18T12:58:09.004Z"
   },
   {
    "duration": 56,
    "start_time": "2024-04-18T12:58:09.017Z"
   },
   {
    "duration": 5,
    "start_time": "2024-04-18T12:58:09.101Z"
   },
   {
    "duration": 5,
    "start_time": "2024-04-18T12:58:09.108Z"
   },
   {
    "duration": 6,
    "start_time": "2024-04-18T12:58:09.114Z"
   },
   {
    "duration": 13,
    "start_time": "2024-04-18T12:58:09.124Z"
   },
   {
    "duration": 80,
    "start_time": "2024-04-18T12:58:09.138Z"
   },
   {
    "duration": 5,
    "start_time": "2024-04-18T12:58:09.221Z"
   },
   {
    "duration": 4,
    "start_time": "2024-04-18T12:58:09.228Z"
   },
   {
    "duration": 10,
    "start_time": "2024-04-18T12:58:09.234Z"
   },
   {
    "duration": 5,
    "start_time": "2024-04-18T12:58:09.246Z"
   },
   {
    "duration": 9,
    "start_time": "2024-04-18T12:58:09.252Z"
   },
   {
    "duration": 38,
    "start_time": "2024-04-18T12:58:09.263Z"
   },
   {
    "duration": 11,
    "start_time": "2024-04-18T12:58:09.303Z"
   },
   {
    "duration": 7,
    "start_time": "2024-04-18T12:58:09.316Z"
   },
   {
    "duration": 12,
    "start_time": "2024-04-18T12:58:09.324Z"
   },
   {
    "duration": 99,
    "start_time": "2024-04-18T12:58:09.337Z"
   },
   {
    "duration": 0,
    "start_time": "2024-04-18T12:58:09.438Z"
   },
   {
    "duration": 0,
    "start_time": "2024-04-18T12:58:09.439Z"
   },
   {
    "duration": 19,
    "start_time": "2024-04-18T12:58:44.524Z"
   },
   {
    "duration": 30,
    "start_time": "2024-04-18T12:59:04.229Z"
   },
   {
    "duration": 386,
    "start_time": "2024-04-18T13:00:07.235Z"
   },
   {
    "duration": 76,
    "start_time": "2024-04-18T13:00:07.623Z"
   },
   {
    "duration": 4,
    "start_time": "2024-04-18T13:00:07.701Z"
   },
   {
    "duration": 69,
    "start_time": "2024-04-18T13:00:07.706Z"
   },
   {
    "duration": 24,
    "start_time": "2024-04-18T13:00:07.777Z"
   },
   {
    "duration": 57,
    "start_time": "2024-04-18T13:00:07.803Z"
   },
   {
    "duration": 4,
    "start_time": "2024-04-18T13:00:07.861Z"
   },
   {
    "duration": 8,
    "start_time": "2024-04-18T13:00:07.899Z"
   },
   {
    "duration": 16,
    "start_time": "2024-04-18T13:00:07.909Z"
   },
   {
    "duration": 36,
    "start_time": "2024-04-18T13:00:07.926Z"
   },
   {
    "duration": 3,
    "start_time": "2024-04-18T13:00:07.963Z"
   },
   {
    "duration": 40,
    "start_time": "2024-04-18T13:00:07.968Z"
   },
   {
    "duration": 6,
    "start_time": "2024-04-18T13:00:08.010Z"
   },
   {
    "duration": 10,
    "start_time": "2024-04-18T13:00:08.020Z"
   },
   {
    "duration": 7,
    "start_time": "2024-04-18T13:00:08.032Z"
   },
   {
    "duration": 16,
    "start_time": "2024-04-18T13:00:08.040Z"
   },
   {
    "duration": 5,
    "start_time": "2024-04-18T13:00:08.058Z"
   },
   {
    "duration": 42,
    "start_time": "2024-04-18T13:00:08.064Z"
   },
   {
    "duration": 176,
    "start_time": "2024-04-18T13:00:08.108Z"
   },
   {
    "duration": 14,
    "start_time": "2024-04-18T13:00:08.286Z"
   },
   {
    "duration": 91,
    "start_time": "2024-04-18T13:00:08.302Z"
   },
   {
    "duration": 10,
    "start_time": "2024-04-18T13:00:35.849Z"
   },
   {
    "duration": 109,
    "start_time": "2024-04-18T13:02:11.198Z"
   },
   {
    "duration": 6,
    "start_time": "2024-04-18T13:02:12.134Z"
   },
   {
    "duration": 60,
    "start_time": "2024-04-18T13:05:53.867Z"
   },
   {
    "duration": 6,
    "start_time": "2024-04-18T13:06:31.431Z"
   },
   {
    "duration": 12,
    "start_time": "2024-04-18T13:06:36.734Z"
   },
   {
    "duration": 9,
    "start_time": "2024-04-18T13:06:53.753Z"
   },
   {
    "duration": 11,
    "start_time": "2024-04-18T13:12:45.569Z"
   },
   {
    "duration": 9,
    "start_time": "2024-04-18T13:13:37.081Z"
   },
   {
    "duration": 67,
    "start_time": "2024-04-18T13:14:23.807Z"
   },
   {
    "duration": 402,
    "start_time": "2024-04-18T13:14:45.364Z"
   },
   {
    "duration": 107,
    "start_time": "2024-04-18T13:14:47.796Z"
   },
   {
    "duration": 300,
    "start_time": "2024-04-18T13:15:01.331Z"
   },
   {
    "duration": 48,
    "start_time": "2024-04-18T13:16:08.101Z"
   },
   {
    "duration": 48,
    "start_time": "2024-04-18T13:16:30.669Z"
   },
   {
    "duration": 260,
    "start_time": "2024-04-18T13:16:56.261Z"
   },
   {
    "duration": 10,
    "start_time": "2024-04-18T13:17:14.969Z"
   },
   {
    "duration": 46,
    "start_time": "2024-04-18T13:17:28.249Z"
   },
   {
    "duration": 4,
    "start_time": "2024-04-18T13:22:11.399Z"
   },
   {
    "duration": 44,
    "start_time": "2024-04-18T13:22:15.946Z"
   },
   {
    "duration": 52,
    "start_time": "2024-04-18T13:22:28.059Z"
   },
   {
    "duration": 18,
    "start_time": "2024-04-18T13:24:27.015Z"
   },
   {
    "duration": 99,
    "start_time": "2024-04-18T13:25:15.647Z"
   },
   {
    "duration": 11,
    "start_time": "2024-04-18T13:25:20.591Z"
   },
   {
    "duration": 12,
    "start_time": "2024-04-18T13:25:37.869Z"
   },
   {
    "duration": 2,
    "start_time": "2024-04-18T13:27:12.746Z"
   },
   {
    "duration": 9,
    "start_time": "2024-04-18T13:27:14.152Z"
   },
   {
    "duration": 195,
    "start_time": "2024-04-18T13:27:16.486Z"
   },
   {
    "duration": 182,
    "start_time": "2024-04-18T13:29:33.177Z"
   },
   {
    "duration": 24,
    "start_time": "2024-04-18T13:30:02.400Z"
   },
   {
    "duration": 73,
    "start_time": "2024-04-18T13:30:52.502Z"
   },
   {
    "duration": 191,
    "start_time": "2024-04-18T13:31:07.915Z"
   },
   {
    "duration": 635,
    "start_time": "2024-04-18T13:31:17.742Z"
   },
   {
    "duration": 80,
    "start_time": "2024-04-18T13:31:18.379Z"
   },
   {
    "duration": 6,
    "start_time": "2024-04-18T13:31:18.460Z"
   },
   {
    "duration": 68,
    "start_time": "2024-04-18T13:31:18.468Z"
   },
   {
    "duration": 4,
    "start_time": "2024-04-18T13:31:18.537Z"
   },
   {
    "duration": 93,
    "start_time": "2024-04-18T13:31:18.543Z"
   },
   {
    "duration": 3,
    "start_time": "2024-04-18T13:31:18.637Z"
   },
   {
    "duration": 10,
    "start_time": "2024-04-18T13:31:18.642Z"
   },
   {
    "duration": 12,
    "start_time": "2024-04-18T13:31:18.653Z"
   },
   {
    "duration": 72,
    "start_time": "2024-04-18T13:31:18.668Z"
   },
   {
    "duration": 3,
    "start_time": "2024-04-18T13:31:18.741Z"
   },
   {
    "duration": 11,
    "start_time": "2024-04-18T13:31:18.746Z"
   },
   {
    "duration": 7,
    "start_time": "2024-04-18T13:31:18.758Z"
   },
   {
    "duration": 35,
    "start_time": "2024-04-18T13:31:18.766Z"
   },
   {
    "duration": 6,
    "start_time": "2024-04-18T13:31:18.804Z"
   },
   {
    "duration": 17,
    "start_time": "2024-04-18T13:31:18.813Z"
   },
   {
    "duration": 6,
    "start_time": "2024-04-18T13:31:18.831Z"
   },
   {
    "duration": 9,
    "start_time": "2024-04-18T13:31:18.838Z"
   },
   {
    "duration": 218,
    "start_time": "2024-04-18T13:31:18.849Z"
   },
   {
    "duration": 7,
    "start_time": "2024-04-18T13:31:19.068Z"
   },
   {
    "duration": 122,
    "start_time": "2024-04-18T13:31:19.076Z"
   },
   {
    "duration": 11,
    "start_time": "2024-04-18T13:31:19.200Z"
   },
   {
    "duration": 19,
    "start_time": "2024-04-18T13:31:19.212Z"
   },
   {
    "duration": 6,
    "start_time": "2024-04-18T13:31:19.233Z"
   },
   {
    "duration": 12,
    "start_time": "2024-04-18T13:31:19.240Z"
   },
   {
    "duration": 293,
    "start_time": "2024-04-18T13:31:19.254Z"
   },
   {
    "duration": 141,
    "start_time": "2024-04-18T13:31:19.549Z"
   },
   {
    "duration": 8,
    "start_time": "2024-04-18T13:31:38.338Z"
   },
   {
    "duration": 324,
    "start_time": "2024-04-18T13:33:54.300Z"
   },
   {
    "duration": 314,
    "start_time": "2024-04-18T13:33:57.677Z"
   },
   {
    "duration": 272,
    "start_time": "2024-04-18T13:34:04.576Z"
   },
   {
    "duration": 235,
    "start_time": "2024-04-18T13:34:16.683Z"
   },
   {
    "duration": 226,
    "start_time": "2024-04-18T13:34:21.967Z"
   },
   {
    "duration": 255,
    "start_time": "2024-04-18T13:35:52.187Z"
   },
   {
    "duration": 225,
    "start_time": "2024-04-18T13:35:59.804Z"
   },
   {
    "duration": 195,
    "start_time": "2024-04-18T13:36:03.423Z"
   },
   {
    "duration": 191,
    "start_time": "2024-04-18T13:44:22.868Z"
   },
   {
    "duration": 221,
    "start_time": "2024-04-18T13:44:32.662Z"
   },
   {
    "duration": 148,
    "start_time": "2024-04-18T14:00:31.280Z"
   },
   {
    "duration": 145,
    "start_time": "2024-04-18T14:00:56.107Z"
   },
   {
    "duration": 207,
    "start_time": "2024-04-18T14:04:29.160Z"
   },
   {
    "duration": 149,
    "start_time": "2024-04-18T14:04:33.747Z"
   },
   {
    "duration": 9,
    "start_time": "2024-04-18T14:04:47.635Z"
   },
   {
    "duration": 134,
    "start_time": "2024-04-18T14:05:03.167Z"
   },
   {
    "duration": 309,
    "start_time": "2024-04-18T14:07:51.350Z"
   },
   {
    "duration": 306,
    "start_time": "2024-04-18T14:08:37.338Z"
   },
   {
    "duration": 338,
    "start_time": "2024-04-18T14:08:52.335Z"
   },
   {
    "duration": 326,
    "start_time": "2024-04-18T14:08:59.521Z"
   },
   {
    "duration": 305,
    "start_time": "2024-04-18T14:09:04.333Z"
   },
   {
    "duration": 233,
    "start_time": "2024-04-18T14:09:13.879Z"
   },
   {
    "duration": 210,
    "start_time": "2024-04-18T14:09:20.481Z"
   },
   {
    "duration": 223,
    "start_time": "2024-04-18T14:09:45.761Z"
   },
   {
    "duration": 12,
    "start_time": "2024-04-18T14:33:23.814Z"
   },
   {
    "duration": 10,
    "start_time": "2024-04-18T14:33:44.811Z"
   },
   {
    "duration": 16,
    "start_time": "2024-04-18T14:34:00.430Z"
   },
   {
    "duration": 13,
    "start_time": "2024-04-18T14:34:16.733Z"
   },
   {
    "duration": 11,
    "start_time": "2024-04-18T14:34:23.681Z"
   },
   {
    "duration": 8,
    "start_time": "2024-04-18T14:38:39.871Z"
   },
   {
    "duration": 9,
    "start_time": "2024-04-18T14:38:42.528Z"
   },
   {
    "duration": 4,
    "start_time": "2024-04-18T14:39:18.144Z"
   },
   {
    "duration": 8,
    "start_time": "2024-04-18T14:40:06.424Z"
   },
   {
    "duration": 43,
    "start_time": "2024-04-18T14:40:37.204Z"
   },
   {
    "duration": 5,
    "start_time": "2024-04-18T14:40:48.736Z"
   },
   {
    "duration": 10,
    "start_time": "2024-04-18T14:41:00.630Z"
   },
   {
    "duration": 9,
    "start_time": "2024-04-18T14:41:11.080Z"
   },
   {
    "duration": 21,
    "start_time": "2024-04-18T14:42:43.655Z"
   },
   {
    "duration": 10,
    "start_time": "2024-04-18T14:43:10.140Z"
   },
   {
    "duration": 6,
    "start_time": "2024-04-18T14:44:12.344Z"
   },
   {
    "duration": 6,
    "start_time": "2024-04-18T14:44:24.009Z"
   },
   {
    "duration": 4,
    "start_time": "2024-04-18T14:44:50.257Z"
   },
   {
    "duration": 10,
    "start_time": "2024-04-18T14:45:10.261Z"
   },
   {
    "duration": 13,
    "start_time": "2024-04-18T14:45:19.919Z"
   },
   {
    "duration": 14,
    "start_time": "2024-04-18T14:50:46.816Z"
   },
   {
    "duration": 8,
    "start_time": "2024-04-18T14:50:54.390Z"
   },
   {
    "duration": 14,
    "start_time": "2024-04-18T14:50:57.292Z"
   },
   {
    "duration": 8,
    "start_time": "2024-04-18T14:51:20.081Z"
   },
   {
    "duration": 5,
    "start_time": "2024-04-18T14:52:14.338Z"
   },
   {
    "duration": 10,
    "start_time": "2024-04-18T15:11:07.727Z"
   },
   {
    "duration": 17,
    "start_time": "2024-04-18T15:13:20.446Z"
   },
   {
    "duration": 640,
    "start_time": "2024-04-18T15:13:35.069Z"
   },
   {
    "duration": 78,
    "start_time": "2024-04-18T15:13:35.711Z"
   },
   {
    "duration": 5,
    "start_time": "2024-04-18T15:13:35.790Z"
   },
   {
    "duration": 71,
    "start_time": "2024-04-18T15:13:35.797Z"
   },
   {
    "duration": 6,
    "start_time": "2024-04-18T15:13:35.870Z"
   },
   {
    "duration": 85,
    "start_time": "2024-04-18T15:13:35.877Z"
   },
   {
    "duration": 3,
    "start_time": "2024-04-18T15:13:35.963Z"
   },
   {
    "duration": 5,
    "start_time": "2024-04-18T15:13:35.968Z"
   },
   {
    "duration": 36,
    "start_time": "2024-04-18T15:13:35.975Z"
   },
   {
    "duration": 21,
    "start_time": "2024-04-18T15:13:36.014Z"
   },
   {
    "duration": 12,
    "start_time": "2024-04-18T15:13:36.037Z"
   },
   {
    "duration": 6,
    "start_time": "2024-04-18T15:13:36.051Z"
   },
   {
    "duration": 4,
    "start_time": "2024-04-18T15:13:36.058Z"
   },
   {
    "duration": 11,
    "start_time": "2024-04-18T15:13:36.063Z"
   },
   {
    "duration": 33,
    "start_time": "2024-04-18T15:13:36.075Z"
   },
   {
    "duration": 3,
    "start_time": "2024-04-18T15:13:36.110Z"
   },
   {
    "duration": 35,
    "start_time": "2024-04-18T15:13:36.114Z"
   },
   {
    "duration": 3,
    "start_time": "2024-04-18T15:13:36.151Z"
   },
   {
    "duration": 12,
    "start_time": "2024-04-18T15:13:36.156Z"
   },
   {
    "duration": 35,
    "start_time": "2024-04-18T15:13:36.169Z"
   },
   {
    "duration": 9,
    "start_time": "2024-04-18T15:13:36.206Z"
   },
   {
    "duration": 7,
    "start_time": "2024-04-18T15:13:36.216Z"
   },
   {
    "duration": 10,
    "start_time": "2024-04-18T15:13:36.224Z"
   },
   {
    "duration": 5,
    "start_time": "2024-04-18T15:13:36.235Z"
   },
   {
    "duration": 179,
    "start_time": "2024-04-18T15:13:36.241Z"
   },
   {
    "duration": 7,
    "start_time": "2024-04-18T15:13:36.422Z"
   },
   {
    "duration": 122,
    "start_time": "2024-04-18T15:13:36.431Z"
   },
   {
    "duration": 7,
    "start_time": "2024-04-18T15:13:36.556Z"
   },
   {
    "duration": 5,
    "start_time": "2024-04-18T15:13:36.564Z"
   },
   {
    "duration": 4,
    "start_time": "2024-04-18T15:13:36.570Z"
   },
   {
    "duration": 34,
    "start_time": "2024-04-18T15:13:36.575Z"
   },
   {
    "duration": 283,
    "start_time": "2024-04-18T15:13:36.611Z"
   },
   {
    "duration": 207,
    "start_time": "2024-04-18T15:13:36.895Z"
   },
   {
    "duration": 301,
    "start_time": "2024-04-18T15:13:37.104Z"
   },
   {
    "duration": 639,
    "start_time": "2024-04-18T15:13:54.770Z"
   },
   {
    "duration": 77,
    "start_time": "2024-04-18T15:13:55.412Z"
   },
   {
    "duration": 4,
    "start_time": "2024-04-18T15:13:55.491Z"
   },
   {
    "duration": 56,
    "start_time": "2024-04-18T15:13:55.497Z"
   },
   {
    "duration": 4,
    "start_time": "2024-04-18T15:13:55.554Z"
   },
   {
    "duration": 87,
    "start_time": "2024-04-18T15:13:55.559Z"
   },
   {
    "duration": 4,
    "start_time": "2024-04-18T15:13:55.647Z"
   },
   {
    "duration": 5,
    "start_time": "2024-04-18T15:13:55.653Z"
   },
   {
    "duration": 40,
    "start_time": "2024-04-18T15:13:55.660Z"
   },
   {
    "duration": 12,
    "start_time": "2024-04-18T15:13:55.703Z"
   },
   {
    "duration": 12,
    "start_time": "2024-04-18T15:13:55.717Z"
   },
   {
    "duration": 7,
    "start_time": "2024-04-18T15:13:55.731Z"
   },
   {
    "duration": 4,
    "start_time": "2024-04-18T15:13:55.739Z"
   },
   {
    "duration": 10,
    "start_time": "2024-04-18T15:13:55.744Z"
   },
   {
    "duration": 48,
    "start_time": "2024-04-18T15:13:55.756Z"
   },
   {
    "duration": 5,
    "start_time": "2024-04-18T15:13:55.805Z"
   },
   {
    "duration": 38,
    "start_time": "2024-04-18T15:13:55.811Z"
   },
   {
    "duration": 4,
    "start_time": "2024-04-18T15:13:55.851Z"
   },
   {
    "duration": 17,
    "start_time": "2024-04-18T15:13:55.857Z"
   },
   {
    "duration": 4,
    "start_time": "2024-04-18T15:13:55.875Z"
   },
   {
    "duration": 9,
    "start_time": "2024-04-18T15:13:55.880Z"
   },
   {
    "duration": 10,
    "start_time": "2024-04-18T15:13:55.891Z"
   },
   {
    "duration": 18,
    "start_time": "2024-04-18T15:13:55.902Z"
   },
   {
    "duration": 16,
    "start_time": "2024-04-18T15:13:55.922Z"
   },
   {
    "duration": 187,
    "start_time": "2024-04-18T15:13:55.939Z"
   },
   {
    "duration": 8,
    "start_time": "2024-04-18T15:13:56.127Z"
   },
   {
    "duration": 164,
    "start_time": "2024-04-18T15:13:56.136Z"
   },
   {
    "duration": 10,
    "start_time": "2024-04-18T15:13:56.304Z"
   },
   {
    "duration": 8,
    "start_time": "2024-04-18T15:13:56.316Z"
   },
   {
    "duration": 9,
    "start_time": "2024-04-18T15:13:56.325Z"
   },
   {
    "duration": 11,
    "start_time": "2024-04-18T15:13:56.335Z"
   },
   {
    "duration": 687,
    "start_time": "2024-04-18T15:13:56.348Z"
   },
   {
    "duration": 471,
    "start_time": "2024-04-18T15:13:57.037Z"
   },
   {
    "duration": 420,
    "start_time": "2024-04-18T15:13:57.510Z"
   },
   {
    "duration": 599,
    "start_time": "2024-04-18T15:15:01.748Z"
   },
   {
    "duration": 79,
    "start_time": "2024-04-18T15:15:02.348Z"
   },
   {
    "duration": 4,
    "start_time": "2024-04-18T15:15:02.428Z"
   },
   {
    "duration": 53,
    "start_time": "2024-04-18T15:15:02.433Z"
   },
   {
    "duration": 4,
    "start_time": "2024-04-18T15:15:02.488Z"
   },
   {
    "duration": 58,
    "start_time": "2024-04-18T15:15:02.493Z"
   },
   {
    "duration": 3,
    "start_time": "2024-04-18T15:15:02.552Z"
   },
   {
    "duration": 10,
    "start_time": "2024-04-18T15:15:02.557Z"
   },
   {
    "duration": 31,
    "start_time": "2024-04-18T15:15:02.568Z"
   },
   {
    "duration": 133,
    "start_time": "2024-04-18T15:15:02.602Z"
   },
   {
    "duration": 14,
    "start_time": "2024-04-18T15:15:02.737Z"
   },
   {
    "duration": 9,
    "start_time": "2024-04-18T15:15:02.753Z"
   },
   {
    "duration": 5,
    "start_time": "2024-04-18T15:15:02.763Z"
   },
   {
    "duration": 9,
    "start_time": "2024-04-18T15:15:02.772Z"
   },
   {
    "duration": 9,
    "start_time": "2024-04-18T15:15:02.800Z"
   },
   {
    "duration": 2,
    "start_time": "2024-04-18T15:15:02.811Z"
   },
   {
    "duration": 38,
    "start_time": "2024-04-18T15:15:02.815Z"
   },
   {
    "duration": 4,
    "start_time": "2024-04-18T15:15:02.854Z"
   },
   {
    "duration": 40,
    "start_time": "2024-04-18T15:15:02.859Z"
   },
   {
    "duration": 4,
    "start_time": "2024-04-18T15:15:02.903Z"
   },
   {
    "duration": 24,
    "start_time": "2024-04-18T15:15:02.908Z"
   },
   {
    "duration": 3,
    "start_time": "2024-04-18T15:15:02.934Z"
   },
   {
    "duration": 13,
    "start_time": "2024-04-18T15:15:02.939Z"
   },
   {
    "duration": 11,
    "start_time": "2024-04-18T15:15:02.953Z"
   },
   {
    "duration": 154,
    "start_time": "2024-04-18T15:15:02.965Z"
   },
   {
    "duration": 8,
    "start_time": "2024-04-18T15:15:03.122Z"
   },
   {
    "duration": 120,
    "start_time": "2024-04-18T15:15:03.132Z"
   },
   {
    "duration": 7,
    "start_time": "2024-04-18T15:15:03.253Z"
   },
   {
    "duration": 12,
    "start_time": "2024-04-18T15:15:03.262Z"
   },
   {
    "duration": 9,
    "start_time": "2024-04-18T15:15:03.275Z"
   },
   {
    "duration": 13,
    "start_time": "2024-04-18T15:15:03.285Z"
   },
   {
    "duration": 435,
    "start_time": "2024-04-18T15:15:03.301Z"
   },
   {
    "duration": 565,
    "start_time": "2024-04-18T15:15:03.737Z"
   },
   {
    "duration": 409,
    "start_time": "2024-04-18T15:15:04.304Z"
   },
   {
    "duration": 710,
    "start_time": "2024-04-18T15:15:22.482Z"
   },
   {
    "duration": 77,
    "start_time": "2024-04-18T15:15:23.194Z"
   },
   {
    "duration": 4,
    "start_time": "2024-04-18T15:15:23.272Z"
   },
   {
    "duration": 54,
    "start_time": "2024-04-18T15:15:23.278Z"
   },
   {
    "duration": 4,
    "start_time": "2024-04-18T15:15:23.335Z"
   },
   {
    "duration": 78,
    "start_time": "2024-04-18T15:15:23.340Z"
   },
   {
    "duration": 4,
    "start_time": "2024-04-18T15:15:23.420Z"
   },
   {
    "duration": 6,
    "start_time": "2024-04-18T15:15:23.426Z"
   },
   {
    "duration": 15,
    "start_time": "2024-04-18T15:15:23.434Z"
   },
   {
    "duration": 153,
    "start_time": "2024-04-18T15:15:23.450Z"
   },
   {
    "duration": 12,
    "start_time": "2024-04-18T15:15:23.605Z"
   },
   {
    "duration": 9,
    "start_time": "2024-04-18T15:15:23.618Z"
   },
   {
    "duration": 4,
    "start_time": "2024-04-18T15:15:23.628Z"
   },
   {
    "duration": 9,
    "start_time": "2024-04-18T15:15:23.635Z"
   },
   {
    "duration": 8,
    "start_time": "2024-04-18T15:15:23.645Z"
   },
   {
    "duration": 7,
    "start_time": "2024-04-18T15:15:23.654Z"
   },
   {
    "duration": 70,
    "start_time": "2024-04-18T15:15:23.662Z"
   },
   {
    "duration": 3,
    "start_time": "2024-04-18T15:15:23.734Z"
   },
   {
    "duration": 12,
    "start_time": "2024-04-18T15:15:23.739Z"
   },
   {
    "duration": 4,
    "start_time": "2024-04-18T15:15:23.752Z"
   },
   {
    "duration": 44,
    "start_time": "2024-04-18T15:15:23.757Z"
   },
   {
    "duration": 5,
    "start_time": "2024-04-18T15:15:23.803Z"
   },
   {
    "duration": 20,
    "start_time": "2024-04-18T15:15:23.809Z"
   },
   {
    "duration": 13,
    "start_time": "2024-04-18T15:15:23.830Z"
   },
   {
    "duration": 156,
    "start_time": "2024-04-18T15:15:23.844Z"
   },
   {
    "duration": 8,
    "start_time": "2024-04-18T15:15:24.002Z"
   },
   {
    "duration": 141,
    "start_time": "2024-04-18T15:15:24.012Z"
   },
   {
    "duration": 6,
    "start_time": "2024-04-18T15:15:24.155Z"
   },
   {
    "duration": 7,
    "start_time": "2024-04-18T15:15:24.162Z"
   },
   {
    "duration": 7,
    "start_time": "2024-04-18T15:15:24.170Z"
   },
   {
    "duration": 23,
    "start_time": "2024-04-18T15:15:24.178Z"
   },
   {
    "duration": 290,
    "start_time": "2024-04-18T15:15:24.203Z"
   },
   {
    "duration": 347,
    "start_time": "2024-04-18T15:15:24.494Z"
   },
   {
    "duration": 559,
    "start_time": "2024-04-18T15:15:24.843Z"
   },
   {
    "duration": 611,
    "start_time": "2024-04-18T15:15:39.328Z"
   },
   {
    "duration": 80,
    "start_time": "2024-04-18T15:15:39.941Z"
   },
   {
    "duration": 5,
    "start_time": "2024-04-18T15:15:40.024Z"
   },
   {
    "duration": 56,
    "start_time": "2024-04-18T15:15:40.031Z"
   },
   {
    "duration": 5,
    "start_time": "2024-04-18T15:15:40.088Z"
   },
   {
    "duration": 63,
    "start_time": "2024-04-18T15:15:40.094Z"
   },
   {
    "duration": 2,
    "start_time": "2024-04-18T15:15:40.159Z"
   },
   {
    "duration": 5,
    "start_time": "2024-04-18T15:15:40.163Z"
   },
   {
    "duration": 37,
    "start_time": "2024-04-18T15:15:40.169Z"
   },
   {
    "duration": 135,
    "start_time": "2024-04-18T15:15:40.208Z"
   },
   {
    "duration": 11,
    "start_time": "2024-04-18T15:15:40.344Z"
   },
   {
    "duration": 7,
    "start_time": "2024-04-18T15:15:40.356Z"
   },
   {
    "duration": 4,
    "start_time": "2024-04-18T15:15:40.364Z"
   },
   {
    "duration": 31,
    "start_time": "2024-04-18T15:15:40.370Z"
   },
   {
    "duration": 13,
    "start_time": "2024-04-18T15:15:40.403Z"
   },
   {
    "duration": 2,
    "start_time": "2024-04-18T15:15:40.418Z"
   },
   {
    "duration": 88,
    "start_time": "2024-04-18T15:15:40.422Z"
   },
   {
    "duration": 5,
    "start_time": "2024-04-18T15:15:40.511Z"
   },
   {
    "duration": 15,
    "start_time": "2024-04-18T15:15:40.517Z"
   },
   {
    "duration": 6,
    "start_time": "2024-04-18T15:15:40.533Z"
   },
   {
    "duration": 60,
    "start_time": "2024-04-18T15:15:40.541Z"
   },
   {
    "duration": 5,
    "start_time": "2024-04-18T15:15:40.602Z"
   },
   {
    "duration": 15,
    "start_time": "2024-04-18T15:15:40.608Z"
   },
   {
    "duration": 4,
    "start_time": "2024-04-18T15:15:40.625Z"
   },
   {
    "duration": 309,
    "start_time": "2024-04-18T15:15:40.631Z"
   },
   {
    "duration": 58,
    "start_time": "2024-04-18T15:15:40.942Z"
   },
   {
    "duration": 226,
    "start_time": "2024-04-18T15:15:41.002Z"
   },
   {
    "duration": 6,
    "start_time": "2024-04-18T15:15:41.230Z"
   },
   {
    "duration": 65,
    "start_time": "2024-04-18T15:15:41.238Z"
   },
   {
    "duration": 11,
    "start_time": "2024-04-18T15:15:41.305Z"
   },
   {
    "duration": 14,
    "start_time": "2024-04-18T15:15:41.318Z"
   },
   {
    "duration": 602,
    "start_time": "2024-04-18T15:15:41.333Z"
   },
   {
    "duration": 402,
    "start_time": "2024-04-18T15:15:41.936Z"
   },
   {
    "duration": 268,
    "start_time": "2024-04-18T15:15:42.340Z"
   },
   {
    "duration": 7,
    "start_time": "2024-04-18T15:15:58.833Z"
   },
   {
    "duration": 7,
    "start_time": "2024-04-18T15:23:07.020Z"
   },
   {
    "duration": 10,
    "start_time": "2024-04-18T15:25:40.242Z"
   },
   {
    "duration": 769,
    "start_time": "2024-04-18T15:25:47.858Z"
   },
   {
    "duration": 76,
    "start_time": "2024-04-18T15:25:48.628Z"
   },
   {
    "duration": 3,
    "start_time": "2024-04-18T15:25:48.706Z"
   },
   {
    "duration": 52,
    "start_time": "2024-04-18T15:25:48.711Z"
   },
   {
    "duration": 4,
    "start_time": "2024-04-18T15:25:48.765Z"
   },
   {
    "duration": 73,
    "start_time": "2024-04-18T15:25:48.770Z"
   },
   {
    "duration": 3,
    "start_time": "2024-04-18T15:25:48.845Z"
   },
   {
    "duration": 9,
    "start_time": "2024-04-18T15:25:48.849Z"
   },
   {
    "duration": 9,
    "start_time": "2024-04-18T15:25:48.860Z"
   },
   {
    "duration": 34,
    "start_time": "2024-04-18T15:25:48.871Z"
   },
   {
    "duration": 14,
    "start_time": "2024-04-18T15:25:48.906Z"
   },
   {
    "duration": 77,
    "start_time": "2024-04-18T15:25:48.921Z"
   },
   {
    "duration": 0,
    "start_time": "2024-04-18T15:25:49.000Z"
   },
   {
    "duration": 0,
    "start_time": "2024-04-18T15:25:49.002Z"
   },
   {
    "duration": 0,
    "start_time": "2024-04-18T15:25:49.003Z"
   },
   {
    "duration": 0,
    "start_time": "2024-04-18T15:25:49.004Z"
   },
   {
    "duration": 0,
    "start_time": "2024-04-18T15:25:49.005Z"
   },
   {
    "duration": 0,
    "start_time": "2024-04-18T15:25:49.006Z"
   },
   {
    "duration": 0,
    "start_time": "2024-04-18T15:25:49.007Z"
   },
   {
    "duration": 0,
    "start_time": "2024-04-18T15:25:49.008Z"
   },
   {
    "duration": 0,
    "start_time": "2024-04-18T15:25:49.009Z"
   },
   {
    "duration": 0,
    "start_time": "2024-04-18T15:25:49.010Z"
   },
   {
    "duration": 0,
    "start_time": "2024-04-18T15:25:49.011Z"
   },
   {
    "duration": 0,
    "start_time": "2024-04-18T15:25:49.012Z"
   },
   {
    "duration": 0,
    "start_time": "2024-04-18T15:25:49.013Z"
   },
   {
    "duration": 0,
    "start_time": "2024-04-18T15:25:49.013Z"
   },
   {
    "duration": 0,
    "start_time": "2024-04-18T15:25:49.014Z"
   },
   {
    "duration": 0,
    "start_time": "2024-04-18T15:25:49.015Z"
   },
   {
    "duration": 1,
    "start_time": "2024-04-18T15:25:49.016Z"
   },
   {
    "duration": 0,
    "start_time": "2024-04-18T15:25:49.017Z"
   },
   {
    "duration": 0,
    "start_time": "2024-04-18T15:25:49.018Z"
   },
   {
    "duration": 0,
    "start_time": "2024-04-18T15:25:49.019Z"
   },
   {
    "duration": 0,
    "start_time": "2024-04-18T15:25:49.020Z"
   },
   {
    "duration": 0,
    "start_time": "2024-04-18T15:25:49.020Z"
   },
   {
    "duration": 0,
    "start_time": "2024-04-18T15:25:49.021Z"
   },
   {
    "duration": 0,
    "start_time": "2024-04-18T15:25:49.022Z"
   },
   {
    "duration": 11,
    "start_time": "2024-04-18T15:27:26.853Z"
   },
   {
    "duration": 9,
    "start_time": "2024-04-18T15:27:35.034Z"
   },
   {
    "duration": 8,
    "start_time": "2024-04-18T15:27:39.844Z"
   },
   {
    "duration": 10,
    "start_time": "2024-04-18T15:27:52.566Z"
   },
   {
    "duration": 12,
    "start_time": "2024-04-18T15:29:26.814Z"
   },
   {
    "duration": 4,
    "start_time": "2024-04-18T15:29:39.947Z"
   },
   {
    "duration": 8,
    "start_time": "2024-04-18T15:30:13.266Z"
   },
   {
    "duration": 83,
    "start_time": "2024-04-18T15:32:11.584Z"
   },
   {
    "duration": 8,
    "start_time": "2024-04-18T15:32:21.944Z"
   },
   {
    "duration": 9,
    "start_time": "2024-04-18T15:32:25.742Z"
   },
   {
    "duration": 2,
    "start_time": "2024-04-18T15:33:19.418Z"
   },
   {
    "duration": 5,
    "start_time": "2024-04-18T15:33:20.203Z"
   },
   {
    "duration": 9,
    "start_time": "2024-04-18T15:33:21.346Z"
   },
   {
    "duration": 9,
    "start_time": "2024-04-18T15:33:32.606Z"
   },
   {
    "duration": 10,
    "start_time": "2024-04-18T15:33:40.262Z"
   },
   {
    "duration": 10,
    "start_time": "2024-04-18T15:35:34.860Z"
   },
   {
    "duration": 13,
    "start_time": "2024-04-18T15:35:38.408Z"
   },
   {
    "duration": 10,
    "start_time": "2024-04-18T15:36:39.159Z"
   },
   {
    "duration": 9,
    "start_time": "2024-04-18T15:37:26.776Z"
   },
   {
    "duration": 616,
    "start_time": "2024-04-18T15:38:42.993Z"
   },
   {
    "duration": 77,
    "start_time": "2024-04-18T15:38:43.611Z"
   },
   {
    "duration": 4,
    "start_time": "2024-04-18T15:38:43.689Z"
   },
   {
    "duration": 49,
    "start_time": "2024-04-18T15:38:43.694Z"
   },
   {
    "duration": 4,
    "start_time": "2024-04-18T15:38:43.745Z"
   },
   {
    "duration": 67,
    "start_time": "2024-04-18T15:38:43.750Z"
   },
   {
    "duration": 3,
    "start_time": "2024-04-18T15:38:43.818Z"
   },
   {
    "duration": 5,
    "start_time": "2024-04-18T15:38:43.822Z"
   },
   {
    "duration": 11,
    "start_time": "2024-04-18T15:38:43.828Z"
   },
   {
    "duration": 13,
    "start_time": "2024-04-18T15:38:43.842Z"
   },
   {
    "duration": 43,
    "start_time": "2024-04-18T15:38:43.856Z"
   },
   {
    "duration": 3,
    "start_time": "2024-04-18T15:38:43.901Z"
   },
   {
    "duration": 6,
    "start_time": "2024-04-18T15:38:43.905Z"
   },
   {
    "duration": 10,
    "start_time": "2024-04-18T15:38:43.912Z"
   },
   {
    "duration": 8,
    "start_time": "2024-04-18T15:38:43.924Z"
   },
   {
    "duration": 10,
    "start_time": "2024-04-18T15:38:43.933Z"
   },
   {
    "duration": 10,
    "start_time": "2024-04-18T15:38:43.944Z"
   },
   {
    "duration": 45,
    "start_time": "2024-04-18T15:38:43.955Z"
   },
   {
    "duration": 35,
    "start_time": "2024-04-18T15:38:44.002Z"
   },
   {
    "duration": 3,
    "start_time": "2024-04-18T15:38:44.039Z"
   },
   {
    "duration": 13,
    "start_time": "2024-04-18T15:38:44.044Z"
   },
   {
    "duration": 3,
    "start_time": "2024-04-18T15:38:44.058Z"
   },
   {
    "duration": 39,
    "start_time": "2024-04-18T15:38:44.063Z"
   },
   {
    "duration": 6,
    "start_time": "2024-04-18T15:38:44.103Z"
   },
   {
    "duration": 11,
    "start_time": "2024-04-18T15:38:44.110Z"
   },
   {
    "duration": 5,
    "start_time": "2024-04-18T15:38:44.123Z"
   },
   {
    "duration": 170,
    "start_time": "2024-04-18T15:38:44.129Z"
   },
   {
    "duration": 7,
    "start_time": "2024-04-18T15:38:44.302Z"
   },
   {
    "duration": 119,
    "start_time": "2024-04-18T15:38:44.310Z"
   },
   {
    "duration": 7,
    "start_time": "2024-04-18T15:38:44.430Z"
   },
   {
    "duration": 6,
    "start_time": "2024-04-18T15:38:44.439Z"
   },
   {
    "duration": 3,
    "start_time": "2024-04-18T15:38:44.446Z"
   },
   {
    "duration": 10,
    "start_time": "2024-04-18T15:38:44.450Z"
   },
   {
    "duration": 305,
    "start_time": "2024-04-18T15:38:44.462Z"
   },
   {
    "duration": 209,
    "start_time": "2024-04-18T15:38:44.769Z"
   },
   {
    "duration": 298,
    "start_time": "2024-04-18T15:38:44.980Z"
   },
   {
    "duration": 591,
    "start_time": "2024-04-18T15:41:48.660Z"
   },
   {
    "duration": 77,
    "start_time": "2024-04-18T15:41:49.253Z"
   },
   {
    "duration": 4,
    "start_time": "2024-04-18T15:41:49.331Z"
   },
   {
    "duration": 50,
    "start_time": "2024-04-18T15:41:49.337Z"
   },
   {
    "duration": 4,
    "start_time": "2024-04-18T15:41:49.389Z"
   },
   {
    "duration": 47,
    "start_time": "2024-04-18T15:41:49.394Z"
   },
   {
    "duration": 3,
    "start_time": "2024-04-18T15:41:49.443Z"
   },
   {
    "duration": 9,
    "start_time": "2024-04-18T15:41:49.447Z"
   },
   {
    "duration": 15,
    "start_time": "2024-04-18T15:41:49.457Z"
   },
   {
    "duration": 32,
    "start_time": "2024-04-18T15:41:49.474Z"
   },
   {
    "duration": 8,
    "start_time": "2024-04-18T15:41:49.507Z"
   },
   {
    "duration": 2,
    "start_time": "2024-04-18T15:41:49.516Z"
   },
   {
    "duration": 5,
    "start_time": "2024-04-18T15:41:49.520Z"
   },
   {
    "duration": 13,
    "start_time": "2024-04-18T15:41:49.527Z"
   },
   {
    "duration": 7,
    "start_time": "2024-04-18T15:41:49.541Z"
   },
   {
    "duration": 10,
    "start_time": "2024-04-18T15:41:49.549Z"
   },
   {
    "duration": 9,
    "start_time": "2024-04-18T15:41:49.560Z"
   },
   {
    "duration": 8,
    "start_time": "2024-04-18T15:41:49.599Z"
   },
   {
    "duration": 31,
    "start_time": "2024-04-18T15:41:49.608Z"
   },
   {
    "duration": 3,
    "start_time": "2024-04-18T15:41:49.640Z"
   },
   {
    "duration": 9,
    "start_time": "2024-04-18T15:41:49.645Z"
   },
   {
    "duration": 3,
    "start_time": "2024-04-18T15:41:49.655Z"
   },
   {
    "duration": 46,
    "start_time": "2024-04-18T15:41:49.659Z"
   },
   {
    "duration": 3,
    "start_time": "2024-04-18T15:41:49.706Z"
   },
   {
    "duration": 10,
    "start_time": "2024-04-18T15:41:49.711Z"
   },
   {
    "duration": 5,
    "start_time": "2024-04-18T15:41:49.723Z"
   },
   {
    "duration": 171,
    "start_time": "2024-04-18T15:41:49.730Z"
   },
   {
    "duration": 7,
    "start_time": "2024-04-18T15:41:49.903Z"
   },
   {
    "duration": 122,
    "start_time": "2024-04-18T15:41:49.911Z"
   },
   {
    "duration": 7,
    "start_time": "2024-04-18T15:41:50.035Z"
   },
   {
    "duration": 6,
    "start_time": "2024-04-18T15:41:50.043Z"
   },
   {
    "duration": 9,
    "start_time": "2024-04-18T15:41:50.051Z"
   },
   {
    "duration": 24,
    "start_time": "2024-04-18T15:41:50.061Z"
   },
   {
    "duration": 255,
    "start_time": "2024-04-18T15:41:50.086Z"
   },
   {
    "duration": 195,
    "start_time": "2024-04-18T15:41:50.343Z"
   },
   {
    "duration": 262,
    "start_time": "2024-04-18T15:41:50.539Z"
   },
   {
    "duration": 10,
    "start_time": "2024-04-18T15:45:49.204Z"
   },
   {
    "duration": 5,
    "start_time": "2024-04-18T15:45:55.407Z"
   },
   {
    "duration": 791,
    "start_time": "2024-04-19T14:31:41.908Z"
   },
   {
    "duration": 234,
    "start_time": "2024-04-19T14:31:42.701Z"
   },
   {
    "duration": 5,
    "start_time": "2024-04-19T14:31:42.936Z"
   },
   {
    "duration": 58,
    "start_time": "2024-04-19T14:31:42.942Z"
   },
   {
    "duration": 5,
    "start_time": "2024-04-19T14:31:43.002Z"
   },
   {
    "duration": 70,
    "start_time": "2024-04-19T14:31:43.008Z"
   },
   {
    "duration": 4,
    "start_time": "2024-04-19T14:31:43.079Z"
   },
   {
    "duration": 6,
    "start_time": "2024-04-19T14:31:43.084Z"
   },
   {
    "duration": 27,
    "start_time": "2024-04-19T14:31:43.092Z"
   },
   {
    "duration": 31,
    "start_time": "2024-04-19T14:31:43.120Z"
   },
   {
    "duration": 9,
    "start_time": "2024-04-19T14:31:43.152Z"
   },
   {
    "duration": 3,
    "start_time": "2024-04-19T14:31:43.162Z"
   },
   {
    "duration": 18,
    "start_time": "2024-04-19T14:31:43.166Z"
   },
   {
    "duration": 34,
    "start_time": "2024-04-19T14:31:43.187Z"
   },
   {
    "duration": 15,
    "start_time": "2024-04-19T14:31:43.223Z"
   },
   {
    "duration": 11,
    "start_time": "2024-04-19T14:31:43.239Z"
   },
   {
    "duration": 10,
    "start_time": "2024-04-19T14:31:43.251Z"
   },
   {
    "duration": 7,
    "start_time": "2024-04-19T14:31:43.262Z"
   },
   {
    "duration": 63,
    "start_time": "2024-04-19T14:31:43.270Z"
   },
   {
    "duration": 4,
    "start_time": "2024-04-19T14:31:43.335Z"
   },
   {
    "duration": 20,
    "start_time": "2024-04-19T14:31:43.340Z"
   },
   {
    "duration": 17,
    "start_time": "2024-04-19T14:31:43.362Z"
   },
   {
    "duration": 17,
    "start_time": "2024-04-19T14:31:43.380Z"
   },
   {
    "duration": 18,
    "start_time": "2024-04-19T14:31:43.399Z"
   },
   {
    "duration": 16,
    "start_time": "2024-04-19T14:31:43.419Z"
   },
   {
    "duration": 20,
    "start_time": "2024-04-19T14:31:43.436Z"
   },
   {
    "duration": 194,
    "start_time": "2024-04-19T14:31:43.457Z"
   },
   {
    "duration": 9,
    "start_time": "2024-04-19T14:31:43.653Z"
   },
   {
    "duration": 120,
    "start_time": "2024-04-19T14:31:43.664Z"
   },
   {
    "duration": 9,
    "start_time": "2024-04-19T14:31:43.787Z"
   },
   {
    "duration": 18,
    "start_time": "2024-04-19T14:31:43.797Z"
   },
   {
    "duration": 4,
    "start_time": "2024-04-19T14:31:43.816Z"
   },
   {
    "duration": 12,
    "start_time": "2024-04-19T14:31:43.821Z"
   },
   {
    "duration": 304,
    "start_time": "2024-04-19T14:31:43.836Z"
   },
   {
    "duration": 257,
    "start_time": "2024-04-19T14:31:44.142Z"
   },
   {
    "duration": 410,
    "start_time": "2024-04-19T14:31:44.400Z"
   },
   {
    "duration": 271,
    "start_time": "2024-04-19T14:34:46.455Z"
   },
   {
    "duration": 218,
    "start_time": "2024-04-19T14:34:51.781Z"
   },
   {
    "duration": 208,
    "start_time": "2024-04-19T14:34:59.925Z"
   },
   {
    "duration": 8,
    "start_time": "2024-04-19T14:38:09.824Z"
   },
   {
    "duration": 72,
    "start_time": "2024-04-19T14:39:43.307Z"
   },
   {
    "duration": 182,
    "start_time": "2024-04-19T14:39:54.445Z"
   },
   {
    "duration": 179,
    "start_time": "2024-04-19T14:40:15.472Z"
   },
   {
    "duration": 293,
    "start_time": "2024-04-19T14:40:29.508Z"
   },
   {
    "duration": 209,
    "start_time": "2024-04-19T14:40:43.496Z"
   },
   {
    "duration": 194,
    "start_time": "2024-04-19T14:40:52.795Z"
   },
   {
    "duration": 192,
    "start_time": "2024-04-19T14:40:59.169Z"
   },
   {
    "duration": 203,
    "start_time": "2024-04-19T14:41:48.986Z"
   },
   {
    "duration": 220,
    "start_time": "2024-04-19T14:42:56.065Z"
   },
   {
    "duration": 4,
    "start_time": "2024-04-19T14:56:01.144Z"
   },
   {
    "duration": 5,
    "start_time": "2024-04-19T14:56:16.734Z"
   },
   {
    "duration": 862,
    "start_time": "2024-04-19T14:56:46.916Z"
   },
   {
    "duration": 380,
    "start_time": "2024-04-19T14:57:09.018Z"
   },
   {
    "duration": 287,
    "start_time": "2024-04-19T14:57:31.532Z"
   },
   {
    "duration": 299,
    "start_time": "2024-04-19T14:58:10.575Z"
   },
   {
    "duration": 117,
    "start_time": "2024-04-19T15:08:44.328Z"
   },
   {
    "duration": 13,
    "start_time": "2024-04-19T15:09:45.664Z"
   },
   {
    "duration": 12,
    "start_time": "2024-04-19T15:10:20.935Z"
   },
   {
    "duration": 6,
    "start_time": "2024-04-19T15:12:26.544Z"
   },
   {
    "duration": 10,
    "start_time": "2024-04-19T15:12:27.339Z"
   },
   {
    "duration": 13,
    "start_time": "2024-04-19T15:12:48.868Z"
   },
   {
    "duration": 6,
    "start_time": "2024-04-19T15:12:54.447Z"
   },
   {
    "duration": 9,
    "start_time": "2024-04-19T15:12:55.310Z"
   },
   {
    "duration": 110,
    "start_time": "2024-04-19T15:13:53.730Z"
   },
   {
    "duration": 135,
    "start_time": "2024-04-19T15:16:18.069Z"
   },
   {
    "duration": 119,
    "start_time": "2024-04-19T15:16:25.218Z"
   },
   {
    "duration": 160,
    "start_time": "2024-04-19T15:18:08.015Z"
   },
   {
    "duration": 4,
    "start_time": "2024-04-19T15:23:40.204Z"
   },
   {
    "duration": 140,
    "start_time": "2024-04-19T15:33:40.665Z"
   },
   {
    "duration": 367,
    "start_time": "2024-04-19T15:41:07.716Z"
   },
   {
    "duration": 422,
    "start_time": "2024-04-19T15:42:46.148Z"
   },
   {
    "duration": 48,
    "start_time": "2024-04-19T15:43:19.820Z"
   },
   {
    "duration": 354,
    "start_time": "2024-04-19T15:43:22.408Z"
   },
   {
    "duration": 240,
    "start_time": "2024-04-19T15:43:37.703Z"
   },
   {
    "duration": 246,
    "start_time": "2024-04-19T15:45:12.080Z"
   },
   {
    "duration": 282,
    "start_time": "2024-04-19T15:45:57.643Z"
   },
   {
    "duration": 257,
    "start_time": "2024-04-19T15:46:09.018Z"
   },
   {
    "duration": 268,
    "start_time": "2024-04-19T15:46:29.442Z"
   },
   {
    "duration": 308,
    "start_time": "2024-04-19T15:46:35.612Z"
   },
   {
    "duration": 270,
    "start_time": "2024-04-19T15:46:57.732Z"
   },
   {
    "duration": 388,
    "start_time": "2024-04-19T15:47:31.349Z"
   },
   {
    "duration": 282,
    "start_time": "2024-04-19T15:48:09.906Z"
   },
   {
    "duration": 282,
    "start_time": "2024-04-19T15:48:27.177Z"
   },
   {
    "duration": 6,
    "start_time": "2024-04-19T15:50:03.525Z"
   },
   {
    "duration": 5,
    "start_time": "2024-04-19T15:51:17.549Z"
   },
   {
    "duration": 8,
    "start_time": "2024-04-19T16:03:56.720Z"
   },
   {
    "duration": 6,
    "start_time": "2024-04-19T16:03:57.879Z"
   },
   {
    "duration": 13,
    "start_time": "2024-04-19T16:23:36.595Z"
   },
   {
    "duration": 47,
    "start_time": "2024-04-19T16:24:55.626Z"
   },
   {
    "duration": 8,
    "start_time": "2024-04-19T16:24:59.732Z"
   },
   {
    "duration": 9,
    "start_time": "2024-04-19T16:25:02.379Z"
   },
   {
    "duration": 9,
    "start_time": "2024-04-19T16:30:45.387Z"
   },
   {
    "duration": 11,
    "start_time": "2024-04-19T16:31:51.338Z"
   },
   {
    "duration": 30,
    "start_time": "2024-04-19T16:33:36.414Z"
   },
   {
    "duration": 19,
    "start_time": "2024-04-19T16:33:49.363Z"
   },
   {
    "duration": 9,
    "start_time": "2024-04-19T16:35:03.270Z"
   },
   {
    "duration": 4,
    "start_time": "2024-04-19T16:35:08.618Z"
   },
   {
    "duration": 8,
    "start_time": "2024-04-19T16:38:33.165Z"
   },
   {
    "duration": 389,
    "start_time": "2024-04-19T16:38:54.742Z"
   },
   {
    "duration": 25,
    "start_time": "2024-04-19T16:38:56.975Z"
   },
   {
    "duration": 25,
    "start_time": "2024-04-19T16:40:03.126Z"
   },
   {
    "duration": 24,
    "start_time": "2024-04-19T16:45:41.411Z"
   },
   {
    "duration": 26,
    "start_time": "2024-04-19T16:45:44.475Z"
   },
   {
    "duration": 34,
    "start_time": "2024-04-19T16:45:54.544Z"
   },
   {
    "duration": 54,
    "start_time": "2024-04-19T16:46:16.309Z"
   },
   {
    "duration": 25,
    "start_time": "2024-04-19T16:46:28.450Z"
   },
   {
    "duration": 25,
    "start_time": "2024-04-19T16:46:38.224Z"
   },
   {
    "duration": 25,
    "start_time": "2024-04-19T16:46:42.583Z"
   },
   {
    "duration": 25,
    "start_time": "2024-04-19T16:46:57.699Z"
   },
   {
    "duration": 25,
    "start_time": "2024-04-19T16:47:00.869Z"
   },
   {
    "duration": 12,
    "start_time": "2024-04-19T16:51:14.006Z"
   },
   {
    "duration": 20,
    "start_time": "2024-04-19T16:53:41.556Z"
   },
   {
    "duration": 38,
    "start_time": "2024-04-19T17:01:48.123Z"
   },
   {
    "duration": 11,
    "start_time": "2024-04-19T17:01:56.277Z"
   },
   {
    "duration": 7,
    "start_time": "2024-04-19T17:02:15.765Z"
   },
   {
    "duration": 4,
    "start_time": "2024-04-19T17:02:20.343Z"
   },
   {
    "duration": 8,
    "start_time": "2024-04-19T17:03:11.682Z"
   },
   {
    "duration": 8,
    "start_time": "2024-04-19T17:03:27.398Z"
   },
   {
    "duration": 6,
    "start_time": "2024-04-19T17:04:09.141Z"
   },
   {
    "duration": 26,
    "start_time": "2024-04-19T17:04:54.658Z"
   },
   {
    "duration": 5,
    "start_time": "2024-04-19T17:05:02.253Z"
   },
   {
    "duration": 7,
    "start_time": "2024-04-19T17:05:03.977Z"
   },
   {
    "duration": 1105,
    "start_time": "2024-04-19T17:05:15.924Z"
   },
   {
    "duration": 78,
    "start_time": "2024-04-19T17:05:17.031Z"
   },
   {
    "duration": 5,
    "start_time": "2024-04-19T17:05:17.111Z"
   },
   {
    "duration": 79,
    "start_time": "2024-04-19T17:05:17.117Z"
   },
   {
    "duration": 4,
    "start_time": "2024-04-19T17:05:17.198Z"
   },
   {
    "duration": 84,
    "start_time": "2024-04-19T17:05:17.204Z"
   },
   {
    "duration": 3,
    "start_time": "2024-04-19T17:05:17.290Z"
   },
   {
    "duration": 16,
    "start_time": "2024-04-19T17:05:17.295Z"
   },
   {
    "duration": 34,
    "start_time": "2024-04-19T17:05:17.313Z"
   },
   {
    "duration": 34,
    "start_time": "2024-04-19T17:05:17.349Z"
   },
   {
    "duration": 16,
    "start_time": "2024-04-19T17:05:17.385Z"
   },
   {
    "duration": 9,
    "start_time": "2024-04-19T17:05:17.403Z"
   },
   {
    "duration": 15,
    "start_time": "2024-04-19T17:05:17.414Z"
   },
   {
    "duration": 49,
    "start_time": "2024-04-19T17:05:17.433Z"
   },
   {
    "duration": 9,
    "start_time": "2024-04-19T17:05:17.483Z"
   },
   {
    "duration": 19,
    "start_time": "2024-04-19T17:05:17.494Z"
   },
   {
    "duration": 10,
    "start_time": "2024-04-19T17:05:17.515Z"
   },
   {
    "duration": 9,
    "start_time": "2024-04-19T17:05:17.526Z"
   },
   {
    "duration": 42,
    "start_time": "2024-04-19T17:05:17.537Z"
   },
   {
    "duration": 4,
    "start_time": "2024-04-19T17:05:17.580Z"
   },
   {
    "duration": 33,
    "start_time": "2024-04-19T17:05:17.585Z"
   },
   {
    "duration": 7,
    "start_time": "2024-04-19T17:05:17.620Z"
   },
   {
    "duration": 21,
    "start_time": "2024-04-19T17:05:17.628Z"
   },
   {
    "duration": 10,
    "start_time": "2024-04-19T17:05:17.650Z"
   },
   {
    "duration": 13,
    "start_time": "2024-04-19T17:05:17.661Z"
   },
   {
    "duration": 6,
    "start_time": "2024-04-19T17:05:17.676Z"
   },
   {
    "duration": 168,
    "start_time": "2024-04-19T17:05:17.683Z"
   },
   {
    "duration": 8,
    "start_time": "2024-04-19T17:05:17.853Z"
   },
   {
    "duration": 123,
    "start_time": "2024-04-19T17:05:17.863Z"
   },
   {
    "duration": 8,
    "start_time": "2024-04-19T17:05:17.987Z"
   },
   {
    "duration": 21,
    "start_time": "2024-04-19T17:05:17.997Z"
   },
   {
    "duration": 4,
    "start_time": "2024-04-19T17:05:18.020Z"
   },
   {
    "duration": 12,
    "start_time": "2024-04-19T17:05:18.025Z"
   },
   {
    "duration": 319,
    "start_time": "2024-04-19T17:05:18.038Z"
   },
   {
    "duration": 220,
    "start_time": "2024-04-19T17:05:18.359Z"
   },
   {
    "duration": 335,
    "start_time": "2024-04-19T17:05:18.581Z"
   },
   {
    "duration": 221,
    "start_time": "2024-04-19T17:05:18.918Z"
   },
   {
    "duration": 300,
    "start_time": "2024-04-19T17:05:19.140Z"
   },
   {
    "duration": 7,
    "start_time": "2024-04-19T17:05:19.441Z"
   },
   {
    "duration": 155,
    "start_time": "2024-04-19T17:05:19.449Z"
   },
   {
    "duration": 9,
    "start_time": "2024-04-19T17:05:19.607Z"
   },
   {
    "duration": 281,
    "start_time": "2024-04-19T17:05:19.617Z"
   },
   {
    "duration": 5,
    "start_time": "2024-04-19T17:05:19.899Z"
   },
   {
    "duration": 19,
    "start_time": "2024-04-19T17:05:19.915Z"
   },
   {
    "duration": 8,
    "start_time": "2024-04-19T17:05:19.935Z"
   },
   {
    "duration": 26,
    "start_time": "2024-04-19T17:05:19.945Z"
   },
   {
    "duration": 14,
    "start_time": "2024-04-19T17:05:19.973Z"
   },
   {
    "duration": 11,
    "start_time": "2024-04-19T17:05:19.988Z"
   },
   {
    "duration": 6,
    "start_time": "2024-04-19T17:05:20.015Z"
   },
   {
    "duration": 922,
    "start_time": "2024-04-19T17:06:11.796Z"
   },
   {
    "duration": 6,
    "start_time": "2024-04-19T17:06:35.320Z"
   },
   {
    "duration": 4,
    "start_time": "2024-04-19T17:06:36.549Z"
   },
   {
    "duration": 5,
    "start_time": "2024-04-19T17:06:41.705Z"
   },
   {
    "duration": 11,
    "start_time": "2024-04-19T17:07:39.317Z"
   },
   {
    "duration": 15,
    "start_time": "2024-04-19T17:07:47.050Z"
   },
   {
    "duration": 50,
    "start_time": "2024-04-19T17:07:59.384Z"
   },
   {
    "duration": 7,
    "start_time": "2024-04-19T17:08:08.756Z"
   },
   {
    "duration": 5,
    "start_time": "2024-04-19T17:08:14.401Z"
   },
   {
    "duration": 14,
    "start_time": "2024-04-19T17:08:35.038Z"
   },
   {
    "duration": 8,
    "start_time": "2024-04-19T17:08:38.277Z"
   },
   {
    "duration": 9,
    "start_time": "2024-04-19T17:09:23.756Z"
   },
   {
    "duration": 8,
    "start_time": "2024-04-19T17:09:26.694Z"
   },
   {
    "duration": 1710,
    "start_time": "2024-04-19T17:12:53.024Z"
   },
   {
    "duration": 88,
    "start_time": "2024-04-19T17:12:54.735Z"
   },
   {
    "duration": 7,
    "start_time": "2024-04-19T17:12:54.825Z"
   },
   {
    "duration": 80,
    "start_time": "2024-04-19T17:12:54.834Z"
   },
   {
    "duration": 5,
    "start_time": "2024-04-19T17:12:54.916Z"
   },
   {
    "duration": 50,
    "start_time": "2024-04-19T17:12:54.923Z"
   },
   {
    "duration": 3,
    "start_time": "2024-04-19T17:12:54.975Z"
   },
   {
    "duration": 36,
    "start_time": "2024-04-19T17:12:54.979Z"
   },
   {
    "duration": 11,
    "start_time": "2024-04-19T17:12:55.017Z"
   },
   {
    "duration": 11,
    "start_time": "2024-04-19T17:12:55.030Z"
   },
   {
    "duration": 8,
    "start_time": "2024-04-19T17:12:55.043Z"
   },
   {
    "duration": 3,
    "start_time": "2024-04-19T17:12:55.052Z"
   },
   {
    "duration": 14,
    "start_time": "2024-04-19T17:12:55.056Z"
   },
   {
    "duration": 10,
    "start_time": "2024-04-19T17:12:55.071Z"
   },
   {
    "duration": 7,
    "start_time": "2024-04-19T17:12:55.082Z"
   },
   {
    "duration": 34,
    "start_time": "2024-04-19T17:12:55.090Z"
   },
   {
    "duration": 10,
    "start_time": "2024-04-19T17:12:55.126Z"
   },
   {
    "duration": 9,
    "start_time": "2024-04-19T17:12:55.138Z"
   },
   {
    "duration": 36,
    "start_time": "2024-04-19T17:12:55.148Z"
   },
   {
    "duration": 4,
    "start_time": "2024-04-19T17:12:55.214Z"
   },
   {
    "duration": 12,
    "start_time": "2024-04-19T17:12:55.219Z"
   },
   {
    "duration": 12,
    "start_time": "2024-04-19T17:12:55.232Z"
   },
   {
    "duration": 21,
    "start_time": "2024-04-19T17:12:55.246Z"
   },
   {
    "duration": 6,
    "start_time": "2024-04-19T17:12:55.268Z"
   },
   {
    "duration": 14,
    "start_time": "2024-04-19T17:12:55.275Z"
   },
   {
    "duration": 7,
    "start_time": "2024-04-19T17:12:55.315Z"
   },
   {
    "duration": 167,
    "start_time": "2024-04-19T17:12:55.323Z"
   },
   {
    "duration": 8,
    "start_time": "2024-04-19T17:12:55.494Z"
   },
   {
    "duration": 134,
    "start_time": "2024-04-19T17:12:55.503Z"
   },
   {
    "duration": 7,
    "start_time": "2024-04-19T17:12:55.639Z"
   },
   {
    "duration": 7,
    "start_time": "2024-04-19T17:12:55.647Z"
   },
   {
    "duration": 4,
    "start_time": "2024-04-19T17:12:55.655Z"
   },
   {
    "duration": 14,
    "start_time": "2024-04-19T17:12:55.660Z"
   },
   {
    "duration": 341,
    "start_time": "2024-04-19T17:12:55.676Z"
   },
   {
    "duration": 225,
    "start_time": "2024-04-19T17:12:56.019Z"
   },
   {
    "duration": 275,
    "start_time": "2024-04-19T17:12:56.246Z"
   },
   {
    "duration": 227,
    "start_time": "2024-04-19T17:12:56.522Z"
   },
   {
    "duration": 319,
    "start_time": "2024-04-19T17:12:56.751Z"
   },
   {
    "duration": 7,
    "start_time": "2024-04-19T17:12:57.071Z"
   },
   {
    "duration": 152,
    "start_time": "2024-04-19T17:12:57.079Z"
   },
   {
    "duration": 5,
    "start_time": "2024-04-19T17:12:57.232Z"
   },
   {
    "duration": 279,
    "start_time": "2024-04-19T17:12:57.238Z"
   },
   {
    "duration": 5,
    "start_time": "2024-04-19T17:12:57.518Z"
   },
   {
    "duration": 10,
    "start_time": "2024-04-19T17:12:57.524Z"
   },
   {
    "duration": 15,
    "start_time": "2024-04-19T17:12:57.535Z"
   },
   {
    "duration": 9,
    "start_time": "2024-04-19T17:12:57.551Z"
   },
   {
    "duration": 34,
    "start_time": "2024-04-19T17:12:57.561Z"
   },
   {
    "duration": 31,
    "start_time": "2024-04-19T17:12:57.596Z"
   },
   {
    "duration": 11,
    "start_time": "2024-04-19T17:18:03.556Z"
   },
   {
    "duration": 91,
    "start_time": "2024-04-19T17:19:53.946Z"
   },
   {
    "duration": 11,
    "start_time": "2024-04-19T17:19:55.136Z"
   },
   {
    "duration": 28,
    "start_time": "2024-04-19T17:19:55.875Z"
   },
   {
    "duration": 14,
    "start_time": "2024-04-19T17:30:15.971Z"
   },
   {
    "duration": 297,
    "start_time": "2024-04-19T17:46:17.464Z"
   },
   {
    "duration": 14,
    "start_time": "2024-04-19T17:55:26.270Z"
   },
   {
    "duration": 1069,
    "start_time": "2024-04-19T17:55:37.511Z"
   },
   {
    "duration": 5,
    "start_time": "2024-04-19T17:55:45.795Z"
   },
   {
    "duration": 13,
    "start_time": "2024-04-19T17:55:50.331Z"
   },
   {
    "duration": 9,
    "start_time": "2024-04-19T17:56:06.518Z"
   },
   {
    "duration": 8,
    "start_time": "2024-04-19T17:57:37.372Z"
   },
   {
    "duration": 4,
    "start_time": "2024-04-19T17:57:39.696Z"
   },
   {
    "duration": 12,
    "start_time": "2024-04-19T17:57:40.313Z"
   },
   {
    "duration": 10,
    "start_time": "2024-04-19T18:02:01.773Z"
   },
   {
    "duration": 8,
    "start_time": "2024-04-19T18:02:12.276Z"
   },
   {
    "duration": 1141,
    "start_time": "2024-04-19T18:09:01.146Z"
   },
   {
    "duration": 80,
    "start_time": "2024-04-19T18:09:02.289Z"
   },
   {
    "duration": 6,
    "start_time": "2024-04-19T18:09:02.371Z"
   },
   {
    "duration": 61,
    "start_time": "2024-04-19T18:09:02.379Z"
   },
   {
    "duration": 4,
    "start_time": "2024-04-19T18:09:02.442Z"
   },
   {
    "duration": 78,
    "start_time": "2024-04-19T18:09:02.447Z"
   },
   {
    "duration": 3,
    "start_time": "2024-04-19T18:09:02.527Z"
   },
   {
    "duration": 8,
    "start_time": "2024-04-19T18:09:02.531Z"
   },
   {
    "duration": 16,
    "start_time": "2024-04-19T18:09:02.540Z"
   },
   {
    "duration": 27,
    "start_time": "2024-04-19T18:09:02.558Z"
   },
   {
    "duration": 9,
    "start_time": "2024-04-19T18:09:02.586Z"
   },
   {
    "duration": 23,
    "start_time": "2024-04-19T18:09:02.596Z"
   },
   {
    "duration": 37,
    "start_time": "2024-04-19T18:09:02.621Z"
   },
   {
    "duration": 4,
    "start_time": "2024-04-19T18:09:02.659Z"
   },
   {
    "duration": 10,
    "start_time": "2024-04-19T18:09:02.664Z"
   },
   {
    "duration": 7,
    "start_time": "2024-04-19T18:09:02.675Z"
   },
   {
    "duration": 31,
    "start_time": "2024-04-19T18:09:02.684Z"
   },
   {
    "duration": 11,
    "start_time": "2024-04-19T18:09:02.716Z"
   },
   {
    "duration": 25,
    "start_time": "2024-04-19T18:09:02.728Z"
   },
   {
    "duration": 14,
    "start_time": "2024-04-19T18:09:02.754Z"
   },
   {
    "duration": 30,
    "start_time": "2024-04-19T18:09:02.769Z"
   },
   {
    "duration": 169,
    "start_time": "2024-04-19T18:09:02.800Z"
   },
   {
    "duration": 8,
    "start_time": "2024-04-19T18:09:02.970Z"
   },
   {
    "duration": 122,
    "start_time": "2024-04-19T18:09:02.979Z"
   },
   {
    "duration": 14,
    "start_time": "2024-04-19T18:09:03.102Z"
   },
   {
    "duration": 6,
    "start_time": "2024-04-19T18:09:03.118Z"
   },
   {
    "duration": 21,
    "start_time": "2024-04-19T18:09:03.125Z"
   },
   {
    "duration": 8,
    "start_time": "2024-04-19T18:09:03.150Z"
   },
   {
    "duration": 298,
    "start_time": "2024-04-19T18:09:03.160Z"
   },
   {
    "duration": 395,
    "start_time": "2024-04-19T18:09:03.459Z"
   },
   {
    "duration": 473,
    "start_time": "2024-04-19T18:09:03.855Z"
   },
   {
    "duration": 430,
    "start_time": "2024-04-19T18:09:04.329Z"
   },
   {
    "duration": 471,
    "start_time": "2024-04-19T18:09:04.814Z"
   },
   {
    "duration": 6,
    "start_time": "2024-04-19T18:09:05.287Z"
   },
   {
    "duration": 161,
    "start_time": "2024-04-19T18:09:05.314Z"
   },
   {
    "duration": 5,
    "start_time": "2024-04-19T18:09:05.476Z"
   },
   {
    "duration": 298,
    "start_time": "2024-04-19T18:09:05.483Z"
   },
   {
    "duration": 5,
    "start_time": "2024-04-19T18:09:05.783Z"
   },
   {
    "duration": 18,
    "start_time": "2024-04-19T18:09:05.789Z"
   },
   {
    "duration": 6,
    "start_time": "2024-04-19T18:09:05.810Z"
   },
   {
    "duration": 8,
    "start_time": "2024-04-19T18:09:05.818Z"
   },
   {
    "duration": 14,
    "start_time": "2024-04-19T18:09:05.827Z"
   },
   {
    "duration": 8,
    "start_time": "2024-04-19T18:09:05.842Z"
   },
   {
    "duration": 28,
    "start_time": "2024-04-19T18:09:05.851Z"
   },
   {
    "duration": 40,
    "start_time": "2024-04-19T18:09:05.881Z"
   },
   {
    "duration": 26,
    "start_time": "2024-04-19T18:09:05.922Z"
   },
   {
    "duration": 24,
    "start_time": "2024-04-19T18:09:05.949Z"
   },
   {
    "duration": 14,
    "start_time": "2024-04-19T18:09:05.975Z"
   },
   {
    "duration": 11,
    "start_time": "2024-04-19T18:10:59.587Z"
   },
   {
    "duration": 1040,
    "start_time": "2024-04-19T18:12:17.460Z"
   },
   {
    "duration": 81,
    "start_time": "2024-04-19T18:12:18.501Z"
   },
   {
    "duration": 5,
    "start_time": "2024-04-19T18:12:18.583Z"
   },
   {
    "duration": 61,
    "start_time": "2024-04-19T18:12:18.589Z"
   },
   {
    "duration": 4,
    "start_time": "2024-04-19T18:12:18.651Z"
   },
   {
    "duration": 88,
    "start_time": "2024-04-19T18:12:18.657Z"
   },
   {
    "duration": 3,
    "start_time": "2024-04-19T18:12:18.746Z"
   },
   {
    "duration": 8,
    "start_time": "2024-04-19T18:12:18.751Z"
   },
   {
    "duration": 12,
    "start_time": "2024-04-19T18:12:18.760Z"
   },
   {
    "duration": 40,
    "start_time": "2024-04-19T18:12:18.775Z"
   },
   {
    "duration": 12,
    "start_time": "2024-04-19T18:12:18.817Z"
   },
   {
    "duration": 13,
    "start_time": "2024-04-19T18:12:18.831Z"
   },
   {
    "duration": 36,
    "start_time": "2024-04-19T18:12:18.846Z"
   },
   {
    "duration": 32,
    "start_time": "2024-04-19T18:12:18.884Z"
   },
   {
    "duration": 16,
    "start_time": "2024-04-19T18:12:18.918Z"
   },
   {
    "duration": 11,
    "start_time": "2024-04-19T18:12:18.936Z"
   },
   {
    "duration": 5,
    "start_time": "2024-04-19T18:12:18.948Z"
   },
   {
    "duration": 11,
    "start_time": "2024-04-19T18:12:18.954Z"
   },
   {
    "duration": 10,
    "start_time": "2024-04-19T18:12:18.967Z"
   },
   {
    "duration": 13,
    "start_time": "2024-04-19T18:12:18.979Z"
   },
   {
    "duration": 25,
    "start_time": "2024-04-19T18:12:18.994Z"
   },
   {
    "duration": 176,
    "start_time": "2024-04-19T18:12:19.020Z"
   },
   {
    "duration": 7,
    "start_time": "2024-04-19T18:12:19.198Z"
   },
   {
    "duration": 112,
    "start_time": "2024-04-19T18:12:19.215Z"
   },
   {
    "duration": 7,
    "start_time": "2024-04-19T18:12:19.329Z"
   },
   {
    "duration": 9,
    "start_time": "2024-04-19T18:12:19.337Z"
   },
   {
    "duration": 7,
    "start_time": "2024-04-19T18:12:19.347Z"
   },
   {
    "duration": 11,
    "start_time": "2024-04-19T18:12:19.357Z"
   },
   {
    "duration": 488,
    "start_time": "2024-04-19T18:12:19.369Z"
   },
   {
    "duration": 470,
    "start_time": "2024-04-19T18:12:19.858Z"
   },
   {
    "duration": 485,
    "start_time": "2024-04-19T18:12:20.330Z"
   },
   {
    "duration": 315,
    "start_time": "2024-04-19T18:12:20.816Z"
   },
   {
    "duration": 286,
    "start_time": "2024-04-19T18:12:21.133Z"
   },
   {
    "duration": 6,
    "start_time": "2024-04-19T18:12:21.420Z"
   },
   {
    "duration": 161,
    "start_time": "2024-04-19T18:12:21.428Z"
   },
   {
    "duration": 5,
    "start_time": "2024-04-19T18:12:21.591Z"
   },
   {
    "duration": 292,
    "start_time": "2024-04-19T18:12:21.597Z"
   },
   {
    "duration": 6,
    "start_time": "2024-04-19T18:12:21.890Z"
   },
   {
    "duration": 51,
    "start_time": "2024-04-19T18:12:21.898Z"
   },
   {
    "duration": 23,
    "start_time": "2024-04-19T18:12:21.951Z"
   },
   {
    "duration": 12,
    "start_time": "2024-04-19T18:12:21.976Z"
   },
   {
    "duration": 13,
    "start_time": "2024-04-19T18:12:21.989Z"
   },
   {
    "duration": 9,
    "start_time": "2024-04-19T18:12:22.004Z"
   },
   {
    "duration": 32,
    "start_time": "2024-04-19T18:12:22.015Z"
   },
   {
    "duration": 15,
    "start_time": "2024-04-19T18:12:22.049Z"
   },
   {
    "duration": 12,
    "start_time": "2024-04-19T18:12:22.066Z"
   },
   {
    "duration": 47,
    "start_time": "2024-04-19T18:12:22.081Z"
   },
   {
    "duration": 15,
    "start_time": "2024-04-19T18:12:22.130Z"
   },
   {
    "duration": 262,
    "start_time": "2024-04-19T18:16:28.972Z"
   },
   {
    "duration": 8,
    "start_time": "2024-04-19T18:17:31.360Z"
   },
   {
    "duration": 1115,
    "start_time": "2024-04-19T18:18:00.694Z"
   },
   {
    "duration": 77,
    "start_time": "2024-04-19T18:18:01.811Z"
   },
   {
    "duration": 5,
    "start_time": "2024-04-19T18:18:01.890Z"
   },
   {
    "duration": 69,
    "start_time": "2024-04-19T18:18:01.897Z"
   },
   {
    "duration": 5,
    "start_time": "2024-04-19T18:18:01.968Z"
   },
   {
    "duration": 84,
    "start_time": "2024-04-19T18:18:01.975Z"
   },
   {
    "duration": 4,
    "start_time": "2024-04-19T18:18:02.061Z"
   },
   {
    "duration": 14,
    "start_time": "2024-04-19T18:18:02.066Z"
   },
   {
    "duration": 34,
    "start_time": "2024-04-19T18:18:02.081Z"
   },
   {
    "duration": 31,
    "start_time": "2024-04-19T18:18:02.118Z"
   },
   {
    "duration": 45,
    "start_time": "2024-04-19T18:18:02.151Z"
   },
   {
    "duration": 16,
    "start_time": "2024-04-19T18:18:02.198Z"
   },
   {
    "duration": 60,
    "start_time": "2024-04-19T18:18:02.216Z"
   },
   {
    "duration": 15,
    "start_time": "2024-04-19T18:18:02.278Z"
   },
   {
    "duration": 13,
    "start_time": "2024-04-19T18:18:02.294Z"
   },
   {
    "duration": 11,
    "start_time": "2024-04-19T18:18:02.308Z"
   },
   {
    "duration": 24,
    "start_time": "2024-04-19T18:18:02.320Z"
   },
   {
    "duration": 24,
    "start_time": "2024-04-19T18:18:02.345Z"
   },
   {
    "duration": 17,
    "start_time": "2024-04-19T18:18:02.370Z"
   },
   {
    "duration": 19,
    "start_time": "2024-04-19T18:18:02.389Z"
   },
   {
    "duration": 26,
    "start_time": "2024-04-19T18:18:02.410Z"
   },
   {
    "duration": 167,
    "start_time": "2024-04-19T18:18:02.438Z"
   },
   {
    "duration": 8,
    "start_time": "2024-04-19T18:18:02.607Z"
   },
   {
    "duration": 114,
    "start_time": "2024-04-19T18:18:02.616Z"
   },
   {
    "duration": 7,
    "start_time": "2024-04-19T18:18:02.731Z"
   },
   {
    "duration": 9,
    "start_time": "2024-04-19T18:18:02.740Z"
   },
   {
    "duration": 4,
    "start_time": "2024-04-19T18:18:02.751Z"
   },
   {
    "duration": 8,
    "start_time": "2024-04-19T18:18:02.758Z"
   },
   {
    "duration": 322,
    "start_time": "2024-04-19T18:18:02.767Z"
   },
   {
    "duration": 219,
    "start_time": "2024-04-19T18:18:03.091Z"
   },
   {
    "duration": 316,
    "start_time": "2024-04-19T18:18:03.314Z"
   },
   {
    "duration": 223,
    "start_time": "2024-04-19T18:18:03.631Z"
   },
   {
    "duration": 267,
    "start_time": "2024-04-19T18:18:03.855Z"
   },
   {
    "duration": 6,
    "start_time": "2024-04-19T18:18:04.123Z"
   },
   {
    "duration": 165,
    "start_time": "2024-04-19T18:18:04.131Z"
   },
   {
    "duration": 5,
    "start_time": "2024-04-19T18:18:04.297Z"
   },
   {
    "duration": 339,
    "start_time": "2024-04-19T18:18:04.304Z"
   },
   {
    "duration": 5,
    "start_time": "2024-04-19T18:18:04.645Z"
   },
   {
    "duration": 12,
    "start_time": "2024-04-19T18:18:04.651Z"
   },
   {
    "duration": 13,
    "start_time": "2024-04-19T18:18:04.714Z"
   },
   {
    "duration": 13,
    "start_time": "2024-04-19T18:18:04.728Z"
   },
   {
    "duration": 80,
    "start_time": "2024-04-19T18:18:04.742Z"
   },
   {
    "duration": 17,
    "start_time": "2024-04-19T18:18:04.824Z"
   },
   {
    "duration": 10,
    "start_time": "2024-04-19T18:18:04.843Z"
   },
   {
    "duration": 81,
    "start_time": "2024-04-19T18:18:04.854Z"
   },
   {
    "duration": 14,
    "start_time": "2024-04-19T18:18:04.936Z"
   },
   {
    "duration": 62,
    "start_time": "2024-04-19T18:58:57.489Z"
   },
   {
    "duration": 1020,
    "start_time": "2024-04-19T18:59:03.954Z"
   },
   {
    "duration": 80,
    "start_time": "2024-04-19T18:59:04.976Z"
   },
   {
    "duration": 3,
    "start_time": "2024-04-19T18:59:05.058Z"
   },
   {
    "duration": 106,
    "start_time": "2024-04-19T18:59:05.063Z"
   },
   {
    "duration": 8,
    "start_time": "2024-04-19T18:59:05.172Z"
   },
   {
    "duration": 74,
    "start_time": "2024-04-19T18:59:05.181Z"
   },
   {
    "duration": 4,
    "start_time": "2024-04-19T18:59:05.256Z"
   },
   {
    "duration": 13,
    "start_time": "2024-04-19T18:59:05.261Z"
   },
   {
    "duration": 9,
    "start_time": "2024-04-19T18:59:05.276Z"
   },
   {
    "duration": 33,
    "start_time": "2024-04-19T18:59:05.287Z"
   },
   {
    "duration": 9,
    "start_time": "2024-04-19T18:59:05.321Z"
   },
   {
    "duration": 9,
    "start_time": "2024-04-19T18:59:05.331Z"
   },
   {
    "duration": 43,
    "start_time": "2024-04-19T18:59:05.341Z"
   },
   {
    "duration": 4,
    "start_time": "2024-04-19T18:59:05.414Z"
   },
   {
    "duration": 10,
    "start_time": "2024-04-19T18:59:05.419Z"
   },
   {
    "duration": 8,
    "start_time": "2024-04-19T18:59:05.431Z"
   },
   {
    "duration": 11,
    "start_time": "2024-04-19T18:59:05.441Z"
   },
   {
    "duration": 27,
    "start_time": "2024-04-19T18:59:05.454Z"
   },
   {
    "duration": 8,
    "start_time": "2024-04-19T18:59:05.482Z"
   },
   {
    "duration": 16,
    "start_time": "2024-04-19T18:59:05.491Z"
   },
   {
    "duration": 10,
    "start_time": "2024-04-19T18:59:05.509Z"
   },
   {
    "duration": 155,
    "start_time": "2024-04-19T18:59:05.521Z"
   },
   {
    "duration": 8,
    "start_time": "2024-04-19T18:59:05.678Z"
   },
   {
    "duration": 131,
    "start_time": "2024-04-19T18:59:05.687Z"
   },
   {
    "duration": 7,
    "start_time": "2024-04-19T18:59:05.820Z"
   },
   {
    "duration": 9,
    "start_time": "2024-04-19T18:59:05.829Z"
   },
   {
    "duration": 4,
    "start_time": "2024-04-19T18:59:05.839Z"
   },
   {
    "duration": 11,
    "start_time": "2024-04-19T18:59:05.844Z"
   },
   {
    "duration": 301,
    "start_time": "2024-04-19T18:59:05.857Z"
   },
   {
    "duration": 266,
    "start_time": "2024-04-19T18:59:06.160Z"
   },
   {
    "duration": 408,
    "start_time": "2024-04-19T18:59:06.427Z"
   },
   {
    "duration": 480,
    "start_time": "2024-04-19T18:59:06.837Z"
   },
   {
    "duration": 501,
    "start_time": "2024-04-19T18:59:07.318Z"
   },
   {
    "duration": 6,
    "start_time": "2024-04-19T18:59:07.820Z"
   },
   {
    "duration": 170,
    "start_time": "2024-04-19T18:59:07.827Z"
   },
   {
    "duration": 4,
    "start_time": "2024-04-19T18:59:07.999Z"
   },
   {
    "duration": 280,
    "start_time": "2024-04-19T18:59:08.005Z"
   },
   {
    "duration": 4,
    "start_time": "2024-04-19T18:59:08.287Z"
   },
   {
    "duration": 26,
    "start_time": "2024-04-19T18:59:08.293Z"
   },
   {
    "duration": 14,
    "start_time": "2024-04-19T18:59:08.321Z"
   },
   {
    "duration": 8,
    "start_time": "2024-04-19T18:59:08.339Z"
   },
   {
    "duration": 45,
    "start_time": "2024-04-19T18:59:08.348Z"
   },
   {
    "duration": 14,
    "start_time": "2024-04-19T18:59:08.394Z"
   },
   {
    "duration": 12,
    "start_time": "2024-04-19T18:59:08.409Z"
   },
   {
    "duration": 25,
    "start_time": "2024-04-19T18:59:08.423Z"
   },
   {
    "duration": 13,
    "start_time": "2024-04-19T18:59:08.449Z"
   },
   {
    "duration": 11,
    "start_time": "2024-04-19T18:59:12.441Z"
   },
   {
    "duration": 1067,
    "start_time": "2024-04-19T18:59:19.211Z"
   },
   {
    "duration": 84,
    "start_time": "2024-04-19T18:59:20.280Z"
   },
   {
    "duration": 5,
    "start_time": "2024-04-19T18:59:20.366Z"
   },
   {
    "duration": 144,
    "start_time": "2024-04-19T18:59:20.372Z"
   },
   {
    "duration": 6,
    "start_time": "2024-04-19T18:59:20.518Z"
   },
   {
    "duration": 112,
    "start_time": "2024-04-19T18:59:20.526Z"
   },
   {
    "duration": 3,
    "start_time": "2024-04-19T18:59:20.639Z"
   },
   {
    "duration": 7,
    "start_time": "2024-04-19T18:59:20.644Z"
   },
   {
    "duration": 62,
    "start_time": "2024-04-19T18:59:20.653Z"
   },
   {
    "duration": 12,
    "start_time": "2024-04-19T18:59:20.717Z"
   },
   {
    "duration": 8,
    "start_time": "2024-04-19T18:59:20.730Z"
   },
   {
    "duration": 8,
    "start_time": "2024-04-19T18:59:20.740Z"
   },
   {
    "duration": 89,
    "start_time": "2024-04-19T18:59:20.750Z"
   },
   {
    "duration": 4,
    "start_time": "2024-04-19T18:59:20.840Z"
   },
   {
    "duration": 16,
    "start_time": "2024-04-19T18:59:20.846Z"
   },
   {
    "duration": 58,
    "start_time": "2024-04-19T18:59:20.863Z"
   },
   {
    "duration": 8,
    "start_time": "2024-04-19T18:59:20.923Z"
   },
   {
    "duration": 19,
    "start_time": "2024-04-19T18:59:20.933Z"
   },
   {
    "duration": 8,
    "start_time": "2024-04-19T18:59:20.954Z"
   },
   {
    "duration": 56,
    "start_time": "2024-04-19T18:59:20.964Z"
   },
   {
    "duration": 6,
    "start_time": "2024-04-19T18:59:21.021Z"
   },
   {
    "duration": 320,
    "start_time": "2024-04-19T18:59:21.028Z"
   },
   {
    "duration": 9,
    "start_time": "2024-04-19T18:59:21.350Z"
   },
   {
    "duration": 265,
    "start_time": "2024-04-19T18:59:21.361Z"
   },
   {
    "duration": 7,
    "start_time": "2024-04-19T18:59:21.627Z"
   },
   {
    "duration": 13,
    "start_time": "2024-04-19T18:59:21.635Z"
   },
   {
    "duration": 4,
    "start_time": "2024-04-19T18:59:21.649Z"
   },
   {
    "duration": 7,
    "start_time": "2024-04-19T18:59:21.656Z"
   },
   {
    "duration": 455,
    "start_time": "2024-04-19T18:59:21.665Z"
   },
   {
    "duration": 207,
    "start_time": "2024-04-19T18:59:22.122Z"
   },
   {
    "duration": 292,
    "start_time": "2024-04-19T18:59:22.331Z"
   },
   {
    "duration": 244,
    "start_time": "2024-04-19T18:59:22.625Z"
   },
   {
    "duration": 298,
    "start_time": "2024-04-19T18:59:22.871Z"
   },
   {
    "duration": 6,
    "start_time": "2024-04-19T18:59:23.170Z"
   },
   {
    "duration": 160,
    "start_time": "2024-04-19T18:59:23.178Z"
   },
   {
    "duration": 4,
    "start_time": "2024-04-19T18:59:23.339Z"
   },
   {
    "duration": 270,
    "start_time": "2024-04-19T18:59:23.345Z"
   },
   {
    "duration": 4,
    "start_time": "2024-04-19T18:59:23.617Z"
   },
   {
    "duration": 8,
    "start_time": "2024-04-19T18:59:23.623Z"
   },
   {
    "duration": 11,
    "start_time": "2024-04-19T18:59:23.633Z"
   },
   {
    "duration": 8,
    "start_time": "2024-04-19T18:59:23.645Z"
   },
   {
    "duration": 26,
    "start_time": "2024-04-19T18:59:23.654Z"
   },
   {
    "duration": 43,
    "start_time": "2024-04-19T18:59:23.682Z"
   },
   {
    "duration": 10,
    "start_time": "2024-04-19T18:59:23.727Z"
   },
   {
    "duration": 25,
    "start_time": "2024-04-19T18:59:23.738Z"
   },
   {
    "duration": 13,
    "start_time": "2024-04-19T18:59:23.765Z"
   },
   {
    "duration": 1128,
    "start_time": "2024-04-19T19:19:03.956Z"
   },
   {
    "duration": 77,
    "start_time": "2024-04-19T19:19:05.086Z"
   },
   {
    "duration": 5,
    "start_time": "2024-04-19T19:19:05.165Z"
   },
   {
    "duration": 54,
    "start_time": "2024-04-19T19:19:05.171Z"
   },
   {
    "duration": 4,
    "start_time": "2024-04-19T19:19:05.227Z"
   },
   {
    "duration": 60,
    "start_time": "2024-04-19T19:19:05.232Z"
   },
   {
    "duration": 2,
    "start_time": "2024-04-19T19:19:05.294Z"
   },
   {
    "duration": 15,
    "start_time": "2024-04-19T19:19:05.298Z"
   },
   {
    "duration": 18,
    "start_time": "2024-04-19T19:19:05.314Z"
   },
   {
    "duration": 12,
    "start_time": "2024-04-19T19:19:05.344Z"
   },
   {
    "duration": 14,
    "start_time": "2024-04-19T19:19:05.357Z"
   },
   {
    "duration": 8,
    "start_time": "2024-04-19T19:19:05.373Z"
   },
   {
    "duration": 33,
    "start_time": "2024-04-19T19:19:05.382Z"
   },
   {
    "duration": 29,
    "start_time": "2024-04-19T19:19:05.417Z"
   },
   {
    "duration": 13,
    "start_time": "2024-04-19T19:19:05.447Z"
   },
   {
    "duration": 21,
    "start_time": "2024-04-19T19:19:05.461Z"
   },
   {
    "duration": 14,
    "start_time": "2024-04-19T19:19:05.483Z"
   },
   {
    "duration": 12,
    "start_time": "2024-04-19T19:19:05.499Z"
   },
   {
    "duration": 12,
    "start_time": "2024-04-19T19:19:05.512Z"
   },
   {
    "duration": 20,
    "start_time": "2024-04-19T19:19:05.525Z"
   },
   {
    "duration": 12,
    "start_time": "2024-04-19T19:19:05.547Z"
   },
   {
    "duration": 166,
    "start_time": "2024-04-19T19:19:05.561Z"
   },
   {
    "duration": 7,
    "start_time": "2024-04-19T19:19:05.729Z"
   },
   {
    "duration": 141,
    "start_time": "2024-04-19T19:19:05.737Z"
   },
   {
    "duration": 8,
    "start_time": "2024-04-19T19:19:05.880Z"
   },
   {
    "duration": 33,
    "start_time": "2024-04-19T19:19:05.889Z"
   },
   {
    "duration": 10,
    "start_time": "2024-04-19T19:19:05.924Z"
   },
   {
    "duration": 12,
    "start_time": "2024-04-19T19:19:05.937Z"
   },
   {
    "duration": 286,
    "start_time": "2024-04-19T19:19:05.950Z"
   },
   {
    "duration": 214,
    "start_time": "2024-04-19T19:19:06.237Z"
   },
   {
    "duration": 297,
    "start_time": "2024-04-19T19:19:06.452Z"
   },
   {
    "duration": 219,
    "start_time": "2024-04-19T19:19:06.750Z"
   },
   {
    "duration": 310,
    "start_time": "2024-04-19T19:19:06.970Z"
   },
   {
    "duration": 8,
    "start_time": "2024-04-19T19:19:07.281Z"
   },
   {
    "duration": 159,
    "start_time": "2024-04-19T19:19:07.291Z"
   },
   {
    "duration": 4,
    "start_time": "2024-04-19T19:19:07.452Z"
   },
   {
    "duration": 293,
    "start_time": "2024-04-19T19:19:07.457Z"
   },
   {
    "duration": 4,
    "start_time": "2024-04-19T19:19:07.751Z"
   },
   {
    "duration": 9,
    "start_time": "2024-04-19T19:19:07.756Z"
   },
   {
    "duration": 11,
    "start_time": "2024-04-19T19:19:07.767Z"
   },
   {
    "duration": 9,
    "start_time": "2024-04-19T19:19:07.780Z"
   },
   {
    "duration": 25,
    "start_time": "2024-04-19T19:19:07.790Z"
   },
   {
    "duration": 38,
    "start_time": "2024-04-19T19:19:07.817Z"
   },
   {
    "duration": 10,
    "start_time": "2024-04-19T19:19:07.857Z"
   },
   {
    "duration": 28,
    "start_time": "2024-04-19T19:19:07.869Z"
   },
   {
    "duration": 13,
    "start_time": "2024-04-19T19:19:07.899Z"
   },
   {
    "duration": 45,
    "start_time": "2024-04-20T05:31:56.805Z"
   },
   {
    "duration": 1263,
    "start_time": "2024-04-20T05:32:01.148Z"
   },
   {
    "duration": 209,
    "start_time": "2024-04-20T05:32:02.413Z"
   },
   {
    "duration": 4,
    "start_time": "2024-04-20T05:32:02.624Z"
   },
   {
    "duration": 144,
    "start_time": "2024-04-20T05:32:02.629Z"
   },
   {
    "duration": 6,
    "start_time": "2024-04-20T05:32:02.776Z"
   },
   {
    "duration": 83,
    "start_time": "2024-04-20T05:32:02.784Z"
   },
   {
    "duration": 4,
    "start_time": "2024-04-20T05:32:02.869Z"
   },
   {
    "duration": 7,
    "start_time": "2024-04-20T05:32:02.874Z"
   },
   {
    "duration": 11,
    "start_time": "2024-04-20T05:32:02.882Z"
   },
   {
    "duration": 27,
    "start_time": "2024-04-20T05:32:02.894Z"
   },
   {
    "duration": 39,
    "start_time": "2024-04-20T05:32:02.923Z"
   },
   {
    "duration": 11,
    "start_time": "2024-04-20T05:32:02.963Z"
   },
   {
    "duration": 38,
    "start_time": "2024-04-20T05:32:02.976Z"
   },
   {
    "duration": 4,
    "start_time": "2024-04-20T05:32:03.017Z"
   },
   {
    "duration": 36,
    "start_time": "2024-04-20T05:32:03.023Z"
   },
   {
    "duration": 8,
    "start_time": "2024-04-20T05:32:03.061Z"
   },
   {
    "duration": 27,
    "start_time": "2024-04-20T05:32:03.071Z"
   },
   {
    "duration": 20,
    "start_time": "2024-04-20T05:32:03.100Z"
   },
   {
    "duration": 17,
    "start_time": "2024-04-20T05:32:03.122Z"
   },
   {
    "duration": 25,
    "start_time": "2024-04-20T05:32:03.142Z"
   },
   {
    "duration": 8,
    "start_time": "2024-04-20T05:32:03.168Z"
   },
   {
    "duration": 146,
    "start_time": "2024-04-20T05:32:03.178Z"
   },
   {
    "duration": 7,
    "start_time": "2024-04-20T05:32:03.326Z"
   },
   {
    "duration": 123,
    "start_time": "2024-04-20T05:32:03.335Z"
   },
   {
    "duration": 8,
    "start_time": "2024-04-20T05:32:03.460Z"
   },
   {
    "duration": 26,
    "start_time": "2024-04-20T05:32:03.470Z"
   },
   {
    "duration": 7,
    "start_time": "2024-04-20T05:32:03.497Z"
   },
   {
    "duration": 11,
    "start_time": "2024-04-20T05:32:03.506Z"
   },
   {
    "duration": 288,
    "start_time": "2024-04-20T05:32:03.519Z"
   },
   {
    "duration": 211,
    "start_time": "2024-04-20T05:32:03.808Z"
   },
   {
    "duration": 370,
    "start_time": "2024-04-20T05:32:04.020Z"
   },
   {
    "duration": 223,
    "start_time": "2024-04-20T05:32:04.392Z"
   },
   {
    "duration": 288,
    "start_time": "2024-04-20T05:32:04.617Z"
   },
   {
    "duration": 5,
    "start_time": "2024-04-20T05:32:04.907Z"
   },
   {
    "duration": 151,
    "start_time": "2024-04-20T05:32:04.914Z"
   },
   {
    "duration": 5,
    "start_time": "2024-04-20T05:32:05.066Z"
   },
   {
    "duration": 269,
    "start_time": "2024-04-20T05:32:05.072Z"
   },
   {
    "duration": 4,
    "start_time": "2024-04-20T05:32:05.342Z"
   },
   {
    "duration": 7,
    "start_time": "2024-04-20T05:32:05.359Z"
   },
   {
    "duration": 11,
    "start_time": "2024-04-20T05:32:05.368Z"
   },
   {
    "duration": 16,
    "start_time": "2024-04-20T05:32:05.382Z"
   },
   {
    "duration": 53,
    "start_time": "2024-04-20T05:32:05.400Z"
   },
   {
    "duration": 17,
    "start_time": "2024-04-20T05:32:05.455Z"
   },
   {
    "duration": 18,
    "start_time": "2024-04-20T05:32:05.474Z"
   },
   {
    "duration": 34,
    "start_time": "2024-04-20T05:32:05.494Z"
   },
   {
    "duration": 19,
    "start_time": "2024-04-20T05:32:05.530Z"
   },
   {
    "duration": 18,
    "start_time": "2024-04-20T05:40:13.984Z"
   },
   {
    "duration": 1485,
    "start_time": "2024-04-20T05:40:27.668Z"
   },
   {
    "duration": 8,
    "start_time": "2024-04-20T05:40:31.296Z"
   },
   {
    "duration": 3,
    "start_time": "2024-04-20T05:45:47.869Z"
   },
   {
    "duration": 8,
    "start_time": "2024-04-20T05:45:55.518Z"
   },
   {
    "duration": 6,
    "start_time": "2024-04-20T05:46:13.897Z"
   },
   {
    "duration": 207,
    "start_time": "2024-04-20T05:47:49.634Z"
   },
   {
    "duration": 261,
    "start_time": "2024-04-20T05:48:24.752Z"
   },
   {
    "duration": 263,
    "start_time": "2024-04-20T05:48:30.076Z"
   },
   {
    "duration": 192,
    "start_time": "2024-04-20T05:48:36.143Z"
   },
   {
    "duration": 259,
    "start_time": "2024-04-20T05:48:41.204Z"
   },
   {
    "duration": 136,
    "start_time": "2024-04-20T05:48:47.015Z"
   },
   {
    "duration": 5,
    "start_time": "2024-04-20T05:51:53.762Z"
   },
   {
    "duration": 4,
    "start_time": "2024-04-20T05:51:56.318Z"
   },
   {
    "duration": 73,
    "start_time": "2024-04-20T05:52:13.461Z"
   },
   {
    "duration": 3,
    "start_time": "2024-04-20T05:53:32.384Z"
   },
   {
    "duration": 10,
    "start_time": "2024-04-20T05:53:46.073Z"
   },
   {
    "duration": 7,
    "start_time": "2024-04-20T06:00:51.061Z"
   },
   {
    "duration": 4,
    "start_time": "2024-04-20T06:00:54.845Z"
   },
   {
    "duration": 4,
    "start_time": "2024-04-20T06:00:59.054Z"
   },
   {
    "duration": 4,
    "start_time": "2024-04-20T06:01:07.099Z"
   },
   {
    "duration": 1135,
    "start_time": "2024-04-20T06:01:58.888Z"
   },
   {
    "duration": 74,
    "start_time": "2024-04-20T06:02:00.025Z"
   },
   {
    "duration": 6,
    "start_time": "2024-04-20T06:02:00.101Z"
   },
   {
    "duration": 217,
    "start_time": "2024-04-20T06:02:00.109Z"
   },
   {
    "duration": 10,
    "start_time": "2024-04-20T06:02:00.328Z"
   },
   {
    "duration": 127,
    "start_time": "2024-04-20T06:02:00.340Z"
   },
   {
    "duration": 108,
    "start_time": "2024-04-20T06:02:00.468Z"
   },
   {
    "duration": 114,
    "start_time": "2024-04-20T06:02:00.578Z"
   },
   {
    "duration": 85,
    "start_time": "2024-04-20T06:02:00.694Z"
   },
   {
    "duration": 47,
    "start_time": "2024-04-20T06:02:00.781Z"
   },
   {
    "duration": 52,
    "start_time": "2024-04-20T06:02:00.830Z"
   },
   {
    "duration": 92,
    "start_time": "2024-04-20T06:02:00.884Z"
   },
   {
    "duration": 99,
    "start_time": "2024-04-20T06:02:00.977Z"
   },
   {
    "duration": 31,
    "start_time": "2024-04-20T06:02:01.078Z"
   },
   {
    "duration": 48,
    "start_time": "2024-04-20T06:02:01.111Z"
   },
   {
    "duration": 46,
    "start_time": "2024-04-20T06:02:01.160Z"
   },
   {
    "duration": 47,
    "start_time": "2024-04-20T06:02:01.208Z"
   },
   {
    "duration": 33,
    "start_time": "2024-04-20T06:02:01.256Z"
   },
   {
    "duration": 55,
    "start_time": "2024-04-20T06:02:01.290Z"
   },
   {
    "duration": 51,
    "start_time": "2024-04-20T06:02:01.347Z"
   },
   {
    "duration": 49,
    "start_time": "2024-04-20T06:02:01.400Z"
   },
   {
    "duration": 190,
    "start_time": "2024-04-20T06:02:01.450Z"
   },
   {
    "duration": 7,
    "start_time": "2024-04-20T06:02:01.641Z"
   },
   {
    "duration": 223,
    "start_time": "2024-04-20T06:02:01.650Z"
   },
   {
    "duration": 6,
    "start_time": "2024-04-20T06:02:01.875Z"
   },
   {
    "duration": 44,
    "start_time": "2024-04-20T06:02:01.883Z"
   },
   {
    "duration": 35,
    "start_time": "2024-04-20T06:02:01.929Z"
   },
   {
    "duration": 44,
    "start_time": "2024-04-20T06:02:01.969Z"
   },
   {
    "duration": 33,
    "start_time": "2024-04-20T06:02:02.015Z"
   },
   {
    "duration": 46,
    "start_time": "2024-04-20T06:02:02.050Z"
   },
   {
    "duration": 316,
    "start_time": "2024-04-20T06:02:02.097Z"
   },
   {
    "duration": 212,
    "start_time": "2024-04-20T06:02:02.415Z"
   },
   {
    "duration": 314,
    "start_time": "2024-04-20T06:02:02.628Z"
   },
   {
    "duration": 212,
    "start_time": "2024-04-20T06:02:02.943Z"
   },
   {
    "duration": 321,
    "start_time": "2024-04-20T06:02:03.156Z"
   },
   {
    "duration": 8,
    "start_time": "2024-04-20T06:02:03.479Z"
   },
   {
    "duration": 171,
    "start_time": "2024-04-20T06:02:03.489Z"
   },
   {
    "duration": 5,
    "start_time": "2024-04-20T06:02:03.662Z"
   },
   {
    "duration": 8,
    "start_time": "2024-04-20T06:02:03.668Z"
   },
   {
    "duration": 310,
    "start_time": "2024-04-20T06:02:03.677Z"
   },
   {
    "duration": 9,
    "start_time": "2024-04-20T06:02:03.989Z"
   },
   {
    "duration": 28,
    "start_time": "2024-04-20T06:02:04.000Z"
   },
   {
    "duration": 37,
    "start_time": "2024-04-20T06:02:04.030Z"
   },
   {
    "duration": 15,
    "start_time": "2024-04-20T06:02:04.070Z"
   },
   {
    "duration": 49,
    "start_time": "2024-04-20T06:02:04.087Z"
   },
   {
    "duration": 16,
    "start_time": "2024-04-20T06:02:04.138Z"
   },
   {
    "duration": 52,
    "start_time": "2024-04-20T06:02:04.155Z"
   },
   {
    "duration": 47,
    "start_time": "2024-04-20T06:02:04.209Z"
   },
   {
    "duration": 15,
    "start_time": "2024-04-20T06:02:04.258Z"
   },
   {
    "duration": 1181,
    "start_time": "2024-04-20T08:13:18.799Z"
   },
   {
    "duration": 211,
    "start_time": "2024-04-20T08:13:19.982Z"
   },
   {
    "duration": 6,
    "start_time": "2024-04-20T08:13:20.195Z"
   },
   {
    "duration": 76,
    "start_time": "2024-04-20T08:13:20.203Z"
   },
   {
    "duration": 5,
    "start_time": "2024-04-20T08:13:20.281Z"
   },
   {
    "duration": 74,
    "start_time": "2024-04-20T08:13:20.287Z"
   },
   {
    "duration": 19,
    "start_time": "2024-04-20T08:13:20.363Z"
   },
   {
    "duration": 24,
    "start_time": "2024-04-20T08:13:20.384Z"
   },
   {
    "duration": 35,
    "start_time": "2024-04-20T08:13:20.410Z"
   },
   {
    "duration": 38,
    "start_time": "2024-04-20T08:13:20.448Z"
   },
   {
    "duration": 12,
    "start_time": "2024-04-20T08:13:20.488Z"
   },
   {
    "duration": 19,
    "start_time": "2024-04-20T08:13:20.501Z"
   },
   {
    "duration": 69,
    "start_time": "2024-04-20T08:13:20.522Z"
   },
   {
    "duration": 5,
    "start_time": "2024-04-20T08:13:20.593Z"
   },
   {
    "duration": 21,
    "start_time": "2024-04-20T08:13:20.599Z"
   },
   {
    "duration": 35,
    "start_time": "2024-04-20T08:13:20.622Z"
   },
   {
    "duration": 13,
    "start_time": "2024-04-20T08:13:20.658Z"
   },
   {
    "duration": 32,
    "start_time": "2024-04-20T08:13:20.673Z"
   },
   {
    "duration": 14,
    "start_time": "2024-04-20T08:13:20.706Z"
   },
   {
    "duration": 20,
    "start_time": "2024-04-20T08:13:20.722Z"
   },
   {
    "duration": 53,
    "start_time": "2024-04-20T08:13:20.744Z"
   },
   {
    "duration": 216,
    "start_time": "2024-04-20T08:13:20.799Z"
   },
   {
    "duration": 10,
    "start_time": "2024-04-20T08:13:21.016Z"
   },
   {
    "duration": 132,
    "start_time": "2024-04-20T08:13:21.027Z"
   },
   {
    "duration": 8,
    "start_time": "2024-04-20T08:13:21.161Z"
   },
   {
    "duration": 24,
    "start_time": "2024-04-20T08:13:21.179Z"
   },
   {
    "duration": 9,
    "start_time": "2024-04-20T08:13:21.206Z"
   },
   {
    "duration": 23,
    "start_time": "2024-04-20T08:13:21.219Z"
   },
   {
    "duration": 12,
    "start_time": "2024-04-20T08:13:21.244Z"
   },
   {
    "duration": 16,
    "start_time": "2024-04-20T08:13:21.258Z"
   },
   {
    "duration": 330,
    "start_time": "2024-04-20T08:13:21.275Z"
   },
   {
    "duration": 238,
    "start_time": "2024-04-20T08:13:21.607Z"
   },
   {
    "duration": 333,
    "start_time": "2024-04-20T08:13:21.847Z"
   },
   {
    "duration": 251,
    "start_time": "2024-04-20T08:13:22.182Z"
   },
   {
    "duration": 318,
    "start_time": "2024-04-20T08:13:22.435Z"
   },
   {
    "duration": 8,
    "start_time": "2024-04-20T08:13:22.755Z"
   },
   {
    "duration": 184,
    "start_time": "2024-04-20T08:13:22.765Z"
   },
   {
    "duration": 6,
    "start_time": "2024-04-20T08:13:22.950Z"
   },
   {
    "duration": 5,
    "start_time": "2024-04-20T08:13:22.959Z"
   },
   {
    "duration": 319,
    "start_time": "2024-04-20T08:13:22.981Z"
   },
   {
    "duration": 5,
    "start_time": "2024-04-20T08:13:23.302Z"
   },
   {
    "duration": 30,
    "start_time": "2024-04-20T08:13:23.309Z"
   },
   {
    "duration": 28,
    "start_time": "2024-04-20T08:13:23.340Z"
   },
   {
    "duration": 16,
    "start_time": "2024-04-20T08:13:23.370Z"
   },
   {
    "duration": 51,
    "start_time": "2024-04-20T08:13:23.388Z"
   },
   {
    "duration": 15,
    "start_time": "2024-04-20T08:13:23.441Z"
   },
   {
    "duration": 16,
    "start_time": "2024-04-20T08:13:23.457Z"
   },
   {
    "duration": 52,
    "start_time": "2024-04-20T08:13:23.475Z"
   },
   {
    "duration": 17,
    "start_time": "2024-04-20T08:13:23.528Z"
   }
  ],
  "kernelspec": {
   "display_name": "Python 3 (ipykernel)",
   "language": "python",
   "name": "python3"
  },
  "language_info": {
   "codemirror_mode": {
    "name": "ipython",
    "version": 3
   },
   "file_extension": ".py",
   "mimetype": "text/x-python",
   "name": "python",
   "nbconvert_exporter": "python",
   "pygments_lexer": "ipython3",
   "version": "3.12.4"
  },
  "toc": {
   "base_numbering": 1,
   "nav_menu": {},
   "number_sections": true,
   "sideBar": true,
   "skip_h1_title": true,
   "title_cell": "Table of Contents",
   "title_sidebar": "Contents",
   "toc_cell": false,
   "toc_position": {
    "height": "calc(100% - 180px)",
    "left": "10px",
    "top": "150px",
    "width": "560.625px"
   },
   "toc_section_display": true,
   "toc_window_display": true
  }
 },
 "nbformat": 4,
 "nbformat_minor": 4
}
