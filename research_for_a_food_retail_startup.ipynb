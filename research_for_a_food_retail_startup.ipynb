{
 "cells": [
  {
   "cell_type": "markdown",
   "metadata": {},
   "source": [
    "# Исследование для стартапа по продаже продуктов питания"
   ]
  },
  {
   "cell_type": "markdown",
   "metadata": {},
   "source": [
    "## Введение"
   ]
  },
  {
   "cell_type": "markdown",
   "metadata": {},
   "source": [
    "В данной работе предстоит разобраться, как ведут себя пользователи мобильного приложения стартапа по продаже продуктов питания.\n",
    "\n",
    "В исследовании предстоит работа с логом пользователей. Каждая запись в логе — это действие пользователя, или событие. Таблица содержит следующие данные:\n",
    "\n",
    "- `EventName` — название события;\n",
    "- `DeviceIDHash` — уникальный идентификатор пользователя;\n",
    "- `EventTimestamp` — время события;\n",
    "- `ExpId` — номер эксперимента: 246 и 247 — контрольные группы, а 248 — экспериментальная.\n",
    "\n",
    "Для проведения анализа необходимо выполнить следующие этапы:\n",
    "\n",
    "- выполнить предобработку данных: установить корректный тип данных и стиль оформления названий столбцов, провести проверку на пропуски и дубликаты;\n",
    "- добавить новые столбцы в исходный датафрейм: с датой и временем, а также отдельный столбец дат;\n",
    "- выполнить исследование и проверку данных;\n",
    "- построить и изучить воронку событий;\n",
    "- исследовать результаты A/A/B теста.\n",
    "\n",
    "Дизайнеры захотели поменять шрифты во всём приложении, есть опасения, что пользователям будет непривычно. Необходимо принять решение по результатам A/A/B-теста. Пользователей разбили на 3 группы: 2 контрольные со старыми шрифтами и одну экспериментальную — с новыми. Нужно выяснить, какой шрифт лучше.\n",
    "\n",
    "Приступим к анализу:"
   ]
  },
  {
   "cell_type": "markdown",
   "metadata": {},
   "source": [
    "### Загрузка данных и их подготовка к анализу"
   ]
  },
  {
   "cell_type": "code",
   "execution_count": 5,
   "metadata": {},
   "outputs": [],
   "source": [
    "# импорт библиотек\n",
    "\n",
    "import pandas as pd\n",
    "from datetime import datetime\n",
    "import matplotlib.pyplot as plt\n",
    "import scipy.stats as st\n",
    "import math as mth\n",
    "import plotly.express as px\n",
    "import warnings\n",
    "warnings.simplefilter(\"ignore\")"
   ]
  },
  {
   "cell_type": "markdown",
   "metadata": {},
   "source": [
    "Запишем данные от компании в датафрейм `logs` и подготовим их к анализу."
   ]
  },
  {
   "cell_type": "code",
   "execution_count": 7,
   "metadata": {},
   "outputs": [],
   "source": [
    "# считываем данные в датафрейм\n",
    "\n",
    "logs = pd.read_csv('C:/Users/Кристина/Desktop/Шпаргалки/Проекты/logs_exp.csv', sep='\\t')"
   ]
  },
  {
   "cell_type": "code",
   "execution_count": 8,
   "metadata": {},
   "outputs": [],
   "source": [
    "# создадим функцию для первичной обработки данных (вывод общей информации)\n",
    "\n",
    "def research(data):\n",
    "    display(data.head(10))                                       # вывод первых строк датафрейма\n",
    "    print('*' * 50)                                              # разделитель\n",
    "    data.info()                                                  # вывод общей информации о датафрейме\n",
    "    print('*' * 50, '\\n\\033[1m Количество полных дублей: \\033[0m', \n",
    "            data.duplicated().sum())                             # проверка на полные дубликаты\n",
    "    print('*' * 50)\n",
    "    display(data.describe())                                     # описание распределения численных значений\n",
    "    print('*' * 50)\n",
    "    \n",
    "    for x in data.columns:\n",
    "        display(data[x].value_counts().to_frame())               # распределение значений в каждом столбце"
   ]
  },
  {
   "cell_type": "code",
   "execution_count": 9,
   "metadata": {},
   "outputs": [
    {
     "data": {
      "text/html": [
       "<div>\n",
       "<style scoped>\n",
       "    .dataframe tbody tr th:only-of-type {\n",
       "        vertical-align: middle;\n",
       "    }\n",
       "\n",
       "    .dataframe tbody tr th {\n",
       "        vertical-align: top;\n",
       "    }\n",
       "\n",
       "    .dataframe thead th {\n",
       "        text-align: right;\n",
       "    }\n",
       "</style>\n",
       "<table border=\"1\" class=\"dataframe\">\n",
       "  <thead>\n",
       "    <tr style=\"text-align: right;\">\n",
       "      <th></th>\n",
       "      <th>EventName</th>\n",
       "      <th>DeviceIDHash</th>\n",
       "      <th>EventTimestamp</th>\n",
       "      <th>ExpId</th>\n",
       "    </tr>\n",
       "  </thead>\n",
       "  <tbody>\n",
       "    <tr>\n",
       "      <th>0</th>\n",
       "      <td>MainScreenAppear</td>\n",
       "      <td>4575588528974610257</td>\n",
       "      <td>1564029816</td>\n",
       "      <td>246</td>\n",
       "    </tr>\n",
       "    <tr>\n",
       "      <th>1</th>\n",
       "      <td>MainScreenAppear</td>\n",
       "      <td>7416695313311560658</td>\n",
       "      <td>1564053102</td>\n",
       "      <td>246</td>\n",
       "    </tr>\n",
       "    <tr>\n",
       "      <th>2</th>\n",
       "      <td>PaymentScreenSuccessful</td>\n",
       "      <td>3518123091307005509</td>\n",
       "      <td>1564054127</td>\n",
       "      <td>248</td>\n",
       "    </tr>\n",
       "    <tr>\n",
       "      <th>3</th>\n",
       "      <td>CartScreenAppear</td>\n",
       "      <td>3518123091307005509</td>\n",
       "      <td>1564054127</td>\n",
       "      <td>248</td>\n",
       "    </tr>\n",
       "    <tr>\n",
       "      <th>4</th>\n",
       "      <td>PaymentScreenSuccessful</td>\n",
       "      <td>6217807653094995999</td>\n",
       "      <td>1564055322</td>\n",
       "      <td>248</td>\n",
       "    </tr>\n",
       "    <tr>\n",
       "      <th>5</th>\n",
       "      <td>CartScreenAppear</td>\n",
       "      <td>6217807653094995999</td>\n",
       "      <td>1564055323</td>\n",
       "      <td>248</td>\n",
       "    </tr>\n",
       "    <tr>\n",
       "      <th>6</th>\n",
       "      <td>OffersScreenAppear</td>\n",
       "      <td>8351860793733343758</td>\n",
       "      <td>1564066242</td>\n",
       "      <td>246</td>\n",
       "    </tr>\n",
       "    <tr>\n",
       "      <th>7</th>\n",
       "      <td>MainScreenAppear</td>\n",
       "      <td>5682100281902512875</td>\n",
       "      <td>1564085677</td>\n",
       "      <td>246</td>\n",
       "    </tr>\n",
       "    <tr>\n",
       "      <th>8</th>\n",
       "      <td>MainScreenAppear</td>\n",
       "      <td>1850981295691852772</td>\n",
       "      <td>1564086702</td>\n",
       "      <td>247</td>\n",
       "    </tr>\n",
       "    <tr>\n",
       "      <th>9</th>\n",
       "      <td>MainScreenAppear</td>\n",
       "      <td>5407636962369102641</td>\n",
       "      <td>1564112112</td>\n",
       "      <td>246</td>\n",
       "    </tr>\n",
       "  </tbody>\n",
       "</table>\n",
       "</div>"
      ],
      "text/plain": [
       "                 EventName         DeviceIDHash  EventTimestamp  ExpId\n",
       "0         MainScreenAppear  4575588528974610257      1564029816    246\n",
       "1         MainScreenAppear  7416695313311560658      1564053102    246\n",
       "2  PaymentScreenSuccessful  3518123091307005509      1564054127    248\n",
       "3         CartScreenAppear  3518123091307005509      1564054127    248\n",
       "4  PaymentScreenSuccessful  6217807653094995999      1564055322    248\n",
       "5         CartScreenAppear  6217807653094995999      1564055323    248\n",
       "6       OffersScreenAppear  8351860793733343758      1564066242    246\n",
       "7         MainScreenAppear  5682100281902512875      1564085677    246\n",
       "8         MainScreenAppear  1850981295691852772      1564086702    247\n",
       "9         MainScreenAppear  5407636962369102641      1564112112    246"
      ]
     },
     "metadata": {},
     "output_type": "display_data"
    },
    {
     "name": "stdout",
     "output_type": "stream",
     "text": [
      "**************************************************\n",
      "<class 'pandas.core.frame.DataFrame'>\n",
      "RangeIndex: 244126 entries, 0 to 244125\n",
      "Data columns (total 4 columns):\n",
      " #   Column          Non-Null Count   Dtype \n",
      "---  ------          --------------   ----- \n",
      " 0   EventName       244126 non-null  object\n",
      " 1   DeviceIDHash    244126 non-null  int64 \n",
      " 2   EventTimestamp  244126 non-null  int64 \n",
      " 3   ExpId           244126 non-null  int64 \n",
      "dtypes: int64(3), object(1)\n",
      "memory usage: 7.5+ MB\n",
      "************************************************** \n",
      "\u001b[1m Количество полных дублей: \u001b[0m 413\n",
      "**************************************************\n"
     ]
    },
    {
     "data": {
      "text/html": [
       "<div>\n",
       "<style scoped>\n",
       "    .dataframe tbody tr th:only-of-type {\n",
       "        vertical-align: middle;\n",
       "    }\n",
       "\n",
       "    .dataframe tbody tr th {\n",
       "        vertical-align: top;\n",
       "    }\n",
       "\n",
       "    .dataframe thead th {\n",
       "        text-align: right;\n",
       "    }\n",
       "</style>\n",
       "<table border=\"1\" class=\"dataframe\">\n",
       "  <thead>\n",
       "    <tr style=\"text-align: right;\">\n",
       "      <th></th>\n",
       "      <th>DeviceIDHash</th>\n",
       "      <th>EventTimestamp</th>\n",
       "      <th>ExpId</th>\n",
       "    </tr>\n",
       "  </thead>\n",
       "  <tbody>\n",
       "    <tr>\n",
       "      <th>count</th>\n",
       "      <td>2.441260e+05</td>\n",
       "      <td>2.441260e+05</td>\n",
       "      <td>244126.000000</td>\n",
       "    </tr>\n",
       "    <tr>\n",
       "      <th>mean</th>\n",
       "      <td>4.627568e+18</td>\n",
       "      <td>1.564914e+09</td>\n",
       "      <td>247.022296</td>\n",
       "    </tr>\n",
       "    <tr>\n",
       "      <th>std</th>\n",
       "      <td>2.642425e+18</td>\n",
       "      <td>1.771343e+05</td>\n",
       "      <td>0.824434</td>\n",
       "    </tr>\n",
       "    <tr>\n",
       "      <th>min</th>\n",
       "      <td>6.888747e+15</td>\n",
       "      <td>1.564030e+09</td>\n",
       "      <td>246.000000</td>\n",
       "    </tr>\n",
       "    <tr>\n",
       "      <th>25%</th>\n",
       "      <td>2.372212e+18</td>\n",
       "      <td>1.564757e+09</td>\n",
       "      <td>246.000000</td>\n",
       "    </tr>\n",
       "    <tr>\n",
       "      <th>50%</th>\n",
       "      <td>4.623192e+18</td>\n",
       "      <td>1.564919e+09</td>\n",
       "      <td>247.000000</td>\n",
       "    </tr>\n",
       "    <tr>\n",
       "      <th>75%</th>\n",
       "      <td>6.932517e+18</td>\n",
       "      <td>1.565075e+09</td>\n",
       "      <td>248.000000</td>\n",
       "    </tr>\n",
       "    <tr>\n",
       "      <th>max</th>\n",
       "      <td>9.222603e+18</td>\n",
       "      <td>1.565213e+09</td>\n",
       "      <td>248.000000</td>\n",
       "    </tr>\n",
       "  </tbody>\n",
       "</table>\n",
       "</div>"
      ],
      "text/plain": [
       "       DeviceIDHash  EventTimestamp          ExpId\n",
       "count  2.441260e+05    2.441260e+05  244126.000000\n",
       "mean   4.627568e+18    1.564914e+09     247.022296\n",
       "std    2.642425e+18    1.771343e+05       0.824434\n",
       "min    6.888747e+15    1.564030e+09     246.000000\n",
       "25%    2.372212e+18    1.564757e+09     246.000000\n",
       "50%    4.623192e+18    1.564919e+09     247.000000\n",
       "75%    6.932517e+18    1.565075e+09     248.000000\n",
       "max    9.222603e+18    1.565213e+09     248.000000"
      ]
     },
     "metadata": {},
     "output_type": "display_data"
    },
    {
     "name": "stdout",
     "output_type": "stream",
     "text": [
      "**************************************************\n"
     ]
    },
    {
     "data": {
      "text/html": [
       "<div>\n",
       "<style scoped>\n",
       "    .dataframe tbody tr th:only-of-type {\n",
       "        vertical-align: middle;\n",
       "    }\n",
       "\n",
       "    .dataframe tbody tr th {\n",
       "        vertical-align: top;\n",
       "    }\n",
       "\n",
       "    .dataframe thead th {\n",
       "        text-align: right;\n",
       "    }\n",
       "</style>\n",
       "<table border=\"1\" class=\"dataframe\">\n",
       "  <thead>\n",
       "    <tr style=\"text-align: right;\">\n",
       "      <th></th>\n",
       "      <th>count</th>\n",
       "    </tr>\n",
       "    <tr>\n",
       "      <th>EventName</th>\n",
       "      <th></th>\n",
       "    </tr>\n",
       "  </thead>\n",
       "  <tbody>\n",
       "    <tr>\n",
       "      <th>MainScreenAppear</th>\n",
       "      <td>119205</td>\n",
       "    </tr>\n",
       "    <tr>\n",
       "      <th>OffersScreenAppear</th>\n",
       "      <td>46825</td>\n",
       "    </tr>\n",
       "    <tr>\n",
       "      <th>CartScreenAppear</th>\n",
       "      <td>42731</td>\n",
       "    </tr>\n",
       "    <tr>\n",
       "      <th>PaymentScreenSuccessful</th>\n",
       "      <td>34313</td>\n",
       "    </tr>\n",
       "    <tr>\n",
       "      <th>Tutorial</th>\n",
       "      <td>1052</td>\n",
       "    </tr>\n",
       "  </tbody>\n",
       "</table>\n",
       "</div>"
      ],
      "text/plain": [
       "                          count\n",
       "EventName                      \n",
       "MainScreenAppear         119205\n",
       "OffersScreenAppear        46825\n",
       "CartScreenAppear          42731\n",
       "PaymentScreenSuccessful   34313\n",
       "Tutorial                   1052"
      ]
     },
     "metadata": {},
     "output_type": "display_data"
    },
    {
     "data": {
      "text/html": [
       "<div>\n",
       "<style scoped>\n",
       "    .dataframe tbody tr th:only-of-type {\n",
       "        vertical-align: middle;\n",
       "    }\n",
       "\n",
       "    .dataframe tbody tr th {\n",
       "        vertical-align: top;\n",
       "    }\n",
       "\n",
       "    .dataframe thead th {\n",
       "        text-align: right;\n",
       "    }\n",
       "</style>\n",
       "<table border=\"1\" class=\"dataframe\">\n",
       "  <thead>\n",
       "    <tr style=\"text-align: right;\">\n",
       "      <th></th>\n",
       "      <th>count</th>\n",
       "    </tr>\n",
       "    <tr>\n",
       "      <th>DeviceIDHash</th>\n",
       "      <th></th>\n",
       "    </tr>\n",
       "  </thead>\n",
       "  <tbody>\n",
       "    <tr>\n",
       "      <th>6304868067479728361</th>\n",
       "      <td>2308</td>\n",
       "    </tr>\n",
       "    <tr>\n",
       "      <th>197027893265565660</th>\n",
       "      <td>2003</td>\n",
       "    </tr>\n",
       "    <tr>\n",
       "      <th>4623191541214045580</th>\n",
       "      <td>1771</td>\n",
       "    </tr>\n",
       "    <tr>\n",
       "      <th>6932517045703054087</th>\n",
       "      <td>1448</td>\n",
       "    </tr>\n",
       "    <tr>\n",
       "      <th>1754140665440434215</th>\n",
       "      <td>1222</td>\n",
       "    </tr>\n",
       "    <tr>\n",
       "      <th>...</th>\n",
       "      <td>...</td>\n",
       "    </tr>\n",
       "    <tr>\n",
       "      <th>1473604074272762258</th>\n",
       "      <td>1</td>\n",
       "    </tr>\n",
       "    <tr>\n",
       "      <th>4038665841336196550</th>\n",
       "      <td>1</td>\n",
       "    </tr>\n",
       "    <tr>\n",
       "      <th>6471198426894625455</th>\n",
       "      <td>1</td>\n",
       "    </tr>\n",
       "    <tr>\n",
       "      <th>8306004969579731119</th>\n",
       "      <td>1</td>\n",
       "    </tr>\n",
       "    <tr>\n",
       "      <th>1083512226259476085</th>\n",
       "      <td>1</td>\n",
       "    </tr>\n",
       "  </tbody>\n",
       "</table>\n",
       "<p>7551 rows × 1 columns</p>\n",
       "</div>"
      ],
      "text/plain": [
       "                     count\n",
       "DeviceIDHash              \n",
       "6304868067479728361   2308\n",
       "197027893265565660    2003\n",
       "4623191541214045580   1771\n",
       "6932517045703054087   1448\n",
       "1754140665440434215   1222\n",
       "...                    ...\n",
       "1473604074272762258      1\n",
       "4038665841336196550      1\n",
       "6471198426894625455      1\n",
       "8306004969579731119      1\n",
       "1083512226259476085      1\n",
       "\n",
       "[7551 rows x 1 columns]"
      ]
     },
     "metadata": {},
     "output_type": "display_data"
    },
    {
     "data": {
      "text/html": [
       "<div>\n",
       "<style scoped>\n",
       "    .dataframe tbody tr th:only-of-type {\n",
       "        vertical-align: middle;\n",
       "    }\n",
       "\n",
       "    .dataframe tbody tr th {\n",
       "        vertical-align: top;\n",
       "    }\n",
       "\n",
       "    .dataframe thead th {\n",
       "        text-align: right;\n",
       "    }\n",
       "</style>\n",
       "<table border=\"1\" class=\"dataframe\">\n",
       "  <thead>\n",
       "    <tr style=\"text-align: right;\">\n",
       "      <th></th>\n",
       "      <th>count</th>\n",
       "    </tr>\n",
       "    <tr>\n",
       "      <th>EventTimestamp</th>\n",
       "      <th></th>\n",
       "    </tr>\n",
       "  </thead>\n",
       "  <tbody>\n",
       "    <tr>\n",
       "      <th>1564670435</th>\n",
       "      <td>9</td>\n",
       "    </tr>\n",
       "    <tr>\n",
       "      <th>1564935799</th>\n",
       "      <td>9</td>\n",
       "    </tr>\n",
       "    <tr>\n",
       "      <th>1565017227</th>\n",
       "      <td>8</td>\n",
       "    </tr>\n",
       "    <tr>\n",
       "      <th>1565176721</th>\n",
       "      <td>8</td>\n",
       "    </tr>\n",
       "    <tr>\n",
       "      <th>1564911846</th>\n",
       "      <td>8</td>\n",
       "    </tr>\n",
       "    <tr>\n",
       "      <th>...</th>\n",
       "      <td>...</td>\n",
       "    </tr>\n",
       "    <tr>\n",
       "      <th>1564837824</th>\n",
       "      <td>1</td>\n",
       "    </tr>\n",
       "    <tr>\n",
       "      <th>1564837843</th>\n",
       "      <td>1</td>\n",
       "    </tr>\n",
       "    <tr>\n",
       "      <th>1564837844</th>\n",
       "      <td>1</td>\n",
       "    </tr>\n",
       "    <tr>\n",
       "      <th>1564837845</th>\n",
       "      <td>1</td>\n",
       "    </tr>\n",
       "    <tr>\n",
       "      <th>1565212517</th>\n",
       "      <td>1</td>\n",
       "    </tr>\n",
       "  </tbody>\n",
       "</table>\n",
       "<p>176654 rows × 1 columns</p>\n",
       "</div>"
      ],
      "text/plain": [
       "                count\n",
       "EventTimestamp       \n",
       "1564670435          9\n",
       "1564935799          9\n",
       "1565017227          8\n",
       "1565176721          8\n",
       "1564911846          8\n",
       "...               ...\n",
       "1564837824          1\n",
       "1564837843          1\n",
       "1564837844          1\n",
       "1564837845          1\n",
       "1565212517          1\n",
       "\n",
       "[176654 rows x 1 columns]"
      ]
     },
     "metadata": {},
     "output_type": "display_data"
    },
    {
     "data": {
      "text/html": [
       "<div>\n",
       "<style scoped>\n",
       "    .dataframe tbody tr th:only-of-type {\n",
       "        vertical-align: middle;\n",
       "    }\n",
       "\n",
       "    .dataframe tbody tr th {\n",
       "        vertical-align: top;\n",
       "    }\n",
       "\n",
       "    .dataframe thead th {\n",
       "        text-align: right;\n",
       "    }\n",
       "</style>\n",
       "<table border=\"1\" class=\"dataframe\">\n",
       "  <thead>\n",
       "    <tr style=\"text-align: right;\">\n",
       "      <th></th>\n",
       "      <th>count</th>\n",
       "    </tr>\n",
       "    <tr>\n",
       "      <th>ExpId</th>\n",
       "      <th></th>\n",
       "    </tr>\n",
       "  </thead>\n",
       "  <tbody>\n",
       "    <tr>\n",
       "      <th>248</th>\n",
       "      <td>85747</td>\n",
       "    </tr>\n",
       "    <tr>\n",
       "      <th>246</th>\n",
       "      <td>80304</td>\n",
       "    </tr>\n",
       "    <tr>\n",
       "      <th>247</th>\n",
       "      <td>78075</td>\n",
       "    </tr>\n",
       "  </tbody>\n",
       "</table>\n",
       "</div>"
      ],
      "text/plain": [
       "       count\n",
       "ExpId       \n",
       "248    85747\n",
       "246    80304\n",
       "247    78075"
      ]
     },
     "metadata": {},
     "output_type": "display_data"
    }
   ],
   "source": [
    "research(logs)"
   ]
  },
  {
   "cell_type": "markdown",
   "metadata": {},
   "source": [
    "Таблица с событиями и действиями пользователей имеет 244 126 строк и 4 столбца. Столбцы необходимо привести к корректному стилю наименований. Ниже сделаем это:"
   ]
  },
  {
   "cell_type": "code",
   "execution_count": 11,
   "metadata": {},
   "outputs": [],
   "source": [
    "logs = logs.rename(columns={'EventName': 'event_name', \n",
    "                     'DeviceIDHash': 'user_id', \n",
    "                     'EventTimestamp':'event_timestamp',\n",
    "                     'ExpId':'exp_id'})"
   ]
  },
  {
   "cell_type": "code",
   "execution_count": 12,
   "metadata": {},
   "outputs": [
    {
     "data": {
      "text/plain": [
       "Index(['event_name', 'user_id', 'event_timestamp', 'exp_id'], dtype='object')"
      ]
     },
     "execution_count": 12,
     "metadata": {},
     "output_type": "execute_result"
    }
   ],
   "source": [
    "logs.columns # проверка"
   ]
  },
  {
   "cell_type": "markdown",
   "metadata": {},
   "source": [
    "В рассматриваемой таблице нет пропусков, однако есть полные дубликаты, удалим их:"
   ]
  },
  {
   "cell_type": "code",
   "execution_count": 14,
   "metadata": {},
   "outputs": [],
   "source": [
    "logs = logs.drop_duplicates().reset_index(drop=True)"
   ]
  },
  {
   "cell_type": "code",
   "execution_count": 15,
   "metadata": {},
   "outputs": [
    {
     "data": {
      "text/plain": [
       "0"
      ]
     },
     "execution_count": 15,
     "metadata": {},
     "output_type": "execute_result"
    }
   ],
   "source": [
    "logs.duplicated().sum() # проверка дубликатов"
   ]
  },
  {
   "cell_type": "markdown",
   "metadata": {},
   "source": [
    "Далее приведём столбцы к корректному типу данных. В столбце `event_timestamp` данные даты и времени представлены в формате unix time. Так как далее по работе нам предстоит добавить новые столбцы к датафрейму - с датой и временем и отдельно с датой, то в самом столбце `event_timestamp` тип данных менять не будем.\n",
    "\n",
    "Заменить тип данных можно в столбцах `event_name` и `exp_id` на категориальный для сокращения использования памяти, так как в данных столбцах небольшое количество уникальных значений:"
   ]
  },
  {
   "cell_type": "code",
   "execution_count": 17,
   "metadata": {},
   "outputs": [],
   "source": [
    "logs = logs.astype({'event_name': 'category', 'exp_id': 'category'})"
   ]
  },
  {
   "cell_type": "code",
   "execution_count": 18,
   "metadata": {
    "scrolled": true
   },
   "outputs": [
    {
     "data": {
      "text/plain": [
       "event_name         category\n",
       "user_id               int64\n",
       "event_timestamp       int64\n",
       "exp_id             category\n",
       "dtype: object"
      ]
     },
     "execution_count": 18,
     "metadata": {},
     "output_type": "execute_result"
    }
   ],
   "source": [
    "logs.dtypes # проверка"
   ]
  },
  {
   "cell_type": "markdown",
   "metadata": {},
   "source": [
    "Помимо этого, датафрейм нужно проверить на корректное разбиение пользователей по группам. Проверим нет ли такого, что один пользователь относится к нескольким группам одновременно:"
   ]
  },
  {
   "cell_type": "code",
   "execution_count": 20,
   "metadata": {},
   "outputs": [
    {
     "data": {
      "text/plain": [
       "user_id    0\n",
       "exp_id     0\n",
       "dtype: int64"
      ]
     },
     "execution_count": 20,
     "metadata": {},
     "output_type": "execute_result"
    }
   ],
   "source": [
    "logs.groupby('user_id').agg({'exp_id':'nunique'}).reset_index().query('exp_id>1').count()"
   ]
  },
  {
   "cell_type": "markdown",
   "metadata": {},
   "source": [
    "В датафрейме нет пользователей, которые бы принадлежали к нескольким группам одновременно."
   ]
  },
  {
   "cell_type": "markdown",
   "metadata": {},
   "source": [
    "Далее добавим столбцы с датой и временем и отдельно с датой к нашему датафрейму:"
   ]
  },
  {
   "cell_type": "code",
   "execution_count": 23,
   "metadata": {},
   "outputs": [],
   "source": [
    "logs['datetime'] = pd.to_datetime(logs['event_timestamp'], unit='s')\n",
    "logs['date'] = pd.to_datetime(logs['event_timestamp'], unit='s').dt.date"
   ]
  },
  {
   "cell_type": "code",
   "execution_count": 24,
   "metadata": {
    "scrolled": true
   },
   "outputs": [
    {
     "data": {
      "text/html": [
       "<div>\n",
       "<style scoped>\n",
       "    .dataframe tbody tr th:only-of-type {\n",
       "        vertical-align: middle;\n",
       "    }\n",
       "\n",
       "    .dataframe tbody tr th {\n",
       "        vertical-align: top;\n",
       "    }\n",
       "\n",
       "    .dataframe thead th {\n",
       "        text-align: right;\n",
       "    }\n",
       "</style>\n",
       "<table border=\"1\" class=\"dataframe\">\n",
       "  <thead>\n",
       "    <tr style=\"text-align: right;\">\n",
       "      <th></th>\n",
       "      <th>event_name</th>\n",
       "      <th>user_id</th>\n",
       "      <th>event_timestamp</th>\n",
       "      <th>exp_id</th>\n",
       "      <th>datetime</th>\n",
       "      <th>date</th>\n",
       "    </tr>\n",
       "  </thead>\n",
       "  <tbody>\n",
       "    <tr>\n",
       "      <th>0</th>\n",
       "      <td>MainScreenAppear</td>\n",
       "      <td>4575588528974610257</td>\n",
       "      <td>1564029816</td>\n",
       "      <td>246</td>\n",
       "      <td>2019-07-25 04:43:36</td>\n",
       "      <td>2019-07-25</td>\n",
       "    </tr>\n",
       "    <tr>\n",
       "      <th>1</th>\n",
       "      <td>MainScreenAppear</td>\n",
       "      <td>7416695313311560658</td>\n",
       "      <td>1564053102</td>\n",
       "      <td>246</td>\n",
       "      <td>2019-07-25 11:11:42</td>\n",
       "      <td>2019-07-25</td>\n",
       "    </tr>\n",
       "    <tr>\n",
       "      <th>2</th>\n",
       "      <td>PaymentScreenSuccessful</td>\n",
       "      <td>3518123091307005509</td>\n",
       "      <td>1564054127</td>\n",
       "      <td>248</td>\n",
       "      <td>2019-07-25 11:28:47</td>\n",
       "      <td>2019-07-25</td>\n",
       "    </tr>\n",
       "    <tr>\n",
       "      <th>3</th>\n",
       "      <td>CartScreenAppear</td>\n",
       "      <td>3518123091307005509</td>\n",
       "      <td>1564054127</td>\n",
       "      <td>248</td>\n",
       "      <td>2019-07-25 11:28:47</td>\n",
       "      <td>2019-07-25</td>\n",
       "    </tr>\n",
       "    <tr>\n",
       "      <th>4</th>\n",
       "      <td>PaymentScreenSuccessful</td>\n",
       "      <td>6217807653094995999</td>\n",
       "      <td>1564055322</td>\n",
       "      <td>248</td>\n",
       "      <td>2019-07-25 11:48:42</td>\n",
       "      <td>2019-07-25</td>\n",
       "    </tr>\n",
       "  </tbody>\n",
       "</table>\n",
       "</div>"
      ],
      "text/plain": [
       "                event_name              user_id  event_timestamp exp_id  \\\n",
       "0         MainScreenAppear  4575588528974610257       1564029816    246   \n",
       "1         MainScreenAppear  7416695313311560658       1564053102    246   \n",
       "2  PaymentScreenSuccessful  3518123091307005509       1564054127    248   \n",
       "3         CartScreenAppear  3518123091307005509       1564054127    248   \n",
       "4  PaymentScreenSuccessful  6217807653094995999       1564055322    248   \n",
       "\n",
       "             datetime        date  \n",
       "0 2019-07-25 04:43:36  2019-07-25  \n",
       "1 2019-07-25 11:11:42  2019-07-25  \n",
       "2 2019-07-25 11:28:47  2019-07-25  \n",
       "3 2019-07-25 11:28:47  2019-07-25  \n",
       "4 2019-07-25 11:48:42  2019-07-25  "
      ]
     },
     "execution_count": 24,
     "metadata": {},
     "output_type": "execute_result"
    }
   ],
   "source": [
    "logs.head(5) # проверка"
   ]
  },
  {
   "cell_type": "markdown",
   "metadata": {},
   "source": [
    "**Вывод**\n",
    "\n",
    "- данные, которые предстоит исследовать, содержат информацию о событиях и действиях пользователей и записаны в датафрейм `logs`;\n",
    "- были изменены названия столбцев в соответствии с правильным стилем, удалены полные дубликаты;\n",
    "- изменены типы данных в столбцах `event_name` и `exp_id` на категориальный для сокращения использования памяти, так как в данных столбцах небольшое количество уникальных значений;\n",
    "- пропусков в данных не выявлено;\n",
    "- добавлено 2 столбца: `datetime` с датой и временем события и `date` только с датой события."
   ]
  },
  {
   "cell_type": "markdown",
   "metadata": {},
   "source": [
    "### Исследование данных"
   ]
  },
  {
   "cell_type": "markdown",
   "metadata": {},
   "source": [
    "В данном пункте исследования изучим и проверим данные."
   ]
  },
  {
   "cell_type": "markdown",
   "metadata": {},
   "source": [
    "Вызовем ещё раз функцию для вывода общей информации по датафрейму и ответим на некоторые общие вопросы, опираясь на неё:"
   ]
  },
  {
   "cell_type": "code",
   "execution_count": 29,
   "metadata": {},
   "outputs": [
    {
     "data": {
      "text/html": [
       "<div>\n",
       "<style scoped>\n",
       "    .dataframe tbody tr th:only-of-type {\n",
       "        vertical-align: middle;\n",
       "    }\n",
       "\n",
       "    .dataframe tbody tr th {\n",
       "        vertical-align: top;\n",
       "    }\n",
       "\n",
       "    .dataframe thead th {\n",
       "        text-align: right;\n",
       "    }\n",
       "</style>\n",
       "<table border=\"1\" class=\"dataframe\">\n",
       "  <thead>\n",
       "    <tr style=\"text-align: right;\">\n",
       "      <th></th>\n",
       "      <th>event_name</th>\n",
       "      <th>user_id</th>\n",
       "      <th>event_timestamp</th>\n",
       "      <th>exp_id</th>\n",
       "      <th>datetime</th>\n",
       "      <th>date</th>\n",
       "    </tr>\n",
       "  </thead>\n",
       "  <tbody>\n",
       "    <tr>\n",
       "      <th>0</th>\n",
       "      <td>MainScreenAppear</td>\n",
       "      <td>4575588528974610257</td>\n",
       "      <td>1564029816</td>\n",
       "      <td>246</td>\n",
       "      <td>2019-07-25 04:43:36</td>\n",
       "      <td>2019-07-25</td>\n",
       "    </tr>\n",
       "    <tr>\n",
       "      <th>1</th>\n",
       "      <td>MainScreenAppear</td>\n",
       "      <td>7416695313311560658</td>\n",
       "      <td>1564053102</td>\n",
       "      <td>246</td>\n",
       "      <td>2019-07-25 11:11:42</td>\n",
       "      <td>2019-07-25</td>\n",
       "    </tr>\n",
       "    <tr>\n",
       "      <th>2</th>\n",
       "      <td>PaymentScreenSuccessful</td>\n",
       "      <td>3518123091307005509</td>\n",
       "      <td>1564054127</td>\n",
       "      <td>248</td>\n",
       "      <td>2019-07-25 11:28:47</td>\n",
       "      <td>2019-07-25</td>\n",
       "    </tr>\n",
       "    <tr>\n",
       "      <th>3</th>\n",
       "      <td>CartScreenAppear</td>\n",
       "      <td>3518123091307005509</td>\n",
       "      <td>1564054127</td>\n",
       "      <td>248</td>\n",
       "      <td>2019-07-25 11:28:47</td>\n",
       "      <td>2019-07-25</td>\n",
       "    </tr>\n",
       "    <tr>\n",
       "      <th>4</th>\n",
       "      <td>PaymentScreenSuccessful</td>\n",
       "      <td>6217807653094995999</td>\n",
       "      <td>1564055322</td>\n",
       "      <td>248</td>\n",
       "      <td>2019-07-25 11:48:42</td>\n",
       "      <td>2019-07-25</td>\n",
       "    </tr>\n",
       "    <tr>\n",
       "      <th>5</th>\n",
       "      <td>CartScreenAppear</td>\n",
       "      <td>6217807653094995999</td>\n",
       "      <td>1564055323</td>\n",
       "      <td>248</td>\n",
       "      <td>2019-07-25 11:48:43</td>\n",
       "      <td>2019-07-25</td>\n",
       "    </tr>\n",
       "    <tr>\n",
       "      <th>6</th>\n",
       "      <td>OffersScreenAppear</td>\n",
       "      <td>8351860793733343758</td>\n",
       "      <td>1564066242</td>\n",
       "      <td>246</td>\n",
       "      <td>2019-07-25 14:50:42</td>\n",
       "      <td>2019-07-25</td>\n",
       "    </tr>\n",
       "    <tr>\n",
       "      <th>7</th>\n",
       "      <td>MainScreenAppear</td>\n",
       "      <td>5682100281902512875</td>\n",
       "      <td>1564085677</td>\n",
       "      <td>246</td>\n",
       "      <td>2019-07-25 20:14:37</td>\n",
       "      <td>2019-07-25</td>\n",
       "    </tr>\n",
       "    <tr>\n",
       "      <th>8</th>\n",
       "      <td>MainScreenAppear</td>\n",
       "      <td>1850981295691852772</td>\n",
       "      <td>1564086702</td>\n",
       "      <td>247</td>\n",
       "      <td>2019-07-25 20:31:42</td>\n",
       "      <td>2019-07-25</td>\n",
       "    </tr>\n",
       "    <tr>\n",
       "      <th>9</th>\n",
       "      <td>MainScreenAppear</td>\n",
       "      <td>5407636962369102641</td>\n",
       "      <td>1564112112</td>\n",
       "      <td>246</td>\n",
       "      <td>2019-07-26 03:35:12</td>\n",
       "      <td>2019-07-26</td>\n",
       "    </tr>\n",
       "  </tbody>\n",
       "</table>\n",
       "</div>"
      ],
      "text/plain": [
       "                event_name              user_id  event_timestamp exp_id  \\\n",
       "0         MainScreenAppear  4575588528974610257       1564029816    246   \n",
       "1         MainScreenAppear  7416695313311560658       1564053102    246   \n",
       "2  PaymentScreenSuccessful  3518123091307005509       1564054127    248   \n",
       "3         CartScreenAppear  3518123091307005509       1564054127    248   \n",
       "4  PaymentScreenSuccessful  6217807653094995999       1564055322    248   \n",
       "5         CartScreenAppear  6217807653094995999       1564055323    248   \n",
       "6       OffersScreenAppear  8351860793733343758       1564066242    246   \n",
       "7         MainScreenAppear  5682100281902512875       1564085677    246   \n",
       "8         MainScreenAppear  1850981295691852772       1564086702    247   \n",
       "9         MainScreenAppear  5407636962369102641       1564112112    246   \n",
       "\n",
       "             datetime        date  \n",
       "0 2019-07-25 04:43:36  2019-07-25  \n",
       "1 2019-07-25 11:11:42  2019-07-25  \n",
       "2 2019-07-25 11:28:47  2019-07-25  \n",
       "3 2019-07-25 11:28:47  2019-07-25  \n",
       "4 2019-07-25 11:48:42  2019-07-25  \n",
       "5 2019-07-25 11:48:43  2019-07-25  \n",
       "6 2019-07-25 14:50:42  2019-07-25  \n",
       "7 2019-07-25 20:14:37  2019-07-25  \n",
       "8 2019-07-25 20:31:42  2019-07-25  \n",
       "9 2019-07-26 03:35:12  2019-07-26  "
      ]
     },
     "metadata": {},
     "output_type": "display_data"
    },
    {
     "name": "stdout",
     "output_type": "stream",
     "text": [
      "**************************************************\n",
      "<class 'pandas.core.frame.DataFrame'>\n",
      "RangeIndex: 243713 entries, 0 to 243712\n",
      "Data columns (total 6 columns):\n",
      " #   Column           Non-Null Count   Dtype         \n",
      "---  ------           --------------   -----         \n",
      " 0   event_name       243713 non-null  category      \n",
      " 1   user_id          243713 non-null  int64         \n",
      " 2   event_timestamp  243713 non-null  int64         \n",
      " 3   exp_id           243713 non-null  category      \n",
      " 4   datetime         243713 non-null  datetime64[ns]\n",
      " 5   date             243713 non-null  object        \n",
      "dtypes: category(2), datetime64[ns](1), int64(2), object(1)\n",
      "memory usage: 7.9+ MB\n",
      "************************************************** \n",
      "\u001b[1m Количество полных дублей: \u001b[0m 0\n",
      "**************************************************\n"
     ]
    },
    {
     "data": {
      "text/html": [
       "<div>\n",
       "<style scoped>\n",
       "    .dataframe tbody tr th:only-of-type {\n",
       "        vertical-align: middle;\n",
       "    }\n",
       "\n",
       "    .dataframe tbody tr th {\n",
       "        vertical-align: top;\n",
       "    }\n",
       "\n",
       "    .dataframe thead th {\n",
       "        text-align: right;\n",
       "    }\n",
       "</style>\n",
       "<table border=\"1\" class=\"dataframe\">\n",
       "  <thead>\n",
       "    <tr style=\"text-align: right;\">\n",
       "      <th></th>\n",
       "      <th>user_id</th>\n",
       "      <th>event_timestamp</th>\n",
       "      <th>datetime</th>\n",
       "    </tr>\n",
       "  </thead>\n",
       "  <tbody>\n",
       "    <tr>\n",
       "      <th>count</th>\n",
       "      <td>2.437130e+05</td>\n",
       "      <td>2.437130e+05</td>\n",
       "      <td>243713</td>\n",
       "    </tr>\n",
       "    <tr>\n",
       "      <th>mean</th>\n",
       "      <td>4.627963e+18</td>\n",
       "      <td>1.564914e+09</td>\n",
       "      <td>2019-08-04 10:19:17.987665920</td>\n",
       "    </tr>\n",
       "    <tr>\n",
       "      <th>min</th>\n",
       "      <td>6.888747e+15</td>\n",
       "      <td>1.564030e+09</td>\n",
       "      <td>2019-07-25 04:43:36</td>\n",
       "    </tr>\n",
       "    <tr>\n",
       "      <th>25%</th>\n",
       "      <td>2.372212e+18</td>\n",
       "      <td>1.564757e+09</td>\n",
       "      <td>2019-08-02 14:36:45</td>\n",
       "    </tr>\n",
       "    <tr>\n",
       "      <th>50%</th>\n",
       "      <td>4.623192e+18</td>\n",
       "      <td>1.564919e+09</td>\n",
       "      <td>2019-08-04 11:51:00</td>\n",
       "    </tr>\n",
       "    <tr>\n",
       "      <th>75%</th>\n",
       "      <td>6.932517e+18</td>\n",
       "      <td>1.565075e+09</td>\n",
       "      <td>2019-08-06 06:56:24</td>\n",
       "    </tr>\n",
       "    <tr>\n",
       "      <th>max</th>\n",
       "      <td>9.222603e+18</td>\n",
       "      <td>1.565213e+09</td>\n",
       "      <td>2019-08-07 21:15:17</td>\n",
       "    </tr>\n",
       "    <tr>\n",
       "      <th>std</th>\n",
       "      <td>2.642723e+18</td>\n",
       "      <td>1.771388e+05</td>\n",
       "      <td>NaN</td>\n",
       "    </tr>\n",
       "  </tbody>\n",
       "</table>\n",
       "</div>"
      ],
      "text/plain": [
       "            user_id  event_timestamp                       datetime\n",
       "count  2.437130e+05     2.437130e+05                         243713\n",
       "mean   4.627963e+18     1.564914e+09  2019-08-04 10:19:17.987665920\n",
       "min    6.888747e+15     1.564030e+09            2019-07-25 04:43:36\n",
       "25%    2.372212e+18     1.564757e+09            2019-08-02 14:36:45\n",
       "50%    4.623192e+18     1.564919e+09            2019-08-04 11:51:00\n",
       "75%    6.932517e+18     1.565075e+09            2019-08-06 06:56:24\n",
       "max    9.222603e+18     1.565213e+09            2019-08-07 21:15:17\n",
       "std    2.642723e+18     1.771388e+05                            NaN"
      ]
     },
     "metadata": {},
     "output_type": "display_data"
    },
    {
     "name": "stdout",
     "output_type": "stream",
     "text": [
      "**************************************************\n"
     ]
    },
    {
     "data": {
      "text/html": [
       "<div>\n",
       "<style scoped>\n",
       "    .dataframe tbody tr th:only-of-type {\n",
       "        vertical-align: middle;\n",
       "    }\n",
       "\n",
       "    .dataframe tbody tr th {\n",
       "        vertical-align: top;\n",
       "    }\n",
       "\n",
       "    .dataframe thead th {\n",
       "        text-align: right;\n",
       "    }\n",
       "</style>\n",
       "<table border=\"1\" class=\"dataframe\">\n",
       "  <thead>\n",
       "    <tr style=\"text-align: right;\">\n",
       "      <th></th>\n",
       "      <th>count</th>\n",
       "    </tr>\n",
       "    <tr>\n",
       "      <th>event_name</th>\n",
       "      <th></th>\n",
       "    </tr>\n",
       "  </thead>\n",
       "  <tbody>\n",
       "    <tr>\n",
       "      <th>MainScreenAppear</th>\n",
       "      <td>119101</td>\n",
       "    </tr>\n",
       "    <tr>\n",
       "      <th>OffersScreenAppear</th>\n",
       "      <td>46808</td>\n",
       "    </tr>\n",
       "    <tr>\n",
       "      <th>CartScreenAppear</th>\n",
       "      <td>42668</td>\n",
       "    </tr>\n",
       "    <tr>\n",
       "      <th>PaymentScreenSuccessful</th>\n",
       "      <td>34118</td>\n",
       "    </tr>\n",
       "    <tr>\n",
       "      <th>Tutorial</th>\n",
       "      <td>1018</td>\n",
       "    </tr>\n",
       "  </tbody>\n",
       "</table>\n",
       "</div>"
      ],
      "text/plain": [
       "                          count\n",
       "event_name                     \n",
       "MainScreenAppear         119101\n",
       "OffersScreenAppear        46808\n",
       "CartScreenAppear          42668\n",
       "PaymentScreenSuccessful   34118\n",
       "Tutorial                   1018"
      ]
     },
     "metadata": {},
     "output_type": "display_data"
    },
    {
     "data": {
      "text/html": [
       "<div>\n",
       "<style scoped>\n",
       "    .dataframe tbody tr th:only-of-type {\n",
       "        vertical-align: middle;\n",
       "    }\n",
       "\n",
       "    .dataframe tbody tr th {\n",
       "        vertical-align: top;\n",
       "    }\n",
       "\n",
       "    .dataframe thead th {\n",
       "        text-align: right;\n",
       "    }\n",
       "</style>\n",
       "<table border=\"1\" class=\"dataframe\">\n",
       "  <thead>\n",
       "    <tr style=\"text-align: right;\">\n",
       "      <th></th>\n",
       "      <th>count</th>\n",
       "    </tr>\n",
       "    <tr>\n",
       "      <th>user_id</th>\n",
       "      <th></th>\n",
       "    </tr>\n",
       "  </thead>\n",
       "  <tbody>\n",
       "    <tr>\n",
       "      <th>6304868067479728361</th>\n",
       "      <td>2307</td>\n",
       "    </tr>\n",
       "    <tr>\n",
       "      <th>197027893265565660</th>\n",
       "      <td>1998</td>\n",
       "    </tr>\n",
       "    <tr>\n",
       "      <th>4623191541214045580</th>\n",
       "      <td>1768</td>\n",
       "    </tr>\n",
       "    <tr>\n",
       "      <th>6932517045703054087</th>\n",
       "      <td>1439</td>\n",
       "    </tr>\n",
       "    <tr>\n",
       "      <th>1754140665440434215</th>\n",
       "      <td>1221</td>\n",
       "    </tr>\n",
       "    <tr>\n",
       "      <th>...</th>\n",
       "      <td>...</td>\n",
       "    </tr>\n",
       "    <tr>\n",
       "      <th>6888746892508752</th>\n",
       "      <td>1</td>\n",
       "    </tr>\n",
       "    <tr>\n",
       "      <th>6671109879025379318</th>\n",
       "      <td>1</td>\n",
       "    </tr>\n",
       "    <tr>\n",
       "      <th>1223708690315846789</th>\n",
       "      <td>1</td>\n",
       "    </tr>\n",
       "    <tr>\n",
       "      <th>5229230634268921313</th>\n",
       "      <td>1</td>\n",
       "    </tr>\n",
       "    <tr>\n",
       "      <th>2408195006658927235</th>\n",
       "      <td>1</td>\n",
       "    </tr>\n",
       "  </tbody>\n",
       "</table>\n",
       "<p>7551 rows × 1 columns</p>\n",
       "</div>"
      ],
      "text/plain": [
       "                     count\n",
       "user_id                   \n",
       "6304868067479728361   2307\n",
       "197027893265565660    1998\n",
       "4623191541214045580   1768\n",
       "6932517045703054087   1439\n",
       "1754140665440434215   1221\n",
       "...                    ...\n",
       "6888746892508752         1\n",
       "6671109879025379318      1\n",
       "1223708690315846789      1\n",
       "5229230634268921313      1\n",
       "2408195006658927235      1\n",
       "\n",
       "[7551 rows x 1 columns]"
      ]
     },
     "metadata": {},
     "output_type": "display_data"
    },
    {
     "data": {
      "text/html": [
       "<div>\n",
       "<style scoped>\n",
       "    .dataframe tbody tr th:only-of-type {\n",
       "        vertical-align: middle;\n",
       "    }\n",
       "\n",
       "    .dataframe tbody tr th {\n",
       "        vertical-align: top;\n",
       "    }\n",
       "\n",
       "    .dataframe thead th {\n",
       "        text-align: right;\n",
       "    }\n",
       "</style>\n",
       "<table border=\"1\" class=\"dataframe\">\n",
       "  <thead>\n",
       "    <tr style=\"text-align: right;\">\n",
       "      <th></th>\n",
       "      <th>count</th>\n",
       "    </tr>\n",
       "    <tr>\n",
       "      <th>event_timestamp</th>\n",
       "      <th></th>\n",
       "    </tr>\n",
       "  </thead>\n",
       "  <tbody>\n",
       "    <tr>\n",
       "      <th>1564670435</th>\n",
       "      <td>9</td>\n",
       "    </tr>\n",
       "    <tr>\n",
       "      <th>1564935799</th>\n",
       "      <td>9</td>\n",
       "    </tr>\n",
       "    <tr>\n",
       "      <th>1565176721</th>\n",
       "      <td>8</td>\n",
       "    </tr>\n",
       "    <tr>\n",
       "      <th>1565017227</th>\n",
       "      <td>8</td>\n",
       "    </tr>\n",
       "    <tr>\n",
       "      <th>1564911846</th>\n",
       "      <td>8</td>\n",
       "    </tr>\n",
       "    <tr>\n",
       "      <th>...</th>\n",
       "      <td>...</td>\n",
       "    </tr>\n",
       "    <tr>\n",
       "      <th>1564837684</th>\n",
       "      <td>1</td>\n",
       "    </tr>\n",
       "    <tr>\n",
       "      <th>1564837689</th>\n",
       "      <td>1</td>\n",
       "    </tr>\n",
       "    <tr>\n",
       "      <th>1564837690</th>\n",
       "      <td>1</td>\n",
       "    </tr>\n",
       "    <tr>\n",
       "      <th>1564837691</th>\n",
       "      <td>1</td>\n",
       "    </tr>\n",
       "    <tr>\n",
       "      <th>1565212517</th>\n",
       "      <td>1</td>\n",
       "    </tr>\n",
       "  </tbody>\n",
       "</table>\n",
       "<p>176654 rows × 1 columns</p>\n",
       "</div>"
      ],
      "text/plain": [
       "                 count\n",
       "event_timestamp       \n",
       "1564670435           9\n",
       "1564935799           9\n",
       "1565176721           8\n",
       "1565017227           8\n",
       "1564911846           8\n",
       "...                ...\n",
       "1564837684           1\n",
       "1564837689           1\n",
       "1564837690           1\n",
       "1564837691           1\n",
       "1565212517           1\n",
       "\n",
       "[176654 rows x 1 columns]"
      ]
     },
     "metadata": {},
     "output_type": "display_data"
    },
    {
     "data": {
      "text/html": [
       "<div>\n",
       "<style scoped>\n",
       "    .dataframe tbody tr th:only-of-type {\n",
       "        vertical-align: middle;\n",
       "    }\n",
       "\n",
       "    .dataframe tbody tr th {\n",
       "        vertical-align: top;\n",
       "    }\n",
       "\n",
       "    .dataframe thead th {\n",
       "        text-align: right;\n",
       "    }\n",
       "</style>\n",
       "<table border=\"1\" class=\"dataframe\">\n",
       "  <thead>\n",
       "    <tr style=\"text-align: right;\">\n",
       "      <th></th>\n",
       "      <th>count</th>\n",
       "    </tr>\n",
       "    <tr>\n",
       "      <th>exp_id</th>\n",
       "      <th></th>\n",
       "    </tr>\n",
       "  </thead>\n",
       "  <tbody>\n",
       "    <tr>\n",
       "      <th>248</th>\n",
       "      <td>85582</td>\n",
       "    </tr>\n",
       "    <tr>\n",
       "      <th>246</th>\n",
       "      <td>80181</td>\n",
       "    </tr>\n",
       "    <tr>\n",
       "      <th>247</th>\n",
       "      <td>77950</td>\n",
       "    </tr>\n",
       "  </tbody>\n",
       "</table>\n",
       "</div>"
      ],
      "text/plain": [
       "        count\n",
       "exp_id       \n",
       "248     85582\n",
       "246     80181\n",
       "247     77950"
      ]
     },
     "metadata": {},
     "output_type": "display_data"
    },
    {
     "data": {
      "text/html": [
       "<div>\n",
       "<style scoped>\n",
       "    .dataframe tbody tr th:only-of-type {\n",
       "        vertical-align: middle;\n",
       "    }\n",
       "\n",
       "    .dataframe tbody tr th {\n",
       "        vertical-align: top;\n",
       "    }\n",
       "\n",
       "    .dataframe thead th {\n",
       "        text-align: right;\n",
       "    }\n",
       "</style>\n",
       "<table border=\"1\" class=\"dataframe\">\n",
       "  <thead>\n",
       "    <tr style=\"text-align: right;\">\n",
       "      <th></th>\n",
       "      <th>count</th>\n",
       "    </tr>\n",
       "    <tr>\n",
       "      <th>datetime</th>\n",
       "      <th></th>\n",
       "    </tr>\n",
       "  </thead>\n",
       "  <tbody>\n",
       "    <tr>\n",
       "      <th>2019-08-01 14:40:35</th>\n",
       "      <td>9</td>\n",
       "    </tr>\n",
       "    <tr>\n",
       "      <th>2019-08-04 16:23:19</th>\n",
       "      <td>9</td>\n",
       "    </tr>\n",
       "    <tr>\n",
       "      <th>2019-08-07 11:18:41</th>\n",
       "      <td>8</td>\n",
       "    </tr>\n",
       "    <tr>\n",
       "      <th>2019-08-05 15:00:27</th>\n",
       "      <td>8</td>\n",
       "    </tr>\n",
       "    <tr>\n",
       "      <th>2019-08-04 09:44:06</th>\n",
       "      <td>8</td>\n",
       "    </tr>\n",
       "    <tr>\n",
       "      <th>...</th>\n",
       "      <td>...</td>\n",
       "    </tr>\n",
       "    <tr>\n",
       "      <th>2019-08-03 13:08:04</th>\n",
       "      <td>1</td>\n",
       "    </tr>\n",
       "    <tr>\n",
       "      <th>2019-08-03 13:08:09</th>\n",
       "      <td>1</td>\n",
       "    </tr>\n",
       "    <tr>\n",
       "      <th>2019-08-03 13:08:10</th>\n",
       "      <td>1</td>\n",
       "    </tr>\n",
       "    <tr>\n",
       "      <th>2019-08-03 13:08:11</th>\n",
       "      <td>1</td>\n",
       "    </tr>\n",
       "    <tr>\n",
       "      <th>2019-08-07 21:15:17</th>\n",
       "      <td>1</td>\n",
       "    </tr>\n",
       "  </tbody>\n",
       "</table>\n",
       "<p>176654 rows × 1 columns</p>\n",
       "</div>"
      ],
      "text/plain": [
       "                     count\n",
       "datetime                  \n",
       "2019-08-01 14:40:35      9\n",
       "2019-08-04 16:23:19      9\n",
       "2019-08-07 11:18:41      8\n",
       "2019-08-05 15:00:27      8\n",
       "2019-08-04 09:44:06      8\n",
       "...                    ...\n",
       "2019-08-03 13:08:04      1\n",
       "2019-08-03 13:08:09      1\n",
       "2019-08-03 13:08:10      1\n",
       "2019-08-03 13:08:11      1\n",
       "2019-08-07 21:15:17      1\n",
       "\n",
       "[176654 rows x 1 columns]"
      ]
     },
     "metadata": {},
     "output_type": "display_data"
    },
    {
     "data": {
      "text/html": [
       "<div>\n",
       "<style scoped>\n",
       "    .dataframe tbody tr th:only-of-type {\n",
       "        vertical-align: middle;\n",
       "    }\n",
       "\n",
       "    .dataframe tbody tr th {\n",
       "        vertical-align: top;\n",
       "    }\n",
       "\n",
       "    .dataframe thead th {\n",
       "        text-align: right;\n",
       "    }\n",
       "</style>\n",
       "<table border=\"1\" class=\"dataframe\">\n",
       "  <thead>\n",
       "    <tr style=\"text-align: right;\">\n",
       "      <th></th>\n",
       "      <th>count</th>\n",
       "    </tr>\n",
       "    <tr>\n",
       "      <th>date</th>\n",
       "      <th></th>\n",
       "    </tr>\n",
       "  </thead>\n",
       "  <tbody>\n",
       "    <tr>\n",
       "      <th>2019-08-01</th>\n",
       "      <td>36141</td>\n",
       "    </tr>\n",
       "    <tr>\n",
       "      <th>2019-08-05</th>\n",
       "      <td>36058</td>\n",
       "    </tr>\n",
       "    <tr>\n",
       "      <th>2019-08-06</th>\n",
       "      <td>35788</td>\n",
       "    </tr>\n",
       "    <tr>\n",
       "      <th>2019-08-02</th>\n",
       "      <td>35554</td>\n",
       "    </tr>\n",
       "    <tr>\n",
       "      <th>2019-08-03</th>\n",
       "      <td>33282</td>\n",
       "    </tr>\n",
       "    <tr>\n",
       "      <th>2019-08-04</th>\n",
       "      <td>32968</td>\n",
       "    </tr>\n",
       "    <tr>\n",
       "      <th>2019-08-07</th>\n",
       "      <td>31096</td>\n",
       "    </tr>\n",
       "    <tr>\n",
       "      <th>2019-07-31</th>\n",
       "      <td>2030</td>\n",
       "    </tr>\n",
       "    <tr>\n",
       "      <th>2019-07-30</th>\n",
       "      <td>412</td>\n",
       "    </tr>\n",
       "    <tr>\n",
       "      <th>2019-07-29</th>\n",
       "      <td>184</td>\n",
       "    </tr>\n",
       "    <tr>\n",
       "      <th>2019-07-28</th>\n",
       "      <td>105</td>\n",
       "    </tr>\n",
       "    <tr>\n",
       "      <th>2019-07-27</th>\n",
       "      <td>55</td>\n",
       "    </tr>\n",
       "    <tr>\n",
       "      <th>2019-07-26</th>\n",
       "      <td>31</td>\n",
       "    </tr>\n",
       "    <tr>\n",
       "      <th>2019-07-25</th>\n",
       "      <td>9</td>\n",
       "    </tr>\n",
       "  </tbody>\n",
       "</table>\n",
       "</div>"
      ],
      "text/plain": [
       "            count\n",
       "date             \n",
       "2019-08-01  36141\n",
       "2019-08-05  36058\n",
       "2019-08-06  35788\n",
       "2019-08-02  35554\n",
       "2019-08-03  33282\n",
       "2019-08-04  32968\n",
       "2019-08-07  31096\n",
       "2019-07-31   2030\n",
       "2019-07-30    412\n",
       "2019-07-29    184\n",
       "2019-07-28    105\n",
       "2019-07-27     55\n",
       "2019-07-26     31\n",
       "2019-07-25      9"
      ]
     },
     "metadata": {},
     "output_type": "display_data"
    }
   ],
   "source": [
    "research(logs)"
   ]
  },
  {
   "cell_type": "markdown",
   "metadata": {},
   "source": [
    "Всего в логе возможно пять событий:\n",
    "1. *MainScreenAppear* - появление главной страницы;\n",
    "2. *OffersScreenAppear* - появление страницы с предложениями (товарами);\n",
    "3. *CartScreenAppear* - появление страницы с корзиной;\n",
    "4. *PaymentScreenSuccessful* - появление страницы об успешной оплате;\n",
    "5. *Tutorial* - руководство пользователя.\n",
    "\n",
    "В логе всего представлено 7551 различных пользователей.\n",
    "\n",
    "Далее проверим сколько в среднем событий приходится на  одного пользователя:"
   ]
  },
  {
   "cell_type": "code",
   "execution_count": 31,
   "metadata": {},
   "outputs": [
    {
     "data": {
      "text/plain": [
       "event_name    32.275593\n",
       "dtype: float64"
      ]
     },
     "execution_count": 31,
     "metadata": {},
     "output_type": "execute_result"
    }
   ],
   "source": [
    "logs.groupby('user_id').agg({'event_name':'count'}).mean()"
   ]
  },
  {
   "cell_type": "markdown",
   "metadata": {},
   "source": [
    "В среднем на одного пользователя приходится около 32 событий за рассматриваемый период."
   ]
  },
  {
   "cell_type": "markdown",
   "metadata": {},
   "source": [
    "Проверим данными за какой период мы располагаем, найдя минимальную и максимальную даты по столбцу `date`:"
   ]
  },
  {
   "cell_type": "code",
   "execution_count": 34,
   "metadata": {
    "scrolled": true
   },
   "outputs": [
    {
     "data": {
      "text/html": [
       "<div>\n",
       "<style scoped>\n",
       "    .dataframe tbody tr th:only-of-type {\n",
       "        vertical-align: middle;\n",
       "    }\n",
       "\n",
       "    .dataframe tbody tr th {\n",
       "        vertical-align: top;\n",
       "    }\n",
       "\n",
       "    .dataframe thead th {\n",
       "        text-align: right;\n",
       "    }\n",
       "</style>\n",
       "<table border=\"1\" class=\"dataframe\">\n",
       "  <thead>\n",
       "    <tr style=\"text-align: right;\">\n",
       "      <th></th>\n",
       "      <th>date</th>\n",
       "    </tr>\n",
       "  </thead>\n",
       "  <tbody>\n",
       "    <tr>\n",
       "      <th>min</th>\n",
       "      <td>2019-07-25</td>\n",
       "    </tr>\n",
       "    <tr>\n",
       "      <th>max</th>\n",
       "      <td>2019-08-07</td>\n",
       "    </tr>\n",
       "  </tbody>\n",
       "</table>\n",
       "</div>"
      ],
      "text/plain": [
       "           date\n",
       "min  2019-07-25\n",
       "max  2019-08-07"
      ]
     },
     "execution_count": 34,
     "metadata": {},
     "output_type": "execute_result"
    }
   ],
   "source": [
    "logs.agg({'date':['min', 'max']})"
   ]
  },
  {
   "cell_type": "markdown",
   "metadata": {},
   "source": [
    "Представлена информация с 25 июля 2019 года по 7 августа 2019 года, то есть за 2 недели."
   ]
  },
  {
   "cell_type": "markdown",
   "metadata": {},
   "source": [
    "Изучим, как меняется количество данных. Для этого построим столбчатую диаграмму, которая отобразит количество событий в зависимости от времени в разрезе групп:"
   ]
  },
  {
   "cell_type": "code",
   "execution_count": 37,
   "metadata": {},
   "outputs": [
    {
     "data": {
      "image/png": "[encoded data removed]",
      "text/plain": [
       "<Figure size 1200x700 with 1 Axes>"
      ]
     },
     "metadata": {},
     "output_type": "display_data"
    }
   ],
   "source": [
    "logs.pivot_table(index='date', columns = 'exp_id', values='event_name', aggfunc='count').plot(\n",
    "    kind='bar',\n",
    "    title='Распределение количества событий по дням для каждой группы',\n",
    "    figsize=(12,7), grid=True, stacked=True)\n",
    "\n",
    "plt.xlabel('Дата')\n",
    "plt.ylabel('Количество событий');"
   ]
  },
  {
   "cell_type": "markdown",
   "metadata": {},
   "source": [
    "Таким образом, видим что количество учтённых событий до 1 августа 2019 намного меньше, чем после этой даты. Значит, почему-то изначально тест учитывал не всех пользователей и данные до августа неполные. Следует исключить их из дальнейшего анализа во избежание некорректной интерпретации результатов."
   ]
  },
  {
   "cell_type": "code",
   "execution_count": 39,
   "metadata": {},
   "outputs": [],
   "source": [
    "logs_filtered = logs[logs['date'] >= datetime.strptime(\"2019-08-01\", \"%Y-%m-%d\").date()]"
   ]
  },
  {
   "cell_type": "markdown",
   "metadata": {},
   "source": [
    "Проверим данные, построив новый график:"
   ]
  },
  {
   "cell_type": "code",
   "execution_count": 41,
   "metadata": {},
   "outputs": [
    {
     "data": {
      "image/png": "[encoded data removed]",
      "text/plain": [
       "<Figure size 1200x700 with 1 Axes>"
      ]
     },
     "metadata": {},
     "output_type": "display_data"
    }
   ],
   "source": [
    "logs_filtered.pivot_table(index='date', columns = 'exp_id', values='event_name', aggfunc='count').plot(\n",
    "    kind='bar',\n",
    "    title='Распределение количества событий по дням для каждой группы',\n",
    "    figsize=(12,7), grid=True, stacked=True)\n",
    "\n",
    "plt.xlabel('Дата')\n",
    "plt.ylabel('Количество событий');"
   ]
  },
  {
   "cell_type": "markdown",
   "metadata": {},
   "source": [
    "Теперь данные выглядят полно и рассматриваемый период сократился до 1 недели. В наших данных всё так же присутствует 3 группы пользователей. Проверим скольких пользователей и событий мы потеряли, исключив более ранний временной период:"
   ]
  },
  {
   "cell_type": "code",
   "execution_count": 43,
   "metadata": {},
   "outputs": [
    {
     "data": {
      "text/plain": [
       "17"
      ]
     },
     "execution_count": 43,
     "metadata": {},
     "output_type": "execute_result"
    }
   ],
   "source": [
    "# абсолютное значение в разнице пользователей\n",
    "\n",
    "logs['user_id'].nunique()-logs_filtered['user_id'].nunique()"
   ]
  },
  {
   "cell_type": "code",
   "execution_count": 44,
   "metadata": {
    "scrolled": true
   },
   "outputs": [
    {
     "data": {
      "text/plain": [
       "-0.225"
      ]
     },
     "execution_count": 44,
     "metadata": {},
     "output_type": "execute_result"
    }
   ],
   "source": [
    "# относительное значение в разнице пользователей\n",
    "\n",
    "round((logs_filtered['user_id'].nunique()/logs['user_id'].nunique()-1)*100, 3)"
   ]
  },
  {
   "cell_type": "code",
   "execution_count": 45,
   "metadata": {},
   "outputs": [
    {
     "data": {
      "text/plain": [
       "2826"
      ]
     },
     "execution_count": 45,
     "metadata": {},
     "output_type": "execute_result"
    }
   ],
   "source": [
    "# абсолютное значение в разнице событий\n",
    "\n",
    "logs['event_name'].count()-logs_filtered['event_name'].count()"
   ]
  },
  {
   "cell_type": "code",
   "execution_count": 46,
   "metadata": {
    "scrolled": true
   },
   "outputs": [
    {
     "data": {
      "text/plain": [
       "-1.16"
      ]
     },
     "execution_count": 46,
     "metadata": {},
     "output_type": "execute_result"
    }
   ],
   "source": [
    "# относительное значение в разнице событий\n",
    "\n",
    "round((logs_filtered['event_name'].count()/logs['event_name'].count()-1)*100, 3)"
   ]
  },
  {
   "cell_type": "markdown",
   "metadata": {},
   "source": [
    "То есть мы лишились 17 пользователей, что составило около 0,23% от первоначальных данных и 2826 или 1,16% событий. В целом, это незначительная потеря данных. "
   ]
  },
  {
   "cell_type": "markdown",
   "metadata": {},
   "source": [
    "**Вывод**\n",
    "\n",
    "В ходе исследования таблицы `logs` мы проверили, что всего в логе возможно 5 видов событий, при этом в среднем на одного пользователя приходится около 32 событий.\n",
    "\n",
    "В данных была информация за 2-недельный период, однако построив график распределения количества событий по дням для каждой группы, выявлено, что данные до 1 августа 2019 неполные и учитывать их в дальнейшем анализе нецелесообразно. В связи с этим, мы отфильтровали для анализа только данные с 1 по 7 августа 2019 года, тем самым, сократив анализируемый период времени до 1-й недели.\n",
    "\n",
    "Отфильтровав данные, мы отбросили около 0,23% пользователей и 1,16% событий."
   ]
  },
  {
   "cell_type": "markdown",
   "metadata": {},
   "source": [
    "### Воронка событий"
   ]
  },
  {
   "cell_type": "markdown",
   "metadata": {},
   "source": [
    "Мы уже изучили, какие события есть в логах и как часто они встречаются, но выведим данную информацию ещё раз, отсортировав события по частоте:"
   ]
  },
  {
   "cell_type": "code",
   "execution_count": 51,
   "metadata": {},
   "outputs": [
    {
     "data": {
      "text/plain": [
       "event_name\n",
       "MainScreenAppear           117328\n",
       "OffersScreenAppear          46333\n",
       "CartScreenAppear            42303\n",
       "PaymentScreenSuccessful     33918\n",
       "Tutorial                     1005\n",
       "Name: count, dtype: int64"
      ]
     },
     "execution_count": 51,
     "metadata": {},
     "output_type": "execute_result"
    }
   ],
   "source": [
    "logs_filtered['event_name'].value_counts()"
   ]
  },
  {
   "cell_type": "markdown",
   "metadata": {},
   "source": [
    "Далее посчитаем, сколько пользователей совершали каждое из этих событий. Запишем данные в новую таблицу `funnel`. Отсортируем события по числу пользователей:"
   ]
  },
  {
   "cell_type": "code",
   "execution_count": 53,
   "metadata": {},
   "outputs": [
    {
     "data": {
      "text/html": [
       "<div>\n",
       "<style scoped>\n",
       "    .dataframe tbody tr th:only-of-type {\n",
       "        vertical-align: middle;\n",
       "    }\n",
       "\n",
       "    .dataframe tbody tr th {\n",
       "        vertical-align: top;\n",
       "    }\n",
       "\n",
       "    .dataframe thead th {\n",
       "        text-align: right;\n",
       "    }\n",
       "</style>\n",
       "<table border=\"1\" class=\"dataframe\">\n",
       "  <thead>\n",
       "    <tr style=\"text-align: right;\">\n",
       "      <th></th>\n",
       "      <th>event_name</th>\n",
       "      <th>user_unique</th>\n",
       "    </tr>\n",
       "  </thead>\n",
       "  <tbody>\n",
       "    <tr>\n",
       "      <th>1</th>\n",
       "      <td>MainScreenAppear</td>\n",
       "      <td>7419</td>\n",
       "    </tr>\n",
       "    <tr>\n",
       "      <th>2</th>\n",
       "      <td>OffersScreenAppear</td>\n",
       "      <td>4593</td>\n",
       "    </tr>\n",
       "    <tr>\n",
       "      <th>0</th>\n",
       "      <td>CartScreenAppear</td>\n",
       "      <td>3734</td>\n",
       "    </tr>\n",
       "    <tr>\n",
       "      <th>3</th>\n",
       "      <td>PaymentScreenSuccessful</td>\n",
       "      <td>3539</td>\n",
       "    </tr>\n",
       "    <tr>\n",
       "      <th>4</th>\n",
       "      <td>Tutorial</td>\n",
       "      <td>840</td>\n",
       "    </tr>\n",
       "  </tbody>\n",
       "</table>\n",
       "</div>"
      ],
      "text/plain": [
       "                event_name  user_unique\n",
       "1         MainScreenAppear         7419\n",
       "2       OffersScreenAppear         4593\n",
       "0         CartScreenAppear         3734\n",
       "3  PaymentScreenSuccessful         3539\n",
       "4                 Tutorial          840"
      ]
     },
     "execution_count": 53,
     "metadata": {},
     "output_type": "execute_result"
    }
   ],
   "source": [
    "funnel = (\n",
    "    logs_filtered.pivot_table(index='event_name', values='user_id', aggfunc='nunique')\n",
    "    .reset_index()\n",
    "    .sort_values(by='user_id', ascending=False)\n",
    ")\n",
    "\n",
    "funnel.columns = ['event_name', 'user_unique']\n",
    "funnel"
   ]
  },
  {
   "cell_type": "markdown",
   "metadata": {},
   "source": [
    "Посчитаем долю пользователей, которые хоть раз совершали событие:"
   ]
  },
  {
   "cell_type": "code",
   "execution_count": 55,
   "metadata": {},
   "outputs": [
    {
     "data": {
      "text/html": [
       "<div>\n",
       "<style scoped>\n",
       "    .dataframe tbody tr th:only-of-type {\n",
       "        vertical-align: middle;\n",
       "    }\n",
       "\n",
       "    .dataframe tbody tr th {\n",
       "        vertical-align: top;\n",
       "    }\n",
       "\n",
       "    .dataframe thead th {\n",
       "        text-align: right;\n",
       "    }\n",
       "</style>\n",
       "<table border=\"1\" class=\"dataframe\">\n",
       "  <thead>\n",
       "    <tr style=\"text-align: right;\">\n",
       "      <th></th>\n",
       "      <th>event_name</th>\n",
       "      <th>user_unique</th>\n",
       "      <th>proportion</th>\n",
       "    </tr>\n",
       "  </thead>\n",
       "  <tbody>\n",
       "    <tr>\n",
       "      <th>1</th>\n",
       "      <td>MainScreenAppear</td>\n",
       "      <td>7419</td>\n",
       "      <td>0.98</td>\n",
       "    </tr>\n",
       "    <tr>\n",
       "      <th>2</th>\n",
       "      <td>OffersScreenAppear</td>\n",
       "      <td>4593</td>\n",
       "      <td>0.61</td>\n",
       "    </tr>\n",
       "    <tr>\n",
       "      <th>0</th>\n",
       "      <td>CartScreenAppear</td>\n",
       "      <td>3734</td>\n",
       "      <td>0.50</td>\n",
       "    </tr>\n",
       "    <tr>\n",
       "      <th>3</th>\n",
       "      <td>PaymentScreenSuccessful</td>\n",
       "      <td>3539</td>\n",
       "      <td>0.47</td>\n",
       "    </tr>\n",
       "    <tr>\n",
       "      <th>4</th>\n",
       "      <td>Tutorial</td>\n",
       "      <td>840</td>\n",
       "      <td>0.11</td>\n",
       "    </tr>\n",
       "  </tbody>\n",
       "</table>\n",
       "</div>"
      ],
      "text/plain": [
       "                event_name  user_unique proportion\n",
       "1         MainScreenAppear         7419       0.98\n",
       "2       OffersScreenAppear         4593       0.61\n",
       "0         CartScreenAppear         3734       0.50\n",
       "3  PaymentScreenSuccessful         3539       0.47\n",
       "4                 Tutorial          840       0.11"
      ]
     },
     "execution_count": 55,
     "metadata": {},
     "output_type": "execute_result"
    }
   ],
   "source": [
    "funnel['proportion'] = (funnel['user_unique']/logs_filtered['user_id'].nunique()).map(lambda x: '{:.2f}'.format(x))\n",
    "funnel"
   ]
  },
  {
   "cell_type": "markdown",
   "metadata": {},
   "source": [
    "Так, логично предположить, что воронка событий для пользователей имеет следующий вид и порядок:\n",
    "\n",
    "1. MainScreenAppear - появление главной страницы;\n",
    "2. OffersScreenAppear - появление страницы с предложениями (товарами);\n",
    "3. CartScreenAppear - появление страницы с корзиной;\n",
    "4. PaymentScreenSuccessful - появление страницы об успешной оплате.\n",
    "\n",
    "Как видно, не все этапы мы отнесли к последовательной событийной воронке. Обучение (*Tutorial*) пользователи могут пропускать, из-за этого данное событие имеет наименьшую долю использования пользователями. Поэтому при дальнейшем расчёте конверсии из одного шага в другой не будем учитывать *Tutorial*:"
   ]
  },
  {
   "cell_type": "code",
   "execution_count": 57,
   "metadata": {},
   "outputs": [],
   "source": [
    "funnel = funnel.query('event_name != \"Tutorial\"')"
   ]
  },
  {
   "cell_type": "markdown",
   "metadata": {},
   "source": [
    "Визуализируем полученную событийную воронку:"
   ]
  },
  {
   "cell_type": "code",
   "execution_count": 166,
   "metadata": {},
   "outputs": [
    {
     "data": {
      "image/png": "[encoded data removed]"
     },
     "metadata": {},
     "output_type": "display_data"
    }
   ],
   "source": [
    "fig = px.funnel(\n",
    "    funnel,\n",
    "    y='event_name',\n",
    "    x='user_unique',\n",
    "    title=\"Событийная воронка\")\n",
    "fig.show('png')"
   ]
  },
  {
   "cell_type": "markdown",
   "metadata": {},
   "source": [
    "По воронке событий посчитаем, какая доля пользователей проходит на следующий шаг воронки (от числа пользователей на предыдущем): "
   ]
  },
  {
   "cell_type": "code",
   "execution_count": 61,
   "metadata": {
    "scrolled": true
   },
   "outputs": [],
   "source": [
    "funnel = funnel.reset_index(drop=True)"
   ]
  },
  {
   "cell_type": "code",
   "execution_count": 62,
   "metadata": {},
   "outputs": [
    {
     "data": {
      "text/html": [
       "<div>\n",
       "<style scoped>\n",
       "    .dataframe tbody tr th:only-of-type {\n",
       "        vertical-align: middle;\n",
       "    }\n",
       "\n",
       "    .dataframe tbody tr th {\n",
       "        vertical-align: top;\n",
       "    }\n",
       "\n",
       "    .dataframe thead th {\n",
       "        text-align: right;\n",
       "    }\n",
       "</style>\n",
       "<table border=\"1\" class=\"dataframe\">\n",
       "  <thead>\n",
       "    <tr style=\"text-align: right;\">\n",
       "      <th></th>\n",
       "      <th>event_name</th>\n",
       "      <th>user_unique</th>\n",
       "      <th>proportion</th>\n",
       "      <th>conversion</th>\n",
       "    </tr>\n",
       "  </thead>\n",
       "  <tbody>\n",
       "    <tr>\n",
       "      <th>0</th>\n",
       "      <td>MainScreenAppear</td>\n",
       "      <td>7419</td>\n",
       "      <td>0.98</td>\n",
       "      <td>NaN</td>\n",
       "    </tr>\n",
       "    <tr>\n",
       "      <th>1</th>\n",
       "      <td>OffersScreenAppear</td>\n",
       "      <td>4593</td>\n",
       "      <td>0.61</td>\n",
       "      <td>0.62</td>\n",
       "    </tr>\n",
       "    <tr>\n",
       "      <th>2</th>\n",
       "      <td>CartScreenAppear</td>\n",
       "      <td>3734</td>\n",
       "      <td>0.50</td>\n",
       "      <td>0.81</td>\n",
       "    </tr>\n",
       "    <tr>\n",
       "      <th>3</th>\n",
       "      <td>PaymentScreenSuccessful</td>\n",
       "      <td>3539</td>\n",
       "      <td>0.47</td>\n",
       "      <td>0.95</td>\n",
       "    </tr>\n",
       "  </tbody>\n",
       "</table>\n",
       "</div>"
      ],
      "text/plain": [
       "                event_name  user_unique proportion  conversion\n",
       "0         MainScreenAppear         7419       0.98         NaN\n",
       "1       OffersScreenAppear         4593       0.61        0.62\n",
       "2         CartScreenAppear         3734       0.50        0.81\n",
       "3  PaymentScreenSuccessful         3539       0.47        0.95"
      ]
     },
     "execution_count": 62,
     "metadata": {},
     "output_type": "execute_result"
    }
   ],
   "source": [
    "for i in range(len(funnel)-1):\n",
    "    funnel.loc[i+1, 'conversion'] = round(funnel.loc[i+1,'user_unique']/funnel.loc[i,'user_unique'], 2)\n",
    "funnel"
   ]
  },
  {
   "cell_type": "markdown",
   "metadata": {},
   "source": [
    "Судя по полученной воронке и дополнительно рассчитанным столбцам, больше всего пользователей мы теряем сразу после шага `MainScreenAppear`, 38% пользователей не доходят до второго этапа воронки `OffersScreenAppear`.\n",
    "\n",
    "При этом 47% от всех пользователей доходит от начала и до последнего шага воронки - успешной оплаты заказа."
   ]
  },
  {
   "cell_type": "markdown",
   "metadata": {},
   "source": [
    "**Вывод**\n",
    "\n",
    "На третьем этапе исследования была проанализирована частота всех возможных событий в логе. Посчитано, сколько пользователей совершали каждое из 5 представленных событий.\n",
    "\n",
    "Мы предположили, что воронка для пользователей имеет следующий порядок:\n",
    "\n",
    "1. MainScreenAppear - появление главной страницы;\n",
    "2. OffersScreenAppear - появление страницы с предложениями (товарами);\n",
    "3. CartScreenAppear - появление страницы с корзиной;\n",
    "4. PaymentScreenSuccessful - появление страницы об успешной оплате.\n",
    "\n",
    "Не все этапы отнесли к последовательной событийной воронке - обучение (Tutorial) пользователи могут пропускать, из-за этого данное событие имеет наименьшую долю использования пользователями.\n",
    "\n",
    "По воронке событий посчитана доля пользователей, которая проходит на каждый следующий шаг воронки (от числа пользователей на предыдущем) - конверсия из шага в шаг.\n",
    "\n",
    "Получен вывод о том, что больше всего пользователей мы теряем сразу после шага `MainScreenAppear`: 38% пользователей не доходят до второго этапа воронки (`OffersScreenAppear`), вероятно, нужно лучше прорабатывать механику приложения, чтобы увеличить конверсию в данный шаг. При этом 47% от всех пользователей доходит от начала и до последнего шага воронки - успешной оплаты заказа."
   ]
  },
  {
   "cell_type": "markdown",
   "metadata": {},
   "source": [
    "### Результаты A/B теста"
   ]
  },
  {
   "cell_type": "markdown",
   "metadata": {},
   "source": [
    "Для начала анализа результатов эксперимента оценим сколько пользователей находится в каждой экспериментальной группе:"
   ]
  },
  {
   "cell_type": "code",
   "execution_count": 67,
   "metadata": {},
   "outputs": [
    {
     "data": {
      "text/plain": [
       "exp_id\n",
       "246    2484\n",
       "247    2513\n",
       "248    2537\n",
       "Name: user_id, dtype: int64"
      ]
     },
     "execution_count": 67,
     "metadata": {},
     "output_type": "execute_result"
    }
   ],
   "source": [
    "logs_filtered.groupby('exp_id')['user_id'].nunique()"
   ]
  },
  {
   "cell_type": "markdown",
   "metadata": {},
   "source": [
    "Проверим долю пользователей в каждой группе от общего числа пользователей:"
   ]
  },
  {
   "cell_type": "code",
   "execution_count": 69,
   "metadata": {},
   "outputs": [
    {
     "data": {
      "text/plain": [
       "exp_id\n",
       "246    0.330\n",
       "247    0.334\n",
       "248    0.337\n",
       "Name: user_id, dtype: float64"
      ]
     },
     "execution_count": 69,
     "metadata": {},
     "output_type": "execute_result"
    }
   ],
   "source": [
    "round(logs_filtered.groupby('exp_id')['user_id'].nunique()/logs_filtered['user_id'].nunique(),3)"
   ]
  },
  {
   "cell_type": "markdown",
   "metadata": {},
   "source": [
    "Доли незначительно отличаются друг от друга, однако нужно проверить находят ли статистические критерии разницу между контрольными выборками 246 и 247. Для этого мы должны проверить гипотезы о равенстве долей в разрезе каждого события:"
   ]
  },
  {
   "cell_type": "markdown",
   "metadata": {},
   "source": [
    "#### Функция для проверки гипотез о равенстве долей"
   ]
  },
  {
   "cell_type": "markdown",
   "metadata": {},
   "source": [
    "Создадим функцию `z-test`, которая позволит сравнивать выборки по разным событиям для разных групп:"
   ]
  },
  {
   "cell_type": "code",
   "execution_count": 73,
   "metadata": {},
   "outputs": [],
   "source": [
    "def z_test(users_event_group1, users_event_group2, users_group1, users_group2, alpha):\n",
    "    \n",
    "    # пропорция пользователей, совершивших событие в первой группе:\n",
    "    p1 = users_event_group1/users_group1\n",
    "    \n",
    "    # пропорция пользователей, совершивших событие во второй группе:\n",
    "    p2 = users_event_group2/users_group2\n",
    "    \n",
    "    # пропорция успехов в комбинированном датасете:\n",
    "    p_combined = (users_event_group1 + users_event_group2) / (users_group1 + users_group2)\n",
    "    \n",
    "    # разница пропорций в датасетах\n",
    "    difference = p1 - p2\n",
    "    \n",
    "    # считаем статистику в ст.отклонениях стандартного нормального распределения\n",
    "    z_value = difference / mth.sqrt(p_combined * (1 - p_combined) * (1/users_group1 + 1/users_group2))\n",
    "    \n",
    "    # задаем стандартное нормальное распределение (среднее 0, ст.отклонение 1)\n",
    "    distr = st.norm(0, 1)\n",
    "    \n",
    "    p_value = (1 - distr.cdf(abs(z_value))) * 2\n",
    "    \n",
    "    print('p-значение: ', p_value)\n",
    "    \n",
    "    if p_value < alpha:\n",
    "        print('Отвергаем нулевую гипотезу: между долями есть значимая разница')\n",
    "    else:\n",
    "        print('Не получилось отвергнуть нулевую гипотезу, нет оснований считать доли разными') "
   ]
  },
  {
   "cell_type": "markdown",
   "metadata": {},
   "source": [
    "#### Проверка гипотезы о равенстве долей контрольных групп"
   ]
  },
  {
   "cell_type": "markdown",
   "metadata": {},
   "source": [
    "Далее вызовем функцию поочередно для каждого события воронки групп 246 и 247:"
   ]
  },
  {
   "cell_type": "markdown",
   "metadata": {},
   "source": [
    "Примем исходный уровень значимости равный 5% и применим метод для коррекции уровеня значимости:"
   ]
  },
  {
   "cell_type": "code",
   "execution_count": 77,
   "metadata": {},
   "outputs": [],
   "source": [
    "alpha_original = 0.05 # исходный уровень значимости"
   ]
  },
  {
   "cell_type": "code",
   "execution_count": 78,
   "metadata": {},
   "outputs": [],
   "source": [
    "# рассчитываем поправку Холма с помощью функции\n",
    "\n",
    "def holm_correction(m, alpha):\n",
    "    result = []\n",
    "    for i in range(m): # получаем номер текущей проверки гипотезы и считаем коррекцию \n",
    "        result += [alpha / (m - i)]\n",
    "    return result"
   ]
  },
  {
   "cell_type": "code",
   "execution_count": 79,
   "metadata": {},
   "outputs": [],
   "source": [
    "result = holm_correction(16, alpha_original)"
   ]
  },
  {
   "cell_type": "code",
   "execution_count": 80,
   "metadata": {},
   "outputs": [
    {
     "name": "stdout",
     "output_type": "stream",
     "text": [
      "p-значение:  0.7570597232046099\n",
      "Не получилось отвергнуть нулевую гипотезу, нет оснований считать доли разными\n"
     ]
    }
   ],
   "source": [
    "# проверка гипотезы о равенстве долей по событию MainScreenAppear:\n",
    "\n",
    "n = 0 # счетчик для нужного уровеня значимости\n",
    "\n",
    "z_test(\n",
    "    logs_filtered.query('exp_id == 246 & event_name == \"MainScreenAppear\"')['user_id'].nunique(),\n",
    "    logs_filtered.query('exp_id == 247 & event_name == \"MainScreenAppear\"')['user_id'].nunique(),\n",
    "    logs_filtered.query('exp_id == 246')['user_id'].nunique(),\n",
    "    logs_filtered.query('exp_id == 247')['user_id'].nunique(),\n",
    "    result[n]\n",
    ")"
   ]
  },
  {
   "cell_type": "code",
   "execution_count": 81,
   "metadata": {},
   "outputs": [
    {
     "name": "stdout",
     "output_type": "stream",
     "text": [
      "p-значение:  0.2480954578522181\n",
      "Не получилось отвергнуть нулевую гипотезу, нет оснований считать доли разными\n"
     ]
    }
   ],
   "source": [
    "# проверка гипотезы о равенстве долей по событию OffersScreenAppear:\n",
    "\n",
    "n += 1\n",
    "\n",
    "z_test(\n",
    "    logs_filtered.query('exp_id == 246 & event_name == \"OffersScreenAppear\"')['user_id'].nunique(),\n",
    "    logs_filtered.query('exp_id == 247 & event_name == \"OffersScreenAppear\"')['user_id'].nunique(),\n",
    "    logs_filtered.query('exp_id == 246')['user_id'].nunique(),\n",
    "    logs_filtered.query('exp_id == 247')['user_id'].nunique(),\n",
    "    result[n]\n",
    ")"
   ]
  },
  {
   "cell_type": "code",
   "execution_count": 82,
   "metadata": {},
   "outputs": [
    {
     "name": "stdout",
     "output_type": "stream",
     "text": [
      "p-значение:  0.22883372237997213\n",
      "Не получилось отвергнуть нулевую гипотезу, нет оснований считать доли разными\n"
     ]
    }
   ],
   "source": [
    "# проверка гипотезы о равенстве долей по событию CartScreenAppear:\n",
    "n += 1\n",
    "\n",
    "z_test(\n",
    "    logs_filtered.query('exp_id == 246 & event_name == \"CartScreenAppear\"')['user_id'].nunique(),\n",
    "    logs_filtered.query('exp_id == 247 & event_name == \"CartScreenAppear\"')['user_id'].nunique(),\n",
    "    logs_filtered.query('exp_id == 246')['user_id'].nunique(),\n",
    "    logs_filtered.query('exp_id == 247')['user_id'].nunique(),\n",
    "    result[n]\n",
    ")"
   ]
  },
  {
   "cell_type": "code",
   "execution_count": 83,
   "metadata": {},
   "outputs": [
    {
     "name": "stdout",
     "output_type": "stream",
     "text": [
      "p-значение:  0.11456679313141849\n",
      "Не получилось отвергнуть нулевую гипотезу, нет оснований считать доли разными\n"
     ]
    }
   ],
   "source": [
    "# проверка гипотезы о равенстве долей по событию PaymentScreenSuccessful:\n",
    "n += 1\n",
    "\n",
    "z_test(\n",
    "    logs_filtered.query('exp_id == 246 & event_name == \"PaymentScreenSuccessful\"')['user_id'].nunique(),\n",
    "    logs_filtered.query('exp_id == 247 & event_name == \"PaymentScreenSuccessful\"')['user_id'].nunique(),\n",
    "    logs_filtered.query('exp_id == 246')['user_id'].nunique(),\n",
    "    logs_filtered.query('exp_id == 247')['user_id'].nunique(),\n",
    "    result[n]\n",
    ")"
   ]
  },
  {
   "cell_type": "markdown",
   "metadata": {},
   "source": [
    "Таким образом, проверив гипотезу о равенстве долей пользователей по каждому событию групп 246 и 247, мы приходим к выводу, что нет оснований считать доли разными, значит, разбиение рассматриваемых групп работает корректно."
   ]
  },
  {
   "cell_type": "markdown",
   "metadata": {},
   "source": [
    "#### Проверка гипотезы о равенстве долей каждой из контрольных групп с экспериментальной"
   ]
  },
  {
   "cell_type": "markdown",
   "metadata": {},
   "source": [
    "Далее проверим тот же тест с эксперементальной группой с изменённым шрифтом (248). Сравним результаты с каждой из контрольных групп в отдельности по каждому событию:"
   ]
  },
  {
   "cell_type": "code",
   "execution_count": 87,
   "metadata": {},
   "outputs": [
    {
     "name": "stdout",
     "output_type": "stream",
     "text": [
      "p-значение:  0.2949721933554552\n",
      "Не получилось отвергнуть нулевую гипотезу, нет оснований считать доли разными\n"
     ]
    }
   ],
   "source": [
    "# проверка гипотезы о равенстве долей групп 246 и 248 по событию MainScreenAppear:\n",
    "n += 1\n",
    "\n",
    "z_test(\n",
    "    logs_filtered.query('exp_id == 246 & event_name == \"MainScreenAppear\"')['user_id'].nunique(),\n",
    "    logs_filtered.query('exp_id == 248 & event_name == \"MainScreenAppear\"')['user_id'].nunique(),\n",
    "    logs_filtered.query('exp_id == 246')['user_id'].nunique(),\n",
    "    logs_filtered.query('exp_id == 248')['user_id'].nunique(),\n",
    "    result[n]\n",
    ")"
   ]
  },
  {
   "cell_type": "code",
   "execution_count": 88,
   "metadata": {},
   "outputs": [
    {
     "name": "stdout",
     "output_type": "stream",
     "text": [
      "p-значение:  0.20836205402738917\n",
      "Не получилось отвергнуть нулевую гипотезу, нет оснований считать доли разными\n"
     ]
    }
   ],
   "source": [
    "# проверка гипотезы о равенстве долей групп 246 и 248 по событию OffersScreenAppear:\n",
    "n += 1\n",
    "\n",
    "z_test(\n",
    "    logs_filtered.query('exp_id == 246 & event_name == \"OffersScreenAppear\"')['user_id'].nunique(),\n",
    "    logs_filtered.query('exp_id == 248 & event_name == \"OffersScreenAppear\"')['user_id'].nunique(),\n",
    "    logs_filtered.query('exp_id == 246')['user_id'].nunique(),\n",
    "    logs_filtered.query('exp_id == 248')['user_id'].nunique(),\n",
    "    result[n]\n",
    ")"
   ]
  },
  {
   "cell_type": "code",
   "execution_count": 89,
   "metadata": {},
   "outputs": [
    {
     "name": "stdout",
     "output_type": "stream",
     "text": [
      "p-значение:  0.07842923237520116\n",
      "Не получилось отвергнуть нулевую гипотезу, нет оснований считать доли разными\n"
     ]
    }
   ],
   "source": [
    "# проверка гипотезы о равенстве долей групп 246 и 248 по событию CartScreenAppear:\n",
    "n += 1\n",
    "\n",
    "z_test(\n",
    "    logs_filtered.query('exp_id == 246 & event_name == \"CartScreenAppear\"')['user_id'].nunique(),\n",
    "    logs_filtered.query('exp_id == 248 & event_name == \"CartScreenAppear\"')['user_id'].nunique(),\n",
    "    logs_filtered.query('exp_id == 246')['user_id'].nunique(),\n",
    "    logs_filtered.query('exp_id == 248')['user_id'].nunique(),\n",
    "    result[n]\n",
    ")"
   ]
  },
  {
   "cell_type": "code",
   "execution_count": 90,
   "metadata": {},
   "outputs": [
    {
     "name": "stdout",
     "output_type": "stream",
     "text": [
      "p-значение:  0.2122553275697796\n",
      "Не получилось отвергнуть нулевую гипотезу, нет оснований считать доли разными\n"
     ]
    }
   ],
   "source": [
    "# проверка гипотезы о равенстве долей групп 246 и 248 по событию PaymentScreenSuccessful:\n",
    "n += 1\n",
    "\n",
    "z_test(\n",
    "    logs_filtered.query('exp_id == 246 & event_name == \"PaymentScreenSuccessful\"')['user_id'].nunique(),\n",
    "    logs_filtered.query('exp_id == 248 & event_name == \"PaymentScreenSuccessful\"')['user_id'].nunique(),\n",
    "    logs_filtered.query('exp_id == 246')['user_id'].nunique(),\n",
    "    logs_filtered.query('exp_id == 248')['user_id'].nunique(),\n",
    "    result[n]\n",
    ")"
   ]
  },
  {
   "cell_type": "markdown",
   "metadata": {},
   "source": [
    "Проверив гипотезу о равенстве долей по каждому событию групп 246 и 248, получаем результат о том, что нет оснований считать доли разными, значит, нет оснований полагать, что новая версия шрифта как-либо влияет на поведение пользователей."
   ]
  },
  {
   "cell_type": "code",
   "execution_count": 92,
   "metadata": {},
   "outputs": [
    {
     "name": "stdout",
     "output_type": "stream",
     "text": [
      "p-значение:  0.4587053616621515\n",
      "Не получилось отвергнуть нулевую гипотезу, нет оснований считать доли разными\n"
     ]
    }
   ],
   "source": [
    "# проверка гипотезы о равенстве долей групп 247 и 248 по событию MainScreenAppear:\n",
    "n += 1\n",
    "\n",
    "z_test(\n",
    "    logs_filtered.query('exp_id == 247 & event_name == \"MainScreenAppear\"')['user_id'].nunique(),\n",
    "    logs_filtered.query('exp_id == 248 & event_name == \"MainScreenAppear\"')['user_id'].nunique(),\n",
    "    logs_filtered.query('exp_id == 247')['user_id'].nunique(),\n",
    "    logs_filtered.query('exp_id == 248')['user_id'].nunique(),\n",
    "    result[n]\n",
    ")"
   ]
  },
  {
   "cell_type": "code",
   "execution_count": 93,
   "metadata": {},
   "outputs": [
    {
     "name": "stdout",
     "output_type": "stream",
     "text": [
      "p-значение:  0.9197817830592261\n",
      "Не получилось отвергнуть нулевую гипотезу, нет оснований считать доли разными\n"
     ]
    }
   ],
   "source": [
    "# проверка гипотезы о равенстве долей групп 247 и 248 по событию OffersScreenAppear:\n",
    "n += 1\n",
    "\n",
    "z_test(\n",
    "    logs_filtered.query('exp_id == 247 & event_name == \"OffersScreenAppear\"')['user_id'].nunique(),\n",
    "    logs_filtered.query('exp_id == 248 & event_name == \"OffersScreenAppear\"')['user_id'].nunique(),\n",
    "    logs_filtered.query('exp_id == 247')['user_id'].nunique(),\n",
    "    logs_filtered.query('exp_id == 248')['user_id'].nunique(),\n",
    "    result[n]\n",
    ")"
   ]
  },
  {
   "cell_type": "code",
   "execution_count": 94,
   "metadata": {},
   "outputs": [
    {
     "name": "stdout",
     "output_type": "stream",
     "text": [
      "p-значение:  0.5786197879539783\n",
      "Не получилось отвергнуть нулевую гипотезу, нет оснований считать доли разными\n"
     ]
    }
   ],
   "source": [
    "# проверка гипотезы о равенстве долей групп 247 и 248 по событию CartScreenAppear:\n",
    "n += 1\n",
    "\n",
    "z_test(\n",
    "    logs_filtered.query('exp_id == 247 & event_name == \"CartScreenAppear\"')['user_id'].nunique(),\n",
    "    logs_filtered.query('exp_id == 248 & event_name == \"CartScreenAppear\"')['user_id'].nunique(),\n",
    "    logs_filtered.query('exp_id == 247')['user_id'].nunique(),\n",
    "    logs_filtered.query('exp_id == 248')['user_id'].nunique(),\n",
    "    result[n]\n",
    ")"
   ]
  },
  {
   "cell_type": "code",
   "execution_count": 95,
   "metadata": {},
   "outputs": [
    {
     "name": "stdout",
     "output_type": "stream",
     "text": [
      "p-значение:  0.7373415053803964\n",
      "Не получилось отвергнуть нулевую гипотезу, нет оснований считать доли разными\n"
     ]
    }
   ],
   "source": [
    "# проверка гипотезы о равенстве долей групп 247 и 248 по событию PaymentScreenSuccessful:\n",
    "n += 1\n",
    "\n",
    "z_test(\n",
    "    logs_filtered.query('exp_id == 247 & event_name == \"PaymentScreenSuccessful\"')['user_id'].nunique(),\n",
    "    logs_filtered.query('exp_id == 248 & event_name == \"PaymentScreenSuccessful\"')['user_id'].nunique(),\n",
    "    logs_filtered.query('exp_id == 247')['user_id'].nunique(),\n",
    "    logs_filtered.query('exp_id == 248')['user_id'].nunique(),\n",
    "    result[n]\n",
    ")"
   ]
  },
  {
   "cell_type": "markdown",
   "metadata": {},
   "source": [
    "Проверив гипотезу о равенстве долей по каждому событию групп 247 и 248, аналогично предыдущим результатам, получаем итог: нет оснований считать доли разными, значит, нет оснований полагать, что новая версия шрифта как-либо влияет на поведение пользователей."
   ]
  },
  {
   "cell_type": "markdown",
   "metadata": {},
   "source": [
    "#### Проверка гипотезы о равенстве долей объединенной контрольной группы с экспериментальной"
   ]
  },
  {
   "cell_type": "markdown",
   "metadata": {},
   "source": [
    "Итоговой проверкой сравним результаты группы 248 с объединённой контрольной группой (246 + 247):"
   ]
  },
  {
   "cell_type": "code",
   "execution_count": 99,
   "metadata": {},
   "outputs": [
    {
     "name": "stdout",
     "output_type": "stream",
     "text": [
      "p-значение:  0.29424526837179577\n",
      "Не получилось отвергнуть нулевую гипотезу, нет оснований считать доли разными\n"
     ]
    }
   ],
   "source": [
    "# проверка гипотезы о равенстве долей групп 246+247 и 248 по событию MainScreenAppear:\n",
    "n += 1\n",
    "\n",
    "z_test(\n",
    "    logs_filtered.query('exp_id != 248 & event_name == \"MainScreenAppear\"')['user_id'].nunique(),\n",
    "    logs_filtered.query('exp_id == 248 & event_name == \"MainScreenAppear\"')['user_id'].nunique(),\n",
    "    logs_filtered.query('exp_id != 248')['user_id'].nunique(),\n",
    "    logs_filtered.query('exp_id == 248')['user_id'].nunique(),\n",
    "    result[n]\n",
    ")"
   ]
  },
  {
   "cell_type": "code",
   "execution_count": 100,
   "metadata": {},
   "outputs": [
    {
     "name": "stdout",
     "output_type": "stream",
     "text": [
      "p-значение:  0.43425549655188256\n",
      "Не получилось отвергнуть нулевую гипотезу, нет оснований считать доли разными\n"
     ]
    }
   ],
   "source": [
    "# проверка гипотезы о равенстве долей групп 246+247 и 248 по событию OffersScreenAppear:\n",
    "n += 1\n",
    "\n",
    "z_test(\n",
    "    logs_filtered.query('exp_id != 248 & event_name == \"OffersScreenAppear\"')['user_id'].nunique(),\n",
    "    logs_filtered.query('exp_id == 248 & event_name == \"OffersScreenAppear\"')['user_id'].nunique(),\n",
    "    logs_filtered.query('exp_id != 248')['user_id'].nunique(),\n",
    "    logs_filtered.query('exp_id == 248')['user_id'].nunique(),\n",
    "    result[n]\n",
    ")"
   ]
  },
  {
   "cell_type": "code",
   "execution_count": 101,
   "metadata": {},
   "outputs": [
    {
     "name": "stdout",
     "output_type": "stream",
     "text": [
      "p-значение:  0.18175875284404386\n",
      "Не получилось отвергнуть нулевую гипотезу, нет оснований считать доли разными\n"
     ]
    }
   ],
   "source": [
    "# проверка гипотезы о равенстве долей групп 246+247 и 248 по событию CartScreenAppear:\n",
    "n += 1\n",
    "\n",
    "z_test(\n",
    "    logs_filtered.query('exp_id != 248 & event_name == \"CartScreenAppear\"')['user_id'].nunique(),\n",
    "    logs_filtered.query('exp_id == 248 & event_name == \"CartScreenAppear\"')['user_id'].nunique(),\n",
    "    logs_filtered.query('exp_id != 248')['user_id'].nunique(),\n",
    "    logs_filtered.query('exp_id == 248')['user_id'].nunique(),\n",
    "    result[n]\n",
    ")"
   ]
  },
  {
   "cell_type": "code",
   "execution_count": 102,
   "metadata": {},
   "outputs": [
    {
     "name": "stdout",
     "output_type": "stream",
     "text": [
      "p-значение:  0.6004294282308704\n",
      "Не получилось отвергнуть нулевую гипотезу, нет оснований считать доли разными\n",
      "15\n"
     ]
    }
   ],
   "source": [
    "# проверка гипотезы о равенстве долей групп 246+247 и 248 по событию PaymentScreenSuccessful:\n",
    "n += 1\n",
    "\n",
    "z_test(\n",
    "    logs_filtered.query('exp_id != 248 & event_name == \"PaymentScreenSuccessful\"')['user_id'].nunique(),\n",
    "    logs_filtered.query('exp_id == 248 & event_name == \"PaymentScreenSuccessful\"')['user_id'].nunique(),\n",
    "    logs_filtered.query('exp_id != 248')['user_id'].nunique(),\n",
    "    logs_filtered.query('exp_id == 248')['user_id'].nunique(),\n",
    "    result[n]\n",
    ")\n",
    "print(n)"
   ]
  },
  {
   "cell_type": "markdown",
   "metadata": {},
   "source": [
    "Сравнивая контрольную группу с измененным шрифтов (248) с объединенной контрольной группой без изменений (246 и 247), мы так же приходим к выводу о том, что нет оснований считать доли выборок разными. **Значит, мы можем остановить тест и зафиксировать отсутствие различий между группами.**"
   ]
  },
  {
   "cell_type": "markdown",
   "metadata": {},
   "source": [
    "#### Коррекция уровня значимости"
   ]
  },
  {
   "cell_type": "markdown",
   "metadata": {},
   "source": [
    "Так как мы проводили множественный тест для оценки равенства долей между 3-я группами, то возникает вероятность «накопительной» ошибки при множественном тестировании или групповая вероятность ошибки первого рода, поэтому в своих тестах нам необходимо использовать метод для коррекции уровня значимости. "
   ]
  },
  {
   "cell_type": "markdown",
   "metadata": {},
   "source": [
    "Используем метод Холма для коррекции уровеня значимости `alpha`. Это итерационный метод, т.е. рассчитывается не единый уровень \n",
    "`alpha` для всех тестов, а новый для каждого из тестов:"
   ]
  },
  {
   "cell_type": "code",
   "execution_count": 107,
   "metadata": {
    "scrolled": true
   },
   "outputs": [],
   "source": [
    "# рассчитываем поправку Холма с помощью функции, обозначим эту функцию перед расчетом гипотез\n",
    "\n",
    "def holm_correction(m, alpha):\n",
    "    result = []\n",
    "    for i in range(m): # получаем номер текущей проверки гипотезы и считаем коррекцию \n",
    "        result += [alpha / (m - i)]\n",
    "    return result"
   ]
  },
  {
   "cell_type": "markdown",
   "metadata": {},
   "source": [
    "Таким образом, чтобы при множественном тестировании рассчитывать на «накопительную» ошибку в 5%, мы должны использовать в каждом тесте разные значения `alpha`."
   ]
  },
  {
   "cell_type": "markdown",
   "metadata": {},
   "source": [
    "При корректировке уровня значимости наши выводы по итогам проверки гипотез о статистическом равенстве между выборками разных контрольных групп не меняются. Однако, в таких сравнениях следует помнить, что понижается мощность теста."
   ]
  },
  {
   "cell_type": "markdown",
   "metadata": {},
   "source": [
    "**Вывод**\n",
    "\n",
    "В результате исследования эксперимента мы рассчитали сколько пользователей в каждой экспериментальной группе и увидели, что в долях разница между группами невелика. Однако для корректных результатов необходимо было провести статистический тест о равенстве долей каждой группы в разрезе каждого события воронки.\n",
    "\n",
    "Мы провели 16 тестов, каждый из которых показал, что нет оснований считать доли выборок разными. Значит, разбиение трафика по группам работает корректно, а также отсутствуют различия между контрольными и эксперементальной группами. Можем остановить тест и признать, что смена шрифта не влияет на поведение пользователей.\n",
    "\n",
    "При расчёте статистических тестов была учтена групповая вероятность ошибки первого рода и проведена коррекция уровня значимости."
   ]
  },
  {
   "cell_type": "markdown",
   "metadata": {},
   "source": [
    "## Вывод"
   ]
  },
  {
   "cell_type": "markdown",
   "metadata": {},
   "source": [
    "В ходе проведенного исследования для стартапа по продаже продуктов питания проанализированы данные - лог о пользователях, их действиях и событиях.\n",
    "\n",
    "Исследование проводилось в несколько этапов:\n",
    "\n",
    "- выполнена предобработка данных: установлен корректный тип данных и стиль оформления названий столбцов, проведена проверка на пропуски и дубликаты;\n",
    "- добавлены столбцы с датой и временем, а также отдельный столбец дат в исходный датафрейм;\n",
    "- выполнены исследование и проверка данных;\n",
    "- построена и изучена воронка событий;\n",
    "- исследованы результаты A/A/B теста.\n",
    "\n",
    "**После проведенного исследования можно сделать следующие выводы:**\n",
    "\n",
    "1. В ходе исследования исходной таблицы обнаружено, что в данных была информация за 2-хнедельный период действий пользователей, однако, построив график распределения количества событий по дням, выявлено, что данные до 1 августа 2019 неполные и учитывать их в дальнейшем анализе нецелесообразно. В связи с этим, мы отфильтровали для анализа и оставили для исследования данные с 1 по 7 августа 2019 года, тем самым, сократив анализируемый период времени до 1-й недели. Отфильтровав данные, мы отбросили около 0,23% пользователей и 1,16% событий.\n",
    "\n",
    "\n",
    "2. На этапе изучения воронки событий была проанализирована частота всех возможных событий в логе, посчитано, сколько пользователей совершали каждое из 5 представленных событий. Мы предположили, что воронка для пользователей имеет следующий порядок:\n",
    "\n",
    "- MainScreenAppear - появление главной страницы;\n",
    "- OffersScreenAppear - появление страницы с предложениями (товарами);\n",
    "- CartScreenAppear - появление страницы с корзиной;\n",
    "- PaymentScreenSuccessful - появление страницы об успешной оплате.\n",
    "\n",
    "    Не все этапы мы отнесли к последовательной событийной воронке - обучение (Tutorial) пользователи могут пропускать, из-за этого данное событие имеет наименьшую долю использования пользователями.\n",
    "\n",
    "    Больше всего пользователей мы теряем сразу после шага `MainScreenAppear`, 38% пользователей не доходят до второго этапа - воронки `OffersScreenAppear`. При этом 47% от всех пользователей доходит от начала и до последнего шага воронки - успешной оплаты заказа.\n",
    "\n",
    "\n",
    "3. В результате исследования эксперимента A/A/B теста мы рассчитали сколько пользователей в каждой экспериментальной группе и увидели, что в долях разница между группами невелика (0.330, 0.334 и 0.337 соответственно). Однако для корректных результатов мы провели статистический тест о равенстве долей каждой группы в разрезе каждого события воронки.\n",
    "\n",
    "    Мы провели *16 тестов*, каждый из которых показал, что *нет оснований считать доли выборок разными*. Равенство для групп A/A говорит о том, что разбиение трафика по группам работает корректно, а равенство групп A/A(/A+A)/B позволяет понять, что **отсутствуют различия между контрольными и эксперементальной группами. Можем остановить тест и признать, что смена шрифта не влияет на поведение пользователей.** \n",
    "    \n",
    "    При расчёте статистических тестов была учтена групповая вероятность ошибки первого рода и проведена коррекция уровня значимости итерационным методом Холма до `alpha = 0.05`.\n"
   ]
  }
 ],
 "metadata": {
  "ExecuteTimeLog": [
   {
    "duration": 1457,
    "start_time": "2024-04-21T13:41:20.868Z"
   },
   {
    "duration": 1041,
    "start_time": "2024-04-21T13:42:57.717Z"
   },
   {
    "duration": 5,
    "start_time": "2024-04-21T13:43:56.326Z"
   },
   {
    "duration": 714,
    "start_time": "2024-04-21T13:44:22.261Z"
   },
   {
    "duration": 91,
    "start_time": "2024-04-21T13:45:02.300Z"
   },
   {
    "duration": 85,
    "start_time": "2024-04-21T13:45:49.703Z"
   },
   {
    "duration": 625,
    "start_time": "2024-04-21T13:46:13.516Z"
   },
   {
    "duration": 86,
    "start_time": "2024-04-21T13:46:17.375Z"
   },
   {
    "duration": 334,
    "start_time": "2024-04-21T13:46:43.001Z"
   },
   {
    "duration": 4,
    "start_time": "2024-04-21T13:46:44.233Z"
   },
   {
    "duration": 653,
    "start_time": "2024-04-21T13:46:45.481Z"
   },
   {
    "duration": 193,
    "start_time": "2024-04-21T13:46:51.600Z"
   },
   {
    "duration": 4,
    "start_time": "2024-04-21T13:46:52.777Z"
   },
   {
    "duration": 207,
    "start_time": "2024-04-21T13:46:54.002Z"
   },
   {
    "duration": 17,
    "start_time": "2024-04-21T14:00:26.389Z"
   },
   {
    "duration": 785,
    "start_time": "2024-04-21T14:00:50.361Z"
   },
   {
    "duration": 7,
    "start_time": "2024-04-21T14:01:00.622Z"
   },
   {
    "duration": 14,
    "start_time": "2024-04-21T14:01:04.725Z"
   },
   {
    "duration": 5,
    "start_time": "2024-04-21T14:02:04.139Z"
   },
   {
    "duration": 97,
    "start_time": "2024-04-21T14:04:20.903Z"
   },
   {
    "duration": 81,
    "start_time": "2024-04-21T14:04:52.509Z"
   },
   {
    "duration": 55,
    "start_time": "2024-04-21T14:05:06.857Z"
   },
   {
    "duration": 1236,
    "start_time": "2024-04-21T14:05:12.318Z"
   },
   {
    "duration": 195,
    "start_time": "2024-04-21T14:05:13.556Z"
   },
   {
    "duration": 4,
    "start_time": "2024-04-21T14:05:13.753Z"
   },
   {
    "duration": 216,
    "start_time": "2024-04-21T14:05:13.759Z"
   },
   {
    "duration": 5,
    "start_time": "2024-04-21T14:05:13.977Z"
   },
   {
    "duration": 24,
    "start_time": "2024-04-21T14:05:13.984Z"
   },
   {
    "duration": 84,
    "start_time": "2024-04-21T14:05:14.010Z"
   },
   {
    "duration": 55,
    "start_time": "2024-04-21T14:05:14.095Z"
   },
   {
    "duration": 32,
    "start_time": "2024-04-21T14:13:26.377Z"
   },
   {
    "duration": 8,
    "start_time": "2024-04-21T14:13:45.652Z"
   },
   {
    "duration": 125,
    "start_time": "2024-04-21T14:17:05.188Z"
   },
   {
    "duration": 9,
    "start_time": "2024-04-21T14:17:50.917Z"
   },
   {
    "duration": 16,
    "start_time": "2024-04-21T14:17:58.136Z"
   },
   {
    "duration": 86,
    "start_time": "2024-04-21T14:20:49.685Z"
   },
   {
    "duration": 19,
    "start_time": "2024-04-21T14:20:50.370Z"
   },
   {
    "duration": 10,
    "start_time": "2024-04-21T14:21:12.428Z"
   },
   {
    "duration": 9,
    "start_time": "2024-04-21T14:24:40.632Z"
   },
   {
    "duration": 6,
    "start_time": "2024-04-21T14:25:29.732Z"
   },
   {
    "duration": 9,
    "start_time": "2024-04-21T14:25:54.069Z"
   },
   {
    "duration": 8,
    "start_time": "2024-04-21T14:26:21.989Z"
   },
   {
    "duration": 1230,
    "start_time": "2024-04-21T14:37:54.375Z"
   },
   {
    "duration": 191,
    "start_time": "2024-04-21T14:37:55.606Z"
   },
   {
    "duration": 5,
    "start_time": "2024-04-21T14:37:55.799Z"
   },
   {
    "duration": 223,
    "start_time": "2024-04-21T14:37:55.805Z"
   },
   {
    "duration": 6,
    "start_time": "2024-04-21T14:37:56.030Z"
   },
   {
    "duration": 36,
    "start_time": "2024-04-21T14:37:56.038Z"
   },
   {
    "duration": 98,
    "start_time": "2024-04-21T14:37:56.076Z"
   },
   {
    "duration": 55,
    "start_time": "2024-04-21T14:37:56.177Z"
   },
   {
    "duration": 40,
    "start_time": "2024-04-21T14:37:56.233Z"
   },
   {
    "duration": 5,
    "start_time": "2024-04-21T14:37:56.275Z"
   },
   {
    "duration": 102,
    "start_time": "2024-04-21T14:37:56.281Z"
   },
   {
    "duration": 11,
    "start_time": "2024-04-21T14:37:56.385Z"
   },
   {
    "duration": 19,
    "start_time": "2024-04-21T14:37:56.397Z"
   },
   {
    "duration": 10,
    "start_time": "2024-04-21T14:37:56.418Z"
   },
   {
    "duration": 8,
    "start_time": "2024-04-21T14:38:02.163Z"
   },
   {
    "duration": 93,
    "start_time": "2024-04-21T14:39:48.351Z"
   },
   {
    "duration": 245,
    "start_time": "2024-04-21T14:39:57.543Z"
   },
   {
    "duration": 8,
    "start_time": "2024-04-21T14:48:11.750Z"
   },
   {
    "duration": 245,
    "start_time": "2024-04-21T14:48:15.157Z"
   },
   {
    "duration": 1197,
    "start_time": "2024-04-21T14:48:43.029Z"
   },
   {
    "duration": 200,
    "start_time": "2024-04-21T14:48:44.228Z"
   },
   {
    "duration": 6,
    "start_time": "2024-04-21T14:48:44.430Z"
   },
   {
    "duration": 212,
    "start_time": "2024-04-21T14:48:44.438Z"
   },
   {
    "duration": 8,
    "start_time": "2024-04-21T14:48:44.672Z"
   },
   {
    "duration": 4,
    "start_time": "2024-04-21T14:48:44.682Z"
   },
   {
    "duration": 101,
    "start_time": "2024-04-21T14:48:44.688Z"
   },
   {
    "duration": 55,
    "start_time": "2024-04-21T14:48:44.790Z"
   },
   {
    "duration": 42,
    "start_time": "2024-04-21T14:48:44.847Z"
   },
   {
    "duration": 5,
    "start_time": "2024-04-21T14:48:44.891Z"
   },
   {
    "duration": 98,
    "start_time": "2024-04-21T14:48:44.898Z"
   },
   {
    "duration": 10,
    "start_time": "2024-04-21T14:48:44.998Z"
   },
   {
    "duration": 345,
    "start_time": "2024-04-21T14:48:45.010Z"
   },
   {
    "duration": 139,
    "start_time": "2024-04-21T14:48:45.357Z"
   },
   {
    "duration": 48,
    "start_time": "2024-04-21T14:49:27.971Z"
   },
   {
    "duration": 45,
    "start_time": "2024-04-21T14:49:35.870Z"
   },
   {
    "duration": 8,
    "start_time": "2024-04-21T14:52:29.496Z"
   },
   {
    "duration": 41,
    "start_time": "2024-04-21T14:52:41.141Z"
   },
   {
    "duration": 22,
    "start_time": "2024-04-21T14:53:15.963Z"
   },
   {
    "duration": 47,
    "start_time": "2024-04-21T14:53:27.711Z"
   },
   {
    "duration": 39,
    "start_time": "2024-04-21T14:53:35.250Z"
   },
   {
    "duration": 19,
    "start_time": "2024-04-21T14:58:03.408Z"
   },
   {
    "duration": 45,
    "start_time": "2024-04-21T14:58:11.462Z"
   },
   {
    "duration": 13,
    "start_time": "2024-04-21T14:58:34.122Z"
   },
   {
    "duration": 45,
    "start_time": "2024-04-21T14:59:05.201Z"
   },
   {
    "duration": 15,
    "start_time": "2024-04-21T14:59:43.361Z"
   },
   {
    "duration": 55,
    "start_time": "2024-04-21T14:59:50.100Z"
   },
   {
    "duration": 4,
    "start_time": "2024-04-21T15:01:20.569Z"
   },
   {
    "duration": 659,
    "start_time": "2024-04-21T15:01:24.389Z"
   },
   {
    "duration": 649,
    "start_time": "2024-04-21T15:01:34.330Z"
   },
   {
    "duration": 677,
    "start_time": "2024-04-21T15:01:49.948Z"
   },
   {
    "duration": 42,
    "start_time": "2024-04-21T15:02:04.101Z"
   },
   {
    "duration": 703,
    "start_time": "2024-04-21T15:04:22.665Z"
   },
   {
    "duration": 59,
    "start_time": "2024-04-21T15:06:27.420Z"
   },
   {
    "duration": 55,
    "start_time": "2024-04-21T15:06:41.024Z"
   },
   {
    "duration": 53,
    "start_time": "2024-04-21T15:06:46.973Z"
   },
   {
    "duration": 1145,
    "start_time": "2024-04-21T15:06:58.022Z"
   },
   {
    "duration": 379,
    "start_time": "2024-04-21T15:07:10.314Z"
   },
   {
    "duration": 376,
    "start_time": "2024-04-21T15:08:06.535Z"
   },
   {
    "duration": 364,
    "start_time": "2024-04-21T15:08:23.228Z"
   },
   {
    "duration": 371,
    "start_time": "2024-04-21T15:08:29.941Z"
   },
   {
    "duration": 362,
    "start_time": "2024-04-21T15:08:51.772Z"
   },
   {
    "duration": 1497,
    "start_time": "2024-04-22T14:37:33.745Z"
   },
   {
    "duration": 894,
    "start_time": "2024-04-22T14:37:35.244Z"
   },
   {
    "duration": 4,
    "start_time": "2024-04-22T14:37:36.140Z"
   },
   {
    "duration": 234,
    "start_time": "2024-04-22T14:37:36.146Z"
   },
   {
    "duration": 6,
    "start_time": "2024-04-22T14:37:36.383Z"
   },
   {
    "duration": 11,
    "start_time": "2024-04-22T14:37:36.390Z"
   },
   {
    "duration": 107,
    "start_time": "2024-04-22T14:37:36.403Z"
   },
   {
    "duration": 62,
    "start_time": "2024-04-22T14:37:36.512Z"
   },
   {
    "duration": 35,
    "start_time": "2024-04-22T14:37:36.576Z"
   },
   {
    "duration": 5,
    "start_time": "2024-04-22T14:37:36.614Z"
   },
   {
    "duration": 119,
    "start_time": "2024-04-22T14:37:36.620Z"
   },
   {
    "duration": 10,
    "start_time": "2024-04-22T14:37:36.741Z"
   },
   {
    "duration": 273,
    "start_time": "2024-04-22T14:37:36.753Z"
   },
   {
    "duration": 67,
    "start_time": "2024-04-22T14:37:37.029Z"
   },
   {
    "duration": 42,
    "start_time": "2024-04-22T14:37:37.098Z"
   },
   {
    "duration": 398,
    "start_time": "2024-04-22T14:37:37.142Z"
   },
   {
    "duration": 0,
    "start_time": "2024-04-22T14:42:46.315Z"
   },
   {
    "duration": 1222,
    "start_time": "2024-04-22T14:43:02.938Z"
   },
   {
    "duration": 187,
    "start_time": "2024-04-22T14:43:04.162Z"
   },
   {
    "duration": 4,
    "start_time": "2024-04-22T14:43:04.351Z"
   },
   {
    "duration": 218,
    "start_time": "2024-04-22T14:43:04.357Z"
   },
   {
    "duration": 6,
    "start_time": "2024-04-22T14:43:04.576Z"
   },
   {
    "duration": 17,
    "start_time": "2024-04-22T14:43:04.583Z"
   },
   {
    "duration": 82,
    "start_time": "2024-04-22T14:43:04.602Z"
   },
   {
    "duration": 55,
    "start_time": "2024-04-22T14:43:04.686Z"
   },
   {
    "duration": 39,
    "start_time": "2024-04-22T14:43:04.743Z"
   },
   {
    "duration": 5,
    "start_time": "2024-04-22T14:43:04.784Z"
   },
   {
    "duration": 99,
    "start_time": "2024-04-22T14:43:04.791Z"
   },
   {
    "duration": 10,
    "start_time": "2024-04-22T14:43:04.892Z"
   },
   {
    "duration": 274,
    "start_time": "2024-04-22T14:43:04.904Z"
   },
   {
    "duration": 45,
    "start_time": "2024-04-22T14:43:05.180Z"
   },
   {
    "duration": 52,
    "start_time": "2024-04-22T14:43:05.226Z"
   },
   {
    "duration": 396,
    "start_time": "2024-04-22T14:43:05.280Z"
   },
   {
    "duration": 53,
    "start_time": "2024-04-22T14:48:22.204Z"
   },
   {
    "duration": 637,
    "start_time": "2024-04-22T14:48:32.070Z"
   },
   {
    "duration": 98,
    "start_time": "2024-04-22T14:50:19.278Z"
   },
   {
    "duration": 400,
    "start_time": "2024-04-22T14:51:00.126Z"
   },
   {
    "duration": 934,
    "start_time": "2024-04-22T14:51:13.023Z"
   },
   {
    "duration": 8,
    "start_time": "2024-04-22T14:51:24.774Z"
   },
   {
    "duration": 694,
    "start_time": "2024-04-22T14:51:31.477Z"
   },
   {
    "duration": 442,
    "start_time": "2024-04-22T14:51:57.307Z"
   },
   {
    "duration": 37,
    "start_time": "2024-04-22T14:53:23.867Z"
   },
   {
    "duration": 306,
    "start_time": "2024-04-22T14:53:34.757Z"
   },
   {
    "duration": 14,
    "start_time": "2024-04-22T14:56:31.804Z"
   },
   {
    "duration": 1310,
    "start_time": "2024-04-22T14:58:35.853Z"
   },
   {
    "duration": 192,
    "start_time": "2024-04-22T14:58:37.165Z"
   },
   {
    "duration": 4,
    "start_time": "2024-04-22T14:58:37.359Z"
   },
   {
    "duration": 266,
    "start_time": "2024-04-22T14:58:37.365Z"
   },
   {
    "duration": 5,
    "start_time": "2024-04-22T14:58:37.632Z"
   },
   {
    "duration": 11,
    "start_time": "2024-04-22T14:58:37.639Z"
   },
   {
    "duration": 111,
    "start_time": "2024-04-22T14:58:37.652Z"
   },
   {
    "duration": 66,
    "start_time": "2024-04-22T14:58:37.765Z"
   },
   {
    "duration": 46,
    "start_time": "2024-04-22T14:58:37.833Z"
   },
   {
    "duration": 8,
    "start_time": "2024-04-22T14:58:37.884Z"
   },
   {
    "duration": 128,
    "start_time": "2024-04-22T14:58:37.895Z"
   },
   {
    "duration": 11,
    "start_time": "2024-04-22T14:58:38.025Z"
   },
   {
    "duration": 290,
    "start_time": "2024-04-22T14:58:38.037Z"
   },
   {
    "duration": 14,
    "start_time": "2024-04-22T14:58:38.328Z"
   },
   {
    "duration": 72,
    "start_time": "2024-04-22T14:58:38.343Z"
   },
   {
    "duration": 414,
    "start_time": "2024-04-22T14:58:38.417Z"
   },
   {
    "duration": 40,
    "start_time": "2024-04-22T14:58:38.833Z"
   },
   {
    "duration": 298,
    "start_time": "2024-04-22T14:58:38.875Z"
   },
   {
    "duration": 13,
    "start_time": "2024-04-22T14:59:55.597Z"
   },
   {
    "duration": 11,
    "start_time": "2024-04-22T15:00:16.715Z"
   },
   {
    "duration": 11,
    "start_time": "2024-04-22T15:00:21.332Z"
   },
   {
    "duration": 11,
    "start_time": "2024-04-22T15:00:34.235Z"
   },
   {
    "duration": 11,
    "start_time": "2024-04-22T15:00:37.439Z"
   },
   {
    "duration": 12,
    "start_time": "2024-04-22T15:00:52.685Z"
   },
   {
    "duration": 11,
    "start_time": "2024-04-22T15:01:09.605Z"
   },
   {
    "duration": 11,
    "start_time": "2024-04-22T15:01:20.261Z"
   },
   {
    "duration": 11,
    "start_time": "2024-04-22T15:01:50.355Z"
   },
   {
    "duration": 12,
    "start_time": "2024-04-22T15:01:56.006Z"
   },
   {
    "duration": 12,
    "start_time": "2024-04-22T15:02:07.003Z"
   },
   {
    "duration": 14,
    "start_time": "2024-04-22T15:02:18.901Z"
   },
   {
    "duration": 11,
    "start_time": "2024-04-22T15:02:28.904Z"
   },
   {
    "duration": 12,
    "start_time": "2024-04-22T15:02:37.915Z"
   },
   {
    "duration": 6,
    "start_time": "2024-04-22T15:03:10.972Z"
   },
   {
    "duration": 4,
    "start_time": "2024-04-22T15:03:24.487Z"
   },
   {
    "duration": 4,
    "start_time": "2024-04-22T15:03:31.492Z"
   },
   {
    "duration": 8,
    "start_time": "2024-04-22T15:14:23.435Z"
   },
   {
    "duration": 41,
    "start_time": "2024-04-22T15:16:52.984Z"
   },
   {
    "duration": 79,
    "start_time": "2024-04-22T15:17:23.508Z"
   },
   {
    "duration": 40,
    "start_time": "2024-04-22T15:17:37.254Z"
   },
   {
    "duration": 38,
    "start_time": "2024-04-22T15:17:44.417Z"
   },
   {
    "duration": 168,
    "start_time": "2024-04-22T15:22:09.055Z"
   },
   {
    "duration": 43,
    "start_time": "2024-04-22T15:22:18.231Z"
   },
   {
    "duration": 8,
    "start_time": "2024-04-22T15:22:53.598Z"
   },
   {
    "duration": 123,
    "start_time": "2024-04-22T15:23:39.605Z"
   },
   {
    "duration": 46,
    "start_time": "2024-04-22T15:23:46.051Z"
   },
   {
    "duration": 47,
    "start_time": "2024-04-22T15:25:14.527Z"
   },
   {
    "duration": 42,
    "start_time": "2024-04-22T15:27:49.557Z"
   },
   {
    "duration": 39,
    "start_time": "2024-04-22T15:29:21.933Z"
   },
   {
    "duration": 40,
    "start_time": "2024-04-22T15:30:16.066Z"
   },
   {
    "duration": 40,
    "start_time": "2024-04-22T15:30:29.678Z"
   },
   {
    "duration": 4,
    "start_time": "2024-04-22T15:30:33.827Z"
   },
   {
    "duration": 38,
    "start_time": "2024-04-22T15:30:40.539Z"
   },
   {
    "duration": 987,
    "start_time": "2024-04-22T15:31:23.660Z"
   },
   {
    "duration": 41,
    "start_time": "2024-04-22T15:32:05.922Z"
   },
   {
    "duration": 1358,
    "start_time": "2024-04-22T15:35:31.990Z"
   },
   {
    "duration": 45,
    "start_time": "2024-04-22T15:35:38.129Z"
   },
   {
    "duration": 1260,
    "start_time": "2024-04-22T15:35:39.974Z"
   },
   {
    "duration": 21,
    "start_time": "2024-04-22T15:37:17.308Z"
   },
   {
    "duration": 65,
    "start_time": "2024-04-22T15:37:21.602Z"
   },
   {
    "duration": 57,
    "start_time": "2024-04-22T15:37:33.912Z"
   },
   {
    "duration": 58,
    "start_time": "2024-04-22T15:37:58.614Z"
   },
   {
    "duration": 58,
    "start_time": "2024-04-22T15:38:12.584Z"
   },
   {
    "duration": 10,
    "start_time": "2024-04-22T15:38:22.209Z"
   },
   {
    "duration": 12,
    "start_time": "2024-04-22T15:38:26.795Z"
   },
   {
    "duration": 12,
    "start_time": "2024-04-22T15:38:38.577Z"
   },
   {
    "duration": 15,
    "start_time": "2024-04-22T15:55:52.278Z"
   },
   {
    "duration": 14,
    "start_time": "2024-04-22T15:56:11.791Z"
   },
   {
    "duration": 46,
    "start_time": "2024-04-22T15:57:31.994Z"
   },
   {
    "duration": 8,
    "start_time": "2024-04-22T15:57:44.044Z"
   },
   {
    "duration": 2,
    "start_time": "2024-04-22T15:57:45.338Z"
   },
   {
    "duration": 8,
    "start_time": "2024-04-22T15:57:48.530Z"
   },
   {
    "duration": 72,
    "start_time": "2024-04-22T16:09:03.256Z"
   },
   {
    "duration": 17,
    "start_time": "2024-04-22T16:09:14.941Z"
   },
   {
    "duration": 17,
    "start_time": "2024-04-22T16:09:33.184Z"
   },
   {
    "duration": 12,
    "start_time": "2024-04-22T16:09:40.550Z"
   },
   {
    "duration": 12,
    "start_time": "2024-04-22T16:10:39.984Z"
   },
   {
    "duration": 13,
    "start_time": "2024-04-22T16:11:00.952Z"
   },
   {
    "duration": 13,
    "start_time": "2024-04-22T16:11:12.485Z"
   },
   {
    "duration": 362,
    "start_time": "2024-04-22T16:11:34.825Z"
   },
   {
    "duration": 343,
    "start_time": "2024-04-22T16:11:51.086Z"
   },
   {
    "duration": 1188,
    "start_time": "2024-04-22T16:12:01.926Z"
   },
   {
    "duration": 193,
    "start_time": "2024-04-22T16:12:03.115Z"
   },
   {
    "duration": 5,
    "start_time": "2024-04-22T16:12:03.309Z"
   },
   {
    "duration": 230,
    "start_time": "2024-04-22T16:12:03.315Z"
   },
   {
    "duration": 5,
    "start_time": "2024-04-22T16:12:03.548Z"
   },
   {
    "duration": 20,
    "start_time": "2024-04-22T16:12:03.555Z"
   },
   {
    "duration": 99,
    "start_time": "2024-04-22T16:12:03.577Z"
   },
   {
    "duration": 74,
    "start_time": "2024-04-22T16:12:03.678Z"
   },
   {
    "duration": 35,
    "start_time": "2024-04-22T16:12:03.754Z"
   },
   {
    "duration": 7,
    "start_time": "2024-04-22T16:12:03.791Z"
   },
   {
    "duration": 107,
    "start_time": "2024-04-22T16:12:03.800Z"
   },
   {
    "duration": 11,
    "start_time": "2024-04-22T16:12:03.909Z"
   },
   {
    "duration": 271,
    "start_time": "2024-04-22T16:12:03.922Z"
   },
   {
    "duration": 13,
    "start_time": "2024-04-22T16:12:04.196Z"
   },
   {
    "duration": 53,
    "start_time": "2024-04-22T16:12:04.210Z"
   },
   {
    "duration": 372,
    "start_time": "2024-04-22T16:12:04.264Z"
   },
   {
    "duration": 36,
    "start_time": "2024-04-22T16:12:04.638Z"
   },
   {
    "duration": 298,
    "start_time": "2024-04-22T16:12:04.676Z"
   },
   {
    "duration": 15,
    "start_time": "2024-04-22T16:12:04.975Z"
   },
   {
    "duration": 5,
    "start_time": "2024-04-22T16:12:04.991Z"
   },
   {
    "duration": 14,
    "start_time": "2024-04-22T16:12:04.998Z"
   },
   {
    "duration": 75,
    "start_time": "2024-04-22T16:12:05.014Z"
   },
   {
    "duration": 558,
    "start_time": "2024-04-22T16:12:05.091Z"
   },
   {
    "duration": 0,
    "start_time": "2024-04-22T16:12:05.651Z"
   },
   {
    "duration": 0,
    "start_time": "2024-04-22T16:12:05.652Z"
   },
   {
    "duration": 0,
    "start_time": "2024-04-22T16:12:05.654Z"
   },
   {
    "duration": 337,
    "start_time": "2024-04-22T16:12:32.014Z"
   },
   {
    "duration": 341,
    "start_time": "2024-04-22T16:13:17.200Z"
   },
   {
    "duration": 13,
    "start_time": "2024-04-22T16:13:36.588Z"
   },
   {
    "duration": 532,
    "start_time": "2024-04-22T16:14:35.779Z"
   },
   {
    "duration": 14,
    "start_time": "2024-04-22T16:14:38.053Z"
   },
   {
    "duration": 12,
    "start_time": "2024-04-22T16:14:43.369Z"
   },
   {
    "duration": 12,
    "start_time": "2024-04-22T16:14:57.647Z"
   },
   {
    "duration": 652,
    "start_time": "2024-04-22T16:15:00.990Z"
   },
   {
    "duration": 12,
    "start_time": "2024-04-22T16:15:03.228Z"
   },
   {
    "duration": 12,
    "start_time": "2024-04-22T16:15:18.489Z"
   },
   {
    "duration": 676,
    "start_time": "2024-04-22T16:15:22.213Z"
   },
   {
    "duration": 12,
    "start_time": "2024-04-22T16:16:00.413Z"
   },
   {
    "duration": 8,
    "start_time": "2024-04-22T16:16:57.134Z"
   },
   {
    "duration": 1258,
    "start_time": "2024-04-22T16:17:06.994Z"
   },
   {
    "duration": 191,
    "start_time": "2024-04-22T16:17:08.254Z"
   },
   {
    "duration": 5,
    "start_time": "2024-04-22T16:17:08.447Z"
   },
   {
    "duration": 221,
    "start_time": "2024-04-22T16:17:08.453Z"
   },
   {
    "duration": 6,
    "start_time": "2024-04-22T16:17:08.676Z"
   },
   {
    "duration": 7,
    "start_time": "2024-04-22T16:17:08.683Z"
   },
   {
    "duration": 99,
    "start_time": "2024-04-22T16:17:08.691Z"
   },
   {
    "duration": 67,
    "start_time": "2024-04-22T16:17:08.792Z"
   },
   {
    "duration": 42,
    "start_time": "2024-04-22T16:17:08.860Z"
   },
   {
    "duration": 5,
    "start_time": "2024-04-22T16:17:08.904Z"
   },
   {
    "duration": 101,
    "start_time": "2024-04-22T16:17:08.911Z"
   },
   {
    "duration": 10,
    "start_time": "2024-04-22T16:17:09.013Z"
   },
   {
    "duration": 267,
    "start_time": "2024-04-22T16:17:09.025Z"
   },
   {
    "duration": 13,
    "start_time": "2024-04-22T16:17:09.294Z"
   },
   {
    "duration": 67,
    "start_time": "2024-04-22T16:17:09.308Z"
   },
   {
    "duration": 366,
    "start_time": "2024-04-22T16:17:09.376Z"
   },
   {
    "duration": 39,
    "start_time": "2024-04-22T16:17:09.744Z"
   },
   {
    "duration": 287,
    "start_time": "2024-04-22T16:17:09.785Z"
   },
   {
    "duration": 14,
    "start_time": "2024-04-22T16:17:10.073Z"
   },
   {
    "duration": 10,
    "start_time": "2024-04-22T16:17:10.089Z"
   },
   {
    "duration": 24,
    "start_time": "2024-04-22T16:17:10.100Z"
   },
   {
    "duration": 65,
    "start_time": "2024-04-22T16:17:10.126Z"
   },
   {
    "duration": 17,
    "start_time": "2024-04-22T16:17:10.193Z"
   },
   {
    "duration": 7,
    "start_time": "2024-04-22T16:17:10.212Z"
   },
   {
    "duration": 7,
    "start_time": "2024-04-22T16:17:10.221Z"
   },
   {
    "duration": 106,
    "start_time": "2024-04-22T16:17:10.230Z"
   },
   {
    "duration": 77,
    "start_time": "2024-04-22T16:18:22.383Z"
   },
   {
    "duration": 80,
    "start_time": "2024-04-22T16:18:27.782Z"
   },
   {
    "duration": 3,
    "start_time": "2024-04-22T16:18:36.849Z"
   },
   {
    "duration": 1634,
    "start_time": "2024-04-22T16:20:16.514Z"
   },
   {
    "duration": 1267,
    "start_time": "2024-04-22T16:21:53.154Z"
   },
   {
    "duration": 12,
    "start_time": "2024-04-22T16:22:32.257Z"
   },
   {
    "duration": 16,
    "start_time": "2024-04-22T16:22:38.222Z"
   },
   {
    "duration": 16,
    "start_time": "2024-04-22T16:23:11.495Z"
   },
   {
    "duration": 1521,
    "start_time": "2024-04-22T16:26:21.748Z"
   },
   {
    "duration": 5,
    "start_time": "2024-04-22T16:26:36.071Z"
   },
   {
    "duration": 8,
    "start_time": "2024-04-22T16:26:42.368Z"
   },
   {
    "duration": 1207,
    "start_time": "2024-04-22T16:27:24.799Z"
   },
   {
    "duration": 195,
    "start_time": "2024-04-22T16:27:26.008Z"
   },
   {
    "duration": 5,
    "start_time": "2024-04-22T16:27:26.204Z"
   },
   {
    "duration": 211,
    "start_time": "2024-04-22T16:27:26.210Z"
   },
   {
    "duration": 6,
    "start_time": "2024-04-22T16:27:26.424Z"
   },
   {
    "duration": 14,
    "start_time": "2024-04-22T16:27:26.432Z"
   },
   {
    "duration": 94,
    "start_time": "2024-04-22T16:27:26.447Z"
   },
   {
    "duration": 68,
    "start_time": "2024-04-22T16:27:26.543Z"
   },
   {
    "duration": 27,
    "start_time": "2024-04-22T16:27:26.613Z"
   },
   {
    "duration": 5,
    "start_time": "2024-04-22T16:27:26.642Z"
   },
   {
    "duration": 103,
    "start_time": "2024-04-22T16:27:26.648Z"
   },
   {
    "duration": 10,
    "start_time": "2024-04-22T16:27:26.753Z"
   },
   {
    "duration": 259,
    "start_time": "2024-04-22T16:27:26.764Z"
   },
   {
    "duration": 13,
    "start_time": "2024-04-22T16:27:27.026Z"
   },
   {
    "duration": 61,
    "start_time": "2024-04-22T16:27:27.041Z"
   },
   {
    "duration": 371,
    "start_time": "2024-04-22T16:27:27.104Z"
   },
   {
    "duration": 33,
    "start_time": "2024-04-22T16:27:27.476Z"
   },
   {
    "duration": 316,
    "start_time": "2024-04-22T16:27:27.510Z"
   },
   {
    "duration": 14,
    "start_time": "2024-04-22T16:27:27.828Z"
   },
   {
    "duration": 8,
    "start_time": "2024-04-22T16:27:27.844Z"
   },
   {
    "duration": 22,
    "start_time": "2024-04-22T16:27:27.854Z"
   },
   {
    "duration": 56,
    "start_time": "2024-04-22T16:27:27.877Z"
   },
   {
    "duration": 17,
    "start_time": "2024-04-22T16:27:27.934Z"
   },
   {
    "duration": 23,
    "start_time": "2024-04-22T16:27:27.953Z"
   },
   {
    "duration": 12,
    "start_time": "2024-04-22T16:27:27.978Z"
   },
   {
    "duration": 14,
    "start_time": "2024-04-22T16:27:27.991Z"
   },
   {
    "duration": 10,
    "start_time": "2024-04-22T16:27:28.006Z"
   },
   {
    "duration": 10,
    "start_time": "2024-04-22T16:28:19.075Z"
   },
   {
    "duration": 5,
    "start_time": "2024-04-22T16:28:40.545Z"
   },
   {
    "duration": 8,
    "start_time": "2024-04-22T16:28:41.928Z"
   },
   {
    "duration": 1269,
    "start_time": "2024-04-22T16:28:47.441Z"
   },
   {
    "duration": 192,
    "start_time": "2024-04-22T16:28:48.712Z"
   },
   {
    "duration": 5,
    "start_time": "2024-04-22T16:28:48.906Z"
   },
   {
    "duration": 215,
    "start_time": "2024-04-22T16:28:48.913Z"
   },
   {
    "duration": 7,
    "start_time": "2024-04-22T16:28:49.129Z"
   },
   {
    "duration": 6,
    "start_time": "2024-04-22T16:28:49.137Z"
   },
   {
    "duration": 104,
    "start_time": "2024-04-22T16:28:49.145Z"
   },
   {
    "duration": 63,
    "start_time": "2024-04-22T16:28:49.250Z"
   },
   {
    "duration": 27,
    "start_time": "2024-04-22T16:28:49.315Z"
   },
   {
    "duration": 5,
    "start_time": "2024-04-22T16:28:49.346Z"
   },
   {
    "duration": 93,
    "start_time": "2024-04-22T16:28:49.373Z"
   },
   {
    "duration": 14,
    "start_time": "2024-04-22T16:28:49.468Z"
   },
   {
    "duration": 266,
    "start_time": "2024-04-22T16:28:49.484Z"
   },
   {
    "duration": 30,
    "start_time": "2024-04-22T16:28:49.751Z"
   },
   {
    "duration": 38,
    "start_time": "2024-04-22T16:28:49.782Z"
   },
   {
    "duration": 387,
    "start_time": "2024-04-22T16:28:49.821Z"
   },
   {
    "duration": 31,
    "start_time": "2024-04-22T16:28:50.210Z"
   },
   {
    "duration": 295,
    "start_time": "2024-04-22T16:28:50.242Z"
   },
   {
    "duration": 14,
    "start_time": "2024-04-22T16:28:50.539Z"
   },
   {
    "duration": 18,
    "start_time": "2024-04-22T16:28:50.555Z"
   },
   {
    "duration": 25,
    "start_time": "2024-04-22T16:28:50.575Z"
   },
   {
    "duration": 70,
    "start_time": "2024-04-22T16:28:50.601Z"
   },
   {
    "duration": 16,
    "start_time": "2024-04-22T16:28:50.673Z"
   },
   {
    "duration": 15,
    "start_time": "2024-04-22T16:28:50.690Z"
   },
   {
    "duration": 26,
    "start_time": "2024-04-22T16:28:50.706Z"
   },
   {
    "duration": 20,
    "start_time": "2024-04-22T16:28:50.734Z"
   },
   {
    "duration": 13,
    "start_time": "2024-04-22T16:28:50.755Z"
   },
   {
    "duration": 1199,
    "start_time": "2024-04-22T16:29:04.229Z"
   },
   {
    "duration": 194,
    "start_time": "2024-04-22T16:29:05.430Z"
   },
   {
    "duration": 5,
    "start_time": "2024-04-22T16:29:05.625Z"
   },
   {
    "duration": 224,
    "start_time": "2024-04-22T16:29:05.632Z"
   },
   {
    "duration": 17,
    "start_time": "2024-04-22T16:29:05.858Z"
   },
   {
    "duration": 15,
    "start_time": "2024-04-22T16:29:05.877Z"
   },
   {
    "duration": 95,
    "start_time": "2024-04-22T16:29:05.893Z"
   },
   {
    "duration": 58,
    "start_time": "2024-04-22T16:29:05.990Z"
   },
   {
    "duration": 38,
    "start_time": "2024-04-22T16:29:06.050Z"
   },
   {
    "duration": 5,
    "start_time": "2024-04-22T16:29:06.091Z"
   },
   {
    "duration": 96,
    "start_time": "2024-04-22T16:29:06.097Z"
   },
   {
    "duration": 10,
    "start_time": "2024-04-22T16:29:06.195Z"
   },
   {
    "duration": 247,
    "start_time": "2024-04-22T16:29:06.207Z"
   },
   {
    "duration": 22,
    "start_time": "2024-04-22T16:29:06.455Z"
   },
   {
    "duration": 70,
    "start_time": "2024-04-22T16:29:06.479Z"
   },
   {
    "duration": 361,
    "start_time": "2024-04-22T16:29:06.551Z"
   },
   {
    "duration": 31,
    "start_time": "2024-04-22T16:29:06.914Z"
   },
   {
    "duration": 321,
    "start_time": "2024-04-22T16:29:06.947Z"
   },
   {
    "duration": 14,
    "start_time": "2024-04-22T16:29:07.272Z"
   },
   {
    "duration": 5,
    "start_time": "2024-04-22T16:29:07.288Z"
   },
   {
    "duration": 15,
    "start_time": "2024-04-22T16:29:07.294Z"
   },
   {
    "duration": 70,
    "start_time": "2024-04-22T16:29:07.310Z"
   },
   {
    "duration": 15,
    "start_time": "2024-04-22T16:29:07.382Z"
   },
   {
    "duration": 5,
    "start_time": "2024-04-22T16:29:07.399Z"
   },
   {
    "duration": 5,
    "start_time": "2024-04-22T16:29:07.406Z"
   },
   {
    "duration": 7,
    "start_time": "2024-04-22T16:29:07.412Z"
   },
   {
    "duration": 9,
    "start_time": "2024-04-22T16:29:07.421Z"
   },
   {
    "duration": 3,
    "start_time": "2024-04-22T16:29:53.120Z"
   },
   {
    "duration": 1295,
    "start_time": "2024-04-22T16:30:00.150Z"
   },
   {
    "duration": 222,
    "start_time": "2024-04-22T16:30:01.447Z"
   },
   {
    "duration": 5,
    "start_time": "2024-04-22T16:30:01.671Z"
   },
   {
    "duration": 335,
    "start_time": "2024-04-22T16:30:01.678Z"
   },
   {
    "duration": 6,
    "start_time": "2024-04-22T16:30:02.014Z"
   },
   {
    "duration": 58,
    "start_time": "2024-04-22T16:30:02.021Z"
   },
   {
    "duration": 163,
    "start_time": "2024-04-22T16:30:02.081Z"
   },
   {
    "duration": 56,
    "start_time": "2024-04-22T16:30:02.246Z"
   },
   {
    "duration": 28,
    "start_time": "2024-04-22T16:30:02.304Z"
   },
   {
    "duration": 11,
    "start_time": "2024-04-22T16:30:02.335Z"
   },
   {
    "duration": 151,
    "start_time": "2024-04-22T16:30:02.348Z"
   },
   {
    "duration": 11,
    "start_time": "2024-04-22T16:30:02.501Z"
   },
   {
    "duration": 287,
    "start_time": "2024-04-22T16:30:02.515Z"
   },
   {
    "duration": 14,
    "start_time": "2024-04-22T16:30:02.804Z"
   },
   {
    "duration": 60,
    "start_time": "2024-04-22T16:30:02.821Z"
   },
   {
    "duration": 370,
    "start_time": "2024-04-22T16:30:02.883Z"
   },
   {
    "duration": 40,
    "start_time": "2024-04-22T16:30:03.255Z"
   },
   {
    "duration": 346,
    "start_time": "2024-04-22T16:30:03.297Z"
   },
   {
    "duration": 15,
    "start_time": "2024-04-22T16:30:03.645Z"
   },
   {
    "duration": 6,
    "start_time": "2024-04-22T16:30:03.672Z"
   },
   {
    "duration": 27,
    "start_time": "2024-04-22T16:30:03.680Z"
   },
   {
    "duration": 64,
    "start_time": "2024-04-22T16:30:03.709Z"
   },
   {
    "duration": 16,
    "start_time": "2024-04-22T16:30:03.776Z"
   },
   {
    "duration": 10,
    "start_time": "2024-04-22T16:30:03.794Z"
   },
   {
    "duration": 18,
    "start_time": "2024-04-22T16:30:03.806Z"
   },
   {
    "duration": 10,
    "start_time": "2024-04-22T16:30:03.826Z"
   },
   {
    "duration": 13,
    "start_time": "2024-04-22T16:30:03.838Z"
   },
   {
    "duration": 108,
    "start_time": "2024-04-22T16:31:22.207Z"
   },
   {
    "duration": 10,
    "start_time": "2024-04-22T16:31:45.430Z"
   },
   {
    "duration": 51,
    "start_time": "2024-04-22T16:33:27.204Z"
   },
   {
    "duration": 6,
    "start_time": "2024-04-22T16:33:33.433Z"
   },
   {
    "duration": 1220,
    "start_time": "2024-04-22T16:33:39.695Z"
   },
   {
    "duration": 193,
    "start_time": "2024-04-22T16:33:40.917Z"
   },
   {
    "duration": 5,
    "start_time": "2024-04-22T16:33:41.112Z"
   },
   {
    "duration": 282,
    "start_time": "2024-04-22T16:33:41.119Z"
   },
   {
    "duration": 5,
    "start_time": "2024-04-22T16:33:41.403Z"
   },
   {
    "duration": 7,
    "start_time": "2024-04-22T16:33:41.410Z"
   },
   {
    "duration": 100,
    "start_time": "2024-04-22T16:33:41.418Z"
   },
   {
    "duration": 60,
    "start_time": "2024-04-22T16:33:41.520Z"
   },
   {
    "duration": 26,
    "start_time": "2024-04-22T16:33:41.582Z"
   },
   {
    "duration": 11,
    "start_time": "2024-04-22T16:33:41.609Z"
   },
   {
    "duration": 109,
    "start_time": "2024-04-22T16:33:41.621Z"
   },
   {
    "duration": 11,
    "start_time": "2024-04-22T16:33:41.731Z"
   },
   {
    "duration": 250,
    "start_time": "2024-04-22T16:33:41.743Z"
   },
   {
    "duration": 12,
    "start_time": "2024-04-22T16:33:41.996Z"
   },
   {
    "duration": 38,
    "start_time": "2024-04-22T16:33:42.010Z"
   },
   {
    "duration": 391,
    "start_time": "2024-04-22T16:33:42.050Z"
   },
   {
    "duration": 36,
    "start_time": "2024-04-22T16:33:42.443Z"
   },
   {
    "duration": 296,
    "start_time": "2024-04-22T16:33:42.481Z"
   },
   {
    "duration": 14,
    "start_time": "2024-04-22T16:33:42.778Z"
   },
   {
    "duration": 6,
    "start_time": "2024-04-22T16:33:42.794Z"
   },
   {
    "duration": 9,
    "start_time": "2024-04-22T16:33:42.801Z"
   },
   {
    "duration": 83,
    "start_time": "2024-04-22T16:33:42.812Z"
   },
   {
    "duration": 16,
    "start_time": "2024-04-22T16:33:42.897Z"
   },
   {
    "duration": 9,
    "start_time": "2024-04-22T16:33:42.915Z"
   },
   {
    "duration": 22,
    "start_time": "2024-04-22T16:33:42.926Z"
   },
   {
    "duration": 9,
    "start_time": "2024-04-22T16:33:42.950Z"
   },
   {
    "duration": 55,
    "start_time": "2024-04-22T16:33:42.961Z"
   },
   {
    "duration": 8,
    "start_time": "2024-04-22T16:34:31.790Z"
   },
   {
    "duration": 1264,
    "start_time": "2024-04-22T16:35:11.538Z"
   },
   {
    "duration": 187,
    "start_time": "2024-04-22T16:35:12.804Z"
   },
   {
    "duration": 4,
    "start_time": "2024-04-22T16:35:12.993Z"
   },
   {
    "duration": 209,
    "start_time": "2024-04-22T16:35:12.999Z"
   },
   {
    "duration": 6,
    "start_time": "2024-04-22T16:35:13.209Z"
   },
   {
    "duration": 4,
    "start_time": "2024-04-22T16:35:13.216Z"
   },
   {
    "duration": 104,
    "start_time": "2024-04-22T16:35:13.222Z"
   },
   {
    "duration": 63,
    "start_time": "2024-04-22T16:35:13.328Z"
   },
   {
    "duration": 32,
    "start_time": "2024-04-22T16:35:13.393Z"
   },
   {
    "duration": 6,
    "start_time": "2024-04-22T16:35:13.427Z"
   },
   {
    "duration": 110,
    "start_time": "2024-04-22T16:35:13.434Z"
   },
   {
    "duration": 11,
    "start_time": "2024-04-22T16:35:13.546Z"
   },
   {
    "duration": 258,
    "start_time": "2024-04-22T16:35:13.572Z"
   },
   {
    "duration": 13,
    "start_time": "2024-04-22T16:35:13.831Z"
   },
   {
    "duration": 56,
    "start_time": "2024-04-22T16:35:13.845Z"
   },
   {
    "duration": 378,
    "start_time": "2024-04-22T16:35:13.902Z"
   },
   {
    "duration": 31,
    "start_time": "2024-04-22T16:35:14.281Z"
   },
   {
    "duration": 302,
    "start_time": "2024-04-22T16:35:14.313Z"
   },
   {
    "duration": 14,
    "start_time": "2024-04-22T16:35:14.617Z"
   },
   {
    "duration": 5,
    "start_time": "2024-04-22T16:35:14.632Z"
   },
   {
    "duration": 15,
    "start_time": "2024-04-22T16:35:14.638Z"
   },
   {
    "duration": 67,
    "start_time": "2024-04-22T16:35:14.656Z"
   },
   {
    "duration": 16,
    "start_time": "2024-04-22T16:35:14.726Z"
   },
   {
    "duration": 6,
    "start_time": "2024-04-22T16:35:14.744Z"
   },
   {
    "duration": 4,
    "start_time": "2024-04-22T16:35:14.773Z"
   },
   {
    "duration": 16,
    "start_time": "2024-04-22T16:35:14.779Z"
   },
   {
    "duration": 1369,
    "start_time": "2024-04-23T12:58:12.384Z"
   },
   {
    "duration": 290,
    "start_time": "2024-04-23T12:58:13.755Z"
   },
   {
    "duration": 3,
    "start_time": "2024-04-23T12:58:14.047Z"
   },
   {
    "duration": 204,
    "start_time": "2024-04-23T12:58:14.052Z"
   },
   {
    "duration": 5,
    "start_time": "2024-04-23T12:58:14.258Z"
   },
   {
    "duration": 18,
    "start_time": "2024-04-23T12:58:14.264Z"
   },
   {
    "duration": 93,
    "start_time": "2024-04-23T12:58:14.284Z"
   },
   {
    "duration": 57,
    "start_time": "2024-04-23T12:58:14.378Z"
   },
   {
    "duration": 27,
    "start_time": "2024-04-23T12:58:14.437Z"
   },
   {
    "duration": 5,
    "start_time": "2024-04-23T12:58:14.465Z"
   },
   {
    "duration": 100,
    "start_time": "2024-04-23T12:58:14.471Z"
   },
   {
    "duration": 11,
    "start_time": "2024-04-23T12:58:14.572Z"
   },
   {
    "duration": 213,
    "start_time": "2024-04-23T12:58:14.584Z"
   },
   {
    "duration": 30,
    "start_time": "2024-04-23T12:58:14.799Z"
   },
   {
    "duration": 40,
    "start_time": "2024-04-23T12:58:14.830Z"
   },
   {
    "duration": 332,
    "start_time": "2024-04-23T12:58:14.871Z"
   },
   {
    "duration": 35,
    "start_time": "2024-04-23T12:58:15.204Z"
   },
   {
    "duration": 296,
    "start_time": "2024-04-23T12:58:15.241Z"
   },
   {
    "duration": 13,
    "start_time": "2024-04-23T12:58:15.538Z"
   },
   {
    "duration": 50,
    "start_time": "2024-04-23T12:58:15.552Z"
   },
   {
    "duration": 31,
    "start_time": "2024-04-23T12:58:15.604Z"
   },
   {
    "duration": 72,
    "start_time": "2024-04-23T12:58:15.636Z"
   },
   {
    "duration": 24,
    "start_time": "2024-04-23T12:58:15.710Z"
   },
   {
    "duration": 15,
    "start_time": "2024-04-23T12:58:15.735Z"
   },
   {
    "duration": 29,
    "start_time": "2024-04-23T12:58:15.752Z"
   },
   {
    "duration": 70,
    "start_time": "2024-04-23T12:58:15.782Z"
   },
   {
    "duration": 7,
    "start_time": "2024-04-23T13:13:17.151Z"
   },
   {
    "duration": 8,
    "start_time": "2024-04-23T13:14:01.490Z"
   },
   {
    "duration": 58,
    "start_time": "2024-04-23T13:22:53.784Z"
   },
   {
    "duration": 1324,
    "start_time": "2024-04-23T13:24:15.192Z"
   },
   {
    "duration": 177,
    "start_time": "2024-04-23T13:24:16.520Z"
   },
   {
    "duration": 4,
    "start_time": "2024-04-23T13:24:16.699Z"
   },
   {
    "duration": 217,
    "start_time": "2024-04-23T13:24:16.705Z"
   },
   {
    "duration": 5,
    "start_time": "2024-04-23T13:24:16.924Z"
   },
   {
    "duration": 21,
    "start_time": "2024-04-23T13:24:16.931Z"
   },
   {
    "duration": 166,
    "start_time": "2024-04-23T13:24:16.954Z"
   },
   {
    "duration": 128,
    "start_time": "2024-04-23T13:24:17.123Z"
   },
   {
    "duration": 75,
    "start_time": "2024-04-23T13:24:17.253Z"
   },
   {
    "duration": 5,
    "start_time": "2024-04-23T13:24:17.330Z"
   },
   {
    "duration": 106,
    "start_time": "2024-04-23T13:24:17.338Z"
   },
   {
    "duration": 180,
    "start_time": "2024-04-23T13:24:17.446Z"
   },
   {
    "duration": 11,
    "start_time": "2024-04-23T13:24:17.627Z"
   },
   {
    "duration": 482,
    "start_time": "2024-04-23T13:24:17.640Z"
   },
   {
    "duration": 12,
    "start_time": "2024-04-23T13:24:18.123Z"
   },
   {
    "duration": 112,
    "start_time": "2024-04-23T13:24:18.136Z"
   },
   {
    "duration": 661,
    "start_time": "2024-04-23T13:24:18.249Z"
   },
   {
    "duration": 46,
    "start_time": "2024-04-23T13:24:18.912Z"
   },
   {
    "duration": 291,
    "start_time": "2024-04-23T13:24:18.960Z"
   },
   {
    "duration": 20,
    "start_time": "2024-04-23T13:24:19.253Z"
   },
   {
    "duration": 20,
    "start_time": "2024-04-23T13:24:19.274Z"
   },
   {
    "duration": 20,
    "start_time": "2024-04-23T13:24:19.295Z"
   },
   {
    "duration": 48,
    "start_time": "2024-04-23T13:24:19.316Z"
   },
   {
    "duration": 13,
    "start_time": "2024-04-23T13:24:19.365Z"
   },
   {
    "duration": 56,
    "start_time": "2024-04-23T13:24:19.379Z"
   },
   {
    "duration": 22,
    "start_time": "2024-04-23T13:24:19.437Z"
   },
   {
    "duration": 22,
    "start_time": "2024-04-23T13:24:19.460Z"
   },
   {
    "duration": 10,
    "start_time": "2024-04-23T13:24:19.483Z"
   },
   {
    "duration": 6,
    "start_time": "2024-04-23T13:24:30.495Z"
   },
   {
    "duration": 20,
    "start_time": "2024-04-23T13:25:48.796Z"
   },
   {
    "duration": 37,
    "start_time": "2024-04-23T13:26:36.390Z"
   },
   {
    "duration": 31,
    "start_time": "2024-04-23T13:26:59.784Z"
   },
   {
    "duration": 7,
    "start_time": "2024-04-23T13:28:34.196Z"
   },
   {
    "duration": 10,
    "start_time": "2024-04-23T13:28:45.997Z"
   },
   {
    "duration": 29,
    "start_time": "2024-04-23T13:29:37.028Z"
   },
   {
    "duration": 28,
    "start_time": "2024-04-23T13:29:41.183Z"
   },
   {
    "duration": 31,
    "start_time": "2024-04-23T13:30:37.077Z"
   },
   {
    "duration": 34,
    "start_time": "2024-04-23T13:31:17.408Z"
   },
   {
    "duration": 32,
    "start_time": "2024-04-23T13:31:22.170Z"
   },
   {
    "duration": 108,
    "start_time": "2024-04-23T13:45:39.068Z"
   },
   {
    "duration": 15,
    "start_time": "2024-04-23T13:45:45.364Z"
   },
   {
    "duration": 14,
    "start_time": "2024-04-23T13:45:47.723Z"
   },
   {
    "duration": 20,
    "start_time": "2024-04-23T13:45:52.297Z"
   },
   {
    "duration": 18,
    "start_time": "2024-04-23T13:47:10.681Z"
   },
   {
    "duration": 16,
    "start_time": "2024-04-23T13:47:17.025Z"
   },
   {
    "duration": 25,
    "start_time": "2024-04-23T13:47:20.600Z"
   },
   {
    "duration": 18,
    "start_time": "2024-04-23T13:54:56.897Z"
   },
   {
    "duration": 22,
    "start_time": "2024-04-23T13:55:13.039Z"
   },
   {
    "duration": 15,
    "start_time": "2024-04-23T13:55:34.141Z"
   },
   {
    "duration": 22,
    "start_time": "2024-04-23T13:56:54.309Z"
   },
   {
    "duration": 22,
    "start_time": "2024-04-23T13:57:25.736Z"
   },
   {
    "duration": 12,
    "start_time": "2024-04-23T13:58:31.428Z"
   },
   {
    "duration": 89,
    "start_time": "2024-04-23T13:59:17.027Z"
   },
   {
    "duration": 22,
    "start_time": "2024-04-23T13:59:21.168Z"
   },
   {
    "duration": 77,
    "start_time": "2024-04-23T14:08:30.516Z"
   },
   {
    "duration": 3,
    "start_time": "2024-04-23T14:08:44.774Z"
   },
   {
    "duration": 1084,
    "start_time": "2024-04-23T14:08:49.741Z"
   },
   {
    "duration": 171,
    "start_time": "2024-04-23T14:08:50.827Z"
   },
   {
    "duration": 4,
    "start_time": "2024-04-23T14:08:51.000Z"
   },
   {
    "duration": 199,
    "start_time": "2024-04-23T14:08:51.006Z"
   },
   {
    "duration": 14,
    "start_time": "2024-04-23T14:08:51.207Z"
   },
   {
    "duration": 14,
    "start_time": "2024-04-23T14:08:51.223Z"
   },
   {
    "duration": 79,
    "start_time": "2024-04-23T14:08:51.238Z"
   },
   {
    "duration": 48,
    "start_time": "2024-04-23T14:08:51.319Z"
   },
   {
    "duration": 24,
    "start_time": "2024-04-23T14:08:51.368Z"
   },
   {
    "duration": 5,
    "start_time": "2024-04-23T14:08:51.395Z"
   },
   {
    "duration": 58,
    "start_time": "2024-04-23T14:08:51.401Z"
   },
   {
    "duration": 86,
    "start_time": "2024-04-23T14:08:51.461Z"
   },
   {
    "duration": 10,
    "start_time": "2024-04-23T14:08:51.548Z"
   },
   {
    "duration": 226,
    "start_time": "2024-04-23T14:08:51.560Z"
   },
   {
    "duration": 11,
    "start_time": "2024-04-23T14:08:51.788Z"
   },
   {
    "duration": 55,
    "start_time": "2024-04-23T14:08:51.800Z"
   },
   {
    "duration": 353,
    "start_time": "2024-04-23T14:08:51.857Z"
   },
   {
    "duration": 31,
    "start_time": "2024-04-23T14:08:52.212Z"
   },
   {
    "duration": 272,
    "start_time": "2024-04-23T14:08:52.245Z"
   },
   {
    "duration": 13,
    "start_time": "2024-04-23T14:08:52.519Z"
   },
   {
    "duration": 6,
    "start_time": "2024-04-23T14:08:52.534Z"
   },
   {
    "duration": 9,
    "start_time": "2024-04-23T14:08:52.541Z"
   },
   {
    "duration": 70,
    "start_time": "2024-04-23T14:08:52.551Z"
   },
   {
    "duration": 15,
    "start_time": "2024-04-23T14:08:52.623Z"
   },
   {
    "duration": 5,
    "start_time": "2024-04-23T14:08:52.639Z"
   },
   {
    "duration": 7,
    "start_time": "2024-04-23T14:08:52.645Z"
   },
   {
    "duration": 15,
    "start_time": "2024-04-23T14:08:52.653Z"
   },
   {
    "duration": 53,
    "start_time": "2024-04-23T14:08:52.671Z"
   },
   {
    "duration": 33,
    "start_time": "2024-04-23T14:08:52.725Z"
   },
   {
    "duration": 12,
    "start_time": "2024-04-23T14:08:52.759Z"
   },
   {
    "duration": 29,
    "start_time": "2024-04-23T14:08:52.773Z"
   },
   {
    "duration": 28,
    "start_time": "2024-04-23T14:08:52.804Z"
   },
   {
    "duration": 33,
    "start_time": "2024-04-23T14:08:52.834Z"
   },
   {
    "duration": 99,
    "start_time": "2024-04-23T14:08:52.868Z"
   },
   {
    "duration": 103,
    "start_time": "2024-04-23T14:09:19.209Z"
   },
   {
    "duration": 99,
    "start_time": "2024-04-23T14:19:36.660Z"
   },
   {
    "duration": 4,
    "start_time": "2024-04-23T14:19:44.849Z"
   },
   {
    "duration": 41,
    "start_time": "2024-04-23T14:20:59.514Z"
   },
   {
    "duration": 37,
    "start_time": "2024-04-23T14:23:03.454Z"
   },
   {
    "duration": 40,
    "start_time": "2024-04-23T14:23:20.205Z"
   },
   {
    "duration": 35,
    "start_time": "2024-04-23T14:23:36.920Z"
   },
   {
    "duration": 1109,
    "start_time": "2024-04-23T14:24:22.802Z"
   },
   {
    "duration": 173,
    "start_time": "2024-04-23T14:24:23.912Z"
   },
   {
    "duration": 5,
    "start_time": "2024-04-23T14:24:24.086Z"
   },
   {
    "duration": 216,
    "start_time": "2024-04-23T14:24:24.092Z"
   },
   {
    "duration": 5,
    "start_time": "2024-04-23T14:24:24.320Z"
   },
   {
    "duration": 4,
    "start_time": "2024-04-23T14:24:24.327Z"
   },
   {
    "duration": 79,
    "start_time": "2024-04-23T14:24:24.333Z"
   },
   {
    "duration": 54,
    "start_time": "2024-04-23T14:24:24.413Z"
   },
   {
    "duration": 25,
    "start_time": "2024-04-23T14:24:24.468Z"
   },
   {
    "duration": 26,
    "start_time": "2024-04-23T14:24:24.495Z"
   },
   {
    "duration": 39,
    "start_time": "2024-04-23T14:24:24.522Z"
   },
   {
    "duration": 86,
    "start_time": "2024-04-23T14:24:24.563Z"
   },
   {
    "duration": 10,
    "start_time": "2024-04-23T14:24:24.650Z"
   },
   {
    "duration": 224,
    "start_time": "2024-04-23T14:24:24.662Z"
   },
   {
    "duration": 11,
    "start_time": "2024-04-23T14:24:24.887Z"
   },
   {
    "duration": 51,
    "start_time": "2024-04-23T14:24:24.900Z"
   },
   {
    "duration": 337,
    "start_time": "2024-04-23T14:24:24.953Z"
   },
   {
    "duration": 35,
    "start_time": "2024-04-23T14:24:25.291Z"
   },
   {
    "duration": 256,
    "start_time": "2024-04-23T14:24:25.327Z"
   },
   {
    "duration": 13,
    "start_time": "2024-04-23T14:24:25.584Z"
   },
   {
    "duration": 13,
    "start_time": "2024-04-23T14:24:25.598Z"
   },
   {
    "duration": 13,
    "start_time": "2024-04-23T14:24:25.613Z"
   },
   {
    "duration": 58,
    "start_time": "2024-04-23T14:24:25.627Z"
   },
   {
    "duration": 13,
    "start_time": "2024-04-23T14:24:25.686Z"
   },
   {
    "duration": 6,
    "start_time": "2024-04-23T14:24:25.701Z"
   },
   {
    "duration": 25,
    "start_time": "2024-04-23T14:24:25.708Z"
   },
   {
    "duration": 17,
    "start_time": "2024-04-23T14:24:25.734Z"
   },
   {
    "duration": 43,
    "start_time": "2024-04-23T14:24:25.752Z"
   },
   {
    "duration": 35,
    "start_time": "2024-04-23T14:24:25.797Z"
   },
   {
    "duration": 4,
    "start_time": "2024-04-23T14:24:25.834Z"
   },
   {
    "duration": 63,
    "start_time": "2024-04-23T14:24:25.839Z"
   },
   {
    "duration": 35,
    "start_time": "2024-04-23T14:24:25.903Z"
   },
   {
    "duration": 42,
    "start_time": "2024-04-23T14:24:25.940Z"
   },
   {
    "duration": 42,
    "start_time": "2024-04-23T14:24:25.984Z"
   },
   {
    "duration": 40,
    "start_time": "2024-04-23T14:29:58.956Z"
   },
   {
    "duration": 36,
    "start_time": "2024-04-23T14:30:19.961Z"
   },
   {
    "duration": 47,
    "start_time": "2024-04-23T14:30:31.656Z"
   },
   {
    "duration": 34,
    "start_time": "2024-04-23T14:30:43.820Z"
   },
   {
    "duration": 38,
    "start_time": "2024-04-23T14:32:34.524Z"
   },
   {
    "duration": 45,
    "start_time": "2024-04-23T14:32:46.478Z"
   },
   {
    "duration": 35,
    "start_time": "2024-04-23T14:32:58.280Z"
   },
   {
    "duration": 34,
    "start_time": "2024-04-23T14:33:12.295Z"
   },
   {
    "duration": 33,
    "start_time": "2024-04-23T14:33:23.228Z"
   },
   {
    "duration": 41,
    "start_time": "2024-04-23T14:36:37.259Z"
   },
   {
    "duration": 38,
    "start_time": "2024-04-23T14:36:48.981Z"
   },
   {
    "duration": 44,
    "start_time": "2024-04-23T14:37:01.767Z"
   },
   {
    "duration": 40,
    "start_time": "2024-04-23T14:37:14.790Z"
   },
   {
    "duration": 4,
    "start_time": "2024-04-23T14:53:22.615Z"
   },
   {
    "duration": 1145,
    "start_time": "2024-04-23T14:58:28.694Z"
   },
   {
    "duration": 180,
    "start_time": "2024-04-23T14:58:29.841Z"
   },
   {
    "duration": 4,
    "start_time": "2024-04-23T14:58:30.023Z"
   },
   {
    "duration": 224,
    "start_time": "2024-04-23T14:58:30.029Z"
   },
   {
    "duration": 5,
    "start_time": "2024-04-23T14:58:30.255Z"
   },
   {
    "duration": 83,
    "start_time": "2024-04-23T14:58:30.261Z"
   },
   {
    "duration": 222,
    "start_time": "2024-04-23T14:58:30.346Z"
   },
   {
    "duration": 72,
    "start_time": "2024-04-23T14:58:30.569Z"
   },
   {
    "duration": 26,
    "start_time": "2024-04-23T14:58:30.642Z"
   },
   {
    "duration": 69,
    "start_time": "2024-04-23T14:58:30.669Z"
   },
   {
    "duration": 162,
    "start_time": "2024-04-23T14:58:30.740Z"
   },
   {
    "duration": 191,
    "start_time": "2024-04-23T14:58:30.904Z"
   },
   {
    "duration": 10,
    "start_time": "2024-04-23T14:58:31.097Z"
   },
   {
    "duration": 234,
    "start_time": "2024-04-23T14:58:31.121Z"
   },
   {
    "duration": 11,
    "start_time": "2024-04-23T14:58:31.356Z"
   },
   {
    "duration": 60,
    "start_time": "2024-04-23T14:58:31.368Z"
   },
   {
    "duration": 619,
    "start_time": "2024-04-23T14:58:31.430Z"
   },
   {
    "duration": 78,
    "start_time": "2024-04-23T14:58:32.051Z"
   },
   {
    "duration": 591,
    "start_time": "2024-04-23T14:58:32.131Z"
   },
   {
    "duration": 12,
    "start_time": "2024-04-23T14:58:32.724Z"
   },
   {
    "duration": 4,
    "start_time": "2024-04-23T14:58:32.738Z"
   },
   {
    "duration": 9,
    "start_time": "2024-04-23T14:58:32.743Z"
   },
   {
    "duration": 68,
    "start_time": "2024-04-23T14:58:32.753Z"
   },
   {
    "duration": 13,
    "start_time": "2024-04-23T14:58:32.823Z"
   },
   {
    "duration": 13,
    "start_time": "2024-04-23T14:58:32.837Z"
   },
   {
    "duration": 9,
    "start_time": "2024-04-23T14:58:32.852Z"
   },
   {
    "duration": 12,
    "start_time": "2024-04-23T14:58:32.862Z"
   },
   {
    "duration": 31,
    "start_time": "2024-04-23T14:58:32.875Z"
   },
   {
    "duration": 42,
    "start_time": "2024-04-23T14:58:32.907Z"
   },
   {
    "duration": 4,
    "start_time": "2024-04-23T14:58:32.951Z"
   },
   {
    "duration": 43,
    "start_time": "2024-04-23T14:58:32.956Z"
   },
   {
    "duration": 78,
    "start_time": "2024-04-23T14:58:33.001Z"
   },
   {
    "duration": 34,
    "start_time": "2024-04-23T14:58:33.080Z"
   },
   {
    "duration": 39,
    "start_time": "2024-04-23T14:58:33.116Z"
   },
   {
    "duration": 38,
    "start_time": "2024-04-23T14:58:33.157Z"
   },
   {
    "duration": 44,
    "start_time": "2024-04-23T14:58:33.196Z"
   },
   {
    "duration": 35,
    "start_time": "2024-04-23T14:58:33.241Z"
   },
   {
    "duration": 103,
    "start_time": "2024-04-23T14:58:33.278Z"
   },
   {
    "duration": 38,
    "start_time": "2024-04-23T14:58:33.382Z"
   },
   {
    "duration": 33,
    "start_time": "2024-04-23T14:58:33.422Z"
   },
   {
    "duration": 33,
    "start_time": "2024-04-23T14:58:33.458Z"
   },
   {
    "duration": 56,
    "start_time": "2024-04-23T14:58:33.492Z"
   },
   {
    "duration": 56,
    "start_time": "2024-04-23T14:58:33.550Z"
   },
   {
    "duration": 49,
    "start_time": "2024-04-23T14:58:33.607Z"
   },
   {
    "duration": 37,
    "start_time": "2024-04-23T14:58:33.657Z"
   },
   {
    "duration": 54,
    "start_time": "2024-04-23T14:58:33.695Z"
   },
   {
    "duration": 4,
    "start_time": "2024-04-23T14:58:33.751Z"
   },
   {
    "duration": 1084,
    "start_time": "2024-04-23T15:42:50.477Z"
   },
   {
    "duration": 174,
    "start_time": "2024-04-23T15:42:51.562Z"
   },
   {
    "duration": 5,
    "start_time": "2024-04-23T15:42:51.738Z"
   },
   {
    "duration": 205,
    "start_time": "2024-04-23T15:42:51.745Z"
   },
   {
    "duration": 6,
    "start_time": "2024-04-23T15:42:51.953Z"
   },
   {
    "duration": 11,
    "start_time": "2024-04-23T15:42:51.961Z"
   },
   {
    "duration": 109,
    "start_time": "2024-04-23T15:42:51.974Z"
   },
   {
    "duration": 57,
    "start_time": "2024-04-23T15:42:52.085Z"
   },
   {
    "duration": 25,
    "start_time": "2024-04-23T15:42:52.143Z"
   },
   {
    "duration": 4,
    "start_time": "2024-04-23T15:42:52.170Z"
   },
   {
    "duration": 72,
    "start_time": "2024-04-23T15:42:52.176Z"
   },
   {
    "duration": 86,
    "start_time": "2024-04-23T15:42:52.250Z"
   },
   {
    "duration": 10,
    "start_time": "2024-04-23T15:42:52.338Z"
   },
   {
    "duration": 233,
    "start_time": "2024-04-23T15:42:52.351Z"
   },
   {
    "duration": 12,
    "start_time": "2024-04-23T15:42:52.586Z"
   },
   {
    "duration": 49,
    "start_time": "2024-04-23T15:42:52.600Z"
   },
   {
    "duration": 343,
    "start_time": "2024-04-23T15:42:52.651Z"
   },
   {
    "duration": 29,
    "start_time": "2024-04-23T15:42:52.996Z"
   },
   {
    "duration": 502,
    "start_time": "2024-04-23T15:42:53.027Z"
   },
   {
    "duration": 16,
    "start_time": "2024-04-23T15:42:53.531Z"
   },
   {
    "duration": 10,
    "start_time": "2024-04-23T15:42:53.549Z"
   },
   {
    "duration": 60,
    "start_time": "2024-04-23T15:42:53.560Z"
   },
   {
    "duration": 103,
    "start_time": "2024-04-23T15:42:53.622Z"
   },
   {
    "duration": 15,
    "start_time": "2024-04-23T15:42:53.727Z"
   },
   {
    "duration": 5,
    "start_time": "2024-04-23T15:42:53.744Z"
   },
   {
    "duration": 11,
    "start_time": "2024-04-23T15:42:53.751Z"
   },
   {
    "duration": 65,
    "start_time": "2024-04-23T15:42:53.764Z"
   },
   {
    "duration": 37,
    "start_time": "2024-04-23T15:42:53.830Z"
   },
   {
    "duration": 84,
    "start_time": "2024-04-23T15:42:53.869Z"
   },
   {
    "duration": 4,
    "start_time": "2024-04-23T15:42:53.955Z"
   },
   {
    "duration": 99,
    "start_time": "2024-04-23T15:42:53.961Z"
   },
   {
    "duration": 84,
    "start_time": "2024-04-23T15:42:54.062Z"
   },
   {
    "duration": 92,
    "start_time": "2024-04-23T15:42:54.147Z"
   },
   {
    "duration": 103,
    "start_time": "2024-04-23T15:42:54.241Z"
   },
   {
    "duration": 92,
    "start_time": "2024-04-23T15:42:54.345Z"
   },
   {
    "duration": 90,
    "start_time": "2024-04-23T15:42:54.439Z"
   },
   {
    "duration": 90,
    "start_time": "2024-04-23T15:42:54.530Z"
   },
   {
    "duration": 37,
    "start_time": "2024-04-23T15:42:54.622Z"
   },
   {
    "duration": 103,
    "start_time": "2024-04-23T15:42:54.660Z"
   },
   {
    "duration": 79,
    "start_time": "2024-04-23T15:42:54.764Z"
   },
   {
    "duration": 38,
    "start_time": "2024-04-23T15:42:54.847Z"
   },
   {
    "duration": 51,
    "start_time": "2024-04-23T15:42:54.887Z"
   },
   {
    "duration": 46,
    "start_time": "2024-04-23T15:42:54.939Z"
   },
   {
    "duration": 57,
    "start_time": "2024-04-23T15:42:54.987Z"
   },
   {
    "duration": 41,
    "start_time": "2024-04-23T15:42:55.046Z"
   },
   {
    "duration": 64,
    "start_time": "2024-04-23T15:42:55.089Z"
   },
   {
    "duration": 3,
    "start_time": "2024-04-23T15:42:55.155Z"
   },
   {
    "duration": 1195,
    "start_time": "2024-04-23T16:05:28.279Z"
   },
   {
    "duration": 194,
    "start_time": "2024-04-23T16:05:29.476Z"
   },
   {
    "duration": 6,
    "start_time": "2024-04-23T16:05:29.671Z"
   },
   {
    "duration": 282,
    "start_time": "2024-04-23T16:05:29.678Z"
   },
   {
    "duration": 62,
    "start_time": "2024-04-23T16:05:29.961Z"
   },
   {
    "duration": 5,
    "start_time": "2024-04-23T16:05:30.025Z"
   },
   {
    "duration": 215,
    "start_time": "2024-04-23T16:05:30.031Z"
   },
   {
    "duration": 106,
    "start_time": "2024-04-23T16:05:30.247Z"
   },
   {
    "duration": 176,
    "start_time": "2024-04-23T16:05:30.355Z"
   },
   {
    "duration": 208,
    "start_time": "2024-04-23T16:05:30.533Z"
   },
   {
    "duration": 112,
    "start_time": "2024-04-23T16:05:30.743Z"
   },
   {
    "duration": 169,
    "start_time": "2024-04-23T16:05:30.857Z"
   },
   {
    "duration": 13,
    "start_time": "2024-04-23T16:05:31.028Z"
   },
   {
    "duration": 319,
    "start_time": "2024-04-23T16:05:31.045Z"
   },
   {
    "duration": 10,
    "start_time": "2024-04-23T16:05:31.366Z"
   },
   {
    "duration": 249,
    "start_time": "2024-04-23T16:05:31.377Z"
   },
   {
    "duration": 381,
    "start_time": "2024-04-23T16:05:31.628Z"
   },
   {
    "duration": 31,
    "start_time": "2024-04-23T16:05:32.011Z"
   },
   {
    "duration": 266,
    "start_time": "2024-04-23T16:05:32.044Z"
   },
   {
    "duration": 20,
    "start_time": "2024-04-23T16:05:32.312Z"
   },
   {
    "duration": 5,
    "start_time": "2024-04-23T16:05:32.334Z"
   },
   {
    "duration": 23,
    "start_time": "2024-04-23T16:05:32.341Z"
   },
   {
    "duration": 48,
    "start_time": "2024-04-23T16:05:32.365Z"
   },
   {
    "duration": 24,
    "start_time": "2024-04-23T16:05:32.420Z"
   },
   {
    "duration": 4,
    "start_time": "2024-04-23T16:05:32.447Z"
   },
   {
    "duration": 8,
    "start_time": "2024-04-23T16:05:32.453Z"
   },
   {
    "duration": 14,
    "start_time": "2024-04-23T16:05:32.462Z"
   },
   {
    "duration": 44,
    "start_time": "2024-04-23T16:05:32.477Z"
   },
   {
    "duration": 34,
    "start_time": "2024-04-23T16:05:32.523Z"
   },
   {
    "duration": 4,
    "start_time": "2024-04-23T16:05:32.559Z"
   },
   {
    "duration": 72,
    "start_time": "2024-04-23T16:05:32.565Z"
   },
   {
    "duration": 35,
    "start_time": "2024-04-23T16:05:32.639Z"
   },
   {
    "duration": 57,
    "start_time": "2024-04-23T16:05:32.676Z"
   },
   {
    "duration": 36,
    "start_time": "2024-04-23T16:05:32.735Z"
   },
   {
    "duration": 55,
    "start_time": "2024-04-23T16:05:32.773Z"
   },
   {
    "duration": 41,
    "start_time": "2024-04-23T16:05:32.830Z"
   },
   {
    "duration": 62,
    "start_time": "2024-04-23T16:05:32.873Z"
   },
   {
    "duration": 37,
    "start_time": "2024-04-23T16:05:32.936Z"
   },
   {
    "duration": 56,
    "start_time": "2024-04-23T16:05:32.975Z"
   },
   {
    "duration": 36,
    "start_time": "2024-04-23T16:05:33.033Z"
   },
   {
    "duration": 32,
    "start_time": "2024-04-23T16:05:33.073Z"
   },
   {
    "duration": 39,
    "start_time": "2024-04-23T16:05:33.121Z"
   },
   {
    "duration": 40,
    "start_time": "2024-04-23T16:05:33.162Z"
   },
   {
    "duration": 59,
    "start_time": "2024-04-23T16:05:33.203Z"
   },
   {
    "duration": 36,
    "start_time": "2024-04-23T16:05:33.263Z"
   },
   {
    "duration": 52,
    "start_time": "2024-04-23T16:05:33.301Z"
   },
   {
    "duration": 4,
    "start_time": "2024-04-23T16:05:33.355Z"
   },
   {
    "duration": 88,
    "start_time": "2024-04-23T16:27:50.385Z"
   },
   {
    "duration": 446,
    "start_time": "2024-04-23T16:28:42.894Z"
   },
   {
    "duration": 142,
    "start_time": "2024-04-23T16:29:42.325Z"
   },
   {
    "duration": 16,
    "start_time": "2024-04-23T16:30:16.337Z"
   },
   {
    "duration": 16,
    "start_time": "2024-04-23T16:30:41.724Z"
   },
   {
    "duration": 16,
    "start_time": "2024-04-23T16:33:18.328Z"
   },
   {
    "duration": 41,
    "start_time": "2024-04-23T16:34:37.345Z"
   },
   {
    "duration": 46,
    "start_time": "2024-04-23T16:35:16.100Z"
   },
   {
    "duration": 41,
    "start_time": "2024-04-23T16:36:59.659Z"
   },
   {
    "duration": 41,
    "start_time": "2024-04-23T16:37:17.362Z"
   },
   {
    "duration": 1403,
    "start_time": "2024-04-23T18:32:34.237Z"
   },
   {
    "duration": 293,
    "start_time": "2024-04-23T18:32:35.642Z"
   },
   {
    "duration": 4,
    "start_time": "2024-04-23T18:32:35.936Z"
   },
   {
    "duration": 191,
    "start_time": "2024-04-23T18:32:35.942Z"
   },
   {
    "duration": 5,
    "start_time": "2024-04-23T18:32:36.135Z"
   },
   {
    "duration": 24,
    "start_time": "2024-04-23T18:32:36.142Z"
   },
   {
    "duration": 75,
    "start_time": "2024-04-23T18:32:36.168Z"
   },
   {
    "duration": 64,
    "start_time": "2024-04-23T18:32:36.245Z"
   },
   {
    "duration": 27,
    "start_time": "2024-04-23T18:32:36.311Z"
   },
   {
    "duration": 6,
    "start_time": "2024-04-23T18:32:36.340Z"
   },
   {
    "duration": 43,
    "start_time": "2024-04-23T18:32:36.366Z"
   },
   {
    "duration": 111,
    "start_time": "2024-04-23T18:32:36.410Z"
   },
   {
    "duration": 10,
    "start_time": "2024-04-23T18:32:36.523Z"
   },
   {
    "duration": 244,
    "start_time": "2024-04-23T18:32:36.535Z"
   },
   {
    "duration": 11,
    "start_time": "2024-04-23T18:32:36.781Z"
   },
   {
    "duration": 33,
    "start_time": "2024-04-23T18:32:36.794Z"
   },
   {
    "duration": 348,
    "start_time": "2024-04-23T18:32:36.828Z"
   },
   {
    "duration": 28,
    "start_time": "2024-04-23T18:32:37.178Z"
   },
   {
    "duration": 278,
    "start_time": "2024-04-23T18:32:37.208Z"
   },
   {
    "duration": 13,
    "start_time": "2024-04-23T18:32:37.488Z"
   },
   {
    "duration": 5,
    "start_time": "2024-04-23T18:32:37.502Z"
   },
   {
    "duration": 6,
    "start_time": "2024-04-23T18:32:37.508Z"
   },
   {
    "duration": 74,
    "start_time": "2024-04-23T18:32:37.516Z"
   },
   {
    "duration": 14,
    "start_time": "2024-04-23T18:32:37.591Z"
   },
   {
    "duration": 5,
    "start_time": "2024-04-23T18:32:37.606Z"
   },
   {
    "duration": 737,
    "start_time": "2024-04-23T18:32:37.613Z"
   },
   {
    "duration": 2,
    "start_time": "2024-04-23T18:32:38.352Z"
   },
   {
    "duration": 12,
    "start_time": "2024-04-23T18:32:38.357Z"
   },
   {
    "duration": 36,
    "start_time": "2024-04-23T18:32:38.371Z"
   },
   {
    "duration": 84,
    "start_time": "2024-04-23T18:32:38.408Z"
   },
   {
    "duration": 118,
    "start_time": "2024-04-23T18:32:38.494Z"
   },
   {
    "duration": 43,
    "start_time": "2024-04-23T18:32:38.614Z"
   },
   {
    "duration": 36,
    "start_time": "2024-04-23T18:32:38.665Z"
   },
   {
    "duration": 33,
    "start_time": "2024-04-23T18:32:38.702Z"
   },
   {
    "duration": 50,
    "start_time": "2024-04-23T18:32:38.737Z"
   },
   {
    "duration": 41,
    "start_time": "2024-04-23T18:32:38.788Z"
   },
   {
    "duration": 57,
    "start_time": "2024-04-23T18:32:38.831Z"
   },
   {
    "duration": 41,
    "start_time": "2024-04-23T18:32:38.889Z"
   },
   {
    "duration": 56,
    "start_time": "2024-04-23T18:32:38.932Z"
   },
   {
    "duration": 42,
    "start_time": "2024-04-23T18:32:38.990Z"
   },
   {
    "duration": 56,
    "start_time": "2024-04-23T18:32:39.034Z"
   },
   {
    "duration": 37,
    "start_time": "2024-04-23T18:32:39.092Z"
   },
   {
    "duration": 53,
    "start_time": "2024-04-23T18:32:39.131Z"
   },
   {
    "duration": 45,
    "start_time": "2024-04-23T18:32:39.186Z"
   },
   {
    "duration": 60,
    "start_time": "2024-04-23T18:32:39.233Z"
   },
   {
    "duration": 42,
    "start_time": "2024-04-23T18:32:39.295Z"
   },
   {
    "duration": 60,
    "start_time": "2024-04-23T18:32:39.339Z"
   },
   {
    "duration": 4,
    "start_time": "2024-04-23T18:32:39.400Z"
   },
   {
    "duration": 49,
    "start_time": "2024-04-24T15:17:26.865Z"
   },
   {
    "duration": 1525,
    "start_time": "2024-04-24T15:17:32.790Z"
   },
   {
    "duration": 964,
    "start_time": "2024-04-24T15:17:34.317Z"
   },
   {
    "duration": 4,
    "start_time": "2024-04-24T15:17:35.283Z"
   },
   {
    "duration": 261,
    "start_time": "2024-04-24T15:17:35.289Z"
   },
   {
    "duration": 21,
    "start_time": "2024-04-24T15:17:35.551Z"
   },
   {
    "duration": 13,
    "start_time": "2024-04-24T15:17:35.574Z"
   },
   {
    "duration": 142,
    "start_time": "2024-04-24T15:17:35.589Z"
   },
   {
    "duration": 62,
    "start_time": "2024-04-24T15:17:35.733Z"
   },
   {
    "duration": 26,
    "start_time": "2024-04-24T15:17:35.797Z"
   },
   {
    "duration": 9,
    "start_time": "2024-04-24T15:17:35.826Z"
   },
   {
    "duration": 61,
    "start_time": "2024-04-24T15:17:35.837Z"
   },
   {
    "duration": 112,
    "start_time": "2024-04-24T15:17:35.899Z"
   },
   {
    "duration": 11,
    "start_time": "2024-04-24T15:17:36.013Z"
   },
   {
    "duration": 270,
    "start_time": "2024-04-24T15:17:36.025Z"
   },
   {
    "duration": 13,
    "start_time": "2024-04-24T15:17:36.296Z"
   },
   {
    "duration": 37,
    "start_time": "2024-04-24T15:17:36.311Z"
   },
   {
    "duration": 378,
    "start_time": "2024-04-24T15:17:36.349Z"
   },
   {
    "duration": 41,
    "start_time": "2024-04-24T15:17:36.728Z"
   },
   {
    "duration": 290,
    "start_time": "2024-04-24T15:17:36.771Z"
   },
   {
    "duration": 18,
    "start_time": "2024-04-24T15:17:37.063Z"
   },
   {
    "duration": 11,
    "start_time": "2024-04-24T15:17:37.083Z"
   },
   {
    "duration": 22,
    "start_time": "2024-04-24T15:17:37.096Z"
   },
   {
    "duration": 30,
    "start_time": "2024-04-24T15:17:37.120Z"
   },
   {
    "duration": 64,
    "start_time": "2024-04-24T15:17:37.151Z"
   },
   {
    "duration": 16,
    "start_time": "2024-04-24T15:17:37.217Z"
   },
   {
    "duration": 6,
    "start_time": "2024-04-24T15:17:37.234Z"
   },
   {
    "duration": 407,
    "start_time": "2024-04-24T15:17:37.241Z"
   },
   {
    "duration": 3,
    "start_time": "2024-04-24T15:17:37.651Z"
   },
   {
    "duration": 99,
    "start_time": "2024-04-24T15:17:37.655Z"
   },
   {
    "duration": 83,
    "start_time": "2024-04-24T15:17:37.755Z"
   },
   {
    "duration": 35,
    "start_time": "2024-04-24T15:17:37.840Z"
   },
   {
    "duration": 82,
    "start_time": "2024-04-24T15:17:37.877Z"
   },
   {
    "duration": 54,
    "start_time": "2024-04-24T15:17:37.961Z"
   },
   {
    "duration": 43,
    "start_time": "2024-04-24T15:17:38.016Z"
   },
   {
    "duration": 41,
    "start_time": "2024-04-24T15:17:38.070Z"
   },
   {
    "duration": 62,
    "start_time": "2024-04-24T15:17:38.113Z"
   },
   {
    "duration": 46,
    "start_time": "2024-04-24T15:17:38.176Z"
   },
   {
    "duration": 51,
    "start_time": "2024-04-24T15:17:38.224Z"
   },
   {
    "duration": 39,
    "start_time": "2024-04-24T15:17:38.277Z"
   },
   {
    "duration": 52,
    "start_time": "2024-04-24T15:17:38.317Z"
   },
   {
    "duration": 46,
    "start_time": "2024-04-24T15:17:38.371Z"
   },
   {
    "duration": 56,
    "start_time": "2024-04-24T15:17:38.419Z"
   },
   {
    "duration": 40,
    "start_time": "2024-04-24T15:17:38.477Z"
   },
   {
    "duration": 56,
    "start_time": "2024-04-24T15:17:38.518Z"
   },
   {
    "duration": 48,
    "start_time": "2024-04-24T15:17:38.576Z"
   },
   {
    "duration": 58,
    "start_time": "2024-04-24T15:17:38.626Z"
   },
   {
    "duration": 44,
    "start_time": "2024-04-24T15:17:38.686Z"
   },
   {
    "duration": 58,
    "start_time": "2024-04-24T15:17:38.731Z"
   },
   {
    "duration": 4,
    "start_time": "2024-04-24T15:17:38.790Z"
   },
   {
    "duration": 10,
    "start_time": "2024-04-24T15:18:26.494Z"
   },
   {
    "duration": 11,
    "start_time": "2024-04-24T15:19:56.253Z"
   },
   {
    "duration": 5,
    "start_time": "2024-04-24T15:20:12.322Z"
   },
   {
    "duration": 1207,
    "start_time": "2024-04-24T15:21:02.031Z"
   },
   {
    "duration": 190,
    "start_time": "2024-04-24T15:21:03.240Z"
   },
   {
    "duration": 5,
    "start_time": "2024-04-24T15:21:03.432Z"
   },
   {
    "duration": 235,
    "start_time": "2024-04-24T15:21:03.439Z"
   },
   {
    "duration": 6,
    "start_time": "2024-04-24T15:21:03.676Z"
   },
   {
    "duration": 12,
    "start_time": "2024-04-24T15:21:03.684Z"
   },
   {
    "duration": 89,
    "start_time": "2024-04-24T15:21:03.698Z"
   },
   {
    "duration": 55,
    "start_time": "2024-04-24T15:21:03.788Z"
   },
   {
    "duration": 40,
    "start_time": "2024-04-24T15:21:03.844Z"
   },
   {
    "duration": 5,
    "start_time": "2024-04-24T15:21:03.886Z"
   },
   {
    "duration": 91,
    "start_time": "2024-04-24T15:21:03.893Z"
   },
   {
    "duration": 184,
    "start_time": "2024-04-24T15:21:03.985Z"
   },
   {
    "duration": 10,
    "start_time": "2024-04-24T15:21:04.171Z"
   },
   {
    "duration": 502,
    "start_time": "2024-04-24T15:21:04.184Z"
   },
   {
    "duration": 12,
    "start_time": "2024-04-24T15:21:04.688Z"
   },
   {
    "duration": 90,
    "start_time": "2024-04-24T15:21:04.701Z"
   },
   {
    "duration": 653,
    "start_time": "2024-04-24T15:21:04.792Z"
   },
   {
    "duration": 34,
    "start_time": "2024-04-24T15:21:05.446Z"
   },
   {
    "duration": 289,
    "start_time": "2024-04-24T15:21:05.482Z"
   },
   {
    "duration": 13,
    "start_time": "2024-04-24T15:21:05.773Z"
   },
   {
    "duration": 56,
    "start_time": "2024-04-24T15:21:05.787Z"
   },
   {
    "duration": 24,
    "start_time": "2024-04-24T15:21:05.844Z"
   },
   {
    "duration": 24,
    "start_time": "2024-04-24T15:21:05.870Z"
   },
   {
    "duration": 8,
    "start_time": "2024-04-24T15:21:05.896Z"
   },
   {
    "duration": 88,
    "start_time": "2024-04-24T15:21:05.905Z"
   },
   {
    "duration": 16,
    "start_time": "2024-04-24T15:21:05.995Z"
   },
   {
    "duration": 69,
    "start_time": "2024-04-24T15:21:06.013Z"
   },
   {
    "duration": 464,
    "start_time": "2024-04-24T15:21:06.084Z"
   },
   {
    "duration": 3,
    "start_time": "2024-04-24T15:21:06.550Z"
   },
   {
    "duration": 34,
    "start_time": "2024-04-24T15:21:06.555Z"
   },
   {
    "duration": 100,
    "start_time": "2024-04-24T15:21:06.591Z"
   },
   {
    "duration": 36,
    "start_time": "2024-04-24T15:21:06.693Z"
   },
   {
    "duration": 6,
    "start_time": "2024-04-24T15:21:06.769Z"
   },
   {
    "duration": 66,
    "start_time": "2024-04-24T15:21:06.777Z"
   },
   {
    "duration": 37,
    "start_time": "2024-04-24T15:21:06.845Z"
   },
   {
    "duration": 38,
    "start_time": "2024-04-24T15:21:06.883Z"
   },
   {
    "duration": 35,
    "start_time": "2024-04-24T15:21:06.922Z"
   },
   {
    "duration": 41,
    "start_time": "2024-04-24T15:21:06.970Z"
   },
   {
    "duration": 35,
    "start_time": "2024-04-24T15:21:07.013Z"
   },
   {
    "duration": 54,
    "start_time": "2024-04-24T15:21:07.049Z"
   },
   {
    "duration": 36,
    "start_time": "2024-04-24T15:21:07.107Z"
   },
   {
    "duration": 58,
    "start_time": "2024-04-24T15:21:07.145Z"
   },
   {
    "duration": 38,
    "start_time": "2024-04-24T15:21:07.205Z"
   },
   {
    "duration": 53,
    "start_time": "2024-04-24T15:21:07.245Z"
   },
   {
    "duration": 40,
    "start_time": "2024-04-24T15:21:07.300Z"
   },
   {
    "duration": 70,
    "start_time": "2024-04-24T15:21:07.341Z"
   },
   {
    "duration": 41,
    "start_time": "2024-04-24T15:21:07.413Z"
   },
   {
    "duration": 51,
    "start_time": "2024-04-24T15:21:07.456Z"
   },
   {
    "duration": 39,
    "start_time": "2024-04-24T15:21:07.509Z"
   },
   {
    "duration": 20,
    "start_time": "2024-04-24T15:21:07.550Z"
   },
   {
    "duration": 3,
    "start_time": "2024-04-24T15:28:48.171Z"
   },
   {
    "duration": 2,
    "start_time": "2024-04-24T15:30:51.633Z"
   },
   {
    "duration": 45,
    "start_time": "2024-04-24T15:31:14.424Z"
   },
   {
    "duration": 182,
    "start_time": "2024-04-24T15:31:25.944Z"
   },
   {
    "duration": 3,
    "start_time": "2024-04-24T15:33:03.769Z"
   },
   {
    "duration": 43,
    "start_time": "2024-04-24T15:33:05.955Z"
   },
   {
    "duration": 71,
    "start_time": "2024-04-24T15:33:14.603Z"
   },
   {
    "duration": 1399,
    "start_time": "2024-04-24T15:33:54.194Z"
   },
   {
    "duration": 377,
    "start_time": "2024-04-24T15:33:55.595Z"
   },
   {
    "duration": 4,
    "start_time": "2024-04-24T15:33:55.974Z"
   },
   {
    "duration": 494,
    "start_time": "2024-04-24T15:33:55.981Z"
   },
   {
    "duration": 5,
    "start_time": "2024-04-24T15:33:56.477Z"
   },
   {
    "duration": 34,
    "start_time": "2024-04-24T15:33:56.484Z"
   },
   {
    "duration": 179,
    "start_time": "2024-04-24T15:33:56.519Z"
   },
   {
    "duration": 108,
    "start_time": "2024-04-24T15:33:56.700Z"
   },
   {
    "duration": 72,
    "start_time": "2024-04-24T15:33:56.810Z"
   },
   {
    "duration": 5,
    "start_time": "2024-04-24T15:33:56.885Z"
   },
   {
    "duration": 57,
    "start_time": "2024-04-24T15:33:56.892Z"
   },
   {
    "duration": 97,
    "start_time": "2024-04-24T15:33:56.950Z"
   },
   {
    "duration": 10,
    "start_time": "2024-04-24T15:33:57.049Z"
   },
   {
    "duration": 247,
    "start_time": "2024-04-24T15:33:57.070Z"
   },
   {
    "duration": 13,
    "start_time": "2024-04-24T15:33:57.318Z"
   },
   {
    "duration": 54,
    "start_time": "2024-04-24T15:33:57.332Z"
   },
   {
    "duration": 368,
    "start_time": "2024-04-24T15:33:57.388Z"
   },
   {
    "duration": 44,
    "start_time": "2024-04-24T15:33:57.759Z"
   },
   {
    "duration": 284,
    "start_time": "2024-04-24T15:33:57.805Z"
   },
   {
    "duration": 14,
    "start_time": "2024-04-24T15:33:58.090Z"
   },
   {
    "duration": 15,
    "start_time": "2024-04-24T15:33:58.106Z"
   },
   {
    "duration": 13,
    "start_time": "2024-04-24T15:33:58.123Z"
   },
   {
    "duration": 26,
    "start_time": "2024-04-24T15:33:58.138Z"
   },
   {
    "duration": 25,
    "start_time": "2024-04-24T15:33:58.165Z"
   },
   {
    "duration": 61,
    "start_time": "2024-04-24T15:33:58.191Z"
   },
   {
    "duration": 16,
    "start_time": "2024-04-24T15:33:58.254Z"
   },
   {
    "duration": 29,
    "start_time": "2024-04-24T15:33:58.271Z"
   },
   {
    "duration": 442,
    "start_time": "2024-04-24T15:33:58.304Z"
   },
   {
    "duration": 3,
    "start_time": "2024-04-24T15:33:58.748Z"
   },
   {
    "duration": 25,
    "start_time": "2024-04-24T15:33:58.752Z"
   },
   {
    "duration": 93,
    "start_time": "2024-04-24T15:33:58.779Z"
   },
   {
    "duration": 34,
    "start_time": "2024-04-24T15:33:58.874Z"
   },
   {
    "duration": 5,
    "start_time": "2024-04-24T15:33:58.909Z"
   },
   {
    "duration": 29,
    "start_time": "2024-04-24T15:33:58.915Z"
   },
   {
    "duration": 210,
    "start_time": "2024-04-24T15:33:58.945Z"
   },
   {
    "duration": 0,
    "start_time": "2024-04-24T15:33:59.157Z"
   },
   {
    "duration": 0,
    "start_time": "2024-04-24T15:33:59.158Z"
   },
   {
    "duration": 0,
    "start_time": "2024-04-24T15:33:59.160Z"
   },
   {
    "duration": 0,
    "start_time": "2024-04-24T15:33:59.169Z"
   },
   {
    "duration": 0,
    "start_time": "2024-04-24T15:33:59.170Z"
   },
   {
    "duration": 1,
    "start_time": "2024-04-24T15:33:59.171Z"
   },
   {
    "duration": 0,
    "start_time": "2024-04-24T15:33:59.173Z"
   },
   {
    "duration": 0,
    "start_time": "2024-04-24T15:33:59.173Z"
   },
   {
    "duration": 0,
    "start_time": "2024-04-24T15:33:59.174Z"
   },
   {
    "duration": 0,
    "start_time": "2024-04-24T15:33:59.175Z"
   },
   {
    "duration": 0,
    "start_time": "2024-04-24T15:33:59.177Z"
   },
   {
    "duration": 0,
    "start_time": "2024-04-24T15:33:59.178Z"
   },
   {
    "duration": 0,
    "start_time": "2024-04-24T15:33:59.179Z"
   },
   {
    "duration": 0,
    "start_time": "2024-04-24T15:33:59.180Z"
   },
   {
    "duration": 0,
    "start_time": "2024-04-24T15:33:59.181Z"
   },
   {
    "duration": 0,
    "start_time": "2024-04-24T15:33:59.182Z"
   },
   {
    "duration": 1250,
    "start_time": "2024-04-24T15:35:20.657Z"
   },
   {
    "duration": 180,
    "start_time": "2024-04-24T15:35:21.909Z"
   },
   {
    "duration": 4,
    "start_time": "2024-04-24T15:35:22.091Z"
   },
   {
    "duration": 214,
    "start_time": "2024-04-24T15:35:22.097Z"
   },
   {
    "duration": 5,
    "start_time": "2024-04-24T15:35:22.312Z"
   },
   {
    "duration": 14,
    "start_time": "2024-04-24T15:35:22.319Z"
   },
   {
    "duration": 89,
    "start_time": "2024-04-24T15:35:22.334Z"
   },
   {
    "duration": 84,
    "start_time": "2024-04-24T15:35:22.425Z"
   },
   {
    "duration": 79,
    "start_time": "2024-04-24T15:35:22.511Z"
   },
   {
    "duration": 5,
    "start_time": "2024-04-24T15:35:22.592Z"
   },
   {
    "duration": 101,
    "start_time": "2024-04-24T15:35:22.598Z"
   },
   {
    "duration": 181,
    "start_time": "2024-04-24T15:35:22.700Z"
   },
   {
    "duration": 10,
    "start_time": "2024-04-24T15:35:22.883Z"
   },
   {
    "duration": 478,
    "start_time": "2024-04-24T15:35:22.894Z"
   },
   {
    "duration": 12,
    "start_time": "2024-04-24T15:35:23.374Z"
   },
   {
    "duration": 95,
    "start_time": "2024-04-24T15:35:23.388Z"
   },
   {
    "duration": 587,
    "start_time": "2024-04-24T15:35:23.485Z"
   },
   {
    "duration": 29,
    "start_time": "2024-04-24T15:35:24.074Z"
   },
   {
    "duration": 281,
    "start_time": "2024-04-24T15:35:24.104Z"
   },
   {
    "duration": 13,
    "start_time": "2024-04-24T15:35:24.386Z"
   },
   {
    "duration": 10,
    "start_time": "2024-04-24T15:35:24.400Z"
   },
   {
    "duration": 4,
    "start_time": "2024-04-24T15:35:24.412Z"
   },
   {
    "duration": 14,
    "start_time": "2024-04-24T15:35:24.417Z"
   },
   {
    "duration": 6,
    "start_time": "2024-04-24T15:35:24.432Z"
   },
   {
    "duration": 78,
    "start_time": "2024-04-24T15:35:24.439Z"
   },
   {
    "duration": 15,
    "start_time": "2024-04-24T15:35:24.518Z"
   },
   {
    "duration": 4,
    "start_time": "2024-04-24T15:35:24.534Z"
   },
   {
    "duration": 425,
    "start_time": "2024-04-24T15:35:24.542Z"
   },
   {
    "duration": 3,
    "start_time": "2024-04-24T15:35:24.969Z"
   },
   {
    "duration": 21,
    "start_time": "2024-04-24T15:35:24.974Z"
   },
   {
    "duration": 93,
    "start_time": "2024-04-24T15:35:24.996Z"
   },
   {
    "duration": 79,
    "start_time": "2024-04-24T15:35:25.091Z"
   },
   {
    "duration": 5,
    "start_time": "2024-04-24T15:35:25.171Z"
   },
   {
    "duration": 43,
    "start_time": "2024-04-24T15:35:25.177Z"
   },
   {
    "duration": 9,
    "start_time": "2024-04-24T15:35:25.222Z"
   },
   {
    "duration": 63,
    "start_time": "2024-04-24T15:35:25.233Z"
   },
   {
    "duration": 184,
    "start_time": "2024-04-24T15:35:25.297Z"
   },
   {
    "duration": 0,
    "start_time": "2024-04-24T15:35:25.483Z"
   },
   {
    "duration": 1,
    "start_time": "2024-04-24T15:35:25.483Z"
   },
   {
    "duration": 0,
    "start_time": "2024-04-24T15:35:25.484Z"
   },
   {
    "duration": 0,
    "start_time": "2024-04-24T15:35:25.486Z"
   },
   {
    "duration": 0,
    "start_time": "2024-04-24T15:35:25.487Z"
   },
   {
    "duration": 0,
    "start_time": "2024-04-24T15:35:25.488Z"
   },
   {
    "duration": 0,
    "start_time": "2024-04-24T15:35:25.489Z"
   },
   {
    "duration": 0,
    "start_time": "2024-04-24T15:35:25.489Z"
   },
   {
    "duration": 0,
    "start_time": "2024-04-24T15:35:25.491Z"
   },
   {
    "duration": 0,
    "start_time": "2024-04-24T15:35:25.492Z"
   },
   {
    "duration": 0,
    "start_time": "2024-04-24T15:35:25.492Z"
   },
   {
    "duration": 0,
    "start_time": "2024-04-24T15:35:25.493Z"
   },
   {
    "duration": 0,
    "start_time": "2024-04-24T15:35:25.494Z"
   },
   {
    "duration": 0,
    "start_time": "2024-04-24T15:35:25.495Z"
   },
   {
    "duration": 0,
    "start_time": "2024-04-24T15:35:25.496Z"
   },
   {
    "duration": 1259,
    "start_time": "2024-04-24T15:36:26.165Z"
   },
   {
    "duration": 194,
    "start_time": "2024-04-24T15:36:27.426Z"
   },
   {
    "duration": 5,
    "start_time": "2024-04-24T15:36:27.622Z"
   },
   {
    "duration": 408,
    "start_time": "2024-04-24T15:36:27.670Z"
   },
   {
    "duration": 5,
    "start_time": "2024-04-24T15:36:28.080Z"
   },
   {
    "duration": 5,
    "start_time": "2024-04-24T15:36:28.087Z"
   },
   {
    "duration": 177,
    "start_time": "2024-04-24T15:36:28.094Z"
   },
   {
    "duration": 106,
    "start_time": "2024-04-24T15:36:28.273Z"
   },
   {
    "duration": 29,
    "start_time": "2024-04-24T15:36:28.380Z"
   },
   {
    "duration": 5,
    "start_time": "2024-04-24T15:36:28.410Z"
   },
   {
    "duration": 100,
    "start_time": "2024-04-24T15:36:28.469Z"
   },
   {
    "duration": 132,
    "start_time": "2024-04-24T15:36:28.571Z"
   },
   {
    "duration": 11,
    "start_time": "2024-04-24T15:36:28.704Z"
   },
   {
    "duration": 497,
    "start_time": "2024-04-24T15:36:28.717Z"
   },
   {
    "duration": 60,
    "start_time": "2024-04-24T15:36:29.216Z"
   },
   {
    "duration": 46,
    "start_time": "2024-04-24T15:36:29.278Z"
   },
   {
    "duration": 366,
    "start_time": "2024-04-24T15:36:29.326Z"
   },
   {
    "duration": 29,
    "start_time": "2024-04-24T15:36:29.693Z"
   },
   {
    "duration": 313,
    "start_time": "2024-04-24T15:36:29.724Z"
   },
   {
    "duration": 16,
    "start_time": "2024-04-24T15:36:30.038Z"
   },
   {
    "duration": 58,
    "start_time": "2024-04-24T15:36:30.055Z"
   },
   {
    "duration": 35,
    "start_time": "2024-04-24T15:36:30.114Z"
   },
   {
    "duration": 41,
    "start_time": "2024-04-24T15:36:30.151Z"
   },
   {
    "duration": 37,
    "start_time": "2024-04-24T15:36:30.194Z"
   },
   {
    "duration": 113,
    "start_time": "2024-04-24T15:36:30.233Z"
   },
   {
    "duration": 32,
    "start_time": "2024-04-24T15:36:30.348Z"
   },
   {
    "duration": 208,
    "start_time": "2024-04-24T15:36:30.381Z"
   },
   {
    "duration": 678,
    "start_time": "2024-04-24T15:36:30.591Z"
   },
   {
    "duration": 3,
    "start_time": "2024-04-24T15:36:31.271Z"
   },
   {
    "duration": 104,
    "start_time": "2024-04-24T15:36:31.276Z"
   },
   {
    "duration": 105,
    "start_time": "2024-04-24T15:36:31.382Z"
   },
   {
    "duration": 68,
    "start_time": "2024-04-24T15:36:31.489Z"
   },
   {
    "duration": 143,
    "start_time": "2024-04-24T15:36:31.559Z"
   },
   {
    "duration": 143,
    "start_time": "2024-04-24T15:36:31.704Z"
   },
   {
    "duration": 19,
    "start_time": "2024-04-24T15:36:31.849Z"
   },
   {
    "duration": 73,
    "start_time": "2024-04-24T15:36:31.870Z"
   },
   {
    "duration": 37,
    "start_time": "2024-04-24T15:36:31.945Z"
   },
   {
    "duration": 36,
    "start_time": "2024-04-24T15:36:31.984Z"
   },
   {
    "duration": 47,
    "start_time": "2024-04-24T15:36:32.022Z"
   },
   {
    "duration": 45,
    "start_time": "2024-04-24T15:36:32.071Z"
   },
   {
    "duration": 60,
    "start_time": "2024-04-24T15:36:32.120Z"
   },
   {
    "duration": 41,
    "start_time": "2024-04-24T15:36:32.181Z"
   },
   {
    "duration": 56,
    "start_time": "2024-04-24T15:36:32.224Z"
   },
   {
    "duration": 42,
    "start_time": "2024-04-24T15:36:32.282Z"
   },
   {
    "duration": 54,
    "start_time": "2024-04-24T15:36:32.326Z"
   },
   {
    "duration": 40,
    "start_time": "2024-04-24T15:36:32.382Z"
   },
   {
    "duration": 61,
    "start_time": "2024-04-24T15:36:32.424Z"
   },
   {
    "duration": 47,
    "start_time": "2024-04-24T15:36:32.487Z"
   },
   {
    "duration": 55,
    "start_time": "2024-04-24T15:36:32.536Z"
   },
   {
    "duration": 40,
    "start_time": "2024-04-24T15:36:32.593Z"
   },
   {
    "duration": 52,
    "start_time": "2024-04-24T15:36:32.635Z"
   },
   {
    "duration": 3,
    "start_time": "2024-04-24T15:36:32.689Z"
   },
   {
    "duration": 3,
    "start_time": "2024-04-24T15:36:39.432Z"
   },
   {
    "duration": 3,
    "start_time": "2024-04-24T15:38:47.032Z"
   },
   {
    "duration": 2,
    "start_time": "2024-04-24T15:38:47.784Z"
   },
   {
    "duration": 81,
    "start_time": "2024-04-24T15:41:28.565Z"
   },
   {
    "duration": 191,
    "start_time": "2024-04-24T15:41:37.237Z"
   },
   {
    "duration": 44,
    "start_time": "2024-04-24T15:41:41.120Z"
   },
   {
    "duration": 51,
    "start_time": "2024-04-24T15:41:42.423Z"
   },
   {
    "duration": 1277,
    "start_time": "2024-04-24T15:42:35.342Z"
   },
   {
    "duration": 178,
    "start_time": "2024-04-24T15:42:36.622Z"
   },
   {
    "duration": 5,
    "start_time": "2024-04-24T15:42:36.802Z"
   },
   {
    "duration": 205,
    "start_time": "2024-04-24T15:42:36.809Z"
   },
   {
    "duration": 5,
    "start_time": "2024-04-24T15:42:37.016Z"
   },
   {
    "duration": 20,
    "start_time": "2024-04-24T15:42:37.022Z"
   },
   {
    "duration": 78,
    "start_time": "2024-04-24T15:42:37.044Z"
   },
   {
    "duration": 56,
    "start_time": "2024-04-24T15:42:37.124Z"
   },
   {
    "duration": 24,
    "start_time": "2024-04-24T15:42:37.181Z"
   },
   {
    "duration": 5,
    "start_time": "2024-04-24T15:42:37.207Z"
   },
   {
    "duration": 63,
    "start_time": "2024-04-24T15:42:37.213Z"
   },
   {
    "duration": 92,
    "start_time": "2024-04-24T15:42:37.277Z"
   },
   {
    "duration": 10,
    "start_time": "2024-04-24T15:42:37.371Z"
   },
   {
    "duration": 255,
    "start_time": "2024-04-24T15:42:37.382Z"
   },
   {
    "duration": 11,
    "start_time": "2024-04-24T15:42:37.639Z"
   },
   {
    "duration": 38,
    "start_time": "2024-04-24T15:42:37.669Z"
   },
   {
    "duration": 362,
    "start_time": "2024-04-24T15:42:37.709Z"
   },
   {
    "duration": 31,
    "start_time": "2024-04-24T15:42:38.072Z"
   },
   {
    "duration": 304,
    "start_time": "2024-04-24T15:42:38.105Z"
   },
   {
    "duration": 13,
    "start_time": "2024-04-24T15:42:38.411Z"
   },
   {
    "duration": 10,
    "start_time": "2024-04-24T15:42:38.426Z"
   },
   {
    "duration": 5,
    "start_time": "2024-04-24T15:42:38.439Z"
   },
   {
    "duration": 24,
    "start_time": "2024-04-24T15:42:38.446Z"
   },
   {
    "duration": 31,
    "start_time": "2024-04-24T15:42:38.472Z"
   },
   {
    "duration": 51,
    "start_time": "2024-04-24T15:42:38.505Z"
   },
   {
    "duration": 17,
    "start_time": "2024-04-24T15:42:38.557Z"
   },
   {
    "duration": 13,
    "start_time": "2024-04-24T15:42:38.575Z"
   },
   {
    "duration": 683,
    "start_time": "2024-04-24T15:42:38.591Z"
   },
   {
    "duration": 2,
    "start_time": "2024-04-24T15:42:39.276Z"
   },
   {
    "duration": 15,
    "start_time": "2024-04-24T15:42:39.280Z"
   },
   {
    "duration": 88,
    "start_time": "2024-04-24T15:42:39.297Z"
   },
   {
    "duration": 88,
    "start_time": "2024-04-24T15:42:39.387Z"
   },
   {
    "duration": 5,
    "start_time": "2024-04-24T15:42:39.477Z"
   },
   {
    "duration": 17,
    "start_time": "2024-04-24T15:42:39.483Z"
   },
   {
    "duration": 12,
    "start_time": "2024-04-24T15:42:39.501Z"
   },
   {
    "duration": 11,
    "start_time": "2024-04-24T15:42:39.515Z"
   },
   {
    "duration": 85,
    "start_time": "2024-04-24T15:42:39.528Z"
   },
   {
    "duration": 92,
    "start_time": "2024-04-24T15:42:39.614Z"
   },
   {
    "duration": 93,
    "start_time": "2024-04-24T15:42:39.708Z"
   },
   {
    "duration": 92,
    "start_time": "2024-04-24T15:42:39.803Z"
   },
   {
    "duration": 97,
    "start_time": "2024-04-24T15:42:39.897Z"
   },
   {
    "duration": 94,
    "start_time": "2024-04-24T15:42:39.996Z"
   },
   {
    "duration": 93,
    "start_time": "2024-04-24T15:42:40.091Z"
   },
   {
    "duration": 92,
    "start_time": "2024-04-24T15:42:40.185Z"
   },
   {
    "duration": 41,
    "start_time": "2024-04-24T15:42:40.278Z"
   },
   {
    "duration": 58,
    "start_time": "2024-04-24T15:42:40.321Z"
   },
   {
    "duration": 40,
    "start_time": "2024-04-24T15:42:40.381Z"
   },
   {
    "duration": 58,
    "start_time": "2024-04-24T15:42:40.422Z"
   },
   {
    "duration": 57,
    "start_time": "2024-04-24T15:42:40.482Z"
   },
   {
    "duration": 57,
    "start_time": "2024-04-24T15:42:40.541Z"
   },
   {
    "duration": 40,
    "start_time": "2024-04-24T15:42:40.599Z"
   },
   {
    "duration": 58,
    "start_time": "2024-04-24T15:42:40.641Z"
   },
   {
    "duration": 4,
    "start_time": "2024-04-24T15:42:40.701Z"
   },
   {
    "duration": 20,
    "start_time": "2024-04-24T15:42:40.706Z"
   },
   {
    "duration": 4,
    "start_time": "2024-04-24T15:43:38.311Z"
   },
   {
    "duration": 1197,
    "start_time": "2024-04-24T15:44:08.216Z"
   },
   {
    "duration": 189,
    "start_time": "2024-04-24T15:44:09.415Z"
   },
   {
    "duration": 5,
    "start_time": "2024-04-24T15:44:09.606Z"
   },
   {
    "duration": 223,
    "start_time": "2024-04-24T15:44:09.613Z"
   },
   {
    "duration": 6,
    "start_time": "2024-04-24T15:44:09.837Z"
   },
   {
    "duration": 26,
    "start_time": "2024-04-24T15:44:09.845Z"
   },
   {
    "duration": 94,
    "start_time": "2024-04-24T15:44:09.873Z"
   },
   {
    "duration": 55,
    "start_time": "2024-04-24T15:44:09.969Z"
   },
   {
    "duration": 25,
    "start_time": "2024-04-24T15:44:10.026Z"
   },
   {
    "duration": 25,
    "start_time": "2024-04-24T15:44:10.054Z"
   },
   {
    "duration": 69,
    "start_time": "2024-04-24T15:44:10.081Z"
   },
   {
    "duration": 84,
    "start_time": "2024-04-24T15:44:10.151Z"
   },
   {
    "duration": 11,
    "start_time": "2024-04-24T15:44:10.236Z"
   },
   {
    "duration": 258,
    "start_time": "2024-04-24T15:44:10.249Z"
   },
   {
    "duration": 14,
    "start_time": "2024-04-24T15:44:10.509Z"
   },
   {
    "duration": 55,
    "start_time": "2024-04-24T15:44:10.524Z"
   },
   {
    "duration": 344,
    "start_time": "2024-04-24T15:44:10.581Z"
   },
   {
    "duration": 30,
    "start_time": "2024-04-24T15:44:10.927Z"
   },
   {
    "duration": 273,
    "start_time": "2024-04-24T15:44:10.969Z"
   },
   {
    "duration": 13,
    "start_time": "2024-04-24T15:44:11.244Z"
   },
   {
    "duration": 10,
    "start_time": "2024-04-24T15:44:11.269Z"
   },
   {
    "duration": 4,
    "start_time": "2024-04-24T15:44:11.280Z"
   },
   {
    "duration": 10,
    "start_time": "2024-04-24T15:44:11.286Z"
   },
   {
    "duration": 7,
    "start_time": "2024-04-24T15:44:11.297Z"
   },
   {
    "duration": 71,
    "start_time": "2024-04-24T15:44:11.306Z"
   },
   {
    "duration": 15,
    "start_time": "2024-04-24T15:44:11.379Z"
   },
   {
    "duration": 5,
    "start_time": "2024-04-24T15:44:11.395Z"
   },
   {
    "duration": 431,
    "start_time": "2024-04-24T15:44:11.403Z"
   },
   {
    "duration": 3,
    "start_time": "2024-04-24T15:44:11.836Z"
   },
   {
    "duration": 17,
    "start_time": "2024-04-24T15:44:11.840Z"
   },
   {
    "duration": 37,
    "start_time": "2024-04-24T15:44:11.870Z"
   },
   {
    "duration": 89,
    "start_time": "2024-04-24T15:44:11.908Z"
   },
   {
    "duration": 6,
    "start_time": "2024-04-24T15:44:12.000Z"
   },
   {
    "duration": 17,
    "start_time": "2024-04-24T15:44:12.008Z"
   },
   {
    "duration": 7,
    "start_time": "2024-04-24T15:44:12.028Z"
   },
   {
    "duration": 5,
    "start_time": "2024-04-24T15:44:12.037Z"
   },
   {
    "duration": 70,
    "start_time": "2024-04-24T15:44:12.044Z"
   },
   {
    "duration": 41,
    "start_time": "2024-04-24T15:44:12.116Z"
   },
   {
    "duration": 51,
    "start_time": "2024-04-24T15:44:12.170Z"
   },
   {
    "duration": 52,
    "start_time": "2024-04-24T15:44:12.222Z"
   },
   {
    "duration": 43,
    "start_time": "2024-04-24T15:44:12.276Z"
   },
   {
    "duration": 57,
    "start_time": "2024-04-24T15:44:12.321Z"
   },
   {
    "duration": 38,
    "start_time": "2024-04-24T15:44:12.379Z"
   },
   {
    "duration": 61,
    "start_time": "2024-04-24T15:44:12.418Z"
   },
   {
    "duration": 43,
    "start_time": "2024-04-24T15:44:12.480Z"
   },
   {
    "duration": 53,
    "start_time": "2024-04-24T15:44:12.525Z"
   },
   {
    "duration": 38,
    "start_time": "2024-04-24T15:44:12.579Z"
   },
   {
    "duration": 51,
    "start_time": "2024-04-24T15:44:12.619Z"
   },
   {
    "duration": 47,
    "start_time": "2024-04-24T15:44:12.671Z"
   },
   {
    "duration": 57,
    "start_time": "2024-04-24T15:44:12.720Z"
   },
   {
    "duration": 41,
    "start_time": "2024-04-24T15:44:12.779Z"
   },
   {
    "duration": 56,
    "start_time": "2024-04-24T15:44:12.821Z"
   },
   {
    "duration": 3,
    "start_time": "2024-04-24T15:44:12.878Z"
   }
  ],
  "kernelspec": {
   "display_name": "Python 3 (ipykernel)",
   "language": "python",
   "name": "python3"
  },
  "language_info": {
   "codemirror_mode": {
    "name": "ipython",
    "version": 3
   },
   "file_extension": ".py",
   "mimetype": "text/x-python",
   "name": "python",
   "nbconvert_exporter": "python",
   "pygments_lexer": "ipython3",
   "version": "3.12.4"
  },
  "toc": {
   "base_numbering": 1,
   "nav_menu": {},
   "number_sections": true,
   "sideBar": true,
   "skip_h1_title": true,
   "title_cell": "Table of Contents",
   "title_sidebar": "Contents",
   "toc_cell": false,
   "toc_position": {
    "height": "calc(100% - 180px)",
    "left": "10px",
    "top": "150px",
    "width": "465.449px"
   },
   "toc_section_display": true,
   "toc_window_display": true
  }
 },
 "nbformat": 4,
 "nbformat_minor": 4
}
